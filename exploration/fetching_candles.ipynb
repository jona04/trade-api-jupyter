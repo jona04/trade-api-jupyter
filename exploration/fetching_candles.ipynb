{
 "cells": [
  {
   "cell_type": "code",
   "execution_count": 6,
   "id": "6706835f-1c09-432b-a096-a1c6f4218203",
   "metadata": {},
   "outputs": [
    {
     "data": {
      "text/plain": [
       "False"
      ]
     },
     "execution_count": 6,
     "metadata": {},
     "output_type": "execute_result"
    }
   ],
   "source": [
    "import requests\n",
    "import pandas as pd\n",
    "import json\n",
    "import datetime as dt\n",
    "\n",
    "import os\n",
    "from dotenv import load_dotenv\n",
    "load_dotenv(\"../.env\")"
   ]
  },
  {
   "cell_type": "code",
   "execution_count": 7,
   "id": "1fe76f6e-c225-43fc-91ee-062ee2bcd8a7",
   "metadata": {},
   "outputs": [],
   "source": [
    "\n",
    "API_ID = os.environ.get(\"API_ID\")\n",
    "API_KEY = os.environ.get(\"API_KEY\")\n",
    "API_SECRET = os.environ.get(\"API_SECRET\")\n",
    "OPENFX_URL = os.environ.get(\"OPENFX_URL\")\n",
    "\n",
    "SECURE_HEADER = {\n",
    "    \"Authorization\": f\"Basic {API_ID}:{API_KEY}:{API_SECRET}\",\n",
    "    \"Content-Type\": \"application/json\",\n",
    "    \"Accept\": \"application/json\",\n",
    "}"
   ]
  },
  {
   "cell_type": "code",
   "execution_count": 8,
   "id": "5c9fe732-2d19-41a8-be7b-06d48e27e5d2",
   "metadata": {},
   "outputs": [],
   "source": [
    "session = requests.Session()\n",
    "session.headers.update(SECURE_HEADER)"
   ]
  },
  {
   "cell_type": "code",
   "execution_count": 9,
   "id": "4f679afe-2262-4a12-94de-d93fc58a0470",
   "metadata": {},
   "outputs": [],
   "source": [
    "full_url = lambda x: f\"{OPENFX_URL}/{x}\""
   ]
  },
  {
   "cell_type": "code",
   "execution_count": 10,
   "id": "51b0ea4b-d22c-4b03-b128-b3b835a61875",
   "metadata": {},
   "outputs": [
    {
     "data": {
      "text/plain": [
       "'https://marginalttdemowebapi.fxopen.net/api/v2/account'"
      ]
     },
     "execution_count": 10,
     "metadata": {},
     "output_type": "execute_result"
    }
   ],
   "source": [
    "full_url('account')"
   ]
  },
  {
   "cell_type": "code",
   "execution_count": 11,
   "id": "44832704-db06-4dae-af58-dec9508be95e",
   "metadata": {},
   "outputs": [],
   "source": [
    "resp = session.get(full_url('account'))\n"
   ]
  },
  {
   "cell_type": "code",
   "execution_count": 12,
   "id": "6c092389-7cc7-4b1e-a2c6-afc08c7117ee",
   "metadata": {},
   "outputs": [
    {
     "data": {
      "text/plain": [
       "200"
      ]
     },
     "execution_count": 12,
     "metadata": {},
     "output_type": "execute_result"
    }
   ],
   "source": [
    "resp.status_code"
   ]
  },
  {
   "cell_type": "code",
   "execution_count": 13,
   "id": "5dcf64a5-a57a-43a7-8526-9bd2e7e9a901",
   "metadata": {
    "scrolled": true
   },
   "outputs": [
    {
     "name": "stdout",
     "output_type": "stream",
     "text": [
      "{\n",
      "  \"Id\": 28501564,\n",
      "  \"AccountingType\": \"Gross\",\n",
      "  \"Name\": \"mauqbK8EqB\",\n",
      "  \"FirstName\": \"\",\n",
      "  \"LastName\": \"\",\n",
      "  \"Phone\": \"+5586981550215\",\n",
      "  \"Country\": \"BRAZIL\",\n",
      "  \"State\": \"\",\n",
      "  \"City\": \"\",\n",
      "  \"Address\": \"\",\n",
      "  \"ZipCode\": \"\",\n",
      "  \"Email\": \"jonatas.iw@gmail.com\",\n",
      "  \"Comment\": \"\",\n",
      "  \"Registered\": 1725839019376,\n",
      "  \"Modified\": 1727472676731,\n",
      "  \"IsArchived\": false,\n",
      "  \"IsBlocked\": false,\n",
      "  \"IsReadonly\": false,\n",
      "  \"IsValid\": true,\n",
      "  \"IsWebApiEnabled\": true,\n",
      "  \"Leverage\": 500,\n",
      "  \"Balance\": 9998.96,\n",
      "  \"BalanceCurrency\": \"USD\",\n",
      "  \"Profit\": -0.47,\n",
      "  \"Commission\": -0.03,\n",
      "  \"AgentCommission\": 0.0,\n",
      "  \"Swap\": -0.11,\n",
      "  \"Rebate\": 0.0,\n",
      "  \"Equity\": 9998.36,\n",
      "  \"Margin\": 2.24,\n",
      "  \"MarginLevel\": 447718.5,\n",
      "  \"MarginCallLevel\": 100,\n",
      "  \"StopOutLevel\": 50,\n",
      "  \"ReportCurrency\": \"USD\",\n",
      "  \"IsTokenCommissionEnabled\": false,\n",
      "  \"Throttling\": [\n",
      "    {\n",
      "      \"Protocol\": \"Rest\",\n",
      "      \"SessionsPerAccount\": 2,\n",
      "      \"RequestsPerSecond\": 5,\n",
      "      \"ThrottlingMethods\": [],\n",
      "      \"ConcurrentRequestCount\": 100\n",
      "    }\n",
      "  ],\n",
      "  \"IsLongOnly\": false\n",
      "}\n"
     ]
    }
   ],
   "source": [
    "print(json.dumps(resp.json(), indent=2))"
   ]
  },
  {
   "cell_type": "code",
   "execution_count": 14,
   "id": "6a3bc455-9f8c-40ae-b510-13a90fcac0a2",
   "metadata": {},
   "outputs": [
    {
     "name": "stdout",
     "output_type": "stream",
     "text": [
      "1300\n",
      "['#AUS200', '#AUS200_L', '#ESX50', '#ESX50_L', '#FCHI', '#FCHI_L', '#GDAXIm', '#GDAXIm_L', '#HSI', '#HSI_L', '#HSIUSD', '#HSIUSD_L', '#J225', '#J225_L', '#NDXm', '#NDXm_L', '#SPXm', '#SPXm_L', '#UK100', '#UK100_L', '#WS30m', '#WS30m_L', 'A', 'A_L', 'AAL', 'AAL_L', 'AAP', 'AAP_L', 'AAPL', 'AAPL_L', 'AAXN', 'AAXN_L', 'ABBV', 'ABBV_L', 'ABC', 'ABC_L', 'ABT', 'ABT_L', 'ACB', 'ACB_L', 'ACN', 'ACN_L', 'ADBE', 'ADBE_L', 'ADI', 'ADI_L', 'ADM', 'ADM_L', 'ADP', 'ADP_L', 'ADS', 'ADS_L', 'ADSK', 'ADSK_L', 'AEE', 'AEE_L', 'AEP', 'AEP_L', 'AES', 'AES_L', 'AFL', 'AFL_L', 'AGN', 'AGN_L', 'AI', 'AI_L', 'AIG', 'AIG_L', 'AIV', 'AIV_L', 'AIZ', 'AIZ_L', 'AJG', 'AJG_L', 'AKAM', 'AKAM_L', 'ALB', 'ALB_L', 'ALGN', 'ALGN_L', 'ALK', 'ALK_L', 'ALL', 'ALL_L', 'ALLE', 'ALLE_L', 'ALXN', 'ALXN_L', 'AMAT', 'AMAT_L', 'AMCR', 'AMCR_L', 'AMD', 'AMD_L', 'AME', 'AME_L', 'AMG', 'AMG_L', 'AMGN', 'AMGN_L', 'AMP', 'AMP_L', 'AMT', 'AMT_L', 'AMZN', 'AMZN_L', 'ANET', 'ANET_L', 'ANSS', 'ANSS_L', 'AON', 'AON_L', 'AOS', 'AOS_L', 'APA', 'APA_L', 'APD', 'APD_L', 'APH', 'APH_L', 'APTV', 'APTV_L', 'ARE', 'ARE_L', 'ARNC', 'ARNC_L', 'ATO', 'ATO_L', 'ATVI', 'ATVI_L', 'AUDCAD', 'AUDCAD_L', 'AUDCHF', 'AUDCHF_L', 'AUDHKD', 'AUDHKD_L', 'AUDJPY', 'AUDJPY_L', 'AUDNZD', 'AUDNZD_L', 'AUDUSD', 'AUDUSD_L', 'AVB', 'AVB_L', 'AVGO', 'AVGO_L', 'AVY', 'AVY_L', 'AWK', 'AWK_L', 'AXP', 'AXP_L', 'AZO', 'AZO_L', 'BA', 'BA_L', 'BABA', 'BABA_L', 'BAC', 'BAC_L', 'BAX', 'BAX_L', 'BBT', 'BBT_L', 'BBY', 'BBY_L', 'BCHBTC', 'BCHBTC_L', 'BCHUSD', 'BCHUSD_L', 'BDX', 'BDX_L', 'BEN', 'BEN_L', 'BF.B', 'BF.B_L', 'BIDU', 'BIDU_L', 'BIIB', 'BIIB_L', 'BILL', 'BILL_L', 'BK', 'BK_L', 'BKNG', 'BKNG_L', 'BKR', 'BKR_L', 'BLK', 'BLK_L', 'BLL', 'BLL_L', 'BMBL', 'BMBL_L', 'BMY', 'BMY_L', 'BR', 'BR_L', 'BRK.B', 'BRK.B_L', 'BSX', 'BSX_L', 'BTCCNH', 'BTCCNH_L', 'BTCEUR', 'BTCEUR_L', 'BTCGBP', 'BTCGBP_L', 'BTCJPY', 'BTCJPY_L', 'BTCUSD', 'BTCUSD_L', 'BWA', 'BWA_L', 'BXP', 'BXP_L', 'BYND', 'BYND_L', 'C', 'C_L', 'CADCHF', 'CADCHF_L', 'CADJPY', 'CADJPY_L', 'CAG', 'CAG_L', 'CAH', 'CAH_L', 'CAT', 'CAT_L', 'CB', 'CB_L', 'CBOE', 'CBOE_L', 'CBRE', 'CBRE_L', 'CBS', 'CBS_L', 'CCI', 'CCI_L', 'CCL', 'CCL_L', 'CDNS', 'CDNS_L', 'CDW', 'CDW_L', 'CE', 'CE_L', 'CELG', 'CELG_L', 'CF', 'CF_L', 'CFG', 'CFG_L', 'CGC', 'CGC_L', 'CHD', 'CHD_L', 'CHFJPY', 'CHFJPY_L', 'CHRW', 'CHRW_L', 'CHTR', 'CHTR_L', 'CI', 'CI_L', 'CINF', 'CINF_L', 'CL', 'CL_L', 'CLX', 'CLX_L', 'CMA', 'CMA_L', 'CMCSA', 'CMCSA_L', 'CME', 'CME_L', 'CMG', 'CMG_L', 'CMI', 'CMI_L', 'CMS', 'CMS_L', 'CNC', 'CNC_L', 'CNP', 'CNP_L', 'COF', 'COF_L', 'COG', 'COG_L', 'COO', 'COO_L', 'COP', 'COP_L', 'COST', 'COST_L', 'COTY', 'COTY_L', 'CPB', 'CPB_L', 'CPRI', 'CPRI_L', 'CPRT', 'CPRT_L', 'CRM', 'CRM_L', 'CRON', 'CRON_L', 'CRWD', 'CRWD_L', 'CSCO', 'CSCO_L', 'CSX', 'CSX_L', 'CTAS', 'CTAS_L', 'CTL', 'CTL_L', 'CTSH', 'CTSH_L', 'CTVA', 'CTVA_L', 'CVNA', 'CVNA_L', 'CVS', 'CVS_L', 'CVX', 'CVX_L', 'CXO', 'CXO_L', 'D', 'D_L', 'DAL', 'DAL_L', 'DD', 'DD_L', 'DDOG', 'DDOG_L', 'DE', 'DE_L', 'DFS', 'DFS_L', 'DG', 'DG_L', 'DGX', 'DGX_L', 'DHI', 'DHI_L', 'DHR', 'DHR_L', 'DIS', 'DIS_L', 'DISH', 'DISH_L', 'DLR', 'DLR_L', 'DLTR', 'DLTR_L', 'DOCU', 'DOCU_L', 'DOV', 'DOV_L', 'DOW', 'DOW_L', 'DRI', 'DRI_L', 'DSHBTC', 'DSHBTC_L', 'DSHUSD', 'DSHUSD_L', 'DTE', 'DTE_L', 'DUK', 'DUK_L', 'DVA', 'DVA_L', 'DVN', 'DVN_L', 'DXC', 'DXC_L', 'EA', 'EA_L', 'EBAY', 'EBAY_L', 'ECL', 'ECL_L', 'ED', 'ED_L', 'EFX', 'EFX_L', 'EIX', 'EIX_L', 'EL', 'EL_L', 'ELV', 'ELV_L', 'EMCBTC', 'EMCBTC_L', 'EMCUSD', 'EMCUSD_L', 'EMN', 'EMN_L', 'EMR', 'EMR_L', 'EOG', 'EOG_L', 'EOSBTC', 'EOSBTC_L', 'EOSEUR', 'EOSEUR_L', 'EOSGBP', 'EOSGBP_L', 'EOSJPY', 'EOSJPY_L', 'EOSUSD', 'EOSUSD_L', 'EQIX', 'EQIX_L', 'EQR', 'EQR_L', 'ES', 'ES_L', 'ESS', 'ESS_L', 'ETCBTC', 'ETCBTC_L', 'ETFC', 'ETFC_L', 'ETHBTC', 'ETHBTC_L', 'ETHEUR', 'ETHEUR_L', 'ETHJPY', 'ETHJPY_L', 'ETHRUB', 'ETHRUB_L', 'ETHUSD', 'ETHUSD_L', 'ETN', 'ETN_L', 'ETR', 'ETR_L', 'ETSY', 'ETSY_L', 'EURAUD', 'EURAUD_L', 'EURCAD', 'EURCAD_L', 'EURCHF', 'EURCHF_L', 'EURDKK', 'EURDKK_L', 'EURGBP', 'EURGBP_L', 'EURHKD', 'EURHKD_L', 'EURJPY', 'EURJPY_L', 'EURNOK', 'EURNOK_L', 'EURNZD', 'EURNZD_L', 'EURPLN', 'EURPLN_L', 'EURRUB', 'EURRUB_L', 'EURSEK', 'EURSEK_L', 'EURTRY', 'EURTRY_L', 'EURUSD', 'EURUSD_L', 'EVRG', 'EVRG_L', 'EW', 'EW_L', 'EXC', 'EXC_L', 'EXPD', 'EXPD_L', 'EXPE', 'EXPE_L', 'EXR', 'EXR_L', 'F', 'F_L', 'FANG', 'FANG_L', 'FAST', 'FAST_L', 'FB', 'FB_L', 'FCX', 'FCX_L', 'FDX', 'FDX_L', 'FE', 'FE_L', 'FFIV', 'FFIV_L', 'FIS', 'FIS_L', 'FISV', 'FISV_L', 'FITB', 'FITB_L', 'FLIR', 'FLIR_L', 'FLS', 'FLS_L', 'FLT', 'FLT_L', 'FMC', 'FMC_L', 'FOXA', 'FOXA_L', 'FRC', 'FRC_L', 'FRT', 'FRT_L', 'FSLR', 'FSLR_L', 'FSLY', 'FSLY_L', 'FTI', 'FTI_L', 'FTNT', 'FTNT_L', 'FTV', 'FTV_L', 'FVRR', 'FVRR_L', 'GBPAUD', 'GBPAUD_L', 'GBPCAD', 'GBPCAD_L', 'GBPCHF', 'GBPCHF_L', 'GBPHKD', 'GBPHKD_L', 'GBPJPY', 'GBPJPY_L', 'GBPNZD', 'GBPNZD_L', 'GBPSGD', 'GBPSGD_L', 'GBPUSD', 'GBPUSD_L', 'GCAP', 'GCAP_L', 'GD', 'GD_L', 'GE', 'GE_L', 'GILD', 'GILD_L', 'GIS', 'GIS_L', 'GL', 'GL_L', 'GLDUSD', 'GLDUSD_L', 'GLOB', 'GLOB_L', 'GLW', 'GLW_L', 'GM', 'GM_L', 'GOOGL', 'GOOGL_L', 'GPC', 'GPC_L', 'GPN', 'GPN_L', 'GPS', 'GPS_L', 'GRMN', 'GRMN_L', 'GS', 'GS_L', 'GWW', 'GWW_L', 'HAL', 'HAL_L', 'HAS', 'HAS_L', 'HBAN', 'HBAN_L', 'HBI', 'HBI_L', 'HCA', 'HCA_L', 'HCP', 'HCP_L', 'HD', 'HD_L', 'HES', 'HES_L', 'HFC', 'HFC_L', 'HIG', 'HIG_L', 'HII', 'HII_L', 'HKDJPY', 'HKDJPY_L', 'HLT', 'HLT_L', 'HOG', 'HOG_L', 'HOLX', 'HOLX_L', 'HON', 'HON_L', 'HP', 'HP_L', 'HPE', 'HPE_L', 'HPQ', 'HPQ_L', 'HRB', 'HRB_L', 'HRL', 'HRL_L', 'HSIC', 'HSIC_L', 'HST', 'HST_L', 'HSY', 'HSY_L', 'HUM', 'HUM_L', 'IBKR', 'IBKR_L', 'IBM', 'IBM_L', 'ICE', 'ICE_L', 'IDXX', 'IDXX_L', 'IEX', 'IEX_L', 'IFF', 'IFF_L', 'ILMN', 'ILMN_L', 'INCY', 'INCY_L', 'INTC', 'INTC_L', 'INTU', 'INTU_L', 'IONS', 'IONS_L', 'IOTBTC', 'IOTBTC_L', 'IP', 'IP_L', 'IPG', 'IPG_L', 'IPGP', 'IPGP_L', 'IQV', 'IQV_L', 'IR', 'IR_L', 'IRBT', 'IRBT_L', 'IRM', 'IRM_L', 'ISRG', 'ISRG_L', 'IT', 'IT_L', 'ITW', 'ITW_L', 'IVZ', 'IVZ_L', 'JBHT', 'JBHT_L', 'JCI', 'JCI_L', 'JEC', 'JEC_L', 'JEF', 'JEF_L', 'JKHY', 'JKHY_L', 'JKS', 'JKS_L', 'JMIA', 'JMIA_L', 'JNJ', 'JNJ_L', 'JNPR', 'JNPR_L', 'JPM', 'JPM_L', 'JWN', 'JWN_L', 'K', 'K_L', 'KEY', 'KEY_L', 'KEYS', 'KEYS_L', 'KHC', 'KHC_L', 'KIM', 'KIM_L', 'KLAC', 'KLAC_L', 'KMB', 'KMB_L', 'KMI', 'KMI_L', 'KMX', 'KMX_L', 'KO', 'KO_L', 'KR', 'KR_L', 'KSS', 'KSS_L', 'KSU', 'KSU_L', 'L', 'L_L', 'LB', 'LB_L', 'LDOS', 'LDOS_L', 'LEG', 'LEG_L', 'LEN', 'LEN_L', 'LH', 'LH_L', 'LHX', 'LHX_L', 'LIN', 'LIN_L', 'LKQ', 'LKQ_L', 'LLY', 'LLY_L', 'LMT', 'LMT_L', 'LNC', 'LNC_L', 'LNT', 'LNT_L', 'LOW', 'LOW_L', 'LRCX', 'LRCX_L', 'LTCBTC', 'LTCBTC_L', 'LTCCNH', 'LTCCNH_L', 'LTCEUR', 'LTCEUR_L', 'LTCJPY', 'LTCJPY_L', 'LTCRUB', 'LTCRUB_L', 'LTCUSD', 'LTCUSD_L', 'LUMN', 'LUMN_L', 'LUV', 'LUV_L', 'LW', 'LW_L', 'LYB', 'LYB_L', 'LYFT', 'LYFT_L', 'M', 'M_L', 'MA', 'MA_L', 'MAA', 'MAA_L', 'MAC', 'MAC_L', 'MAR', 'MAR_L', 'MAS', 'MAS_L', 'MC5USD', 'MC5USD_L', 'MCD', 'MCD_L', 'MCHP', 'MCHP_L', 'MCK', 'MCK_L', 'MCO', 'MCO_L', 'MDLZ', 'MDLZ_L', 'MDT', 'MDT_L', 'MET', 'MET_L', 'MGM', 'MGM_L', 'MHK', 'MHK_L', 'MKC', 'MKC_L', 'MKTX', 'MKTX_L', 'MLM', 'MLM_L', 'MMC', 'MMC_L', 'MMM', 'MMM_L', 'MNST', 'MNST_L', 'MO', 'MO_L', 'MOS', 'MOS_L', 'MPC', 'MPC_L', 'MRK', 'MRK_L', 'MRO', 'MRO_L', 'MS', 'MS_L', 'MSCI', 'MSCI_L', 'MSFT', 'MSFT_L', 'MSI', 'MSI_L', 'MSTR', 'MSTR_L', 'MTB', 'MTB_L', 'MTCH', 'MTCH_L', 'MTD', 'MTD_L', 'MTLS', 'MTLS_L', 'MU', 'MU_L', 'MXIM', 'MXIM_L', 'MYL', 'MYL_L', 'NBL', 'NBL_L', 'NCLH', 'NCLH_L', 'NDAQ', 'NDAQ_L', 'NEE', 'NEE_L', 'NEM', 'NEM_L', 'NEOBTC', 'NEOBTC_L', 'NFLX', 'NFLX_L', 'NI', 'NI_L', 'NIO', 'NIO_L', 'NKE', 'NKE_L', 'NKTR', 'NKTR_L', 'NLSN', 'NLSN_L', 'NOC', 'NOC_L', 'NOKJPY', 'NOKJPY_L', 'NOKSEK', 'NOKSEK_L', 'NOV', 'NOV_L', 'NRG', 'NRG_L', 'NSC', 'NSC_L', 'NTAP', 'NTAP_L', 'NTLA', 'NTLA_L', 'NTRS', 'NTRS_L', 'NUE', 'NUE_L', 'NVDA', 'NVDA_L', 'NVTA', 'NVTA_L', 'NWL', 'NWL_L', 'NWSA', 'NWSA_L', 'NZDCAD', 'NZDCAD_L', 'NZDCHF', 'NZDCHF_L', 'NZDJPY', 'NZDJPY_L', 'NZDSGD', 'NZDSGD_L', 'NZDUSD', 'NZDUSD_L', 'O', 'O_L', 'OKE', 'OKE_L', 'OMC', 'OMC_L', 'ORCL', 'ORCL_L', 'ORLY', 'ORLY_L', 'OXY', 'OXY_L', 'PANW', 'PANW_L', 'PAYX', 'PAYX_L', 'PCAR', 'PCAR_L', 'PEG', 'PEG_L', 'PEP', 'PEP_L', 'PFE', 'PFE_L', 'PFG', 'PFG_L', 'PG', 'PG_L', 'PGR', 'PGR_L', 'PH', 'PH_L', 'PHM', 'PHM_L', 'PKG', 'PKG_L', 'PKI', 'PKI_L', 'PLD', 'PLD_L', 'PLTR', 'PLTR_L', 'PLUG', 'PLUG_L', 'PM', 'PM_L', 'PNC', 'PNC_L', 'PNR', 'PNR_L', 'PNW', 'PNW_L', 'PPG', 'PPG_L', 'PPL', 'PPL_L', 'PRGO', 'PRGO_L', 'PRU', 'PRU_L', 'PSA', 'PSA_L', 'PSX', 'PSX_L', 'PVH', 'PVH_L', 'PWR', 'PWR_L', 'PXD', 'PXD_L', 'PYPL', 'PYPL_L', 'QCOM', 'QCOM_L', 'QRVO', 'QRVO_L', 'RCL', 'RCL_L', 'RE', 'RE_L', 'REG', 'REG_L', 'REGN', 'REGN_L', 'RF', 'RF_L', 'RHI', 'RHI_L', 'RJF', 'RJF_L', 'RL', 'RL_L', 'RMD', 'RMD_L', 'ROK', 'ROK_L', 'ROKU', 'ROKU_L', 'ROL', 'ROL_L', 'ROP', 'ROP_L', 'ROST', 'ROST_L', 'RSG', 'RSG_L', 'RTN', 'RTN_L', 'SBAC', 'SBAC_L', 'SBUX', 'SBUX_L', 'SCHW', 'SCHW_L', 'SEE', 'SEE_L', 'SGDJPY', 'SGDJPY_L', 'SHW', 'SHW_L', 'SIVB', 'SIVB_L', 'SJM', 'SJM_L', 'SLB', 'SLB_L', 'SLG', 'SLG_L', 'SMCI', 'SMCI_L', 'SNA', 'SNA_L', 'SNAP', 'SNAP_L', 'SNPS', 'SNPS_L', 'SO', 'SO_L', 'SPG', 'SPG_L', 'SPGI', 'SPGI_L', 'SQ', 'SQ_L', 'SQM', 'SQM_L', 'SRE', 'SRE_L', 'SSYS', 'SSYS_L', 'STI', 'STI_L', 'STT', 'STT_L', 'STX', 'STX_L', 'STZ', 'STZ_L', 'SWK', 'SWK_L', 'SWKS', 'SWKS_L', 'SYF', 'SYF_L', 'SYK', 'SYK_L', 'SYMC', 'SYMC_L', 'SYY', 'SYY_L', 'T', 'T_L', 'TAP', 'TAP_L', 'TDG', 'TDG_L', 'TDOC', 'TDOC_L', 'TEL', 'TEL_L', 'TFX', 'TFX_L', 'TGT', 'TGT_L', 'TIF', 'TIF_L', 'TJX', 'TJX_L', 'TMO', 'TMO_L', 'TMUS', 'TMUS_L', 'TPR', 'TPR_L', 'TRIP', 'TRIP_L', 'TROW', 'TROW_L', 'TRV', 'TRV_L', 'TSCO', 'TSCO_L', 'TSLA', 'TSLA_L', 'TSM', 'TSM_L', 'TSN', 'TSN_L', 'TTD', 'TTD_L', 'TTWO', 'TTWO_L', 'TXN', 'TXN_L', 'TXT', 'TXT_L', 'UAA', 'UAA_L', 'UAL', 'UAL_L', 'UBER', 'UBER_L', 'UDR', 'UDR_L', 'UHS', 'UHS_L', 'ULTA', 'ULTA_L', 'UNH', 'UNH_L', 'UNM', 'UNM_L', 'UNP', 'UNP_L', 'UPS', 'UPS_L', 'URI', 'URI_L', 'USB', 'USB_L', 'USDBRL', 'USDBRL_L', 'USDCAD', 'USDCAD_L', 'USDCHF', 'USDCHF_L', 'USDCNH', 'USDCNH_L', 'USDDKK', 'USDDKK_L', 'USDHKD', 'USDHKD_L', 'USDIDR', 'USDIDR_L', 'USDINR', 'USDINR_L', 'USDJPY', 'USDJPY_L', 'USDKRW', 'USDKRW_L', 'USDMXN', 'USDMXN_L', 'USDNOK', 'USDNOK_L', 'USDPHP', 'USDPHP_L', 'USDPLN', 'USDPLN_L', 'USDRUB', 'USDRUB_L', 'USDSEK', 'USDSEK_L', 'USDSGD', 'USDSGD_L', 'USDTHB', 'USDTHB_L', 'USDTRY', 'USDTRY_L', 'USDTWD', 'USDTWD_L', 'UTX', 'UTX_L', 'V', 'V_L', 'VAR', 'VAR_L', 'VFC', 'VFC_L', 'VIAB', 'VIAB_L', 'VLO', 'VLO_L', 'VMC', 'VMC_L', 'VNO', 'VNO_L', 'VRSK', 'VRSK_L', 'VRSN', 'VRSN_L', 'VRTX', 'VRTX_L', 'VTR', 'VTR_L', 'VZ', 'VZ_L', 'WAB', 'WAB_L', 'WAT', 'WAT_L', 'WBA', 'WBA_L', 'WCG', 'WCG_L', 'WDC', 'WDC_L', 'WEC', 'WEC_L', 'WELL', 'WELL_L', 'WFC', 'WFC_L', 'WHR', 'WHR_L', 'WLTW', 'WLTW_L', 'WM', 'WM_L', 'WMB', 'WMB_L', 'WMT', 'WMT_L', 'WU', 'WU_L', 'WY', 'WY_L', 'WYNN', 'WYNN_L', 'XAGUSD', 'XAGUSD_L', 'XAUUSD', 'XAUUSD_L', 'XBRUSD', 'XBRUSD_L', 'XEC', 'XEC_L', 'XEL', 'XEL_L', 'XMRBTC', 'XMRBTC_L', 'XNGUSD', 'XNGUSD_L', 'XOM', 'XOM_L', 'XRAY', 'XRAY_L', 'XRPBTC', 'XRPBTC_L', 'XRPEUR', 'XRPEUR_L', 'XRPUSD', 'XRPUSD_L', 'XRX', 'XRX_L', 'XTIUSD', 'XTIUSD_L', 'XYL', 'XYL_L', 'YUM', 'YUM_L', 'ZBH', 'ZBH_L', 'ZI', 'ZI_L', 'ZION', 'ZION_L', 'ZS', 'ZS_L', 'ZTS', 'ZTS_L']\n"
     ]
    }
   ],
   "source": [
    "# also we only want symbols where we can also load history data. For that there is the quotehistory/symbols\n",
    "resp = session.get(full_url('quotehistory/symbols'))\n",
    "his_symbol_data = resp.json()\n",
    "\n",
    "print(len(his_symbol_data))\n",
    "print(his_symbol_data)\n",
    "\n",
    "# you can probaby see, some of the instruments are appended with \"_L\"\n",
    "# in the API code we will filter for symbols that are in the symbol_data and are in his_symbol_data and do not have this L and have StatusGroupId==\"Forex\""
   ]
  },
  {
   "cell_type": "code",
   "execution_count": null,
   "id": "1ff83850-90bd-495a-a122-4989cf661cba",
   "metadata": {},
   "outputs": [],
   "source": []
  },
  {
   "cell_type": "code",
   "execution_count": 16,
   "id": "1953e054-652f-4d2e-928c-5ef2d4a6d703",
   "metadata": {},
   "outputs": [
    {
     "name": "stdout",
     "output_type": "stream",
     "text": [
      "['D1', 'H1', 'H4', 'M1', 'M15', 'M30', 'M5', 'MN1', 'S1', 'S10', 'W1']\n"
     ]
    }
   ],
   "source": [
    "# for a given instrument (symbol) we can get the available candle granularities\n",
    "resp = session.get(full_url('quotehistory/BTCEUR/periodicities'))\n",
    "print(resp.json())"
   ]
  },
  {
   "cell_type": "code",
   "execution_count": null,
   "id": "6cdecf98-b297-46cc-93e3-31c90d5f50f2",
   "metadata": {},
   "outputs": [],
   "source": []
  },
  {
   "cell_type": "code",
   "execution_count": 17,
   "id": "d7280a54-8db4-49c1-a861-c5632f9ccded",
   "metadata": {},
   "outputs": [],
   "source": [
    "LABEL_MAP = {\n",
    "    'Open': 'o',\n",
    "    'High': 'h',\n",
    "    'Low': 'l',\n",
    "    'Close': 'c',\n",
    "}\n",
    "\n",
    "# normal params\n",
    "count = -10\n",
    "granularity = \"M1\"\n",
    "pair = \"BTCEUR\"\n",
    "\n",
    "# how far do we need to go back to get our candles\n",
    "params = dict(\n",
    "    timestamp=int(pd.Timestamp(dt.datetime.now(dt.UTC)).timestamp() * 1000),\n",
    "    count=count\n",
    ")\n",
    "\n",
    "url = full_url(f'quotehistory/{pair}/{granularity}/bars/bid')\n",
    "bid_data = session.get(url, params=params).json()\n",
    "\n",
    "url = full_url(f'quotehistory/{pair}/{granularity}/bars/ask')\n",
    "ask_data = session.get(url, params=params).json()\n"
   ]
  },
  {
   "cell_type": "code",
   "execution_count": 18,
   "id": "17292bfb-3576-4732-be13-90663143b866",
   "metadata": {
    "scrolled": true
   },
   "outputs": [
    {
     "data": {
      "text/plain": [
       "{'From': 1727482440000,\n",
       " 'To': 1727482980000,\n",
       " 'Bars': [{'Timestamp': 1727482440000,\n",
       "   'Open': 58945.132,\n",
       "   'High': 58950.636,\n",
       "   'Low': 58932.481,\n",
       "   'Close': 58950.621,\n",
       "   'Volume': 34.0},\n",
       "  {'Timestamp': 1727482500000,\n",
       "   'Open': 58950.616,\n",
       "   'High': 58955.219,\n",
       "   'Low': 58950.611,\n",
       "   'Close': 58955.219,\n",
       "   'Volume': 5.0},\n",
       "  {'Timestamp': 1727482560000,\n",
       "   'Open': 58956.224,\n",
       "   'High': 58961.338,\n",
       "   'Low': 58955.809,\n",
       "   'Close': 58956.844,\n",
       "   'Volume': 29.0},\n",
       "  {'Timestamp': 1727482620000,\n",
       "   'Open': 58956.849,\n",
       "   'High': 58966.485,\n",
       "   'Low': 58953.305,\n",
       "   'Close': 58962.281,\n",
       "   'Volume': 38.0},\n",
       "  {'Timestamp': 1727482680000,\n",
       "   'Open': 58962.276,\n",
       "   'High': 58969.816,\n",
       "   'Low': 58962.276,\n",
       "   'Close': 58969.816,\n",
       "   'Volume': 43.0},\n",
       "  {'Timestamp': 1727482740000,\n",
       "   'Open': 58969.919,\n",
       "   'High': 58969.919,\n",
       "   'Low': 58958.803,\n",
       "   'Close': 58963.785,\n",
       "   'Volume': 29.0},\n",
       "  {'Timestamp': 1727482800000,\n",
       "   'Open': 58963.786,\n",
       "   'High': 58965.786,\n",
       "   'Low': 58942.458,\n",
       "   'Close': 58950.431,\n",
       "   'Volume': 49.0},\n",
       "  {'Timestamp': 1727482860000,\n",
       "   'Open': 58950.536,\n",
       "   'High': 58950.872,\n",
       "   'Low': 58929.562,\n",
       "   'Close': 58931.599,\n",
       "   'Volume': 42.0},\n",
       "  {'Timestamp': 1727482920000,\n",
       "   'Open': 58931.604,\n",
       "   'High': 58940.339,\n",
       "   'Low': 58921.139,\n",
       "   'Close': 58925.089,\n",
       "   'Volume': 45.0},\n",
       "  {'Timestamp': 1727482980000,\n",
       "   'Open': 58925.099,\n",
       "   'High': 58925.316,\n",
       "   'Low': 58925.084,\n",
       "   'Close': 58925.316,\n",
       "   'Volume': 5.0}],\n",
       " 'Symbol': 'BTCEUR',\n",
       " 'AvailableFrom': 1351814400000,\n",
       " 'AvailableTo': 1727482980000,\n",
       " 'LastTickId': '2024.09.28 00:23:07.883'}"
      ]
     },
     "execution_count": 18,
     "metadata": {},
     "output_type": "execute_result"
    }
   ],
   "source": [
    "bid_data"
   ]
  },
  {
   "cell_type": "code",
   "execution_count": 14,
   "id": "d980f7a1-528a-4528-911e-b41f7250fcb5",
   "metadata": {},
   "outputs": [],
   "source": [
    "# a little utility to take in a candle and return it as and object\n",
    "# for example, if we are working with bid prices\n",
    "# price_label='bid'\n",
    "# item= {'Volume': 1476, 'Close': 1.06064,  'Low': 1.06054,  'High': 1.06104,  'Open': 1.06081,  'Timestamp': 1677535200000}\n",
    "# the returned object is: { 'time': datetime, 'bid_c': 1.06064,  'bid_l': 1.06054,  'bid_h': 1.06104,  'bid_o': 1.06081 }\n",
    "def get_price_dict(price_label: str, item):\n",
    "        data = dict(time=pd.to_datetime(item['Timestamp'], unit='ms'))\n",
    "        for ohlc in LABEL_MAP.keys():\n",
    "            data[f\"{price_label}_{LABEL_MAP[ohlc]}\"]=item[ohlc]\n",
    "        return data"
   ]
  },
  {
   "cell_type": "code",
   "execution_count": 15,
   "id": "74a535d8-9636-4229-a0e6-a671ce6896c0",
   "metadata": {},
   "outputs": [],
   "source": [
    "# let's make the lists of objects\n",
    "AvailableTo = pd.to_datetime(bid_data['AvailableTo'], unit='ms')\n",
    "\n",
    "bids = [get_price_dict('bid', item) for item in bid_data[\"Bars\"]]\n",
    "asks = [get_price_dict('ask', item) for item in ask_data[\"Bars\"]]"
   ]
  },
  {
   "cell_type": "code",
   "execution_count": 16,
   "id": "a5bbf207-fa05-4cf3-a1f1-055f80d5e118",
   "metadata": {},
   "outputs": [],
   "source": [
    "# now merge on time - the assumption here is we have the same time values for both. it would be weird if we didn't\n",
    "df_bid = pd.DataFrame.from_dict(bids)\n",
    "df_ask = pd.DataFrame.from_dict(asks)\n",
    "df_merged = pd.merge(left=df_bid, right=df_ask, on='time')   "
   ]
  },
  {
   "cell_type": "code",
   "execution_count": 17,
   "id": "0da260e1-7755-468b-ae88-7e34f1c45315",
   "metadata": {},
   "outputs": [],
   "source": [
    "# FINALLY calcuate the mid, and we are done\n",
    "for i in ['_o', '_h', '_l', '_c']:\n",
    "    df_merged[f'mid{i}'] = (df_merged[f'ask{i}'] - df_merged[f'bid{i}']) / 2 + df_merged[f'bid{i}']"
   ]
  },
  {
   "cell_type": "code",
   "execution_count": 20,
   "id": "074fb80b-3419-406e-8fad-cb34c344f14b",
   "metadata": {},
   "outputs": [],
   "source": [
    "if count < 0 and df_merged.shape[0] > 0 and df_merged.iloc[-1].time == AvailableTo:\n",
    "    df_merged = df_merged[:-1]"
   ]
  },
  {
   "cell_type": "code",
   "execution_count": 21,
   "id": "74cc5fe9-81eb-4fb0-9ae6-fc31dcdc609b",
   "metadata": {},
   "outputs": [
    {
     "data": {
      "text/html": [
       "<div>\n",
       "<style scoped>\n",
       "    .dataframe tbody tr th:only-of-type {\n",
       "        vertical-align: middle;\n",
       "    }\n",
       "\n",
       "    .dataframe tbody tr th {\n",
       "        vertical-align: top;\n",
       "    }\n",
       "\n",
       "    .dataframe thead th {\n",
       "        text-align: right;\n",
       "    }\n",
       "</style>\n",
       "<table border=\"1\" class=\"dataframe\">\n",
       "  <thead>\n",
       "    <tr style=\"text-align: right;\">\n",
       "      <th></th>\n",
       "      <th>time</th>\n",
       "      <th>bid_o</th>\n",
       "      <th>bid_h</th>\n",
       "      <th>bid_l</th>\n",
       "      <th>bid_c</th>\n",
       "      <th>ask_o</th>\n",
       "      <th>ask_h</th>\n",
       "      <th>ask_l</th>\n",
       "      <th>ask_c</th>\n",
       "      <th>mid_o</th>\n",
       "      <th>mid_h</th>\n",
       "      <th>mid_l</th>\n",
       "      <th>mid_c</th>\n",
       "    </tr>\n",
       "  </thead>\n",
       "  <tbody>\n",
       "    <tr>\n",
       "      <th>0</th>\n",
       "      <td>2024-09-09 16:00:00</td>\n",
       "      <td>1.10414</td>\n",
       "      <td>1.10461</td>\n",
       "      <td>1.10414</td>\n",
       "      <td>1.10449</td>\n",
       "      <td>1.10416</td>\n",
       "      <td>1.10460</td>\n",
       "      <td>1.10416</td>\n",
       "      <td>1.10450</td>\n",
       "      <td>1.104150</td>\n",
       "      <td>1.104605</td>\n",
       "      <td>1.104150</td>\n",
       "      <td>1.104495</td>\n",
       "    </tr>\n",
       "    <tr>\n",
       "      <th>1</th>\n",
       "      <td>2024-09-09 16:15:00</td>\n",
       "      <td>1.10448</td>\n",
       "      <td>1.10487</td>\n",
       "      <td>1.10445</td>\n",
       "      <td>1.10481</td>\n",
       "      <td>1.10448</td>\n",
       "      <td>1.10489</td>\n",
       "      <td>1.10447</td>\n",
       "      <td>1.10483</td>\n",
       "      <td>1.104480</td>\n",
       "      <td>1.104880</td>\n",
       "      <td>1.104460</td>\n",
       "      <td>1.104820</td>\n",
       "    </tr>\n",
       "    <tr>\n",
       "      <th>2</th>\n",
       "      <td>2024-09-09 16:30:00</td>\n",
       "      <td>1.10480</td>\n",
       "      <td>1.10499</td>\n",
       "      <td>1.10470</td>\n",
       "      <td>1.10486</td>\n",
       "      <td>1.10482</td>\n",
       "      <td>1.10501</td>\n",
       "      <td>1.10471</td>\n",
       "      <td>1.10488</td>\n",
       "      <td>1.104810</td>\n",
       "      <td>1.105000</td>\n",
       "      <td>1.104705</td>\n",
       "      <td>1.104870</td>\n",
       "    </tr>\n",
       "    <tr>\n",
       "      <th>3</th>\n",
       "      <td>2024-09-09 16:45:00</td>\n",
       "      <td>1.10487</td>\n",
       "      <td>1.10507</td>\n",
       "      <td>1.10474</td>\n",
       "      <td>1.10487</td>\n",
       "      <td>1.10488</td>\n",
       "      <td>1.10509</td>\n",
       "      <td>1.10475</td>\n",
       "      <td>1.10488</td>\n",
       "      <td>1.104875</td>\n",
       "      <td>1.105080</td>\n",
       "      <td>1.104745</td>\n",
       "      <td>1.104875</td>\n",
       "    </tr>\n",
       "    <tr>\n",
       "      <th>4</th>\n",
       "      <td>2024-09-09 17:00:00</td>\n",
       "      <td>1.10487</td>\n",
       "      <td>1.10531</td>\n",
       "      <td>1.10481</td>\n",
       "      <td>1.10529</td>\n",
       "      <td>1.10489</td>\n",
       "      <td>1.10527</td>\n",
       "      <td>1.10482</td>\n",
       "      <td>1.10527</td>\n",
       "      <td>1.104880</td>\n",
       "      <td>1.105290</td>\n",
       "      <td>1.104815</td>\n",
       "      <td>1.105280</td>\n",
       "    </tr>\n",
       "    <tr>\n",
       "      <th>5</th>\n",
       "      <td>2024-09-09 17:15:00</td>\n",
       "      <td>1.10527</td>\n",
       "      <td>1.10531</td>\n",
       "      <td>1.10512</td>\n",
       "      <td>1.10517</td>\n",
       "      <td>1.10527</td>\n",
       "      <td>1.10527</td>\n",
       "      <td>1.10514</td>\n",
       "      <td>1.10519</td>\n",
       "      <td>1.105270</td>\n",
       "      <td>1.105290</td>\n",
       "      <td>1.105130</td>\n",
       "      <td>1.105180</td>\n",
       "    </tr>\n",
       "    <tr>\n",
       "      <th>6</th>\n",
       "      <td>2024-09-09 17:30:00</td>\n",
       "      <td>1.10516</td>\n",
       "      <td>1.10529</td>\n",
       "      <td>1.10489</td>\n",
       "      <td>1.10489</td>\n",
       "      <td>1.10518</td>\n",
       "      <td>1.10527</td>\n",
       "      <td>1.10485</td>\n",
       "      <td>1.10488</td>\n",
       "      <td>1.105170</td>\n",
       "      <td>1.105280</td>\n",
       "      <td>1.104870</td>\n",
       "      <td>1.104885</td>\n",
       "    </tr>\n",
       "    <tr>\n",
       "      <th>7</th>\n",
       "      <td>2024-09-09 17:45:00</td>\n",
       "      <td>1.10489</td>\n",
       "      <td>1.10493</td>\n",
       "      <td>1.10434</td>\n",
       "      <td>1.10435</td>\n",
       "      <td>1.10489</td>\n",
       "      <td>1.10494</td>\n",
       "      <td>1.10435</td>\n",
       "      <td>1.10436</td>\n",
       "      <td>1.104890</td>\n",
       "      <td>1.104935</td>\n",
       "      <td>1.104345</td>\n",
       "      <td>1.104355</td>\n",
       "    </tr>\n",
       "    <tr>\n",
       "      <th>8</th>\n",
       "      <td>2024-09-09 18:00:00</td>\n",
       "      <td>1.10436</td>\n",
       "      <td>1.10446</td>\n",
       "      <td>1.10414</td>\n",
       "      <td>1.10425</td>\n",
       "      <td>1.10437</td>\n",
       "      <td>1.10448</td>\n",
       "      <td>1.10416</td>\n",
       "      <td>1.10427</td>\n",
       "      <td>1.104365</td>\n",
       "      <td>1.104470</td>\n",
       "      <td>1.104150</td>\n",
       "      <td>1.104260</td>\n",
       "    </tr>\n",
       "  </tbody>\n",
       "</table>\n",
       "</div>"
      ],
      "text/plain": [
       "                 time    bid_o    bid_h    bid_l    bid_c    ask_o    ask_h  \\\n",
       "0 2024-09-09 16:00:00  1.10414  1.10461  1.10414  1.10449  1.10416  1.10460   \n",
       "1 2024-09-09 16:15:00  1.10448  1.10487  1.10445  1.10481  1.10448  1.10489   \n",
       "2 2024-09-09 16:30:00  1.10480  1.10499  1.10470  1.10486  1.10482  1.10501   \n",
       "3 2024-09-09 16:45:00  1.10487  1.10507  1.10474  1.10487  1.10488  1.10509   \n",
       "4 2024-09-09 17:00:00  1.10487  1.10531  1.10481  1.10529  1.10489  1.10527   \n",
       "5 2024-09-09 17:15:00  1.10527  1.10531  1.10512  1.10517  1.10527  1.10527   \n",
       "6 2024-09-09 17:30:00  1.10516  1.10529  1.10489  1.10489  1.10518  1.10527   \n",
       "7 2024-09-09 17:45:00  1.10489  1.10493  1.10434  1.10435  1.10489  1.10494   \n",
       "8 2024-09-09 18:00:00  1.10436  1.10446  1.10414  1.10425  1.10437  1.10448   \n",
       "\n",
       "     ask_l    ask_c     mid_o     mid_h     mid_l     mid_c  \n",
       "0  1.10416  1.10450  1.104150  1.104605  1.104150  1.104495  \n",
       "1  1.10447  1.10483  1.104480  1.104880  1.104460  1.104820  \n",
       "2  1.10471  1.10488  1.104810  1.105000  1.104705  1.104870  \n",
       "3  1.10475  1.10488  1.104875  1.105080  1.104745  1.104875  \n",
       "4  1.10482  1.10527  1.104880  1.105290  1.104815  1.105280  \n",
       "5  1.10514  1.10519  1.105270  1.105290  1.105130  1.105180  \n",
       "6  1.10485  1.10488  1.105170  1.105280  1.104870  1.104885  \n",
       "7  1.10435  1.10436  1.104890  1.104935  1.104345  1.104355  \n",
       "8  1.10416  1.10427  1.104365  1.104470  1.104150  1.104260  "
      ]
     },
     "execution_count": 21,
     "metadata": {},
     "output_type": "execute_result"
    }
   ],
   "source": [
    "df_merged"
   ]
  },
  {
   "cell_type": "code",
   "execution_count": null,
   "id": "08cbddea-7507-4944-b9ec-ffac581ab873",
   "metadata": {},
   "outputs": [],
   "source": []
  },
  {
   "cell_type": "code",
   "execution_count": 54,
   "id": "2151e025-b3cf-4689-80b4-f3543efdf978",
   "metadata": {},
   "outputs": [],
   "source": [
    "def fetch_candles(pair, count=-10, granularity=\"H1\"):\n",
    "    # how far do we need to go back to get our candles\n",
    "    params = dict(\n",
    "        timestamp=int(pd.Timestamp(dt.datetime.now(dt.UTC)).timestamp() * 1000),\n",
    "        count=count\n",
    "    )\n",
    "    url = full_url(f'quotehistory/{pair}/{granularity}/bars/bid')\n",
    "    response_bid_data = session.get(url, params=params)\n",
    "    bid_data = response_bid_data.json()\n",
    "    \n",
    "    if response_bid_data.status_code == 200:\n",
    "        if 'Bars' not in bid_data:\n",
    "            bid_data = []\n",
    "        else:\n",
    "            bid_data = bid_data\n",
    "\n",
    "\n",
    "    url = full_url(f'quotehistory/{pair}/{granularity}/bars/ask')\n",
    "    response_ask_data = session.get(url, params=params)\n",
    "    ask_data = response_ask_data.json()\n",
    "    \n",
    "    if response_ask_data.status_code == 200:\n",
    "        if 'Bars' not in ask_data:\n",
    "            ask_data = []\n",
    "        else:\n",
    "            ask_data = ask_data\n",
    "\n",
    "    return response_bid_data.status_code, response_ask_data.status_code, bid_data, ask_data\n",
    "    \n",
    "    \n"
   ]
  },
  {
   "cell_type": "code",
   "execution_count": 55,
   "id": "e7fded76-81d5-48ad-9596-df6f13320fe7",
   "metadata": {},
   "outputs": [],
   "source": [
    "def merge_bid_ask(bid_data, ask_data):\n",
    "    \n",
    "    bids = [get_price_dict('bid', item) for item in bid_data['Bars']]\n",
    "    asks = [get_price_dict('ask', item) for item in ask_data['Bars']]\n",
    "    \n",
    "    # now merge on time - the assumption here is we have the same time values for both. it would be weird if we didn't\n",
    "    df_bid = pd.DataFrame.from_dict(bids)\n",
    "    df_ask = pd.DataFrame.from_dict(asks)\n",
    "    df_merged = pd.merge(left=df_bid, right=df_ask, on='time')   \n",
    "    \n",
    "    # FINALLY calcuate the mid, and we are done\n",
    "    for i in ['_o', '_h', '_l', '_c']:\n",
    "        df_merged[f'mid{i}'] = (df_merged[f'ask{i}'] - df_merged[f'bid{i}']) / 2 + df_merged[f'bid{i}']\n",
    "    \n",
    "    \n",
    "    if count < 0 and df_merged.shape[0] > 0 and df_merged.iloc[-1].time == AvailableTo:\n",
    "        df_merged = df_merged[:-1]\n",
    "\n",
    "    return df_merged\n",
    "\n"
   ]
  },
  {
   "cell_type": "code",
   "execution_count": 74,
   "id": "c34cee3f-9c37-4fc7-9767-4872b63958e4",
   "metadata": {},
   "outputs": [],
   "source": [
    "def create_data_file(pair, count=-10, granularity='H1'):\n",
    "    code_bid, code_ask, bid_data, ask_data = fetch_candles(pair, count=count, granularity=granularity)\n",
    "    if (code_bid == 200 and code_ask == 200) and (len(bid_data) == len(ask_data)):\n",
    "        df_merged = merge_bid_ask(bid_data, ask_data)\n",
    "\n",
    "    if len(df_merged) == 0:\n",
    "        print(\"No candles\")\n",
    "    df_merged.to_pickle(f\"./data/{pair}_{granularity}.pkl\")\n",
    "    print(f\"{pair} {granularity} {df_merged.shape[0]} {df_merged.time.min()} {df_merged.time.max()}\")"
   ]
  },
  {
   "cell_type": "code",
   "execution_count": 75,
   "id": "ddd5007d-0196-4a0d-98af-596259f81ae9",
   "metadata": {},
   "outputs": [],
   "source": [
    "# code_bid, code_ask, bid_data, ask_data = fetch_candles('EURUSD', count=-20, granularity='M15')"
   ]
  },
  {
   "cell_type": "code",
   "execution_count": 76,
   "id": "f48a8b02-bedf-45a9-a3e5-5a1cb24210f1",
   "metadata": {},
   "outputs": [],
   "source": [
    "# if (code_bid == 200 and code_ask == 200) and (len(bid_data) == len(ask_data)):\n",
    "#     df_merged = merge_bid_ask(bid_data, ask_data)"
   ]
  },
  {
   "cell_type": "code",
   "execution_count": 81,
   "id": "dfb27552-823d-4c56-ba7a-333160e2826d",
   "metadata": {},
   "outputs": [],
   "source": [
    "# create_data_file(\"EURUSD\", count=-10, granularity='H1')"
   ]
  },
  {
   "cell_type": "code",
   "execution_count": 82,
   "id": "43e4ecba-4e22-4242-9b51-ed8eee7900d7",
   "metadata": {
    "scrolled": true
   },
   "outputs": [
    {
     "name": "stdout",
     "output_type": "stream",
     "text": [
      "USDJPY H1 1000 2024-07-12 04:00:00 2024-09-09 19:00:00\n",
      "GBPUSD H1 1000 2024-07-12 04:00:00 2024-09-09 19:00:00\n",
      "GBPJPY H1 1000 2024-07-12 04:00:00 2024-09-09 19:00:00\n",
      "EURUSD H1 1000 2024-07-12 04:00:00 2024-09-09 19:00:00\n",
      "EURGBP H1 1000 2024-07-12 04:00:00 2024-09-09 19:00:00\n",
      "EURJPY H1 1000 2024-07-12 04:00:00 2024-09-09 19:00:00\n"
     ]
    }
   ],
   "source": [
    "our_cur = ['USD', 'GBP', 'JPY', 'EUR']\n",
    "for p1 in our_cur:\n",
    "    for p2 in our_cur:\n",
    "        pr = f\"{p1}{p2}\"\n",
    "        if pr in his_symbol_data:\n",
    "            create_data_file(pr, count=-1000, granularity='H1')"
   ]
  },
  {
   "cell_type": "code",
   "execution_count": null,
   "id": "a00931b5-0d49-4cdd-9027-5a288627e258",
   "metadata": {},
   "outputs": [],
   "source": []
  },
  {
   "cell_type": "code",
   "execution_count": null,
   "id": "e31f1b01-1d2d-4ff9-84d2-ca760b35571e",
   "metadata": {},
   "outputs": [],
   "source": []
  },
  {
   "cell_type": "code",
   "execution_count": null,
   "id": "9d72a5e8-80b4-468a-98ca-72caca1913c4",
   "metadata": {},
   "outputs": [],
   "source": []
  },
  {
   "cell_type": "code",
   "execution_count": null,
   "id": "8ee57dad-060b-42d2-b031-24fec292f27e",
   "metadata": {},
   "outputs": [],
   "source": []
  },
  {
   "cell_type": "code",
   "execution_count": null,
   "id": "a9e140dc-7404-4372-b6f7-085a8f5c0e83",
   "metadata": {},
   "outputs": [],
   "source": []
  }
 ],
 "metadata": {
  "kernelspec": {
   "display_name": "Python 3 (ipykernel)",
   "language": "python",
   "name": "python3"
  },
  "language_info": {
   "codemirror_mode": {
    "name": "ipython",
    "version": 3
   },
   "file_extension": ".py",
   "mimetype": "text/x-python",
   "name": "python",
   "nbconvert_exporter": "python",
   "pygments_lexer": "ipython3",
   "version": "3.12.4"
  }
 },
 "nbformat": 4,
 "nbformat_minor": 5
}
