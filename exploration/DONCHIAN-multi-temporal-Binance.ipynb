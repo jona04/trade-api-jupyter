{
 "cells": [
  {
   "cell_type": "code",
   "execution_count": 1,
   "id": "12a55d6e-2ec2-4d0c-9c32-54944d6566b6",
   "metadata": {},
   "outputs": [],
   "source": [
    "import sys\n",
    "sys.path.append(\"../\")"
   ]
  },
  {
   "cell_type": "code",
   "execution_count": 2,
   "id": "4fda4174-b72c-49cf-a035-402ccc664e76",
   "metadata": {},
   "outputs": [],
   "source": [
    "import pandas as pd\n",
    "import plotly.graph_objects as go\n",
    "from technicals.indicators import RSI\n",
    "from technicals.patterns import apply_patterns\n",
    "from plotting import CandlePlot\n",
    "import numpy as np\n",
    "\n",
    "from infrastructure.quotehistory_collection import quotehistoryCollection as qc\n",
    "\n",
    "from simulation.donchian_trend_binance import DonchianTrend\n",
    "from simulation.donchian_reverse_binance import DonchianReverse\n"
   ]
  },
  {
   "cell_type": "code",
   "execution_count": 3,
   "id": "54febdab-c3c3-4bbf-a2ff-faae81da90ca",
   "metadata": {},
   "outputs": [],
   "source": [
    "from multiprocessing import Process, Manager\n",
    "import pickle\n",
    "import warnings\n",
    "warnings.filterwarnings('ignore')"
   ]
  },
  {
   "cell_type": "code",
   "execution_count": null,
   "id": "7dcf8659-2bee-44e4-97e1-7a9d95178a38",
   "metadata": {},
   "outputs": [],
   "source": []
  },
  {
   "cell_type": "code",
   "execution_count": null,
   "id": "1cdd8eaf-596b-4340-a74f-6b4e7beaa7d5",
   "metadata": {},
   "outputs": [],
   "source": []
  },
  {
   "cell_type": "code",
   "execution_count": null,
   "id": "8428bbd6-6f36-4cfe-b8ca-82d71e010335",
   "metadata": {},
   "outputs": [],
   "source": []
  },
  {
   "cell_type": "code",
   "execution_count": 4,
   "id": "757883d4-fabe-43eb-8bba-69caed5989e6",
   "metadata": {},
   "outputs": [],
   "source": [
    "def run_pair(pair,granularity,ema_1 = 10,donchian_window = 10000, donchian_window_prev = 100, \n",
    "             tp=0.01, sl=0.01, donchian_up_signals=[1,3,5,7]):\n",
    "    df = pd.read_pickle(f\"crypto/{pair}_{granularity}.pkl\")\n",
    "    df.reset_index(drop=True, inplace=True)\n",
    "    df = df.tail(270000)\n",
    "    \n",
    "    df[f'EMA_short'] = df.Close.ewm(span=ema_1, min_periods=ema_1).mean()\n",
    "\n",
    "    df[f'EMA_{ema_1}'] = df.Close.ewm(span=ema_1, min_periods=ema_1).mean()\n",
    "    \n",
    "    df['donchian_high'] = df['Close'].rolling(window=donchian_window).max()\n",
    "    df['donchian_low'] = df['Close'].rolling(window=donchian_window).min()\n",
    "    df['donchian_mid'] = (df['donchian_high'] + df['donchian_low']) / 2\n",
    "    df['donchian_75'] = (df['donchian_high'] + df['donchian_mid']) / 2\n",
    "    df['donchian_87'] = (df['donchian_high'] + df['donchian_75']) / 2\n",
    "    df['donchian_62'] = (df['donchian_75'] + df['donchian_mid']) / 2\n",
    "    df['donchian_25'] = (df['donchian_mid'] + df['donchian_low']) / 2\n",
    "    df['donchian_37'] = (df['donchian_mid'] + df['donchian_25']) / 2\n",
    "    df['donchian_12'] = (df['donchian_25'] + df['donchian_low']) / 2\n",
    "    \n",
    "    df['returns'] = df['Close'].pct_change()\n",
    "    df[\"creturns\"] = df[\"returns\"].cumsum()\n",
    "\n",
    "    df[\"strategy\"] = 0\n",
    "    df[\"cstrategy\"] = 0\n",
    "\n",
    "    df['time'] = df['Time'].copy()\n",
    "    \n",
    "    df_slim = df.copy()\n",
    "    df_slim.dropna(inplace=True)\n",
    "    df_slim.reset_index(drop=True, inplace=True)\n",
    "\n",
    "    gt = DonchianTrend(\n",
    "        df_slim,\n",
    "        donchian_window_prev = donchian_window_prev,\n",
    "        tp=tp,\n",
    "        sl=sl,\n",
    "        donchian_up_signals=donchian_up_signals\n",
    "    )\n",
    "    \n",
    "    gt.run_test()\n",
    "    return gt"
   ]
  },
  {
   "cell_type": "code",
   "execution_count": 5,
   "id": "89d145fd-05bf-4114-bbc1-99893ba90d50",
   "metadata": {},
   "outputs": [],
   "source": [
    "\n",
    "pairs_pip_size = [\"ADAUSDT\",\"BTCUSDT\",'ETHUSDT','BNBUSDT','XRPUSDT','LTCUSDT']"
   ]
  },
  {
   "cell_type": "code",
   "execution_count": 6,
   "id": "79d651da-ec1e-471a-b874-56253b5ed3d9",
   "metadata": {},
   "outputs": [],
   "source": [
    "# pairs_pip_size =['BTCUSDT']"
   ]
  },
  {
   "cell_type": "code",
   "execution_count": null,
   "id": "4cd59fd9-77fc-4734-8b23-7ecd506228ea",
   "metadata": {},
   "outputs": [],
   "source": []
  },
  {
   "cell_type": "code",
   "execution_count": 7,
   "id": "d355bae7-180f-4fa6-aef8-f61d55722717",
   "metadata": {},
   "outputs": [],
   "source": [
    "def get_list_args():\n",
    "    args_dic_list = []\n",
    "    for es in [5,50]:\n",
    "        for dw in [500,1000,1500,2500]:\n",
    "            for dwp in [5,50,200]:\n",
    "                for tp in [0.01,0.02,0.03,0.05]:\n",
    "                    for sl in [0.1,0.2,0.5]:\n",
    "                        for donchian_up_signals in [[9]]:\n",
    "                            if es < dw and dwp < dw:\n",
    "                                for pair in pairs_pip_size:\n",
    "                                    for granularity in ['1m']:\n",
    "                                        args_dic = {\"es\": es,\n",
    "                                                    \"dw\": dw,\n",
    "                                                    \"dwp\": dwp,\n",
    "                                                    \"tp\": tp, \n",
    "                                                    \"sl\":sl, \n",
    "                                                    \"pair\":pair, \n",
    "                                                    \"granularity\":granularity,\n",
    "                                                    \"donchian_up_signals\":donchian_up_signals}\n",
    "                                        args_dic_list.append(args_dic)\n",
    "\n",
    "    return args_dic_list"
   ]
  },
  {
   "cell_type": "code",
   "execution_count": 8,
   "id": "ecabd920-f9f2-4b64-a047-1c99a61c4905",
   "metadata": {},
   "outputs": [],
   "source": [
    "\n",
    "\n",
    "def run_process(L, arg):\n",
    "    # print(\"PROCESS\",arg)\n",
    "    L.append(\n",
    "        dict(\n",
    "            arg=arg,\n",
    "            pair=arg['pair'],\n",
    "            ema_1=arg['es'],\n",
    "            donchian_window = arg['dw'],\n",
    "            donchian_window_prev = arg['dwp'],\n",
    "            tp = arg['tp'],\n",
    "            sl = arg['sl'],\n",
    "            res=run_pair(\n",
    "                pair=arg['pair'],\n",
    "                granularity=arg['granularity'],\n",
    "                ema_1=arg['es'],\n",
    "                donchian_window = arg['dw'],\n",
    "                donchian_window_prev = arg['dwp'],\n",
    "                tp = arg['tp'],\n",
    "                sl = arg['sl'],\n",
    "                donchian_up_signals= arg['donchian_up_signals']\n",
    "            )\n",
    "        )\n",
    "    )\n",
    "\n",
    "\n",
    "lista = []\n",
    "def run_ema_macd():\n",
    "    with Manager() as manager:\n",
    "        global lista\n",
    "        L = manager.list()  # <-- can be shared between processes.\n",
    "        args_list = get_list_args()\n",
    "        print(len(args_list))\n",
    "        limit = 10\n",
    "        current = 0\n",
    "    \n",
    "        while current < len(args_list):\n",
    "            print(current)\n",
    "            processes = []\n",
    "            todo = len(args_list) - current\n",
    "            if todo < limit:\n",
    "                limit = todo\n",
    "    \n",
    "            for _ in range(limit):\n",
    "                processes.append(Process(target=run_process, args=(L,args_list[current])))\n",
    "                current += 1\n",
    "    \n",
    "            for p in processes:\n",
    "                p.start()\n",
    "    \n",
    "            for p in processes:\n",
    "                p.join()\n",
    "\n",
    "        print(\"ALL DONE\")\n",
    "        lista = list(L)\n",
    "        with open(f\"./result-binance-trend-limite-compra-percentual-01-apenas-9.pkl\", \"wb\") as f:\n",
    "            pickle.dump(lista, f)  # Usa o pickle para salvar o arquivo\n"
   ]
  },
  {
   "cell_type": "code",
   "execution_count": 9,
   "id": "ba181cd3-17ac-4060-a262-604c0d49ef67",
   "metadata": {
    "scrolled": true
   },
   "outputs": [
    {
     "name": "stdout",
     "output_type": "stream",
     "text": [
      "1728\n",
      "0\n",
      "10\n",
      "20\n",
      "30\n",
      "40\n",
      "50\n",
      "60\n",
      "70\n",
      "80\n",
      "90\n",
      "100\n",
      "110\n",
      "120\n",
      "130\n",
      "140\n",
      "150\n",
      "160\n",
      "170\n",
      "180\n",
      "190\n",
      "200\n",
      "210\n",
      "220\n",
      "230\n",
      "240\n",
      "250\n",
      "260\n",
      "270\n",
      "280\n",
      "290\n",
      "300\n",
      "310\n",
      "320\n",
      "330\n",
      "340\n",
      "350\n",
      "360\n",
      "370\n",
      "380\n",
      "390\n",
      "400\n",
      "410\n",
      "420\n",
      "430\n",
      "440\n",
      "450\n",
      "460\n",
      "470\n",
      "480\n",
      "490\n",
      "500\n",
      "510\n",
      "520\n",
      "530\n",
      "540\n",
      "550\n",
      "560\n",
      "570\n",
      "580\n",
      "590\n",
      "600\n",
      "610\n",
      "620\n",
      "630\n",
      "640\n",
      "650\n",
      "660\n",
      "670\n",
      "680\n",
      "690\n",
      "700\n",
      "710\n",
      "720\n",
      "730\n",
      "740\n",
      "750\n",
      "760\n",
      "770\n",
      "780\n",
      "790\n",
      "800\n",
      "810\n",
      "820\n",
      "830\n",
      "840\n",
      "850\n",
      "860\n",
      "870\n",
      "880\n",
      "890\n",
      "900\n",
      "910\n",
      "920\n",
      "930\n",
      "940\n",
      "950\n",
      "960\n",
      "970\n",
      "980\n",
      "990\n",
      "1000\n",
      "1010\n",
      "1020\n",
      "1030\n",
      "1040\n",
      "1050\n",
      "1060\n",
      "1070\n",
      "1080\n",
      "1090\n",
      "1100\n",
      "1110\n",
      "1120\n",
      "1130\n",
      "1140\n",
      "1150\n",
      "1160\n",
      "1170\n",
      "1180\n",
      "1190\n",
      "1200\n",
      "1210\n",
      "1220\n",
      "1230\n",
      "1240\n",
      "1250\n",
      "1260\n",
      "1270\n",
      "1280\n",
      "1290\n",
      "1300\n",
      "1310\n",
      "1320\n",
      "1330\n",
      "1340\n",
      "1350\n",
      "1360\n",
      "1370\n",
      "1380\n",
      "1390\n",
      "1400\n",
      "1410\n",
      "1420\n",
      "1430\n",
      "1440\n",
      "1450\n",
      "1460\n",
      "1470\n",
      "1480\n",
      "1490\n",
      "1500\n",
      "1510\n",
      "1520\n",
      "1530\n",
      "1540\n",
      "1550\n",
      "1560\n",
      "1570\n",
      "1580\n",
      "1590\n",
      "1600\n",
      "1610\n",
      "1620\n",
      "1630\n",
      "1640\n",
      "1650\n",
      "1660\n",
      "1670\n",
      "1680\n",
      "1690\n",
      "1700\n",
      "1710\n",
      "1720\n",
      "ALL DONE\n",
      "CPU times: user 2.23 s, sys: 18 s, total: 20.3 s\n",
      "Wall time: 11min 23s\n"
     ]
    }
   ],
   "source": [
    "%%time\n",
    "\n",
    "run_ema_macd()"
   ]
  },
  {
   "cell_type": "code",
   "execution_count": null,
   "id": "80304dff-7011-4b60-ac57-e07efd89b20a",
   "metadata": {},
   "outputs": [],
   "source": []
  },
  {
   "cell_type": "code",
   "execution_count": 10,
   "id": "97d96349-c452-4a40-9929-54cf5f01216c",
   "metadata": {},
   "outputs": [],
   "source": [
    "# with open(f\"./result-binance-trend.pkl\", \"wb\") as f:\n",
    "#     pickle.dump(lista, f)  # Usa o pickle para salvar o arquivo"
   ]
  },
  {
   "cell_type": "code",
   "execution_count": null,
   "id": "dc3e96e4-f021-4f0a-ac7d-16f6a1f00594",
   "metadata": {},
   "outputs": [],
   "source": []
  },
  {
   "cell_type": "code",
   "execution_count": null,
   "id": "36e10e12-04d6-4e49-a4ad-614a630b4f83",
   "metadata": {},
   "outputs": [],
   "source": []
  },
  {
   "cell_type": "code",
   "execution_count": 10,
   "id": "8222267e-d6a0-47ae-8e6e-5d93b8a7153a",
   "metadata": {},
   "outputs": [],
   "source": [
    "# res = lista\n",
    "\n",
    "with open(\"./result-binance-trend-sem-limite-max_o-apenas-9.pkl\", \"rb\") as f:\n",
    "    res = pickle.load(f)"
   ]
  },
  {
   "cell_type": "code",
   "execution_count": 11,
   "id": "af60633e-dc15-4d71-89c9-56ae55306633",
   "metadata": {},
   "outputs": [],
   "source": [
    "dic_res = []\n",
    "for r in res:\n",
    "\n",
    "    if r['res'].len_close > 10:\n",
    "        signal_up = r['res'].df_results.SIGNAL_UP.values[-1]\n",
    "        if signal_up == 9:\n",
    "            res_pos = r['res'].df_results[r['res'].df_results['result'] > 0]\n",
    "            res_neg = r['res'].df_results[r['res'].df_results['result'] < 0]\n",
    "            sum_neg = res_neg.result.sum() * -1\n",
    "            sum_pos = res_pos.result.sum()\n",
    "            \n",
    "            res_pos_s = r['res'].df_results[r['res'].df_results['strategy'] > 0]\n",
    "            res_neg_s = r['res'].df_results[r['res'].df_results['strategy'] < 0]\n",
    "            sum_neg_s = res_neg_s.strategy.sum() *-1\n",
    "            sum_pos_s = res_pos_s.strategy.sum()\n",
    "            dic_res.append(\n",
    "                dict(\n",
    "                    pair = r['pair'],\n",
    "                    ema = r['ema_1'],\n",
    "                    strat = round(r['res'].df_results.strategy.sum(),3),\n",
    "                    res = round(r['res'].df_results.result.sum(),3),\n",
    "                    sig = signal_up,\n",
    "                    c = r['res'].df_results['count'].mean(),\n",
    "                    tp = r['tp'],\n",
    "                    sl = r['res'].df_results.sl.values[-1],\n",
    "                    dw = r['donchian_window'],\n",
    "                    dwp = r['donchian_window_prev'],\n",
    "                    max_o = max(r['res'].df_results.total_opened),\n",
    "    \n",
    "                    \n",
    "                    s_p_s = sum_pos_s,\n",
    "                    s_n_s = sum_neg_s,\n",
    "                    Rel_sum = sum_pos_s/(sum_pos_s+ sum_neg_s),\n",
    "                    \n",
    "                    l_p_s = len(res_pos_s),\n",
    "                    l_n_s = len(res_neg_s),\n",
    "                    Rel_len = len(res_pos_s)/(len(res_pos_s)+ len(res_neg_s)),\n",
    "                    \n",
    "                    l_c = r['res'].len_close,\n",
    "                    l_o = r['res'].len_open,\n",
    "                       \n",
    "                    # l_p = len(res_pos),\n",
    "                    # l_n = len(res_neg),\n",
    "                    # sum_pos = sum_pos,\n",
    "                    # sum_neg = sum_neg,\n",
    "                    # Rel_len_pos_neg = len(res_pos)/(len(res_pos)+ len(res_neg)),\n",
    "                    # Rel_pos_neg = sum_pos/(sum_pos+ sum_neg),\n",
    "    \n",
    "                    first_p = r['res'].first_price,\n",
    "                    last_p = r['res'].last_price,\n",
    "                    r = r['res'].df_results\n",
    "                )\n",
    "    )\n",
    "    # print(f\"p={p}  e={e}  dw={dw}  dwp={dwp}   strategy={st}   result={result}\")\n"
   ]
  },
  {
   "cell_type": "code",
   "execution_count": 12,
   "id": "6ca67f89-323a-4300-82b4-ca373dadbfa4",
   "metadata": {},
   "outputs": [],
   "source": [
    "df_res = pd.DataFrame(dic_res)"
   ]
  },
  {
   "cell_type": "code",
   "execution_count": 13,
   "id": "f602739b-d450-434c-934f-a29ba0d144d3",
   "metadata": {},
   "outputs": [
    {
     "data": {
      "text/html": [
       "<div>\n",
       "<style scoped>\n",
       "    .dataframe tbody tr th:only-of-type {\n",
       "        vertical-align: middle;\n",
       "    }\n",
       "\n",
       "    .dataframe tbody tr th {\n",
       "        vertical-align: top;\n",
       "    }\n",
       "\n",
       "    .dataframe thead th {\n",
       "        text-align: right;\n",
       "    }\n",
       "</style>\n",
       "<table border=\"1\" class=\"dataframe\">\n",
       "  <thead>\n",
       "    <tr style=\"text-align: right;\">\n",
       "      <th></th>\n",
       "      <th>pair</th>\n",
       "      <th>ema</th>\n",
       "      <th>strat</th>\n",
       "      <th>res</th>\n",
       "      <th>sig</th>\n",
       "      <th>c</th>\n",
       "      <th>tp</th>\n",
       "      <th>sl</th>\n",
       "      <th>dw</th>\n",
       "      <th>dwp</th>\n",
       "      <th>...</th>\n",
       "      <th>s_n_s</th>\n",
       "      <th>Rel_sum</th>\n",
       "      <th>l_p_s</th>\n",
       "      <th>l_n_s</th>\n",
       "      <th>Rel_len</th>\n",
       "      <th>l_c</th>\n",
       "      <th>l_o</th>\n",
       "      <th>first_p</th>\n",
       "      <th>last_p</th>\n",
       "      <th>r</th>\n",
       "    </tr>\n",
       "  </thead>\n",
       "  <tbody>\n",
       "    <tr>\n",
       "      <th>1075</th>\n",
       "      <td>BNBUSDT</td>\n",
       "      <td>50</td>\n",
       "      <td>5.876</td>\n",
       "      <td>2798.20</td>\n",
       "      <td>9</td>\n",
       "      <td>23240.539683</td>\n",
       "      <td>0.05</td>\n",
       "      <td>0.5</td>\n",
       "      <td>1500</td>\n",
       "      <td>200</td>\n",
       "      <td>...</td>\n",
       "      <td>0.510592</td>\n",
       "      <td>0.925975</td>\n",
       "      <td>125</td>\n",
       "      <td>1</td>\n",
       "      <td>0.992063</td>\n",
       "      <td>126</td>\n",
       "      <td>10</td>\n",
       "      <td>584.6000</td>\n",
       "      <td>567.4000</td>\n",
       "      <td>running  start_index_m5   count  trigger_...</td>\n",
       "    </tr>\n",
       "    <tr>\n",
       "      <th>1076</th>\n",
       "      <td>BTCUSDT</td>\n",
       "      <td>50</td>\n",
       "      <td>6.003</td>\n",
       "      <td>340124.98</td>\n",
       "      <td>9</td>\n",
       "      <td>18988.033898</td>\n",
       "      <td>0.05</td>\n",
       "      <td>0.5</td>\n",
       "      <td>1500</td>\n",
       "      <td>200</td>\n",
       "      <td>...</td>\n",
       "      <td>-0.000000</td>\n",
       "      <td>1.000000</td>\n",
       "      <td>118</td>\n",
       "      <td>0</td>\n",
       "      <td>1.000000</td>\n",
       "      <td>118</td>\n",
       "      <td>14</td>\n",
       "      <td>70839.1600</td>\n",
       "      <td>63327.5900</td>\n",
       "      <td>running  start_index_m5  count  trigger_t...</td>\n",
       "    </tr>\n",
       "    <tr>\n",
       "      <th>1077</th>\n",
       "      <td>ADAUSDT</td>\n",
       "      <td>50</td>\n",
       "      <td>0.404</td>\n",
       "      <td>-0.84</td>\n",
       "      <td>9</td>\n",
       "      <td>26975.981366</td>\n",
       "      <td>0.05</td>\n",
       "      <td>0.5</td>\n",
       "      <td>1500</td>\n",
       "      <td>200</td>\n",
       "      <td>...</td>\n",
       "      <td>7.088688</td>\n",
       "      <td>0.513842</td>\n",
       "      <td>147</td>\n",
       "      <td>14</td>\n",
       "      <td>0.913043</td>\n",
       "      <td>161</td>\n",
       "      <td>8</td>\n",
       "      <td>0.6488</td>\n",
       "      <td>0.3733</td>\n",
       "      <td>running  start_index_m5  count  trigger_t...</td>\n",
       "    </tr>\n",
       "    <tr>\n",
       "      <th>1078</th>\n",
       "      <td>ETHUSDT</td>\n",
       "      <td>50</td>\n",
       "      <td>-0.092</td>\n",
       "      <td>-1985.39</td>\n",
       "      <td>9</td>\n",
       "      <td>20113.727273</td>\n",
       "      <td>0.05</td>\n",
       "      <td>0.5</td>\n",
       "      <td>1500</td>\n",
       "      <td>200</td>\n",
       "      <td>...</td>\n",
       "      <td>4.801996</td>\n",
       "      <td>0.495151</td>\n",
       "      <td>89</td>\n",
       "      <td>10</td>\n",
       "      <td>0.898990</td>\n",
       "      <td>99</td>\n",
       "      <td>35</td>\n",
       "      <td>3576.7800</td>\n",
       "      <td>2602.2300</td>\n",
       "      <td>running  start_index_m5  count  trigger_ty...</td>\n",
       "    </tr>\n",
       "    <tr>\n",
       "      <th>1079</th>\n",
       "      <td>LTCUSDT</td>\n",
       "      <td>50</td>\n",
       "      <td>3.042</td>\n",
       "      <td>154.67</td>\n",
       "      <td>9</td>\n",
       "      <td>19649.350877</td>\n",
       "      <td>0.05</td>\n",
       "      <td>0.5</td>\n",
       "      <td>1500</td>\n",
       "      <td>200</td>\n",
       "      <td>...</td>\n",
       "      <td>2.479046</td>\n",
       "      <td>0.690106</td>\n",
       "      <td>109</td>\n",
       "      <td>5</td>\n",
       "      <td>0.956140</td>\n",
       "      <td>114</td>\n",
       "      <td>30</td>\n",
       "      <td>95.4000</td>\n",
       "      <td>66.8200</td>\n",
       "      <td>running  start_index_m5  count  trigger_t...</td>\n",
       "    </tr>\n",
       "  </tbody>\n",
       "</table>\n",
       "<p>5 rows × 22 columns</p>\n",
       "</div>"
      ],
      "text/plain": [
       "         pair  ema  strat        res  sig             c    tp   sl    dw  dwp  \\\n",
       "1075  BNBUSDT   50  5.876    2798.20    9  23240.539683  0.05  0.5  1500  200   \n",
       "1076  BTCUSDT   50  6.003  340124.98    9  18988.033898  0.05  0.5  1500  200   \n",
       "1077  ADAUSDT   50  0.404      -0.84    9  26975.981366  0.05  0.5  1500  200   \n",
       "1078  ETHUSDT   50 -0.092   -1985.39    9  20113.727273  0.05  0.5  1500  200   \n",
       "1079  LTCUSDT   50  3.042     154.67    9  19649.350877  0.05  0.5  1500  200   \n",
       "\n",
       "      ...     s_n_s   Rel_sum  l_p_s  l_n_s   Rel_len  l_c  l_o     first_p  \\\n",
       "1075  ...  0.510592  0.925975    125      1  0.992063  126   10    584.6000   \n",
       "1076  ... -0.000000  1.000000    118      0  1.000000  118   14  70839.1600   \n",
       "1077  ...  7.088688  0.513842    147     14  0.913043  161    8      0.6488   \n",
       "1078  ...  4.801996  0.495151     89     10  0.898990   99   35   3576.7800   \n",
       "1079  ...  2.479046  0.690106    109      5  0.956140  114   30     95.4000   \n",
       "\n",
       "          last_p                                                  r  \n",
       "1075    567.4000       running  start_index_m5   count  trigger_...  \n",
       "1076  63327.5900       running  start_index_m5  count  trigger_t...  \n",
       "1077      0.3733       running  start_index_m5  count  trigger_t...  \n",
       "1078   2602.2300      running  start_index_m5  count  trigger_ty...  \n",
       "1079     66.8200       running  start_index_m5  count  trigger_t...  \n",
       "\n",
       "[5 rows x 22 columns]"
      ]
     },
     "execution_count": 13,
     "metadata": {},
     "output_type": "execute_result"
    }
   ],
   "source": [
    "df_res.tail()"
   ]
  },
  {
   "cell_type": "code",
   "execution_count": 14,
   "id": "dd9eb0c1-c5c4-4839-bb9d-233f6dcea80a",
   "metadata": {},
   "outputs": [
    {
     "data": {
      "text/html": [
       "<div>\n",
       "<style scoped>\n",
       "    .dataframe tbody tr th:only-of-type {\n",
       "        vertical-align: middle;\n",
       "    }\n",
       "\n",
       "    .dataframe tbody tr th {\n",
       "        vertical-align: top;\n",
       "    }\n",
       "\n",
       "    .dataframe thead th {\n",
       "        text-align: right;\n",
       "    }\n",
       "</style>\n",
       "<table border=\"1\" class=\"dataframe\">\n",
       "  <thead>\n",
       "    <tr style=\"text-align: right;\">\n",
       "      <th></th>\n",
       "      <th>ema</th>\n",
       "      <th>strat</th>\n",
       "      <th>res</th>\n",
       "      <th>sig</th>\n",
       "      <th>c</th>\n",
       "      <th>tp</th>\n",
       "      <th>sl</th>\n",
       "      <th>dw</th>\n",
       "      <th>dwp</th>\n",
       "      <th>max_o</th>\n",
       "      <th>s_p_s</th>\n",
       "      <th>s_n_s</th>\n",
       "      <th>Rel_sum</th>\n",
       "      <th>l_p_s</th>\n",
       "      <th>l_n_s</th>\n",
       "      <th>Rel_len</th>\n",
       "      <th>l_c</th>\n",
       "      <th>l_o</th>\n",
       "      <th>first_p</th>\n",
       "      <th>last_p</th>\n",
       "    </tr>\n",
       "  </thead>\n",
       "  <tbody>\n",
       "    <tr>\n",
       "      <th>count</th>\n",
       "      <td>1080.000000</td>\n",
       "      <td>1080.000000</td>\n",
       "      <td>1.080000e+03</td>\n",
       "      <td>1080.0</td>\n",
       "      <td>1080.000000</td>\n",
       "      <td>1080.000000</td>\n",
       "      <td>1080.000000</td>\n",
       "      <td>1080.000000</td>\n",
       "      <td>1080.000000</td>\n",
       "      <td>1080.000000</td>\n",
       "      <td>1080.000000</td>\n",
       "      <td>1080.000000</td>\n",
       "      <td>1080.000000</td>\n",
       "      <td>1080.000000</td>\n",
       "      <td>1080.000000</td>\n",
       "      <td>1080.000000</td>\n",
       "      <td>1080.000000</td>\n",
       "      <td>1080.000000</td>\n",
       "      <td>1080.000000</td>\n",
       "      <td>1080.000000</td>\n",
       "    </tr>\n",
       "    <tr>\n",
       "      <th>mean</th>\n",
       "      <td>23.000000</td>\n",
       "      <td>-0.491179</td>\n",
       "      <td>2.426051e+04</td>\n",
       "      <td>9.0</td>\n",
       "      <td>8621.879919</td>\n",
       "      <td>0.027500</td>\n",
       "      <td>0.266667</td>\n",
       "      <td>1000.000000</td>\n",
       "      <td>101.000000</td>\n",
       "      <td>54.908333</td>\n",
       "      <td>10.064259</td>\n",
       "      <td>10.555449</td>\n",
       "      <td>0.534025</td>\n",
       "      <td>368.468519</td>\n",
       "      <td>66.108333</td>\n",
       "      <td>0.849494</td>\n",
       "      <td>434.576852</td>\n",
       "      <td>17.612037</td>\n",
       "      <td>12343.554978</td>\n",
       "      <td>11094.170783</td>\n",
       "    </tr>\n",
       "    <tr>\n",
       "      <th>std</th>\n",
       "      <td>22.055621</td>\n",
       "      <td>8.080418</td>\n",
       "      <td>2.138637e+05</td>\n",
       "      <td>0.0</td>\n",
       "      <td>5853.896441</td>\n",
       "      <td>0.014797</td>\n",
       "      <td>0.170046</td>\n",
       "      <td>408.437426</td>\n",
       "      <td>82.524577</td>\n",
       "      <td>44.009140</td>\n",
       "      <td>7.905350</td>\n",
       "      <td>10.608243</td>\n",
       "      <td>0.209895</td>\n",
       "      <td>220.713156</td>\n",
       "      <td>75.535005</td>\n",
       "      <td>0.129705</td>\n",
       "      <td>251.380654</td>\n",
       "      <td>23.832293</td>\n",
       "      <td>25762.183831</td>\n",
       "      <td>23388.162373</td>\n",
       "    </tr>\n",
       "    <tr>\n",
       "      <th>min</th>\n",
       "      <td>5.000000</td>\n",
       "      <td>-36.887000</td>\n",
       "      <td>-1.327758e+06</td>\n",
       "      <td>9.0</td>\n",
       "      <td>1034.053719</td>\n",
       "      <td>0.010000</td>\n",
       "      <td>0.100000</td>\n",
       "      <td>500.000000</td>\n",
       "      <td>5.000000</td>\n",
       "      <td>7.000000</td>\n",
       "      <td>1.155311</td>\n",
       "      <td>-0.000000</td>\n",
       "      <td>0.264814</td>\n",
       "      <td>64.000000</td>\n",
       "      <td>0.000000</td>\n",
       "      <td>0.493976</td>\n",
       "      <td>99.000000</td>\n",
       "      <td>1.000000</td>\n",
       "      <td>0.612400</td>\n",
       "      <td>0.373300</td>\n",
       "    </tr>\n",
       "    <tr>\n",
       "      <th>25%</th>\n",
       "      <td>5.000000</td>\n",
       "      <td>-4.094000</td>\n",
       "      <td>-2.793840e+03</td>\n",
       "      <td>9.0</td>\n",
       "      <td>4337.030634</td>\n",
       "      <td>0.017500</td>\n",
       "      <td>0.100000</td>\n",
       "      <td>500.000000</td>\n",
       "      <td>50.000000</td>\n",
       "      <td>25.000000</td>\n",
       "      <td>4.461063</td>\n",
       "      <td>3.030637</td>\n",
       "      <td>0.384681</td>\n",
       "      <td>183.000000</td>\n",
       "      <td>11.000000</td>\n",
       "      <td>0.749381</td>\n",
       "      <td>217.000000</td>\n",
       "      <td>6.000000</td>\n",
       "      <td>0.647400</td>\n",
       "      <td>0.611400</td>\n",
       "    </tr>\n",
       "    <tr>\n",
       "      <th>50%</th>\n",
       "      <td>5.000000</td>\n",
       "      <td>-1.388500</td>\n",
       "      <td>-2.412500e+00</td>\n",
       "      <td>9.0</td>\n",
       "      <td>7122.972063</td>\n",
       "      <td>0.025000</td>\n",
       "      <td>0.200000</td>\n",
       "      <td>1000.000000</td>\n",
       "      <td>50.000000</td>\n",
       "      <td>41.000000</td>\n",
       "      <td>7.657269</td>\n",
       "      <td>7.455183</td>\n",
       "      <td>0.449189</td>\n",
       "      <td>327.000000</td>\n",
       "      <td>42.000000</td>\n",
       "      <td>0.875348</td>\n",
       "      <td>377.000000</td>\n",
       "      <td>11.000000</td>\n",
       "      <td>333.740000</td>\n",
       "      <td>317.110000</td>\n",
       "    </tr>\n",
       "    <tr>\n",
       "      <th>75%</th>\n",
       "      <td>50.000000</td>\n",
       "      <td>1.840250</td>\n",
       "      <td>5.402250e+00</td>\n",
       "      <td>9.0</td>\n",
       "      <td>11701.336871</td>\n",
       "      <td>0.035000</td>\n",
       "      <td>0.500000</td>\n",
       "      <td>1500.000000</td>\n",
       "      <td>200.000000</td>\n",
       "      <td>70.000000</td>\n",
       "      <td>13.318670</td>\n",
       "      <td>14.878524</td>\n",
       "      <td>0.600411</td>\n",
       "      <td>485.250000</td>\n",
       "      <td>91.250000</td>\n",
       "      <td>0.965735</td>\n",
       "      <td>600.250000</td>\n",
       "      <td>19.000000</td>\n",
       "      <td>3513.770000</td>\n",
       "      <td>2602.230000</td>\n",
       "    </tr>\n",
       "    <tr>\n",
       "      <th>max</th>\n",
       "      <td>50.000000</td>\n",
       "      <td>52.830000</td>\n",
       "      <td>2.492314e+06</td>\n",
       "      <td>9.0</td>\n",
       "      <td>29030.347534</td>\n",
       "      <td>0.050000</td>\n",
       "      <td>0.500000</td>\n",
       "      <td>1500.000000</td>\n",
       "      <td>200.000000</td>\n",
       "      <td>332.000000</td>\n",
       "      <td>54.234355</td>\n",
       "      <td>75.806804</td>\n",
       "      <td>1.000000</td>\n",
       "      <td>1212.000000</td>\n",
       "      <td>471.000000</td>\n",
       "      <td>1.000000</td>\n",
       "      <td>1242.000000</td>\n",
       "      <td>261.000000</td>\n",
       "      <td>70839.160000</td>\n",
       "      <td>63327.590000</td>\n",
       "    </tr>\n",
       "  </tbody>\n",
       "</table>\n",
       "</div>"
      ],
      "text/plain": [
       "               ema        strat           res     sig             c  \\\n",
       "count  1080.000000  1080.000000  1.080000e+03  1080.0   1080.000000   \n",
       "mean     23.000000    -0.491179  2.426051e+04     9.0   8621.879919   \n",
       "std      22.055621     8.080418  2.138637e+05     0.0   5853.896441   \n",
       "min       5.000000   -36.887000 -1.327758e+06     9.0   1034.053719   \n",
       "25%       5.000000    -4.094000 -2.793840e+03     9.0   4337.030634   \n",
       "50%       5.000000    -1.388500 -2.412500e+00     9.0   7122.972063   \n",
       "75%      50.000000     1.840250  5.402250e+00     9.0  11701.336871   \n",
       "max      50.000000    52.830000  2.492314e+06     9.0  29030.347534   \n",
       "\n",
       "                tp           sl           dw          dwp        max_o  \\\n",
       "count  1080.000000  1080.000000  1080.000000  1080.000000  1080.000000   \n",
       "mean      0.027500     0.266667  1000.000000   101.000000    54.908333   \n",
       "std       0.014797     0.170046   408.437426    82.524577    44.009140   \n",
       "min       0.010000     0.100000   500.000000     5.000000     7.000000   \n",
       "25%       0.017500     0.100000   500.000000    50.000000    25.000000   \n",
       "50%       0.025000     0.200000  1000.000000    50.000000    41.000000   \n",
       "75%       0.035000     0.500000  1500.000000   200.000000    70.000000   \n",
       "max       0.050000     0.500000  1500.000000   200.000000   332.000000   \n",
       "\n",
       "             s_p_s        s_n_s      Rel_sum        l_p_s        l_n_s  \\\n",
       "count  1080.000000  1080.000000  1080.000000  1080.000000  1080.000000   \n",
       "mean     10.064259    10.555449     0.534025   368.468519    66.108333   \n",
       "std       7.905350    10.608243     0.209895   220.713156    75.535005   \n",
       "min       1.155311    -0.000000     0.264814    64.000000     0.000000   \n",
       "25%       4.461063     3.030637     0.384681   183.000000    11.000000   \n",
       "50%       7.657269     7.455183     0.449189   327.000000    42.000000   \n",
       "75%      13.318670    14.878524     0.600411   485.250000    91.250000   \n",
       "max      54.234355    75.806804     1.000000  1212.000000   471.000000   \n",
       "\n",
       "           Rel_len          l_c          l_o       first_p        last_p  \n",
       "count  1080.000000  1080.000000  1080.000000   1080.000000   1080.000000  \n",
       "mean      0.849494   434.576852    17.612037  12343.554978  11094.170783  \n",
       "std       0.129705   251.380654    23.832293  25762.183831  23388.162373  \n",
       "min       0.493976    99.000000     1.000000      0.612400      0.373300  \n",
       "25%       0.749381   217.000000     6.000000      0.647400      0.611400  \n",
       "50%       0.875348   377.000000    11.000000    333.740000    317.110000  \n",
       "75%       0.965735   600.250000    19.000000   3513.770000   2602.230000  \n",
       "max       1.000000  1242.000000   261.000000  70839.160000  63327.590000  "
      ]
     },
     "execution_count": 14,
     "metadata": {},
     "output_type": "execute_result"
    }
   ],
   "source": [
    "df_res.describe()"
   ]
  },
  {
   "cell_type": "code",
   "execution_count": 15,
   "id": "ae7ca393-22ef-4b0c-b717-cb004f39b341",
   "metadata": {},
   "outputs": [],
   "source": [
    "df_sorted_desc = df_res.sort_values(by=['pair','strat'], ascending=False)"
   ]
  },
  {
   "cell_type": "code",
   "execution_count": 16,
   "id": "e7f84926-a685-497c-80cb-dc9de6ab28d4",
   "metadata": {
    "scrolled": true
   },
   "outputs": [
    {
     "data": {
      "text/html": [
       "<div>\n",
       "<style scoped>\n",
       "    .dataframe tbody tr th:only-of-type {\n",
       "        vertical-align: middle;\n",
       "    }\n",
       "\n",
       "    .dataframe tbody tr th {\n",
       "        vertical-align: top;\n",
       "    }\n",
       "\n",
       "    .dataframe thead th {\n",
       "        text-align: right;\n",
       "    }\n",
       "</style>\n",
       "<table border=\"1\" class=\"dataframe\">\n",
       "  <thead>\n",
       "    <tr style=\"text-align: right;\">\n",
       "      <th></th>\n",
       "      <th>pair</th>\n",
       "      <th>ema</th>\n",
       "      <th>strat</th>\n",
       "      <th>res</th>\n",
       "      <th>sig</th>\n",
       "      <th>c</th>\n",
       "      <th>tp</th>\n",
       "      <th>sl</th>\n",
       "      <th>dw</th>\n",
       "      <th>dwp</th>\n",
       "      <th>...</th>\n",
       "      <th>s_n_s</th>\n",
       "      <th>Rel_sum</th>\n",
       "      <th>l_p_s</th>\n",
       "      <th>l_n_s</th>\n",
       "      <th>Rel_len</th>\n",
       "      <th>l_c</th>\n",
       "      <th>l_o</th>\n",
       "      <th>first_p</th>\n",
       "      <th>last_p</th>\n",
       "      <th>r</th>\n",
       "    </tr>\n",
       "  </thead>\n",
       "  <tbody>\n",
       "    <tr>\n",
       "      <th>78</th>\n",
       "      <td>XRPUSDT</td>\n",
       "      <td>5</td>\n",
       "      <td>52.830</td>\n",
       "      <td>23.202</td>\n",
       "      <td>9</td>\n",
       "      <td>23849.862376</td>\n",
       "      <td>0.05</td>\n",
       "      <td>0.5</td>\n",
       "      <td>500</td>\n",
       "      <td>5</td>\n",
       "      <td>...</td>\n",
       "      <td>-0.0</td>\n",
       "      <td>1.0</td>\n",
       "      <td>1010</td>\n",
       "      <td>0</td>\n",
       "      <td>1.0</td>\n",
       "      <td>1010</td>\n",
       "      <td>14</td>\n",
       "      <td>0.6149</td>\n",
       "      <td>0.6114</td>\n",
       "      <td>running  start_index_m5   count  trigger...</td>\n",
       "    </tr>\n",
       "    <tr>\n",
       "      <th>146</th>\n",
       "      <td>XRPUSDT</td>\n",
       "      <td>5</td>\n",
       "      <td>36.678</td>\n",
       "      <td>16.106</td>\n",
       "      <td>9</td>\n",
       "      <td>25075.211048</td>\n",
       "      <td>0.05</td>\n",
       "      <td>0.5</td>\n",
       "      <td>500</td>\n",
       "      <td>50</td>\n",
       "      <td>...</td>\n",
       "      <td>-0.0</td>\n",
       "      <td>1.0</td>\n",
       "      <td>706</td>\n",
       "      <td>0</td>\n",
       "      <td>1.0</td>\n",
       "      <td>706</td>\n",
       "      <td>9</td>\n",
       "      <td>0.6149</td>\n",
       "      <td>0.6114</td>\n",
       "      <td>running  start_index_m5   count  trigger_...</td>\n",
       "    </tr>\n",
       "    <tr>\n",
       "      <th>214</th>\n",
       "      <td>XRPUSDT</td>\n",
       "      <td>5</td>\n",
       "      <td>33.504</td>\n",
       "      <td>14.775</td>\n",
       "      <td>9</td>\n",
       "      <td>25720.508501</td>\n",
       "      <td>0.05</td>\n",
       "      <td>0.5</td>\n",
       "      <td>500</td>\n",
       "      <td>200</td>\n",
       "      <td>...</td>\n",
       "      <td>-0.0</td>\n",
       "      <td>1.0</td>\n",
       "      <td>647</td>\n",
       "      <td>0</td>\n",
       "      <td>1.0</td>\n",
       "      <td>647</td>\n",
       "      <td>5</td>\n",
       "      <td>0.6149</td>\n",
       "      <td>0.6114</td>\n",
       "      <td>running  start_index_m5   count  trigger_...</td>\n",
       "    </tr>\n",
       "    <tr>\n",
       "      <th>284</th>\n",
       "      <td>XRPUSDT</td>\n",
       "      <td>5</td>\n",
       "      <td>32.949</td>\n",
       "      <td>14.508</td>\n",
       "      <td>9</td>\n",
       "      <td>22782.748006</td>\n",
       "      <td>0.05</td>\n",
       "      <td>0.5</td>\n",
       "      <td>1000</td>\n",
       "      <td>5</td>\n",
       "      <td>...</td>\n",
       "      <td>-0.0</td>\n",
       "      <td>1.0</td>\n",
       "      <td>627</td>\n",
       "      <td>0</td>\n",
       "      <td>1.0</td>\n",
       "      <td>627</td>\n",
       "      <td>13</td>\n",
       "      <td>0.6124</td>\n",
       "      <td>0.6114</td>\n",
       "      <td>running  start_index_m5   count  trigger_...</td>\n",
       "    </tr>\n",
       "    <tr>\n",
       "      <th>56</th>\n",
       "      <td>XRPUSDT</td>\n",
       "      <td>5</td>\n",
       "      <td>32.763</td>\n",
       "      <td>14.343</td>\n",
       "      <td>9</td>\n",
       "      <td>14725.058416</td>\n",
       "      <td>0.03</td>\n",
       "      <td>0.5</td>\n",
       "      <td>500</td>\n",
       "      <td>5</td>\n",
       "      <td>...</td>\n",
       "      <td>-0.0</td>\n",
       "      <td>1.0</td>\n",
       "      <td>1010</td>\n",
       "      <td>0</td>\n",
       "      <td>1.0</td>\n",
       "      <td>1010</td>\n",
       "      <td>14</td>\n",
       "      <td>0.6149</td>\n",
       "      <td>0.6114</td>\n",
       "      <td>running  start_index_m5   count  trigger...</td>\n",
       "    </tr>\n",
       "  </tbody>\n",
       "</table>\n",
       "<p>5 rows × 22 columns</p>\n",
       "</div>"
      ],
      "text/plain": [
       "        pair  ema   strat     res  sig             c    tp   sl    dw  dwp  \\\n",
       "78   XRPUSDT    5  52.830  23.202    9  23849.862376  0.05  0.5   500    5   \n",
       "146  XRPUSDT    5  36.678  16.106    9  25075.211048  0.05  0.5   500   50   \n",
       "214  XRPUSDT    5  33.504  14.775    9  25720.508501  0.05  0.5   500  200   \n",
       "284  XRPUSDT    5  32.949  14.508    9  22782.748006  0.05  0.5  1000    5   \n",
       "56   XRPUSDT    5  32.763  14.343    9  14725.058416  0.03  0.5   500    5   \n",
       "\n",
       "     ...  s_n_s  Rel_sum  l_p_s  l_n_s  Rel_len   l_c  l_o  first_p  last_p  \\\n",
       "78   ...   -0.0      1.0   1010      0      1.0  1010   14   0.6149  0.6114   \n",
       "146  ...   -0.0      1.0    706      0      1.0   706    9   0.6149  0.6114   \n",
       "214  ...   -0.0      1.0    647      0      1.0   647    5   0.6149  0.6114   \n",
       "284  ...   -0.0      1.0    627      0      1.0   627   13   0.6124  0.6114   \n",
       "56   ...   -0.0      1.0   1010      0      1.0  1010   14   0.6149  0.6114   \n",
       "\n",
       "                                                     r  \n",
       "78         running  start_index_m5   count  trigger...  \n",
       "146       running  start_index_m5   count  trigger_...  \n",
       "214       running  start_index_m5   count  trigger_...  \n",
       "284       running  start_index_m5   count  trigger_...  \n",
       "56         running  start_index_m5   count  trigger...  \n",
       "\n",
       "[5 rows x 22 columns]"
      ]
     },
     "execution_count": 16,
     "metadata": {},
     "output_type": "execute_result"
    }
   ],
   "source": [
    "# Exibir todas as linhas\n",
    "pd.set_option('display.max_rows', None)\n",
    "\n",
    "df_sorted_desc.head()"
   ]
  },
  {
   "cell_type": "code",
   "execution_count": null,
   "id": "dbca5871-beaf-42b3-b517-ed1152f6ce4d",
   "metadata": {},
   "outputs": [],
   "source": []
  },
  {
   "cell_type": "code",
   "execution_count": 17,
   "id": "3daa9249-233c-4078-b020-b5feb40c887d",
   "metadata": {},
   "outputs": [],
   "source": [
    "def rank_backtest_results(df):\n",
    "    # Definindo pesos para cada coluna com base na importância\n",
    "    weights = {\n",
    "        'strat': 0.4,           # Retorno acumulado percentual (maximizar)\n",
    "        'Rel_len': 0.1,      # Relação de trades positivos/negativos (maximizar)\n",
    "        'Rel_sum': 0.1,        # Relação de resultados positivos/negativos (maximizar)\n",
    "        'l_p_s': 0.1,            # Quantidade de trades positivos (maximizar)\n",
    "        'l_n_s': -0.1,           # Quantidade de trades negativos (minimizar)\n",
    "        's_p_s': 0.05,           # Soma dos retornos positivos (maximizar)\n",
    "        's_n_s': -0.05,          # Soma dos retornos negativos (minimizar)\n",
    "        'c': -0.05,          # Média de candles até TP ou SL (minimizar)\n",
    "        'max_o': -0.1,       # Máximo de operações abertas ao mesmo tempo (minimizar)\n",
    "        # 'ema': -0.01,            # EMA short (minimizar)\n",
    "        # 'tp': 0.1,             # Take profit percentual (minimizar)\n",
    "        # 'sl': -0.05,             # Stop loss percentual (minimizar)\n",
    "        # 'dw': -0.01              # Janela Donchian (minimizar)\n",
    "    }\n",
    "    \n",
    "    # Normalizando as colunas relevantes\n",
    "    for col in weights.keys():\n",
    "        df[col + '_norm'] = (df[col] - df[col].min()) / (df[col].max() - df[col].min())\n",
    "    \n",
    "    # Calculando o score ponderado para cada linha\n",
    "    df['score'] = sum(\n",
    "        df[col + '_norm'] * weight if weight >= 0 else (1 - df[col + '_norm']) * abs(weight) \n",
    "        for col, weight in weights.items()\n",
    "    )\n",
    "    \n",
    "    # Ordenando o DataFrame pelos melhores resultados com base no score\n",
    "    df_sorted = df.sort_values(by='score', ascending=False).reset_index(drop=True)\n",
    "    \n",
    "    # Removendo colunas de normalização temporárias\n",
    "    df_sorted.drop(columns=[col + '_norm' for col in weights.keys()], inplace=True)\n",
    "    \n",
    "    return df_sorted"
   ]
  },
  {
   "cell_type": "code",
   "execution_count": 18,
   "id": "f46a1633-83d5-4cd7-9a6d-d42bc5cadda6",
   "metadata": {},
   "outputs": [],
   "source": [
    "df_ADAUSDT = df_res[df_res['pair']=='ADAUSDT']\n",
    "df_BTCUSDT = df_res[df_res['pair']=='BTCUSDT']\n",
    "df_ETHUSDT = df_res[df_res['pair']=='ETHUSDT']\n",
    "df_BNBUSDT = df_res[df_res['pair']=='BNBUSDT']\n",
    "df_XRPUSDT = df_res[df_res['pair']=='XRPUSDT']\n",
    "df_LTCUSDT = df_res[df_res['pair']=='LTCUSDT']"
   ]
  },
  {
   "cell_type": "code",
   "execution_count": 19,
   "id": "8609bd7e-1fd7-49db-9126-7805c9811b15",
   "metadata": {},
   "outputs": [
    {
     "data": {
      "text/plain": [
       "Index(['pair', 'ema', 'strat', 'res', 'sig', 'c', 'tp', 'sl', 'dw', 'dwp',\n",
       "       'max_o', 's_p_s', 's_n_s', 'Rel_sum', 'l_p_s', 'l_n_s', 'Rel_len',\n",
       "       'l_c', 'l_o', 'first_p', 'last_p', 'r'],\n",
       "      dtype='object')"
      ]
     },
     "execution_count": 19,
     "metadata": {},
     "output_type": "execute_result"
    }
   ],
   "source": [
    "df_ADAUSDT.columns"
   ]
  },
  {
   "cell_type": "code",
   "execution_count": 20,
   "id": "47e3ae5d-031b-4a47-8739-585bd0a68825",
   "metadata": {},
   "outputs": [],
   "source": [
    "rank_ADAUSDT = rank_backtest_results(df_ADAUSDT)\n",
    "rank_BTCUSDT = rank_backtest_results(df_BTCUSDT)\n",
    "rank_ETHUSDT = rank_backtest_results(df_ETHUSDT)\n",
    "rank_BNBUSDT = rank_backtest_results(df_BNBUSDT)\n",
    "rank_XRPUSDT = rank_backtest_results(df_XRPUSDT)\n",
    "rank_LTCUSDT = rank_backtest_results(df_LTCUSDT)"
   ]
  },
  {
   "cell_type": "code",
   "execution_count": 21,
   "id": "bed286cd-b3f0-41bf-b4b2-d045a9c934ec",
   "metadata": {},
   "outputs": [
    {
     "data": {
      "text/html": [
       "<div>\n",
       "<style scoped>\n",
       "    .dataframe tbody tr th:only-of-type {\n",
       "        vertical-align: middle;\n",
       "    }\n",
       "\n",
       "    .dataframe tbody tr th {\n",
       "        vertical-align: top;\n",
       "    }\n",
       "\n",
       "    .dataframe thead th {\n",
       "        text-align: right;\n",
       "    }\n",
       "</style>\n",
       "<table border=\"1\" class=\"dataframe\">\n",
       "  <thead>\n",
       "    <tr style=\"text-align: right;\">\n",
       "      <th></th>\n",
       "      <th>pair</th>\n",
       "      <th>ema</th>\n",
       "      <th>strat</th>\n",
       "      <th>res</th>\n",
       "      <th>sig</th>\n",
       "      <th>c</th>\n",
       "      <th>tp</th>\n",
       "      <th>sl</th>\n",
       "      <th>dw</th>\n",
       "      <th>dwp</th>\n",
       "      <th>max_o</th>\n",
       "      <th>s_p_s</th>\n",
       "      <th>s_n_s</th>\n",
       "      <th>Rel_sum</th>\n",
       "      <th>l_p_s</th>\n",
       "      <th>l_n_s</th>\n",
       "    </tr>\n",
       "  </thead>\n",
       "  <tbody>\n",
       "    <tr>\n",
       "      <th>0</th>\n",
       "      <td>ADAUSDT</td>\n",
       "      <td>50</td>\n",
       "      <td>1.255</td>\n",
       "      <td>0.356</td>\n",
       "      <td>9</td>\n",
       "      <td>1778.479339</td>\n",
       "      <td>0.01</td>\n",
       "      <td>0.2</td>\n",
       "      <td>1000</td>\n",
       "      <td>50</td>\n",
       "      <td>10</td>\n",
       "      <td>2.568066</td>\n",
       "      <td>1.312948</td>\n",
       "      <td>0.661700</td>\n",
       "      <td>236</td>\n",
       "      <td>6</td>\n",
       "    </tr>\n",
       "    <tr>\n",
       "      <th>1</th>\n",
       "      <td>ADAUSDT</td>\n",
       "      <td>5</td>\n",
       "      <td>1.075</td>\n",
       "      <td>-0.776</td>\n",
       "      <td>9</td>\n",
       "      <td>5175.348538</td>\n",
       "      <td>0.01</td>\n",
       "      <td>0.5</td>\n",
       "      <td>500</td>\n",
       "      <td>50</td>\n",
       "      <td>49</td>\n",
       "      <td>9.177015</td>\n",
       "      <td>8.102261</td>\n",
       "      <td>0.531100</td>\n",
       "      <td>838</td>\n",
       "      <td>17</td>\n",
       "    </tr>\n",
       "    <tr>\n",
       "      <th>2</th>\n",
       "      <td>ADAUSDT</td>\n",
       "      <td>5</td>\n",
       "      <td>1.058</td>\n",
       "      <td>-0.118</td>\n",
       "      <td>9</td>\n",
       "      <td>2039.445378</td>\n",
       "      <td>0.01</td>\n",
       "      <td>0.2</td>\n",
       "      <td>1500</td>\n",
       "      <td>5</td>\n",
       "      <td>25</td>\n",
       "      <td>6.258304</td>\n",
       "      <td>5.200058</td>\n",
       "      <td>0.546178</td>\n",
       "      <td>569</td>\n",
       "      <td>26</td>\n",
       "    </tr>\n",
       "    <tr>\n",
       "      <th>3</th>\n",
       "      <td>ADAUSDT</td>\n",
       "      <td>50</td>\n",
       "      <td>0.964</td>\n",
       "      <td>-0.095</td>\n",
       "      <td>9</td>\n",
       "      <td>4959.603261</td>\n",
       "      <td>0.01</td>\n",
       "      <td>0.5</td>\n",
       "      <td>500</td>\n",
       "      <td>50</td>\n",
       "      <td>18</td>\n",
       "      <td>3.973098</td>\n",
       "      <td>3.008669</td>\n",
       "      <td>0.569068</td>\n",
       "      <td>362</td>\n",
       "      <td>6</td>\n",
       "    </tr>\n",
       "    <tr>\n",
       "      <th>4</th>\n",
       "      <td>ADAUSDT</td>\n",
       "      <td>50</td>\n",
       "      <td>0.681</td>\n",
       "      <td>0.075</td>\n",
       "      <td>9</td>\n",
       "      <td>1995.085106</td>\n",
       "      <td>0.01</td>\n",
       "      <td>0.2</td>\n",
       "      <td>1500</td>\n",
       "      <td>50</td>\n",
       "      <td>8</td>\n",
       "      <td>1.987063</td>\n",
       "      <td>1.305975</td>\n",
       "      <td>0.603413</td>\n",
       "      <td>182</td>\n",
       "      <td>6</td>\n",
       "    </tr>\n",
       "    <tr>\n",
       "      <th>5</th>\n",
       "      <td>ADAUSDT</td>\n",
       "      <td>50</td>\n",
       "      <td>0.835</td>\n",
       "      <td>0.275</td>\n",
       "      <td>9</td>\n",
       "      <td>1034.053719</td>\n",
       "      <td>0.01</td>\n",
       "      <td>0.1</td>\n",
       "      <td>1000</td>\n",
       "      <td>50</td>\n",
       "      <td>9</td>\n",
       "      <td>2.467858</td>\n",
       "      <td>1.633058</td>\n",
       "      <td>0.601782</td>\n",
       "      <td>227</td>\n",
       "      <td>15</td>\n",
       "    </tr>\n",
       "    <tr>\n",
       "      <th>6</th>\n",
       "      <td>ADAUSDT</td>\n",
       "      <td>50</td>\n",
       "      <td>0.585</td>\n",
       "      <td>-0.059</td>\n",
       "      <td>9</td>\n",
       "      <td>4350.483471</td>\n",
       "      <td>0.01</td>\n",
       "      <td>0.5</td>\n",
       "      <td>1000</td>\n",
       "      <td>50</td>\n",
       "      <td>12</td>\n",
       "      <td>2.590405</td>\n",
       "      <td>2.005848</td>\n",
       "      <td>0.563591</td>\n",
       "      <td>238</td>\n",
       "      <td>4</td>\n",
       "    </tr>\n",
       "    <tr>\n",
       "      <th>7</th>\n",
       "      <td>ADAUSDT</td>\n",
       "      <td>5</td>\n",
       "      <td>-1.098</td>\n",
       "      <td>-1.225</td>\n",
       "      <td>9</td>\n",
       "      <td>1972.774557</td>\n",
       "      <td>0.01</td>\n",
       "      <td>0.2</td>\n",
       "      <td>500</td>\n",
       "      <td>5</td>\n",
       "      <td>37</td>\n",
       "      <td>12.834581</td>\n",
       "      <td>13.932087</td>\n",
       "      <td>0.479499</td>\n",
       "      <td>1173</td>\n",
       "      <td>69</td>\n",
       "    </tr>\n",
       "    <tr>\n",
       "      <th>8</th>\n",
       "      <td>ADAUSDT</td>\n",
       "      <td>5</td>\n",
       "      <td>0.050</td>\n",
       "      <td>-0.417</td>\n",
       "      <td>9</td>\n",
       "      <td>2127.009357</td>\n",
       "      <td>0.01</td>\n",
       "      <td>0.2</td>\n",
       "      <td>500</td>\n",
       "      <td>50</td>\n",
       "      <td>36</td>\n",
       "      <td>8.885253</td>\n",
       "      <td>8.835601</td>\n",
       "      <td>0.501401</td>\n",
       "      <td>811</td>\n",
       "      <td>44</td>\n",
       "    </tr>\n",
       "    <tr>\n",
       "      <th>9</th>\n",
       "      <td>ADAUSDT</td>\n",
       "      <td>5</td>\n",
       "      <td>2.599</td>\n",
       "      <td>-0.722</td>\n",
       "      <td>9</td>\n",
       "      <td>13764.289044</td>\n",
       "      <td>0.03</td>\n",
       "      <td>0.5</td>\n",
       "      <td>1500</td>\n",
       "      <td>50</td>\n",
       "      <td>52</td>\n",
       "      <td>12.630183</td>\n",
       "      <td>10.031343</td>\n",
       "      <td>0.557340</td>\n",
       "      <td>409</td>\n",
       "      <td>20</td>\n",
       "    </tr>\n",
       "  </tbody>\n",
       "</table>\n",
       "</div>"
      ],
      "text/plain": [
       "      pair  ema  strat    res  sig             c    tp   sl    dw  dwp  max_o  \\\n",
       "0  ADAUSDT   50  1.255  0.356    9   1778.479339  0.01  0.2  1000   50     10   \n",
       "1  ADAUSDT    5  1.075 -0.776    9   5175.348538  0.01  0.5   500   50     49   \n",
       "2  ADAUSDT    5  1.058 -0.118    9   2039.445378  0.01  0.2  1500    5     25   \n",
       "3  ADAUSDT   50  0.964 -0.095    9   4959.603261  0.01  0.5   500   50     18   \n",
       "4  ADAUSDT   50  0.681  0.075    9   1995.085106  0.01  0.2  1500   50      8   \n",
       "5  ADAUSDT   50  0.835  0.275    9   1034.053719  0.01  0.1  1000   50      9   \n",
       "6  ADAUSDT   50  0.585 -0.059    9   4350.483471  0.01  0.5  1000   50     12   \n",
       "7  ADAUSDT    5 -1.098 -1.225    9   1972.774557  0.01  0.2   500    5     37   \n",
       "8  ADAUSDT    5  0.050 -0.417    9   2127.009357  0.01  0.2   500   50     36   \n",
       "9  ADAUSDT    5  2.599 -0.722    9  13764.289044  0.03  0.5  1500   50     52   \n",
       "\n",
       "       s_p_s      s_n_s   Rel_sum  l_p_s  l_n_s  \n",
       "0   2.568066   1.312948  0.661700    236      6  \n",
       "1   9.177015   8.102261  0.531100    838     17  \n",
       "2   6.258304   5.200058  0.546178    569     26  \n",
       "3   3.973098   3.008669  0.569068    362      6  \n",
       "4   1.987063   1.305975  0.603413    182      6  \n",
       "5   2.467858   1.633058  0.601782    227     15  \n",
       "6   2.590405   2.005848  0.563591    238      4  \n",
       "7  12.834581  13.932087  0.479499   1173     69  \n",
       "8   8.885253   8.835601  0.501401    811     44  \n",
       "9  12.630183  10.031343  0.557340    409     20  "
      ]
     },
     "execution_count": 21,
     "metadata": {},
     "output_type": "execute_result"
    }
   ],
   "source": [
    "rank_ADAUSDT[['pair', 'ema', 'strat', 'res', 'sig', 'c', 'tp', 'sl', 'dw', 'dwp',\n",
    "       'max_o', 's_p_s', 's_n_s', 'Rel_sum', 'l_p_s', 'l_n_s']].head(10)"
   ]
  },
  {
   "cell_type": "code",
   "execution_count": 22,
   "id": "3f647204-db89-4662-a9f5-1ce3c4beddda",
   "metadata": {},
   "outputs": [
    {
     "data": {
      "text/html": [
       "<div>\n",
       "<style scoped>\n",
       "    .dataframe tbody tr th:only-of-type {\n",
       "        vertical-align: middle;\n",
       "    }\n",
       "\n",
       "    .dataframe tbody tr th {\n",
       "        vertical-align: top;\n",
       "    }\n",
       "\n",
       "    .dataframe thead th {\n",
       "        text-align: right;\n",
       "    }\n",
       "</style>\n",
       "<table border=\"1\" class=\"dataframe\">\n",
       "  <thead>\n",
       "    <tr style=\"text-align: right;\">\n",
       "      <th></th>\n",
       "      <th>pair</th>\n",
       "      <th>ema</th>\n",
       "      <th>strat</th>\n",
       "      <th>res</th>\n",
       "      <th>sig</th>\n",
       "      <th>c</th>\n",
       "      <th>tp</th>\n",
       "      <th>sl</th>\n",
       "      <th>dw</th>\n",
       "      <th>dwp</th>\n",
       "      <th>max_o</th>\n",
       "      <th>s_p_s</th>\n",
       "      <th>s_n_s</th>\n",
       "      <th>Rel_sum</th>\n",
       "      <th>l_p_s</th>\n",
       "      <th>l_n_s</th>\n",
       "    </tr>\n",
       "  </thead>\n",
       "  <tbody>\n",
       "    <tr>\n",
       "      <th>0</th>\n",
       "      <td>BTCUSDT</td>\n",
       "      <td>5</td>\n",
       "      <td>44.045</td>\n",
       "      <td>2492314.40</td>\n",
       "      <td>9</td>\n",
       "      <td>19718.986159</td>\n",
       "      <td>0.05</td>\n",
       "      <td>0.5</td>\n",
       "      <td>500</td>\n",
       "      <td>5</td>\n",
       "      <td>253</td>\n",
       "      <td>44.045121</td>\n",
       "      <td>-0.0</td>\n",
       "      <td>1.0</td>\n",
       "      <td>867</td>\n",
       "      <td>0</td>\n",
       "    </tr>\n",
       "    <tr>\n",
       "      <th>1</th>\n",
       "      <td>BTCUSDT</td>\n",
       "      <td>5</td>\n",
       "      <td>29.289</td>\n",
       "      <td>1618758.66</td>\n",
       "      <td>9</td>\n",
       "      <td>13520.644211</td>\n",
       "      <td>0.03</td>\n",
       "      <td>0.5</td>\n",
       "      <td>500</td>\n",
       "      <td>5</td>\n",
       "      <td>169</td>\n",
       "      <td>29.289433</td>\n",
       "      <td>-0.0</td>\n",
       "      <td>1.0</td>\n",
       "      <td>950</td>\n",
       "      <td>0</td>\n",
       "    </tr>\n",
       "    <tr>\n",
       "      <th>2</th>\n",
       "      <td>BTCUSDT</td>\n",
       "      <td>5</td>\n",
       "      <td>20.279</td>\n",
       "      <td>1088547.16</td>\n",
       "      <td>9</td>\n",
       "      <td>10744.598555</td>\n",
       "      <td>0.02</td>\n",
       "      <td>0.5</td>\n",
       "      <td>500</td>\n",
       "      <td>5</td>\n",
       "      <td>131</td>\n",
       "      <td>20.279437</td>\n",
       "      <td>-0.0</td>\n",
       "      <td>1.0</td>\n",
       "      <td>969</td>\n",
       "      <td>0</td>\n",
       "    </tr>\n",
       "    <tr>\n",
       "      <th>3</th>\n",
       "      <td>BTCUSDT</td>\n",
       "      <td>5</td>\n",
       "      <td>31.240</td>\n",
       "      <td>1792474.37</td>\n",
       "      <td>9</td>\n",
       "      <td>19295.641234</td>\n",
       "      <td>0.05</td>\n",
       "      <td>0.5</td>\n",
       "      <td>500</td>\n",
       "      <td>50</td>\n",
       "      <td>187</td>\n",
       "      <td>31.240457</td>\n",
       "      <td>-0.0</td>\n",
       "      <td>1.0</td>\n",
       "      <td>616</td>\n",
       "      <td>0</td>\n",
       "    </tr>\n",
       "    <tr>\n",
       "      <th>4</th>\n",
       "      <td>BTCUSDT</td>\n",
       "      <td>5</td>\n",
       "      <td>29.113</td>\n",
       "      <td>1633295.52</td>\n",
       "      <td>9</td>\n",
       "      <td>20241.970332</td>\n",
       "      <td>0.05</td>\n",
       "      <td>0.5</td>\n",
       "      <td>1000</td>\n",
       "      <td>5</td>\n",
       "      <td>151</td>\n",
       "      <td>29.113118</td>\n",
       "      <td>-0.0</td>\n",
       "      <td>1.0</td>\n",
       "      <td>573</td>\n",
       "      <td>0</td>\n",
       "    </tr>\n",
       "    <tr>\n",
       "      <th>5</th>\n",
       "      <td>BTCUSDT</td>\n",
       "      <td>5</td>\n",
       "      <td>28.570</td>\n",
       "      <td>1650544.20</td>\n",
       "      <td>9</td>\n",
       "      <td>19054.494681</td>\n",
       "      <td>0.05</td>\n",
       "      <td>0.5</td>\n",
       "      <td>500</td>\n",
       "      <td>200</td>\n",
       "      <td>177</td>\n",
       "      <td>28.570489</td>\n",
       "      <td>-0.0</td>\n",
       "      <td>1.0</td>\n",
       "      <td>564</td>\n",
       "      <td>0</td>\n",
       "    </tr>\n",
       "    <tr>\n",
       "      <th>6</th>\n",
       "      <td>BTCUSDT</td>\n",
       "      <td>5</td>\n",
       "      <td>20.951</td>\n",
       "      <td>1185299.06</td>\n",
       "      <td>9</td>\n",
       "      <td>13032.032305</td>\n",
       "      <td>0.03</td>\n",
       "      <td>0.5</td>\n",
       "      <td>500</td>\n",
       "      <td>50</td>\n",
       "      <td>111</td>\n",
       "      <td>20.950542</td>\n",
       "      <td>-0.0</td>\n",
       "      <td>1.0</td>\n",
       "      <td>681</td>\n",
       "      <td>0</td>\n",
       "    </tr>\n",
       "    <tr>\n",
       "      <th>7</th>\n",
       "      <td>BTCUSDT</td>\n",
       "      <td>5</td>\n",
       "      <td>10.660</td>\n",
       "      <td>574526.89</td>\n",
       "      <td>9</td>\n",
       "      <td>5334.967380</td>\n",
       "      <td>0.01</td>\n",
       "      <td>0.5</td>\n",
       "      <td>500</td>\n",
       "      <td>5</td>\n",
       "      <td>71</td>\n",
       "      <td>10.660428</td>\n",
       "      <td>-0.0</td>\n",
       "      <td>1.0</td>\n",
       "      <td>981</td>\n",
       "      <td>0</td>\n",
       "    </tr>\n",
       "    <tr>\n",
       "      <th>8</th>\n",
       "      <td>BTCUSDT</td>\n",
       "      <td>5</td>\n",
       "      <td>19.540</td>\n",
       "      <td>1106940.12</td>\n",
       "      <td>9</td>\n",
       "      <td>13604.627172</td>\n",
       "      <td>0.03</td>\n",
       "      <td>0.5</td>\n",
       "      <td>500</td>\n",
       "      <td>200</td>\n",
       "      <td>101</td>\n",
       "      <td>19.540032</td>\n",
       "      <td>-0.0</td>\n",
       "      <td>1.0</td>\n",
       "      <td>633</td>\n",
       "      <td>0</td>\n",
       "    </tr>\n",
       "    <tr>\n",
       "      <th>9</th>\n",
       "      <td>BTCUSDT</td>\n",
       "      <td>5</td>\n",
       "      <td>18.633</td>\n",
       "      <td>1027947.97</td>\n",
       "      <td>9</td>\n",
       "      <td>13001.241722</td>\n",
       "      <td>0.03</td>\n",
       "      <td>0.5</td>\n",
       "      <td>1000</td>\n",
       "      <td>5</td>\n",
       "      <td>105</td>\n",
       "      <td>18.633457</td>\n",
       "      <td>-0.0</td>\n",
       "      <td>1.0</td>\n",
       "      <td>604</td>\n",
       "      <td>0</td>\n",
       "    </tr>\n",
       "  </tbody>\n",
       "</table>\n",
       "</div>"
      ],
      "text/plain": [
       "      pair  ema   strat         res  sig             c    tp   sl    dw  dwp  \\\n",
       "0  BTCUSDT    5  44.045  2492314.40    9  19718.986159  0.05  0.5   500    5   \n",
       "1  BTCUSDT    5  29.289  1618758.66    9  13520.644211  0.03  0.5   500    5   \n",
       "2  BTCUSDT    5  20.279  1088547.16    9  10744.598555  0.02  0.5   500    5   \n",
       "3  BTCUSDT    5  31.240  1792474.37    9  19295.641234  0.05  0.5   500   50   \n",
       "4  BTCUSDT    5  29.113  1633295.52    9  20241.970332  0.05  0.5  1000    5   \n",
       "5  BTCUSDT    5  28.570  1650544.20    9  19054.494681  0.05  0.5   500  200   \n",
       "6  BTCUSDT    5  20.951  1185299.06    9  13032.032305  0.03  0.5   500   50   \n",
       "7  BTCUSDT    5  10.660   574526.89    9   5334.967380  0.01  0.5   500    5   \n",
       "8  BTCUSDT    5  19.540  1106940.12    9  13604.627172  0.03  0.5   500  200   \n",
       "9  BTCUSDT    5  18.633  1027947.97    9  13001.241722  0.03  0.5  1000    5   \n",
       "\n",
       "   max_o      s_p_s  s_n_s  Rel_sum  l_p_s  l_n_s  \n",
       "0    253  44.045121   -0.0      1.0    867      0  \n",
       "1    169  29.289433   -0.0      1.0    950      0  \n",
       "2    131  20.279437   -0.0      1.0    969      0  \n",
       "3    187  31.240457   -0.0      1.0    616      0  \n",
       "4    151  29.113118   -0.0      1.0    573      0  \n",
       "5    177  28.570489   -0.0      1.0    564      0  \n",
       "6    111  20.950542   -0.0      1.0    681      0  \n",
       "7     71  10.660428   -0.0      1.0    981      0  \n",
       "8    101  19.540032   -0.0      1.0    633      0  \n",
       "9    105  18.633457   -0.0      1.0    604      0  "
      ]
     },
     "execution_count": 22,
     "metadata": {},
     "output_type": "execute_result"
    }
   ],
   "source": [
    "rank_BTCUSDT[['pair', 'ema', 'strat', 'res', 'sig', 'c', 'tp', 'sl', 'dw', 'dwp',\n",
    "       'max_o', 's_p_s', 's_n_s', 'Rel_sum', 'l_p_s', 'l_n_s']].head(10)"
   ]
  },
  {
   "cell_type": "code",
   "execution_count": 23,
   "id": "4d7ebb38-dd81-41f3-aacf-094036e54aca",
   "metadata": {},
   "outputs": [
    {
     "data": {
      "text/html": [
       "<div>\n",
       "<style scoped>\n",
       "    .dataframe tbody tr th:only-of-type {\n",
       "        vertical-align: middle;\n",
       "    }\n",
       "\n",
       "    .dataframe tbody tr th {\n",
       "        vertical-align: top;\n",
       "    }\n",
       "\n",
       "    .dataframe thead th {\n",
       "        text-align: right;\n",
       "    }\n",
       "</style>\n",
       "<table border=\"1\" class=\"dataframe\">\n",
       "  <thead>\n",
       "    <tr style=\"text-align: right;\">\n",
       "      <th></th>\n",
       "      <th>pair</th>\n",
       "      <th>ema</th>\n",
       "      <th>strat</th>\n",
       "      <th>res</th>\n",
       "      <th>sig</th>\n",
       "      <th>c</th>\n",
       "      <th>tp</th>\n",
       "      <th>sl</th>\n",
       "      <th>dw</th>\n",
       "      <th>dwp</th>\n",
       "      <th>max_o</th>\n",
       "      <th>s_p_s</th>\n",
       "      <th>s_n_s</th>\n",
       "      <th>Rel_sum</th>\n",
       "      <th>l_p_s</th>\n",
       "      <th>l_n_s</th>\n",
       "    </tr>\n",
       "  </thead>\n",
       "  <tbody>\n",
       "    <tr>\n",
       "      <th>0</th>\n",
       "      <td>ETHUSDT</td>\n",
       "      <td>5</td>\n",
       "      <td>4.282</td>\n",
       "      <td>9827.46</td>\n",
       "      <td>9</td>\n",
       "      <td>4713.967213</td>\n",
       "      <td>0.01</td>\n",
       "      <td>0.5</td>\n",
       "      <td>1500</td>\n",
       "      <td>5</td>\n",
       "      <td>43</td>\n",
       "      <td>5.258007</td>\n",
       "      <td>0.976418</td>\n",
       "      <td>0.843383</td>\n",
       "      <td>486</td>\n",
       "      <td>2</td>\n",
       "    </tr>\n",
       "    <tr>\n",
       "      <th>1</th>\n",
       "      <td>ETHUSDT</td>\n",
       "      <td>5</td>\n",
       "      <td>3.085</td>\n",
       "      <td>7862.37</td>\n",
       "      <td>9</td>\n",
       "      <td>4075.309091</td>\n",
       "      <td>0.01</td>\n",
       "      <td>0.5</td>\n",
       "      <td>1500</td>\n",
       "      <td>200</td>\n",
       "      <td>34</td>\n",
       "      <td>3.566315</td>\n",
       "      <td>0.481737</td>\n",
       "      <td>0.880995</td>\n",
       "      <td>329</td>\n",
       "      <td>1</td>\n",
       "    </tr>\n",
       "    <tr>\n",
       "      <th>2</th>\n",
       "      <td>ETHUSDT</td>\n",
       "      <td>5</td>\n",
       "      <td>2.668</td>\n",
       "      <td>1941.44</td>\n",
       "      <td>9</td>\n",
       "      <td>5482.579882</td>\n",
       "      <td>0.01</td>\n",
       "      <td>0.5</td>\n",
       "      <td>500</td>\n",
       "      <td>5</td>\n",
       "      <td>88</td>\n",
       "      <td>10.827495</td>\n",
       "      <td>8.159738</td>\n",
       "      <td>0.570251</td>\n",
       "      <td>997</td>\n",
       "      <td>17</td>\n",
       "    </tr>\n",
       "    <tr>\n",
       "      <th>3</th>\n",
       "      <td>ETHUSDT</td>\n",
       "      <td>5</td>\n",
       "      <td>2.968</td>\n",
       "      <td>6841.93</td>\n",
       "      <td>9</td>\n",
       "      <td>4954.312329</td>\n",
       "      <td>0.01</td>\n",
       "      <td>0.5</td>\n",
       "      <td>1500</td>\n",
       "      <td>50</td>\n",
       "      <td>37</td>\n",
       "      <td>3.947678</td>\n",
       "      <td>0.980127</td>\n",
       "      <td>0.801103</td>\n",
       "      <td>363</td>\n",
       "      <td>2</td>\n",
       "    </tr>\n",
       "    <tr>\n",
       "      <th>4</th>\n",
       "      <td>ETHUSDT</td>\n",
       "      <td>50</td>\n",
       "      <td>2.047</td>\n",
       "      <td>4143.20</td>\n",
       "      <td>9</td>\n",
       "      <td>5577.764706</td>\n",
       "      <td>0.01</td>\n",
       "      <td>0.5</td>\n",
       "      <td>500</td>\n",
       "      <td>50</td>\n",
       "      <td>33</td>\n",
       "      <td>3.497112</td>\n",
       "      <td>1.450399</td>\n",
       "      <td>0.706843</td>\n",
       "      <td>320</td>\n",
       "      <td>3</td>\n",
       "    </tr>\n",
       "    <tr>\n",
       "      <th>5</th>\n",
       "      <td>ETHUSDT</td>\n",
       "      <td>5</td>\n",
       "      <td>1.769</td>\n",
       "      <td>1186.27</td>\n",
       "      <td>9</td>\n",
       "      <td>5704.680578</td>\n",
       "      <td>0.01</td>\n",
       "      <td>0.5</td>\n",
       "      <td>1000</td>\n",
       "      <td>5</td>\n",
       "      <td>55</td>\n",
       "      <td>6.628644</td>\n",
       "      <td>4.859283</td>\n",
       "      <td>0.577010</td>\n",
       "      <td>613</td>\n",
       "      <td>10</td>\n",
       "    </tr>\n",
       "    <tr>\n",
       "      <th>6</th>\n",
       "      <td>ETHUSDT</td>\n",
       "      <td>50</td>\n",
       "      <td>1.428</td>\n",
       "      <td>3064.21</td>\n",
       "      <td>9</td>\n",
       "      <td>5926.058480</td>\n",
       "      <td>0.01</td>\n",
       "      <td>0.5</td>\n",
       "      <td>1500</td>\n",
       "      <td>50</td>\n",
       "      <td>19</td>\n",
       "      <td>1.896153</td>\n",
       "      <td>0.468007</td>\n",
       "      <td>0.802041</td>\n",
       "      <td>170</td>\n",
       "      <td>1</td>\n",
       "    </tr>\n",
       "    <tr>\n",
       "      <th>7</th>\n",
       "      <td>ETHUSDT</td>\n",
       "      <td>5</td>\n",
       "      <td>4.470</td>\n",
       "      <td>8502.27</td>\n",
       "      <td>9</td>\n",
       "      <td>12317.123832</td>\n",
       "      <td>0.03</td>\n",
       "      <td>0.5</td>\n",
       "      <td>1500</td>\n",
       "      <td>5</td>\n",
       "      <td>102</td>\n",
       "      <td>13.044324</td>\n",
       "      <td>8.574193</td>\n",
       "      <td>0.603387</td>\n",
       "      <td>410</td>\n",
       "      <td>18</td>\n",
       "    </tr>\n",
       "    <tr>\n",
       "      <th>8</th>\n",
       "      <td>ETHUSDT</td>\n",
       "      <td>5</td>\n",
       "      <td>2.889</td>\n",
       "      <td>5887.27</td>\n",
       "      <td>9</td>\n",
       "      <td>9239.023256</td>\n",
       "      <td>0.02</td>\n",
       "      <td>0.5</td>\n",
       "      <td>1500</td>\n",
       "      <td>50</td>\n",
       "      <td>62</td>\n",
       "      <td>7.121284</td>\n",
       "      <td>4.232256</td>\n",
       "      <td>0.627230</td>\n",
       "      <td>335</td>\n",
       "      <td>9</td>\n",
       "    </tr>\n",
       "    <tr>\n",
       "      <th>9</th>\n",
       "      <td>ETHUSDT</td>\n",
       "      <td>50</td>\n",
       "      <td>0.916</td>\n",
       "      <td>2121.37</td>\n",
       "      <td>9</td>\n",
       "      <td>4749.435484</td>\n",
       "      <td>0.01</td>\n",
       "      <td>0.5</td>\n",
       "      <td>1500</td>\n",
       "      <td>200</td>\n",
       "      <td>15</td>\n",
       "      <td>1.384480</td>\n",
       "      <td>0.468007</td>\n",
       "      <td>0.747363</td>\n",
       "      <td>123</td>\n",
       "      <td>1</td>\n",
       "    </tr>\n",
       "  </tbody>\n",
       "</table>\n",
       "</div>"
      ],
      "text/plain": [
       "      pair  ema  strat      res  sig             c    tp   sl    dw  dwp  \\\n",
       "0  ETHUSDT    5  4.282  9827.46    9   4713.967213  0.01  0.5  1500    5   \n",
       "1  ETHUSDT    5  3.085  7862.37    9   4075.309091  0.01  0.5  1500  200   \n",
       "2  ETHUSDT    5  2.668  1941.44    9   5482.579882  0.01  0.5   500    5   \n",
       "3  ETHUSDT    5  2.968  6841.93    9   4954.312329  0.01  0.5  1500   50   \n",
       "4  ETHUSDT   50  2.047  4143.20    9   5577.764706  0.01  0.5   500   50   \n",
       "5  ETHUSDT    5  1.769  1186.27    9   5704.680578  0.01  0.5  1000    5   \n",
       "6  ETHUSDT   50  1.428  3064.21    9   5926.058480  0.01  0.5  1500   50   \n",
       "7  ETHUSDT    5  4.470  8502.27    9  12317.123832  0.03  0.5  1500    5   \n",
       "8  ETHUSDT    5  2.889  5887.27    9   9239.023256  0.02  0.5  1500   50   \n",
       "9  ETHUSDT   50  0.916  2121.37    9   4749.435484  0.01  0.5  1500  200   \n",
       "\n",
       "   max_o      s_p_s     s_n_s   Rel_sum  l_p_s  l_n_s  \n",
       "0     43   5.258007  0.976418  0.843383    486      2  \n",
       "1     34   3.566315  0.481737  0.880995    329      1  \n",
       "2     88  10.827495  8.159738  0.570251    997     17  \n",
       "3     37   3.947678  0.980127  0.801103    363      2  \n",
       "4     33   3.497112  1.450399  0.706843    320      3  \n",
       "5     55   6.628644  4.859283  0.577010    613     10  \n",
       "6     19   1.896153  0.468007  0.802041    170      1  \n",
       "7    102  13.044324  8.574193  0.603387    410     18  \n",
       "8     62   7.121284  4.232256  0.627230    335      9  \n",
       "9     15   1.384480  0.468007  0.747363    123      1  "
      ]
     },
     "execution_count": 23,
     "metadata": {},
     "output_type": "execute_result"
    }
   ],
   "source": [
    "rank_ETHUSDT[['pair', 'ema', 'strat', 'res', 'sig', 'c', 'tp', 'sl', 'dw', 'dwp',\n",
    "       'max_o', 's_p_s', 's_n_s', 'Rel_sum', 'l_p_s', 'l_n_s']].head(10)"
   ]
  },
  {
   "cell_type": "code",
   "execution_count": 24,
   "id": "43177e2b-0ded-4777-8559-5ab83c317565",
   "metadata": {},
   "outputs": [
    {
     "data": {
      "text/html": [
       "<div>\n",
       "<style scoped>\n",
       "    .dataframe tbody tr th:only-of-type {\n",
       "        vertical-align: middle;\n",
       "    }\n",
       "\n",
       "    .dataframe tbody tr th {\n",
       "        vertical-align: top;\n",
       "    }\n",
       "\n",
       "    .dataframe thead th {\n",
       "        text-align: right;\n",
       "    }\n",
       "</style>\n",
       "<table border=\"1\" class=\"dataframe\">\n",
       "  <thead>\n",
       "    <tr style=\"text-align: right;\">\n",
       "      <th></th>\n",
       "      <th>pair</th>\n",
       "      <th>ema</th>\n",
       "      <th>strat</th>\n",
       "      <th>res</th>\n",
       "      <th>sig</th>\n",
       "      <th>c</th>\n",
       "      <th>tp</th>\n",
       "      <th>sl</th>\n",
       "      <th>dw</th>\n",
       "      <th>dwp</th>\n",
       "      <th>max_o</th>\n",
       "      <th>s_p_s</th>\n",
       "      <th>s_n_s</th>\n",
       "      <th>Rel_sum</th>\n",
       "      <th>l_p_s</th>\n",
       "      <th>l_n_s</th>\n",
       "    </tr>\n",
       "  </thead>\n",
       "  <tbody>\n",
       "    <tr>\n",
       "      <th>0</th>\n",
       "      <td>BNBUSDT</td>\n",
       "      <td>5</td>\n",
       "      <td>45.690</td>\n",
       "      <td>20894.2</td>\n",
       "      <td>9</td>\n",
       "      <td>25859.579048</td>\n",
       "      <td>0.05</td>\n",
       "      <td>0.5</td>\n",
       "      <td>500</td>\n",
       "      <td>5</td>\n",
       "      <td>232</td>\n",
       "      <td>52.865747</td>\n",
       "      <td>7.175265</td>\n",
       "      <td>0.880494</td>\n",
       "      <td>1036</td>\n",
       "      <td>14</td>\n",
       "    </tr>\n",
       "    <tr>\n",
       "      <th>1</th>\n",
       "      <td>BNBUSDT</td>\n",
       "      <td>5</td>\n",
       "      <td>27.467</td>\n",
       "      <td>12329.9</td>\n",
       "      <td>9</td>\n",
       "      <td>15420.551270</td>\n",
       "      <td>0.03</td>\n",
       "      <td>0.5</td>\n",
       "      <td>500</td>\n",
       "      <td>5</td>\n",
       "      <td>187</td>\n",
       "      <td>32.629443</td>\n",
       "      <td>5.162007</td>\n",
       "      <td>0.863408</td>\n",
       "      <td>1053</td>\n",
       "      <td>10</td>\n",
       "    </tr>\n",
       "    <tr>\n",
       "      <th>2</th>\n",
       "      <td>BNBUSDT</td>\n",
       "      <td>5</td>\n",
       "      <td>29.107</td>\n",
       "      <td>13464.6</td>\n",
       "      <td>9</td>\n",
       "      <td>26748.341049</td>\n",
       "      <td>0.05</td>\n",
       "      <td>0.5</td>\n",
       "      <td>500</td>\n",
       "      <td>50</td>\n",
       "      <td>151</td>\n",
       "      <td>32.717593</td>\n",
       "      <td>3.610782</td>\n",
       "      <td>0.900607</td>\n",
       "      <td>641</td>\n",
       "      <td>7</td>\n",
       "    </tr>\n",
       "    <tr>\n",
       "      <th>3</th>\n",
       "      <td>BNBUSDT</td>\n",
       "      <td>5</td>\n",
       "      <td>28.818</td>\n",
       "      <td>13261.8</td>\n",
       "      <td>9</td>\n",
       "      <td>24489.093514</td>\n",
       "      <td>0.05</td>\n",
       "      <td>0.5</td>\n",
       "      <td>1000</td>\n",
       "      <td>5</td>\n",
       "      <td>172</td>\n",
       "      <td>33.384953</td>\n",
       "      <td>4.566920</td>\n",
       "      <td>0.879665</td>\n",
       "      <td>654</td>\n",
       "      <td>9</td>\n",
       "    </tr>\n",
       "    <tr>\n",
       "      <th>4</th>\n",
       "      <td>BNBUSDT</td>\n",
       "      <td>5</td>\n",
       "      <td>17.027</td>\n",
       "      <td>7496.7</td>\n",
       "      <td>9</td>\n",
       "      <td>9964.606343</td>\n",
       "      <td>0.02</td>\n",
       "      <td>0.5</td>\n",
       "      <td>500</td>\n",
       "      <td>5</td>\n",
       "      <td>144</td>\n",
       "      <td>22.188723</td>\n",
       "      <td>5.162007</td>\n",
       "      <td>0.811266</td>\n",
       "      <td>1062</td>\n",
       "      <td>10</td>\n",
       "    </tr>\n",
       "    <tr>\n",
       "      <th>5</th>\n",
       "      <td>BNBUSDT</td>\n",
       "      <td>5</td>\n",
       "      <td>25.900</td>\n",
       "      <td>11729.4</td>\n",
       "      <td>9</td>\n",
       "      <td>28859.334471</td>\n",
       "      <td>0.05</td>\n",
       "      <td>0.5</td>\n",
       "      <td>500</td>\n",
       "      <td>200</td>\n",
       "      <td>144</td>\n",
       "      <td>29.494520</td>\n",
       "      <td>3.594945</td>\n",
       "      <td>0.891357</td>\n",
       "      <td>579</td>\n",
       "      <td>7</td>\n",
       "    </tr>\n",
       "    <tr>\n",
       "      <th>6</th>\n",
       "      <td>BNBUSDT</td>\n",
       "      <td>5</td>\n",
       "      <td>9.123</td>\n",
       "      <td>4071.5</td>\n",
       "      <td>9</td>\n",
       "      <td>4710.454963</td>\n",
       "      <td>0.01</td>\n",
       "      <td>0.5</td>\n",
       "      <td>500</td>\n",
       "      <td>5</td>\n",
       "      <td>83</td>\n",
       "      <td>11.674823</td>\n",
       "      <td>2.551929</td>\n",
       "      <td>0.820625</td>\n",
       "      <td>1083</td>\n",
       "      <td>5</td>\n",
       "    </tr>\n",
       "    <tr>\n",
       "      <th>7</th>\n",
       "      <td>BNBUSDT</td>\n",
       "      <td>5</td>\n",
       "      <td>23.133</td>\n",
       "      <td>10655.4</td>\n",
       "      <td>9</td>\n",
       "      <td>24375.663386</td>\n",
       "      <td>0.05</td>\n",
       "      <td>0.5</td>\n",
       "      <td>1500</td>\n",
       "      <td>5</td>\n",
       "      <td>139</td>\n",
       "      <td>25.684917</td>\n",
       "      <td>2.551929</td>\n",
       "      <td>0.909624</td>\n",
       "      <td>503</td>\n",
       "      <td>5</td>\n",
       "    </tr>\n",
       "    <tr>\n",
       "      <th>8</th>\n",
       "      <td>BNBUSDT</td>\n",
       "      <td>5</td>\n",
       "      <td>18.176</td>\n",
       "      <td>8305.8</td>\n",
       "      <td>9</td>\n",
       "      <td>14765.867953</td>\n",
       "      <td>0.03</td>\n",
       "      <td>0.5</td>\n",
       "      <td>1000</td>\n",
       "      <td>5</td>\n",
       "      <td>134</td>\n",
       "      <td>20.727904</td>\n",
       "      <td>2.551929</td>\n",
       "      <td>0.890380</td>\n",
       "      <td>669</td>\n",
       "      <td>5</td>\n",
       "    </tr>\n",
       "    <tr>\n",
       "      <th>9</th>\n",
       "      <td>BNBUSDT</td>\n",
       "      <td>5</td>\n",
       "      <td>16.299</td>\n",
       "      <td>7428.7</td>\n",
       "      <td>9</td>\n",
       "      <td>16446.757983</td>\n",
       "      <td>0.03</td>\n",
       "      <td>0.5</td>\n",
       "      <td>500</td>\n",
       "      <td>200</td>\n",
       "      <td>99</td>\n",
       "      <td>18.364091</td>\n",
       "      <td>2.064976</td>\n",
       "      <td>0.898920</td>\n",
       "      <td>591</td>\n",
       "      <td>4</td>\n",
       "    </tr>\n",
       "  </tbody>\n",
       "</table>\n",
       "</div>"
      ],
      "text/plain": [
       "      pair  ema   strat      res  sig             c    tp   sl    dw  dwp  \\\n",
       "0  BNBUSDT    5  45.690  20894.2    9  25859.579048  0.05  0.5   500    5   \n",
       "1  BNBUSDT    5  27.467  12329.9    9  15420.551270  0.03  0.5   500    5   \n",
       "2  BNBUSDT    5  29.107  13464.6    9  26748.341049  0.05  0.5   500   50   \n",
       "3  BNBUSDT    5  28.818  13261.8    9  24489.093514  0.05  0.5  1000    5   \n",
       "4  BNBUSDT    5  17.027   7496.7    9   9964.606343  0.02  0.5   500    5   \n",
       "5  BNBUSDT    5  25.900  11729.4    9  28859.334471  0.05  0.5   500  200   \n",
       "6  BNBUSDT    5   9.123   4071.5    9   4710.454963  0.01  0.5   500    5   \n",
       "7  BNBUSDT    5  23.133  10655.4    9  24375.663386  0.05  0.5  1500    5   \n",
       "8  BNBUSDT    5  18.176   8305.8    9  14765.867953  0.03  0.5  1000    5   \n",
       "9  BNBUSDT    5  16.299   7428.7    9  16446.757983  0.03  0.5   500  200   \n",
       "\n",
       "   max_o      s_p_s     s_n_s   Rel_sum  l_p_s  l_n_s  \n",
       "0    232  52.865747  7.175265  0.880494   1036     14  \n",
       "1    187  32.629443  5.162007  0.863408   1053     10  \n",
       "2    151  32.717593  3.610782  0.900607    641      7  \n",
       "3    172  33.384953  4.566920  0.879665    654      9  \n",
       "4    144  22.188723  5.162007  0.811266   1062     10  \n",
       "5    144  29.494520  3.594945  0.891357    579      7  \n",
       "6     83  11.674823  2.551929  0.820625   1083      5  \n",
       "7    139  25.684917  2.551929  0.909624    503      5  \n",
       "8    134  20.727904  2.551929  0.890380    669      5  \n",
       "9     99  18.364091  2.064976  0.898920    591      4  "
      ]
     },
     "execution_count": 24,
     "metadata": {},
     "output_type": "execute_result"
    }
   ],
   "source": [
    "rank_BNBUSDT[['pair', 'ema', 'strat', 'res', 'sig', 'c', 'tp', 'sl', 'dw', 'dwp',\n",
    "       'max_o', 's_p_s', 's_n_s', 'Rel_sum', 'l_p_s', 'l_n_s']].head(10)"
   ]
  },
  {
   "cell_type": "code",
   "execution_count": 25,
   "id": "8a519113-bb9c-4064-a614-db6efb0c97b2",
   "metadata": {
    "scrolled": true
   },
   "outputs": [
    {
     "data": {
      "text/html": [
       "<div>\n",
       "<style scoped>\n",
       "    .dataframe tbody tr th:only-of-type {\n",
       "        vertical-align: middle;\n",
       "    }\n",
       "\n",
       "    .dataframe tbody tr th {\n",
       "        vertical-align: top;\n",
       "    }\n",
       "\n",
       "    .dataframe thead th {\n",
       "        text-align: right;\n",
       "    }\n",
       "</style>\n",
       "<table border=\"1\" class=\"dataframe\">\n",
       "  <thead>\n",
       "    <tr style=\"text-align: right;\">\n",
       "      <th></th>\n",
       "      <th>pair</th>\n",
       "      <th>ema</th>\n",
       "      <th>strat</th>\n",
       "      <th>res</th>\n",
       "      <th>sig</th>\n",
       "      <th>c</th>\n",
       "      <th>tp</th>\n",
       "      <th>sl</th>\n",
       "      <th>dw</th>\n",
       "      <th>dwp</th>\n",
       "      <th>max_o</th>\n",
       "      <th>s_p_s</th>\n",
       "      <th>s_n_s</th>\n",
       "      <th>Rel_sum</th>\n",
       "      <th>l_p_s</th>\n",
       "      <th>l_n_s</th>\n",
       "    </tr>\n",
       "  </thead>\n",
       "  <tbody>\n",
       "    <tr>\n",
       "      <th>0</th>\n",
       "      <td>XRPUSDT</td>\n",
       "      <td>5</td>\n",
       "      <td>52.830</td>\n",
       "      <td>23.202</td>\n",
       "      <td>9</td>\n",
       "      <td>23849.862376</td>\n",
       "      <td>0.05</td>\n",
       "      <td>0.5</td>\n",
       "      <td>500</td>\n",
       "      <td>5</td>\n",
       "      <td>307</td>\n",
       "      <td>52.830006</td>\n",
       "      <td>-0.000000</td>\n",
       "      <td>1.000000</td>\n",
       "      <td>1010</td>\n",
       "      <td>0</td>\n",
       "    </tr>\n",
       "    <tr>\n",
       "      <th>1</th>\n",
       "      <td>XRPUSDT</td>\n",
       "      <td>5</td>\n",
       "      <td>32.763</td>\n",
       "      <td>14.343</td>\n",
       "      <td>9</td>\n",
       "      <td>14725.058416</td>\n",
       "      <td>0.03</td>\n",
       "      <td>0.5</td>\n",
       "      <td>500</td>\n",
       "      <td>5</td>\n",
       "      <td>192</td>\n",
       "      <td>32.762749</td>\n",
       "      <td>-0.000000</td>\n",
       "      <td>1.000000</td>\n",
       "      <td>1010</td>\n",
       "      <td>0</td>\n",
       "    </tr>\n",
       "    <tr>\n",
       "      <th>2</th>\n",
       "      <td>XRPUSDT</td>\n",
       "      <td>5</td>\n",
       "      <td>36.678</td>\n",
       "      <td>16.106</td>\n",
       "      <td>9</td>\n",
       "      <td>25075.211048</td>\n",
       "      <td>0.05</td>\n",
       "      <td>0.5</td>\n",
       "      <td>500</td>\n",
       "      <td>50</td>\n",
       "      <td>232</td>\n",
       "      <td>36.678139</td>\n",
       "      <td>-0.000000</td>\n",
       "      <td>1.000000</td>\n",
       "      <td>706</td>\n",
       "      <td>0</td>\n",
       "    </tr>\n",
       "    <tr>\n",
       "      <th>3</th>\n",
       "      <td>XRPUSDT</td>\n",
       "      <td>5</td>\n",
       "      <td>22.510</td>\n",
       "      <td>9.667</td>\n",
       "      <td>9</td>\n",
       "      <td>10356.975272</td>\n",
       "      <td>0.02</td>\n",
       "      <td>0.5</td>\n",
       "      <td>500</td>\n",
       "      <td>5</td>\n",
       "      <td>136</td>\n",
       "      <td>22.509801</td>\n",
       "      <td>-0.000000</td>\n",
       "      <td>1.000000</td>\n",
       "      <td>1011</td>\n",
       "      <td>0</td>\n",
       "    </tr>\n",
       "    <tr>\n",
       "      <th>4</th>\n",
       "      <td>XRPUSDT</td>\n",
       "      <td>5</td>\n",
       "      <td>32.949</td>\n",
       "      <td>14.508</td>\n",
       "      <td>9</td>\n",
       "      <td>22782.748006</td>\n",
       "      <td>0.05</td>\n",
       "      <td>0.5</td>\n",
       "      <td>1000</td>\n",
       "      <td>5</td>\n",
       "      <td>190</td>\n",
       "      <td>32.949492</td>\n",
       "      <td>-0.000000</td>\n",
       "      <td>1.000000</td>\n",
       "      <td>627</td>\n",
       "      <td>0</td>\n",
       "    </tr>\n",
       "    <tr>\n",
       "      <th>5</th>\n",
       "      <td>XRPUSDT</td>\n",
       "      <td>5</td>\n",
       "      <td>33.504</td>\n",
       "      <td>14.775</td>\n",
       "      <td>9</td>\n",
       "      <td>25720.508501</td>\n",
       "      <td>0.05</td>\n",
       "      <td>0.5</td>\n",
       "      <td>500</td>\n",
       "      <td>200</td>\n",
       "      <td>208</td>\n",
       "      <td>33.503705</td>\n",
       "      <td>-0.000000</td>\n",
       "      <td>1.000000</td>\n",
       "      <td>647</td>\n",
       "      <td>0</td>\n",
       "    </tr>\n",
       "    <tr>\n",
       "      <th>6</th>\n",
       "      <td>XRPUSDT</td>\n",
       "      <td>5</td>\n",
       "      <td>23.048</td>\n",
       "      <td>10.349</td>\n",
       "      <td>9</td>\n",
       "      <td>14771.273371</td>\n",
       "      <td>0.03</td>\n",
       "      <td>0.5</td>\n",
       "      <td>500</td>\n",
       "      <td>50</td>\n",
       "      <td>141</td>\n",
       "      <td>23.047602</td>\n",
       "      <td>-0.000000</td>\n",
       "      <td>1.000000</td>\n",
       "      <td>706</td>\n",
       "      <td>0</td>\n",
       "    </tr>\n",
       "    <tr>\n",
       "      <th>7</th>\n",
       "      <td>XRPUSDT</td>\n",
       "      <td>5</td>\n",
       "      <td>11.576</td>\n",
       "      <td>4.786</td>\n",
       "      <td>9</td>\n",
       "      <td>5558.889546</td>\n",
       "      <td>0.01</td>\n",
       "      <td>0.5</td>\n",
       "      <td>500</td>\n",
       "      <td>5</td>\n",
       "      <td>77</td>\n",
       "      <td>11.579399</td>\n",
       "      <td>0.003158</td>\n",
       "      <td>0.999727</td>\n",
       "      <td>1011</td>\n",
       "      <td>3</td>\n",
       "    </tr>\n",
       "    <tr>\n",
       "      <th>8</th>\n",
       "      <td>XRPUSDT</td>\n",
       "      <td>5</td>\n",
       "      <td>21.207</td>\n",
       "      <td>9.515</td>\n",
       "      <td>9</td>\n",
       "      <td>15349.806801</td>\n",
       "      <td>0.03</td>\n",
       "      <td>0.5</td>\n",
       "      <td>500</td>\n",
       "      <td>200</td>\n",
       "      <td>127</td>\n",
       "      <td>21.207130</td>\n",
       "      <td>-0.000000</td>\n",
       "      <td>1.000000</td>\n",
       "      <td>647</td>\n",
       "      <td>0</td>\n",
       "    </tr>\n",
       "    <tr>\n",
       "      <th>9</th>\n",
       "      <td>XRPUSDT</td>\n",
       "      <td>5</td>\n",
       "      <td>24.570</td>\n",
       "      <td>11.159</td>\n",
       "      <td>9</td>\n",
       "      <td>19293.881466</td>\n",
       "      <td>0.05</td>\n",
       "      <td>0.5</td>\n",
       "      <td>1500</td>\n",
       "      <td>5</td>\n",
       "      <td>137</td>\n",
       "      <td>24.570103</td>\n",
       "      <td>-0.000000</td>\n",
       "      <td>1.000000</td>\n",
       "      <td>464</td>\n",
       "      <td>0</td>\n",
       "    </tr>\n",
       "  </tbody>\n",
       "</table>\n",
       "</div>"
      ],
      "text/plain": [
       "      pair  ema   strat     res  sig             c    tp   sl    dw  dwp  \\\n",
       "0  XRPUSDT    5  52.830  23.202    9  23849.862376  0.05  0.5   500    5   \n",
       "1  XRPUSDT    5  32.763  14.343    9  14725.058416  0.03  0.5   500    5   \n",
       "2  XRPUSDT    5  36.678  16.106    9  25075.211048  0.05  0.5   500   50   \n",
       "3  XRPUSDT    5  22.510   9.667    9  10356.975272  0.02  0.5   500    5   \n",
       "4  XRPUSDT    5  32.949  14.508    9  22782.748006  0.05  0.5  1000    5   \n",
       "5  XRPUSDT    5  33.504  14.775    9  25720.508501  0.05  0.5   500  200   \n",
       "6  XRPUSDT    5  23.048  10.349    9  14771.273371  0.03  0.5   500   50   \n",
       "7  XRPUSDT    5  11.576   4.786    9   5558.889546  0.01  0.5   500    5   \n",
       "8  XRPUSDT    5  21.207   9.515    9  15349.806801  0.03  0.5   500  200   \n",
       "9  XRPUSDT    5  24.570  11.159    9  19293.881466  0.05  0.5  1500    5   \n",
       "\n",
       "   max_o      s_p_s     s_n_s   Rel_sum  l_p_s  l_n_s  \n",
       "0    307  52.830006 -0.000000  1.000000   1010      0  \n",
       "1    192  32.762749 -0.000000  1.000000   1010      0  \n",
       "2    232  36.678139 -0.000000  1.000000    706      0  \n",
       "3    136  22.509801 -0.000000  1.000000   1011      0  \n",
       "4    190  32.949492 -0.000000  1.000000    627      0  \n",
       "5    208  33.503705 -0.000000  1.000000    647      0  \n",
       "6    141  23.047602 -0.000000  1.000000    706      0  \n",
       "7     77  11.579399  0.003158  0.999727   1011      3  \n",
       "8    127  21.207130 -0.000000  1.000000    647      0  \n",
       "9    137  24.570103 -0.000000  1.000000    464      0  "
      ]
     },
     "execution_count": 25,
     "metadata": {},
     "output_type": "execute_result"
    }
   ],
   "source": [
    "rank_XRPUSDT[['pair', 'ema', 'strat', 'res', 'sig', 'c', 'tp', 'sl', 'dw', 'dwp',\n",
    "       'max_o', 's_p_s', 's_n_s', 'Rel_sum', 'l_p_s', 'l_n_s']].head(10)"
   ]
  },
  {
   "cell_type": "code",
   "execution_count": 26,
   "id": "9348684c-5a70-4f1c-bd2d-5ab9fc417f2d",
   "metadata": {},
   "outputs": [
    {
     "data": {
      "text/html": [
       "<div>\n",
       "<style scoped>\n",
       "    .dataframe tbody tr th:only-of-type {\n",
       "        vertical-align: middle;\n",
       "    }\n",
       "\n",
       "    .dataframe tbody tr th {\n",
       "        vertical-align: top;\n",
       "    }\n",
       "\n",
       "    .dataframe thead th {\n",
       "        text-align: right;\n",
       "    }\n",
       "</style>\n",
       "<table border=\"1\" class=\"dataframe\">\n",
       "  <thead>\n",
       "    <tr style=\"text-align: right;\">\n",
       "      <th></th>\n",
       "      <th>pair</th>\n",
       "      <th>ema</th>\n",
       "      <th>strat</th>\n",
       "      <th>res</th>\n",
       "      <th>sig</th>\n",
       "      <th>c</th>\n",
       "      <th>tp</th>\n",
       "      <th>sl</th>\n",
       "      <th>dw</th>\n",
       "      <th>dwp</th>\n",
       "      <th>max_o</th>\n",
       "      <th>s_p_s</th>\n",
       "      <th>s_n_s</th>\n",
       "      <th>Rel_sum</th>\n",
       "      <th>l_p_s</th>\n",
       "      <th>l_n_s</th>\n",
       "    </tr>\n",
       "  </thead>\n",
       "  <tbody>\n",
       "    <tr>\n",
       "      <th>0</th>\n",
       "      <td>LTCUSDT</td>\n",
       "      <td>5</td>\n",
       "      <td>13.759</td>\n",
       "      <td>777.63</td>\n",
       "      <td>9</td>\n",
       "      <td>11364.174716</td>\n",
       "      <td>0.03</td>\n",
       "      <td>0.5</td>\n",
       "      <td>500</td>\n",
       "      <td>50</td>\n",
       "      <td>152</td>\n",
       "      <td>21.250134</td>\n",
       "      <td>7.491467</td>\n",
       "      <td>0.739351</td>\n",
       "      <td>689</td>\n",
       "      <td>15</td>\n",
       "    </tr>\n",
       "    <tr>\n",
       "      <th>1</th>\n",
       "      <td>LTCUSDT</td>\n",
       "      <td>5</td>\n",
       "      <td>14.035</td>\n",
       "      <td>673.18</td>\n",
       "      <td>9</td>\n",
       "      <td>12606.681637</td>\n",
       "      <td>0.03</td>\n",
       "      <td>0.5</td>\n",
       "      <td>500</td>\n",
       "      <td>5</td>\n",
       "      <td>228</td>\n",
       "      <td>30.067852</td>\n",
       "      <td>16.032906</td>\n",
       "      <td>0.652220</td>\n",
       "      <td>970</td>\n",
       "      <td>32</td>\n",
       "    </tr>\n",
       "    <tr>\n",
       "      <th>2</th>\n",
       "      <td>LTCUSDT</td>\n",
       "      <td>5</td>\n",
       "      <td>8.828</td>\n",
       "      <td>480.30</td>\n",
       "      <td>9</td>\n",
       "      <td>7770.908725</td>\n",
       "      <td>0.02</td>\n",
       "      <td>0.5</td>\n",
       "      <td>500</td>\n",
       "      <td>50</td>\n",
       "      <td>99</td>\n",
       "      <td>15.317240</td>\n",
       "      <td>6.489513</td>\n",
       "      <td>0.702408</td>\n",
       "      <td>732</td>\n",
       "      <td>13</td>\n",
       "    </tr>\n",
       "    <tr>\n",
       "      <th>3</th>\n",
       "      <td>LTCUSDT</td>\n",
       "      <td>5</td>\n",
       "      <td>9.199</td>\n",
       "      <td>554.20</td>\n",
       "      <td>9</td>\n",
       "      <td>10290.252983</td>\n",
       "      <td>0.03</td>\n",
       "      <td>0.5</td>\n",
       "      <td>1000</td>\n",
       "      <td>50</td>\n",
       "      <td>89</td>\n",
       "      <td>12.691742</td>\n",
       "      <td>3.492702</td>\n",
       "      <td>0.784194</td>\n",
       "      <td>412</td>\n",
       "      <td>7</td>\n",
       "    </tr>\n",
       "    <tr>\n",
       "      <th>4</th>\n",
       "      <td>LTCUSDT</td>\n",
       "      <td>5</td>\n",
       "      <td>9.002</td>\n",
       "      <td>560.94</td>\n",
       "      <td>9</td>\n",
       "      <td>9687.340369</td>\n",
       "      <td>0.03</td>\n",
       "      <td>0.5</td>\n",
       "      <td>1000</td>\n",
       "      <td>200</td>\n",
       "      <td>109</td>\n",
       "      <td>11.496609</td>\n",
       "      <td>2.494654</td>\n",
       "      <td>0.821699</td>\n",
       "      <td>374</td>\n",
       "      <td>5</td>\n",
       "    </tr>\n",
       "    <tr>\n",
       "      <th>5</th>\n",
       "      <td>LTCUSDT</td>\n",
       "      <td>5</td>\n",
       "      <td>3.569</td>\n",
       "      <td>208.87</td>\n",
       "      <td>9</td>\n",
       "      <td>3756.418269</td>\n",
       "      <td>0.01</td>\n",
       "      <td>0.5</td>\n",
       "      <td>1000</td>\n",
       "      <td>200</td>\n",
       "      <td>55</td>\n",
       "      <td>4.542010</td>\n",
       "      <td>0.972567</td>\n",
       "      <td>0.823637</td>\n",
       "      <td>414</td>\n",
       "      <td>2</td>\n",
       "    </tr>\n",
       "    <tr>\n",
       "      <th>6</th>\n",
       "      <td>LTCUSDT</td>\n",
       "      <td>5</td>\n",
       "      <td>6.683</td>\n",
       "      <td>204.59</td>\n",
       "      <td>9</td>\n",
       "      <td>9407.952199</td>\n",
       "      <td>0.02</td>\n",
       "      <td>0.5</td>\n",
       "      <td>500</td>\n",
       "      <td>5</td>\n",
       "      <td>170</td>\n",
       "      <td>21.223990</td>\n",
       "      <td>14.541125</td>\n",
       "      <td>0.593427</td>\n",
       "      <td>1017</td>\n",
       "      <td>29</td>\n",
       "    </tr>\n",
       "    <tr>\n",
       "      <th>7</th>\n",
       "      <td>LTCUSDT</td>\n",
       "      <td>5</td>\n",
       "      <td>3.433</td>\n",
       "      <td>127.88</td>\n",
       "      <td>9</td>\n",
       "      <td>4688.987179</td>\n",
       "      <td>0.01</td>\n",
       "      <td>0.5</td>\n",
       "      <td>500</td>\n",
       "      <td>50</td>\n",
       "      <td>60</td>\n",
       "      <td>8.402456</td>\n",
       "      <td>4.969201</td>\n",
       "      <td>0.628378</td>\n",
       "      <td>769</td>\n",
       "      <td>11</td>\n",
       "    </tr>\n",
       "    <tr>\n",
       "      <th>8</th>\n",
       "      <td>LTCUSDT</td>\n",
       "      <td>5</td>\n",
       "      <td>9.407</td>\n",
       "      <td>516.38</td>\n",
       "      <td>9</td>\n",
       "      <td>11482.661348</td>\n",
       "      <td>0.03</td>\n",
       "      <td>0.5</td>\n",
       "      <td>500</td>\n",
       "      <td>200</td>\n",
       "      <td>143</td>\n",
       "      <td>16.935771</td>\n",
       "      <td>7.529141</td>\n",
       "      <td>0.692247</td>\n",
       "      <td>549</td>\n",
       "      <td>15</td>\n",
       "    </tr>\n",
       "    <tr>\n",
       "      <th>9</th>\n",
       "      <td>LTCUSDT</td>\n",
       "      <td>5</td>\n",
       "      <td>15.112</td>\n",
       "      <td>715.19</td>\n",
       "      <td>9</td>\n",
       "      <td>19945.995327</td>\n",
       "      <td>0.05</td>\n",
       "      <td>0.5</td>\n",
       "      <td>500</td>\n",
       "      <td>50</td>\n",
       "      <td>245</td>\n",
       "      <td>30.989078</td>\n",
       "      <td>15.876585</td>\n",
       "      <td>0.661232</td>\n",
       "      <td>610</td>\n",
       "      <td>32</td>\n",
       "    </tr>\n",
       "  </tbody>\n",
       "</table>\n",
       "</div>"
      ],
      "text/plain": [
       "      pair  ema   strat     res  sig             c    tp   sl    dw  dwp  \\\n",
       "0  LTCUSDT    5  13.759  777.63    9  11364.174716  0.03  0.5   500   50   \n",
       "1  LTCUSDT    5  14.035  673.18    9  12606.681637  0.03  0.5   500    5   \n",
       "2  LTCUSDT    5   8.828  480.30    9   7770.908725  0.02  0.5   500   50   \n",
       "3  LTCUSDT    5   9.199  554.20    9  10290.252983  0.03  0.5  1000   50   \n",
       "4  LTCUSDT    5   9.002  560.94    9   9687.340369  0.03  0.5  1000  200   \n",
       "5  LTCUSDT    5   3.569  208.87    9   3756.418269  0.01  0.5  1000  200   \n",
       "6  LTCUSDT    5   6.683  204.59    9   9407.952199  0.02  0.5   500    5   \n",
       "7  LTCUSDT    5   3.433  127.88    9   4688.987179  0.01  0.5   500   50   \n",
       "8  LTCUSDT    5   9.407  516.38    9  11482.661348  0.03  0.5   500  200   \n",
       "9  LTCUSDT    5  15.112  715.19    9  19945.995327  0.05  0.5   500   50   \n",
       "\n",
       "   max_o      s_p_s      s_n_s   Rel_sum  l_p_s  l_n_s  \n",
       "0    152  21.250134   7.491467  0.739351    689     15  \n",
       "1    228  30.067852  16.032906  0.652220    970     32  \n",
       "2     99  15.317240   6.489513  0.702408    732     13  \n",
       "3     89  12.691742   3.492702  0.784194    412      7  \n",
       "4    109  11.496609   2.494654  0.821699    374      5  \n",
       "5     55   4.542010   0.972567  0.823637    414      2  \n",
       "6    170  21.223990  14.541125  0.593427   1017     29  \n",
       "7     60   8.402456   4.969201  0.628378    769     11  \n",
       "8    143  16.935771   7.529141  0.692247    549     15  \n",
       "9    245  30.989078  15.876585  0.661232    610     32  "
      ]
     },
     "execution_count": 26,
     "metadata": {},
     "output_type": "execute_result"
    }
   ],
   "source": [
    "rank_LTCUSDT[['pair', 'ema', 'strat', 'res', 'sig', 'c', 'tp', 'sl', 'dw', 'dwp',\n",
    "       'max_o', 's_p_s', 's_n_s', 'Rel_sum', 'l_p_s', 'l_n_s']].head(10)"
   ]
  },
  {
   "cell_type": "code",
   "execution_count": 33,
   "id": "4d223f0d-555d-4307-9089-bb2bd16bcce2",
   "metadata": {},
   "outputs": [],
   "source": [
    "def rank_tests(df, total_investment):\n",
    "    # Calcula o capital fracionado para cada teste com base em max_o\n",
    "    df['capital_fracionado'] = total_investment / df['max_o']\n",
    "    \n",
    "    # Calcula o retorno total ajustado, considerando o capital fracionado e o retorno percentual (strat)\n",
    "    df['retorno_ajustado'] = df['capital_fracionado'] * df['strat']\n",
    "    \n",
    "    # Ordena o DataFrame pelo retorno ajustado em ordem decrescente\n",
    "    ranked_df = df.sort_values(by='retorno_ajustado', ascending=False).reset_index(drop=True)\n",
    "    \n",
    "    return ranked_df"
   ]
  },
  {
   "cell_type": "code",
   "execution_count": 34,
   "id": "09ac4e11-78f5-48d6-a8e6-366cb3fb12fb",
   "metadata": {},
   "outputs": [
    {
     "data": {
      "text/html": [
       "<div>\n",
       "<style scoped>\n",
       "    .dataframe tbody tr th:only-of-type {\n",
       "        vertical-align: middle;\n",
       "    }\n",
       "\n",
       "    .dataframe tbody tr th {\n",
       "        vertical-align: top;\n",
       "    }\n",
       "\n",
       "    .dataframe thead th {\n",
       "        text-align: right;\n",
       "    }\n",
       "</style>\n",
       "<table border=\"1\" class=\"dataframe\">\n",
       "  <thead>\n",
       "    <tr style=\"text-align: right;\">\n",
       "      <th></th>\n",
       "      <th>pair</th>\n",
       "      <th>ema</th>\n",
       "      <th>strat</th>\n",
       "      <th>res</th>\n",
       "      <th>sig</th>\n",
       "      <th>c</th>\n",
       "      <th>tp</th>\n",
       "      <th>sl</th>\n",
       "      <th>dw</th>\n",
       "      <th>dwp</th>\n",
       "      <th>max_o</th>\n",
       "      <th>s_p_s</th>\n",
       "      <th>s_n_s</th>\n",
       "      <th>Rel_sum</th>\n",
       "      <th>l_p_s</th>\n",
       "      <th>l_n_s</th>\n",
       "      <th>capital_fracionado</th>\n",
       "      <th>retorno_ajustado</th>\n",
       "    </tr>\n",
       "  </thead>\n",
       "  <tbody>\n",
       "    <tr>\n",
       "      <th>0</th>\n",
       "      <td>ADAUSDT</td>\n",
       "      <td>50</td>\n",
       "      <td>1.255</td>\n",
       "      <td>0.356</td>\n",
       "      <td>9</td>\n",
       "      <td>1778.479339</td>\n",
       "      <td>0.01</td>\n",
       "      <td>0.2</td>\n",
       "      <td>1000</td>\n",
       "      <td>50</td>\n",
       "      <td>10</td>\n",
       "      <td>2.568066</td>\n",
       "      <td>1.312948</td>\n",
       "      <td>0.661700</td>\n",
       "      <td>236</td>\n",
       "      <td>6</td>\n",
       "      <td>500.000000</td>\n",
       "      <td>627.500000</td>\n",
       "    </tr>\n",
       "    <tr>\n",
       "      <th>1</th>\n",
       "      <td>ADAUSDT</td>\n",
       "      <td>50</td>\n",
       "      <td>0.835</td>\n",
       "      <td>0.275</td>\n",
       "      <td>9</td>\n",
       "      <td>1034.053719</td>\n",
       "      <td>0.01</td>\n",
       "      <td>0.1</td>\n",
       "      <td>1000</td>\n",
       "      <td>50</td>\n",
       "      <td>9</td>\n",
       "      <td>2.467858</td>\n",
       "      <td>1.633058</td>\n",
       "      <td>0.601782</td>\n",
       "      <td>227</td>\n",
       "      <td>15</td>\n",
       "      <td>555.555556</td>\n",
       "      <td>463.888889</td>\n",
       "    </tr>\n",
       "    <tr>\n",
       "      <th>2</th>\n",
       "      <td>ADAUSDT</td>\n",
       "      <td>50</td>\n",
       "      <td>0.681</td>\n",
       "      <td>0.075</td>\n",
       "      <td>9</td>\n",
       "      <td>1995.085106</td>\n",
       "      <td>0.01</td>\n",
       "      <td>0.2</td>\n",
       "      <td>1500</td>\n",
       "      <td>50</td>\n",
       "      <td>8</td>\n",
       "      <td>1.987063</td>\n",
       "      <td>1.305975</td>\n",
       "      <td>0.603413</td>\n",
       "      <td>182</td>\n",
       "      <td>6</td>\n",
       "      <td>625.000000</td>\n",
       "      <td>425.625000</td>\n",
       "    </tr>\n",
       "    <tr>\n",
       "      <th>3</th>\n",
       "      <td>ADAUSDT</td>\n",
       "      <td>50</td>\n",
       "      <td>1.875</td>\n",
       "      <td>-0.079</td>\n",
       "      <td>9</td>\n",
       "      <td>13942.534188</td>\n",
       "      <td>0.03</td>\n",
       "      <td>0.5</td>\n",
       "      <td>1000</td>\n",
       "      <td>50</td>\n",
       "      <td>25</td>\n",
       "      <td>6.910372</td>\n",
       "      <td>5.035610</td>\n",
       "      <td>0.578468</td>\n",
       "      <td>224</td>\n",
       "      <td>10</td>\n",
       "      <td>200.000000</td>\n",
       "      <td>375.000000</td>\n",
       "    </tr>\n",
       "    <tr>\n",
       "      <th>4</th>\n",
       "      <td>ADAUSDT</td>\n",
       "      <td>50</td>\n",
       "      <td>1.346</td>\n",
       "      <td>-0.221</td>\n",
       "      <td>9</td>\n",
       "      <td>15139.884615</td>\n",
       "      <td>0.03</td>\n",
       "      <td>0.5</td>\n",
       "      <td>1500</td>\n",
       "      <td>50</td>\n",
       "      <td>22</td>\n",
       "      <td>5.353517</td>\n",
       "      <td>4.007647</td>\n",
       "      <td>0.571886</td>\n",
       "      <td>174</td>\n",
       "      <td>8</td>\n",
       "      <td>227.272727</td>\n",
       "      <td>305.909091</td>\n",
       "    </tr>\n",
       "    <tr>\n",
       "      <th>5</th>\n",
       "      <td>ADAUSDT</td>\n",
       "      <td>50</td>\n",
       "      <td>1.291</td>\n",
       "      <td>-0.125</td>\n",
       "      <td>9</td>\n",
       "      <td>15421.251534</td>\n",
       "      <td>0.03</td>\n",
       "      <td>0.5</td>\n",
       "      <td>1500</td>\n",
       "      <td>200</td>\n",
       "      <td>22</td>\n",
       "      <td>4.810927</td>\n",
       "      <td>3.519740</td>\n",
       "      <td>0.577496</td>\n",
       "      <td>156</td>\n",
       "      <td>7</td>\n",
       "      <td>227.272727</td>\n",
       "      <td>293.409091</td>\n",
       "    </tr>\n",
       "    <tr>\n",
       "      <th>6</th>\n",
       "      <td>ADAUSDT</td>\n",
       "      <td>5</td>\n",
       "      <td>4.448</td>\n",
       "      <td>-0.907</td>\n",
       "      <td>9</td>\n",
       "      <td>23016.775943</td>\n",
       "      <td>0.05</td>\n",
       "      <td>0.5</td>\n",
       "      <td>1500</td>\n",
       "      <td>50</td>\n",
       "      <td>77</td>\n",
       "      <td>20.038711</td>\n",
       "      <td>15.590669</td>\n",
       "      <td>0.562421</td>\n",
       "      <td>393</td>\n",
       "      <td>31</td>\n",
       "      <td>64.935065</td>\n",
       "      <td>288.831169</td>\n",
       "    </tr>\n",
       "    <tr>\n",
       "      <th>7</th>\n",
       "      <td>ADAUSDT</td>\n",
       "      <td>50</td>\n",
       "      <td>0.964</td>\n",
       "      <td>-0.095</td>\n",
       "      <td>9</td>\n",
       "      <td>4959.603261</td>\n",
       "      <td>0.01</td>\n",
       "      <td>0.5</td>\n",
       "      <td>500</td>\n",
       "      <td>50</td>\n",
       "      <td>18</td>\n",
       "      <td>3.973098</td>\n",
       "      <td>3.008669</td>\n",
       "      <td>0.569068</td>\n",
       "      <td>362</td>\n",
       "      <td>6</td>\n",
       "      <td>277.777778</td>\n",
       "      <td>267.777778</td>\n",
       "    </tr>\n",
       "    <tr>\n",
       "      <th>8</th>\n",
       "      <td>ADAUSDT</td>\n",
       "      <td>50</td>\n",
       "      <td>1.325</td>\n",
       "      <td>-0.155</td>\n",
       "      <td>9</td>\n",
       "      <td>14279.085427</td>\n",
       "      <td>0.03</td>\n",
       "      <td>0.5</td>\n",
       "      <td>1000</td>\n",
       "      <td>200</td>\n",
       "      <td>26</td>\n",
       "      <td>5.877115</td>\n",
       "      <td>4.552442</td>\n",
       "      <td>0.563506</td>\n",
       "      <td>190</td>\n",
       "      <td>9</td>\n",
       "      <td>192.307692</td>\n",
       "      <td>254.807692</td>\n",
       "    </tr>\n",
       "    <tr>\n",
       "      <th>9</th>\n",
       "      <td>ADAUSDT</td>\n",
       "      <td>5</td>\n",
       "      <td>2.599</td>\n",
       "      <td>-0.722</td>\n",
       "      <td>9</td>\n",
       "      <td>13764.289044</td>\n",
       "      <td>0.03</td>\n",
       "      <td>0.5</td>\n",
       "      <td>1500</td>\n",
       "      <td>50</td>\n",
       "      <td>52</td>\n",
       "      <td>12.630183</td>\n",
       "      <td>10.031343</td>\n",
       "      <td>0.557340</td>\n",
       "      <td>409</td>\n",
       "      <td>20</td>\n",
       "      <td>96.153846</td>\n",
       "      <td>249.903846</td>\n",
       "    </tr>\n",
       "  </tbody>\n",
       "</table>\n",
       "</div>"
      ],
      "text/plain": [
       "      pair  ema  strat    res  sig             c    tp   sl    dw  dwp  max_o  \\\n",
       "0  ADAUSDT   50  1.255  0.356    9   1778.479339  0.01  0.2  1000   50     10   \n",
       "1  ADAUSDT   50  0.835  0.275    9   1034.053719  0.01  0.1  1000   50      9   \n",
       "2  ADAUSDT   50  0.681  0.075    9   1995.085106  0.01  0.2  1500   50      8   \n",
       "3  ADAUSDT   50  1.875 -0.079    9  13942.534188  0.03  0.5  1000   50     25   \n",
       "4  ADAUSDT   50  1.346 -0.221    9  15139.884615  0.03  0.5  1500   50     22   \n",
       "5  ADAUSDT   50  1.291 -0.125    9  15421.251534  0.03  0.5  1500  200     22   \n",
       "6  ADAUSDT    5  4.448 -0.907    9  23016.775943  0.05  0.5  1500   50     77   \n",
       "7  ADAUSDT   50  0.964 -0.095    9   4959.603261  0.01  0.5   500   50     18   \n",
       "8  ADAUSDT   50  1.325 -0.155    9  14279.085427  0.03  0.5  1000  200     26   \n",
       "9  ADAUSDT    5  2.599 -0.722    9  13764.289044  0.03  0.5  1500   50     52   \n",
       "\n",
       "       s_p_s      s_n_s   Rel_sum  l_p_s  l_n_s  capital_fracionado  \\\n",
       "0   2.568066   1.312948  0.661700    236      6          500.000000   \n",
       "1   2.467858   1.633058  0.601782    227     15          555.555556   \n",
       "2   1.987063   1.305975  0.603413    182      6          625.000000   \n",
       "3   6.910372   5.035610  0.578468    224     10          200.000000   \n",
       "4   5.353517   4.007647  0.571886    174      8          227.272727   \n",
       "5   4.810927   3.519740  0.577496    156      7          227.272727   \n",
       "6  20.038711  15.590669  0.562421    393     31           64.935065   \n",
       "7   3.973098   3.008669  0.569068    362      6          277.777778   \n",
       "8   5.877115   4.552442  0.563506    190      9          192.307692   \n",
       "9  12.630183  10.031343  0.557340    409     20           96.153846   \n",
       "\n",
       "   retorno_ajustado  \n",
       "0        627.500000  \n",
       "1        463.888889  \n",
       "2        425.625000  \n",
       "3        375.000000  \n",
       "4        305.909091  \n",
       "5        293.409091  \n",
       "6        288.831169  \n",
       "7        267.777778  \n",
       "8        254.807692  \n",
       "9        249.903846  "
      ]
     },
     "execution_count": 34,
     "metadata": {},
     "output_type": "execute_result"
    }
   ],
   "source": [
    "total_investment = 5000\n",
    "df_inv = rank_tests(rank_ADAUSDT, total_investment)\n",
    "df_inv[['pair', 'ema', 'strat', 'res', 'sig', 'c', 'tp', 'sl', 'dw', 'dwp',\n",
    "       'max_o', 's_p_s', 's_n_s', 'Rel_sum', 'l_p_s', 'l_n_s','capital_fracionado','retorno_ajustado']].head(10)"
   ]
  },
  {
   "cell_type": "code",
   "execution_count": 35,
   "id": "90299731-09eb-4f3b-8e33-913ea007c971",
   "metadata": {},
   "outputs": [
    {
     "data": {
      "text/html": [
       "<div>\n",
       "<style scoped>\n",
       "    .dataframe tbody tr th:only-of-type {\n",
       "        vertical-align: middle;\n",
       "    }\n",
       "\n",
       "    .dataframe tbody tr th {\n",
       "        vertical-align: top;\n",
       "    }\n",
       "\n",
       "    .dataframe thead th {\n",
       "        text-align: right;\n",
       "    }\n",
       "</style>\n",
       "<table border=\"1\" class=\"dataframe\">\n",
       "  <thead>\n",
       "    <tr style=\"text-align: right;\">\n",
       "      <th></th>\n",
       "      <th>pair</th>\n",
       "      <th>ema</th>\n",
       "      <th>strat</th>\n",
       "      <th>res</th>\n",
       "      <th>sig</th>\n",
       "      <th>c</th>\n",
       "      <th>tp</th>\n",
       "      <th>sl</th>\n",
       "      <th>dw</th>\n",
       "      <th>dwp</th>\n",
       "      <th>max_o</th>\n",
       "      <th>s_p_s</th>\n",
       "      <th>s_n_s</th>\n",
       "      <th>Rel_sum</th>\n",
       "      <th>l_p_s</th>\n",
       "      <th>l_n_s</th>\n",
       "      <th>capital_fracionado</th>\n",
       "      <th>retorno_ajustado</th>\n",
       "    </tr>\n",
       "  </thead>\n",
       "  <tbody>\n",
       "    <tr>\n",
       "      <th>0</th>\n",
       "      <td>BTCUSDT</td>\n",
       "      <td>50</td>\n",
       "      <td>8.052</td>\n",
       "      <td>451410.37</td>\n",
       "      <td>9</td>\n",
       "      <td>19150.803797</td>\n",
       "      <td>0.05</td>\n",
       "      <td>0.5</td>\n",
       "      <td>1500</td>\n",
       "      <td>50</td>\n",
       "      <td>37</td>\n",
       "      <td>8.051703</td>\n",
       "      <td>-0.0</td>\n",
       "      <td>1.0</td>\n",
       "      <td>158</td>\n",
       "      <td>0</td>\n",
       "      <td>135.135135</td>\n",
       "      <td>1088.108108</td>\n",
       "    </tr>\n",
       "    <tr>\n",
       "      <th>1</th>\n",
       "      <td>BTCUSDT</td>\n",
       "      <td>5</td>\n",
       "      <td>18.006</td>\n",
       "      <td>1026563.68</td>\n",
       "      <td>9</td>\n",
       "      <td>18417.823034</td>\n",
       "      <td>0.05</td>\n",
       "      <td>0.5</td>\n",
       "      <td>1500</td>\n",
       "      <td>50</td>\n",
       "      <td>85</td>\n",
       "      <td>18.006328</td>\n",
       "      <td>-0.0</td>\n",
       "      <td>1.0</td>\n",
       "      <td>356</td>\n",
       "      <td>0</td>\n",
       "      <td>58.823529</td>\n",
       "      <td>1059.176471</td>\n",
       "    </tr>\n",
       "    <tr>\n",
       "      <th>2</th>\n",
       "      <td>BTCUSDT</td>\n",
       "      <td>50</td>\n",
       "      <td>10.488</td>\n",
       "      <td>592916.76</td>\n",
       "      <td>9</td>\n",
       "      <td>18302.883495</td>\n",
       "      <td>0.05</td>\n",
       "      <td>0.5</td>\n",
       "      <td>1000</td>\n",
       "      <td>50</td>\n",
       "      <td>51</td>\n",
       "      <td>10.488364</td>\n",
       "      <td>-0.0</td>\n",
       "      <td>1.0</td>\n",
       "      <td>206</td>\n",
       "      <td>0</td>\n",
       "      <td>98.039216</td>\n",
       "      <td>1028.235294</td>\n",
       "    </tr>\n",
       "    <tr>\n",
       "      <th>3</th>\n",
       "      <td>BTCUSDT</td>\n",
       "      <td>5</td>\n",
       "      <td>23.286</td>\n",
       "      <td>1303247.27</td>\n",
       "      <td>9</td>\n",
       "      <td>19680.395197</td>\n",
       "      <td>0.05</td>\n",
       "      <td>0.5</td>\n",
       "      <td>1500</td>\n",
       "      <td>5</td>\n",
       "      <td>114</td>\n",
       "      <td>23.285807</td>\n",
       "      <td>-0.0</td>\n",
       "      <td>1.0</td>\n",
       "      <td>458</td>\n",
       "      <td>0</td>\n",
       "      <td>43.859649</td>\n",
       "      <td>1021.315789</td>\n",
       "    </tr>\n",
       "    <tr>\n",
       "      <th>4</th>\n",
       "      <td>BTCUSDT</td>\n",
       "      <td>5</td>\n",
       "      <td>14.443</td>\n",
       "      <td>813478.39</td>\n",
       "      <td>9</td>\n",
       "      <td>12887.777778</td>\n",
       "      <td>0.03</td>\n",
       "      <td>0.5</td>\n",
       "      <td>1000</td>\n",
       "      <td>50</td>\n",
       "      <td>72</td>\n",
       "      <td>14.443245</td>\n",
       "      <td>-0.0</td>\n",
       "      <td>1.0</td>\n",
       "      <td>468</td>\n",
       "      <td>0</td>\n",
       "      <td>69.444444</td>\n",
       "      <td>1002.986111</td>\n",
       "    </tr>\n",
       "    <tr>\n",
       "      <th>5</th>\n",
       "      <td>BTCUSDT</td>\n",
       "      <td>5</td>\n",
       "      <td>11.536</td>\n",
       "      <td>647169.78</td>\n",
       "      <td>9</td>\n",
       "      <td>12200.072386</td>\n",
       "      <td>0.03</td>\n",
       "      <td>0.5</td>\n",
       "      <td>1500</td>\n",
       "      <td>50</td>\n",
       "      <td>58</td>\n",
       "      <td>11.536387</td>\n",
       "      <td>-0.0</td>\n",
       "      <td>1.0</td>\n",
       "      <td>373</td>\n",
       "      <td>0</td>\n",
       "      <td>86.206897</td>\n",
       "      <td>994.482759</td>\n",
       "    </tr>\n",
       "    <tr>\n",
       "      <th>6</th>\n",
       "      <td>BTCUSDT</td>\n",
       "      <td>50</td>\n",
       "      <td>7.690</td>\n",
       "      <td>435124.28</td>\n",
       "      <td>9</td>\n",
       "      <td>21139.278146</td>\n",
       "      <td>0.05</td>\n",
       "      <td>0.5</td>\n",
       "      <td>1000</td>\n",
       "      <td>200</td>\n",
       "      <td>39</td>\n",
       "      <td>7.689950</td>\n",
       "      <td>-0.0</td>\n",
       "      <td>1.0</td>\n",
       "      <td>151</td>\n",
       "      <td>0</td>\n",
       "      <td>128.205128</td>\n",
       "      <td>985.897436</td>\n",
       "    </tr>\n",
       "    <tr>\n",
       "      <th>7</th>\n",
       "      <td>BTCUSDT</td>\n",
       "      <td>5</td>\n",
       "      <td>19.540</td>\n",
       "      <td>1106940.12</td>\n",
       "      <td>9</td>\n",
       "      <td>13604.627172</td>\n",
       "      <td>0.03</td>\n",
       "      <td>0.5</td>\n",
       "      <td>500</td>\n",
       "      <td>200</td>\n",
       "      <td>101</td>\n",
       "      <td>19.540032</td>\n",
       "      <td>-0.0</td>\n",
       "      <td>1.0</td>\n",
       "      <td>633</td>\n",
       "      <td>0</td>\n",
       "      <td>49.504950</td>\n",
       "      <td>967.326733</td>\n",
       "    </tr>\n",
       "    <tr>\n",
       "      <th>8</th>\n",
       "      <td>BTCUSDT</td>\n",
       "      <td>5</td>\n",
       "      <td>29.113</td>\n",
       "      <td>1633295.52</td>\n",
       "      <td>9</td>\n",
       "      <td>20241.970332</td>\n",
       "      <td>0.05</td>\n",
       "      <td>0.5</td>\n",
       "      <td>1000</td>\n",
       "      <td>5</td>\n",
       "      <td>151</td>\n",
       "      <td>29.113118</td>\n",
       "      <td>-0.0</td>\n",
       "      <td>1.0</td>\n",
       "      <td>573</td>\n",
       "      <td>0</td>\n",
       "      <td>33.112583</td>\n",
       "      <td>964.006623</td>\n",
       "    </tr>\n",
       "    <tr>\n",
       "      <th>9</th>\n",
       "      <td>BTCUSDT</td>\n",
       "      <td>5</td>\n",
       "      <td>20.951</td>\n",
       "      <td>1185299.06</td>\n",
       "      <td>9</td>\n",
       "      <td>13032.032305</td>\n",
       "      <td>0.03</td>\n",
       "      <td>0.5</td>\n",
       "      <td>500</td>\n",
       "      <td>50</td>\n",
       "      <td>111</td>\n",
       "      <td>20.950542</td>\n",
       "      <td>-0.0</td>\n",
       "      <td>1.0</td>\n",
       "      <td>681</td>\n",
       "      <td>0</td>\n",
       "      <td>45.045045</td>\n",
       "      <td>943.738739</td>\n",
       "    </tr>\n",
       "  </tbody>\n",
       "</table>\n",
       "</div>"
      ],
      "text/plain": [
       "      pair  ema   strat         res  sig             c    tp   sl    dw  dwp  \\\n",
       "0  BTCUSDT   50   8.052   451410.37    9  19150.803797  0.05  0.5  1500   50   \n",
       "1  BTCUSDT    5  18.006  1026563.68    9  18417.823034  0.05  0.5  1500   50   \n",
       "2  BTCUSDT   50  10.488   592916.76    9  18302.883495  0.05  0.5  1000   50   \n",
       "3  BTCUSDT    5  23.286  1303247.27    9  19680.395197  0.05  0.5  1500    5   \n",
       "4  BTCUSDT    5  14.443   813478.39    9  12887.777778  0.03  0.5  1000   50   \n",
       "5  BTCUSDT    5  11.536   647169.78    9  12200.072386  0.03  0.5  1500   50   \n",
       "6  BTCUSDT   50   7.690   435124.28    9  21139.278146  0.05  0.5  1000  200   \n",
       "7  BTCUSDT    5  19.540  1106940.12    9  13604.627172  0.03  0.5   500  200   \n",
       "8  BTCUSDT    5  29.113  1633295.52    9  20241.970332  0.05  0.5  1000    5   \n",
       "9  BTCUSDT    5  20.951  1185299.06    9  13032.032305  0.03  0.5   500   50   \n",
       "\n",
       "   max_o      s_p_s  s_n_s  Rel_sum  l_p_s  l_n_s  capital_fracionado  \\\n",
       "0     37   8.051703   -0.0      1.0    158      0          135.135135   \n",
       "1     85  18.006328   -0.0      1.0    356      0           58.823529   \n",
       "2     51  10.488364   -0.0      1.0    206      0           98.039216   \n",
       "3    114  23.285807   -0.0      1.0    458      0           43.859649   \n",
       "4     72  14.443245   -0.0      1.0    468      0           69.444444   \n",
       "5     58  11.536387   -0.0      1.0    373      0           86.206897   \n",
       "6     39   7.689950   -0.0      1.0    151      0          128.205128   \n",
       "7    101  19.540032   -0.0      1.0    633      0           49.504950   \n",
       "8    151  29.113118   -0.0      1.0    573      0           33.112583   \n",
       "9    111  20.950542   -0.0      1.0    681      0           45.045045   \n",
       "\n",
       "   retorno_ajustado  \n",
       "0       1088.108108  \n",
       "1       1059.176471  \n",
       "2       1028.235294  \n",
       "3       1021.315789  \n",
       "4       1002.986111  \n",
       "5        994.482759  \n",
       "6        985.897436  \n",
       "7        967.326733  \n",
       "8        964.006623  \n",
       "9        943.738739  "
      ]
     },
     "execution_count": 35,
     "metadata": {},
     "output_type": "execute_result"
    }
   ],
   "source": [
    "total_investment = 5000\n",
    "df_inv = rank_tests(rank_BTCUSDT, total_investment)\n",
    "df_inv[['pair', 'ema', 'strat', 'res', 'sig', 'c', 'tp', 'sl', 'dw', 'dwp',\n",
    "       'max_o', 's_p_s', 's_n_s', 'Rel_sum', 'l_p_s', 'l_n_s','capital_fracionado','retorno_ajustado']].head(10)"
   ]
  },
  {
   "cell_type": "code",
   "execution_count": 36,
   "id": "6e364ce4-3087-4d46-95a4-fb392433794e",
   "metadata": {},
   "outputs": [
    {
     "data": {
      "text/html": [
       "<div>\n",
       "<style scoped>\n",
       "    .dataframe tbody tr th:only-of-type {\n",
       "        vertical-align: middle;\n",
       "    }\n",
       "\n",
       "    .dataframe tbody tr th {\n",
       "        vertical-align: top;\n",
       "    }\n",
       "\n",
       "    .dataframe thead th {\n",
       "        text-align: right;\n",
       "    }\n",
       "</style>\n",
       "<table border=\"1\" class=\"dataframe\">\n",
       "  <thead>\n",
       "    <tr style=\"text-align: right;\">\n",
       "      <th></th>\n",
       "      <th>pair</th>\n",
       "      <th>ema</th>\n",
       "      <th>strat</th>\n",
       "      <th>res</th>\n",
       "      <th>sig</th>\n",
       "      <th>c</th>\n",
       "      <th>tp</th>\n",
       "      <th>sl</th>\n",
       "      <th>dw</th>\n",
       "      <th>dwp</th>\n",
       "      <th>max_o</th>\n",
       "      <th>s_p_s</th>\n",
       "      <th>s_n_s</th>\n",
       "      <th>Rel_sum</th>\n",
       "      <th>l_p_s</th>\n",
       "      <th>l_n_s</th>\n",
       "      <th>capital_fracionado</th>\n",
       "      <th>retorno_ajustado</th>\n",
       "    </tr>\n",
       "  </thead>\n",
       "  <tbody>\n",
       "    <tr>\n",
       "      <th>0</th>\n",
       "      <td>ETHUSDT</td>\n",
       "      <td>5</td>\n",
       "      <td>4.282</td>\n",
       "      <td>9827.46</td>\n",
       "      <td>9</td>\n",
       "      <td>4713.967213</td>\n",
       "      <td>0.01</td>\n",
       "      <td>0.5</td>\n",
       "      <td>1500</td>\n",
       "      <td>5</td>\n",
       "      <td>43</td>\n",
       "      <td>5.258007</td>\n",
       "      <td>0.976418</td>\n",
       "      <td>0.843383</td>\n",
       "      <td>486</td>\n",
       "      <td>2</td>\n",
       "      <td>116.279070</td>\n",
       "      <td>497.906977</td>\n",
       "    </tr>\n",
       "    <tr>\n",
       "      <th>1</th>\n",
       "      <td>ETHUSDT</td>\n",
       "      <td>50</td>\n",
       "      <td>1.867</td>\n",
       "      <td>4448.38</td>\n",
       "      <td>9</td>\n",
       "      <td>8478.803797</td>\n",
       "      <td>0.02</td>\n",
       "      <td>0.5</td>\n",
       "      <td>1000</td>\n",
       "      <td>200</td>\n",
       "      <td>20</td>\n",
       "      <td>3.312450</td>\n",
       "      <td>1.445912</td>\n",
       "      <td>0.696132</td>\n",
       "      <td>155</td>\n",
       "      <td>3</td>\n",
       "      <td>250.000000</td>\n",
       "      <td>466.750000</td>\n",
       "    </tr>\n",
       "    <tr>\n",
       "      <th>2</th>\n",
       "      <td>ETHUSDT</td>\n",
       "      <td>5</td>\n",
       "      <td>3.085</td>\n",
       "      <td>7862.37</td>\n",
       "      <td>9</td>\n",
       "      <td>4075.309091</td>\n",
       "      <td>0.01</td>\n",
       "      <td>0.5</td>\n",
       "      <td>1500</td>\n",
       "      <td>200</td>\n",
       "      <td>34</td>\n",
       "      <td>3.566315</td>\n",
       "      <td>0.481737</td>\n",
       "      <td>0.880995</td>\n",
       "      <td>329</td>\n",
       "      <td>1</td>\n",
       "      <td>147.058824</td>\n",
       "      <td>453.676471</td>\n",
       "    </tr>\n",
       "    <tr>\n",
       "      <th>3</th>\n",
       "      <td>ETHUSDT</td>\n",
       "      <td>5</td>\n",
       "      <td>2.968</td>\n",
       "      <td>6841.93</td>\n",
       "      <td>9</td>\n",
       "      <td>4954.312329</td>\n",
       "      <td>0.01</td>\n",
       "      <td>0.5</td>\n",
       "      <td>1500</td>\n",
       "      <td>50</td>\n",
       "      <td>37</td>\n",
       "      <td>3.947678</td>\n",
       "      <td>0.980127</td>\n",
       "      <td>0.801103</td>\n",
       "      <td>363</td>\n",
       "      <td>2</td>\n",
       "      <td>135.135135</td>\n",
       "      <td>401.081081</td>\n",
       "    </tr>\n",
       "    <tr>\n",
       "      <th>4</th>\n",
       "      <td>ETHUSDT</td>\n",
       "      <td>50</td>\n",
       "      <td>1.428</td>\n",
       "      <td>3064.21</td>\n",
       "      <td>9</td>\n",
       "      <td>5926.058480</td>\n",
       "      <td>0.01</td>\n",
       "      <td>0.5</td>\n",
       "      <td>1500</td>\n",
       "      <td>50</td>\n",
       "      <td>19</td>\n",
       "      <td>1.896153</td>\n",
       "      <td>0.468007</td>\n",
       "      <td>0.802041</td>\n",
       "      <td>170</td>\n",
       "      <td>1</td>\n",
       "      <td>263.157895</td>\n",
       "      <td>375.789474</td>\n",
       "    </tr>\n",
       "    <tr>\n",
       "      <th>5</th>\n",
       "      <td>ETHUSDT</td>\n",
       "      <td>50</td>\n",
       "      <td>1.972</td>\n",
       "      <td>3999.31</td>\n",
       "      <td>9</td>\n",
       "      <td>12512.286624</td>\n",
       "      <td>0.03</td>\n",
       "      <td>0.5</td>\n",
       "      <td>1500</td>\n",
       "      <td>50</td>\n",
       "      <td>30</td>\n",
       "      <td>4.794719</td>\n",
       "      <td>2.822676</td>\n",
       "      <td>0.629443</td>\n",
       "      <td>151</td>\n",
       "      <td>6</td>\n",
       "      <td>166.666667</td>\n",
       "      <td>328.666667</td>\n",
       "    </tr>\n",
       "    <tr>\n",
       "      <th>6</th>\n",
       "      <td>ETHUSDT</td>\n",
       "      <td>50</td>\n",
       "      <td>2.047</td>\n",
       "      <td>4143.20</td>\n",
       "      <td>9</td>\n",
       "      <td>5577.764706</td>\n",
       "      <td>0.01</td>\n",
       "      <td>0.5</td>\n",
       "      <td>500</td>\n",
       "      <td>50</td>\n",
       "      <td>33</td>\n",
       "      <td>3.497112</td>\n",
       "      <td>1.450399</td>\n",
       "      <td>0.706843</td>\n",
       "      <td>320</td>\n",
       "      <td>3</td>\n",
       "      <td>151.515152</td>\n",
       "      <td>310.151515</td>\n",
       "    </tr>\n",
       "    <tr>\n",
       "      <th>7</th>\n",
       "      <td>ETHUSDT</td>\n",
       "      <td>50</td>\n",
       "      <td>1.538</td>\n",
       "      <td>3584.71</td>\n",
       "      <td>9</td>\n",
       "      <td>11123.513274</td>\n",
       "      <td>0.03</td>\n",
       "      <td>0.5</td>\n",
       "      <td>1500</td>\n",
       "      <td>200</td>\n",
       "      <td>25</td>\n",
       "      <td>3.452091</td>\n",
       "      <td>1.913794</td>\n",
       "      <td>0.643340</td>\n",
       "      <td>109</td>\n",
       "      <td>4</td>\n",
       "      <td>200.000000</td>\n",
       "      <td>307.600000</td>\n",
       "    </tr>\n",
       "    <tr>\n",
       "      <th>8</th>\n",
       "      <td>ETHUSDT</td>\n",
       "      <td>50</td>\n",
       "      <td>0.916</td>\n",
       "      <td>2121.37</td>\n",
       "      <td>9</td>\n",
       "      <td>4749.435484</td>\n",
       "      <td>0.01</td>\n",
       "      <td>0.5</td>\n",
       "      <td>1500</td>\n",
       "      <td>200</td>\n",
       "      <td>15</td>\n",
       "      <td>1.384480</td>\n",
       "      <td>0.468007</td>\n",
       "      <td>0.747363</td>\n",
       "      <td>123</td>\n",
       "      <td>1</td>\n",
       "      <td>333.333333</td>\n",
       "      <td>305.333333</td>\n",
       "    </tr>\n",
       "    <tr>\n",
       "      <th>9</th>\n",
       "      <td>ETHUSDT</td>\n",
       "      <td>50</td>\n",
       "      <td>1.271</td>\n",
       "      <td>2438.66</td>\n",
       "      <td>9</td>\n",
       "      <td>5972.111650</td>\n",
       "      <td>0.01</td>\n",
       "      <td>0.5</td>\n",
       "      <td>1000</td>\n",
       "      <td>50</td>\n",
       "      <td>24</td>\n",
       "      <td>2.258498</td>\n",
       "      <td>0.987483</td>\n",
       "      <td>0.695783</td>\n",
       "      <td>204</td>\n",
       "      <td>2</td>\n",
       "      <td>208.333333</td>\n",
       "      <td>264.791667</td>\n",
       "    </tr>\n",
       "  </tbody>\n",
       "</table>\n",
       "</div>"
      ],
      "text/plain": [
       "      pair  ema  strat      res  sig             c    tp   sl    dw  dwp  \\\n",
       "0  ETHUSDT    5  4.282  9827.46    9   4713.967213  0.01  0.5  1500    5   \n",
       "1  ETHUSDT   50  1.867  4448.38    9   8478.803797  0.02  0.5  1000  200   \n",
       "2  ETHUSDT    5  3.085  7862.37    9   4075.309091  0.01  0.5  1500  200   \n",
       "3  ETHUSDT    5  2.968  6841.93    9   4954.312329  0.01  0.5  1500   50   \n",
       "4  ETHUSDT   50  1.428  3064.21    9   5926.058480  0.01  0.5  1500   50   \n",
       "5  ETHUSDT   50  1.972  3999.31    9  12512.286624  0.03  0.5  1500   50   \n",
       "6  ETHUSDT   50  2.047  4143.20    9   5577.764706  0.01  0.5   500   50   \n",
       "7  ETHUSDT   50  1.538  3584.71    9  11123.513274  0.03  0.5  1500  200   \n",
       "8  ETHUSDT   50  0.916  2121.37    9   4749.435484  0.01  0.5  1500  200   \n",
       "9  ETHUSDT   50  1.271  2438.66    9   5972.111650  0.01  0.5  1000   50   \n",
       "\n",
       "   max_o     s_p_s     s_n_s   Rel_sum  l_p_s  l_n_s  capital_fracionado  \\\n",
       "0     43  5.258007  0.976418  0.843383    486      2          116.279070   \n",
       "1     20  3.312450  1.445912  0.696132    155      3          250.000000   \n",
       "2     34  3.566315  0.481737  0.880995    329      1          147.058824   \n",
       "3     37  3.947678  0.980127  0.801103    363      2          135.135135   \n",
       "4     19  1.896153  0.468007  0.802041    170      1          263.157895   \n",
       "5     30  4.794719  2.822676  0.629443    151      6          166.666667   \n",
       "6     33  3.497112  1.450399  0.706843    320      3          151.515152   \n",
       "7     25  3.452091  1.913794  0.643340    109      4          200.000000   \n",
       "8     15  1.384480  0.468007  0.747363    123      1          333.333333   \n",
       "9     24  2.258498  0.987483  0.695783    204      2          208.333333   \n",
       "\n",
       "   retorno_ajustado  \n",
       "0        497.906977  \n",
       "1        466.750000  \n",
       "2        453.676471  \n",
       "3        401.081081  \n",
       "4        375.789474  \n",
       "5        328.666667  \n",
       "6        310.151515  \n",
       "7        307.600000  \n",
       "8        305.333333  \n",
       "9        264.791667  "
      ]
     },
     "execution_count": 36,
     "metadata": {},
     "output_type": "execute_result"
    }
   ],
   "source": [
    "total_investment = 5000\n",
    "df_inv = rank_tests(rank_ETHUSDT, total_investment)\n",
    "df_inv[['pair', 'ema', 'strat', 'res', 'sig', 'c', 'tp', 'sl', 'dw', 'dwp',\n",
    "       'max_o', 's_p_s', 's_n_s', 'Rel_sum', 'l_p_s', 'l_n_s','capital_fracionado','retorno_ajustado']].head(10)"
   ]
  },
  {
   "cell_type": "code",
   "execution_count": 37,
   "id": "6b653ff7-bfaa-41f5-8ec1-310db0b7b173",
   "metadata": {},
   "outputs": [
    {
     "data": {
      "text/html": [
       "<div>\n",
       "<style scoped>\n",
       "    .dataframe tbody tr th:only-of-type {\n",
       "        vertical-align: middle;\n",
       "    }\n",
       "\n",
       "    .dataframe tbody tr th {\n",
       "        vertical-align: top;\n",
       "    }\n",
       "\n",
       "    .dataframe thead th {\n",
       "        text-align: right;\n",
       "    }\n",
       "</style>\n",
       "<table border=\"1\" class=\"dataframe\">\n",
       "  <thead>\n",
       "    <tr style=\"text-align: right;\">\n",
       "      <th></th>\n",
       "      <th>pair</th>\n",
       "      <th>ema</th>\n",
       "      <th>strat</th>\n",
       "      <th>res</th>\n",
       "      <th>sig</th>\n",
       "      <th>c</th>\n",
       "      <th>tp</th>\n",
       "      <th>sl</th>\n",
       "      <th>dw</th>\n",
       "      <th>dwp</th>\n",
       "      <th>max_o</th>\n",
       "      <th>s_p_s</th>\n",
       "      <th>s_n_s</th>\n",
       "      <th>Rel_sum</th>\n",
       "      <th>l_p_s</th>\n",
       "      <th>l_n_s</th>\n",
       "      <th>capital_fracionado</th>\n",
       "      <th>retorno_ajustado</th>\n",
       "    </tr>\n",
       "  </thead>\n",
       "  <tbody>\n",
       "    <tr>\n",
       "      <th>0</th>\n",
       "      <td>BNBUSDT</td>\n",
       "      <td>5</td>\n",
       "      <td>45.690</td>\n",
       "      <td>20894.2</td>\n",
       "      <td>9</td>\n",
       "      <td>25859.579048</td>\n",
       "      <td>0.05</td>\n",
       "      <td>0.5</td>\n",
       "      <td>500</td>\n",
       "      <td>5</td>\n",
       "      <td>232</td>\n",
       "      <td>52.865747</td>\n",
       "      <td>7.175265</td>\n",
       "      <td>0.880494</td>\n",
       "      <td>1036</td>\n",
       "      <td>14</td>\n",
       "      <td>21.551724</td>\n",
       "      <td>984.698276</td>\n",
       "    </tr>\n",
       "    <tr>\n",
       "      <th>1</th>\n",
       "      <td>BNBUSDT</td>\n",
       "      <td>5</td>\n",
       "      <td>29.107</td>\n",
       "      <td>13464.6</td>\n",
       "      <td>9</td>\n",
       "      <td>26748.341049</td>\n",
       "      <td>0.05</td>\n",
       "      <td>0.5</td>\n",
       "      <td>500</td>\n",
       "      <td>50</td>\n",
       "      <td>151</td>\n",
       "      <td>32.717593</td>\n",
       "      <td>3.610782</td>\n",
       "      <td>0.900607</td>\n",
       "      <td>641</td>\n",
       "      <td>7</td>\n",
       "      <td>33.112583</td>\n",
       "      <td>963.807947</td>\n",
       "    </tr>\n",
       "    <tr>\n",
       "      <th>2</th>\n",
       "      <td>BNBUSDT</td>\n",
       "      <td>50</td>\n",
       "      <td>14.322</td>\n",
       "      <td>6549.0</td>\n",
       "      <td>9</td>\n",
       "      <td>25802.935583</td>\n",
       "      <td>0.05</td>\n",
       "      <td>0.5</td>\n",
       "      <td>500</td>\n",
       "      <td>50</td>\n",
       "      <td>76</td>\n",
       "      <td>16.363336</td>\n",
       "      <td>2.041042</td>\n",
       "      <td>0.889100</td>\n",
       "      <td>322</td>\n",
       "      <td>4</td>\n",
       "      <td>65.789474</td>\n",
       "      <td>942.236842</td>\n",
       "    </tr>\n",
       "    <tr>\n",
       "      <th>3</th>\n",
       "      <td>BNBUSDT</td>\n",
       "      <td>5</td>\n",
       "      <td>25.900</td>\n",
       "      <td>11729.4</td>\n",
       "      <td>9</td>\n",
       "      <td>28859.334471</td>\n",
       "      <td>0.05</td>\n",
       "      <td>0.5</td>\n",
       "      <td>500</td>\n",
       "      <td>200</td>\n",
       "      <td>144</td>\n",
       "      <td>29.494520</td>\n",
       "      <td>3.594945</td>\n",
       "      <td>0.891357</td>\n",
       "      <td>579</td>\n",
       "      <td>7</td>\n",
       "      <td>34.722222</td>\n",
       "      <td>899.305556</td>\n",
       "    </tr>\n",
       "    <tr>\n",
       "      <th>4</th>\n",
       "      <td>BNBUSDT</td>\n",
       "      <td>5</td>\n",
       "      <td>19.929</td>\n",
       "      <td>9089.9</td>\n",
       "      <td>9</td>\n",
       "      <td>26810.651685</td>\n",
       "      <td>0.05</td>\n",
       "      <td>0.5</td>\n",
       "      <td>1000</td>\n",
       "      <td>50</td>\n",
       "      <td>112</td>\n",
       "      <td>22.502654</td>\n",
       "      <td>2.573696</td>\n",
       "      <td>0.897366</td>\n",
       "      <td>440</td>\n",
       "      <td>5</td>\n",
       "      <td>44.642857</td>\n",
       "      <td>889.687500</td>\n",
       "    </tr>\n",
       "    <tr>\n",
       "      <th>5</th>\n",
       "      <td>BNBUSDT</td>\n",
       "      <td>50</td>\n",
       "      <td>8.155</td>\n",
       "      <td>3833.4</td>\n",
       "      <td>9</td>\n",
       "      <td>24595.274854</td>\n",
       "      <td>0.05</td>\n",
       "      <td>0.5</td>\n",
       "      <td>1000</td>\n",
       "      <td>200</td>\n",
       "      <td>48</td>\n",
       "      <td>8.665625</td>\n",
       "      <td>0.510592</td>\n",
       "      <td>0.944357</td>\n",
       "      <td>170</td>\n",
       "      <td>1</td>\n",
       "      <td>104.166667</td>\n",
       "      <td>849.479167</td>\n",
       "    </tr>\n",
       "    <tr>\n",
       "      <th>6</th>\n",
       "      <td>BNBUSDT</td>\n",
       "      <td>50</td>\n",
       "      <td>9.148</td>\n",
       "      <td>4232.5</td>\n",
       "      <td>9</td>\n",
       "      <td>23339.568075</td>\n",
       "      <td>0.05</td>\n",
       "      <td>0.5</td>\n",
       "      <td>1000</td>\n",
       "      <td>50</td>\n",
       "      <td>54</td>\n",
       "      <td>10.665230</td>\n",
       "      <td>1.517670</td>\n",
       "      <td>0.875426</td>\n",
       "      <td>210</td>\n",
       "      <td>3</td>\n",
       "      <td>92.592593</td>\n",
       "      <td>847.037037</td>\n",
       "    </tr>\n",
       "    <tr>\n",
       "      <th>7</th>\n",
       "      <td>BNBUSDT</td>\n",
       "      <td>5</td>\n",
       "      <td>15.443</td>\n",
       "      <td>6997.7</td>\n",
       "      <td>9</td>\n",
       "      <td>27345.755224</td>\n",
       "      <td>0.05</td>\n",
       "      <td>0.5</td>\n",
       "      <td>1500</td>\n",
       "      <td>50</td>\n",
       "      <td>92</td>\n",
       "      <td>16.985001</td>\n",
       "      <td>1.542352</td>\n",
       "      <td>0.916753</td>\n",
       "      <td>332</td>\n",
       "      <td>3</td>\n",
       "      <td>54.347826</td>\n",
       "      <td>839.293478</td>\n",
       "    </tr>\n",
       "    <tr>\n",
       "      <th>8</th>\n",
       "      <td>BNBUSDT</td>\n",
       "      <td>5</td>\n",
       "      <td>28.818</td>\n",
       "      <td>13261.8</td>\n",
       "      <td>9</td>\n",
       "      <td>24489.093514</td>\n",
       "      <td>0.05</td>\n",
       "      <td>0.5</td>\n",
       "      <td>1000</td>\n",
       "      <td>5</td>\n",
       "      <td>172</td>\n",
       "      <td>33.384953</td>\n",
       "      <td>4.566920</td>\n",
       "      <td>0.879665</td>\n",
       "      <td>654</td>\n",
       "      <td>9</td>\n",
       "      <td>29.069767</td>\n",
       "      <td>837.732558</td>\n",
       "    </tr>\n",
       "    <tr>\n",
       "      <th>9</th>\n",
       "      <td>BNBUSDT</td>\n",
       "      <td>5</td>\n",
       "      <td>23.133</td>\n",
       "      <td>10655.4</td>\n",
       "      <td>9</td>\n",
       "      <td>24375.663386</td>\n",
       "      <td>0.05</td>\n",
       "      <td>0.5</td>\n",
       "      <td>1500</td>\n",
       "      <td>5</td>\n",
       "      <td>139</td>\n",
       "      <td>25.684917</td>\n",
       "      <td>2.551929</td>\n",
       "      <td>0.909624</td>\n",
       "      <td>503</td>\n",
       "      <td>5</td>\n",
       "      <td>35.971223</td>\n",
       "      <td>832.122302</td>\n",
       "    </tr>\n",
       "  </tbody>\n",
       "</table>\n",
       "</div>"
      ],
      "text/plain": [
       "      pair  ema   strat      res  sig             c    tp   sl    dw  dwp  \\\n",
       "0  BNBUSDT    5  45.690  20894.2    9  25859.579048  0.05  0.5   500    5   \n",
       "1  BNBUSDT    5  29.107  13464.6    9  26748.341049  0.05  0.5   500   50   \n",
       "2  BNBUSDT   50  14.322   6549.0    9  25802.935583  0.05  0.5   500   50   \n",
       "3  BNBUSDT    5  25.900  11729.4    9  28859.334471  0.05  0.5   500  200   \n",
       "4  BNBUSDT    5  19.929   9089.9    9  26810.651685  0.05  0.5  1000   50   \n",
       "5  BNBUSDT   50   8.155   3833.4    9  24595.274854  0.05  0.5  1000  200   \n",
       "6  BNBUSDT   50   9.148   4232.5    9  23339.568075  0.05  0.5  1000   50   \n",
       "7  BNBUSDT    5  15.443   6997.7    9  27345.755224  0.05  0.5  1500   50   \n",
       "8  BNBUSDT    5  28.818  13261.8    9  24489.093514  0.05  0.5  1000    5   \n",
       "9  BNBUSDT    5  23.133  10655.4    9  24375.663386  0.05  0.5  1500    5   \n",
       "\n",
       "   max_o      s_p_s     s_n_s   Rel_sum  l_p_s  l_n_s  capital_fracionado  \\\n",
       "0    232  52.865747  7.175265  0.880494   1036     14           21.551724   \n",
       "1    151  32.717593  3.610782  0.900607    641      7           33.112583   \n",
       "2     76  16.363336  2.041042  0.889100    322      4           65.789474   \n",
       "3    144  29.494520  3.594945  0.891357    579      7           34.722222   \n",
       "4    112  22.502654  2.573696  0.897366    440      5           44.642857   \n",
       "5     48   8.665625  0.510592  0.944357    170      1          104.166667   \n",
       "6     54  10.665230  1.517670  0.875426    210      3           92.592593   \n",
       "7     92  16.985001  1.542352  0.916753    332      3           54.347826   \n",
       "8    172  33.384953  4.566920  0.879665    654      9           29.069767   \n",
       "9    139  25.684917  2.551929  0.909624    503      5           35.971223   \n",
       "\n",
       "   retorno_ajustado  \n",
       "0        984.698276  \n",
       "1        963.807947  \n",
       "2        942.236842  \n",
       "3        899.305556  \n",
       "4        889.687500  \n",
       "5        849.479167  \n",
       "6        847.037037  \n",
       "7        839.293478  \n",
       "8        837.732558  \n",
       "9        832.122302  "
      ]
     },
     "execution_count": 37,
     "metadata": {},
     "output_type": "execute_result"
    }
   ],
   "source": [
    "total_investment = 5000\n",
    "df_inv = rank_tests(rank_BNBUSDT, total_investment)\n",
    "df_inv[['pair', 'ema', 'strat', 'res', 'sig', 'c', 'tp', 'sl', 'dw', 'dwp',\n",
    "       'max_o', 's_p_s', 's_n_s', 'Rel_sum', 'l_p_s', 'l_n_s','capital_fracionado','retorno_ajustado']].head(10)"
   ]
  },
  {
   "cell_type": "code",
   "execution_count": 38,
   "id": "24701c45-0bea-4e3f-ba09-cb6fafb119f8",
   "metadata": {},
   "outputs": [
    {
     "data": {
      "text/html": [
       "<div>\n",
       "<style scoped>\n",
       "    .dataframe tbody tr th:only-of-type {\n",
       "        vertical-align: middle;\n",
       "    }\n",
       "\n",
       "    .dataframe tbody tr th {\n",
       "        vertical-align: top;\n",
       "    }\n",
       "\n",
       "    .dataframe thead th {\n",
       "        text-align: right;\n",
       "    }\n",
       "</style>\n",
       "<table border=\"1\" class=\"dataframe\">\n",
       "  <thead>\n",
       "    <tr style=\"text-align: right;\">\n",
       "      <th></th>\n",
       "      <th>pair</th>\n",
       "      <th>ema</th>\n",
       "      <th>strat</th>\n",
       "      <th>res</th>\n",
       "      <th>sig</th>\n",
       "      <th>c</th>\n",
       "      <th>tp</th>\n",
       "      <th>sl</th>\n",
       "      <th>dw</th>\n",
       "      <th>dwp</th>\n",
       "      <th>max_o</th>\n",
       "      <th>s_p_s</th>\n",
       "      <th>s_n_s</th>\n",
       "      <th>Rel_sum</th>\n",
       "      <th>l_p_s</th>\n",
       "      <th>l_n_s</th>\n",
       "      <th>capital_fracionado</th>\n",
       "      <th>retorno_ajustado</th>\n",
       "    </tr>\n",
       "  </thead>\n",
       "  <tbody>\n",
       "    <tr>\n",
       "      <th>0</th>\n",
       "      <td>XRPUSDT</td>\n",
       "      <td>50</td>\n",
       "      <td>8.555</td>\n",
       "      <td>3.999</td>\n",
       "      <td>9</td>\n",
       "      <td>16833.515723</td>\n",
       "      <td>0.05</td>\n",
       "      <td>0.5</td>\n",
       "      <td>1500</td>\n",
       "      <td>50</td>\n",
       "      <td>41</td>\n",
       "      <td>8.554799</td>\n",
       "      <td>-0.0</td>\n",
       "      <td>1.0</td>\n",
       "      <td>159</td>\n",
       "      <td>0</td>\n",
       "      <td>121.951220</td>\n",
       "      <td>1043.292683</td>\n",
       "    </tr>\n",
       "    <tr>\n",
       "      <th>1</th>\n",
       "      <td>XRPUSDT</td>\n",
       "      <td>50</td>\n",
       "      <td>2.021</td>\n",
       "      <td>0.951</td>\n",
       "      <td>9</td>\n",
       "      <td>3398.765363</td>\n",
       "      <td>0.01</td>\n",
       "      <td>0.5</td>\n",
       "      <td>1000</td>\n",
       "      <td>200</td>\n",
       "      <td>10</td>\n",
       "      <td>2.020852</td>\n",
       "      <td>-0.0</td>\n",
       "      <td>1.0</td>\n",
       "      <td>179</td>\n",
       "      <td>0</td>\n",
       "      <td>500.000000</td>\n",
       "      <td>1010.500000</td>\n",
       "    </tr>\n",
       "    <tr>\n",
       "      <th>2</th>\n",
       "      <td>XRPUSDT</td>\n",
       "      <td>50</td>\n",
       "      <td>3.565</td>\n",
       "      <td>1.608</td>\n",
       "      <td>9</td>\n",
       "      <td>7868.937107</td>\n",
       "      <td>0.02</td>\n",
       "      <td>0.5</td>\n",
       "      <td>1500</td>\n",
       "      <td>50</td>\n",
       "      <td>19</td>\n",
       "      <td>3.564576</td>\n",
       "      <td>-0.0</td>\n",
       "      <td>1.0</td>\n",
       "      <td>159</td>\n",
       "      <td>0</td>\n",
       "      <td>263.157895</td>\n",
       "      <td>938.157895</td>\n",
       "    </tr>\n",
       "    <tr>\n",
       "      <th>3</th>\n",
       "      <td>XRPUSDT</td>\n",
       "      <td>50</td>\n",
       "      <td>5.179</td>\n",
       "      <td>2.379</td>\n",
       "      <td>9</td>\n",
       "      <td>11286.270440</td>\n",
       "      <td>0.03</td>\n",
       "      <td>0.5</td>\n",
       "      <td>1500</td>\n",
       "      <td>50</td>\n",
       "      <td>28</td>\n",
       "      <td>5.178759</td>\n",
       "      <td>-0.0</td>\n",
       "      <td>1.0</td>\n",
       "      <td>159</td>\n",
       "      <td>0</td>\n",
       "      <td>178.571429</td>\n",
       "      <td>924.821429</td>\n",
       "    </tr>\n",
       "    <tr>\n",
       "      <th>4</th>\n",
       "      <td>XRPUSDT</td>\n",
       "      <td>50</td>\n",
       "      <td>16.820</td>\n",
       "      <td>7.557</td>\n",
       "      <td>9</td>\n",
       "      <td>21708.178125</td>\n",
       "      <td>0.05</td>\n",
       "      <td>0.5</td>\n",
       "      <td>500</td>\n",
       "      <td>50</td>\n",
       "      <td>93</td>\n",
       "      <td>16.819819</td>\n",
       "      <td>-0.0</td>\n",
       "      <td>1.0</td>\n",
       "      <td>320</td>\n",
       "      <td>0</td>\n",
       "      <td>53.763441</td>\n",
       "      <td>904.301075</td>\n",
       "    </tr>\n",
       "    <tr>\n",
       "      <th>5</th>\n",
       "      <td>XRPUSDT</td>\n",
       "      <td>5</td>\n",
       "      <td>24.570</td>\n",
       "      <td>11.159</td>\n",
       "      <td>9</td>\n",
       "      <td>19293.881466</td>\n",
       "      <td>0.05</td>\n",
       "      <td>0.5</td>\n",
       "      <td>1500</td>\n",
       "      <td>5</td>\n",
       "      <td>137</td>\n",
       "      <td>24.570103</td>\n",
       "      <td>-0.0</td>\n",
       "      <td>1.0</td>\n",
       "      <td>464</td>\n",
       "      <td>0</td>\n",
       "      <td>36.496350</td>\n",
       "      <td>896.715328</td>\n",
       "    </tr>\n",
       "    <tr>\n",
       "      <th>6</th>\n",
       "      <td>XRPUSDT</td>\n",
       "      <td>50</td>\n",
       "      <td>8.258</td>\n",
       "      <td>3.726</td>\n",
       "      <td>9</td>\n",
       "      <td>15258.320158</td>\n",
       "      <td>0.03</td>\n",
       "      <td>0.5</td>\n",
       "      <td>500</td>\n",
       "      <td>200</td>\n",
       "      <td>47</td>\n",
       "      <td>8.257642</td>\n",
       "      <td>-0.0</td>\n",
       "      <td>1.0</td>\n",
       "      <td>253</td>\n",
       "      <td>0</td>\n",
       "      <td>106.382979</td>\n",
       "      <td>878.510638</td>\n",
       "    </tr>\n",
       "    <tr>\n",
       "      <th>7</th>\n",
       "      <td>XRPUSDT</td>\n",
       "      <td>5</td>\n",
       "      <td>32.949</td>\n",
       "      <td>14.508</td>\n",
       "      <td>9</td>\n",
       "      <td>22782.748006</td>\n",
       "      <td>0.05</td>\n",
       "      <td>0.5</td>\n",
       "      <td>1000</td>\n",
       "      <td>5</td>\n",
       "      <td>190</td>\n",
       "      <td>32.949492</td>\n",
       "      <td>-0.0</td>\n",
       "      <td>1.0</td>\n",
       "      <td>627</td>\n",
       "      <td>0</td>\n",
       "      <td>26.315789</td>\n",
       "      <td>867.078947</td>\n",
       "    </tr>\n",
       "    <tr>\n",
       "      <th>8</th>\n",
       "      <td>XRPUSDT</td>\n",
       "      <td>50</td>\n",
       "      <td>5.896</td>\n",
       "      <td>2.706</td>\n",
       "      <td>9</td>\n",
       "      <td>13205.821229</td>\n",
       "      <td>0.03</td>\n",
       "      <td>0.5</td>\n",
       "      <td>1000</td>\n",
       "      <td>200</td>\n",
       "      <td>34</td>\n",
       "      <td>5.896403</td>\n",
       "      <td>-0.0</td>\n",
       "      <td>1.0</td>\n",
       "      <td>179</td>\n",
       "      <td>0</td>\n",
       "      <td>147.058824</td>\n",
       "      <td>867.058824</td>\n",
       "    </tr>\n",
       "    <tr>\n",
       "      <th>9</th>\n",
       "      <td>XRPUSDT</td>\n",
       "      <td>50</td>\n",
       "      <td>7.246</td>\n",
       "      <td>3.166</td>\n",
       "      <td>9</td>\n",
       "      <td>9981.978125</td>\n",
       "      <td>0.02</td>\n",
       "      <td>0.5</td>\n",
       "      <td>500</td>\n",
       "      <td>50</td>\n",
       "      <td>42</td>\n",
       "      <td>7.245503</td>\n",
       "      <td>-0.0</td>\n",
       "      <td>1.0</td>\n",
       "      <td>320</td>\n",
       "      <td>0</td>\n",
       "      <td>119.047619</td>\n",
       "      <td>862.619048</td>\n",
       "    </tr>\n",
       "  </tbody>\n",
       "</table>\n",
       "</div>"
      ],
      "text/plain": [
       "      pair  ema   strat     res  sig             c    tp   sl    dw  dwp  \\\n",
       "0  XRPUSDT   50   8.555   3.999    9  16833.515723  0.05  0.5  1500   50   \n",
       "1  XRPUSDT   50   2.021   0.951    9   3398.765363  0.01  0.5  1000  200   \n",
       "2  XRPUSDT   50   3.565   1.608    9   7868.937107  0.02  0.5  1500   50   \n",
       "3  XRPUSDT   50   5.179   2.379    9  11286.270440  0.03  0.5  1500   50   \n",
       "4  XRPUSDT   50  16.820   7.557    9  21708.178125  0.05  0.5   500   50   \n",
       "5  XRPUSDT    5  24.570  11.159    9  19293.881466  0.05  0.5  1500    5   \n",
       "6  XRPUSDT   50   8.258   3.726    9  15258.320158  0.03  0.5   500  200   \n",
       "7  XRPUSDT    5  32.949  14.508    9  22782.748006  0.05  0.5  1000    5   \n",
       "8  XRPUSDT   50   5.896   2.706    9  13205.821229  0.03  0.5  1000  200   \n",
       "9  XRPUSDT   50   7.246   3.166    9   9981.978125  0.02  0.5   500   50   \n",
       "\n",
       "   max_o      s_p_s  s_n_s  Rel_sum  l_p_s  l_n_s  capital_fracionado  \\\n",
       "0     41   8.554799   -0.0      1.0    159      0          121.951220   \n",
       "1     10   2.020852   -0.0      1.0    179      0          500.000000   \n",
       "2     19   3.564576   -0.0      1.0    159      0          263.157895   \n",
       "3     28   5.178759   -0.0      1.0    159      0          178.571429   \n",
       "4     93  16.819819   -0.0      1.0    320      0           53.763441   \n",
       "5    137  24.570103   -0.0      1.0    464      0           36.496350   \n",
       "6     47   8.257642   -0.0      1.0    253      0          106.382979   \n",
       "7    190  32.949492   -0.0      1.0    627      0           26.315789   \n",
       "8     34   5.896403   -0.0      1.0    179      0          147.058824   \n",
       "9     42   7.245503   -0.0      1.0    320      0          119.047619   \n",
       "\n",
       "   retorno_ajustado  \n",
       "0       1043.292683  \n",
       "1       1010.500000  \n",
       "2        938.157895  \n",
       "3        924.821429  \n",
       "4        904.301075  \n",
       "5        896.715328  \n",
       "6        878.510638  \n",
       "7        867.078947  \n",
       "8        867.058824  \n",
       "9        862.619048  "
      ]
     },
     "execution_count": 38,
     "metadata": {},
     "output_type": "execute_result"
    }
   ],
   "source": [
    "total_investment = 5000\n",
    "df_inv = rank_tests(rank_XRPUSDT, total_investment)\n",
    "df_inv[['pair', 'ema', 'strat', 'res', 'sig', 'c', 'tp', 'sl', 'dw', 'dwp',\n",
    "       'max_o', 's_p_s', 's_n_s', 'Rel_sum', 'l_p_s', 'l_n_s','capital_fracionado','retorno_ajustado']].head(10)"
   ]
  },
  {
   "cell_type": "code",
   "execution_count": 39,
   "id": "68e3b6fe-36d6-4cea-a407-3e2586f7ac03",
   "metadata": {},
   "outputs": [
    {
     "data": {
      "text/html": [
       "<div>\n",
       "<style scoped>\n",
       "    .dataframe tbody tr th:only-of-type {\n",
       "        vertical-align: middle;\n",
       "    }\n",
       "\n",
       "    .dataframe tbody tr th {\n",
       "        vertical-align: top;\n",
       "    }\n",
       "\n",
       "    .dataframe thead th {\n",
       "        text-align: right;\n",
       "    }\n",
       "</style>\n",
       "<table border=\"1\" class=\"dataframe\">\n",
       "  <thead>\n",
       "    <tr style=\"text-align: right;\">\n",
       "      <th></th>\n",
       "      <th>pair</th>\n",
       "      <th>ema</th>\n",
       "      <th>strat</th>\n",
       "      <th>res</th>\n",
       "      <th>sig</th>\n",
       "      <th>c</th>\n",
       "      <th>tp</th>\n",
       "      <th>sl</th>\n",
       "      <th>dw</th>\n",
       "      <th>dwp</th>\n",
       "      <th>max_o</th>\n",
       "      <th>s_p_s</th>\n",
       "      <th>s_n_s</th>\n",
       "      <th>Rel_sum</th>\n",
       "      <th>l_p_s</th>\n",
       "      <th>l_n_s</th>\n",
       "      <th>capital_fracionado</th>\n",
       "      <th>retorno_ajustado</th>\n",
       "    </tr>\n",
       "  </thead>\n",
       "  <tbody>\n",
       "    <tr>\n",
       "      <th>0</th>\n",
       "      <td>LTCUSDT</td>\n",
       "      <td>5</td>\n",
       "      <td>9.199</td>\n",
       "      <td>554.20</td>\n",
       "      <td>9</td>\n",
       "      <td>10290.252983</td>\n",
       "      <td>0.03</td>\n",
       "      <td>0.5</td>\n",
       "      <td>1000</td>\n",
       "      <td>50</td>\n",
       "      <td>89</td>\n",
       "      <td>12.691742</td>\n",
       "      <td>3.492702</td>\n",
       "      <td>0.784194</td>\n",
       "      <td>412</td>\n",
       "      <td>7</td>\n",
       "      <td>56.179775</td>\n",
       "      <td>516.797753</td>\n",
       "    </tr>\n",
       "    <tr>\n",
       "      <th>1</th>\n",
       "      <td>LTCUSDT</td>\n",
       "      <td>5</td>\n",
       "      <td>6.949</td>\n",
       "      <td>406.98</td>\n",
       "      <td>9</td>\n",
       "      <td>10761.392097</td>\n",
       "      <td>0.03</td>\n",
       "      <td>0.5</td>\n",
       "      <td>1500</td>\n",
       "      <td>50</td>\n",
       "      <td>72</td>\n",
       "      <td>9.945916</td>\n",
       "      <td>2.996981</td>\n",
       "      <td>0.768446</td>\n",
       "      <td>323</td>\n",
       "      <td>6</td>\n",
       "      <td>69.444444</td>\n",
       "      <td>482.569444</td>\n",
       "    </tr>\n",
       "    <tr>\n",
       "      <th>2</th>\n",
       "      <td>LTCUSDT</td>\n",
       "      <td>5</td>\n",
       "      <td>13.759</td>\n",
       "      <td>777.63</td>\n",
       "      <td>9</td>\n",
       "      <td>11364.174716</td>\n",
       "      <td>0.03</td>\n",
       "      <td>0.5</td>\n",
       "      <td>500</td>\n",
       "      <td>50</td>\n",
       "      <td>152</td>\n",
       "      <td>21.250134</td>\n",
       "      <td>7.491467</td>\n",
       "      <td>0.739351</td>\n",
       "      <td>689</td>\n",
       "      <td>15</td>\n",
       "      <td>32.894737</td>\n",
       "      <td>452.598684</td>\n",
       "    </tr>\n",
       "    <tr>\n",
       "      <th>3</th>\n",
       "      <td>LTCUSDT</td>\n",
       "      <td>5</td>\n",
       "      <td>8.828</td>\n",
       "      <td>480.30</td>\n",
       "      <td>9</td>\n",
       "      <td>7770.908725</td>\n",
       "      <td>0.02</td>\n",
       "      <td>0.5</td>\n",
       "      <td>500</td>\n",
       "      <td>50</td>\n",
       "      <td>99</td>\n",
       "      <td>15.317240</td>\n",
       "      <td>6.489513</td>\n",
       "      <td>0.702408</td>\n",
       "      <td>732</td>\n",
       "      <td>13</td>\n",
       "      <td>50.505051</td>\n",
       "      <td>445.858586</td>\n",
       "    </tr>\n",
       "    <tr>\n",
       "      <th>4</th>\n",
       "      <td>LTCUSDT</td>\n",
       "      <td>50</td>\n",
       "      <td>2.429</td>\n",
       "      <td>129.91</td>\n",
       "      <td>9</td>\n",
       "      <td>12749.533784</td>\n",
       "      <td>0.03</td>\n",
       "      <td>0.5</td>\n",
       "      <td>1500</td>\n",
       "      <td>50</td>\n",
       "      <td>28</td>\n",
       "      <td>4.460246</td>\n",
       "      <td>2.031373</td>\n",
       "      <td>0.687078</td>\n",
       "      <td>144</td>\n",
       "      <td>4</td>\n",
       "      <td>178.571429</td>\n",
       "      <td>433.750000</td>\n",
       "    </tr>\n",
       "    <tr>\n",
       "      <th>5</th>\n",
       "      <td>LTCUSDT</td>\n",
       "      <td>50</td>\n",
       "      <td>4.888</td>\n",
       "      <td>266.85</td>\n",
       "      <td>9</td>\n",
       "      <td>12182.643312</td>\n",
       "      <td>0.03</td>\n",
       "      <td>0.5</td>\n",
       "      <td>500</td>\n",
       "      <td>50</td>\n",
       "      <td>57</td>\n",
       "      <td>9.408969</td>\n",
       "      <td>4.521042</td>\n",
       "      <td>0.675446</td>\n",
       "      <td>305</td>\n",
       "      <td>9</td>\n",
       "      <td>87.719298</td>\n",
       "      <td>428.771930</td>\n",
       "    </tr>\n",
       "    <tr>\n",
       "      <th>6</th>\n",
       "      <td>LTCUSDT</td>\n",
       "      <td>5</td>\n",
       "      <td>9.913</td>\n",
       "      <td>574.07</td>\n",
       "      <td>9</td>\n",
       "      <td>17570.302632</td>\n",
       "      <td>0.05</td>\n",
       "      <td>0.5</td>\n",
       "      <td>1500</td>\n",
       "      <td>50</td>\n",
       "      <td>116</td>\n",
       "      <td>14.895661</td>\n",
       "      <td>4.982219</td>\n",
       "      <td>0.749359</td>\n",
       "      <td>294</td>\n",
       "      <td>10</td>\n",
       "      <td>43.103448</td>\n",
       "      <td>427.284483</td>\n",
       "    </tr>\n",
       "    <tr>\n",
       "      <th>7</th>\n",
       "      <td>LTCUSDT</td>\n",
       "      <td>5</td>\n",
       "      <td>5.584</td>\n",
       "      <td>306.91</td>\n",
       "      <td>9</td>\n",
       "      <td>8002.891892</td>\n",
       "      <td>0.02</td>\n",
       "      <td>0.5</td>\n",
       "      <td>1000</td>\n",
       "      <td>50</td>\n",
       "      <td>67</td>\n",
       "      <td>9.076542</td>\n",
       "      <td>3.492702</td>\n",
       "      <td>0.722123</td>\n",
       "      <td>437</td>\n",
       "      <td>7</td>\n",
       "      <td>74.626866</td>\n",
       "      <td>416.716418</td>\n",
       "    </tr>\n",
       "    <tr>\n",
       "      <th>8</th>\n",
       "      <td>LTCUSDT</td>\n",
       "      <td>5</td>\n",
       "      <td>9.002</td>\n",
       "      <td>560.94</td>\n",
       "      <td>9</td>\n",
       "      <td>9687.340369</td>\n",
       "      <td>0.03</td>\n",
       "      <td>0.5</td>\n",
       "      <td>1000</td>\n",
       "      <td>200</td>\n",
       "      <td>109</td>\n",
       "      <td>11.496609</td>\n",
       "      <td>2.494654</td>\n",
       "      <td>0.821699</td>\n",
       "      <td>374</td>\n",
       "      <td>5</td>\n",
       "      <td>45.871560</td>\n",
       "      <td>412.935780</td>\n",
       "    </tr>\n",
       "    <tr>\n",
       "      <th>9</th>\n",
       "      <td>LTCUSDT</td>\n",
       "      <td>50</td>\n",
       "      <td>2.300</td>\n",
       "      <td>128.57</td>\n",
       "      <td>9</td>\n",
       "      <td>11084.650794</td>\n",
       "      <td>0.03</td>\n",
       "      <td>0.5</td>\n",
       "      <td>1500</td>\n",
       "      <td>200</td>\n",
       "      <td>29</td>\n",
       "      <td>3.798852</td>\n",
       "      <td>1.499199</td>\n",
       "      <td>0.717028</td>\n",
       "      <td>123</td>\n",
       "      <td>3</td>\n",
       "      <td>172.413793</td>\n",
       "      <td>396.551724</td>\n",
       "    </tr>\n",
       "  </tbody>\n",
       "</table>\n",
       "</div>"
      ],
      "text/plain": [
       "      pair  ema   strat     res  sig             c    tp   sl    dw  dwp  \\\n",
       "0  LTCUSDT    5   9.199  554.20    9  10290.252983  0.03  0.5  1000   50   \n",
       "1  LTCUSDT    5   6.949  406.98    9  10761.392097  0.03  0.5  1500   50   \n",
       "2  LTCUSDT    5  13.759  777.63    9  11364.174716  0.03  0.5   500   50   \n",
       "3  LTCUSDT    5   8.828  480.30    9   7770.908725  0.02  0.5   500   50   \n",
       "4  LTCUSDT   50   2.429  129.91    9  12749.533784  0.03  0.5  1500   50   \n",
       "5  LTCUSDT   50   4.888  266.85    9  12182.643312  0.03  0.5   500   50   \n",
       "6  LTCUSDT    5   9.913  574.07    9  17570.302632  0.05  0.5  1500   50   \n",
       "7  LTCUSDT    5   5.584  306.91    9   8002.891892  0.02  0.5  1000   50   \n",
       "8  LTCUSDT    5   9.002  560.94    9   9687.340369  0.03  0.5  1000  200   \n",
       "9  LTCUSDT   50   2.300  128.57    9  11084.650794  0.03  0.5  1500  200   \n",
       "\n",
       "   max_o      s_p_s     s_n_s   Rel_sum  l_p_s  l_n_s  capital_fracionado  \\\n",
       "0     89  12.691742  3.492702  0.784194    412      7           56.179775   \n",
       "1     72   9.945916  2.996981  0.768446    323      6           69.444444   \n",
       "2    152  21.250134  7.491467  0.739351    689     15           32.894737   \n",
       "3     99  15.317240  6.489513  0.702408    732     13           50.505051   \n",
       "4     28   4.460246  2.031373  0.687078    144      4          178.571429   \n",
       "5     57   9.408969  4.521042  0.675446    305      9           87.719298   \n",
       "6    116  14.895661  4.982219  0.749359    294     10           43.103448   \n",
       "7     67   9.076542  3.492702  0.722123    437      7           74.626866   \n",
       "8    109  11.496609  2.494654  0.821699    374      5           45.871560   \n",
       "9     29   3.798852  1.499199  0.717028    123      3          172.413793   \n",
       "\n",
       "   retorno_ajustado  \n",
       "0        516.797753  \n",
       "1        482.569444  \n",
       "2        452.598684  \n",
       "3        445.858586  \n",
       "4        433.750000  \n",
       "5        428.771930  \n",
       "6        427.284483  \n",
       "7        416.716418  \n",
       "8        412.935780  \n",
       "9        396.551724  "
      ]
     },
     "execution_count": 39,
     "metadata": {},
     "output_type": "execute_result"
    }
   ],
   "source": [
    "total_investment = 5000\n",
    "df_inv = rank_tests(rank_LTCUSDT, total_investment)\n",
    "df_inv[['pair', 'ema', 'strat', 'res', 'sig', 'c', 'tp', 'sl', 'dw', 'dwp',\n",
    "       'max_o', 's_p_s', 's_n_s', 'Rel_sum', 'l_p_s', 'l_n_s','capital_fracionado','retorno_ajustado']].head(10)"
   ]
  },
  {
   "cell_type": "code",
   "execution_count": null,
   "id": "3fa6e657-1d5d-41a1-83a0-e3a81a1bbcf2",
   "metadata": {},
   "outputs": [],
   "source": []
  },
  {
   "cell_type": "code",
   "execution_count": null,
   "id": "ba486dd3-951a-48da-b832-2de47f145364",
   "metadata": {},
   "outputs": [],
   "source": []
  },
  {
   "cell_type": "code",
   "execution_count": 151,
   "id": "b2bef8f3-13b2-4e29-b73a-accc47ce5aa8",
   "metadata": {},
   "outputs": [],
   "source": [
    "# df_results = res[108]['res'].df_results\n",
    "# pair = res[108]['pair']\n",
    "# print(pair)\n",
    "# print(df_results.columns)\n",
    "# res_pos = df_results[df_results['strategy'] > 0]\n",
    "# res_neg = df_results[df_results['strategy'] < 0]\n",
    "# df_results.shape, res_pos.shape, res_neg.shape"
   ]
  },
  {
   "cell_type": "code",
   "execution_count": null,
   "id": "9800e234-5076-4763-8784-ce353c872ba5",
   "metadata": {},
   "outputs": [],
   "source": []
  },
  {
   "cell_type": "code",
   "execution_count": 88,
   "id": "c7daa404-d8d1-4b35-bab2-58a647841c82",
   "metadata": {},
   "outputs": [],
   "source": [
    "def calcular_operacoes_simultaneas(df):\n",
    "    # Ordena o DataFrame por start_time para facilitar o cálculo\n",
    "    df = df.sort_values(by='start_time').reset_index(drop=True)\n",
    "    # Inicializa a coluna operacoes_simultaneas com o valor mínimo de 1\n",
    "    df['operacoes_simultaneas'] = 1\n",
    "    \n",
    "    # Itera sobre cada operação e conta quantas estão abertas e não fechadas no momento\n",
    "    for i, row in df.iterrows():\n",
    "        # Conta quantas operações estão em andamento no tempo de start_time da operação atual\n",
    "        count = ((df['start_time'] <= row['start_time']) & (df['end_time'] > row['start_time'])).sum()\n",
    "        # Atualiza a coluna com o número de operações simultâneas, garantindo o mínimo de 1\n",
    "        df.at[i, 'operacoes_simultaneas'] = max(count, 1)\n",
    "        \n",
    "    return df"
   ]
  },
  {
   "cell_type": "code",
   "execution_count": 89,
   "id": "538cd3ff-7839-42c6-ade3-fc42de5d8205",
   "metadata": {},
   "outputs": [
    {
     "data": {
      "text/plain": [
       "np.int64(297)"
      ]
     },
     "execution_count": 89,
     "metadata": {},
     "output_type": "execute_result"
    }
   ],
   "source": [
    "concat_ranks = pd.concat([rank_ADAUSDT.iloc[0].r,\n",
    "                          rank_BTCUSDT.iloc[0].r, \n",
    "                          rank_ETHUSDT.iloc[0].r, \n",
    "                          rank_BNBUSDT.iloc[0].r, \n",
    "                          rank_XRPUSDT.iloc[0].r, \n",
    "                          rank_LTCUSDT.iloc[0].r])\n",
    "\n",
    "df_test = calcular_operacoes_simultaneas(concat_ranks)\n",
    "df_test.operacoes_simultaneas.max()"
   ]
  },
  {
   "cell_type": "code",
   "execution_count": 90,
   "id": "416281c6-1bb0-4916-bf82-0f6e114bb576",
   "metadata": {},
   "outputs": [
    {
     "data": {
      "text/plain": [
       "np.float64(72.15273177277777)"
      ]
     },
     "execution_count": 90,
     "metadata": {},
     "output_type": "execute_result"
    }
   ],
   "source": [
    "df_test.strategy.sum()"
   ]
  },
  {
   "cell_type": "code",
   "execution_count": 92,
   "id": "4a843c2f-ceaf-4978-b85b-90176fb79a8f",
   "metadata": {},
   "outputs": [
    {
     "data": {
      "text/html": [
       "<div>\n",
       "<style scoped>\n",
       "    .dataframe tbody tr th:only-of-type {\n",
       "        vertical-align: middle;\n",
       "    }\n",
       "\n",
       "    .dataframe tbody tr th {\n",
       "        vertical-align: top;\n",
       "    }\n",
       "\n",
       "    .dataframe thead th {\n",
       "        text-align: right;\n",
       "    }\n",
       "</style>\n",
       "<table border=\"1\" class=\"dataframe\">\n",
       "  <thead>\n",
       "    <tr style=\"text-align: right;\">\n",
       "      <th></th>\n",
       "      <th>running</th>\n",
       "      <th>start_index_m5</th>\n",
       "      <th>count</th>\n",
       "      <th>trigger_type</th>\n",
       "      <th>strategy</th>\n",
       "      <th>cstrategy</th>\n",
       "      <th>total_opened</th>\n",
       "      <th>tp</th>\n",
       "      <th>sl</th>\n",
       "      <th>start_price</th>\n",
       "      <th>trigger_price</th>\n",
       "      <th>SIGNAL_UP</th>\n",
       "      <th>SIGNAL_DOWN</th>\n",
       "      <th>result</th>\n",
       "      <th>end_time</th>\n",
       "      <th>start_time</th>\n",
       "      <th>operacoes_simultaneas</th>\n",
       "    </tr>\n",
       "  </thead>\n",
       "  <tbody>\n",
       "    <tr>\n",
       "      <th>3623</th>\n",
       "      <td>False</td>\n",
       "      <td>267674</td>\n",
       "      <td>77</td>\n",
       "      <td>9</td>\n",
       "      <td>0.010447</td>\n",
       "      <td>0</td>\n",
       "      <td>16</td>\n",
       "      <td>0.01</td>\n",
       "      <td>0.5</td>\n",
       "      <td>2595.5000</td>\n",
       "      <td>2622.7500</td>\n",
       "      <td>9</td>\n",
       "      <td>0</td>\n",
       "      <td>27.2500</td>\n",
       "      <td>2024-09-30 11:30:00</td>\n",
       "      <td>2024-09-30 10:13:00</td>\n",
       "      <td>3</td>\n",
       "    </tr>\n",
       "    <tr>\n",
       "      <th>3624</th>\n",
       "      <td>False</td>\n",
       "      <td>268519</td>\n",
       "      <td>86</td>\n",
       "      <td>9</td>\n",
       "      <td>0.009225</td>\n",
       "      <td>0</td>\n",
       "      <td>5</td>\n",
       "      <td>0.01</td>\n",
       "      <td>0.2</td>\n",
       "      <td>0.3786</td>\n",
       "      <td>0.3821</td>\n",
       "      <td>9</td>\n",
       "      <td>0</td>\n",
       "      <td>0.0035</td>\n",
       "      <td>2024-09-30 17:24:00</td>\n",
       "      <td>2024-09-30 15:58:00</td>\n",
       "      <td>1</td>\n",
       "    </tr>\n",
       "    <tr>\n",
       "      <th>3625</th>\n",
       "      <td>False</td>\n",
       "      <td>268521</td>\n",
       "      <td>84</td>\n",
       "      <td>9</td>\n",
       "      <td>0.009753</td>\n",
       "      <td>0</td>\n",
       "      <td>5</td>\n",
       "      <td>0.01</td>\n",
       "      <td>0.2</td>\n",
       "      <td>0.3784</td>\n",
       "      <td>0.3821</td>\n",
       "      <td>9</td>\n",
       "      <td>0</td>\n",
       "      <td>0.0037</td>\n",
       "      <td>2024-09-30 17:24:00</td>\n",
       "      <td>2024-09-30 16:00:00</td>\n",
       "      <td>2</td>\n",
       "    </tr>\n",
       "    <tr>\n",
       "      <th>3626</th>\n",
       "      <td>False</td>\n",
       "      <td>268159</td>\n",
       "      <td>138</td>\n",
       "      <td>9</td>\n",
       "      <td>0.009891</td>\n",
       "      <td>0</td>\n",
       "      <td>14</td>\n",
       "      <td>0.01</td>\n",
       "      <td>0.5</td>\n",
       "      <td>2589.0200</td>\n",
       "      <td>2614.7000</td>\n",
       "      <td>9</td>\n",
       "      <td>0</td>\n",
       "      <td>25.6800</td>\n",
       "      <td>2024-09-30 20:36:00</td>\n",
       "      <td>2024-09-30 18:18:00</td>\n",
       "      <td>1</td>\n",
       "    </tr>\n",
       "    <tr>\n",
       "      <th>3627</th>\n",
       "      <td>False</td>\n",
       "      <td>268173</td>\n",
       "      <td>106</td>\n",
       "      <td>9</td>\n",
       "      <td>0.010082</td>\n",
       "      <td>0</td>\n",
       "      <td>15</td>\n",
       "      <td>0.01</td>\n",
       "      <td>0.5</td>\n",
       "      <td>2580.6900</td>\n",
       "      <td>2606.8100</td>\n",
       "      <td>9</td>\n",
       "      <td>0</td>\n",
       "      <td>26.1200</td>\n",
       "      <td>2024-09-30 20:18:00</td>\n",
       "      <td>2024-09-30 18:32:00</td>\n",
       "      <td>2</td>\n",
       "    </tr>\n",
       "  </tbody>\n",
       "</table>\n",
       "</div>"
      ],
      "text/plain": [
       "      running  start_index_m5  count  trigger_type  strategy  cstrategy  \\\n",
       "3623    False          267674     77             9  0.010447          0   \n",
       "3624    False          268519     86             9  0.009225          0   \n",
       "3625    False          268521     84             9  0.009753          0   \n",
       "3626    False          268159    138             9  0.009891          0   \n",
       "3627    False          268173    106             9  0.010082          0   \n",
       "\n",
       "      total_opened    tp   sl  start_price  trigger_price  SIGNAL_UP  \\\n",
       "3623            16  0.01  0.5    2595.5000      2622.7500          9   \n",
       "3624             5  0.01  0.2       0.3786         0.3821          9   \n",
       "3625             5  0.01  0.2       0.3784         0.3821          9   \n",
       "3626            14  0.01  0.5    2589.0200      2614.7000          9   \n",
       "3627            15  0.01  0.5    2580.6900      2606.8100          9   \n",
       "\n",
       "      SIGNAL_DOWN   result            end_time          start_time  \\\n",
       "3623            0  27.2500 2024-09-30 11:30:00 2024-09-30 10:13:00   \n",
       "3624            0   0.0035 2024-09-30 17:24:00 2024-09-30 15:58:00   \n",
       "3625            0   0.0037 2024-09-30 17:24:00 2024-09-30 16:00:00   \n",
       "3626            0  25.6800 2024-09-30 20:36:00 2024-09-30 18:18:00   \n",
       "3627            0  26.1200 2024-09-30 20:18:00 2024-09-30 18:32:00   \n",
       "\n",
       "      operacoes_simultaneas  \n",
       "3623                      3  \n",
       "3624                      1  \n",
       "3625                      2  \n",
       "3626                      1  \n",
       "3627                      2  "
      ]
     },
     "execution_count": 92,
     "metadata": {},
     "output_type": "execute_result"
    }
   ],
   "source": [
    "df_test.tail()"
   ]
  },
  {
   "cell_type": "code",
   "execution_count": 175,
   "id": "b1e5c73a-8279-4729-98c7-0d0f34014f6e",
   "metadata": {},
   "outputs": [
    {
     "data": {
      "text/plain": [
       "pair                                                 LTCUSDT\n",
       "ema                                                       50\n",
       "strat                                                    1.3\n",
       "res                                                    84.42\n",
       "sig                                                        7\n",
       "c                                                3433.901639\n",
       "tp                                                      0.01\n",
       "sl                                                       0.5\n",
       "dw                                                      1500\n",
       "dwp                                                       50\n",
       "max_o                                                     12\n",
       "s_p_s                                               1.299908\n",
       "s_n_s                                                   -0.0\n",
       "Rel_sum                                                  1.0\n",
       "l_p_s                                                    122\n",
       "l_n_s                                                      0\n",
       "Rel_len                                                  1.0\n",
       "l_c                                                      122\n",
       "l_o                                                        6\n",
       "first_p                                                 95.4\n",
       "last_p                                                 66.82\n",
       "r               running  start_index_m5  count  trigger_t...\n",
       "score                                               1.194412\n",
       "Name: 0, dtype: object"
      ]
     },
     "execution_count": 175,
     "metadata": {},
     "output_type": "execute_result"
    }
   ],
   "source": [
    "rank_LTCUSDT.iloc[0]"
   ]
  },
  {
   "cell_type": "code",
   "execution_count": null,
   "id": "4cecec35-0b67-4d8d-98db-9078e23da943",
   "metadata": {},
   "outputs": [],
   "source": []
  },
  {
   "cell_type": "code",
   "execution_count": null,
   "id": "8d463e58-85fb-483e-9bda-600ffcc155b4",
   "metadata": {},
   "outputs": [],
   "source": []
  },
  {
   "cell_type": "code",
   "execution_count": 157,
   "id": "8c713d5a-d591-4950-a7ab-8f0137b2ac83",
   "metadata": {},
   "outputs": [
    {
     "data": {
      "text/plain": [
       "Index(['running', 'start_index_m5', 'count', 'trigger_type', 'strategy',\n",
       "       'cstrategy', 'total_opened', 'tp', 'sl', 'start_price', 'trigger_price',\n",
       "       'SIGNAL_UP', 'SIGNAL_DOWN', 'result', 'end_time', 'start_time', 'time',\n",
       "       'GAIN_C'],\n",
       "      dtype='object')"
      ]
     },
     "execution_count": 157,
     "metadata": {},
     "output_type": "execute_result"
    }
   ],
   "source": [
    "rank_ADAUSDT.iloc[0].r.columns"
   ]
  },
  {
   "cell_type": "code",
   "execution_count": 154,
   "id": "f6d64cd3-9f77-4405-8732-7b787820a4ab",
   "metadata": {},
   "outputs": [
    {
     "name": "stdout",
     "output_type": "stream",
     "text": [
      "ADAUSDT 0.6448 0.3733 -0.7272970800964372\n"
     ]
    },
    {
     "data": {
      "application/vnd.plotly.v1+json": {
       "config": {
        "plotlyServerURL": "https://plot.ly"
       },
       "data": [
        {
         "line": {
          "shape": "spline",
          "width": 2
         },
         "name": "GAIN_C",
         "type": "scatter",
         "x": [
          "s24-03-29 10:24",
          "s24-03-31 04:59",
          "s24-04-01 19:26",
          "s24-04-02 09:17",
          "s24-04-02 11:46",
          "s24-04-03 01:34",
          "s24-04-03 21:57",
          "s24-04-04 05:05",
          "s24-04-05 03:52",
          "s24-04-05 06:29",
          "s24-04-08 08:21",
          "s24-04-09 08:59",
          "s24-04-09 11:16",
          "s24-04-09 11:16",
          "s24-04-10 04:56",
          "s24-04-10 14:22",
          "s24-04-11 07:10",
          "s24-04-11 20:23",
          "s24-04-12 18:33",
          "s24-04-12 18:36",
          "s24-04-12 18:36",
          "s24-04-12 18:37",
          "s24-04-13 19:01",
          "s24-04-13 20:00",
          "s24-04-13 20:08",
          "s24-04-15 19:29",
          "s24-04-15 19:29",
          "s24-04-15 19:29",
          "s24-04-15 22:42",
          "s24-04-16 16:48",
          "s24-04-16 16:48",
          "s24-04-16 16:51",
          "s24-04-17 13:38",
          "s24-04-17 16:15",
          "s24-04-17 17:55",
          "s24-04-19 03:07",
          "s24-04-21 16:57",
          "s24-04-21 18:26",
          "s24-04-21 20:19",
          "s24-04-24 00:39",
          "s24-04-24 04:57",
          "s24-04-24 17:33",
          "s24-04-25 11:41",
          "s24-04-27 17:41",
          "s24-04-29 09:52",
          "s24-04-29 14:35",
          "s24-04-30 22:24",
          "s24-04-30 22:27",
          "s24-05-01 08:52",
          "s24-05-01 09:45",
          "s24-05-01 18:35",
          "s24-05-03 12:31",
          "s24-05-03 12:36",
          "s24-05-03 14:03",
          "s24-05-05 07:16",
          "s24-05-06 07:42",
          "s24-05-06 08:01",
          "s24-05-07 08:21",
          "s24-05-08 01:16",
          "s24-05-08 14:35",
          "s24-05-08 14:35",
          "s24-05-09 11:45",
          "s24-05-09 12:32",
          "s24-05-12 16:22",
          "s24-05-13 00:29",
          "s24-05-13 06:46",
          "s24-05-13 06:59",
          "s24-05-13 07:21",
          "s24-05-13 07:22",
          "s24-05-15 07:56",
          "s24-05-16 01:19",
          "s24-05-17 10:59",
          "s24-05-18 15:40",
          "s24-05-18 16:13",
          "s24-05-19 19:18",
          "s24-05-20 02:25",
          "s24-05-20 04:36",
          "s24-05-20 04:38",
          "s24-05-20 04:44",
          "s24-05-20 05:17",
          "s24-05-20 19:27",
          "s24-05-20 20:01",
          "s24-05-20 20:01",
          "s24-05-21 22:56",
          "s24-05-22 06:32",
          "s24-05-22 15:42",
          "s24-05-23 19:31",
          "s24-05-27 01:39",
          "s24-05-27 15:47",
          "s24-05-28 09:43",
          "s24-05-30 17:31",
          "s24-06-03 01:31",
          "s24-06-03 19:36",
          "s24-06-05 20:20",
          "s24-06-07 00:35",
          "s24-06-07 18:27",
          "s24-06-10 09:20",
          "s24-06-11 15:21",
          "s24-06-12 03:25",
          "s24-06-12 10:04",
          "s24-06-12 12:46",
          "s24-06-16 14:14",
          "s24-06-17 07:31",
          "s24-06-17 16:33",
          "s24-06-17 17:09",
          "s24-06-17 18:18",
          "s24-06-17 18:20",
          "s24-06-17 19:03",
          "s24-06-17 19:29",
          "s24-06-18 01:47",
          "s24-06-20 17:34",
          "s24-06-21 14:16",
          "s24-06-21 18:58",
          "s24-06-22 02:09",
          "s24-06-24 13:53",
          "s24-06-26 12:11",
          "s24-06-26 19:57",
          "s24-06-27 12:27",
          "s24-06-27 13:03",
          "s24-06-27 13:03",
          "s24-06-27 13:03",
          "s24-06-27 13:05",
          "s24-06-30 07:03",
          "s24-06-30 07:11",
          "s24-06-30 07:16",
          "s24-06-30 07:37",
          "s24-06-30 22:28",
          "s24-07-03 00:35",
          "s24-07-03 13:21",
          "s24-07-03 13:38",
          "s24-07-03 13:50",
          "s24-07-04 02:44",
          "s24-07-04 15:45",
          "s24-07-05 03:13",
          "s24-07-07 21:54",
          "s24-07-08 02:30",
          "s24-07-08 04:50",
          "s24-07-08 08:26",
          "s24-07-08 09:03",
          "s24-07-14 14:49",
          "s24-07-16 10:38",
          "s24-07-16 13:43",
          "s24-07-18 16:11",
          "s24-07-19 01:41",
          "s24-07-19 16:13",
          "s24-07-20 16:00",
          "s24-07-20 16:34",
          "s24-07-20 17:34",
          "s24-07-21 14:42",
          "s24-07-21 18:24",
          "s24-07-21 19:50",
          "s24-07-21 19:50",
          "s24-07-23 09:32",
          "s24-07-24 07:45",
          "s24-07-26 01:49",
          "s24-07-28 18:30",
          "s24-07-29 02:27",
          "s24-07-30 01:13",
          "s24-07-30 20:32",
          "s24-08-01 09:11",
          "s24-08-01 11:56",
          "s24-08-01 12:04",
          "s24-08-01 12:04",
          "s24-08-01 12:04",
          "s24-08-01 12:09",
          "s24-08-01 12:16",
          "s24-08-01 16:47",
          "s24-08-03 06:19",
          "s24-08-03 19:46",
          "s24-08-04 18:38",
          "s24-08-04 19:12",
          "s24-08-05 00:58",
          "s24-08-05 01:09",
          "s24-08-05 06:27",
          "s24-08-05 16:26",
          "s24-08-07 19:58",
          "s24-08-07 22:06",
          "s24-08-12 00:47",
          "s24-08-12 00:47",
          "s24-08-12 07:39",
          "s24-08-12 07:39",
          "s24-08-12 11:06",
          "s24-08-12 11:12",
          "s24-08-13 17:02",
          "s24-08-14 14:48",
          "s24-08-15 22:23",
          "s24-08-16 07:33",
          "s24-08-19 13:33",
          "s24-08-20 05:23",
          "s24-08-25 02:13",
          "s24-08-25 13:26",
          "s24-08-26 10:04",
          "s24-08-26 18:41",
          "s24-08-27 14:33",
          "s24-08-27 21:52",
          "s24-08-29 15:38",
          "s24-08-30 14:04",
          "s24-08-30 14:04",
          "s24-08-30 18:39",
          "s24-09-01 15:48",
          "s24-09-01 18:27",
          "s24-09-02 00:33",
          "s24-09-02 08:21",
          "s24-09-03 12:38",
          "s24-09-03 17:29",
          "s24-09-04 01:23",
          "s24-09-04 07:45",
          "s24-09-04 08:19",
          "s24-09-04 16:04",
          "s24-09-06 21:15",
          "s24-09-07 00:10",
          "s24-09-07 03:49",
          "s24-09-09 01:01",
          "s24-09-09 01:01",
          "s24-09-11 06:37",
          "s24-09-11 15:29",
          "s24-09-11 16:39",
          "s24-09-13 14:06",
          "s24-09-16 07:35",
          "s24-09-16 15:23",
          "s24-09-17 14:26",
          "s24-09-17 15:18",
          "s24-09-18 11:27",
          "s24-09-19 00:01",
          "s24-09-19 00:02",
          "s24-09-19 00:07",
          "s24-09-19 14:33",
          "s24-09-20 03:47",
          "s24-09-20 04:10",
          "s24-09-22 17:14",
          "s24-09-22 20:21",
          "s24-09-23 01:42",
          "s24-09-23 03:11",
          "s24-09-23 03:11",
          "s24-09-24 08:25",
          "s24-09-28 07:46",
          "s24-09-28 10:33",
          "s24-09-28 11:03",
          "s24-09-29 14:19",
          "s24-09-29 14:31",
          "s24-09-30 17:24",
          "s24-09-30 17:24"
         ],
         "xaxis": "x",
         "y": [
          0.01064822809635509,
          0.020764183585436476,
          0.028920173057505605,
          0.03952021076856907,
          0.048529953685777914,
          0.0581503284836975,
          0.06881033448863316,
          0.08452178357728206,
          0.09410974939901241,
          0.10446310938183069,
          0.11547096946439925,
          0.12445996555120536,
          0.13347030726075662,
          0.14198018209953506,
          0.15255255370683998,
          0.16343398211345572,
          0.17212307245904254,
          0.1857696085287403,
          -0.04699168854602431,
          -0.27245691584463766,
          -0.44788772058687953,
          -0.4254061328508783,
          -0.41412075579108426,
          -0.39084816737026884,
          -0.6511608113360583,
          -0.6399956349646041,
          -0.6290633359199492,
          -0.6179110328678709,
          -0.6064267031603991,
          -0.5910931501806161,
          -0.5750802075750837,
          -0.5633225791131882,
          -0.5529510376419613,
          -0.5448318392539524,
          -0.5325064046507247,
          -0.522583976928902,
          -0.5130053713167727,
          -0.5034748540873776,
          -0.49303265989522765,
          -0.4840204412563418,
          -0.47394160875312014,
          -0.46468519827063665,
          -0.4535209327464553,
          -0.44150311777828044,
          -0.4283414890072055,
          -0.4185208931899157,
          -0.40822940197013796,
          -0.3970431406645318,
          -0.38685209712028984,
          -0.3769087690826738,
          -0.3691138915077355,
          -0.35992608891005734,
          -0.34813219427457776,
          -0.3389715685396423,
          -0.3281542259758164,
          -0.3174126086939481,
          -0.30752561982302645,
          -0.2972676395812745,
          -0.2872931537269453,
          -0.272947737348055,
          -0.2514336562480212,
          -0.24166257170100358,
          -0.22861417944498535,
          -0.21964078129301493,
          -0.20935478757704515,
          -0.1983165773779912,
          -0.178265742591037,
          -0.1668080498032862,
          -0.15558221266710429,
          -0.14525914006328577,
          -0.13506860579823723,
          -0.12609693378088466,
          -0.11709668479959123,
          -0.10645470028007403,
          -0.09682482516896795,
          -0.08695037614448747,
          -0.07616885103248829,
          -0.06477038145999196,
          -0.05422954251900265,
          -0.0453637088085487,
          -0.035131546607329325,
          -0.025368590010515814,
          -0.015623197604108442,
          -0.004480028542247938,
          0.005364032891268723,
          0.01714034007105498,
          0.026132824945074067,
          0.03834731603891363,
          0.049228528994671186,
          0.05914869972143817,
          0.06962068361268298,
          0.0795394843269131,
          0.09082873259584391,
          0.10041278469458306,
          0.11096495505953179,
          0.12023970678113706,
          0.13095076856070925,
          0.14134024387707894,
          0.151273934634648,
          0.16098047957871972,
          0.17036071365435823,
          0.1799055053157823,
          0.18993322587382772,
          0.20175361980881115,
          0.21101482101599228,
          0.22078200350974703,
          0.2317555504736953,
          0.24295416987909835,
          0.2534592542759658,
          0.27037282545513047,
          0.2821704478110916,
          0.29140661374153065,
          0.30281338765568766,
          0.3132478335721468,
          0.32271570563723595,
          0.33210446271377814,
          0.34299508670865514,
          0.35509303492716215,
          0.36718391897946556,
          0.37796241478162695,
          0.38978671311399615,
          0.40262514334778693,
          0.4128405157920687,
          0.4235583795064767,
          0.43400289326217173,
          0.44288871390122936,
          0.45497438376567956,
          0.4665934272646213,
          0.4769586558349118,
          0.4890942086350503,
          0.4989586043429187,
          0.5098215307535847,
          0.5202132491559427,
          0.5291769737697387,
          0.5397255863583965,
          0.5491628066826283,
          0.560225158920129,
          0.5699871589928323,
          0.5804520313383525,
          0.5900449913514655,
          0.6002754161752372,
          0.6110770388341453,
          0.6226131778679898,
          0.6340740772544268,
          0.6439772953058487,
          0.6544500663633896,
          0.6646496906579173,
          0.6744327009521998,
          0.6851420141053056,
          0.6950911639028153,
          0.7066428844344862,
          0.7184294236538693,
          0.72890164166418,
          0.7410352187933795,
          0.7496384422407629,
          0.759441146064178,
          0.7698370989949953,
          0.7807374929482266,
          0.7895522223748662,
          0.7995122313600486,
          0.8093291609233922,
          0.8209217802016154,
          0.8325143994798386,
          0.8443637625022705,
          0.8536759254330395,
          0.865011159768796,
          0.8746414114912099,
          0.8844448715151911,
          0.8958589302328005,
          0.9065114356973879,
          0.9180660635976499,
          0.7201152162527534,
          0.4990884997250269,
          0.518502762709874,
          0.5280098337373863,
          0.5402916342549589,
          0.5537125517812432,
          0.5635053907785882,
          0.5735809299278058,
          0.5864632568416183,
          0.5981344966392678,
          0.6080677314721646,
          0.6182695673156682,
          0.6294605108179074,
          0.6381493477543314,
          0.6484176428363314,
          0.658897504719544,
          0.6694740963068144,
          0.6809285320466815,
          0.691054710147311,
          0.7011277874166043,
          0.7109283108955472,
          0.7198757872605823,
          0.731258864822776,
          0.740347991077643,
          0.7508387592348771,
          0.761683368392129,
          0.7728079466314146,
          0.7856674617660848,
          0.7978150921527741,
          0.8120532966223734,
          0.8220720792467895,
          0.8339660162586559,
          0.8442945966115581,
          0.8542382153726782,
          0.8639897866039665,
          0.8744651970640512,
          0.8846270989501939,
          0.8925040970647322,
          0.9045560194478485,
          0.9143259506241234,
          0.9259300110087255,
          0.9402687541799729,
          0.9551871600410706,
          0.9647018908387728,
          0.9752101811688754,
          0.9861538449376501,
          0.996940100532712,
          1.006546369209199,
          1.016273583343355,
          1.0272024556122783,
          1.0367055312376139,
          1.0473013004668301,
          1.0615937790132675,
          1.0750213448979784,
          1.0861220778587442,
          1.097162516145935,
          1.1079428569879113,
          1.1187094539917757,
          1.1287702939287696,
          1.139400566375571,
          1.147938404218801,
          1.1609821842808814,
          1.173739586448401,
          1.1846196877174693,
          1.1944088809968225,
          1.2049949391883863,
          1.2158260075580865,
          1.2254797082875764,
          1.2361408592938739,
          1.2453661703080154,
          1.2551189403818506
         ],
         "yaxis": "y"
        }
       ],
       "layout": {
        "font": {
         "color": "#e1e1e1",
         "size": 8
        },
        "height": 400,
        "margin": {
         "b": 10,
         "l": 10,
         "r": 10,
         "t": 10
        },
        "paper_bgcolor": "#2c303c",
        "plot_bgcolor": "#2c303c",
        "template": {
         "data": {
          "bar": [
           {
            "error_x": {
             "color": "#2a3f5f"
            },
            "error_y": {
             "color": "#2a3f5f"
            },
            "marker": {
             "line": {
              "color": "#E5ECF6",
              "width": 0.5
             },
             "pattern": {
              "fillmode": "overlay",
              "size": 10,
              "solidity": 0.2
             }
            },
            "type": "bar"
           }
          ],
          "barpolar": [
           {
            "marker": {
             "line": {
              "color": "#E5ECF6",
              "width": 0.5
             },
             "pattern": {
              "fillmode": "overlay",
              "size": 10,
              "solidity": 0.2
             }
            },
            "type": "barpolar"
           }
          ],
          "carpet": [
           {
            "aaxis": {
             "endlinecolor": "#2a3f5f",
             "gridcolor": "white",
             "linecolor": "white",
             "minorgridcolor": "white",
             "startlinecolor": "#2a3f5f"
            },
            "baxis": {
             "endlinecolor": "#2a3f5f",
             "gridcolor": "white",
             "linecolor": "white",
             "minorgridcolor": "white",
             "startlinecolor": "#2a3f5f"
            },
            "type": "carpet"
           }
          ],
          "choropleth": [
           {
            "colorbar": {
             "outlinewidth": 0,
             "ticks": ""
            },
            "type": "choropleth"
           }
          ],
          "contour": [
           {
            "colorbar": {
             "outlinewidth": 0,
             "ticks": ""
            },
            "colorscale": [
             [
              0,
              "#0d0887"
             ],
             [
              0.1111111111111111,
              "#46039f"
             ],
             [
              0.2222222222222222,
              "#7201a8"
             ],
             [
              0.3333333333333333,
              "#9c179e"
             ],
             [
              0.4444444444444444,
              "#bd3786"
             ],
             [
              0.5555555555555556,
              "#d8576b"
             ],
             [
              0.6666666666666666,
              "#ed7953"
             ],
             [
              0.7777777777777778,
              "#fb9f3a"
             ],
             [
              0.8888888888888888,
              "#fdca26"
             ],
             [
              1,
              "#f0f921"
             ]
            ],
            "type": "contour"
           }
          ],
          "contourcarpet": [
           {
            "colorbar": {
             "outlinewidth": 0,
             "ticks": ""
            },
            "type": "contourcarpet"
           }
          ],
          "heatmap": [
           {
            "colorbar": {
             "outlinewidth": 0,
             "ticks": ""
            },
            "colorscale": [
             [
              0,
              "#0d0887"
             ],
             [
              0.1111111111111111,
              "#46039f"
             ],
             [
              0.2222222222222222,
              "#7201a8"
             ],
             [
              0.3333333333333333,
              "#9c179e"
             ],
             [
              0.4444444444444444,
              "#bd3786"
             ],
             [
              0.5555555555555556,
              "#d8576b"
             ],
             [
              0.6666666666666666,
              "#ed7953"
             ],
             [
              0.7777777777777778,
              "#fb9f3a"
             ],
             [
              0.8888888888888888,
              "#fdca26"
             ],
             [
              1,
              "#f0f921"
             ]
            ],
            "type": "heatmap"
           }
          ],
          "heatmapgl": [
           {
            "colorbar": {
             "outlinewidth": 0,
             "ticks": ""
            },
            "colorscale": [
             [
              0,
              "#0d0887"
             ],
             [
              0.1111111111111111,
              "#46039f"
             ],
             [
              0.2222222222222222,
              "#7201a8"
             ],
             [
              0.3333333333333333,
              "#9c179e"
             ],
             [
              0.4444444444444444,
              "#bd3786"
             ],
             [
              0.5555555555555556,
              "#d8576b"
             ],
             [
              0.6666666666666666,
              "#ed7953"
             ],
             [
              0.7777777777777778,
              "#fb9f3a"
             ],
             [
              0.8888888888888888,
              "#fdca26"
             ],
             [
              1,
              "#f0f921"
             ]
            ],
            "type": "heatmapgl"
           }
          ],
          "histogram": [
           {
            "marker": {
             "pattern": {
              "fillmode": "overlay",
              "size": 10,
              "solidity": 0.2
             }
            },
            "type": "histogram"
           }
          ],
          "histogram2d": [
           {
            "colorbar": {
             "outlinewidth": 0,
             "ticks": ""
            },
            "colorscale": [
             [
              0,
              "#0d0887"
             ],
             [
              0.1111111111111111,
              "#46039f"
             ],
             [
              0.2222222222222222,
              "#7201a8"
             ],
             [
              0.3333333333333333,
              "#9c179e"
             ],
             [
              0.4444444444444444,
              "#bd3786"
             ],
             [
              0.5555555555555556,
              "#d8576b"
             ],
             [
              0.6666666666666666,
              "#ed7953"
             ],
             [
              0.7777777777777778,
              "#fb9f3a"
             ],
             [
              0.8888888888888888,
              "#fdca26"
             ],
             [
              1,
              "#f0f921"
             ]
            ],
            "type": "histogram2d"
           }
          ],
          "histogram2dcontour": [
           {
            "colorbar": {
             "outlinewidth": 0,
             "ticks": ""
            },
            "colorscale": [
             [
              0,
              "#0d0887"
             ],
             [
              0.1111111111111111,
              "#46039f"
             ],
             [
              0.2222222222222222,
              "#7201a8"
             ],
             [
              0.3333333333333333,
              "#9c179e"
             ],
             [
              0.4444444444444444,
              "#bd3786"
             ],
             [
              0.5555555555555556,
              "#d8576b"
             ],
             [
              0.6666666666666666,
              "#ed7953"
             ],
             [
              0.7777777777777778,
              "#fb9f3a"
             ],
             [
              0.8888888888888888,
              "#fdca26"
             ],
             [
              1,
              "#f0f921"
             ]
            ],
            "type": "histogram2dcontour"
           }
          ],
          "mesh3d": [
           {
            "colorbar": {
             "outlinewidth": 0,
             "ticks": ""
            },
            "type": "mesh3d"
           }
          ],
          "parcoords": [
           {
            "line": {
             "colorbar": {
              "outlinewidth": 0,
              "ticks": ""
             }
            },
            "type": "parcoords"
           }
          ],
          "pie": [
           {
            "automargin": true,
            "type": "pie"
           }
          ],
          "scatter": [
           {
            "fillpattern": {
             "fillmode": "overlay",
             "size": 10,
             "solidity": 0.2
            },
            "type": "scatter"
           }
          ],
          "scatter3d": [
           {
            "line": {
             "colorbar": {
              "outlinewidth": 0,
              "ticks": ""
             }
            },
            "marker": {
             "colorbar": {
              "outlinewidth": 0,
              "ticks": ""
             }
            },
            "type": "scatter3d"
           }
          ],
          "scattercarpet": [
           {
            "marker": {
             "colorbar": {
              "outlinewidth": 0,
              "ticks": ""
             }
            },
            "type": "scattercarpet"
           }
          ],
          "scattergeo": [
           {
            "marker": {
             "colorbar": {
              "outlinewidth": 0,
              "ticks": ""
             }
            },
            "type": "scattergeo"
           }
          ],
          "scattergl": [
           {
            "marker": {
             "colorbar": {
              "outlinewidth": 0,
              "ticks": ""
             }
            },
            "type": "scattergl"
           }
          ],
          "scattermapbox": [
           {
            "marker": {
             "colorbar": {
              "outlinewidth": 0,
              "ticks": ""
             }
            },
            "type": "scattermapbox"
           }
          ],
          "scatterpolar": [
           {
            "marker": {
             "colorbar": {
              "outlinewidth": 0,
              "ticks": ""
             }
            },
            "type": "scatterpolar"
           }
          ],
          "scatterpolargl": [
           {
            "marker": {
             "colorbar": {
              "outlinewidth": 0,
              "ticks": ""
             }
            },
            "type": "scatterpolargl"
           }
          ],
          "scatterternary": [
           {
            "marker": {
             "colorbar": {
              "outlinewidth": 0,
              "ticks": ""
             }
            },
            "type": "scatterternary"
           }
          ],
          "surface": [
           {
            "colorbar": {
             "outlinewidth": 0,
             "ticks": ""
            },
            "colorscale": [
             [
              0,
              "#0d0887"
             ],
             [
              0.1111111111111111,
              "#46039f"
             ],
             [
              0.2222222222222222,
              "#7201a8"
             ],
             [
              0.3333333333333333,
              "#9c179e"
             ],
             [
              0.4444444444444444,
              "#bd3786"
             ],
             [
              0.5555555555555556,
              "#d8576b"
             ],
             [
              0.6666666666666666,
              "#ed7953"
             ],
             [
              0.7777777777777778,
              "#fb9f3a"
             ],
             [
              0.8888888888888888,
              "#fdca26"
             ],
             [
              1,
              "#f0f921"
             ]
            ],
            "type": "surface"
           }
          ],
          "table": [
           {
            "cells": {
             "fill": {
              "color": "#EBF0F8"
             },
             "line": {
              "color": "white"
             }
            },
            "header": {
             "fill": {
              "color": "#C8D4E3"
             },
             "line": {
              "color": "white"
             }
            },
            "type": "table"
           }
          ]
         },
         "layout": {
          "annotationdefaults": {
           "arrowcolor": "#2a3f5f",
           "arrowhead": 0,
           "arrowwidth": 1
          },
          "autotypenumbers": "strict",
          "coloraxis": {
           "colorbar": {
            "outlinewidth": 0,
            "ticks": ""
           }
          },
          "colorscale": {
           "diverging": [
            [
             0,
             "#8e0152"
            ],
            [
             0.1,
             "#c51b7d"
            ],
            [
             0.2,
             "#de77ae"
            ],
            [
             0.3,
             "#f1b6da"
            ],
            [
             0.4,
             "#fde0ef"
            ],
            [
             0.5,
             "#f7f7f7"
            ],
            [
             0.6,
             "#e6f5d0"
            ],
            [
             0.7,
             "#b8e186"
            ],
            [
             0.8,
             "#7fbc41"
            ],
            [
             0.9,
             "#4d9221"
            ],
            [
             1,
             "#276419"
            ]
           ],
           "sequential": [
            [
             0,
             "#0d0887"
            ],
            [
             0.1111111111111111,
             "#46039f"
            ],
            [
             0.2222222222222222,
             "#7201a8"
            ],
            [
             0.3333333333333333,
             "#9c179e"
            ],
            [
             0.4444444444444444,
             "#bd3786"
            ],
            [
             0.5555555555555556,
             "#d8576b"
            ],
            [
             0.6666666666666666,
             "#ed7953"
            ],
            [
             0.7777777777777778,
             "#fb9f3a"
            ],
            [
             0.8888888888888888,
             "#fdca26"
            ],
            [
             1,
             "#f0f921"
            ]
           ],
           "sequentialminus": [
            [
             0,
             "#0d0887"
            ],
            [
             0.1111111111111111,
             "#46039f"
            ],
            [
             0.2222222222222222,
             "#7201a8"
            ],
            [
             0.3333333333333333,
             "#9c179e"
            ],
            [
             0.4444444444444444,
             "#bd3786"
            ],
            [
             0.5555555555555556,
             "#d8576b"
            ],
            [
             0.6666666666666666,
             "#ed7953"
            ],
            [
             0.7777777777777778,
             "#fb9f3a"
            ],
            [
             0.8888888888888888,
             "#fdca26"
            ],
            [
             1,
             "#f0f921"
            ]
           ]
          },
          "colorway": [
           "#636efa",
           "#EF553B",
           "#00cc96",
           "#ab63fa",
           "#FFA15A",
           "#19d3f3",
           "#FF6692",
           "#B6E880",
           "#FF97FF",
           "#FECB52"
          ],
          "font": {
           "color": "#2a3f5f"
          },
          "geo": {
           "bgcolor": "white",
           "lakecolor": "white",
           "landcolor": "#E5ECF6",
           "showlakes": true,
           "showland": true,
           "subunitcolor": "white"
          },
          "hoverlabel": {
           "align": "left"
          },
          "hovermode": "closest",
          "mapbox": {
           "style": "light"
          },
          "paper_bgcolor": "white",
          "plot_bgcolor": "#E5ECF6",
          "polar": {
           "angularaxis": {
            "gridcolor": "white",
            "linecolor": "white",
            "ticks": ""
           },
           "bgcolor": "#E5ECF6",
           "radialaxis": {
            "gridcolor": "white",
            "linecolor": "white",
            "ticks": ""
           }
          },
          "scene": {
           "xaxis": {
            "backgroundcolor": "#E5ECF6",
            "gridcolor": "white",
            "gridwidth": 2,
            "linecolor": "white",
            "showbackground": true,
            "ticks": "",
            "zerolinecolor": "white"
           },
           "yaxis": {
            "backgroundcolor": "#E5ECF6",
            "gridcolor": "white",
            "gridwidth": 2,
            "linecolor": "white",
            "showbackground": true,
            "ticks": "",
            "zerolinecolor": "white"
           },
           "zaxis": {
            "backgroundcolor": "#E5ECF6",
            "gridcolor": "white",
            "gridwidth": 2,
            "linecolor": "white",
            "showbackground": true,
            "ticks": "",
            "zerolinecolor": "white"
           }
          },
          "shapedefaults": {
           "line": {
            "color": "#2a3f5f"
           }
          },
          "ternary": {
           "aaxis": {
            "gridcolor": "white",
            "linecolor": "white",
            "ticks": ""
           },
           "baxis": {
            "gridcolor": "white",
            "linecolor": "white",
            "ticks": ""
           },
           "bgcolor": "#E5ECF6",
           "caxis": {
            "gridcolor": "white",
            "linecolor": "white",
            "ticks": ""
           }
          },
          "title": {
           "x": 0.05
          },
          "xaxis": {
           "automargin": true,
           "gridcolor": "white",
           "linecolor": "white",
           "ticks": "",
           "title": {
            "standoff": 15
           },
           "zerolinecolor": "white",
           "zerolinewidth": 2
          },
          "yaxis": {
           "automargin": true,
           "gridcolor": "white",
           "linecolor": "white",
           "ticks": "",
           "title": {
            "standoff": 15
           },
           "zerolinecolor": "white",
           "zerolinewidth": 2
          }
         }
        },
        "width": 900,
        "xaxis": {
         "anchor": "y",
         "autorange": true,
         "domain": [
          0,
          0.94
         ],
         "gridcolor": "#1f292f",
         "nticks": 5,
         "range": [
          0,
          223
         ],
         "rangeslider": {
          "visible": false,
          "yaxis": {}
         },
         "type": "category"
        },
        "yaxis": {
         "anchor": "x",
         "autorange": true,
         "domain": [
          0,
          1
         ],
         "gridcolor": "#1f292f",
         "range": [
          -0.7570652419870533,
          1.3610233710328454
         ],
         "type": "linear"
        },
        "yaxis2": {
         "anchor": "x",
         "gridcolor": "#1f292f",
         "overlaying": "y",
         "side": "right"
        }
       }
      },
      "image/png": "[encoded data removed]",
      "text/html": [
       "<div>                            <div id=\"f89c41fa-993a-4bde-8e7a-b9b8832951a0\" class=\"plotly-graph-div\" style=\"height:400px; width:900px;\"></div>            <script type=\"text/javascript\">                require([\"plotly\"], function(Plotly) {                    window.PLOTLYENV=window.PLOTLYENV || {};                                    if (document.getElementById(\"f89c41fa-993a-4bde-8e7a-b9b8832951a0\")) {                    Plotly.newPlot(                        \"f89c41fa-993a-4bde-8e7a-b9b8832951a0\",                        [{\"line\":{\"shape\":\"spline\",\"width\":2},\"name\":\"GAIN_C\",\"x\":[\"s24-03-29 10:24\",\"s24-03-31 04:59\",\"s24-04-01 19:26\",\"s24-04-02 09:17\",\"s24-04-02 11:46\",\"s24-04-03 01:34\",\"s24-04-03 21:57\",\"s24-04-04 05:05\",\"s24-04-05 03:52\",\"s24-04-05 06:29\",\"s24-04-08 08:21\",\"s24-04-09 08:59\",\"s24-04-09 11:16\",\"s24-04-09 11:16\",\"s24-04-10 04:56\",\"s24-04-10 14:22\",\"s24-04-11 07:10\",\"s24-04-11 20:23\",\"s24-04-12 18:33\",\"s24-04-12 18:36\",\"s24-04-12 18:36\",\"s24-04-12 18:37\",\"s24-04-13 19:01\",\"s24-04-13 20:00\",\"s24-04-13 20:08\",\"s24-04-15 19:29\",\"s24-04-15 19:29\",\"s24-04-15 19:29\",\"s24-04-15 22:42\",\"s24-04-16 16:48\",\"s24-04-16 16:48\",\"s24-04-16 16:51\",\"s24-04-17 13:38\",\"s24-04-17 16:15\",\"s24-04-17 17:55\",\"s24-04-19 03:07\",\"s24-04-21 16:57\",\"s24-04-21 18:26\",\"s24-04-21 20:19\",\"s24-04-24 00:39\",\"s24-04-24 04:57\",\"s24-04-24 17:33\",\"s24-04-25 11:41\",\"s24-04-27 17:41\",\"s24-04-29 09:52\",\"s24-04-29 14:35\",\"s24-04-30 22:24\",\"s24-04-30 22:27\",\"s24-05-01 08:52\",\"s24-05-01 09:45\",\"s24-05-01 18:35\",\"s24-05-03 12:31\",\"s24-05-03 12:36\",\"s24-05-03 14:03\",\"s24-05-05 07:16\",\"s24-05-06 07:42\",\"s24-05-06 08:01\",\"s24-05-07 08:21\",\"s24-05-08 01:16\",\"s24-05-08 14:35\",\"s24-05-08 14:35\",\"s24-05-09 11:45\",\"s24-05-09 12:32\",\"s24-05-12 16:22\",\"s24-05-13 00:29\",\"s24-05-13 06:46\",\"s24-05-13 06:59\",\"s24-05-13 07:21\",\"s24-05-13 07:22\",\"s24-05-15 07:56\",\"s24-05-16 01:19\",\"s24-05-17 10:59\",\"s24-05-18 15:40\",\"s24-05-18 16:13\",\"s24-05-19 19:18\",\"s24-05-20 02:25\",\"s24-05-20 04:36\",\"s24-05-20 04:38\",\"s24-05-20 04:44\",\"s24-05-20 05:17\",\"s24-05-20 19:27\",\"s24-05-20 20:01\",\"s24-05-20 20:01\",\"s24-05-21 22:56\",\"s24-05-22 06:32\",\"s24-05-22 15:42\",\"s24-05-23 19:31\",\"s24-05-27 01:39\",\"s24-05-27 15:47\",\"s24-05-28 09:43\",\"s24-05-30 17:31\",\"s24-06-03 01:31\",\"s24-06-03 19:36\",\"s24-06-05 20:20\",\"s24-06-07 00:35\",\"s24-06-07 18:27\",\"s24-06-10 09:20\",\"s24-06-11 15:21\",\"s24-06-12 03:25\",\"s24-06-12 10:04\",\"s24-06-12 12:46\",\"s24-06-16 14:14\",\"s24-06-17 07:31\",\"s24-06-17 16:33\",\"s24-06-17 17:09\",\"s24-06-17 18:18\",\"s24-06-17 18:20\",\"s24-06-17 19:03\",\"s24-06-17 19:29\",\"s24-06-18 01:47\",\"s24-06-20 17:34\",\"s24-06-21 14:16\",\"s24-06-21 18:58\",\"s24-06-22 02:09\",\"s24-06-24 13:53\",\"s24-06-26 12:11\",\"s24-06-26 19:57\",\"s24-06-27 12:27\",\"s24-06-27 13:03\",\"s24-06-27 13:03\",\"s24-06-27 13:03\",\"s24-06-27 13:05\",\"s24-06-30 07:03\",\"s24-06-30 07:11\",\"s24-06-30 07:16\",\"s24-06-30 07:37\",\"s24-06-30 22:28\",\"s24-07-03 00:35\",\"s24-07-03 13:21\",\"s24-07-03 13:38\",\"s24-07-03 13:50\",\"s24-07-04 02:44\",\"s24-07-04 15:45\",\"s24-07-05 03:13\",\"s24-07-07 21:54\",\"s24-07-08 02:30\",\"s24-07-08 04:50\",\"s24-07-08 08:26\",\"s24-07-08 09:03\",\"s24-07-14 14:49\",\"s24-07-16 10:38\",\"s24-07-16 13:43\",\"s24-07-18 16:11\",\"s24-07-19 01:41\",\"s24-07-19 16:13\",\"s24-07-20 16:00\",\"s24-07-20 16:34\",\"s24-07-20 17:34\",\"s24-07-21 14:42\",\"s24-07-21 18:24\",\"s24-07-21 19:50\",\"s24-07-21 19:50\",\"s24-07-23 09:32\",\"s24-07-24 07:45\",\"s24-07-26 01:49\",\"s24-07-28 18:30\",\"s24-07-29 02:27\",\"s24-07-30 01:13\",\"s24-07-30 20:32\",\"s24-08-01 09:11\",\"s24-08-01 11:56\",\"s24-08-01 12:04\",\"s24-08-01 12:04\",\"s24-08-01 12:04\",\"s24-08-01 12:09\",\"s24-08-01 12:16\",\"s24-08-01 16:47\",\"s24-08-03 06:19\",\"s24-08-03 19:46\",\"s24-08-04 18:38\",\"s24-08-04 19:12\",\"s24-08-05 00:58\",\"s24-08-05 01:09\",\"s24-08-05 06:27\",\"s24-08-05 16:26\",\"s24-08-07 19:58\",\"s24-08-07 22:06\",\"s24-08-12 00:47\",\"s24-08-12 00:47\",\"s24-08-12 07:39\",\"s24-08-12 07:39\",\"s24-08-12 11:06\",\"s24-08-12 11:12\",\"s24-08-13 17:02\",\"s24-08-14 14:48\",\"s24-08-15 22:23\",\"s24-08-16 07:33\",\"s24-08-19 13:33\",\"s24-08-20 05:23\",\"s24-08-25 02:13\",\"s24-08-25 13:26\",\"s24-08-26 10:04\",\"s24-08-26 18:41\",\"s24-08-27 14:33\",\"s24-08-27 21:52\",\"s24-08-29 15:38\",\"s24-08-30 14:04\",\"s24-08-30 14:04\",\"s24-08-30 18:39\",\"s24-09-01 15:48\",\"s24-09-01 18:27\",\"s24-09-02 00:33\",\"s24-09-02 08:21\",\"s24-09-03 12:38\",\"s24-09-03 17:29\",\"s24-09-04 01:23\",\"s24-09-04 07:45\",\"s24-09-04 08:19\",\"s24-09-04 16:04\",\"s24-09-06 21:15\",\"s24-09-07 00:10\",\"s24-09-07 03:49\",\"s24-09-09 01:01\",\"s24-09-09 01:01\",\"s24-09-11 06:37\",\"s24-09-11 15:29\",\"s24-09-11 16:39\",\"s24-09-13 14:06\",\"s24-09-16 07:35\",\"s24-09-16 15:23\",\"s24-09-17 14:26\",\"s24-09-17 15:18\",\"s24-09-18 11:27\",\"s24-09-19 00:01\",\"s24-09-19 00:02\",\"s24-09-19 00:07\",\"s24-09-19 14:33\",\"s24-09-20 03:47\",\"s24-09-20 04:10\",\"s24-09-22 17:14\",\"s24-09-22 20:21\",\"s24-09-23 01:42\",\"s24-09-23 03:11\",\"s24-09-23 03:11\",\"s24-09-24 08:25\",\"s24-09-28 07:46\",\"s24-09-28 10:33\",\"s24-09-28 11:03\",\"s24-09-29 14:19\",\"s24-09-29 14:31\",\"s24-09-30 17:24\",\"s24-09-30 17:24\"],\"y\":[0.01064822809635509,0.020764183585436476,0.028920173057505605,0.03952021076856907,0.048529953685777914,0.0581503284836975,0.06881033448863316,0.08452178357728206,0.09410974939901241,0.10446310938183069,0.11547096946439925,0.12445996555120536,0.13347030726075662,0.14198018209953506,0.15255255370683998,0.16343398211345572,0.17212307245904254,0.1857696085287403,-0.04699168854602431,-0.27245691584463766,-0.44788772058687953,-0.4254061328508783,-0.41412075579108426,-0.39084816737026884,-0.6511608113360583,-0.6399956349646041,-0.6290633359199492,-0.6179110328678709,-0.6064267031603991,-0.5910931501806161,-0.5750802075750837,-0.5633225791131882,-0.5529510376419613,-0.5448318392539524,-0.5325064046507247,-0.522583976928902,-0.5130053713167727,-0.5034748540873776,-0.49303265989522765,-0.4840204412563418,-0.47394160875312014,-0.46468519827063665,-0.4535209327464553,-0.44150311777828044,-0.4283414890072055,-0.4185208931899157,-0.40822940197013796,-0.3970431406645318,-0.38685209712028984,-0.3769087690826738,-0.3691138915077355,-0.35992608891005734,-0.34813219427457776,-0.3389715685396423,-0.3281542259758164,-0.3174126086939481,-0.30752561982302645,-0.2972676395812745,-0.2872931537269453,-0.272947737348055,-0.2514336562480212,-0.24166257170100358,-0.22861417944498535,-0.21964078129301493,-0.20935478757704515,-0.1983165773779912,-0.178265742591037,-0.1668080498032862,-0.15558221266710429,-0.14525914006328577,-0.13506860579823723,-0.12609693378088466,-0.11709668479959123,-0.10645470028007403,-0.09682482516896795,-0.08695037614448747,-0.07616885103248829,-0.06477038145999196,-0.05422954251900265,-0.0453637088085487,-0.035131546607329325,-0.025368590010515814,-0.015623197604108442,-0.004480028542247938,0.005364032891268723,0.01714034007105498,0.026132824945074067,0.03834731603891363,0.049228528994671186,0.05914869972143817,0.06962068361268298,0.0795394843269131,0.09082873259584391,0.10041278469458306,0.11096495505953179,0.12023970678113706,0.13095076856070925,0.14134024387707894,0.151273934634648,0.16098047957871972,0.17036071365435823,0.1799055053157823,0.18993322587382772,0.20175361980881115,0.21101482101599228,0.22078200350974703,0.2317555504736953,0.24295416987909835,0.2534592542759658,0.27037282545513047,0.2821704478110916,0.29140661374153065,0.30281338765568766,0.3132478335721468,0.32271570563723595,0.33210446271377814,0.34299508670865514,0.35509303492716215,0.36718391897946556,0.37796241478162695,0.38978671311399615,0.40262514334778693,0.4128405157920687,0.4235583795064767,0.43400289326217173,0.44288871390122936,0.45497438376567956,0.4665934272646213,0.4769586558349118,0.4890942086350503,0.4989586043429187,0.5098215307535847,0.5202132491559427,0.5291769737697387,0.5397255863583965,0.5491628066826283,0.560225158920129,0.5699871589928323,0.5804520313383525,0.5900449913514655,0.6002754161752372,0.6110770388341453,0.6226131778679898,0.6340740772544268,0.6439772953058487,0.6544500663633896,0.6646496906579173,0.6744327009521998,0.6851420141053056,0.6950911639028153,0.7066428844344862,0.7184294236538693,0.72890164166418,0.7410352187933795,0.7496384422407629,0.759441146064178,0.7698370989949953,0.7807374929482266,0.7895522223748662,0.7995122313600486,0.8093291609233922,0.8209217802016154,0.8325143994798386,0.8443637625022705,0.8536759254330395,0.865011159768796,0.8746414114912099,0.8844448715151911,0.8958589302328005,0.9065114356973879,0.9180660635976499,0.7201152162527534,0.4990884997250269,0.518502762709874,0.5280098337373863,0.5402916342549589,0.5537125517812432,0.5635053907785882,0.5735809299278058,0.5864632568416183,0.5981344966392678,0.6080677314721646,0.6182695673156682,0.6294605108179074,0.6381493477543314,0.6484176428363314,0.658897504719544,0.6694740963068144,0.6809285320466815,0.691054710147311,0.7011277874166043,0.7109283108955472,0.7198757872605823,0.731258864822776,0.740347991077643,0.7508387592348771,0.761683368392129,0.7728079466314146,0.7856674617660848,0.7978150921527741,0.8120532966223734,0.8220720792467895,0.8339660162586559,0.8442945966115581,0.8542382153726782,0.8639897866039665,0.8744651970640512,0.8846270989501939,0.8925040970647322,0.9045560194478485,0.9143259506241234,0.9259300110087255,0.9402687541799729,0.9551871600410706,0.9647018908387728,0.9752101811688754,0.9861538449376501,0.996940100532712,1.006546369209199,1.016273583343355,1.0272024556122783,1.0367055312376139,1.0473013004668301,1.0615937790132675,1.0750213448979784,1.0861220778587442,1.097162516145935,1.1079428569879113,1.1187094539917757,1.1287702939287696,1.139400566375571,1.147938404218801,1.1609821842808814,1.173739586448401,1.1846196877174693,1.1944088809968225,1.2049949391883863,1.2158260075580865,1.2254797082875764,1.2361408592938739,1.2453661703080154,1.2551189403818506],\"type\":\"scatter\",\"xaxis\":\"x\",\"yaxis\":\"y\"}],                        {\"template\":{\"data\":{\"histogram2dcontour\":[{\"type\":\"histogram2dcontour\",\"colorbar\":{\"outlinewidth\":0,\"ticks\":\"\"},\"colorscale\":[[0.0,\"#0d0887\"],[0.1111111111111111,\"#46039f\"],[0.2222222222222222,\"#7201a8\"],[0.3333333333333333,\"#9c179e\"],[0.4444444444444444,\"#bd3786\"],[0.5555555555555556,\"#d8576b\"],[0.6666666666666666,\"#ed7953\"],[0.7777777777777778,\"#fb9f3a\"],[0.8888888888888888,\"#fdca26\"],[1.0,\"#f0f921\"]]}],\"choropleth\":[{\"type\":\"choropleth\",\"colorbar\":{\"outlinewidth\":0,\"ticks\":\"\"}}],\"histogram2d\":[{\"type\":\"histogram2d\",\"colorbar\":{\"outlinewidth\":0,\"ticks\":\"\"},\"colorscale\":[[0.0,\"#0d0887\"],[0.1111111111111111,\"#46039f\"],[0.2222222222222222,\"#7201a8\"],[0.3333333333333333,\"#9c179e\"],[0.4444444444444444,\"#bd3786\"],[0.5555555555555556,\"#d8576b\"],[0.6666666666666666,\"#ed7953\"],[0.7777777777777778,\"#fb9f3a\"],[0.8888888888888888,\"#fdca26\"],[1.0,\"#f0f921\"]]}],\"heatmap\":[{\"type\":\"heatmap\",\"colorbar\":{\"outlinewidth\":0,\"ticks\":\"\"},\"colorscale\":[[0.0,\"#0d0887\"],[0.1111111111111111,\"#46039f\"],[0.2222222222222222,\"#7201a8\"],[0.3333333333333333,\"#9c179e\"],[0.4444444444444444,\"#bd3786\"],[0.5555555555555556,\"#d8576b\"],[0.6666666666666666,\"#ed7953\"],[0.7777777777777778,\"#fb9f3a\"],[0.8888888888888888,\"#fdca26\"],[1.0,\"#f0f921\"]]}],\"heatmapgl\":[{\"type\":\"heatmapgl\",\"colorbar\":{\"outlinewidth\":0,\"ticks\":\"\"},\"colorscale\":[[0.0,\"#0d0887\"],[0.1111111111111111,\"#46039f\"],[0.2222222222222222,\"#7201a8\"],[0.3333333333333333,\"#9c179e\"],[0.4444444444444444,\"#bd3786\"],[0.5555555555555556,\"#d8576b\"],[0.6666666666666666,\"#ed7953\"],[0.7777777777777778,\"#fb9f3a\"],[0.8888888888888888,\"#fdca26\"],[1.0,\"#f0f921\"]]}],\"contourcarpet\":[{\"type\":\"contourcarpet\",\"colorbar\":{\"outlinewidth\":0,\"ticks\":\"\"}}],\"contour\":[{\"type\":\"contour\",\"colorbar\":{\"outlinewidth\":0,\"ticks\":\"\"},\"colorscale\":[[0.0,\"#0d0887\"],[0.1111111111111111,\"#46039f\"],[0.2222222222222222,\"#7201a8\"],[0.3333333333333333,\"#9c179e\"],[0.4444444444444444,\"#bd3786\"],[0.5555555555555556,\"#d8576b\"],[0.6666666666666666,\"#ed7953\"],[0.7777777777777778,\"#fb9f3a\"],[0.8888888888888888,\"#fdca26\"],[1.0,\"#f0f921\"]]}],\"surface\":[{\"type\":\"surface\",\"colorbar\":{\"outlinewidth\":0,\"ticks\":\"\"},\"colorscale\":[[0.0,\"#0d0887\"],[0.1111111111111111,\"#46039f\"],[0.2222222222222222,\"#7201a8\"],[0.3333333333333333,\"#9c179e\"],[0.4444444444444444,\"#bd3786\"],[0.5555555555555556,\"#d8576b\"],[0.6666666666666666,\"#ed7953\"],[0.7777777777777778,\"#fb9f3a\"],[0.8888888888888888,\"#fdca26\"],[1.0,\"#f0f921\"]]}],\"mesh3d\":[{\"type\":\"mesh3d\",\"colorbar\":{\"outlinewidth\":0,\"ticks\":\"\"}}],\"scatter\":[{\"fillpattern\":{\"fillmode\":\"overlay\",\"size\":10,\"solidity\":0.2},\"type\":\"scatter\"}],\"parcoords\":[{\"type\":\"parcoords\",\"line\":{\"colorbar\":{\"outlinewidth\":0,\"ticks\":\"\"}}}],\"scatterpolargl\":[{\"type\":\"scatterpolargl\",\"marker\":{\"colorbar\":{\"outlinewidth\":0,\"ticks\":\"\"}}}],\"bar\":[{\"error_x\":{\"color\":\"#2a3f5f\"},\"error_y\":{\"color\":\"#2a3f5f\"},\"marker\":{\"line\":{\"color\":\"#E5ECF6\",\"width\":0.5},\"pattern\":{\"fillmode\":\"overlay\",\"size\":10,\"solidity\":0.2}},\"type\":\"bar\"}],\"scattergeo\":[{\"type\":\"scattergeo\",\"marker\":{\"colorbar\":{\"outlinewidth\":0,\"ticks\":\"\"}}}],\"scatterpolar\":[{\"type\":\"scatterpolar\",\"marker\":{\"colorbar\":{\"outlinewidth\":0,\"ticks\":\"\"}}}],\"histogram\":[{\"marker\":{\"pattern\":{\"fillmode\":\"overlay\",\"size\":10,\"solidity\":0.2}},\"type\":\"histogram\"}],\"scattergl\":[{\"type\":\"scattergl\",\"marker\":{\"colorbar\":{\"outlinewidth\":0,\"ticks\":\"\"}}}],\"scatter3d\":[{\"type\":\"scatter3d\",\"line\":{\"colorbar\":{\"outlinewidth\":0,\"ticks\":\"\"}},\"marker\":{\"colorbar\":{\"outlinewidth\":0,\"ticks\":\"\"}}}],\"scattermapbox\":[{\"type\":\"scattermapbox\",\"marker\":{\"colorbar\":{\"outlinewidth\":0,\"ticks\":\"\"}}}],\"scatterternary\":[{\"type\":\"scatterternary\",\"marker\":{\"colorbar\":{\"outlinewidth\":0,\"ticks\":\"\"}}}],\"scattercarpet\":[{\"type\":\"scattercarpet\",\"marker\":{\"colorbar\":{\"outlinewidth\":0,\"ticks\":\"\"}}}],\"carpet\":[{\"aaxis\":{\"endlinecolor\":\"#2a3f5f\",\"gridcolor\":\"white\",\"linecolor\":\"white\",\"minorgridcolor\":\"white\",\"startlinecolor\":\"#2a3f5f\"},\"baxis\":{\"endlinecolor\":\"#2a3f5f\",\"gridcolor\":\"white\",\"linecolor\":\"white\",\"minorgridcolor\":\"white\",\"startlinecolor\":\"#2a3f5f\"},\"type\":\"carpet\"}],\"table\":[{\"cells\":{\"fill\":{\"color\":\"#EBF0F8\"},\"line\":{\"color\":\"white\"}},\"header\":{\"fill\":{\"color\":\"#C8D4E3\"},\"line\":{\"color\":\"white\"}},\"type\":\"table\"}],\"barpolar\":[{\"marker\":{\"line\":{\"color\":\"#E5ECF6\",\"width\":0.5},\"pattern\":{\"fillmode\":\"overlay\",\"size\":10,\"solidity\":0.2}},\"type\":\"barpolar\"}],\"pie\":[{\"automargin\":true,\"type\":\"pie\"}]},\"layout\":{\"autotypenumbers\":\"strict\",\"colorway\":[\"#636efa\",\"#EF553B\",\"#00cc96\",\"#ab63fa\",\"#FFA15A\",\"#19d3f3\",\"#FF6692\",\"#B6E880\",\"#FF97FF\",\"#FECB52\"],\"font\":{\"color\":\"#2a3f5f\"},\"hovermode\":\"closest\",\"hoverlabel\":{\"align\":\"left\"},\"paper_bgcolor\":\"white\",\"plot_bgcolor\":\"#E5ECF6\",\"polar\":{\"bgcolor\":\"#E5ECF6\",\"angularaxis\":{\"gridcolor\":\"white\",\"linecolor\":\"white\",\"ticks\":\"\"},\"radialaxis\":{\"gridcolor\":\"white\",\"linecolor\":\"white\",\"ticks\":\"\"}},\"ternary\":{\"bgcolor\":\"#E5ECF6\",\"aaxis\":{\"gridcolor\":\"white\",\"linecolor\":\"white\",\"ticks\":\"\"},\"baxis\":{\"gridcolor\":\"white\",\"linecolor\":\"white\",\"ticks\":\"\"},\"caxis\":{\"gridcolor\":\"white\",\"linecolor\":\"white\",\"ticks\":\"\"}},\"coloraxis\":{\"colorbar\":{\"outlinewidth\":0,\"ticks\":\"\"}},\"colorscale\":{\"sequential\":[[0.0,\"#0d0887\"],[0.1111111111111111,\"#46039f\"],[0.2222222222222222,\"#7201a8\"],[0.3333333333333333,\"#9c179e\"],[0.4444444444444444,\"#bd3786\"],[0.5555555555555556,\"#d8576b\"],[0.6666666666666666,\"#ed7953\"],[0.7777777777777778,\"#fb9f3a\"],[0.8888888888888888,\"#fdca26\"],[1.0,\"#f0f921\"]],\"sequentialminus\":[[0.0,\"#0d0887\"],[0.1111111111111111,\"#46039f\"],[0.2222222222222222,\"#7201a8\"],[0.3333333333333333,\"#9c179e\"],[0.4444444444444444,\"#bd3786\"],[0.5555555555555556,\"#d8576b\"],[0.6666666666666666,\"#ed7953\"],[0.7777777777777778,\"#fb9f3a\"],[0.8888888888888888,\"#fdca26\"],[1.0,\"#f0f921\"]],\"diverging\":[[0,\"#8e0152\"],[0.1,\"#c51b7d\"],[0.2,\"#de77ae\"],[0.3,\"#f1b6da\"],[0.4,\"#fde0ef\"],[0.5,\"#f7f7f7\"],[0.6,\"#e6f5d0\"],[0.7,\"#b8e186\"],[0.8,\"#7fbc41\"],[0.9,\"#4d9221\"],[1,\"#276419\"]]},\"xaxis\":{\"gridcolor\":\"white\",\"linecolor\":\"white\",\"ticks\":\"\",\"title\":{\"standoff\":15},\"zerolinecolor\":\"white\",\"automargin\":true,\"zerolinewidth\":2},\"yaxis\":{\"gridcolor\":\"white\",\"linecolor\":\"white\",\"ticks\":\"\",\"title\":{\"standoff\":15},\"zerolinecolor\":\"white\",\"automargin\":true,\"zerolinewidth\":2},\"scene\":{\"xaxis\":{\"backgroundcolor\":\"#E5ECF6\",\"gridcolor\":\"white\",\"linecolor\":\"white\",\"showbackground\":true,\"ticks\":\"\",\"zerolinecolor\":\"white\",\"gridwidth\":2},\"yaxis\":{\"backgroundcolor\":\"#E5ECF6\",\"gridcolor\":\"white\",\"linecolor\":\"white\",\"showbackground\":true,\"ticks\":\"\",\"zerolinecolor\":\"white\",\"gridwidth\":2},\"zaxis\":{\"backgroundcolor\":\"#E5ECF6\",\"gridcolor\":\"white\",\"linecolor\":\"white\",\"showbackground\":true,\"ticks\":\"\",\"zerolinecolor\":\"white\",\"gridwidth\":2}},\"shapedefaults\":{\"line\":{\"color\":\"#2a3f5f\"}},\"annotationdefaults\":{\"arrowcolor\":\"#2a3f5f\",\"arrowhead\":0,\"arrowwidth\":1},\"geo\":{\"bgcolor\":\"white\",\"landcolor\":\"#E5ECF6\",\"subunitcolor\":\"white\",\"showland\":true,\"showlakes\":true,\"lakecolor\":\"white\"},\"title\":{\"x\":0.05},\"mapbox\":{\"style\":\"light\"}}},\"xaxis\":{\"anchor\":\"y\",\"domain\":[0.0,0.94],\"rangeslider\":{\"visible\":false},\"gridcolor\":\"#1f292f\",\"nticks\":5},\"yaxis\":{\"anchor\":\"x\",\"domain\":[0.0,1.0],\"gridcolor\":\"#1f292f\"},\"yaxis2\":{\"anchor\":\"x\",\"overlaying\":\"y\",\"side\":\"right\",\"gridcolor\":\"#1f292f\"},\"margin\":{\"l\":10,\"r\":10,\"b\":10,\"t\":10},\"font\":{\"size\":8,\"color\":\"#e1e1e1\"},\"width\":900,\"height\":400,\"paper_bgcolor\":\"#2c303c\",\"plot_bgcolor\":\"#2c303c\"},                        {\"responsive\": true}                    ).then(function(){\n",
       "                            \n",
       "var gd = document.getElementById('f89c41fa-993a-4bde-8e7a-b9b8832951a0');\n",
       "var x = new MutationObserver(function (mutations, observer) {{\n",
       "        var display = window.getComputedStyle(gd).display;\n",
       "        if (!display || display === 'none') {{\n",
       "            console.log([gd, 'removed!']);\n",
       "            Plotly.purge(gd);\n",
       "            observer.disconnect();\n",
       "        }}\n",
       "}});\n",
       "\n",
       "// Listen for the removal of the full notebook cells\n",
       "var notebookContainer = gd.closest('#notebook-container');\n",
       "if (notebookContainer) {{\n",
       "    x.observe(notebookContainer, {childList: true});\n",
       "}}\n",
       "\n",
       "// Listen for the clearing of the current output cell\n",
       "var outputEl = gd.closest('.output');\n",
       "if (outputEl) {{\n",
       "    x.observe(outputEl, {childList: true});\n",
       "}}\n",
       "\n",
       "                        })                };                });            </script>        </div>"
      ]
     },
     "metadata": {},
     "output_type": "display_data"
    },
    {
     "name": "stdout",
     "output_type": "stream",
     "text": [
      "BTCUSDT 68970.0 63327.59 -0.08909876406160418\n"
     ]
    },
    {
     "data": {
      "application/vnd.plotly.v1+json": {
       "config": {
        "plotlyServerURL": "https://plot.ly"
       },
       "data": [
        {
         "line": {
          "shape": "spline",
          "width": 2
         },
         "name": "GAIN_C",
         "type": "scatter",
         "x": [
          "s24-03-31 05:48",
          "s24-03-31 13:12",
          "s24-03-31 18:39",
          "s24-04-01 19:57",
          "s24-04-03 04:31",
          "s24-04-03 14:07",
          "s24-04-04 12:44",
          "s24-04-05 14:12",
          "s24-04-06 22:09",
          "s24-04-06 22:27",
          "s24-04-07 16:39",
          "s24-04-08 07:24",
          "s24-04-08 08:17",
          "s24-04-10 16:50",
          "s24-04-10 17:22",
          "s24-04-10 17:22",
          "s24-04-12 03:28",
          "s24-04-13 23:04",
          "s24-04-14 22:06",
          "s24-04-16 21:11",
          "s24-04-16 21:48",
          "s24-04-18 03:07",
          "s24-04-18 11:04",
          "s24-04-19 04:05",
          "s24-04-19 11:40",
          "s24-04-20 15:40",
          "s24-04-20 15:47",
          "s24-04-22 03:45",
          "s24-04-22 03:46",
          "s24-04-23 14:14",
          "s24-04-25 16:02",
          "s24-04-25 17:02",
          "s24-04-27 17:52",
          "s24-04-28 02:52",
          "s24-04-29 15:33",
          "s24-04-29 22:58",
          "s24-04-30 00:47",
          "s24-04-30 00:48",
          "s24-05-01 18:35",
          "s24-05-01 21:29",
          "s24-05-02 11:03",
          "s24-05-03 12:35",
          "s24-05-04 10:47",
          "s24-05-05 13:20",
          "s24-05-05 15:57",
          "s24-05-06 08:03",
          "s24-05-06 08:19",
          "s24-05-06 08:19",
          "s24-05-07 08:19",
          "s24-05-09 15:27",
          "s24-05-09 22:43",
          "s24-05-09 22:48",
          "s24-05-12 15:42",
          "s24-05-12 16:16",
          "s24-05-13 07:53",
          "s24-05-15 09:45",
          "s24-05-15 12:31",
          "s24-05-15 13:41",
          "s24-05-15 13:41",
          "s24-05-17 06:51",
          "s24-05-17 14:58",
          "s24-05-17 14:59",
          "s24-05-17 14:59",
          "s24-05-17 15:15",
          "s24-05-19 10:34",
          "s24-05-20 04:43",
          "s24-05-20 16:05",
          "s24-05-20 23:21",
          "s24-05-20 23:28",
          "s24-05-22 15:44",
          "s24-05-22 16:15",
          "s24-05-22 16:15",
          "s24-05-24 15:20",
          "s24-05-27 14:54",
          "s24-05-27 14:54",
          "s24-05-27 15:01",
          "s24-05-27 15:01",
          "s24-05-27 15:09",
          "s24-05-27 15:10",
          "s24-05-27 15:37",
          "s24-05-28 10:17",
          "s24-05-28 22:08",
          "s24-05-30 04:29",
          "s24-05-31 12:31",
          "s24-06-02 11:50",
          "s24-06-02 11:55",
          "s24-06-02 14:34",
          "s24-06-03 01:53",
          "s24-06-03 08:27",
          "s24-06-04 13:46",
          "s24-06-04 13:56",
          "s24-06-05 15:29",
          "s24-06-05 16:13",
          "s24-06-05 16:14",
          "s24-06-07 12:03",
          "s24-06-07 12:04",
          "s24-06-10 15:42",
          "s24-06-10 15:50",
          "s24-06-11 19:48",
          "s24-06-16 10:49",
          "s24-06-17 17:36",
          "s24-06-17 18:02",
          "s24-06-17 18:11",
          "s24-06-17 18:34",
          "s24-06-20 07:18",
          "s24-06-20 07:20",
          "s24-06-20 10:59",
          "s24-06-21 20:20",
          "s24-06-25 18:58",
          "s24-06-27 13:08",
          "s24-06-27 14:01",
          "s24-06-30 07:09",
          "s24-06-30 20:23",
          "s24-06-30 20:26",
          "s24-07-01 01:07",
          "s24-07-01 17:41",
          "s24-07-01 18:20",
          "s24-07-04 15:54",
          "s24-07-05 11:46",
          "s24-07-06 13:50",
          "s24-07-08 08:04",
          "s24-07-08 08:50",
          "s24-07-08 09:03",
          "s24-07-08 22:09",
          "s24-07-09 14:15",
          "s24-07-09 18:40",
          "s24-07-11 01:50",
          "s24-07-11 11:01",
          "s24-07-12 18:36",
          "s24-07-13 22:59",
          "s24-07-14 21:22",
          "s24-07-14 21:22",
          "s24-07-14 21:24",
          "s24-07-15 02:59",
          "s24-07-15 07:44",
          "s24-07-15 14:59",
          "s24-07-15 22:35",
          "s24-07-15 22:42",
          "s24-07-15 22:42",
          "s24-07-16 11:47",
          "s24-07-16 23:30",
          "s24-07-18 02:03",
          "s24-07-18 02:03",
          "s24-07-19 06:08",
          "s24-07-19 14:10",
          "s24-07-19 14:21",
          "s24-07-19 16:02",
          "s24-07-19 19:01",
          "s24-07-19 19:04",
          "s24-07-20 17:17",
          "s24-07-20 17:17",
          "s24-07-21 17:01",
          "s24-07-22 19:39",
          "s24-07-22 19:51",
          "s24-07-24 08:42",
          "s24-07-25 15:19",
          "s24-07-25 21:00",
          "s24-07-26 13:37",
          "s24-07-27 12:04",
          "s24-07-27 13:46",
          "s24-07-27 21:23",
          "s24-07-28 18:22",
          "s24-07-31 06:12",
          "s24-07-31 13:42",
          "s24-08-01 20:36",
          "s24-08-02 13:41",
          "s24-08-03 12:23",
          "s24-08-04 19:18",
          "s24-08-05 14:01",
          "s24-08-06 14:06",
          "s24-08-07 01:55",
          "s24-08-08 21:47",
          "s24-08-08 21:59",
          "s24-08-10 00:24",
          "s24-08-10 09:39",
          "s24-08-11 03:22",
          "s24-08-12 11:03",
          "s24-08-13 14:02",
          "s24-08-15 12:37",
          "s24-08-15 14:00",
          "s24-08-16 02:31",
          "s24-08-16 18:36",
          "s24-08-18 02:58",
          "s24-08-18 10:19",
          "s24-08-19 13:19",
          "s24-08-19 20:48",
          "s24-08-20 00:31",
          "s24-08-21 08:02",
          "s24-08-21 18:27",
          "s24-08-21 19:39",
          "s24-08-23 06:50",
          "s24-08-25 22:16",
          "s24-08-25 23:14",
          "s24-08-28 09:55",
          "s24-08-30 09:28",
          "s24-09-02 08:36",
          "s24-09-02 20:53",
          "s24-09-03 02:10",
          "s24-09-03 02:10",
          "s24-09-06 12:57",
          "s24-09-07 07:02",
          "s24-09-08 09:13",
          "s24-09-08 21:10",
          "s24-09-09 21:16",
          "s24-09-10 18:16",
          "s24-09-10 18:16",
          "s24-09-11 15:44",
          "s24-09-11 16:55",
          "s24-09-12 14:35",
          "s24-09-12 18:26",
          "s24-09-13 15:23",
          "s24-09-13 15:23",
          "s24-09-13 15:23",
          "s24-09-13 15:23",
          "s24-09-13 15:35",
          "s24-09-13 17:47",
          "s24-09-17 05:53",
          "s24-09-17 12:45",
          "s24-09-17 15:04",
          "s24-09-17 15:06",
          "s24-09-17 15:06",
          "s24-09-18 18:01",
          "s24-09-18 18:33",
          "s24-09-19 00:22",
          "s24-09-19 12:07",
          "s24-09-19 13:29",
          "s24-09-19 16:55",
          "s24-09-20 04:00",
          "s24-09-20 04:09",
          "s24-09-22 22:41",
          "s24-09-22 22:42",
          "s24-09-22 22:55",
          "s24-09-22 22:57",
          "s24-09-23 03:09",
          "s24-09-23 03:11",
          "s24-09-24 17:54",
          "s24-09-24 19:50",
          "s24-09-24 19:55",
          "s24-09-26 07:19",
          "s24-09-26 10:19",
          "s24-09-26 10:42",
          "s24-09-26 15:34",
          "s24-09-26 17:04"
         ],
         "xaxis": "x",
         "y": [
          0.010782875544665975,
          0.021544936958726026,
          0.03397415823619046,
          0.04484741554353518,
          0.05260975551742041,
          0.0641392486041793,
          0.07483888160087267,
          0.08656515827086265,
          0.09615752695977162,
          0.1068255806545487,
          0.11689460932900167,
          0.12626276585956586,
          0.13729294625584496,
          0.14762803729852192,
          0.15991505598814915,
          0.17267557454864418,
          0.18274255349427476,
          0.19296641444576026,
          0.2067975966351368,
          0.2167546359675641,
          0.22943533524635162,
          0.240857938787081,
          0.2507842599560814,
          0.2639369148260046,
          0.2733291238263911,
          0.2837007349109197,
          0.295748227385423,
          0.30865821893884077,
          0.31885279288769997,
          0.32893469867180763,
          0.3398208638715763,
          0.3515592335444771,
          0.3617998269436412,
          0.3732060528707655,
          0.3819599208091701,
          0.39218432796241753,
          0.4060633193260437,
          0.4164731033703933,
          0.4227800768999046,
          0.43390217218942656,
          0.4440120350205175,
          0.45818351965983195,
          0.46954433025903436,
          0.48176800472819253,
          0.49100051385322663,
          0.5009172960749892,
          0.5148023534966419,
          0.5278732473814339,
          0.5382820077460295,
          0.5499799360663222,
          0.5602125125928858,
          0.5727300924105673,
          0.5817600054290962,
          0.5929451958414762,
          0.6102548019478495,
          0.6212071271794961,
          0.6437004343759164,
          0.6552284902153223,
          0.6665320645225419,
          0.6779055647693032,
          0.6899000073786233,
          0.7014471948863312,
          0.713152851722785,
          0.7243088060358874,
          0.7333474551706086,
          0.7433217691116732,
          0.7550707352271311,
          0.7665542148464376,
          0.7804574858424673,
          0.7903148586847045,
          0.8001711207749446,
          0.8105716397905687,
          0.8191550879614219,
          0.8308825407873414,
          0.8427835876323204,
          0.8529183027637561,
          0.8644134742203554,
          0.8747209666820988,
          0.8839519890760387,
          0.8928036344573291,
          0.9041035338589721,
          0.913970110660506,
          0.924202470209879,
          0.9336446333671458,
          0.9463457462249705,
          0.9570250763737449,
          0.9666599086923182,
          0.975622651084681,
          0.9862430851617224,
          0.997841005585086,
          1.007990315032369,
          1.0183228852964186,
          1.0291750216419362,
          1.0383457410842591,
          1.0490059205368554,
          1.0595768291896408,
          1.069349643767568,
          1.0799784031066662,
          1.09084026792964,
          1.1005062327659079,
          1.1133027696669588,
          1.1234608071490944,
          1.1341084188966584,
          1.1455986635094746,
          1.1592720739885758,
          1.1676505323741935,
          1.1787484879579109,
          1.1873956473323084,
          1.1970351784678643,
          1.2088661967815006,
          1.2208072099410556,
          1.2318283693597138,
          1.2427406615148175,
          1.2520237175638393,
          1.2612506566930086,
          1.2719210166487322,
          1.282405132920387,
          1.2931804034833216,
          1.3050134501202482,
          1.3172886438637228,
          1.3274834812357892,
          1.3413125075057728,
          1.3473563648812588,
          1.3571115044745619,
          1.3701410477487765,
          1.3789363385578792,
          1.3927223453374038,
          1.4020218060479965,
          1.4112632122331519,
          1.4214849784613968,
          1.4344073152397685,
          1.4451720413698235,
          1.4587474566827505,
          1.4672884322611297,
          1.4769404594492965,
          1.4877528466768632,
          1.498066804650925,
          1.5091831845093053,
          1.5199311402168485,
          1.5300502798124238,
          1.5419774287425698,
          1.5524216433475158,
          1.5629932731009435,
          1.5733579028897964,
          1.5835852985027956,
          1.5940735344089942,
          1.6090877876621146,
          1.6186578713753959,
          1.6288197192844935,
          1.6418809677168524,
          1.6561815364036827,
          1.667452317283502,
          1.67804520231652,
          1.688616165335689,
          1.6984714428566534,
          1.7067628732800415,
          1.7159937152098808,
          1.7277455558537889,
          1.7391215815279215,
          1.751208332714662,
          1.7595295482691897,
          1.7697899265348433,
          1.7788347177264219,
          1.7894626269145164,
          1.8044820912912198,
          1.8160093365490815,
          1.8269776244227556,
          1.8381855477273559,
          1.8499842023892386,
          1.8621902971671709,
          1.8721030930882032,
          1.8817259859170163,
          1.8982312383221427,
          1.9066370957283034,
          1.916841239503048,
          1.9293294861105033,
          1.93859558401088,
          1.9471208946051213,
          1.9584528582171574,
          1.968195932502972,
          1.9833961600589352,
          1.9948733138394554,
          2.008268853784927,
          2.018153060604192,
          2.029673896818785,
          2.0391595103153257,
          2.053191401177327,
          2.0630734656512546,
          2.073643562718409,
          2.0849383332940863,
          2.0975154803272984,
          2.106565827817946,
          2.117185467116728,
          2.1263721456664255,
          2.1359140955738583,
          2.145116722659854,
          2.1585731757352695,
          2.169115335780014,
          2.1785256673043967,
          2.1877448151794727,
          2.197216799167614,
          2.2079427390806177,
          2.2166571570439175,
          2.2306424434611394,
          2.2419520862612847,
          2.252973106277118,
          2.264328444988295,
          2.2805624297094345,
          2.288626062694892,
          2.2985060586185866,
          2.3120547836686027,
          2.3236413373065394,
          2.3386183598555275,
          2.351335801578096,
          2.361766476952861,
          2.3726043408721837,
          2.383978716248223,
          2.394172525189147,
          2.4059080506550026,
          2.4189861495646254,
          2.431932387329807,
          2.4457453456411358,
          2.4589692541667336,
          2.4705801070817044,
          2.4833790948019248,
          2.4932483902452947,
          2.5020353901104495,
          2.5123714176574152,
          2.5233266244613066,
          2.537048946401687,
          2.547602156263299,
          2.5579613905976966,
          2.5699967481311456,
          2.5824338915874154,
          2.594582194556955,
          2.6048098871510548,
          2.614996179833681,
          2.6239944128423804,
          2.6346185454207123,
          2.6462162163252914,
          2.6556337655851454,
          2.667916005003246,
          2.678889867364717
         ],
         "yaxis": "y"
        }
       ],
       "layout": {
        "font": {
         "color": "#e1e1e1",
         "size": 8
        },
        "height": 400,
        "margin": {
         "b": 10,
         "l": 10,
         "r": 10,
         "t": 10
        },
        "paper_bgcolor": "#2c303c",
        "plot_bgcolor": "#2c303c",
        "template": {
         "data": {
          "bar": [
           {
            "error_x": {
             "color": "#2a3f5f"
            },
            "error_y": {
             "color": "#2a3f5f"
            },
            "marker": {
             "line": {
              "color": "#E5ECF6",
              "width": 0.5
             },
             "pattern": {
              "fillmode": "overlay",
              "size": 10,
              "solidity": 0.2
             }
            },
            "type": "bar"
           }
          ],
          "barpolar": [
           {
            "marker": {
             "line": {
              "color": "#E5ECF6",
              "width": 0.5
             },
             "pattern": {
              "fillmode": "overlay",
              "size": 10,
              "solidity": 0.2
             }
            },
            "type": "barpolar"
           }
          ],
          "carpet": [
           {
            "aaxis": {
             "endlinecolor": "#2a3f5f",
             "gridcolor": "white",
             "linecolor": "white",
             "minorgridcolor": "white",
             "startlinecolor": "#2a3f5f"
            },
            "baxis": {
             "endlinecolor": "#2a3f5f",
             "gridcolor": "white",
             "linecolor": "white",
             "minorgridcolor": "white",
             "startlinecolor": "#2a3f5f"
            },
            "type": "carpet"
           }
          ],
          "choropleth": [
           {
            "colorbar": {
             "outlinewidth": 0,
             "ticks": ""
            },
            "type": "choropleth"
           }
          ],
          "contour": [
           {
            "colorbar": {
             "outlinewidth": 0,
             "ticks": ""
            },
            "colorscale": [
             [
              0,
              "#0d0887"
             ],
             [
              0.1111111111111111,
              "#46039f"
             ],
             [
              0.2222222222222222,
              "#7201a8"
             ],
             [
              0.3333333333333333,
              "#9c179e"
             ],
             [
              0.4444444444444444,
              "#bd3786"
             ],
             [
              0.5555555555555556,
              "#d8576b"
             ],
             [
              0.6666666666666666,
              "#ed7953"
             ],
             [
              0.7777777777777778,
              "#fb9f3a"
             ],
             [
              0.8888888888888888,
              "#fdca26"
             ],
             [
              1,
              "#f0f921"
             ]
            ],
            "type": "contour"
           }
          ],
          "contourcarpet": [
           {
            "colorbar": {
             "outlinewidth": 0,
             "ticks": ""
            },
            "type": "contourcarpet"
           }
          ],
          "heatmap": [
           {
            "colorbar": {
             "outlinewidth": 0,
             "ticks": ""
            },
            "colorscale": [
             [
              0,
              "#0d0887"
             ],
             [
              0.1111111111111111,
              "#46039f"
             ],
             [
              0.2222222222222222,
              "#7201a8"
             ],
             [
              0.3333333333333333,
              "#9c179e"
             ],
             [
              0.4444444444444444,
              "#bd3786"
             ],
             [
              0.5555555555555556,
              "#d8576b"
             ],
             [
              0.6666666666666666,
              "#ed7953"
             ],
             [
              0.7777777777777778,
              "#fb9f3a"
             ],
             [
              0.8888888888888888,
              "#fdca26"
             ],
             [
              1,
              "#f0f921"
             ]
            ],
            "type": "heatmap"
           }
          ],
          "heatmapgl": [
           {
            "colorbar": {
             "outlinewidth": 0,
             "ticks": ""
            },
            "colorscale": [
             [
              0,
              "#0d0887"
             ],
             [
              0.1111111111111111,
              "#46039f"
             ],
             [
              0.2222222222222222,
              "#7201a8"
             ],
             [
              0.3333333333333333,
              "#9c179e"
             ],
             [
              0.4444444444444444,
              "#bd3786"
             ],
             [
              0.5555555555555556,
              "#d8576b"
             ],
             [
              0.6666666666666666,
              "#ed7953"
             ],
             [
              0.7777777777777778,
              "#fb9f3a"
             ],
             [
              0.8888888888888888,
              "#fdca26"
             ],
             [
              1,
              "#f0f921"
             ]
            ],
            "type": "heatmapgl"
           }
          ],
          "histogram": [
           {
            "marker": {
             "pattern": {
              "fillmode": "overlay",
              "size": 10,
              "solidity": 0.2
             }
            },
            "type": "histogram"
           }
          ],
          "histogram2d": [
           {
            "colorbar": {
             "outlinewidth": 0,
             "ticks": ""
            },
            "colorscale": [
             [
              0,
              "#0d0887"
             ],
             [
              0.1111111111111111,
              "#46039f"
             ],
             [
              0.2222222222222222,
              "#7201a8"
             ],
             [
              0.3333333333333333,
              "#9c179e"
             ],
             [
              0.4444444444444444,
              "#bd3786"
             ],
             [
              0.5555555555555556,
              "#d8576b"
             ],
             [
              0.6666666666666666,
              "#ed7953"
             ],
             [
              0.7777777777777778,
              "#fb9f3a"
             ],
             [
              0.8888888888888888,
              "#fdca26"
             ],
             [
              1,
              "#f0f921"
             ]
            ],
            "type": "histogram2d"
           }
          ],
          "histogram2dcontour": [
           {
            "colorbar": {
             "outlinewidth": 0,
             "ticks": ""
            },
            "colorscale": [
             [
              0,
              "#0d0887"
             ],
             [
              0.1111111111111111,
              "#46039f"
             ],
             [
              0.2222222222222222,
              "#7201a8"
             ],
             [
              0.3333333333333333,
              "#9c179e"
             ],
             [
              0.4444444444444444,
              "#bd3786"
             ],
             [
              0.5555555555555556,
              "#d8576b"
             ],
             [
              0.6666666666666666,
              "#ed7953"
             ],
             [
              0.7777777777777778,
              "#fb9f3a"
             ],
             [
              0.8888888888888888,
              "#fdca26"
             ],
             [
              1,
              "#f0f921"
             ]
            ],
            "type": "histogram2dcontour"
           }
          ],
          "mesh3d": [
           {
            "colorbar": {
             "outlinewidth": 0,
             "ticks": ""
            },
            "type": "mesh3d"
           }
          ],
          "parcoords": [
           {
            "line": {
             "colorbar": {
              "outlinewidth": 0,
              "ticks": ""
             }
            },
            "type": "parcoords"
           }
          ],
          "pie": [
           {
            "automargin": true,
            "type": "pie"
           }
          ],
          "scatter": [
           {
            "fillpattern": {
             "fillmode": "overlay",
             "size": 10,
             "solidity": 0.2
            },
            "type": "scatter"
           }
          ],
          "scatter3d": [
           {
            "line": {
             "colorbar": {
              "outlinewidth": 0,
              "ticks": ""
             }
            },
            "marker": {
             "colorbar": {
              "outlinewidth": 0,
              "ticks": ""
             }
            },
            "type": "scatter3d"
           }
          ],
          "scattercarpet": [
           {
            "marker": {
             "colorbar": {
              "outlinewidth": 0,
              "ticks": ""
             }
            },
            "type": "scattercarpet"
           }
          ],
          "scattergeo": [
           {
            "marker": {
             "colorbar": {
              "outlinewidth": 0,
              "ticks": ""
             }
            },
            "type": "scattergeo"
           }
          ],
          "scattergl": [
           {
            "marker": {
             "colorbar": {
              "outlinewidth": 0,
              "ticks": ""
             }
            },
            "type": "scattergl"
           }
          ],
          "scattermapbox": [
           {
            "marker": {
             "colorbar": {
              "outlinewidth": 0,
              "ticks": ""
             }
            },
            "type": "scattermapbox"
           }
          ],
          "scatterpolar": [
           {
            "marker": {
             "colorbar": {
              "outlinewidth": 0,
              "ticks": ""
             }
            },
            "type": "scatterpolar"
           }
          ],
          "scatterpolargl": [
           {
            "marker": {
             "colorbar": {
              "outlinewidth": 0,
              "ticks": ""
             }
            },
            "type": "scatterpolargl"
           }
          ],
          "scatterternary": [
           {
            "marker": {
             "colorbar": {
              "outlinewidth": 0,
              "ticks": ""
             }
            },
            "type": "scatterternary"
           }
          ],
          "surface": [
           {
            "colorbar": {
             "outlinewidth": 0,
             "ticks": ""
            },
            "colorscale": [
             [
              0,
              "#0d0887"
             ],
             [
              0.1111111111111111,
              "#46039f"
             ],
             [
              0.2222222222222222,
              "#7201a8"
             ],
             [
              0.3333333333333333,
              "#9c179e"
             ],
             [
              0.4444444444444444,
              "#bd3786"
             ],
             [
              0.5555555555555556,
              "#d8576b"
             ],
             [
              0.6666666666666666,
              "#ed7953"
             ],
             [
              0.7777777777777778,
              "#fb9f3a"
             ],
             [
              0.8888888888888888,
              "#fdca26"
             ],
             [
              1,
              "#f0f921"
             ]
            ],
            "type": "surface"
           }
          ],
          "table": [
           {
            "cells": {
             "fill": {
              "color": "#EBF0F8"
             },
             "line": {
              "color": "white"
             }
            },
            "header": {
             "fill": {
              "color": "#C8D4E3"
             },
             "line": {
              "color": "white"
             }
            },
            "type": "table"
           }
          ]
         },
         "layout": {
          "annotationdefaults": {
           "arrowcolor": "#2a3f5f",
           "arrowhead": 0,
           "arrowwidth": 1
          },
          "autotypenumbers": "strict",
          "coloraxis": {
           "colorbar": {
            "outlinewidth": 0,
            "ticks": ""
           }
          },
          "colorscale": {
           "diverging": [
            [
             0,
             "#8e0152"
            ],
            [
             0.1,
             "#c51b7d"
            ],
            [
             0.2,
             "#de77ae"
            ],
            [
             0.3,
             "#f1b6da"
            ],
            [
             0.4,
             "#fde0ef"
            ],
            [
             0.5,
             "#f7f7f7"
            ],
            [
             0.6,
             "#e6f5d0"
            ],
            [
             0.7,
             "#b8e186"
            ],
            [
             0.8,
             "#7fbc41"
            ],
            [
             0.9,
             "#4d9221"
            ],
            [
             1,
             "#276419"
            ]
           ],
           "sequential": [
            [
             0,
             "#0d0887"
            ],
            [
             0.1111111111111111,
             "#46039f"
            ],
            [
             0.2222222222222222,
             "#7201a8"
            ],
            [
             0.3333333333333333,
             "#9c179e"
            ],
            [
             0.4444444444444444,
             "#bd3786"
            ],
            [
             0.5555555555555556,
             "#d8576b"
            ],
            [
             0.6666666666666666,
             "#ed7953"
            ],
            [
             0.7777777777777778,
             "#fb9f3a"
            ],
            [
             0.8888888888888888,
             "#fdca26"
            ],
            [
             1,
             "#f0f921"
            ]
           ],
           "sequentialminus": [
            [
             0,
             "#0d0887"
            ],
            [
             0.1111111111111111,
             "#46039f"
            ],
            [
             0.2222222222222222,
             "#7201a8"
            ],
            [
             0.3333333333333333,
             "#9c179e"
            ],
            [
             0.4444444444444444,
             "#bd3786"
            ],
            [
             0.5555555555555556,
             "#d8576b"
            ],
            [
             0.6666666666666666,
             "#ed7953"
            ],
            [
             0.7777777777777778,
             "#fb9f3a"
            ],
            [
             0.8888888888888888,
             "#fdca26"
            ],
            [
             1,
             "#f0f921"
            ]
           ]
          },
          "colorway": [
           "#636efa",
           "#EF553B",
           "#00cc96",
           "#ab63fa",
           "#FFA15A",
           "#19d3f3",
           "#FF6692",
           "#B6E880",
           "#FF97FF",
           "#FECB52"
          ],
          "font": {
           "color": "#2a3f5f"
          },
          "geo": {
           "bgcolor": "white",
           "lakecolor": "white",
           "landcolor": "#E5ECF6",
           "showlakes": true,
           "showland": true,
           "subunitcolor": "white"
          },
          "hoverlabel": {
           "align": "left"
          },
          "hovermode": "closest",
          "mapbox": {
           "style": "light"
          },
          "paper_bgcolor": "white",
          "plot_bgcolor": "#E5ECF6",
          "polar": {
           "angularaxis": {
            "gridcolor": "white",
            "linecolor": "white",
            "ticks": ""
           },
           "bgcolor": "#E5ECF6",
           "radialaxis": {
            "gridcolor": "white",
            "linecolor": "white",
            "ticks": ""
           }
          },
          "scene": {
           "xaxis": {
            "backgroundcolor": "#E5ECF6",
            "gridcolor": "white",
            "gridwidth": 2,
            "linecolor": "white",
            "showbackground": true,
            "ticks": "",
            "zerolinecolor": "white"
           },
           "yaxis": {
            "backgroundcolor": "#E5ECF6",
            "gridcolor": "white",
            "gridwidth": 2,
            "linecolor": "white",
            "showbackground": true,
            "ticks": "",
            "zerolinecolor": "white"
           },
           "zaxis": {
            "backgroundcolor": "#E5ECF6",
            "gridcolor": "white",
            "gridwidth": 2,
            "linecolor": "white",
            "showbackground": true,
            "ticks": "",
            "zerolinecolor": "white"
           }
          },
          "shapedefaults": {
           "line": {
            "color": "#2a3f5f"
           }
          },
          "ternary": {
           "aaxis": {
            "gridcolor": "white",
            "linecolor": "white",
            "ticks": ""
           },
           "baxis": {
            "gridcolor": "white",
            "linecolor": "white",
            "ticks": ""
           },
           "bgcolor": "#E5ECF6",
           "caxis": {
            "gridcolor": "white",
            "linecolor": "white",
            "ticks": ""
           }
          },
          "title": {
           "x": 0.05
          },
          "xaxis": {
           "automargin": true,
           "gridcolor": "white",
           "linecolor": "white",
           "ticks": "",
           "title": {
            "standoff": 15
           },
           "zerolinecolor": "white",
           "zerolinewidth": 2
          },
          "yaxis": {
           "automargin": true,
           "gridcolor": "white",
           "linecolor": "white",
           "ticks": "",
           "title": {
            "standoff": 15
           },
           "zerolinecolor": "white",
           "zerolinewidth": 2
          }
         }
        },
        "width": 900,
        "xaxis": {
         "anchor": "y",
         "autorange": true,
         "domain": [
          0,
          0.94
         ],
         "gridcolor": "#1f292f",
         "nticks": 5,
         "range": [
          0,
          225
         ],
         "rangeslider": {
          "visible": false,
          "yaxis": {}
         },
         "type": "category"
        },
        "yaxis": {
         "anchor": "x",
         "autorange": true,
         "domain": [
          0,
          1
         ],
         "gridcolor": "#1f292f",
         "range": [
          -0.13744529066755912,
          2.8271180335769417
         ],
         "type": "linear"
        },
        "yaxis2": {
         "anchor": "x",
         "gridcolor": "#1f292f",
         "overlaying": "y",
         "side": "right"
        }
       }
      },
      "image/png": "[encoded data removed]",
      "text/html": [
       "<div>                            <div id=\"6e7889ca-8784-4aeb-a47c-1c915ea87739\" class=\"plotly-graph-div\" style=\"height:400px; width:900px;\"></div>            <script type=\"text/javascript\">                require([\"plotly\"], function(Plotly) {                    window.PLOTLYENV=window.PLOTLYENV || {};                                    if (document.getElementById(\"6e7889ca-8784-4aeb-a47c-1c915ea87739\")) {                    Plotly.newPlot(                        \"6e7889ca-8784-4aeb-a47c-1c915ea87739\",                        [{\"line\":{\"shape\":\"spline\",\"width\":2},\"name\":\"GAIN_C\",\"x\":[\"s24-03-31 05:48\",\"s24-03-31 13:12\",\"s24-03-31 18:39\",\"s24-04-01 19:57\",\"s24-04-03 04:31\",\"s24-04-03 14:07\",\"s24-04-04 12:44\",\"s24-04-05 14:12\",\"s24-04-06 22:09\",\"s24-04-06 22:27\",\"s24-04-07 16:39\",\"s24-04-08 07:24\",\"s24-04-08 08:17\",\"s24-04-10 16:50\",\"s24-04-10 17:22\",\"s24-04-10 17:22\",\"s24-04-12 03:28\",\"s24-04-13 23:04\",\"s24-04-14 22:06\",\"s24-04-16 21:11\",\"s24-04-16 21:48\",\"s24-04-18 03:07\",\"s24-04-18 11:04\",\"s24-04-19 04:05\",\"s24-04-19 11:40\",\"s24-04-20 15:40\",\"s24-04-20 15:47\",\"s24-04-22 03:45\",\"s24-04-22 03:46\",\"s24-04-23 14:14\",\"s24-04-25 16:02\",\"s24-04-25 17:02\",\"s24-04-27 17:52\",\"s24-04-28 02:52\",\"s24-04-29 15:33\",\"s24-04-29 22:58\",\"s24-04-30 00:47\",\"s24-04-30 00:48\",\"s24-05-01 18:35\",\"s24-05-01 21:29\",\"s24-05-02 11:03\",\"s24-05-03 12:35\",\"s24-05-04 10:47\",\"s24-05-05 13:20\",\"s24-05-05 15:57\",\"s24-05-06 08:03\",\"s24-05-06 08:19\",\"s24-05-06 08:19\",\"s24-05-07 08:19\",\"s24-05-09 15:27\",\"s24-05-09 22:43\",\"s24-05-09 22:48\",\"s24-05-12 15:42\",\"s24-05-12 16:16\",\"s24-05-13 07:53\",\"s24-05-15 09:45\",\"s24-05-15 12:31\",\"s24-05-15 13:41\",\"s24-05-15 13:41\",\"s24-05-17 06:51\",\"s24-05-17 14:58\",\"s24-05-17 14:59\",\"s24-05-17 14:59\",\"s24-05-17 15:15\",\"s24-05-19 10:34\",\"s24-05-20 04:43\",\"s24-05-20 16:05\",\"s24-05-20 23:21\",\"s24-05-20 23:28\",\"s24-05-22 15:44\",\"s24-05-22 16:15\",\"s24-05-22 16:15\",\"s24-05-24 15:20\",\"s24-05-27 14:54\",\"s24-05-27 14:54\",\"s24-05-27 15:01\",\"s24-05-27 15:01\",\"s24-05-27 15:09\",\"s24-05-27 15:10\",\"s24-05-27 15:37\",\"s24-05-28 10:17\",\"s24-05-28 22:08\",\"s24-05-30 04:29\",\"s24-05-31 12:31\",\"s24-06-02 11:50\",\"s24-06-02 11:55\",\"s24-06-02 14:34\",\"s24-06-03 01:53\",\"s24-06-03 08:27\",\"s24-06-04 13:46\",\"s24-06-04 13:56\",\"s24-06-05 15:29\",\"s24-06-05 16:13\",\"s24-06-05 16:14\",\"s24-06-07 12:03\",\"s24-06-07 12:04\",\"s24-06-10 15:42\",\"s24-06-10 15:50\",\"s24-06-11 19:48\",\"s24-06-16 10:49\",\"s24-06-17 17:36\",\"s24-06-17 18:02\",\"s24-06-17 18:11\",\"s24-06-17 18:34\",\"s24-06-20 07:18\",\"s24-06-20 07:20\",\"s24-06-20 10:59\",\"s24-06-21 20:20\",\"s24-06-25 18:58\",\"s24-06-27 13:08\",\"s24-06-27 14:01\",\"s24-06-30 07:09\",\"s24-06-30 20:23\",\"s24-06-30 20:26\",\"s24-07-01 01:07\",\"s24-07-01 17:41\",\"s24-07-01 18:20\",\"s24-07-04 15:54\",\"s24-07-05 11:46\",\"s24-07-06 13:50\",\"s24-07-08 08:04\",\"s24-07-08 08:50\",\"s24-07-08 09:03\",\"s24-07-08 22:09\",\"s24-07-09 14:15\",\"s24-07-09 18:40\",\"s24-07-11 01:50\",\"s24-07-11 11:01\",\"s24-07-12 18:36\",\"s24-07-13 22:59\",\"s24-07-14 21:22\",\"s24-07-14 21:22\",\"s24-07-14 21:24\",\"s24-07-15 02:59\",\"s24-07-15 07:44\",\"s24-07-15 14:59\",\"s24-07-15 22:35\",\"s24-07-15 22:42\",\"s24-07-15 22:42\",\"s24-07-16 11:47\",\"s24-07-16 23:30\",\"s24-07-18 02:03\",\"s24-07-18 02:03\",\"s24-07-19 06:08\",\"s24-07-19 14:10\",\"s24-07-19 14:21\",\"s24-07-19 16:02\",\"s24-07-19 19:01\",\"s24-07-19 19:04\",\"s24-07-20 17:17\",\"s24-07-20 17:17\",\"s24-07-21 17:01\",\"s24-07-22 19:39\",\"s24-07-22 19:51\",\"s24-07-24 08:42\",\"s24-07-25 15:19\",\"s24-07-25 21:00\",\"s24-07-26 13:37\",\"s24-07-27 12:04\",\"s24-07-27 13:46\",\"s24-07-27 21:23\",\"s24-07-28 18:22\",\"s24-07-31 06:12\",\"s24-07-31 13:42\",\"s24-08-01 20:36\",\"s24-08-02 13:41\",\"s24-08-03 12:23\",\"s24-08-04 19:18\",\"s24-08-05 14:01\",\"s24-08-06 14:06\",\"s24-08-07 01:55\",\"s24-08-08 21:47\",\"s24-08-08 21:59\",\"s24-08-10 00:24\",\"s24-08-10 09:39\",\"s24-08-11 03:22\",\"s24-08-12 11:03\",\"s24-08-13 14:02\",\"s24-08-15 12:37\",\"s24-08-15 14:00\",\"s24-08-16 02:31\",\"s24-08-16 18:36\",\"s24-08-18 02:58\",\"s24-08-18 10:19\",\"s24-08-19 13:19\",\"s24-08-19 20:48\",\"s24-08-20 00:31\",\"s24-08-21 08:02\",\"s24-08-21 18:27\",\"s24-08-21 19:39\",\"s24-08-23 06:50\",\"s24-08-25 22:16\",\"s24-08-25 23:14\",\"s24-08-28 09:55\",\"s24-08-30 09:28\",\"s24-09-02 08:36\",\"s24-09-02 20:53\",\"s24-09-03 02:10\",\"s24-09-03 02:10\",\"s24-09-06 12:57\",\"s24-09-07 07:02\",\"s24-09-08 09:13\",\"s24-09-08 21:10\",\"s24-09-09 21:16\",\"s24-09-10 18:16\",\"s24-09-10 18:16\",\"s24-09-11 15:44\",\"s24-09-11 16:55\",\"s24-09-12 14:35\",\"s24-09-12 18:26\",\"s24-09-13 15:23\",\"s24-09-13 15:23\",\"s24-09-13 15:23\",\"s24-09-13 15:23\",\"s24-09-13 15:35\",\"s24-09-13 17:47\",\"s24-09-17 05:53\",\"s24-09-17 12:45\",\"s24-09-17 15:04\",\"s24-09-17 15:06\",\"s24-09-17 15:06\",\"s24-09-18 18:01\",\"s24-09-18 18:33\",\"s24-09-19 00:22\",\"s24-09-19 12:07\",\"s24-09-19 13:29\",\"s24-09-19 16:55\",\"s24-09-20 04:00\",\"s24-09-20 04:09\",\"s24-09-22 22:41\",\"s24-09-22 22:42\",\"s24-09-22 22:55\",\"s24-09-22 22:57\",\"s24-09-23 03:09\",\"s24-09-23 03:11\",\"s24-09-24 17:54\",\"s24-09-24 19:50\",\"s24-09-24 19:55\",\"s24-09-26 07:19\",\"s24-09-26 10:19\",\"s24-09-26 10:42\",\"s24-09-26 15:34\",\"s24-09-26 17:04\"],\"y\":[0.010782875544665975,0.021544936958726026,0.03397415823619046,0.04484741554353518,0.05260975551742041,0.0641392486041793,0.07483888160087267,0.08656515827086265,0.09615752695977162,0.1068255806545487,0.11689460932900167,0.12626276585956586,0.13729294625584496,0.14762803729852192,0.15991505598814915,0.17267557454864418,0.18274255349427476,0.19296641444576026,0.2067975966351368,0.2167546359675641,0.22943533524635162,0.240857938787081,0.2507842599560814,0.2639369148260046,0.2733291238263911,0.2837007349109197,0.295748227385423,0.30865821893884077,0.31885279288769997,0.32893469867180763,0.3398208638715763,0.3515592335444771,0.3617998269436412,0.3732060528707655,0.3819599208091701,0.39218432796241753,0.4060633193260437,0.4164731033703933,0.4227800768999046,0.43390217218942656,0.4440120350205175,0.45818351965983195,0.46954433025903436,0.48176800472819253,0.49100051385322663,0.5009172960749892,0.5148023534966419,0.5278732473814339,0.5382820077460295,0.5499799360663222,0.5602125125928858,0.5727300924105673,0.5817600054290962,0.5929451958414762,0.6102548019478495,0.6212071271794961,0.6437004343759164,0.6552284902153223,0.6665320645225419,0.6779055647693032,0.6899000073786233,0.7014471948863312,0.713152851722785,0.7243088060358874,0.7333474551706086,0.7433217691116732,0.7550707352271311,0.7665542148464376,0.7804574858424673,0.7903148586847045,0.8001711207749446,0.8105716397905687,0.8191550879614219,0.8308825407873414,0.8427835876323204,0.8529183027637561,0.8644134742203554,0.8747209666820988,0.8839519890760387,0.8928036344573291,0.9041035338589721,0.913970110660506,0.924202470209879,0.9336446333671458,0.9463457462249705,0.9570250763737449,0.9666599086923182,0.975622651084681,0.9862430851617224,0.997841005585086,1.007990315032369,1.0183228852964186,1.0291750216419362,1.0383457410842591,1.0490059205368554,1.0595768291896408,1.069349643767568,1.0799784031066662,1.09084026792964,1.1005062327659079,1.1133027696669588,1.1234608071490944,1.1341084188966584,1.1455986635094746,1.1592720739885758,1.1676505323741935,1.1787484879579109,1.1873956473323084,1.1970351784678643,1.2088661967815006,1.2208072099410556,1.2318283693597138,1.2427406615148175,1.2520237175638393,1.2612506566930086,1.2719210166487322,1.282405132920387,1.2931804034833216,1.3050134501202482,1.3172886438637228,1.3274834812357892,1.3413125075057728,1.3473563648812588,1.3571115044745619,1.3701410477487765,1.3789363385578792,1.3927223453374038,1.4020218060479965,1.4112632122331519,1.4214849784613968,1.4344073152397685,1.4451720413698235,1.4587474566827505,1.4672884322611297,1.4769404594492965,1.4877528466768632,1.498066804650925,1.5091831845093053,1.5199311402168485,1.5300502798124238,1.5419774287425698,1.5524216433475158,1.5629932731009435,1.5733579028897964,1.5835852985027956,1.5940735344089942,1.6090877876621146,1.6186578713753959,1.6288197192844935,1.6418809677168524,1.6561815364036827,1.667452317283502,1.67804520231652,1.688616165335689,1.6984714428566534,1.7067628732800415,1.7159937152098808,1.7277455558537889,1.7391215815279215,1.751208332714662,1.7595295482691897,1.7697899265348433,1.7788347177264219,1.7894626269145164,1.8044820912912198,1.8160093365490815,1.8269776244227556,1.8381855477273559,1.8499842023892386,1.8621902971671709,1.8721030930882032,1.8817259859170163,1.8982312383221427,1.9066370957283034,1.916841239503048,1.9293294861105033,1.93859558401088,1.9471208946051213,1.9584528582171574,1.968195932502972,1.9833961600589352,1.9948733138394554,2.008268853784927,2.018153060604192,2.029673896818785,2.0391595103153257,2.053191401177327,2.0630734656512546,2.073643562718409,2.0849383332940863,2.0975154803272984,2.106565827817946,2.117185467116728,2.1263721456664255,2.1359140955738583,2.145116722659854,2.1585731757352695,2.169115335780014,2.1785256673043967,2.1877448151794727,2.197216799167614,2.2079427390806177,2.2166571570439175,2.2306424434611394,2.2419520862612847,2.252973106277118,2.264328444988295,2.2805624297094345,2.288626062694892,2.2985060586185866,2.3120547836686027,2.3236413373065394,2.3386183598555275,2.351335801578096,2.361766476952861,2.3726043408721837,2.383978716248223,2.394172525189147,2.4059080506550026,2.4189861495646254,2.431932387329807,2.4457453456411358,2.4589692541667336,2.4705801070817044,2.4833790948019248,2.4932483902452947,2.5020353901104495,2.5123714176574152,2.5233266244613066,2.537048946401687,2.547602156263299,2.5579613905976966,2.5699967481311456,2.5824338915874154,2.594582194556955,2.6048098871510548,2.614996179833681,2.6239944128423804,2.6346185454207123,2.6462162163252914,2.6556337655851454,2.667916005003246,2.678889867364717],\"type\":\"scatter\",\"xaxis\":\"x\",\"yaxis\":\"y\"}],                        {\"template\":{\"data\":{\"histogram2dcontour\":[{\"type\":\"histogram2dcontour\",\"colorbar\":{\"outlinewidth\":0,\"ticks\":\"\"},\"colorscale\":[[0.0,\"#0d0887\"],[0.1111111111111111,\"#46039f\"],[0.2222222222222222,\"#7201a8\"],[0.3333333333333333,\"#9c179e\"],[0.4444444444444444,\"#bd3786\"],[0.5555555555555556,\"#d8576b\"],[0.6666666666666666,\"#ed7953\"],[0.7777777777777778,\"#fb9f3a\"],[0.8888888888888888,\"#fdca26\"],[1.0,\"#f0f921\"]]}],\"choropleth\":[{\"type\":\"choropleth\",\"colorbar\":{\"outlinewidth\":0,\"ticks\":\"\"}}],\"histogram2d\":[{\"type\":\"histogram2d\",\"colorbar\":{\"outlinewidth\":0,\"ticks\":\"\"},\"colorscale\":[[0.0,\"#0d0887\"],[0.1111111111111111,\"#46039f\"],[0.2222222222222222,\"#7201a8\"],[0.3333333333333333,\"#9c179e\"],[0.4444444444444444,\"#bd3786\"],[0.5555555555555556,\"#d8576b\"],[0.6666666666666666,\"#ed7953\"],[0.7777777777777778,\"#fb9f3a\"],[0.8888888888888888,\"#fdca26\"],[1.0,\"#f0f921\"]]}],\"heatmap\":[{\"type\":\"heatmap\",\"colorbar\":{\"outlinewidth\":0,\"ticks\":\"\"},\"colorscale\":[[0.0,\"#0d0887\"],[0.1111111111111111,\"#46039f\"],[0.2222222222222222,\"#7201a8\"],[0.3333333333333333,\"#9c179e\"],[0.4444444444444444,\"#bd3786\"],[0.5555555555555556,\"#d8576b\"],[0.6666666666666666,\"#ed7953\"],[0.7777777777777778,\"#fb9f3a\"],[0.8888888888888888,\"#fdca26\"],[1.0,\"#f0f921\"]]}],\"heatmapgl\":[{\"type\":\"heatmapgl\",\"colorbar\":{\"outlinewidth\":0,\"ticks\":\"\"},\"colorscale\":[[0.0,\"#0d0887\"],[0.1111111111111111,\"#46039f\"],[0.2222222222222222,\"#7201a8\"],[0.3333333333333333,\"#9c179e\"],[0.4444444444444444,\"#bd3786\"],[0.5555555555555556,\"#d8576b\"],[0.6666666666666666,\"#ed7953\"],[0.7777777777777778,\"#fb9f3a\"],[0.8888888888888888,\"#fdca26\"],[1.0,\"#f0f921\"]]}],\"contourcarpet\":[{\"type\":\"contourcarpet\",\"colorbar\":{\"outlinewidth\":0,\"ticks\":\"\"}}],\"contour\":[{\"type\":\"contour\",\"colorbar\":{\"outlinewidth\":0,\"ticks\":\"\"},\"colorscale\":[[0.0,\"#0d0887\"],[0.1111111111111111,\"#46039f\"],[0.2222222222222222,\"#7201a8\"],[0.3333333333333333,\"#9c179e\"],[0.4444444444444444,\"#bd3786\"],[0.5555555555555556,\"#d8576b\"],[0.6666666666666666,\"#ed7953\"],[0.7777777777777778,\"#fb9f3a\"],[0.8888888888888888,\"#fdca26\"],[1.0,\"#f0f921\"]]}],\"surface\":[{\"type\":\"surface\",\"colorbar\":{\"outlinewidth\":0,\"ticks\":\"\"},\"colorscale\":[[0.0,\"#0d0887\"],[0.1111111111111111,\"#46039f\"],[0.2222222222222222,\"#7201a8\"],[0.3333333333333333,\"#9c179e\"],[0.4444444444444444,\"#bd3786\"],[0.5555555555555556,\"#d8576b\"],[0.6666666666666666,\"#ed7953\"],[0.7777777777777778,\"#fb9f3a\"],[0.8888888888888888,\"#fdca26\"],[1.0,\"#f0f921\"]]}],\"mesh3d\":[{\"type\":\"mesh3d\",\"colorbar\":{\"outlinewidth\":0,\"ticks\":\"\"}}],\"scatter\":[{\"fillpattern\":{\"fillmode\":\"overlay\",\"size\":10,\"solidity\":0.2},\"type\":\"scatter\"}],\"parcoords\":[{\"type\":\"parcoords\",\"line\":{\"colorbar\":{\"outlinewidth\":0,\"ticks\":\"\"}}}],\"scatterpolargl\":[{\"type\":\"scatterpolargl\",\"marker\":{\"colorbar\":{\"outlinewidth\":0,\"ticks\":\"\"}}}],\"bar\":[{\"error_x\":{\"color\":\"#2a3f5f\"},\"error_y\":{\"color\":\"#2a3f5f\"},\"marker\":{\"line\":{\"color\":\"#E5ECF6\",\"width\":0.5},\"pattern\":{\"fillmode\":\"overlay\",\"size\":10,\"solidity\":0.2}},\"type\":\"bar\"}],\"scattergeo\":[{\"type\":\"scattergeo\",\"marker\":{\"colorbar\":{\"outlinewidth\":0,\"ticks\":\"\"}}}],\"scatterpolar\":[{\"type\":\"scatterpolar\",\"marker\":{\"colorbar\":{\"outlinewidth\":0,\"ticks\":\"\"}}}],\"histogram\":[{\"marker\":{\"pattern\":{\"fillmode\":\"overlay\",\"size\":10,\"solidity\":0.2}},\"type\":\"histogram\"}],\"scattergl\":[{\"type\":\"scattergl\",\"marker\":{\"colorbar\":{\"outlinewidth\":0,\"ticks\":\"\"}}}],\"scatter3d\":[{\"type\":\"scatter3d\",\"line\":{\"colorbar\":{\"outlinewidth\":0,\"ticks\":\"\"}},\"marker\":{\"colorbar\":{\"outlinewidth\":0,\"ticks\":\"\"}}}],\"scattermapbox\":[{\"type\":\"scattermapbox\",\"marker\":{\"colorbar\":{\"outlinewidth\":0,\"ticks\":\"\"}}}],\"scatterternary\":[{\"type\":\"scatterternary\",\"marker\":{\"colorbar\":{\"outlinewidth\":0,\"ticks\":\"\"}}}],\"scattercarpet\":[{\"type\":\"scattercarpet\",\"marker\":{\"colorbar\":{\"outlinewidth\":0,\"ticks\":\"\"}}}],\"carpet\":[{\"aaxis\":{\"endlinecolor\":\"#2a3f5f\",\"gridcolor\":\"white\",\"linecolor\":\"white\",\"minorgridcolor\":\"white\",\"startlinecolor\":\"#2a3f5f\"},\"baxis\":{\"endlinecolor\":\"#2a3f5f\",\"gridcolor\":\"white\",\"linecolor\":\"white\",\"minorgridcolor\":\"white\",\"startlinecolor\":\"#2a3f5f\"},\"type\":\"carpet\"}],\"table\":[{\"cells\":{\"fill\":{\"color\":\"#EBF0F8\"},\"line\":{\"color\":\"white\"}},\"header\":{\"fill\":{\"color\":\"#C8D4E3\"},\"line\":{\"color\":\"white\"}},\"type\":\"table\"}],\"barpolar\":[{\"marker\":{\"line\":{\"color\":\"#E5ECF6\",\"width\":0.5},\"pattern\":{\"fillmode\":\"overlay\",\"size\":10,\"solidity\":0.2}},\"type\":\"barpolar\"}],\"pie\":[{\"automargin\":true,\"type\":\"pie\"}]},\"layout\":{\"autotypenumbers\":\"strict\",\"colorway\":[\"#636efa\",\"#EF553B\",\"#00cc96\",\"#ab63fa\",\"#FFA15A\",\"#19d3f3\",\"#FF6692\",\"#B6E880\",\"#FF97FF\",\"#FECB52\"],\"font\":{\"color\":\"#2a3f5f\"},\"hovermode\":\"closest\",\"hoverlabel\":{\"align\":\"left\"},\"paper_bgcolor\":\"white\",\"plot_bgcolor\":\"#E5ECF6\",\"polar\":{\"bgcolor\":\"#E5ECF6\",\"angularaxis\":{\"gridcolor\":\"white\",\"linecolor\":\"white\",\"ticks\":\"\"},\"radialaxis\":{\"gridcolor\":\"white\",\"linecolor\":\"white\",\"ticks\":\"\"}},\"ternary\":{\"bgcolor\":\"#E5ECF6\",\"aaxis\":{\"gridcolor\":\"white\",\"linecolor\":\"white\",\"ticks\":\"\"},\"baxis\":{\"gridcolor\":\"white\",\"linecolor\":\"white\",\"ticks\":\"\"},\"caxis\":{\"gridcolor\":\"white\",\"linecolor\":\"white\",\"ticks\":\"\"}},\"coloraxis\":{\"colorbar\":{\"outlinewidth\":0,\"ticks\":\"\"}},\"colorscale\":{\"sequential\":[[0.0,\"#0d0887\"],[0.1111111111111111,\"#46039f\"],[0.2222222222222222,\"#7201a8\"],[0.3333333333333333,\"#9c179e\"],[0.4444444444444444,\"#bd3786\"],[0.5555555555555556,\"#d8576b\"],[0.6666666666666666,\"#ed7953\"],[0.7777777777777778,\"#fb9f3a\"],[0.8888888888888888,\"#fdca26\"],[1.0,\"#f0f921\"]],\"sequentialminus\":[[0.0,\"#0d0887\"],[0.1111111111111111,\"#46039f\"],[0.2222222222222222,\"#7201a8\"],[0.3333333333333333,\"#9c179e\"],[0.4444444444444444,\"#bd3786\"],[0.5555555555555556,\"#d8576b\"],[0.6666666666666666,\"#ed7953\"],[0.7777777777777778,\"#fb9f3a\"],[0.8888888888888888,\"#fdca26\"],[1.0,\"#f0f921\"]],\"diverging\":[[0,\"#8e0152\"],[0.1,\"#c51b7d\"],[0.2,\"#de77ae\"],[0.3,\"#f1b6da\"],[0.4,\"#fde0ef\"],[0.5,\"#f7f7f7\"],[0.6,\"#e6f5d0\"],[0.7,\"#b8e186\"],[0.8,\"#7fbc41\"],[0.9,\"#4d9221\"],[1,\"#276419\"]]},\"xaxis\":{\"gridcolor\":\"white\",\"linecolor\":\"white\",\"ticks\":\"\",\"title\":{\"standoff\":15},\"zerolinecolor\":\"white\",\"automargin\":true,\"zerolinewidth\":2},\"yaxis\":{\"gridcolor\":\"white\",\"linecolor\":\"white\",\"ticks\":\"\",\"title\":{\"standoff\":15},\"zerolinecolor\":\"white\",\"automargin\":true,\"zerolinewidth\":2},\"scene\":{\"xaxis\":{\"backgroundcolor\":\"#E5ECF6\",\"gridcolor\":\"white\",\"linecolor\":\"white\",\"showbackground\":true,\"ticks\":\"\",\"zerolinecolor\":\"white\",\"gridwidth\":2},\"yaxis\":{\"backgroundcolor\":\"#E5ECF6\",\"gridcolor\":\"white\",\"linecolor\":\"white\",\"showbackground\":true,\"ticks\":\"\",\"zerolinecolor\":\"white\",\"gridwidth\":2},\"zaxis\":{\"backgroundcolor\":\"#E5ECF6\",\"gridcolor\":\"white\",\"linecolor\":\"white\",\"showbackground\":true,\"ticks\":\"\",\"zerolinecolor\":\"white\",\"gridwidth\":2}},\"shapedefaults\":{\"line\":{\"color\":\"#2a3f5f\"}},\"annotationdefaults\":{\"arrowcolor\":\"#2a3f5f\",\"arrowhead\":0,\"arrowwidth\":1},\"geo\":{\"bgcolor\":\"white\",\"landcolor\":\"#E5ECF6\",\"subunitcolor\":\"white\",\"showland\":true,\"showlakes\":true,\"lakecolor\":\"white\"},\"title\":{\"x\":0.05},\"mapbox\":{\"style\":\"light\"}}},\"xaxis\":{\"anchor\":\"y\",\"domain\":[0.0,0.94],\"rangeslider\":{\"visible\":false},\"gridcolor\":\"#1f292f\",\"nticks\":5},\"yaxis\":{\"anchor\":\"x\",\"domain\":[0.0,1.0],\"gridcolor\":\"#1f292f\"},\"yaxis2\":{\"anchor\":\"x\",\"overlaying\":\"y\",\"side\":\"right\",\"gridcolor\":\"#1f292f\"},\"margin\":{\"l\":10,\"r\":10,\"b\":10,\"t\":10},\"font\":{\"size\":8,\"color\":\"#e1e1e1\"},\"width\":900,\"height\":400,\"paper_bgcolor\":\"#2c303c\",\"plot_bgcolor\":\"#2c303c\"},                        {\"responsive\": true}                    ).then(function(){\n",
       "                            \n",
       "var gd = document.getElementById('6e7889ca-8784-4aeb-a47c-1c915ea87739');\n",
       "var x = new MutationObserver(function (mutations, observer) {{\n",
       "        var display = window.getComputedStyle(gd).display;\n",
       "        if (!display || display === 'none') {{\n",
       "            console.log([gd, 'removed!']);\n",
       "            Plotly.purge(gd);\n",
       "            observer.disconnect();\n",
       "        }}\n",
       "}});\n",
       "\n",
       "// Listen for the removal of the full notebook cells\n",
       "var notebookContainer = gd.closest('#notebook-container');\n",
       "if (notebookContainer) {{\n",
       "    x.observe(notebookContainer, {childList: true});\n",
       "}}\n",
       "\n",
       "// Listen for the clearing of the current output cell\n",
       "var outputEl = gd.closest('.output');\n",
       "if (outputEl) {{\n",
       "    x.observe(outputEl, {childList: true});\n",
       "}}\n",
       "\n",
       "                        })                };                });            </script>        </div>"
      ]
     },
     "metadata": {},
     "output_type": "display_data"
    },
    {
     "name": "stdout",
     "output_type": "stream",
     "text": [
      "ETHUSDT 3576.78 2602.23 -0.3745057124082038\n"
     ]
    },
    {
     "data": {
      "application/vnd.plotly.v1+json": {
       "config": {
        "plotlyServerURL": "https://plot.ly"
       },
       "data": [
        {
         "line": {
          "shape": "spline",
          "width": 2
         },
         "name": "GAIN_C",
         "type": "scatter",
         "x": [
          "s24-03-29 22:56",
          "s24-03-29 23:03",
          "s24-03-30 11:26",
          "s24-04-01 06:32",
          "s24-04-01 13:39",
          "s24-04-02 22:52",
          "s24-04-03 08:39",
          "s24-04-03 16:34",
          "s24-04-03 16:34",
          "s24-04-03 16:34",
          "s24-04-03 16:34",
          "s24-04-04 13:17",
          "s24-04-04 13:17",
          "s24-04-04 17:53",
          "s24-04-05 06:22",
          "s24-04-05 12:57",
          "s24-04-05 13:35",
          "s24-04-05 13:42",
          "s24-04-05 13:42",
          "s24-04-05 13:44",
          "s24-04-08 08:15",
          "s24-04-10 14:22",
          "s24-04-10 14:42",
          "s24-04-10 14:42",
          "s24-04-11 07:19",
          "s24-04-14 06:56",
          "s24-04-16 05:47",
          "s24-04-17 14:47",
          "s24-04-19 03:15",
          "s24-04-19 03:15",
          "s24-04-23 12:06",
          "s24-04-23 13:46",
          "s24-04-23 13:46",
          "s24-04-23 13:46",
          "s24-04-25 12:12",
          "s24-04-25 12:31",
          "s24-04-25 14:11",
          "s24-04-25 14:11",
          "s24-04-27 02:30",
          "s24-04-27 07:04",
          "s24-04-27 17:40",
          "s24-04-27 17:41",
          "s24-04-29 12:50",
          "s24-04-29 16:04",
          "s24-04-29 20:09",
          "s24-04-29 20:13",
          "s24-04-29 22:31",
          "s24-04-29 22:31",
          "s24-04-30 17:03",
          "s24-04-30 21:19",
          "s24-04-30 22:10",
          "s24-04-30 22:12",
          "s24-04-30 22:12",
          "s24-04-30 22:30",
          "s24-04-30 22:37",
          "s24-05-01 12:15",
          "s24-05-04 10:44",
          "s24-05-05 08:27",
          "s24-05-06 21:09",
          "s24-05-07 01:47",
          "s24-05-07 05:23",
          "s24-05-07 05:43",
          "s24-05-07 07:26",
          "s24-05-08 13:56",
          "s24-05-08 13:56",
          "s24-05-08 13:56",
          "s24-05-08 13:56",
          "s24-05-08 13:56",
          "s24-05-08 13:57",
          "s24-05-09 02:37",
          "s24-05-09 22:48",
          "s24-05-09 22:49",
          "s24-05-11 00:23",
          "s24-05-11 00:24",
          "s24-05-11 01:07",
          "s24-05-11 01:19",
          "s24-05-13 07:05",
          "s24-05-13 08:06",
          "s24-05-14 14:29",
          "s24-05-14 19:30",
          "s24-05-15 03:54",
          "s24-05-15 05:11",
          "s24-05-17 02:45",
          "s24-05-17 08:24",
          "s24-05-20 02:03",
          "s24-05-20 02:52",
          "s24-05-20 03:02",
          "s24-05-20 04:35",
          "s24-05-20 04:44",
          "s24-05-20 04:44",
          "s24-05-20 19:24",
          "s24-05-20 19:37",
          "s24-05-20 19:37",
          "s24-05-23 20:28",
          "s24-05-24 08:42",
          "s24-05-28 19:53",
          "s24-05-28 22:08",
          "s24-05-30 13:15",
          "s24-05-30 13:16",
          "s24-05-30 17:24",
          "s24-05-30 17:25",
          "s24-05-30 17:26",
          "s24-06-03 01:21",
          "s24-06-03 01:53",
          "s24-06-03 02:04",
          "s24-06-03 02:04",
          "s24-06-04 14:09",
          "s24-06-04 15:18",
          "s24-06-07 11:48",
          "s24-06-07 11:48",
          "s24-06-09 12:47",
          "s24-06-09 12:47",
          "s24-06-09 12:47",
          "s24-06-09 12:47",
          "s24-06-09 12:47",
          "s24-06-09 12:47",
          "s24-06-09 12:47",
          "s24-06-10 15:50",
          "s24-06-10 15:51",
          "s24-06-10 15:51",
          "s24-06-10 15:55",
          "s24-06-10 15:55",
          "s24-06-12 04:17",
          "s24-06-12 04:19",
          "s24-06-12 12:31",
          "s24-06-12 12:31",
          "s24-06-12 12:31",
          "s24-06-12 13:07",
          "s24-06-14 02:52",
          "s24-06-14 21:24",
          "s24-06-17 16:33",
          "s24-06-17 18:13",
          "s24-06-17 18:13",
          "s24-06-19 00:47",
          "s24-06-19 01:02",
          "s24-06-19 04:09",
          "s24-06-19 04:09",
          "s24-06-21 09:31",
          "s24-06-21 20:20",
          "s24-06-21 20:20",
          "s24-06-21 20:20",
          "s24-06-21 20:20",
          "s24-06-21 20:20",
          "s24-06-21 20:20",
          "s24-06-24 17:49",
          "s24-06-24 18:27",
          "s24-06-24 18:29",
          "s24-06-24 18:29",
          "s24-06-24 18:30",
          "s24-06-24 18:30",
          "s24-06-25 03:07",
          "s24-06-26 19:36",
          "s24-06-26 19:54",
          "s24-06-26 19:54",
          "s24-06-26 19:54",
          "s24-06-26 19:54",
          "s24-06-26 19:54",
          "s24-06-26 19:54",
          "s24-06-27 12:10",
          "s24-06-27 12:10",
          "s24-06-27 12:10",
          "s24-06-27 12:10",
          "s24-06-28 01:40",
          "s24-06-29 07:44",
          "s24-06-30 07:11",
          "s24-06-30 14:18",
          "s24-06-30 14:20",
          "s24-06-30 22:27",
          "s24-07-01 01:52",
          "s24-07-01 01:53",
          "s24-07-03 21:54",
          "s24-07-04 00:17",
          "s24-07-04 00:22",
          "s24-07-04 21:23",
          "s24-07-04 21:23",
          "s24-07-04 21:23",
          "s24-07-04 21:23",
          "s24-07-05 09:29",
          "s24-07-08 04:50",
          "s24-07-08 04:57",
          "s24-07-08 08:17",
          "s24-07-08 08:18",
          "s24-07-08 08:38",
          "s24-07-09 08:44",
          "s24-07-09 08:44",
          "s24-07-09 08:44",
          "s24-07-10 04:28",
          "s24-07-11 12:31",
          "s24-07-11 12:31",
          "s24-07-11 12:31",
          "s24-07-11 12:31",
          "s24-07-11 12:31",
          "s24-07-11 12:31",
          "s24-07-12 13:16",
          "s24-07-12 13:16",
          "s24-07-14 22:05",
          "s24-07-15 06:25",
          "s24-07-15 06:26",
          "s24-07-15 16:42",
          "s24-07-15 20:27",
          "s24-07-15 20:27",
          "s24-07-21 19:32",
          "s24-07-21 20:27",
          "s24-07-23 00:46",
          "s24-07-23 18:37",
          "s24-07-23 19:04",
          "s24-07-25 14:39",
          "s24-07-25 14:39",
          "s24-07-25 16:35",
          "s24-07-25 19:27",
          "s24-07-25 19:27",
          "s24-07-25 20:56",
          "s24-07-25 20:57",
          "s24-07-25 20:57",
          "s24-07-25 20:57",
          "s24-07-25 21:21",
          "s24-07-25 21:21",
          "s24-07-26 02:28",
          "s24-07-27 13:47",
          "s24-07-27 21:08",
          "s24-07-27 21:08",
          "s24-07-27 21:09",
          "s24-07-31 02:25",
          "s24-08-01 12:17",
          "s24-08-01 12:17",
          "s24-08-01 20:52",
          "s24-08-01 22:41",
          "s24-08-02 21:46",
          "s24-08-02 21:46",
          "s24-08-03 03:42",
          "s24-08-03 07:06",
          "s24-08-03 07:06",
          "s24-08-03 12:29",
          "s24-08-03 12:31",
          "s24-08-03 16:58",
          "s24-08-04 02:35",
          "s24-08-05 01:11",
          "s24-08-07 22:36",
          "s24-08-08 01:13",
          "s24-08-08 01:13",
          "s24-08-08 01:45",
          "s24-08-08 01:45",
          "s24-08-08 21:47",
          "s24-08-12 00:47",
          "s24-08-12 07:35",
          "s24-08-12 07:35",
          "s24-08-12 07:35",
          "s24-08-12 07:35",
          "s24-08-12 07:35",
          "s24-08-12 08:07",
          "s24-08-12 10:21",
          "s24-08-15 12:37",
          "s24-08-15 12:38",
          "s24-08-16 02:32",
          "s24-08-19 13:19",
          "s24-08-20 17:55",
          "s24-08-21 13:58",
          "s24-08-24 16:28",
          "s24-08-24 16:28",
          "s24-08-24 16:29",
          "s24-08-26 10:23",
          "s24-08-29 15:32",
          "s24-08-30 18:30",
          "s24-08-30 18:30",
          "s24-09-01 15:48",
          "s24-09-01 15:48",
          "s24-09-01 15:48",
          "s24-09-01 15:48",
          "s24-09-01 15:48",
          "s24-09-01 19:04",
          "s24-09-01 19:04",
          "s24-09-01 19:08",
          "s24-09-02 05:41",
          "s24-09-02 08:31",
          "s24-09-02 09:57",
          "s24-09-02 09:57",
          "s24-09-04 15:56",
          "s24-09-04 15:56",
          "s24-09-04 16:21",
          "s24-09-04 16:34",
          "s24-09-05 17:48",
          "s24-09-05 20:42",
          "s24-09-06 01:42",
          "s24-09-06 09:59",
          "s24-09-06 10:34",
          "s24-09-06 10:37",
          "s24-09-07 00:03",
          "s24-09-08 17:39",
          "s24-09-08 17:59",
          "s24-09-09 09:10",
          "s24-09-09 16:53",
          "s24-09-11 13:03",
          "s24-09-11 13:03",
          "s24-09-11 13:05",
          "s24-09-11 13:05",
          "s24-09-11 13:05",
          "s24-09-11 13:06",
          "s24-09-11 15:43",
          "s24-09-11 16:36",
          "s24-09-18 13:03",
          "s24-09-18 18:01",
          "s24-09-19 03:38",
          "s24-09-19 03:40",
          "s24-09-22 22:41",
          "s24-09-23 00:26",
          "s24-09-23 03:10",
          "s24-09-23 03:22",
          "s24-09-23 16:07",
          "s24-09-24 16:55",
          "s24-09-24 17:08",
          "s24-09-24 17:26",
          "s24-09-26 01:56",
          "s24-09-26 02:02",
          "s24-09-26 02:02",
          "s24-09-26 02:03",
          "s24-09-26 02:03",
          "s24-09-26 06:12",
          "s24-09-27 16:32",
          "s24-09-27 16:32",
          "s24-09-27 16:32",
          "s24-09-27 16:32",
          "s24-09-27 16:32",
          "s24-09-27 16:32",
          "s24-09-27 16:33",
          "s24-09-27 16:33",
          "s24-09-27 16:35",
          "s24-09-27 16:35",
          "s24-09-30 01:06",
          "s24-09-30 11:56",
          "s24-09-30 20:33"
         ],
         "xaxis": "x",
         "y": [
          0.009779697329275718,
          0.019384584834692145,
          0.030343868581492378,
          0.038965084751789406,
          0.050133630022719713,
          0.061030169981263274,
          0.07244554777879317,
          0.08094699717245692,
          0.09001482185187387,
          0.09911185106246077,
          0.1077094150181452,
          0.11949262473242295,
          0.13144664366800446,
          0.14335987016428034,
          0.15350423124199322,
          0.1644718085988118,
          0.1745685381465631,
          0.1845992296083911,
          0.1948089822629908,
          0.20540033537076044,
          0.22201401809247442,
          0.23305459042175633,
          0.24564130494491965,
          0.25858793608158614,
          0.2682907921473329,
          0.27726504789307355,
          0.2871322855044204,
          0.29737034623367764,
          0.3093096578618073,
          0.31711707341749606,
          0.32572386155044414,
          0.3366484256562787,
          0.34768875043940145,
          0.35862935765315596,
          0.3678846650790771,
          0.37824602039147937,
          0.38941745791267107,
          0.4012791231669218,
          0.41090695346701356,
          0.42058507139202694,
          0.43780382562530024,
          0.4538763792229741,
          0.4632648618122978,
          0.4720995965859611,
          0.48129068688019916,
          0.4927875848282946,
          0.5054834171757017,
          0.5176938542699153,
          0.5289167144732058,
          0.539356120894221,
          0.5495279989840013,
          0.5610992430256514,
          0.5720808758457591,
          0.58164756426837,
          0.5923422169027087,
          0.5989657707764648,
          0.6092049447815178,
          0.620769845291803,
          0.631400013866063,
          0.6419158223873274,
          0.6521612822281905,
          0.6619892285917732,
          0.67195154997846,
          0.6843012740074572,
          0.6964166631130745,
          0.7089843466423043,
          0.721240478433222,
          0.7337762390464156,
          0.7452558845835501,
          0.7553342942936616,
          0.7679804415812846,
          0.7773487702219724,
          0.7878084615835039,
          0.7978321064671846,
          0.8081999381256886,
          0.8184577468046106,
          0.828582402022204,
          0.838402491010621,
          0.8488333051404452,
          0.8580558599874449,
          0.8675885805478416,
          0.8782301468809198,
          0.8874196293393736,
          0.8980112062588099,
          0.9080607087829464,
          0.9178341742308826,
          0.9283884341423336,
          0.9405568670088247,
          0.9515108600461099,
          0.961793993317972,
          0.9844834056574976,
          0.9994862132635075,
          1.013723615231596,
          1.0252561719081261,
          1.035454556574165,
          1.0467931946922342,
          1.056260453342603,
          1.0685091567639728,
          1.0783817238122573,
          1.0898067397448568,
          1.1019548624104507,
          1.1139843588043494,
          1.1232382317544647,
          1.132516401375308,
          1.1423836928949265,
          1.1521919143373163,
          1.1620224968565107,
          1.17340468638078,
          1.183332276199221,
          1.1931366272677892,
          1.2020504355519983,
          1.210995862281759,
          1.2197933268127237,
          1.228476047947262,
          1.2373211790020882,
          1.2461602691000406,
          1.2548622701034544,
          1.265498123319663,
          1.2746588930185918,
          1.283915146406713,
          1.2951526774631246,
          1.3056807525515588,
          1.3154785607977342,
          1.3252987255032014,
          1.3421653200409878,
          1.3571529192459633,
          1.3721461279221983,
          1.3841346695393548,
          1.3941356592861505,
          1.4050327725776577,
          1.4147983840052183,
          1.4240058096842128,
          1.433440266737866,
          1.4424888104027835,
          1.455248627609535,
          1.467256302851627,
          1.478844460691395,
          1.48781531264977,
          1.496429977712987,
          1.5044779815325564,
          1.5123269379739435,
          1.5208604193540827,
          1.5291095236256393,
          1.5374799512674386,
          1.5484894549808994,
          1.5589394382665696,
          1.57023654081009,
          1.5817177937602969,
          1.5914398537561807,
          1.6016083995483485,
          1.6124511662870962,
          1.6237279319766187,
          1.6373337412607023,
          1.650656113444184,
          1.6639662855643578,
          1.6771334207458204,
          1.690768888097951,
          1.704078761124825,
          1.7149859966005068,
          1.7260160276305991,
          1.7369983835083769,
          1.747980669774003,
          1.7584091349103534,
          1.7685144329322158,
          1.7783649561734876,
          1.7887899836042251,
          1.7987448880364207,
          1.812964658863313,
          1.8234456587560368,
          1.8343245785972644,
          1.8451865536933014,
          1.8550781346773852,
          1.8645746031239105,
          1.8753048568344266,
          1.885648633109428,
          1.8966099661676752,
          1.9079825907055585,
          1.9204595666471782,
          1.9300630339311116,
          1.940968354240871,
          1.9554090175285892,
          1.9684721290348806,
          1.9768173734609151,
          1.9897073192565766,
          1.9998490213768183,
          2.0101220065767005,
          2.0254141310618476,
          2.0419420018923033,
          2.056263732703116,
          2.0690004948735097,
          2.082330392808694,
          2.094959022053045,
          2.108159407426693,
          2.1212715879871564,
          2.1336861610116316,
          2.142661023856883,
          2.153947474979182,
          2.1628372372036613,
          2.172330570809709,
          2.183407890813141,
          2.1944869824782796,
          2.204651158963066,
          2.215125458743314,
          2.2254493799086936,
          2.2358873305376212,
          2.246050961376222,
          2.2552369912363353,
          2.264005746165127,
          2.274354151303859,
          2.2846441675132736,
          2.2947208907329992,
          2.308046747277517,
          2.317027712304937,
          2.327520288085753,
          2.337786566370682,
          2.34814251630514,
          2.3579175926630502,
          2.37188183171115,
          2.3816472891943605,
          2.3944147963028284,
          2.4058798506258743,
          2.4171278158110554,
          2.428439992986226,
          2.4386865919917478,
          2.4489893518843173,
          2.459360236336208,
          2.4690575581281684,
          2.478497532266414,
          2.4879046071915276,
          2.4978098421586883,
          2.508402718811885,
          2.5188131104581535,
          2.5282011342709505,
          2.5383564032800527,
          2.5485543675992726,
          2.5577843983091437,
          2.0760472499446485,
          2.084097174874817,
          2.0949468533384055,
          2.1071771621207165,
          2.117413452123775,
          2.126755583111946,
          2.137170024139372,
          2.1457996934493897,
          2.1570758881829355,
          2.1671603315712855,
          2.1762158599181927,
          2.18704293272482,
          2.19646632069227,
          2.2081554894755855,
          2.2254721876373567,
          2.2373118823100087,
          2.2471824574145005,
          2.2621186865946736,
          2.271853604217343,
          2.2836852693358902,
          2.298962733709059,
          2.3109580729786674,
          2.3225144506924997,
          2.3342405514803453,
          2.343865788156613,
          2.356172761607312,
          2.3618422708247606,
          2.3672803391186,
          2.377770046627381,
          2.390467106113898,
          2.4010371984990293,
          2.411746526122677,
          2.4225988518958164,
          2.4330054422081253,
          2.443212938239766,
          2.4509265248695606,
          2.4615470719027424,
          2.472830966515497,
          2.4835349140933958,
          2.4938609808010974,
          2.5059284041321277,
          2.51563254792896,
          2.526647927352875,
          2.535516978687934,
          2.5446743447633864,
          2.5547331922287997,
          2.5636262772330514,
          2.5732032021712623,
          2.5831910026466436,
          2.592344514250482,
          2.6024055213227926,
          2.611713040377229,
          2.6227959071430034,
          2.6334997113880596,
          2.6423405933509017,
          2.6546146849545353,
          2.6659867570783558,
          2.6790284376972258,
          2.692681775254714,
          2.7065067618749556,
          2.717422964636555,
          2.7301665795116428,
          2.739337417036188,
          2.749761325891523,
          2.761391600947878,
          2.771113520147206,
          2.7809202920464857,
          2.794621469193493,
          2.8038635319988092,
          2.8184936712708755,
          2.83003739811744,
          2.841365156645274,
          2.8513011250810423,
          2.861060238867185,
          2.8740265706058135,
          2.8836981879412917,
          2.8948412144896785,
          2.906983305208097,
          2.9170568989318304,
          2.9273308622875636,
          2.9370133319041374,
          2.9486277174079714,
          2.960463074059373,
          2.9734317219033537,
          2.9850505483194008,
          2.996902283092773,
          3.0089391123228872,
          3.0196147494791528,
          3.0305923060101847,
          3.041261936168068,
          3.0540662701420107,
          3.0649360802784873,
          3.0742807305615316,
          3.0845778857338026
         ],
         "yaxis": "y"
        }
       ],
       "layout": {
        "font": {
         "color": "#e1e1e1",
         "size": 8
        },
        "height": 400,
        "margin": {
         "b": 10,
         "l": 10,
         "r": 10,
         "t": 10
        },
        "paper_bgcolor": "#2c303c",
        "plot_bgcolor": "#2c303c",
        "template": {
         "data": {
          "bar": [
           {
            "error_x": {
             "color": "#2a3f5f"
            },
            "error_y": {
             "color": "#2a3f5f"
            },
            "marker": {
             "line": {
              "color": "#E5ECF6",
              "width": 0.5
             },
             "pattern": {
              "fillmode": "overlay",
              "size": 10,
              "solidity": 0.2
             }
            },
            "type": "bar"
           }
          ],
          "barpolar": [
           {
            "marker": {
             "line": {
              "color": "#E5ECF6",
              "width": 0.5
             },
             "pattern": {
              "fillmode": "overlay",
              "size": 10,
              "solidity": 0.2
             }
            },
            "type": "barpolar"
           }
          ],
          "carpet": [
           {
            "aaxis": {
             "endlinecolor": "#2a3f5f",
             "gridcolor": "white",
             "linecolor": "white",
             "minorgridcolor": "white",
             "startlinecolor": "#2a3f5f"
            },
            "baxis": {
             "endlinecolor": "#2a3f5f",
             "gridcolor": "white",
             "linecolor": "white",
             "minorgridcolor": "white",
             "startlinecolor": "#2a3f5f"
            },
            "type": "carpet"
           }
          ],
          "choropleth": [
           {
            "colorbar": {
             "outlinewidth": 0,
             "ticks": ""
            },
            "type": "choropleth"
           }
          ],
          "contour": [
           {
            "colorbar": {
             "outlinewidth": 0,
             "ticks": ""
            },
            "colorscale": [
             [
              0,
              "#0d0887"
             ],
             [
              0.1111111111111111,
              "#46039f"
             ],
             [
              0.2222222222222222,
              "#7201a8"
             ],
             [
              0.3333333333333333,
              "#9c179e"
             ],
             [
              0.4444444444444444,
              "#bd3786"
             ],
             [
              0.5555555555555556,
              "#d8576b"
             ],
             [
              0.6666666666666666,
              "#ed7953"
             ],
             [
              0.7777777777777778,
              "#fb9f3a"
             ],
             [
              0.8888888888888888,
              "#fdca26"
             ],
             [
              1,
              "#f0f921"
             ]
            ],
            "type": "contour"
           }
          ],
          "contourcarpet": [
           {
            "colorbar": {
             "outlinewidth": 0,
             "ticks": ""
            },
            "type": "contourcarpet"
           }
          ],
          "heatmap": [
           {
            "colorbar": {
             "outlinewidth": 0,
             "ticks": ""
            },
            "colorscale": [
             [
              0,
              "#0d0887"
             ],
             [
              0.1111111111111111,
              "#46039f"
             ],
             [
              0.2222222222222222,
              "#7201a8"
             ],
             [
              0.3333333333333333,
              "#9c179e"
             ],
             [
              0.4444444444444444,
              "#bd3786"
             ],
             [
              0.5555555555555556,
              "#d8576b"
             ],
             [
              0.6666666666666666,
              "#ed7953"
             ],
             [
              0.7777777777777778,
              "#fb9f3a"
             ],
             [
              0.8888888888888888,
              "#fdca26"
             ],
             [
              1,
              "#f0f921"
             ]
            ],
            "type": "heatmap"
           }
          ],
          "heatmapgl": [
           {
            "colorbar": {
             "outlinewidth": 0,
             "ticks": ""
            },
            "colorscale": [
             [
              0,
              "#0d0887"
             ],
             [
              0.1111111111111111,
              "#46039f"
             ],
             [
              0.2222222222222222,
              "#7201a8"
             ],
             [
              0.3333333333333333,
              "#9c179e"
             ],
             [
              0.4444444444444444,
              "#bd3786"
             ],
             [
              0.5555555555555556,
              "#d8576b"
             ],
             [
              0.6666666666666666,
              "#ed7953"
             ],
             [
              0.7777777777777778,
              "#fb9f3a"
             ],
             [
              0.8888888888888888,
              "#fdca26"
             ],
             [
              1,
              "#f0f921"
             ]
            ],
            "type": "heatmapgl"
           }
          ],
          "histogram": [
           {
            "marker": {
             "pattern": {
              "fillmode": "overlay",
              "size": 10,
              "solidity": 0.2
             }
            },
            "type": "histogram"
           }
          ],
          "histogram2d": [
           {
            "colorbar": {
             "outlinewidth": 0,
             "ticks": ""
            },
            "colorscale": [
             [
              0,
              "#0d0887"
             ],
             [
              0.1111111111111111,
              "#46039f"
             ],
             [
              0.2222222222222222,
              "#7201a8"
             ],
             [
              0.3333333333333333,
              "#9c179e"
             ],
             [
              0.4444444444444444,
              "#bd3786"
             ],
             [
              0.5555555555555556,
              "#d8576b"
             ],
             [
              0.6666666666666666,
              "#ed7953"
             ],
             [
              0.7777777777777778,
              "#fb9f3a"
             ],
             [
              0.8888888888888888,
              "#fdca26"
             ],
             [
              1,
              "#f0f921"
             ]
            ],
            "type": "histogram2d"
           }
          ],
          "histogram2dcontour": [
           {
            "colorbar": {
             "outlinewidth": 0,
             "ticks": ""
            },
            "colorscale": [
             [
              0,
              "#0d0887"
             ],
             [
              0.1111111111111111,
              "#46039f"
             ],
             [
              0.2222222222222222,
              "#7201a8"
             ],
             [
              0.3333333333333333,
              "#9c179e"
             ],
             [
              0.4444444444444444,
              "#bd3786"
             ],
             [
              0.5555555555555556,
              "#d8576b"
             ],
             [
              0.6666666666666666,
              "#ed7953"
             ],
             [
              0.7777777777777778,
              "#fb9f3a"
             ],
             [
              0.8888888888888888,
              "#fdca26"
             ],
             [
              1,
              "#f0f921"
             ]
            ],
            "type": "histogram2dcontour"
           }
          ],
          "mesh3d": [
           {
            "colorbar": {
             "outlinewidth": 0,
             "ticks": ""
            },
            "type": "mesh3d"
           }
          ],
          "parcoords": [
           {
            "line": {
             "colorbar": {
              "outlinewidth": 0,
              "ticks": ""
             }
            },
            "type": "parcoords"
           }
          ],
          "pie": [
           {
            "automargin": true,
            "type": "pie"
           }
          ],
          "scatter": [
           {
            "fillpattern": {
             "fillmode": "overlay",
             "size": 10,
             "solidity": 0.2
            },
            "type": "scatter"
           }
          ],
          "scatter3d": [
           {
            "line": {
             "colorbar": {
              "outlinewidth": 0,
              "ticks": ""
             }
            },
            "marker": {
             "colorbar": {
              "outlinewidth": 0,
              "ticks": ""
             }
            },
            "type": "scatter3d"
           }
          ],
          "scattercarpet": [
           {
            "marker": {
             "colorbar": {
              "outlinewidth": 0,
              "ticks": ""
             }
            },
            "type": "scattercarpet"
           }
          ],
          "scattergeo": [
           {
            "marker": {
             "colorbar": {
              "outlinewidth": 0,
              "ticks": ""
             }
            },
            "type": "scattergeo"
           }
          ],
          "scattergl": [
           {
            "marker": {
             "colorbar": {
              "outlinewidth": 0,
              "ticks": ""
             }
            },
            "type": "scattergl"
           }
          ],
          "scattermapbox": [
           {
            "marker": {
             "colorbar": {
              "outlinewidth": 0,
              "ticks": ""
             }
            },
            "type": "scattermapbox"
           }
          ],
          "scatterpolar": [
           {
            "marker": {
             "colorbar": {
              "outlinewidth": 0,
              "ticks": ""
             }
            },
            "type": "scatterpolar"
           }
          ],
          "scatterpolargl": [
           {
            "marker": {
             "colorbar": {
              "outlinewidth": 0,
              "ticks": ""
             }
            },
            "type": "scatterpolargl"
           }
          ],
          "scatterternary": [
           {
            "marker": {
             "colorbar": {
              "outlinewidth": 0,
              "ticks": ""
             }
            },
            "type": "scatterternary"
           }
          ],
          "surface": [
           {
            "colorbar": {
             "outlinewidth": 0,
             "ticks": ""
            },
            "colorscale": [
             [
              0,
              "#0d0887"
             ],
             [
              0.1111111111111111,
              "#46039f"
             ],
             [
              0.2222222222222222,
              "#7201a8"
             ],
             [
              0.3333333333333333,
              "#9c179e"
             ],
             [
              0.4444444444444444,
              "#bd3786"
             ],
             [
              0.5555555555555556,
              "#d8576b"
             ],
             [
              0.6666666666666666,
              "#ed7953"
             ],
             [
              0.7777777777777778,
              "#fb9f3a"
             ],
             [
              0.8888888888888888,
              "#fdca26"
             ],
             [
              1,
              "#f0f921"
             ]
            ],
            "type": "surface"
           }
          ],
          "table": [
           {
            "cells": {
             "fill": {
              "color": "#EBF0F8"
             },
             "line": {
              "color": "white"
             }
            },
            "header": {
             "fill": {
              "color": "#C8D4E3"
             },
             "line": {
              "color": "white"
             }
            },
            "type": "table"
           }
          ]
         },
         "layout": {
          "annotationdefaults": {
           "arrowcolor": "#2a3f5f",
           "arrowhead": 0,
           "arrowwidth": 1
          },
          "autotypenumbers": "strict",
          "coloraxis": {
           "colorbar": {
            "outlinewidth": 0,
            "ticks": ""
           }
          },
          "colorscale": {
           "diverging": [
            [
             0,
             "#8e0152"
            ],
            [
             0.1,
             "#c51b7d"
            ],
            [
             0.2,
             "#de77ae"
            ],
            [
             0.3,
             "#f1b6da"
            ],
            [
             0.4,
             "#fde0ef"
            ],
            [
             0.5,
             "#f7f7f7"
            ],
            [
             0.6,
             "#e6f5d0"
            ],
            [
             0.7,
             "#b8e186"
            ],
            [
             0.8,
             "#7fbc41"
            ],
            [
             0.9,
             "#4d9221"
            ],
            [
             1,
             "#276419"
            ]
           ],
           "sequential": [
            [
             0,
             "#0d0887"
            ],
            [
             0.1111111111111111,
             "#46039f"
            ],
            [
             0.2222222222222222,
             "#7201a8"
            ],
            [
             0.3333333333333333,
             "#9c179e"
            ],
            [
             0.4444444444444444,
             "#bd3786"
            ],
            [
             0.5555555555555556,
             "#d8576b"
            ],
            [
             0.6666666666666666,
             "#ed7953"
            ],
            [
             0.7777777777777778,
             "#fb9f3a"
            ],
            [
             0.8888888888888888,
             "#fdca26"
            ],
            [
             1,
             "#f0f921"
            ]
           ],
           "sequentialminus": [
            [
             0,
             "#0d0887"
            ],
            [
             0.1111111111111111,
             "#46039f"
            ],
            [
             0.2222222222222222,
             "#7201a8"
            ],
            [
             0.3333333333333333,
             "#9c179e"
            ],
            [
             0.4444444444444444,
             "#bd3786"
            ],
            [
             0.5555555555555556,
             "#d8576b"
            ],
            [
             0.6666666666666666,
             "#ed7953"
            ],
            [
             0.7777777777777778,
             "#fb9f3a"
            ],
            [
             0.8888888888888888,
             "#fdca26"
            ],
            [
             1,
             "#f0f921"
            ]
           ]
          },
          "colorway": [
           "#636efa",
           "#EF553B",
           "#00cc96",
           "#ab63fa",
           "#FFA15A",
           "#19d3f3",
           "#FF6692",
           "#B6E880",
           "#FF97FF",
           "#FECB52"
          ],
          "font": {
           "color": "#2a3f5f"
          },
          "geo": {
           "bgcolor": "white",
           "lakecolor": "white",
           "landcolor": "#E5ECF6",
           "showlakes": true,
           "showland": true,
           "subunitcolor": "white"
          },
          "hoverlabel": {
           "align": "left"
          },
          "hovermode": "closest",
          "mapbox": {
           "style": "light"
          },
          "paper_bgcolor": "white",
          "plot_bgcolor": "#E5ECF6",
          "polar": {
           "angularaxis": {
            "gridcolor": "white",
            "linecolor": "white",
            "ticks": ""
           },
           "bgcolor": "#E5ECF6",
           "radialaxis": {
            "gridcolor": "white",
            "linecolor": "white",
            "ticks": ""
           }
          },
          "scene": {
           "xaxis": {
            "backgroundcolor": "#E5ECF6",
            "gridcolor": "white",
            "gridwidth": 2,
            "linecolor": "white",
            "showbackground": true,
            "ticks": "",
            "zerolinecolor": "white"
           },
           "yaxis": {
            "backgroundcolor": "#E5ECF6",
            "gridcolor": "white",
            "gridwidth": 2,
            "linecolor": "white",
            "showbackground": true,
            "ticks": "",
            "zerolinecolor": "white"
           },
           "zaxis": {
            "backgroundcolor": "#E5ECF6",
            "gridcolor": "white",
            "gridwidth": 2,
            "linecolor": "white",
            "showbackground": true,
            "ticks": "",
            "zerolinecolor": "white"
           }
          },
          "shapedefaults": {
           "line": {
            "color": "#2a3f5f"
           }
          },
          "ternary": {
           "aaxis": {
            "gridcolor": "white",
            "linecolor": "white",
            "ticks": ""
           },
           "baxis": {
            "gridcolor": "white",
            "linecolor": "white",
            "ticks": ""
           },
           "bgcolor": "#E5ECF6",
           "caxis": {
            "gridcolor": "white",
            "linecolor": "white",
            "ticks": ""
           }
          },
          "title": {
           "x": 0.05
          },
          "xaxis": {
           "automargin": true,
           "gridcolor": "white",
           "linecolor": "white",
           "ticks": "",
           "title": {
            "standoff": 15
           },
           "zerolinecolor": "white",
           "zerolinewidth": 2
          },
          "yaxis": {
           "automargin": true,
           "gridcolor": "white",
           "linecolor": "white",
           "ticks": "",
           "title": {
            "standoff": 15
           },
           "zerolinecolor": "white",
           "zerolinewidth": 2
          }
         }
        },
        "width": 900,
        "xaxis": {
         "anchor": "y",
         "autorange": true,
         "domain": [
          0,
          0.94
         ],
         "gridcolor": "#1f292f",
         "nticks": 5,
         "range": [
          0,
          234
         ],
         "rangeslider": {
          "visible": false,
          "yaxis": {}
         },
         "type": "category"
        },
        "yaxis": {
         "anchor": "x",
         "autorange": true,
         "domain": [
          0,
          1
         ],
         "gridcolor": "#1f292f",
         "range": [
          -0.1610424242487536,
          3.255400007311832
         ],
         "type": "linear"
        },
        "yaxis2": {
         "anchor": "x",
         "gridcolor": "#1f292f",
         "overlaying": "y",
         "side": "right"
        }
       }
      },
      "image/png": "[encoded data removed]",
      "text/html": [
       "<div>                            <div id=\"9aa991b2-46f3-4587-b59d-0e3d5a71dc0d\" class=\"plotly-graph-div\" style=\"height:400px; width:900px;\"></div>            <script type=\"text/javascript\">                require([\"plotly\"], function(Plotly) {                    window.PLOTLYENV=window.PLOTLYENV || {};                                    if (document.getElementById(\"9aa991b2-46f3-4587-b59d-0e3d5a71dc0d\")) {                    Plotly.newPlot(                        \"9aa991b2-46f3-4587-b59d-0e3d5a71dc0d\",                        [{\"line\":{\"shape\":\"spline\",\"width\":2},\"name\":\"GAIN_C\",\"x\":[\"s24-03-29 22:56\",\"s24-03-29 23:03\",\"s24-03-30 11:26\",\"s24-04-01 06:32\",\"s24-04-01 13:39\",\"s24-04-02 22:52\",\"s24-04-03 08:39\",\"s24-04-03 16:34\",\"s24-04-03 16:34\",\"s24-04-03 16:34\",\"s24-04-03 16:34\",\"s24-04-04 13:17\",\"s24-04-04 13:17\",\"s24-04-04 17:53\",\"s24-04-05 06:22\",\"s24-04-05 12:57\",\"s24-04-05 13:35\",\"s24-04-05 13:42\",\"s24-04-05 13:42\",\"s24-04-05 13:44\",\"s24-04-08 08:15\",\"s24-04-10 14:22\",\"s24-04-10 14:42\",\"s24-04-10 14:42\",\"s24-04-11 07:19\",\"s24-04-14 06:56\",\"s24-04-16 05:47\",\"s24-04-17 14:47\",\"s24-04-19 03:15\",\"s24-04-19 03:15\",\"s24-04-23 12:06\",\"s24-04-23 13:46\",\"s24-04-23 13:46\",\"s24-04-23 13:46\",\"s24-04-25 12:12\",\"s24-04-25 12:31\",\"s24-04-25 14:11\",\"s24-04-25 14:11\",\"s24-04-27 02:30\",\"s24-04-27 07:04\",\"s24-04-27 17:40\",\"s24-04-27 17:41\",\"s24-04-29 12:50\",\"s24-04-29 16:04\",\"s24-04-29 20:09\",\"s24-04-29 20:13\",\"s24-04-29 22:31\",\"s24-04-29 22:31\",\"s24-04-30 17:03\",\"s24-04-30 21:19\",\"s24-04-30 22:10\",\"s24-04-30 22:12\",\"s24-04-30 22:12\",\"s24-04-30 22:30\",\"s24-04-30 22:37\",\"s24-05-01 12:15\",\"s24-05-04 10:44\",\"s24-05-05 08:27\",\"s24-05-06 21:09\",\"s24-05-07 01:47\",\"s24-05-07 05:23\",\"s24-05-07 05:43\",\"s24-05-07 07:26\",\"s24-05-08 13:56\",\"s24-05-08 13:56\",\"s24-05-08 13:56\",\"s24-05-08 13:56\",\"s24-05-08 13:56\",\"s24-05-08 13:57\",\"s24-05-09 02:37\",\"s24-05-09 22:48\",\"s24-05-09 22:49\",\"s24-05-11 00:23\",\"s24-05-11 00:24\",\"s24-05-11 01:07\",\"s24-05-11 01:19\",\"s24-05-13 07:05\",\"s24-05-13 08:06\",\"s24-05-14 14:29\",\"s24-05-14 19:30\",\"s24-05-15 03:54\",\"s24-05-15 05:11\",\"s24-05-17 02:45\",\"s24-05-17 08:24\",\"s24-05-20 02:03\",\"s24-05-20 02:52\",\"s24-05-20 03:02\",\"s24-05-20 04:35\",\"s24-05-20 04:44\",\"s24-05-20 04:44\",\"s24-05-20 19:24\",\"s24-05-20 19:37\",\"s24-05-20 19:37\",\"s24-05-23 20:28\",\"s24-05-24 08:42\",\"s24-05-28 19:53\",\"s24-05-28 22:08\",\"s24-05-30 13:15\",\"s24-05-30 13:16\",\"s24-05-30 17:24\",\"s24-05-30 17:25\",\"s24-05-30 17:26\",\"s24-06-03 01:21\",\"s24-06-03 01:53\",\"s24-06-03 02:04\",\"s24-06-03 02:04\",\"s24-06-04 14:09\",\"s24-06-04 15:18\",\"s24-06-07 11:48\",\"s24-06-07 11:48\",\"s24-06-09 12:47\",\"s24-06-09 12:47\",\"s24-06-09 12:47\",\"s24-06-09 12:47\",\"s24-06-09 12:47\",\"s24-06-09 12:47\",\"s24-06-09 12:47\",\"s24-06-10 15:50\",\"s24-06-10 15:51\",\"s24-06-10 15:51\",\"s24-06-10 15:55\",\"s24-06-10 15:55\",\"s24-06-12 04:17\",\"s24-06-12 04:19\",\"s24-06-12 12:31\",\"s24-06-12 12:31\",\"s24-06-12 12:31\",\"s24-06-12 13:07\",\"s24-06-14 02:52\",\"s24-06-14 21:24\",\"s24-06-17 16:33\",\"s24-06-17 18:13\",\"s24-06-17 18:13\",\"s24-06-19 00:47\",\"s24-06-19 01:02\",\"s24-06-19 04:09\",\"s24-06-19 04:09\",\"s24-06-21 09:31\",\"s24-06-21 20:20\",\"s24-06-21 20:20\",\"s24-06-21 20:20\",\"s24-06-21 20:20\",\"s24-06-21 20:20\",\"s24-06-21 20:20\",\"s24-06-24 17:49\",\"s24-06-24 18:27\",\"s24-06-24 18:29\",\"s24-06-24 18:29\",\"s24-06-24 18:30\",\"s24-06-24 18:30\",\"s24-06-25 03:07\",\"s24-06-26 19:36\",\"s24-06-26 19:54\",\"s24-06-26 19:54\",\"s24-06-26 19:54\",\"s24-06-26 19:54\",\"s24-06-26 19:54\",\"s24-06-26 19:54\",\"s24-06-27 12:10\",\"s24-06-27 12:10\",\"s24-06-27 12:10\",\"s24-06-27 12:10\",\"s24-06-28 01:40\",\"s24-06-29 07:44\",\"s24-06-30 07:11\",\"s24-06-30 14:18\",\"s24-06-30 14:20\",\"s24-06-30 22:27\",\"s24-07-01 01:52\",\"s24-07-01 01:53\",\"s24-07-03 21:54\",\"s24-07-04 00:17\",\"s24-07-04 00:22\",\"s24-07-04 21:23\",\"s24-07-04 21:23\",\"s24-07-04 21:23\",\"s24-07-04 21:23\",\"s24-07-05 09:29\",\"s24-07-08 04:50\",\"s24-07-08 04:57\",\"s24-07-08 08:17\",\"s24-07-08 08:18\",\"s24-07-08 08:38\",\"s24-07-09 08:44\",\"s24-07-09 08:44\",\"s24-07-09 08:44\",\"s24-07-10 04:28\",\"s24-07-11 12:31\",\"s24-07-11 12:31\",\"s24-07-11 12:31\",\"s24-07-11 12:31\",\"s24-07-11 12:31\",\"s24-07-11 12:31\",\"s24-07-12 13:16\",\"s24-07-12 13:16\",\"s24-07-14 22:05\",\"s24-07-15 06:25\",\"s24-07-15 06:26\",\"s24-07-15 16:42\",\"s24-07-15 20:27\",\"s24-07-15 20:27\",\"s24-07-21 19:32\",\"s24-07-21 20:27\",\"s24-07-23 00:46\",\"s24-07-23 18:37\",\"s24-07-23 19:04\",\"s24-07-25 14:39\",\"s24-07-25 14:39\",\"s24-07-25 16:35\",\"s24-07-25 19:27\",\"s24-07-25 19:27\",\"s24-07-25 20:56\",\"s24-07-25 20:57\",\"s24-07-25 20:57\",\"s24-07-25 20:57\",\"s24-07-25 21:21\",\"s24-07-25 21:21\",\"s24-07-26 02:28\",\"s24-07-27 13:47\",\"s24-07-27 21:08\",\"s24-07-27 21:08\",\"s24-07-27 21:09\",\"s24-07-31 02:25\",\"s24-08-01 12:17\",\"s24-08-01 12:17\",\"s24-08-01 20:52\",\"s24-08-01 22:41\",\"s24-08-02 21:46\",\"s24-08-02 21:46\",\"s24-08-03 03:42\",\"s24-08-03 07:06\",\"s24-08-03 07:06\",\"s24-08-03 12:29\",\"s24-08-03 12:31\",\"s24-08-03 16:58\",\"s24-08-04 02:35\",\"s24-08-05 01:11\",\"s24-08-07 22:36\",\"s24-08-08 01:13\",\"s24-08-08 01:13\",\"s24-08-08 01:45\",\"s24-08-08 01:45\",\"s24-08-08 21:47\",\"s24-08-12 00:47\",\"s24-08-12 07:35\",\"s24-08-12 07:35\",\"s24-08-12 07:35\",\"s24-08-12 07:35\",\"s24-08-12 07:35\",\"s24-08-12 08:07\",\"s24-08-12 10:21\",\"s24-08-15 12:37\",\"s24-08-15 12:38\",\"s24-08-16 02:32\",\"s24-08-19 13:19\",\"s24-08-20 17:55\",\"s24-08-21 13:58\",\"s24-08-24 16:28\",\"s24-08-24 16:28\",\"s24-08-24 16:29\",\"s24-08-26 10:23\",\"s24-08-29 15:32\",\"s24-08-30 18:30\",\"s24-08-30 18:30\",\"s24-09-01 15:48\",\"s24-09-01 15:48\",\"s24-09-01 15:48\",\"s24-09-01 15:48\",\"s24-09-01 15:48\",\"s24-09-01 19:04\",\"s24-09-01 19:04\",\"s24-09-01 19:08\",\"s24-09-02 05:41\",\"s24-09-02 08:31\",\"s24-09-02 09:57\",\"s24-09-02 09:57\",\"s24-09-04 15:56\",\"s24-09-04 15:56\",\"s24-09-04 16:21\",\"s24-09-04 16:34\",\"s24-09-05 17:48\",\"s24-09-05 20:42\",\"s24-09-06 01:42\",\"s24-09-06 09:59\",\"s24-09-06 10:34\",\"s24-09-06 10:37\",\"s24-09-07 00:03\",\"s24-09-08 17:39\",\"s24-09-08 17:59\",\"s24-09-09 09:10\",\"s24-09-09 16:53\",\"s24-09-11 13:03\",\"s24-09-11 13:03\",\"s24-09-11 13:05\",\"s24-09-11 13:05\",\"s24-09-11 13:05\",\"s24-09-11 13:06\",\"s24-09-11 15:43\",\"s24-09-11 16:36\",\"s24-09-18 13:03\",\"s24-09-18 18:01\",\"s24-09-19 03:38\",\"s24-09-19 03:40\",\"s24-09-22 22:41\",\"s24-09-23 00:26\",\"s24-09-23 03:10\",\"s24-09-23 03:22\",\"s24-09-23 16:07\",\"s24-09-24 16:55\",\"s24-09-24 17:08\",\"s24-09-24 17:26\",\"s24-09-26 01:56\",\"s24-09-26 02:02\",\"s24-09-26 02:02\",\"s24-09-26 02:03\",\"s24-09-26 02:03\",\"s24-09-26 06:12\",\"s24-09-27 16:32\",\"s24-09-27 16:32\",\"s24-09-27 16:32\",\"s24-09-27 16:32\",\"s24-09-27 16:32\",\"s24-09-27 16:32\",\"s24-09-27 16:33\",\"s24-09-27 16:33\",\"s24-09-27 16:35\",\"s24-09-27 16:35\",\"s24-09-30 01:06\",\"s24-09-30 11:56\",\"s24-09-30 20:33\"],\"y\":[0.009779697329275718,0.019384584834692145,0.030343868581492378,0.038965084751789406,0.050133630022719713,0.061030169981263274,0.07244554777879317,0.08094699717245692,0.09001482185187387,0.09911185106246077,0.1077094150181452,0.11949262473242295,0.13144664366800446,0.14335987016428034,0.15350423124199322,0.1644718085988118,0.1745685381465631,0.1845992296083911,0.1948089822629908,0.20540033537076044,0.22201401809247442,0.23305459042175633,0.24564130494491965,0.25858793608158614,0.2682907921473329,0.27726504789307355,0.2871322855044204,0.29737034623367764,0.3093096578618073,0.31711707341749606,0.32572386155044414,0.3366484256562787,0.34768875043940145,0.35862935765315596,0.3678846650790771,0.37824602039147937,0.38941745791267107,0.4012791231669218,0.41090695346701356,0.42058507139202694,0.43780382562530024,0.4538763792229741,0.4632648618122978,0.4720995965859611,0.48129068688019916,0.4927875848282946,0.5054834171757017,0.5176938542699153,0.5289167144732058,0.539356120894221,0.5495279989840013,0.5610992430256514,0.5720808758457591,0.58164756426837,0.5923422169027087,0.5989657707764648,0.6092049447815178,0.620769845291803,0.631400013866063,0.6419158223873274,0.6521612822281905,0.6619892285917732,0.67195154997846,0.6843012740074572,0.6964166631130745,0.7089843466423043,0.721240478433222,0.7337762390464156,0.7452558845835501,0.7553342942936616,0.7679804415812846,0.7773487702219724,0.7878084615835039,0.7978321064671846,0.8081999381256886,0.8184577468046106,0.828582402022204,0.838402491010621,0.8488333051404452,0.8580558599874449,0.8675885805478416,0.8782301468809198,0.8874196293393736,0.8980112062588099,0.9080607087829464,0.9178341742308826,0.9283884341423336,0.9405568670088247,0.9515108600461099,0.961793993317972,0.9844834056574976,0.9994862132635075,1.013723615231596,1.0252561719081261,1.035454556574165,1.0467931946922342,1.056260453342603,1.0685091567639728,1.0783817238122573,1.0898067397448568,1.1019548624104507,1.1139843588043494,1.1232382317544647,1.132516401375308,1.1423836928949265,1.1521919143373163,1.1620224968565107,1.17340468638078,1.183332276199221,1.1931366272677892,1.2020504355519983,1.210995862281759,1.2197933268127237,1.228476047947262,1.2373211790020882,1.2461602691000406,1.2548622701034544,1.265498123319663,1.2746588930185918,1.283915146406713,1.2951526774631246,1.3056807525515588,1.3154785607977342,1.3252987255032014,1.3421653200409878,1.3571529192459633,1.3721461279221983,1.3841346695393548,1.3941356592861505,1.4050327725776577,1.4147983840052183,1.4240058096842128,1.433440266737866,1.4424888104027835,1.455248627609535,1.467256302851627,1.478844460691395,1.48781531264977,1.496429977712987,1.5044779815325564,1.5123269379739435,1.5208604193540827,1.5291095236256393,1.5374799512674386,1.5484894549808994,1.5589394382665696,1.57023654081009,1.5817177937602969,1.5914398537561807,1.6016083995483485,1.6124511662870962,1.6237279319766187,1.6373337412607023,1.650656113444184,1.6639662855643578,1.6771334207458204,1.690768888097951,1.704078761124825,1.7149859966005068,1.7260160276305991,1.7369983835083769,1.747980669774003,1.7584091349103534,1.7685144329322158,1.7783649561734876,1.7887899836042251,1.7987448880364207,1.812964658863313,1.8234456587560368,1.8343245785972644,1.8451865536933014,1.8550781346773852,1.8645746031239105,1.8753048568344266,1.885648633109428,1.8966099661676752,1.9079825907055585,1.9204595666471782,1.9300630339311116,1.940968354240871,1.9554090175285892,1.9684721290348806,1.9768173734609151,1.9897073192565766,1.9998490213768183,2.0101220065767005,2.0254141310618476,2.0419420018923033,2.056263732703116,2.0690004948735097,2.082330392808694,2.094959022053045,2.108159407426693,2.1212715879871564,2.1336861610116316,2.142661023856883,2.153947474979182,2.1628372372036613,2.172330570809709,2.183407890813141,2.1944869824782796,2.204651158963066,2.215125458743314,2.2254493799086936,2.2358873305376212,2.246050961376222,2.2552369912363353,2.264005746165127,2.274354151303859,2.2846441675132736,2.2947208907329992,2.308046747277517,2.317027712304937,2.327520288085753,2.337786566370682,2.34814251630514,2.3579175926630502,2.37188183171115,2.3816472891943605,2.3944147963028284,2.4058798506258743,2.4171278158110554,2.428439992986226,2.4386865919917478,2.4489893518843173,2.459360236336208,2.4690575581281684,2.478497532266414,2.4879046071915276,2.4978098421586883,2.508402718811885,2.5188131104581535,2.5282011342709505,2.5383564032800527,2.5485543675992726,2.5577843983091437,2.0760472499446485,2.084097174874817,2.0949468533384055,2.1071771621207165,2.117413452123775,2.126755583111946,2.137170024139372,2.1457996934493897,2.1570758881829355,2.1671603315712855,2.1762158599181927,2.18704293272482,2.19646632069227,2.2081554894755855,2.2254721876373567,2.2373118823100087,2.2471824574145005,2.2621186865946736,2.271853604217343,2.2836852693358902,2.298962733709059,2.3109580729786674,2.3225144506924997,2.3342405514803453,2.343865788156613,2.356172761607312,2.3618422708247606,2.3672803391186,2.377770046627381,2.390467106113898,2.4010371984990293,2.411746526122677,2.4225988518958164,2.4330054422081253,2.443212938239766,2.4509265248695606,2.4615470719027424,2.472830966515497,2.4835349140933958,2.4938609808010974,2.5059284041321277,2.51563254792896,2.526647927352875,2.535516978687934,2.5446743447633864,2.5547331922287997,2.5636262772330514,2.5732032021712623,2.5831910026466436,2.592344514250482,2.6024055213227926,2.611713040377229,2.6227959071430034,2.6334997113880596,2.6423405933509017,2.6546146849545353,2.6659867570783558,2.6790284376972258,2.692681775254714,2.7065067618749556,2.717422964636555,2.7301665795116428,2.739337417036188,2.749761325891523,2.761391600947878,2.771113520147206,2.7809202920464857,2.794621469193493,2.8038635319988092,2.8184936712708755,2.83003739811744,2.841365156645274,2.8513011250810423,2.861060238867185,2.8740265706058135,2.8836981879412917,2.8948412144896785,2.906983305208097,2.9170568989318304,2.9273308622875636,2.9370133319041374,2.9486277174079714,2.960463074059373,2.9734317219033537,2.9850505483194008,2.996902283092773,3.0089391123228872,3.0196147494791528,3.0305923060101847,3.041261936168068,3.0540662701420107,3.0649360802784873,3.0742807305615316,3.0845778857338026],\"type\":\"scatter\",\"xaxis\":\"x\",\"yaxis\":\"y\"}],                        {\"template\":{\"data\":{\"histogram2dcontour\":[{\"type\":\"histogram2dcontour\",\"colorbar\":{\"outlinewidth\":0,\"ticks\":\"\"},\"colorscale\":[[0.0,\"#0d0887\"],[0.1111111111111111,\"#46039f\"],[0.2222222222222222,\"#7201a8\"],[0.3333333333333333,\"#9c179e\"],[0.4444444444444444,\"#bd3786\"],[0.5555555555555556,\"#d8576b\"],[0.6666666666666666,\"#ed7953\"],[0.7777777777777778,\"#fb9f3a\"],[0.8888888888888888,\"#fdca26\"],[1.0,\"#f0f921\"]]}],\"choropleth\":[{\"type\":\"choropleth\",\"colorbar\":{\"outlinewidth\":0,\"ticks\":\"\"}}],\"histogram2d\":[{\"type\":\"histogram2d\",\"colorbar\":{\"outlinewidth\":0,\"ticks\":\"\"},\"colorscale\":[[0.0,\"#0d0887\"],[0.1111111111111111,\"#46039f\"],[0.2222222222222222,\"#7201a8\"],[0.3333333333333333,\"#9c179e\"],[0.4444444444444444,\"#bd3786\"],[0.5555555555555556,\"#d8576b\"],[0.6666666666666666,\"#ed7953\"],[0.7777777777777778,\"#fb9f3a\"],[0.8888888888888888,\"#fdca26\"],[1.0,\"#f0f921\"]]}],\"heatmap\":[{\"type\":\"heatmap\",\"colorbar\":{\"outlinewidth\":0,\"ticks\":\"\"},\"colorscale\":[[0.0,\"#0d0887\"],[0.1111111111111111,\"#46039f\"],[0.2222222222222222,\"#7201a8\"],[0.3333333333333333,\"#9c179e\"],[0.4444444444444444,\"#bd3786\"],[0.5555555555555556,\"#d8576b\"],[0.6666666666666666,\"#ed7953\"],[0.7777777777777778,\"#fb9f3a\"],[0.8888888888888888,\"#fdca26\"],[1.0,\"#f0f921\"]]}],\"heatmapgl\":[{\"type\":\"heatmapgl\",\"colorbar\":{\"outlinewidth\":0,\"ticks\":\"\"},\"colorscale\":[[0.0,\"#0d0887\"],[0.1111111111111111,\"#46039f\"],[0.2222222222222222,\"#7201a8\"],[0.3333333333333333,\"#9c179e\"],[0.4444444444444444,\"#bd3786\"],[0.5555555555555556,\"#d8576b\"],[0.6666666666666666,\"#ed7953\"],[0.7777777777777778,\"#fb9f3a\"],[0.8888888888888888,\"#fdca26\"],[1.0,\"#f0f921\"]]}],\"contourcarpet\":[{\"type\":\"contourcarpet\",\"colorbar\":{\"outlinewidth\":0,\"ticks\":\"\"}}],\"contour\":[{\"type\":\"contour\",\"colorbar\":{\"outlinewidth\":0,\"ticks\":\"\"},\"colorscale\":[[0.0,\"#0d0887\"],[0.1111111111111111,\"#46039f\"],[0.2222222222222222,\"#7201a8\"],[0.3333333333333333,\"#9c179e\"],[0.4444444444444444,\"#bd3786\"],[0.5555555555555556,\"#d8576b\"],[0.6666666666666666,\"#ed7953\"],[0.7777777777777778,\"#fb9f3a\"],[0.8888888888888888,\"#fdca26\"],[1.0,\"#f0f921\"]]}],\"surface\":[{\"type\":\"surface\",\"colorbar\":{\"outlinewidth\":0,\"ticks\":\"\"},\"colorscale\":[[0.0,\"#0d0887\"],[0.1111111111111111,\"#46039f\"],[0.2222222222222222,\"#7201a8\"],[0.3333333333333333,\"#9c179e\"],[0.4444444444444444,\"#bd3786\"],[0.5555555555555556,\"#d8576b\"],[0.6666666666666666,\"#ed7953\"],[0.7777777777777778,\"#fb9f3a\"],[0.8888888888888888,\"#fdca26\"],[1.0,\"#f0f921\"]]}],\"mesh3d\":[{\"type\":\"mesh3d\",\"colorbar\":{\"outlinewidth\":0,\"ticks\":\"\"}}],\"scatter\":[{\"fillpattern\":{\"fillmode\":\"overlay\",\"size\":10,\"solidity\":0.2},\"type\":\"scatter\"}],\"parcoords\":[{\"type\":\"parcoords\",\"line\":{\"colorbar\":{\"outlinewidth\":0,\"ticks\":\"\"}}}],\"scatterpolargl\":[{\"type\":\"scatterpolargl\",\"marker\":{\"colorbar\":{\"outlinewidth\":0,\"ticks\":\"\"}}}],\"bar\":[{\"error_x\":{\"color\":\"#2a3f5f\"},\"error_y\":{\"color\":\"#2a3f5f\"},\"marker\":{\"line\":{\"color\":\"#E5ECF6\",\"width\":0.5},\"pattern\":{\"fillmode\":\"overlay\",\"size\":10,\"solidity\":0.2}},\"type\":\"bar\"}],\"scattergeo\":[{\"type\":\"scattergeo\",\"marker\":{\"colorbar\":{\"outlinewidth\":0,\"ticks\":\"\"}}}],\"scatterpolar\":[{\"type\":\"scatterpolar\",\"marker\":{\"colorbar\":{\"outlinewidth\":0,\"ticks\":\"\"}}}],\"histogram\":[{\"marker\":{\"pattern\":{\"fillmode\":\"overlay\",\"size\":10,\"solidity\":0.2}},\"type\":\"histogram\"}],\"scattergl\":[{\"type\":\"scattergl\",\"marker\":{\"colorbar\":{\"outlinewidth\":0,\"ticks\":\"\"}}}],\"scatter3d\":[{\"type\":\"scatter3d\",\"line\":{\"colorbar\":{\"outlinewidth\":0,\"ticks\":\"\"}},\"marker\":{\"colorbar\":{\"outlinewidth\":0,\"ticks\":\"\"}}}],\"scattermapbox\":[{\"type\":\"scattermapbox\",\"marker\":{\"colorbar\":{\"outlinewidth\":0,\"ticks\":\"\"}}}],\"scatterternary\":[{\"type\":\"scatterternary\",\"marker\":{\"colorbar\":{\"outlinewidth\":0,\"ticks\":\"\"}}}],\"scattercarpet\":[{\"type\":\"scattercarpet\",\"marker\":{\"colorbar\":{\"outlinewidth\":0,\"ticks\":\"\"}}}],\"carpet\":[{\"aaxis\":{\"endlinecolor\":\"#2a3f5f\",\"gridcolor\":\"white\",\"linecolor\":\"white\",\"minorgridcolor\":\"white\",\"startlinecolor\":\"#2a3f5f\"},\"baxis\":{\"endlinecolor\":\"#2a3f5f\",\"gridcolor\":\"white\",\"linecolor\":\"white\",\"minorgridcolor\":\"white\",\"startlinecolor\":\"#2a3f5f\"},\"type\":\"carpet\"}],\"table\":[{\"cells\":{\"fill\":{\"color\":\"#EBF0F8\"},\"line\":{\"color\":\"white\"}},\"header\":{\"fill\":{\"color\":\"#C8D4E3\"},\"line\":{\"color\":\"white\"}},\"type\":\"table\"}],\"barpolar\":[{\"marker\":{\"line\":{\"color\":\"#E5ECF6\",\"width\":0.5},\"pattern\":{\"fillmode\":\"overlay\",\"size\":10,\"solidity\":0.2}},\"type\":\"barpolar\"}],\"pie\":[{\"automargin\":true,\"type\":\"pie\"}]},\"layout\":{\"autotypenumbers\":\"strict\",\"colorway\":[\"#636efa\",\"#EF553B\",\"#00cc96\",\"#ab63fa\",\"#FFA15A\",\"#19d3f3\",\"#FF6692\",\"#B6E880\",\"#FF97FF\",\"#FECB52\"],\"font\":{\"color\":\"#2a3f5f\"},\"hovermode\":\"closest\",\"hoverlabel\":{\"align\":\"left\"},\"paper_bgcolor\":\"white\",\"plot_bgcolor\":\"#E5ECF6\",\"polar\":{\"bgcolor\":\"#E5ECF6\",\"angularaxis\":{\"gridcolor\":\"white\",\"linecolor\":\"white\",\"ticks\":\"\"},\"radialaxis\":{\"gridcolor\":\"white\",\"linecolor\":\"white\",\"ticks\":\"\"}},\"ternary\":{\"bgcolor\":\"#E5ECF6\",\"aaxis\":{\"gridcolor\":\"white\",\"linecolor\":\"white\",\"ticks\":\"\"},\"baxis\":{\"gridcolor\":\"white\",\"linecolor\":\"white\",\"ticks\":\"\"},\"caxis\":{\"gridcolor\":\"white\",\"linecolor\":\"white\",\"ticks\":\"\"}},\"coloraxis\":{\"colorbar\":{\"outlinewidth\":0,\"ticks\":\"\"}},\"colorscale\":{\"sequential\":[[0.0,\"#0d0887\"],[0.1111111111111111,\"#46039f\"],[0.2222222222222222,\"#7201a8\"],[0.3333333333333333,\"#9c179e\"],[0.4444444444444444,\"#bd3786\"],[0.5555555555555556,\"#d8576b\"],[0.6666666666666666,\"#ed7953\"],[0.7777777777777778,\"#fb9f3a\"],[0.8888888888888888,\"#fdca26\"],[1.0,\"#f0f921\"]],\"sequentialminus\":[[0.0,\"#0d0887\"],[0.1111111111111111,\"#46039f\"],[0.2222222222222222,\"#7201a8\"],[0.3333333333333333,\"#9c179e\"],[0.4444444444444444,\"#bd3786\"],[0.5555555555555556,\"#d8576b\"],[0.6666666666666666,\"#ed7953\"],[0.7777777777777778,\"#fb9f3a\"],[0.8888888888888888,\"#fdca26\"],[1.0,\"#f0f921\"]],\"diverging\":[[0,\"#8e0152\"],[0.1,\"#c51b7d\"],[0.2,\"#de77ae\"],[0.3,\"#f1b6da\"],[0.4,\"#fde0ef\"],[0.5,\"#f7f7f7\"],[0.6,\"#e6f5d0\"],[0.7,\"#b8e186\"],[0.8,\"#7fbc41\"],[0.9,\"#4d9221\"],[1,\"#276419\"]]},\"xaxis\":{\"gridcolor\":\"white\",\"linecolor\":\"white\",\"ticks\":\"\",\"title\":{\"standoff\":15},\"zerolinecolor\":\"white\",\"automargin\":true,\"zerolinewidth\":2},\"yaxis\":{\"gridcolor\":\"white\",\"linecolor\":\"white\",\"ticks\":\"\",\"title\":{\"standoff\":15},\"zerolinecolor\":\"white\",\"automargin\":true,\"zerolinewidth\":2},\"scene\":{\"xaxis\":{\"backgroundcolor\":\"#E5ECF6\",\"gridcolor\":\"white\",\"linecolor\":\"white\",\"showbackground\":true,\"ticks\":\"\",\"zerolinecolor\":\"white\",\"gridwidth\":2},\"yaxis\":{\"backgroundcolor\":\"#E5ECF6\",\"gridcolor\":\"white\",\"linecolor\":\"white\",\"showbackground\":true,\"ticks\":\"\",\"zerolinecolor\":\"white\",\"gridwidth\":2},\"zaxis\":{\"backgroundcolor\":\"#E5ECF6\",\"gridcolor\":\"white\",\"linecolor\":\"white\",\"showbackground\":true,\"ticks\":\"\",\"zerolinecolor\":\"white\",\"gridwidth\":2}},\"shapedefaults\":{\"line\":{\"color\":\"#2a3f5f\"}},\"annotationdefaults\":{\"arrowcolor\":\"#2a3f5f\",\"arrowhead\":0,\"arrowwidth\":1},\"geo\":{\"bgcolor\":\"white\",\"landcolor\":\"#E5ECF6\",\"subunitcolor\":\"white\",\"showland\":true,\"showlakes\":true,\"lakecolor\":\"white\"},\"title\":{\"x\":0.05},\"mapbox\":{\"style\":\"light\"}}},\"xaxis\":{\"anchor\":\"y\",\"domain\":[0.0,0.94],\"rangeslider\":{\"visible\":false},\"gridcolor\":\"#1f292f\",\"nticks\":5},\"yaxis\":{\"anchor\":\"x\",\"domain\":[0.0,1.0],\"gridcolor\":\"#1f292f\"},\"yaxis2\":{\"anchor\":\"x\",\"overlaying\":\"y\",\"side\":\"right\",\"gridcolor\":\"#1f292f\"},\"margin\":{\"l\":10,\"r\":10,\"b\":10,\"t\":10},\"font\":{\"size\":8,\"color\":\"#e1e1e1\"},\"width\":900,\"height\":400,\"paper_bgcolor\":\"#2c303c\",\"plot_bgcolor\":\"#2c303c\"},                        {\"responsive\": true}                    ).then(function(){\n",
       "                            \n",
       "var gd = document.getElementById('9aa991b2-46f3-4587-b59d-0e3d5a71dc0d');\n",
       "var x = new MutationObserver(function (mutations, observer) {{\n",
       "        var display = window.getComputedStyle(gd).display;\n",
       "        if (!display || display === 'none') {{\n",
       "            console.log([gd, 'removed!']);\n",
       "            Plotly.purge(gd);\n",
       "            observer.disconnect();\n",
       "        }}\n",
       "}});\n",
       "\n",
       "// Listen for the removal of the full notebook cells\n",
       "var notebookContainer = gd.closest('#notebook-container');\n",
       "if (notebookContainer) {{\n",
       "    x.observe(notebookContainer, {childList: true});\n",
       "}}\n",
       "\n",
       "// Listen for the clearing of the current output cell\n",
       "var outputEl = gd.closest('.output');\n",
       "if (outputEl) {{\n",
       "    x.observe(outputEl, {childList: true});\n",
       "}}\n",
       "\n",
       "                        })                };                });            </script>        </div>"
      ]
     },
     "metadata": {},
     "output_type": "display_data"
    },
    {
     "name": "stdout",
     "output_type": "stream",
     "text": [
      "BNBUSDT 584.6 567.4 -0.030313711667254224\n"
     ]
    },
    {
     "data": {
      "application/vnd.plotly.v1+json": {
       "config": {
        "plotlyServerURL": "https://plot.ly"
       },
       "data": [
        {
         "line": {
          "shape": "spline",
          "width": 2
         },
         "name": "GAIN_C",
         "type": "scatter",
         "x": [
          "s24-03-29 04:27",
          "s24-04-03 09:04",
          "s24-04-04 00:44",
          "s24-04-06 23:11",
          "s24-04-08 08:15",
          "s24-04-08 08:55",
          "s24-04-08 09:40",
          "s24-04-10 09:28",
          "s24-04-10 15:56",
          "s24-04-11 00:12",
          "s24-04-12 05:53",
          "s24-04-18 03:15",
          "s24-04-18 04:07",
          "s24-04-19 07:01",
          "s24-04-19 11:40",
          "s24-04-20 15:40",
          "s24-04-20 16:01",
          "s24-04-22 01:22",
          "s24-04-22 23:10",
          "s24-04-24 09:54",
          "s24-04-24 11:10",
          "s24-04-28 14:32",
          "s24-05-03 03:20",
          "s24-05-03 12:36",
          "s24-05-06 01:23",
          "s24-05-06 08:10",
          "s24-05-06 08:19",
          "s24-05-09 02:31",
          "s24-05-09 15:26",
          "s24-05-12 17:38",
          "s24-05-12 17:39",
          "s24-05-20 19:32",
          "s24-05-20 19:34",
          "s24-05-20 19:34",
          "s24-05-20 19:37",
          "s24-05-20 19:37",
          "s24-05-21 00:14",
          "s24-05-21 00:14",
          "s24-05-21 07:02",
          "s24-05-21 07:09",
          "s24-05-22 08:25",
          "s24-05-25 10:02",
          "s24-05-27 15:18",
          "s24-05-27 15:18",
          "s24-05-27 15:39",
          "s24-06-01 20:51",
          "s24-06-03 01:12",
          "s24-06-03 04:34",
          "s24-06-03 06:11",
          "s24-06-04 10:14",
          "s24-06-06 13:44",
          "s24-06-12 12:33",
          "s24-06-19 06:47",
          "s24-06-23 00:33",
          "s24-06-26 01:42",
          "s24-06-28 01:40",
          "s24-06-30 07:31",
          "s24-06-30 20:33",
          "s24-06-30 22:28",
          "s24-07-01 01:13",
          "s24-07-08 08:49",
          "s24-07-09 08:23",
          "s24-07-10 04:29",
          "s24-07-10 10:47",
          "s24-07-11 10:03",
          "s24-07-13 09:56",
          "s24-07-14 21:26",
          "s24-07-14 21:57",
          "s24-07-15 22:28",
          "s24-07-19 14:26",
          "s24-07-19 15:43",
          "s24-07-20 16:32",
          "s24-07-22 00:08",
          "s24-07-22 00:50",
          "s24-07-27 13:19",
          "s24-07-27 13:48",
          "s24-07-29 02:22",
          "s24-07-29 02:50",
          "s24-07-30 23:06",
          "s24-07-31 17:38",
          "s24-08-06 07:44",
          "s24-08-07 02:33",
          "s24-08-08 15:07",
          "s24-08-08 16:02",
          "s24-08-10 17:11",
          "s24-08-13 12:13",
          "s24-08-15 16:27",
          "s24-08-17 09:57",
          "s24-08-19 16:18",
          "s24-08-20 00:32",
          "s24-08-20 19:27",
          "s24-08-22 07:57",
          "s24-08-23 02:09",
          "s24-08-23 21:48",
          "s24-08-23 21:48",
          "s24-08-23 21:48",
          "s24-08-23 21:48",
          "s24-08-23 21:50",
          "s24-09-02 20:53",
          "s24-09-08 04:27",
          "s24-09-09 01:04",
          "s24-09-09 16:21",
          "s24-09-09 16:31",
          "s24-09-11 17:15",
          "s24-09-11 17:21",
          "s24-09-12 01:57",
          "s24-09-12 01:59",
          "s24-09-12 02:01",
          "s24-09-13 01:57",
          "s24-09-13 13:57",
          "s24-09-15 13:06",
          "s24-09-15 13:06",
          "s24-09-17 15:21",
          "s24-09-18 23:02",
          "s24-09-18 23:02",
          "s24-09-19 12:06",
          "s24-09-19 12:15",
          "s24-09-20 04:02",
          "s24-09-21 06:33",
          "s24-09-21 07:36",
          "s24-09-21 23:15",
          "s24-09-22 20:23",
          "s24-09-23 02:13",
          "s24-09-23 03:26",
          "s24-09-23 15:57",
          "s24-09-23 16:01",
          "s24-09-26 16:13",
          "s24-09-27 12:23",
          "s24-09-28 02:59"
         ],
         "xaxis": "x",
         "y": [
          0.027891650229924042,
          0.03872864497392844,
          0.049515081572046135,
          0.05909753433536186,
          0.07073826270319002,
          0.08103725091656636,
          0.09218209963662409,
          0.10394455055799107,
          0.11359705309324897,
          0.12265233163055565,
          0.13994337300866688,
          0.14914511306852074,
          0.16373574302489385,
          0.17580184172357538,
          0.1830776057728151,
          0.19389772676895045,
          0.20431503725427003,
          0.21516621235455946,
          0.2249888693334769,
          0.23833969281117767,
          0.2486167085254362,
          0.25998000348087896,
          0.2694453812907463,
          0.2799824252387654,
          0.2900272062967109,
          0.30021357223432743,
          0.31116278517042595,
          0.32249250347986924,
          0.33331048403357394,
          0.34497921854263564,
          0.35625502665993375,
          0.3670968676215689,
          0.37726065741981835,
          0.38697535235854424,
          0.3962964889367569,
          0.4078371573850221,
          0.4196508311701419,
          0.4319564947672389,
          0.4441110466343262,
          0.45501197577094354,
          0.4654101839054397,
          0.47507450889940955,
          0.4851584980580279,
          0.4953930691848693,
          0.5065364926809228,
          0.5181878530926564,
          0.5297515297859369,
          0.540714792283749,
          0.5523350183130458,
          0.5633726366853916,
          0.5729720523633599,
          0.5862854963678467,
          0.5967593403944945,
          0.6066227516296986,
          0.6152742408828452,
          0.625829985672811,
          0.6350874333884808,
          0.6446649911420756,
          0.6560645332232927,
          0.6665488690135796,
          0.6808900423885401,
          0.6902336869214732,
          0.7014620602740709,
          0.710974046503079,
          0.7224623816854086,
          0.7329375667770606,
          0.7426520591939527,
          0.7535638279857745,
          0.7637383082700818,
          0.7740926759416207,
          0.7896589792310594,
          0.7998201587925505,
          0.8103486026522541,
          0.820366655640918,
          0.8309536527622308,
          0.8408608734562185,
          0.8512844301092679,
          0.8666437629327803,
          0.8778171236857162,
          0.8880675976957597,
          0.8988034788992799,
          0.9071862472646004,
          0.9160279504220339,
          0.9301972592482707,
          0.9404216282227401,
          0.9462916702767147,
          0.9562878260649531,
          0.9669834960616361,
          0.9786327533551327,
          0.9895740246879767,
          0.9990711747154358,
          1.0091585816794977,
          1.0188274484519528,
          1.0294160485510453,
          1.040510994271782,
          1.0506518714925046,
          1.061557007127308,
          1.0719766513286817,
          1.0850591464964219,
          1.0951567181903277,
          1.1054479193404696,
          1.117540527196133,
          1.12747088225442,
          1.1386361962894185,
          1.1521529090976015,
          1.1626077880205299,
          1.1748008040318882,
          1.1866026183882121,
          1.1969941152124524,
          1.2065020384240916,
          1.2166839985975966,
          1.2274584004410303,
          1.2367655888182927,
          1.2492672030390672,
          1.2608761050189843,
          1.2726772962651003,
          1.2831074320136822,
          1.2912520964933443,
          1.3013291970337006,
          1.3115559224565083,
          1.3237103127351548,
          1.334319372265679,
          1.3455562709046038,
          1.355652581240796,
          1.365891848155057,
          1.37999994958047,
          1.3897193614319154,
          1.401456666793447,
          1.4111386924476432
         ],
         "yaxis": "y"
        }
       ],
       "layout": {
        "font": {
         "color": "#e1e1e1",
         "size": 8
        },
        "height": 400,
        "margin": {
         "b": 10,
         "l": 10,
         "r": 10,
         "t": 10
        },
        "paper_bgcolor": "#2c303c",
        "plot_bgcolor": "#2c303c",
        "template": {
         "data": {
          "bar": [
           {
            "error_x": {
             "color": "#2a3f5f"
            },
            "error_y": {
             "color": "#2a3f5f"
            },
            "marker": {
             "line": {
              "color": "#E5ECF6",
              "width": 0.5
             },
             "pattern": {
              "fillmode": "overlay",
              "size": 10,
              "solidity": 0.2
             }
            },
            "type": "bar"
           }
          ],
          "barpolar": [
           {
            "marker": {
             "line": {
              "color": "#E5ECF6",
              "width": 0.5
             },
             "pattern": {
              "fillmode": "overlay",
              "size": 10,
              "solidity": 0.2
             }
            },
            "type": "barpolar"
           }
          ],
          "carpet": [
           {
            "aaxis": {
             "endlinecolor": "#2a3f5f",
             "gridcolor": "white",
             "linecolor": "white",
             "minorgridcolor": "white",
             "startlinecolor": "#2a3f5f"
            },
            "baxis": {
             "endlinecolor": "#2a3f5f",
             "gridcolor": "white",
             "linecolor": "white",
             "minorgridcolor": "white",
             "startlinecolor": "#2a3f5f"
            },
            "type": "carpet"
           }
          ],
          "choropleth": [
           {
            "colorbar": {
             "outlinewidth": 0,
             "ticks": ""
            },
            "type": "choropleth"
           }
          ],
          "contour": [
           {
            "colorbar": {
             "outlinewidth": 0,
             "ticks": ""
            },
            "colorscale": [
             [
              0,
              "#0d0887"
             ],
             [
              0.1111111111111111,
              "#46039f"
             ],
             [
              0.2222222222222222,
              "#7201a8"
             ],
             [
              0.3333333333333333,
              "#9c179e"
             ],
             [
              0.4444444444444444,
              "#bd3786"
             ],
             [
              0.5555555555555556,
              "#d8576b"
             ],
             [
              0.6666666666666666,
              "#ed7953"
             ],
             [
              0.7777777777777778,
              "#fb9f3a"
             ],
             [
              0.8888888888888888,
              "#fdca26"
             ],
             [
              1,
              "#f0f921"
             ]
            ],
            "type": "contour"
           }
          ],
          "contourcarpet": [
           {
            "colorbar": {
             "outlinewidth": 0,
             "ticks": ""
            },
            "type": "contourcarpet"
           }
          ],
          "heatmap": [
           {
            "colorbar": {
             "outlinewidth": 0,
             "ticks": ""
            },
            "colorscale": [
             [
              0,
              "#0d0887"
             ],
             [
              0.1111111111111111,
              "#46039f"
             ],
             [
              0.2222222222222222,
              "#7201a8"
             ],
             [
              0.3333333333333333,
              "#9c179e"
             ],
             [
              0.4444444444444444,
              "#bd3786"
             ],
             [
              0.5555555555555556,
              "#d8576b"
             ],
             [
              0.6666666666666666,
              "#ed7953"
             ],
             [
              0.7777777777777778,
              "#fb9f3a"
             ],
             [
              0.8888888888888888,
              "#fdca26"
             ],
             [
              1,
              "#f0f921"
             ]
            ],
            "type": "heatmap"
           }
          ],
          "heatmapgl": [
           {
            "colorbar": {
             "outlinewidth": 0,
             "ticks": ""
            },
            "colorscale": [
             [
              0,
              "#0d0887"
             ],
             [
              0.1111111111111111,
              "#46039f"
             ],
             [
              0.2222222222222222,
              "#7201a8"
             ],
             [
              0.3333333333333333,
              "#9c179e"
             ],
             [
              0.4444444444444444,
              "#bd3786"
             ],
             [
              0.5555555555555556,
              "#d8576b"
             ],
             [
              0.6666666666666666,
              "#ed7953"
             ],
             [
              0.7777777777777778,
              "#fb9f3a"
             ],
             [
              0.8888888888888888,
              "#fdca26"
             ],
             [
              1,
              "#f0f921"
             ]
            ],
            "type": "heatmapgl"
           }
          ],
          "histogram": [
           {
            "marker": {
             "pattern": {
              "fillmode": "overlay",
              "size": 10,
              "solidity": 0.2
             }
            },
            "type": "histogram"
           }
          ],
          "histogram2d": [
           {
            "colorbar": {
             "outlinewidth": 0,
             "ticks": ""
            },
            "colorscale": [
             [
              0,
              "#0d0887"
             ],
             [
              0.1111111111111111,
              "#46039f"
             ],
             [
              0.2222222222222222,
              "#7201a8"
             ],
             [
              0.3333333333333333,
              "#9c179e"
             ],
             [
              0.4444444444444444,
              "#bd3786"
             ],
             [
              0.5555555555555556,
              "#d8576b"
             ],
             [
              0.6666666666666666,
              "#ed7953"
             ],
             [
              0.7777777777777778,
              "#fb9f3a"
             ],
             [
              0.8888888888888888,
              "#fdca26"
             ],
             [
              1,
              "#f0f921"
             ]
            ],
            "type": "histogram2d"
           }
          ],
          "histogram2dcontour": [
           {
            "colorbar": {
             "outlinewidth": 0,
             "ticks": ""
            },
            "colorscale": [
             [
              0,
              "#0d0887"
             ],
             [
              0.1111111111111111,
              "#46039f"
             ],
             [
              0.2222222222222222,
              "#7201a8"
             ],
             [
              0.3333333333333333,
              "#9c179e"
             ],
             [
              0.4444444444444444,
              "#bd3786"
             ],
             [
              0.5555555555555556,
              "#d8576b"
             ],
             [
              0.6666666666666666,
              "#ed7953"
             ],
             [
              0.7777777777777778,
              "#fb9f3a"
             ],
             [
              0.8888888888888888,
              "#fdca26"
             ],
             [
              1,
              "#f0f921"
             ]
            ],
            "type": "histogram2dcontour"
           }
          ],
          "mesh3d": [
           {
            "colorbar": {
             "outlinewidth": 0,
             "ticks": ""
            },
            "type": "mesh3d"
           }
          ],
          "parcoords": [
           {
            "line": {
             "colorbar": {
              "outlinewidth": 0,
              "ticks": ""
             }
            },
            "type": "parcoords"
           }
          ],
          "pie": [
           {
            "automargin": true,
            "type": "pie"
           }
          ],
          "scatter": [
           {
            "fillpattern": {
             "fillmode": "overlay",
             "size": 10,
             "solidity": 0.2
            },
            "type": "scatter"
           }
          ],
          "scatter3d": [
           {
            "line": {
             "colorbar": {
              "outlinewidth": 0,
              "ticks": ""
             }
            },
            "marker": {
             "colorbar": {
              "outlinewidth": 0,
              "ticks": ""
             }
            },
            "type": "scatter3d"
           }
          ],
          "scattercarpet": [
           {
            "marker": {
             "colorbar": {
              "outlinewidth": 0,
              "ticks": ""
             }
            },
            "type": "scattercarpet"
           }
          ],
          "scattergeo": [
           {
            "marker": {
             "colorbar": {
              "outlinewidth": 0,
              "ticks": ""
             }
            },
            "type": "scattergeo"
           }
          ],
          "scattergl": [
           {
            "marker": {
             "colorbar": {
              "outlinewidth": 0,
              "ticks": ""
             }
            },
            "type": "scattergl"
           }
          ],
          "scattermapbox": [
           {
            "marker": {
             "colorbar": {
              "outlinewidth": 0,
              "ticks": ""
             }
            },
            "type": "scattermapbox"
           }
          ],
          "scatterpolar": [
           {
            "marker": {
             "colorbar": {
              "outlinewidth": 0,
              "ticks": ""
             }
            },
            "type": "scatterpolar"
           }
          ],
          "scatterpolargl": [
           {
            "marker": {
             "colorbar": {
              "outlinewidth": 0,
              "ticks": ""
             }
            },
            "type": "scatterpolargl"
           }
          ],
          "scatterternary": [
           {
            "marker": {
             "colorbar": {
              "outlinewidth": 0,
              "ticks": ""
             }
            },
            "type": "scatterternary"
           }
          ],
          "surface": [
           {
            "colorbar": {
             "outlinewidth": 0,
             "ticks": ""
            },
            "colorscale": [
             [
              0,
              "#0d0887"
             ],
             [
              0.1111111111111111,
              "#46039f"
             ],
             [
              0.2222222222222222,
              "#7201a8"
             ],
             [
              0.3333333333333333,
              "#9c179e"
             ],
             [
              0.4444444444444444,
              "#bd3786"
             ],
             [
              0.5555555555555556,
              "#d8576b"
             ],
             [
              0.6666666666666666,
              "#ed7953"
             ],
             [
              0.7777777777777778,
              "#fb9f3a"
             ],
             [
              0.8888888888888888,
              "#fdca26"
             ],
             [
              1,
              "#f0f921"
             ]
            ],
            "type": "surface"
           }
          ],
          "table": [
           {
            "cells": {
             "fill": {
              "color": "#EBF0F8"
             },
             "line": {
              "color": "white"
             }
            },
            "header": {
             "fill": {
              "color": "#C8D4E3"
             },
             "line": {
              "color": "white"
             }
            },
            "type": "table"
           }
          ]
         },
         "layout": {
          "annotationdefaults": {
           "arrowcolor": "#2a3f5f",
           "arrowhead": 0,
           "arrowwidth": 1
          },
          "autotypenumbers": "strict",
          "coloraxis": {
           "colorbar": {
            "outlinewidth": 0,
            "ticks": ""
           }
          },
          "colorscale": {
           "diverging": [
            [
             0,
             "#8e0152"
            ],
            [
             0.1,
             "#c51b7d"
            ],
            [
             0.2,
             "#de77ae"
            ],
            [
             0.3,
             "#f1b6da"
            ],
            [
             0.4,
             "#fde0ef"
            ],
            [
             0.5,
             "#f7f7f7"
            ],
            [
             0.6,
             "#e6f5d0"
            ],
            [
             0.7,
             "#b8e186"
            ],
            [
             0.8,
             "#7fbc41"
            ],
            [
             0.9,
             "#4d9221"
            ],
            [
             1,
             "#276419"
            ]
           ],
           "sequential": [
            [
             0,
             "#0d0887"
            ],
            [
             0.1111111111111111,
             "#46039f"
            ],
            [
             0.2222222222222222,
             "#7201a8"
            ],
            [
             0.3333333333333333,
             "#9c179e"
            ],
            [
             0.4444444444444444,
             "#bd3786"
            ],
            [
             0.5555555555555556,
             "#d8576b"
            ],
            [
             0.6666666666666666,
             "#ed7953"
            ],
            [
             0.7777777777777778,
             "#fb9f3a"
            ],
            [
             0.8888888888888888,
             "#fdca26"
            ],
            [
             1,
             "#f0f921"
            ]
           ],
           "sequentialminus": [
            [
             0,
             "#0d0887"
            ],
            [
             0.1111111111111111,
             "#46039f"
            ],
            [
             0.2222222222222222,
             "#7201a8"
            ],
            [
             0.3333333333333333,
             "#9c179e"
            ],
            [
             0.4444444444444444,
             "#bd3786"
            ],
            [
             0.5555555555555556,
             "#d8576b"
            ],
            [
             0.6666666666666666,
             "#ed7953"
            ],
            [
             0.7777777777777778,
             "#fb9f3a"
            ],
            [
             0.8888888888888888,
             "#fdca26"
            ],
            [
             1,
             "#f0f921"
            ]
           ]
          },
          "colorway": [
           "#636efa",
           "#EF553B",
           "#00cc96",
           "#ab63fa",
           "#FFA15A",
           "#19d3f3",
           "#FF6692",
           "#B6E880",
           "#FF97FF",
           "#FECB52"
          ],
          "font": {
           "color": "#2a3f5f"
          },
          "geo": {
           "bgcolor": "white",
           "lakecolor": "white",
           "landcolor": "#E5ECF6",
           "showlakes": true,
           "showland": true,
           "subunitcolor": "white"
          },
          "hoverlabel": {
           "align": "left"
          },
          "hovermode": "closest",
          "mapbox": {
           "style": "light"
          },
          "paper_bgcolor": "white",
          "plot_bgcolor": "#E5ECF6",
          "polar": {
           "angularaxis": {
            "gridcolor": "white",
            "linecolor": "white",
            "ticks": ""
           },
           "bgcolor": "#E5ECF6",
           "radialaxis": {
            "gridcolor": "white",
            "linecolor": "white",
            "ticks": ""
           }
          },
          "scene": {
           "xaxis": {
            "backgroundcolor": "#E5ECF6",
            "gridcolor": "white",
            "gridwidth": 2,
            "linecolor": "white",
            "showbackground": true,
            "ticks": "",
            "zerolinecolor": "white"
           },
           "yaxis": {
            "backgroundcolor": "#E5ECF6",
            "gridcolor": "white",
            "gridwidth": 2,
            "linecolor": "white",
            "showbackground": true,
            "ticks": "",
            "zerolinecolor": "white"
           },
           "zaxis": {
            "backgroundcolor": "#E5ECF6",
            "gridcolor": "white",
            "gridwidth": 2,
            "linecolor": "white",
            "showbackground": true,
            "ticks": "",
            "zerolinecolor": "white"
           }
          },
          "shapedefaults": {
           "line": {
            "color": "#2a3f5f"
           }
          },
          "ternary": {
           "aaxis": {
            "gridcolor": "white",
            "linecolor": "white",
            "ticks": ""
           },
           "baxis": {
            "gridcolor": "white",
            "linecolor": "white",
            "ticks": ""
           },
           "bgcolor": "#E5ECF6",
           "caxis": {
            "gridcolor": "white",
            "linecolor": "white",
            "ticks": ""
           }
          },
          "title": {
           "x": 0.05
          },
          "xaxis": {
           "automargin": true,
           "gridcolor": "white",
           "linecolor": "white",
           "ticks": "",
           "title": {
            "standoff": 15
           },
           "zerolinecolor": "white",
           "zerolinewidth": 2
          },
          "yaxis": {
           "automargin": true,
           "gridcolor": "white",
           "linecolor": "white",
           "ticks": "",
           "title": {
            "standoff": 15
           },
           "zerolinecolor": "white",
           "zerolinewidth": 2
          }
         }
        },
        "width": 900,
        "xaxis": {
         "anchor": "y",
         "autorange": true,
         "domain": [
          0,
          0.94
         ],
         "gridcolor": "#1f292f",
         "nticks": 5,
         "range": [
          0,
          119
         ],
         "rangeslider": {
          "visible": false,
          "yaxis": {}
         },
         "type": "category"
        },
        "yaxis": {
         "anchor": "x",
         "autorange": true,
         "domain": [
          0,
          1
         ],
         "gridcolor": "#1f292f",
         "range": [
          -0.04895540767106038,
          1.4879857503486276
         ],
         "type": "linear"
        },
        "yaxis2": {
         "anchor": "x",
         "gridcolor": "#1f292f",
         "overlaying": "y",
         "side": "right"
        }
       }
      },
      "image/png": "[encoded data removed]",
      "text/html": [
       "<div>                            <div id=\"418bae7d-31fe-4a82-976d-5a841d30ee3d\" class=\"plotly-graph-div\" style=\"height:400px; width:900px;\"></div>            <script type=\"text/javascript\">                require([\"plotly\"], function(Plotly) {                    window.PLOTLYENV=window.PLOTLYENV || {};                                    if (document.getElementById(\"418bae7d-31fe-4a82-976d-5a841d30ee3d\")) {                    Plotly.newPlot(                        \"418bae7d-31fe-4a82-976d-5a841d30ee3d\",                        [{\"line\":{\"shape\":\"spline\",\"width\":2},\"name\":\"GAIN_C\",\"x\":[\"s24-03-29 04:27\",\"s24-04-03 09:04\",\"s24-04-04 00:44\",\"s24-04-06 23:11\",\"s24-04-08 08:15\",\"s24-04-08 08:55\",\"s24-04-08 09:40\",\"s24-04-10 09:28\",\"s24-04-10 15:56\",\"s24-04-11 00:12\",\"s24-04-12 05:53\",\"s24-04-18 03:15\",\"s24-04-18 04:07\",\"s24-04-19 07:01\",\"s24-04-19 11:40\",\"s24-04-20 15:40\",\"s24-04-20 16:01\",\"s24-04-22 01:22\",\"s24-04-22 23:10\",\"s24-04-24 09:54\",\"s24-04-24 11:10\",\"s24-04-28 14:32\",\"s24-05-03 03:20\",\"s24-05-03 12:36\",\"s24-05-06 01:23\",\"s24-05-06 08:10\",\"s24-05-06 08:19\",\"s24-05-09 02:31\",\"s24-05-09 15:26\",\"s24-05-12 17:38\",\"s24-05-12 17:39\",\"s24-05-20 19:32\",\"s24-05-20 19:34\",\"s24-05-20 19:34\",\"s24-05-20 19:37\",\"s24-05-20 19:37\",\"s24-05-21 00:14\",\"s24-05-21 00:14\",\"s24-05-21 07:02\",\"s24-05-21 07:09\",\"s24-05-22 08:25\",\"s24-05-25 10:02\",\"s24-05-27 15:18\",\"s24-05-27 15:18\",\"s24-05-27 15:39\",\"s24-06-01 20:51\",\"s24-06-03 01:12\",\"s24-06-03 04:34\",\"s24-06-03 06:11\",\"s24-06-04 10:14\",\"s24-06-06 13:44\",\"s24-06-12 12:33\",\"s24-06-19 06:47\",\"s24-06-23 00:33\",\"s24-06-26 01:42\",\"s24-06-28 01:40\",\"s24-06-30 07:31\",\"s24-06-30 20:33\",\"s24-06-30 22:28\",\"s24-07-01 01:13\",\"s24-07-08 08:49\",\"s24-07-09 08:23\",\"s24-07-10 04:29\",\"s24-07-10 10:47\",\"s24-07-11 10:03\",\"s24-07-13 09:56\",\"s24-07-14 21:26\",\"s24-07-14 21:57\",\"s24-07-15 22:28\",\"s24-07-19 14:26\",\"s24-07-19 15:43\",\"s24-07-20 16:32\",\"s24-07-22 00:08\",\"s24-07-22 00:50\",\"s24-07-27 13:19\",\"s24-07-27 13:48\",\"s24-07-29 02:22\",\"s24-07-29 02:50\",\"s24-07-30 23:06\",\"s24-07-31 17:38\",\"s24-08-06 07:44\",\"s24-08-07 02:33\",\"s24-08-08 15:07\",\"s24-08-08 16:02\",\"s24-08-10 17:11\",\"s24-08-13 12:13\",\"s24-08-15 16:27\",\"s24-08-17 09:57\",\"s24-08-19 16:18\",\"s24-08-20 00:32\",\"s24-08-20 19:27\",\"s24-08-22 07:57\",\"s24-08-23 02:09\",\"s24-08-23 21:48\",\"s24-08-23 21:48\",\"s24-08-23 21:48\",\"s24-08-23 21:48\",\"s24-08-23 21:50\",\"s24-09-02 20:53\",\"s24-09-08 04:27\",\"s24-09-09 01:04\",\"s24-09-09 16:21\",\"s24-09-09 16:31\",\"s24-09-11 17:15\",\"s24-09-11 17:21\",\"s24-09-12 01:57\",\"s24-09-12 01:59\",\"s24-09-12 02:01\",\"s24-09-13 01:57\",\"s24-09-13 13:57\",\"s24-09-15 13:06\",\"s24-09-15 13:06\",\"s24-09-17 15:21\",\"s24-09-18 23:02\",\"s24-09-18 23:02\",\"s24-09-19 12:06\",\"s24-09-19 12:15\",\"s24-09-20 04:02\",\"s24-09-21 06:33\",\"s24-09-21 07:36\",\"s24-09-21 23:15\",\"s24-09-22 20:23\",\"s24-09-23 02:13\",\"s24-09-23 03:26\",\"s24-09-23 15:57\",\"s24-09-23 16:01\",\"s24-09-26 16:13\",\"s24-09-27 12:23\",\"s24-09-28 02:59\"],\"y\":[0.027891650229924042,0.03872864497392844,0.049515081572046135,0.05909753433536186,0.07073826270319002,0.08103725091656636,0.09218209963662409,0.10394455055799107,0.11359705309324897,0.12265233163055565,0.13994337300866688,0.14914511306852074,0.16373574302489385,0.17580184172357538,0.1830776057728151,0.19389772676895045,0.20431503725427003,0.21516621235455946,0.2249888693334769,0.23833969281117767,0.2486167085254362,0.25998000348087896,0.2694453812907463,0.2799824252387654,0.2900272062967109,0.30021357223432743,0.31116278517042595,0.32249250347986924,0.33331048403357394,0.34497921854263564,0.35625502665993375,0.3670968676215689,0.37726065741981835,0.38697535235854424,0.3962964889367569,0.4078371573850221,0.4196508311701419,0.4319564947672389,0.4441110466343262,0.45501197577094354,0.4654101839054397,0.47507450889940955,0.4851584980580279,0.4953930691848693,0.5065364926809228,0.5181878530926564,0.5297515297859369,0.540714792283749,0.5523350183130458,0.5633726366853916,0.5729720523633599,0.5862854963678467,0.5967593403944945,0.6066227516296986,0.6152742408828452,0.625829985672811,0.6350874333884808,0.6446649911420756,0.6560645332232927,0.6665488690135796,0.6808900423885401,0.6902336869214732,0.7014620602740709,0.710974046503079,0.7224623816854086,0.7329375667770606,0.7426520591939527,0.7535638279857745,0.7637383082700818,0.7740926759416207,0.7896589792310594,0.7998201587925505,0.8103486026522541,0.820366655640918,0.8309536527622308,0.8408608734562185,0.8512844301092679,0.8666437629327803,0.8778171236857162,0.8880675976957597,0.8988034788992799,0.9071862472646004,0.9160279504220339,0.9301972592482707,0.9404216282227401,0.9462916702767147,0.9562878260649531,0.9669834960616361,0.9786327533551327,0.9895740246879767,0.9990711747154358,1.0091585816794977,1.0188274484519528,1.0294160485510453,1.040510994271782,1.0506518714925046,1.061557007127308,1.0719766513286817,1.0850591464964219,1.0951567181903277,1.1054479193404696,1.117540527196133,1.12747088225442,1.1386361962894185,1.1521529090976015,1.1626077880205299,1.1748008040318882,1.1866026183882121,1.1969941152124524,1.2065020384240916,1.2166839985975966,1.2274584004410303,1.2367655888182927,1.2492672030390672,1.2608761050189843,1.2726772962651003,1.2831074320136822,1.2912520964933443,1.3013291970337006,1.3115559224565083,1.3237103127351548,1.334319372265679,1.3455562709046038,1.355652581240796,1.365891848155057,1.37999994958047,1.3897193614319154,1.401456666793447,1.4111386924476432],\"type\":\"scatter\",\"xaxis\":\"x\",\"yaxis\":\"y\"}],                        {\"template\":{\"data\":{\"histogram2dcontour\":[{\"type\":\"histogram2dcontour\",\"colorbar\":{\"outlinewidth\":0,\"ticks\":\"\"},\"colorscale\":[[0.0,\"#0d0887\"],[0.1111111111111111,\"#46039f\"],[0.2222222222222222,\"#7201a8\"],[0.3333333333333333,\"#9c179e\"],[0.4444444444444444,\"#bd3786\"],[0.5555555555555556,\"#d8576b\"],[0.6666666666666666,\"#ed7953\"],[0.7777777777777778,\"#fb9f3a\"],[0.8888888888888888,\"#fdca26\"],[1.0,\"#f0f921\"]]}],\"choropleth\":[{\"type\":\"choropleth\",\"colorbar\":{\"outlinewidth\":0,\"ticks\":\"\"}}],\"histogram2d\":[{\"type\":\"histogram2d\",\"colorbar\":{\"outlinewidth\":0,\"ticks\":\"\"},\"colorscale\":[[0.0,\"#0d0887\"],[0.1111111111111111,\"#46039f\"],[0.2222222222222222,\"#7201a8\"],[0.3333333333333333,\"#9c179e\"],[0.4444444444444444,\"#bd3786\"],[0.5555555555555556,\"#d8576b\"],[0.6666666666666666,\"#ed7953\"],[0.7777777777777778,\"#fb9f3a\"],[0.8888888888888888,\"#fdca26\"],[1.0,\"#f0f921\"]]}],\"heatmap\":[{\"type\":\"heatmap\",\"colorbar\":{\"outlinewidth\":0,\"ticks\":\"\"},\"colorscale\":[[0.0,\"#0d0887\"],[0.1111111111111111,\"#46039f\"],[0.2222222222222222,\"#7201a8\"],[0.3333333333333333,\"#9c179e\"],[0.4444444444444444,\"#bd3786\"],[0.5555555555555556,\"#d8576b\"],[0.6666666666666666,\"#ed7953\"],[0.7777777777777778,\"#fb9f3a\"],[0.8888888888888888,\"#fdca26\"],[1.0,\"#f0f921\"]]}],\"heatmapgl\":[{\"type\":\"heatmapgl\",\"colorbar\":{\"outlinewidth\":0,\"ticks\":\"\"},\"colorscale\":[[0.0,\"#0d0887\"],[0.1111111111111111,\"#46039f\"],[0.2222222222222222,\"#7201a8\"],[0.3333333333333333,\"#9c179e\"],[0.4444444444444444,\"#bd3786\"],[0.5555555555555556,\"#d8576b\"],[0.6666666666666666,\"#ed7953\"],[0.7777777777777778,\"#fb9f3a\"],[0.8888888888888888,\"#fdca26\"],[1.0,\"#f0f921\"]]}],\"contourcarpet\":[{\"type\":\"contourcarpet\",\"colorbar\":{\"outlinewidth\":0,\"ticks\":\"\"}}],\"contour\":[{\"type\":\"contour\",\"colorbar\":{\"outlinewidth\":0,\"ticks\":\"\"},\"colorscale\":[[0.0,\"#0d0887\"],[0.1111111111111111,\"#46039f\"],[0.2222222222222222,\"#7201a8\"],[0.3333333333333333,\"#9c179e\"],[0.4444444444444444,\"#bd3786\"],[0.5555555555555556,\"#d8576b\"],[0.6666666666666666,\"#ed7953\"],[0.7777777777777778,\"#fb9f3a\"],[0.8888888888888888,\"#fdca26\"],[1.0,\"#f0f921\"]]}],\"surface\":[{\"type\":\"surface\",\"colorbar\":{\"outlinewidth\":0,\"ticks\":\"\"},\"colorscale\":[[0.0,\"#0d0887\"],[0.1111111111111111,\"#46039f\"],[0.2222222222222222,\"#7201a8\"],[0.3333333333333333,\"#9c179e\"],[0.4444444444444444,\"#bd3786\"],[0.5555555555555556,\"#d8576b\"],[0.6666666666666666,\"#ed7953\"],[0.7777777777777778,\"#fb9f3a\"],[0.8888888888888888,\"#fdca26\"],[1.0,\"#f0f921\"]]}],\"mesh3d\":[{\"type\":\"mesh3d\",\"colorbar\":{\"outlinewidth\":0,\"ticks\":\"\"}}],\"scatter\":[{\"fillpattern\":{\"fillmode\":\"overlay\",\"size\":10,\"solidity\":0.2},\"type\":\"scatter\"}],\"parcoords\":[{\"type\":\"parcoords\",\"line\":{\"colorbar\":{\"outlinewidth\":0,\"ticks\":\"\"}}}],\"scatterpolargl\":[{\"type\":\"scatterpolargl\",\"marker\":{\"colorbar\":{\"outlinewidth\":0,\"ticks\":\"\"}}}],\"bar\":[{\"error_x\":{\"color\":\"#2a3f5f\"},\"error_y\":{\"color\":\"#2a3f5f\"},\"marker\":{\"line\":{\"color\":\"#E5ECF6\",\"width\":0.5},\"pattern\":{\"fillmode\":\"overlay\",\"size\":10,\"solidity\":0.2}},\"type\":\"bar\"}],\"scattergeo\":[{\"type\":\"scattergeo\",\"marker\":{\"colorbar\":{\"outlinewidth\":0,\"ticks\":\"\"}}}],\"scatterpolar\":[{\"type\":\"scatterpolar\",\"marker\":{\"colorbar\":{\"outlinewidth\":0,\"ticks\":\"\"}}}],\"histogram\":[{\"marker\":{\"pattern\":{\"fillmode\":\"overlay\",\"size\":10,\"solidity\":0.2}},\"type\":\"histogram\"}],\"scattergl\":[{\"type\":\"scattergl\",\"marker\":{\"colorbar\":{\"outlinewidth\":0,\"ticks\":\"\"}}}],\"scatter3d\":[{\"type\":\"scatter3d\",\"line\":{\"colorbar\":{\"outlinewidth\":0,\"ticks\":\"\"}},\"marker\":{\"colorbar\":{\"outlinewidth\":0,\"ticks\":\"\"}}}],\"scattermapbox\":[{\"type\":\"scattermapbox\",\"marker\":{\"colorbar\":{\"outlinewidth\":0,\"ticks\":\"\"}}}],\"scatterternary\":[{\"type\":\"scatterternary\",\"marker\":{\"colorbar\":{\"outlinewidth\":0,\"ticks\":\"\"}}}],\"scattercarpet\":[{\"type\":\"scattercarpet\",\"marker\":{\"colorbar\":{\"outlinewidth\":0,\"ticks\":\"\"}}}],\"carpet\":[{\"aaxis\":{\"endlinecolor\":\"#2a3f5f\",\"gridcolor\":\"white\",\"linecolor\":\"white\",\"minorgridcolor\":\"white\",\"startlinecolor\":\"#2a3f5f\"},\"baxis\":{\"endlinecolor\":\"#2a3f5f\",\"gridcolor\":\"white\",\"linecolor\":\"white\",\"minorgridcolor\":\"white\",\"startlinecolor\":\"#2a3f5f\"},\"type\":\"carpet\"}],\"table\":[{\"cells\":{\"fill\":{\"color\":\"#EBF0F8\"},\"line\":{\"color\":\"white\"}},\"header\":{\"fill\":{\"color\":\"#C8D4E3\"},\"line\":{\"color\":\"white\"}},\"type\":\"table\"}],\"barpolar\":[{\"marker\":{\"line\":{\"color\":\"#E5ECF6\",\"width\":0.5},\"pattern\":{\"fillmode\":\"overlay\",\"size\":10,\"solidity\":0.2}},\"type\":\"barpolar\"}],\"pie\":[{\"automargin\":true,\"type\":\"pie\"}]},\"layout\":{\"autotypenumbers\":\"strict\",\"colorway\":[\"#636efa\",\"#EF553B\",\"#00cc96\",\"#ab63fa\",\"#FFA15A\",\"#19d3f3\",\"#FF6692\",\"#B6E880\",\"#FF97FF\",\"#FECB52\"],\"font\":{\"color\":\"#2a3f5f\"},\"hovermode\":\"closest\",\"hoverlabel\":{\"align\":\"left\"},\"paper_bgcolor\":\"white\",\"plot_bgcolor\":\"#E5ECF6\",\"polar\":{\"bgcolor\":\"#E5ECF6\",\"angularaxis\":{\"gridcolor\":\"white\",\"linecolor\":\"white\",\"ticks\":\"\"},\"radialaxis\":{\"gridcolor\":\"white\",\"linecolor\":\"white\",\"ticks\":\"\"}},\"ternary\":{\"bgcolor\":\"#E5ECF6\",\"aaxis\":{\"gridcolor\":\"white\",\"linecolor\":\"white\",\"ticks\":\"\"},\"baxis\":{\"gridcolor\":\"white\",\"linecolor\":\"white\",\"ticks\":\"\"},\"caxis\":{\"gridcolor\":\"white\",\"linecolor\":\"white\",\"ticks\":\"\"}},\"coloraxis\":{\"colorbar\":{\"outlinewidth\":0,\"ticks\":\"\"}},\"colorscale\":{\"sequential\":[[0.0,\"#0d0887\"],[0.1111111111111111,\"#46039f\"],[0.2222222222222222,\"#7201a8\"],[0.3333333333333333,\"#9c179e\"],[0.4444444444444444,\"#bd3786\"],[0.5555555555555556,\"#d8576b\"],[0.6666666666666666,\"#ed7953\"],[0.7777777777777778,\"#fb9f3a\"],[0.8888888888888888,\"#fdca26\"],[1.0,\"#f0f921\"]],\"sequentialminus\":[[0.0,\"#0d0887\"],[0.1111111111111111,\"#46039f\"],[0.2222222222222222,\"#7201a8\"],[0.3333333333333333,\"#9c179e\"],[0.4444444444444444,\"#bd3786\"],[0.5555555555555556,\"#d8576b\"],[0.6666666666666666,\"#ed7953\"],[0.7777777777777778,\"#fb9f3a\"],[0.8888888888888888,\"#fdca26\"],[1.0,\"#f0f921\"]],\"diverging\":[[0,\"#8e0152\"],[0.1,\"#c51b7d\"],[0.2,\"#de77ae\"],[0.3,\"#f1b6da\"],[0.4,\"#fde0ef\"],[0.5,\"#f7f7f7\"],[0.6,\"#e6f5d0\"],[0.7,\"#b8e186\"],[0.8,\"#7fbc41\"],[0.9,\"#4d9221\"],[1,\"#276419\"]]},\"xaxis\":{\"gridcolor\":\"white\",\"linecolor\":\"white\",\"ticks\":\"\",\"title\":{\"standoff\":15},\"zerolinecolor\":\"white\",\"automargin\":true,\"zerolinewidth\":2},\"yaxis\":{\"gridcolor\":\"white\",\"linecolor\":\"white\",\"ticks\":\"\",\"title\":{\"standoff\":15},\"zerolinecolor\":\"white\",\"automargin\":true,\"zerolinewidth\":2},\"scene\":{\"xaxis\":{\"backgroundcolor\":\"#E5ECF6\",\"gridcolor\":\"white\",\"linecolor\":\"white\",\"showbackground\":true,\"ticks\":\"\",\"zerolinecolor\":\"white\",\"gridwidth\":2},\"yaxis\":{\"backgroundcolor\":\"#E5ECF6\",\"gridcolor\":\"white\",\"linecolor\":\"white\",\"showbackground\":true,\"ticks\":\"\",\"zerolinecolor\":\"white\",\"gridwidth\":2},\"zaxis\":{\"backgroundcolor\":\"#E5ECF6\",\"gridcolor\":\"white\",\"linecolor\":\"white\",\"showbackground\":true,\"ticks\":\"\",\"zerolinecolor\":\"white\",\"gridwidth\":2}},\"shapedefaults\":{\"line\":{\"color\":\"#2a3f5f\"}},\"annotationdefaults\":{\"arrowcolor\":\"#2a3f5f\",\"arrowhead\":0,\"arrowwidth\":1},\"geo\":{\"bgcolor\":\"white\",\"landcolor\":\"#E5ECF6\",\"subunitcolor\":\"white\",\"showland\":true,\"showlakes\":true,\"lakecolor\":\"white\"},\"title\":{\"x\":0.05},\"mapbox\":{\"style\":\"light\"}}},\"xaxis\":{\"anchor\":\"y\",\"domain\":[0.0,0.94],\"rangeslider\":{\"visible\":false},\"gridcolor\":\"#1f292f\",\"nticks\":5},\"yaxis\":{\"anchor\":\"x\",\"domain\":[0.0,1.0],\"gridcolor\":\"#1f292f\"},\"yaxis2\":{\"anchor\":\"x\",\"overlaying\":\"y\",\"side\":\"right\",\"gridcolor\":\"#1f292f\"},\"margin\":{\"l\":10,\"r\":10,\"b\":10,\"t\":10},\"font\":{\"size\":8,\"color\":\"#e1e1e1\"},\"width\":900,\"height\":400,\"paper_bgcolor\":\"#2c303c\",\"plot_bgcolor\":\"#2c303c\"},                        {\"responsive\": true}                    ).then(function(){\n",
       "                            \n",
       "var gd = document.getElementById('418bae7d-31fe-4a82-976d-5a841d30ee3d');\n",
       "var x = new MutationObserver(function (mutations, observer) {{\n",
       "        var display = window.getComputedStyle(gd).display;\n",
       "        if (!display || display === 'none') {{\n",
       "            console.log([gd, 'removed!']);\n",
       "            Plotly.purge(gd);\n",
       "            observer.disconnect();\n",
       "        }}\n",
       "}});\n",
       "\n",
       "// Listen for the removal of the full notebook cells\n",
       "var notebookContainer = gd.closest('#notebook-container');\n",
       "if (notebookContainer) {{\n",
       "    x.observe(notebookContainer, {childList: true});\n",
       "}}\n",
       "\n",
       "// Listen for the clearing of the current output cell\n",
       "var outputEl = gd.closest('.output');\n",
       "if (outputEl) {{\n",
       "    x.observe(outputEl, {childList: true});\n",
       "}}\n",
       "\n",
       "                        })                };                });            </script>        </div>"
      ]
     },
     "metadata": {},
     "output_type": "display_data"
    },
    {
     "name": "stdout",
     "output_type": "stream",
     "text": [
      "XRPUSDT 0.6124 0.6114 -0.001635590448151784\n"
     ]
    },
    {
     "data": {
      "application/vnd.plotly.v1+json": {
       "config": {
        "plotlyServerURL": "https://plot.ly"
       },
       "data": [
        {
         "line": {
          "shape": "spline",
          "width": 2
         },
         "name": "GAIN_C",
         "type": "scatter",
         "x": [
          "s24-03-29 10:53",
          "s24-03-29 10:53",
          "s24-03-31 06:05",
          "s24-04-01 15:30",
          "s24-04-01 18:16",
          "s24-04-02 14:15",
          "s24-04-02 14:32",
          "s24-04-03 01:42",
          "s24-04-03 23:05",
          "s24-04-04 05:11",
          "s24-04-04 13:04",
          "s24-04-05 14:15",
          "s24-04-05 14:38",
          "s24-04-05 14:44",
          "s24-04-08 06:24",
          "s24-04-08 13:47",
          "s24-04-10 14:10",
          "s24-04-12 07:18",
          "s24-04-13 17:35",
          "s24-04-15 19:22",
          "s24-04-17 13:38",
          "s24-04-17 18:06",
          "s24-04-19 03:15",
          "s24-04-25 14:11",
          "s24-04-25 14:12",
          "s24-04-25 14:19",
          "s24-04-29 09:51",
          "s24-04-29 14:29",
          "s24-04-30 00:48",
          "s24-05-01 09:07",
          "s24-05-01 17:26",
          "s24-05-03 12:35",
          "s24-05-04 13:04",
          "s24-05-05 07:44",
          "s24-05-08 13:49",
          "s24-05-09 02:36",
          "s24-05-09 18:53",
          "s24-05-13 07:04",
          "s24-05-13 11:03",
          "s24-05-13 11:03",
          "s24-05-13 11:03",
          "s24-05-15 16:20",
          "s24-05-20 04:27",
          "s24-05-20 17:52",
          "s24-05-20 19:23",
          "s24-05-20 19:34",
          "s24-05-22 08:08",
          "s24-05-23 03:57",
          "s24-05-23 13:45",
          "s24-05-23 13:46",
          "s24-05-23 21:11",
          "s24-05-27 01:47",
          "s24-05-27 08:25",
          "s24-05-27 13:13",
          "s24-05-27 14:23",
          "s24-05-27 15:42",
          "s24-05-28 10:07",
          "s24-05-30 13:16",
          "s24-05-31 09:40",
          "s24-05-31 19:54",
          "s24-06-02 19:05",
          "s24-06-03 08:16",
          "s24-06-07 05:02",
          "s24-06-12 10:10",
          "s24-06-12 12:31",
          "s24-06-12 12:59",
          "s24-06-13 17:13",
          "s24-06-14 05:39",
          "s24-06-15 06:09",
          "s24-06-17 05:19",
          "s24-06-17 14:33",
          "s24-06-21 07:01",
          "s24-06-21 11:34",
          "s24-06-21 11:51",
          "s24-06-21 11:51",
          "s24-06-21 20:08",
          "s24-06-24 13:27",
          "s24-06-24 13:34",
          "s24-06-24 21:10",
          "s24-06-27 13:03",
          "s24-06-27 14:03",
          "s24-06-27 14:08",
          "s24-06-28 01:25",
          "s24-06-30 22:27",
          "s24-06-30 22:36",
          "s24-06-30 22:40",
          "s24-07-01 01:18",
          "s24-07-01 11:04",
          "s24-07-01 11:04",
          "s24-07-04 02:44",
          "s24-07-04 13:51",
          "s24-07-04 19:21",
          "s24-07-04 22:06",
          "s24-07-06 11:38",
          "s24-07-06 16:49",
          "s24-07-08 08:07",
          "s24-07-08 09:03",
          "s24-07-08 11:31",
          "s24-07-12 22:26",
          "s24-07-13 03:00",
          "s24-07-13 03:32",
          "s24-07-13 09:30",
          "s24-07-13 19:53",
          "s24-07-18 16:30",
          "s24-07-19 03:45",
          "s24-07-20 05:05",
          "s24-07-21 15:44",
          "s24-07-23 08:36",
          "s24-07-23 14:27",
          "s24-07-23 14:28",
          "s24-07-23 17:22",
          "s24-07-23 18:07",
          "s24-07-23 18:16",
          "s24-07-23 18:16",
          "s24-07-25 03:48",
          "s24-07-25 21:02",
          "s24-07-26 00:08",
          "s24-07-27 21:14",
          "s24-07-27 21:14",
          "s24-07-29 17:10",
          "s24-07-29 17:49",
          "s24-08-01 12:13",
          "s24-08-01 23:04",
          "s24-08-02 06:55",
          "s24-08-02 08:31",
          "s24-08-02 15:36",
          "s24-08-04 20:12",
          "s24-08-05 06:47",
          "s24-08-06 00:23",
          "s24-08-07 17:07",
          "s24-08-07 20:26",
          "s24-08-07 20:27",
          "s24-08-10 03:28",
          "s24-08-10 12:15",
          "s24-08-12 07:35",
          "s24-08-14 14:30",
          "s24-08-15 12:20",
          "s24-08-15 12:22",
          "s24-08-15 18:45",
          "s24-08-19 06:45",
          "s24-08-19 09:17",
          "s24-08-20 16:36",
          "s24-08-20 19:08",
          "s24-08-21 14:00",
          "s24-08-21 16:52",
          "s24-08-21 16:52",
          "s24-08-21 17:14",
          "s24-08-25 14:16",
          "s24-08-26 15:50",
          "s24-08-26 18:41",
          "s24-08-27 15:27",
          "s24-08-28 10:23",
          "s24-08-30 18:30",
          "s24-08-31 10:13",
          "s24-09-02 10:23",
          "s24-09-02 19:21",
          "s24-09-02 19:37",
          "s24-09-04 15:02",
          "s24-09-05 14:01",
          "s24-09-06 12:31",
          "s24-09-08 21:18",
          "s24-09-09 16:48",
          "s24-09-11 15:43",
          "s24-09-11 17:48",
          "s24-09-12 02:01",
          "s24-09-12 12:50",
          "s24-09-12 12:50",
          "s24-09-14 22:05",
          "s24-09-16 19:25",
          "s24-09-18 18:01",
          "s24-09-18 18:35",
          "s24-09-18 23:38",
          "s24-09-20 03:21",
          "s24-09-21 16:59",
          "s24-09-21 17:01",
          "s24-09-22 22:41",
          "s24-09-24 08:40",
          "s24-09-26 06:40",
          "s24-09-26 10:22"
         ],
         "xaxis": "x",
         "y": [
          0.012815515526249864,
          0.024961738694777115,
          0.03478216550104726,
          0.04494478963262236,
          0.056677735127601034,
          0.06781907515636236,
          0.07832100463396585,
          0.08955177487877417,
          0.1004059480619994,
          0.11064994999280607,
          0.13887285333032162,
          0.1490197383210145,
          0.15952618480873532,
          0.16912034809063062,
          0.17994918318330141,
          0.18993463110843586,
          0.19993485222174523,
          0.21073799951395752,
          0.21842510312658428,
          0.23127135966447057,
          0.23969435994775018,
          0.25872430635127996,
          0.2656595555435666,
          0.27725016218925025,
          0.28734679724826107,
          0.2960714326759754,
          0.30820216560600217,
          0.3175300696674585,
          0.32878368445136086,
          0.3384908134455176,
          0.3497070859255994,
          0.3624407108899064,
          0.3720593949603204,
          0.38269858983072835,
          0.39312561341264773,
          0.4033591715326134,
          0.41239757356524326,
          0.4253887806428797,
          0.43549300491609516,
          0.44674791279658216,
          0.45780309337414604,
          0.46859055684756296,
          0.4789830619174621,
          0.4896503921548525,
          0.5031889978447668,
          0.5121549483381354,
          0.5219097668576612,
          0.5318101456207918,
          0.5682382180443175,
          0.5976780703412697,
          0.6071535707044692,
          0.6179027080696364,
          0.6283229032298736,
          0.6382240064868688,
          0.6492593675151841,
          0.6599107572146331,
          0.6702097978039693,
          0.6795262945554105,
          0.692808884115551,
          0.702115081152598,
          0.7119004765266609,
          0.7222937573644339,
          0.732460308595011,
          0.7421264841936681,
          0.7580769625207715,
          0.7686945759885591,
          0.7784452308104483,
          0.7879222745730496,
          0.7980787712125937,
          0.8103713400048548,
          0.8181202356157604,
          0.8279537214652379,
          0.8391213258098016,
          0.8484868707771064,
          0.8574408634879942,
          0.8679509948273273,
          0.8780523038814564,
          0.8912648728469654,
          0.901962705458512,
          0.9118429746382537,
          0.9217732588299138,
          0.9318939325120039,
          0.9425284769142863,
          0.9533341921441225,
          0.9632764256054004,
          0.9734229040448463,
          0.9840970179289991,
          0.9924139258780302,
          1.001753396547842,
          1.0119995064720797,
          1.0210747658556545,
          1.032653074542424,
          1.0433390483549387,
          1.0541297287869404,
          1.0643372771350081,
          1.0750040609278528,
          1.0824885694526285,
          1.0927910176861093,
          1.1033787211306776,
          1.1114592995851722,
          1.124948288867903,
          1.1384909396612626,
          1.1475885272994437,
          1.157350973229041,
          1.1658360621484847,
          1.1759275318009648,
          1.1853987843892357,
          1.1965032287760522,
          1.2090312431247459,
          1.2195266603924342,
          1.2292804956969192,
          1.2398994327236295,
          1.2513461232192662,
          1.2620305903469173,
          1.2720371243419126,
          1.2824200633247607,
          1.293616795206403,
          1.3053969977630078,
          1.317132398085697,
          1.327017347429114,
          1.3372218966207623,
          1.34669329779409,
          1.3568236339143063,
          1.3668258983421206,
          1.3769976811825326,
          1.3903672481026903,
          1.4007245373009538,
          1.4180500225902746,
          1.4301600371709702,
          1.439637519981368,
          1.4734292845182293,
          1.4749342372959928,
          1.4884096971546432,
          1.5009679023606657,
          1.5109419286089805,
          1.5206103676489289,
          1.5310579238568025,
          1.5408076460180424,
          1.548857389974348,
          1.5651101930190148,
          1.5732658337445171,
          1.5836234299789194,
          1.593152312718186,
          1.6034807542625973,
          1.613797374669898,
          1.6241011108097028,
          1.6346039899928653,
          1.6450651315015048,
          1.6550495435101653,
          1.6651719018069129,
          1.677536716276027,
          1.6874913488328929,
          1.6960486844535088,
          1.7071269317685953,
          1.7179800399761915,
          1.7286160160973112,
          1.7378283924122102,
          1.7477554859090558,
          1.7579296024098932,
          1.767304156762009,
          1.7772274457006305,
          1.788270253637065,
          1.801486190023389,
          1.8111816019346856,
          1.8220400814914612,
          1.848170903425996,
          1.878630219229447,
          1.8880489216679774,
          1.8980748621107282,
          1.913373968541013,
          1.922752966247652,
          1.9328978980214364,
          1.9426977531007088,
          1.9588510741773433,
          1.9786179063444334,
          1.9900700960157098,
          2.0011991061771983,
          2.011023274980384,
          2.0208519794400286
         ],
         "yaxis": "y"
        }
       ],
       "layout": {
        "font": {
         "color": "#e1e1e1",
         "size": 8
        },
        "height": 400,
        "margin": {
         "b": 10,
         "l": 10,
         "r": 10,
         "t": 10
        },
        "paper_bgcolor": "#2c303c",
        "plot_bgcolor": "#2c303c",
        "template": {
         "data": {
          "bar": [
           {
            "error_x": {
             "color": "#2a3f5f"
            },
            "error_y": {
             "color": "#2a3f5f"
            },
            "marker": {
             "line": {
              "color": "#E5ECF6",
              "width": 0.5
             },
             "pattern": {
              "fillmode": "overlay",
              "size": 10,
              "solidity": 0.2
             }
            },
            "type": "bar"
           }
          ],
          "barpolar": [
           {
            "marker": {
             "line": {
              "color": "#E5ECF6",
              "width": 0.5
             },
             "pattern": {
              "fillmode": "overlay",
              "size": 10,
              "solidity": 0.2
             }
            },
            "type": "barpolar"
           }
          ],
          "carpet": [
           {
            "aaxis": {
             "endlinecolor": "#2a3f5f",
             "gridcolor": "white",
             "linecolor": "white",
             "minorgridcolor": "white",
             "startlinecolor": "#2a3f5f"
            },
            "baxis": {
             "endlinecolor": "#2a3f5f",
             "gridcolor": "white",
             "linecolor": "white",
             "minorgridcolor": "white",
             "startlinecolor": "#2a3f5f"
            },
            "type": "carpet"
           }
          ],
          "choropleth": [
           {
            "colorbar": {
             "outlinewidth": 0,
             "ticks": ""
            },
            "type": "choropleth"
           }
          ],
          "contour": [
           {
            "colorbar": {
             "outlinewidth": 0,
             "ticks": ""
            },
            "colorscale": [
             [
              0,
              "#0d0887"
             ],
             [
              0.1111111111111111,
              "#46039f"
             ],
             [
              0.2222222222222222,
              "#7201a8"
             ],
             [
              0.3333333333333333,
              "#9c179e"
             ],
             [
              0.4444444444444444,
              "#bd3786"
             ],
             [
              0.5555555555555556,
              "#d8576b"
             ],
             [
              0.6666666666666666,
              "#ed7953"
             ],
             [
              0.7777777777777778,
              "#fb9f3a"
             ],
             [
              0.8888888888888888,
              "#fdca26"
             ],
             [
              1,
              "#f0f921"
             ]
            ],
            "type": "contour"
           }
          ],
          "contourcarpet": [
           {
            "colorbar": {
             "outlinewidth": 0,
             "ticks": ""
            },
            "type": "contourcarpet"
           }
          ],
          "heatmap": [
           {
            "colorbar": {
             "outlinewidth": 0,
             "ticks": ""
            },
            "colorscale": [
             [
              0,
              "#0d0887"
             ],
             [
              0.1111111111111111,
              "#46039f"
             ],
             [
              0.2222222222222222,
              "#7201a8"
             ],
             [
              0.3333333333333333,
              "#9c179e"
             ],
             [
              0.4444444444444444,
              "#bd3786"
             ],
             [
              0.5555555555555556,
              "#d8576b"
             ],
             [
              0.6666666666666666,
              "#ed7953"
             ],
             [
              0.7777777777777778,
              "#fb9f3a"
             ],
             [
              0.8888888888888888,
              "#fdca26"
             ],
             [
              1,
              "#f0f921"
             ]
            ],
            "type": "heatmap"
           }
          ],
          "heatmapgl": [
           {
            "colorbar": {
             "outlinewidth": 0,
             "ticks": ""
            },
            "colorscale": [
             [
              0,
              "#0d0887"
             ],
             [
              0.1111111111111111,
              "#46039f"
             ],
             [
              0.2222222222222222,
              "#7201a8"
             ],
             [
              0.3333333333333333,
              "#9c179e"
             ],
             [
              0.4444444444444444,
              "#bd3786"
             ],
             [
              0.5555555555555556,
              "#d8576b"
             ],
             [
              0.6666666666666666,
              "#ed7953"
             ],
             [
              0.7777777777777778,
              "#fb9f3a"
             ],
             [
              0.8888888888888888,
              "#fdca26"
             ],
             [
              1,
              "#f0f921"
             ]
            ],
            "type": "heatmapgl"
           }
          ],
          "histogram": [
           {
            "marker": {
             "pattern": {
              "fillmode": "overlay",
              "size": 10,
              "solidity": 0.2
             }
            },
            "type": "histogram"
           }
          ],
          "histogram2d": [
           {
            "colorbar": {
             "outlinewidth": 0,
             "ticks": ""
            },
            "colorscale": [
             [
              0,
              "#0d0887"
             ],
             [
              0.1111111111111111,
              "#46039f"
             ],
             [
              0.2222222222222222,
              "#7201a8"
             ],
             [
              0.3333333333333333,
              "#9c179e"
             ],
             [
              0.4444444444444444,
              "#bd3786"
             ],
             [
              0.5555555555555556,
              "#d8576b"
             ],
             [
              0.6666666666666666,
              "#ed7953"
             ],
             [
              0.7777777777777778,
              "#fb9f3a"
             ],
             [
              0.8888888888888888,
              "#fdca26"
             ],
             [
              1,
              "#f0f921"
             ]
            ],
            "type": "histogram2d"
           }
          ],
          "histogram2dcontour": [
           {
            "colorbar": {
             "outlinewidth": 0,
             "ticks": ""
            },
            "colorscale": [
             [
              0,
              "#0d0887"
             ],
             [
              0.1111111111111111,
              "#46039f"
             ],
             [
              0.2222222222222222,
              "#7201a8"
             ],
             [
              0.3333333333333333,
              "#9c179e"
             ],
             [
              0.4444444444444444,
              "#bd3786"
             ],
             [
              0.5555555555555556,
              "#d8576b"
             ],
             [
              0.6666666666666666,
              "#ed7953"
             ],
             [
              0.7777777777777778,
              "#fb9f3a"
             ],
             [
              0.8888888888888888,
              "#fdca26"
             ],
             [
              1,
              "#f0f921"
             ]
            ],
            "type": "histogram2dcontour"
           }
          ],
          "mesh3d": [
           {
            "colorbar": {
             "outlinewidth": 0,
             "ticks": ""
            },
            "type": "mesh3d"
           }
          ],
          "parcoords": [
           {
            "line": {
             "colorbar": {
              "outlinewidth": 0,
              "ticks": ""
             }
            },
            "type": "parcoords"
           }
          ],
          "pie": [
           {
            "automargin": true,
            "type": "pie"
           }
          ],
          "scatter": [
           {
            "fillpattern": {
             "fillmode": "overlay",
             "size": 10,
             "solidity": 0.2
            },
            "type": "scatter"
           }
          ],
          "scatter3d": [
           {
            "line": {
             "colorbar": {
              "outlinewidth": 0,
              "ticks": ""
             }
            },
            "marker": {
             "colorbar": {
              "outlinewidth": 0,
              "ticks": ""
             }
            },
            "type": "scatter3d"
           }
          ],
          "scattercarpet": [
           {
            "marker": {
             "colorbar": {
              "outlinewidth": 0,
              "ticks": ""
             }
            },
            "type": "scattercarpet"
           }
          ],
          "scattergeo": [
           {
            "marker": {
             "colorbar": {
              "outlinewidth": 0,
              "ticks": ""
             }
            },
            "type": "scattergeo"
           }
          ],
          "scattergl": [
           {
            "marker": {
             "colorbar": {
              "outlinewidth": 0,
              "ticks": ""
             }
            },
            "type": "scattergl"
           }
          ],
          "scattermapbox": [
           {
            "marker": {
             "colorbar": {
              "outlinewidth": 0,
              "ticks": ""
             }
            },
            "type": "scattermapbox"
           }
          ],
          "scatterpolar": [
           {
            "marker": {
             "colorbar": {
              "outlinewidth": 0,
              "ticks": ""
             }
            },
            "type": "scatterpolar"
           }
          ],
          "scatterpolargl": [
           {
            "marker": {
             "colorbar": {
              "outlinewidth": 0,
              "ticks": ""
             }
            },
            "type": "scatterpolargl"
           }
          ],
          "scatterternary": [
           {
            "marker": {
             "colorbar": {
              "outlinewidth": 0,
              "ticks": ""
             }
            },
            "type": "scatterternary"
           }
          ],
          "surface": [
           {
            "colorbar": {
             "outlinewidth": 0,
             "ticks": ""
            },
            "colorscale": [
             [
              0,
              "#0d0887"
             ],
             [
              0.1111111111111111,
              "#46039f"
             ],
             [
              0.2222222222222222,
              "#7201a8"
             ],
             [
              0.3333333333333333,
              "#9c179e"
             ],
             [
              0.4444444444444444,
              "#bd3786"
             ],
             [
              0.5555555555555556,
              "#d8576b"
             ],
             [
              0.6666666666666666,
              "#ed7953"
             ],
             [
              0.7777777777777778,
              "#fb9f3a"
             ],
             [
              0.8888888888888888,
              "#fdca26"
             ],
             [
              1,
              "#f0f921"
             ]
            ],
            "type": "surface"
           }
          ],
          "table": [
           {
            "cells": {
             "fill": {
              "color": "#EBF0F8"
             },
             "line": {
              "color": "white"
             }
            },
            "header": {
             "fill": {
              "color": "#C8D4E3"
             },
             "line": {
              "color": "white"
             }
            },
            "type": "table"
           }
          ]
         },
         "layout": {
          "annotationdefaults": {
           "arrowcolor": "#2a3f5f",
           "arrowhead": 0,
           "arrowwidth": 1
          },
          "autotypenumbers": "strict",
          "coloraxis": {
           "colorbar": {
            "outlinewidth": 0,
            "ticks": ""
           }
          },
          "colorscale": {
           "diverging": [
            [
             0,
             "#8e0152"
            ],
            [
             0.1,
             "#c51b7d"
            ],
            [
             0.2,
             "#de77ae"
            ],
            [
             0.3,
             "#f1b6da"
            ],
            [
             0.4,
             "#fde0ef"
            ],
            [
             0.5,
             "#f7f7f7"
            ],
            [
             0.6,
             "#e6f5d0"
            ],
            [
             0.7,
             "#b8e186"
            ],
            [
             0.8,
             "#7fbc41"
            ],
            [
             0.9,
             "#4d9221"
            ],
            [
             1,
             "#276419"
            ]
           ],
           "sequential": [
            [
             0,
             "#0d0887"
            ],
            [
             0.1111111111111111,
             "#46039f"
            ],
            [
             0.2222222222222222,
             "#7201a8"
            ],
            [
             0.3333333333333333,
             "#9c179e"
            ],
            [
             0.4444444444444444,
             "#bd3786"
            ],
            [
             0.5555555555555556,
             "#d8576b"
            ],
            [
             0.6666666666666666,
             "#ed7953"
            ],
            [
             0.7777777777777778,
             "#fb9f3a"
            ],
            [
             0.8888888888888888,
             "#fdca26"
            ],
            [
             1,
             "#f0f921"
            ]
           ],
           "sequentialminus": [
            [
             0,
             "#0d0887"
            ],
            [
             0.1111111111111111,
             "#46039f"
            ],
            [
             0.2222222222222222,
             "#7201a8"
            ],
            [
             0.3333333333333333,
             "#9c179e"
            ],
            [
             0.4444444444444444,
             "#bd3786"
            ],
            [
             0.5555555555555556,
             "#d8576b"
            ],
            [
             0.6666666666666666,
             "#ed7953"
            ],
            [
             0.7777777777777778,
             "#fb9f3a"
            ],
            [
             0.8888888888888888,
             "#fdca26"
            ],
            [
             1,
             "#f0f921"
            ]
           ]
          },
          "colorway": [
           "#636efa",
           "#EF553B",
           "#00cc96",
           "#ab63fa",
           "#FFA15A",
           "#19d3f3",
           "#FF6692",
           "#B6E880",
           "#FF97FF",
           "#FECB52"
          ],
          "font": {
           "color": "#2a3f5f"
          },
          "geo": {
           "bgcolor": "white",
           "lakecolor": "white",
           "landcolor": "#E5ECF6",
           "showlakes": true,
           "showland": true,
           "subunitcolor": "white"
          },
          "hoverlabel": {
           "align": "left"
          },
          "hovermode": "closest",
          "mapbox": {
           "style": "light"
          },
          "paper_bgcolor": "white",
          "plot_bgcolor": "#E5ECF6",
          "polar": {
           "angularaxis": {
            "gridcolor": "white",
            "linecolor": "white",
            "ticks": ""
           },
           "bgcolor": "#E5ECF6",
           "radialaxis": {
            "gridcolor": "white",
            "linecolor": "white",
            "ticks": ""
           }
          },
          "scene": {
           "xaxis": {
            "backgroundcolor": "#E5ECF6",
            "gridcolor": "white",
            "gridwidth": 2,
            "linecolor": "white",
            "showbackground": true,
            "ticks": "",
            "zerolinecolor": "white"
           },
           "yaxis": {
            "backgroundcolor": "#E5ECF6",
            "gridcolor": "white",
            "gridwidth": 2,
            "linecolor": "white",
            "showbackground": true,
            "ticks": "",
            "zerolinecolor": "white"
           },
           "zaxis": {
            "backgroundcolor": "#E5ECF6",
            "gridcolor": "white",
            "gridwidth": 2,
            "linecolor": "white",
            "showbackground": true,
            "ticks": "",
            "zerolinecolor": "white"
           }
          },
          "shapedefaults": {
           "line": {
            "color": "#2a3f5f"
           }
          },
          "ternary": {
           "aaxis": {
            "gridcolor": "white",
            "linecolor": "white",
            "ticks": ""
           },
           "baxis": {
            "gridcolor": "white",
            "linecolor": "white",
            "ticks": ""
           },
           "bgcolor": "#E5ECF6",
           "caxis": {
            "gridcolor": "white",
            "linecolor": "white",
            "ticks": ""
           }
          },
          "title": {
           "x": 0.05
          },
          "xaxis": {
           "automargin": true,
           "gridcolor": "white",
           "linecolor": "white",
           "ticks": "",
           "title": {
            "standoff": 15
           },
           "zerolinecolor": "white",
           "zerolinewidth": 2
          },
          "yaxis": {
           "automargin": true,
           "gridcolor": "white",
           "linecolor": "white",
           "ticks": "",
           "title": {
            "standoff": 15
           },
           "zerolinecolor": "white",
           "zerolinewidth": 2
          }
         }
        },
        "width": 900,
        "xaxis": {
         "anchor": "y",
         "autorange": true,
         "domain": [
          0,
          0.94
         ],
         "gridcolor": "#1f292f",
         "nticks": 5,
         "range": [
          0,
          169
         ],
         "rangeslider": {
          "visible": false,
          "yaxis": {}
         },
         "type": "category"
        },
        "yaxis": {
         "anchor": "x",
         "autorange": true,
         "domain": [
          0,
          1
         ],
         "gridcolor": "#1f292f",
         "range": [
          -0.09874206580229342,
          2.132409560768572
         ],
         "type": "linear"
        },
        "yaxis2": {
         "anchor": "x",
         "gridcolor": "#1f292f",
         "overlaying": "y",
         "side": "right"
        }
       }
      },
      "image/png": "[encoded data removed]",
      "text/html": [
       "<div>                            <div id=\"3c1fc760-2398-40d7-a671-d0ad963a4cad\" class=\"plotly-graph-div\" style=\"height:400px; width:900px;\"></div>            <script type=\"text/javascript\">                require([\"plotly\"], function(Plotly) {                    window.PLOTLYENV=window.PLOTLYENV || {};                                    if (document.getElementById(\"3c1fc760-2398-40d7-a671-d0ad963a4cad\")) {                    Plotly.newPlot(                        \"3c1fc760-2398-40d7-a671-d0ad963a4cad\",                        [{\"line\":{\"shape\":\"spline\",\"width\":2},\"name\":\"GAIN_C\",\"x\":[\"s24-03-29 10:53\",\"s24-03-29 10:53\",\"s24-03-31 06:05\",\"s24-04-01 15:30\",\"s24-04-01 18:16\",\"s24-04-02 14:15\",\"s24-04-02 14:32\",\"s24-04-03 01:42\",\"s24-04-03 23:05\",\"s24-04-04 05:11\",\"s24-04-04 13:04\",\"s24-04-05 14:15\",\"s24-04-05 14:38\",\"s24-04-05 14:44\",\"s24-04-08 06:24\",\"s24-04-08 13:47\",\"s24-04-10 14:10\",\"s24-04-12 07:18\",\"s24-04-13 17:35\",\"s24-04-15 19:22\",\"s24-04-17 13:38\",\"s24-04-17 18:06\",\"s24-04-19 03:15\",\"s24-04-25 14:11\",\"s24-04-25 14:12\",\"s24-04-25 14:19\",\"s24-04-29 09:51\",\"s24-04-29 14:29\",\"s24-04-30 00:48\",\"s24-05-01 09:07\",\"s24-05-01 17:26\",\"s24-05-03 12:35\",\"s24-05-04 13:04\",\"s24-05-05 07:44\",\"s24-05-08 13:49\",\"s24-05-09 02:36\",\"s24-05-09 18:53\",\"s24-05-13 07:04\",\"s24-05-13 11:03\",\"s24-05-13 11:03\",\"s24-05-13 11:03\",\"s24-05-15 16:20\",\"s24-05-20 04:27\",\"s24-05-20 17:52\",\"s24-05-20 19:23\",\"s24-05-20 19:34\",\"s24-05-22 08:08\",\"s24-05-23 03:57\",\"s24-05-23 13:45\",\"s24-05-23 13:46\",\"s24-05-23 21:11\",\"s24-05-27 01:47\",\"s24-05-27 08:25\",\"s24-05-27 13:13\",\"s24-05-27 14:23\",\"s24-05-27 15:42\",\"s24-05-28 10:07\",\"s24-05-30 13:16\",\"s24-05-31 09:40\",\"s24-05-31 19:54\",\"s24-06-02 19:05\",\"s24-06-03 08:16\",\"s24-06-07 05:02\",\"s24-06-12 10:10\",\"s24-06-12 12:31\",\"s24-06-12 12:59\",\"s24-06-13 17:13\",\"s24-06-14 05:39\",\"s24-06-15 06:09\",\"s24-06-17 05:19\",\"s24-06-17 14:33\",\"s24-06-21 07:01\",\"s24-06-21 11:34\",\"s24-06-21 11:51\",\"s24-06-21 11:51\",\"s24-06-21 20:08\",\"s24-06-24 13:27\",\"s24-06-24 13:34\",\"s24-06-24 21:10\",\"s24-06-27 13:03\",\"s24-06-27 14:03\",\"s24-06-27 14:08\",\"s24-06-28 01:25\",\"s24-06-30 22:27\",\"s24-06-30 22:36\",\"s24-06-30 22:40\",\"s24-07-01 01:18\",\"s24-07-01 11:04\",\"s24-07-01 11:04\",\"s24-07-04 02:44\",\"s24-07-04 13:51\",\"s24-07-04 19:21\",\"s24-07-04 22:06\",\"s24-07-06 11:38\",\"s24-07-06 16:49\",\"s24-07-08 08:07\",\"s24-07-08 09:03\",\"s24-07-08 11:31\",\"s24-07-12 22:26\",\"s24-07-13 03:00\",\"s24-07-13 03:32\",\"s24-07-13 09:30\",\"s24-07-13 19:53\",\"s24-07-18 16:30\",\"s24-07-19 03:45\",\"s24-07-20 05:05\",\"s24-07-21 15:44\",\"s24-07-23 08:36\",\"s24-07-23 14:27\",\"s24-07-23 14:28\",\"s24-07-23 17:22\",\"s24-07-23 18:07\",\"s24-07-23 18:16\",\"s24-07-23 18:16\",\"s24-07-25 03:48\",\"s24-07-25 21:02\",\"s24-07-26 00:08\",\"s24-07-27 21:14\",\"s24-07-27 21:14\",\"s24-07-29 17:10\",\"s24-07-29 17:49\",\"s24-08-01 12:13\",\"s24-08-01 23:04\",\"s24-08-02 06:55\",\"s24-08-02 08:31\",\"s24-08-02 15:36\",\"s24-08-04 20:12\",\"s24-08-05 06:47\",\"s24-08-06 00:23\",\"s24-08-07 17:07\",\"s24-08-07 20:26\",\"s24-08-07 20:27\",\"s24-08-10 03:28\",\"s24-08-10 12:15\",\"s24-08-12 07:35\",\"s24-08-14 14:30\",\"s24-08-15 12:20\",\"s24-08-15 12:22\",\"s24-08-15 18:45\",\"s24-08-19 06:45\",\"s24-08-19 09:17\",\"s24-08-20 16:36\",\"s24-08-20 19:08\",\"s24-08-21 14:00\",\"s24-08-21 16:52\",\"s24-08-21 16:52\",\"s24-08-21 17:14\",\"s24-08-25 14:16\",\"s24-08-26 15:50\",\"s24-08-26 18:41\",\"s24-08-27 15:27\",\"s24-08-28 10:23\",\"s24-08-30 18:30\",\"s24-08-31 10:13\",\"s24-09-02 10:23\",\"s24-09-02 19:21\",\"s24-09-02 19:37\",\"s24-09-04 15:02\",\"s24-09-05 14:01\",\"s24-09-06 12:31\",\"s24-09-08 21:18\",\"s24-09-09 16:48\",\"s24-09-11 15:43\",\"s24-09-11 17:48\",\"s24-09-12 02:01\",\"s24-09-12 12:50\",\"s24-09-12 12:50\",\"s24-09-14 22:05\",\"s24-09-16 19:25\",\"s24-09-18 18:01\",\"s24-09-18 18:35\",\"s24-09-18 23:38\",\"s24-09-20 03:21\",\"s24-09-21 16:59\",\"s24-09-21 17:01\",\"s24-09-22 22:41\",\"s24-09-24 08:40\",\"s24-09-26 06:40\",\"s24-09-26 10:22\"],\"y\":[0.012815515526249864,0.024961738694777115,0.03478216550104726,0.04494478963262236,0.056677735127601034,0.06781907515636236,0.07832100463396585,0.08955177487877417,0.1004059480619994,0.11064994999280607,0.13887285333032162,0.1490197383210145,0.15952618480873532,0.16912034809063062,0.17994918318330141,0.18993463110843586,0.19993485222174523,0.21073799951395752,0.21842510312658428,0.23127135966447057,0.23969435994775018,0.25872430635127996,0.2656595555435666,0.27725016218925025,0.28734679724826107,0.2960714326759754,0.30820216560600217,0.3175300696674585,0.32878368445136086,0.3384908134455176,0.3497070859255994,0.3624407108899064,0.3720593949603204,0.38269858983072835,0.39312561341264773,0.4033591715326134,0.41239757356524326,0.4253887806428797,0.43549300491609516,0.44674791279658216,0.45780309337414604,0.46859055684756296,0.4789830619174621,0.4896503921548525,0.5031889978447668,0.5121549483381354,0.5219097668576612,0.5318101456207918,0.5682382180443175,0.5976780703412697,0.6071535707044692,0.6179027080696364,0.6283229032298736,0.6382240064868688,0.6492593675151841,0.6599107572146331,0.6702097978039693,0.6795262945554105,0.692808884115551,0.702115081152598,0.7119004765266609,0.7222937573644339,0.732460308595011,0.7421264841936681,0.7580769625207715,0.7686945759885591,0.7784452308104483,0.7879222745730496,0.7980787712125937,0.8103713400048548,0.8181202356157604,0.8279537214652379,0.8391213258098016,0.8484868707771064,0.8574408634879942,0.8679509948273273,0.8780523038814564,0.8912648728469654,0.901962705458512,0.9118429746382537,0.9217732588299138,0.9318939325120039,0.9425284769142863,0.9533341921441225,0.9632764256054004,0.9734229040448463,0.9840970179289991,0.9924139258780302,1.001753396547842,1.0119995064720797,1.0210747658556545,1.032653074542424,1.0433390483549387,1.0541297287869404,1.0643372771350081,1.0750040609278528,1.0824885694526285,1.0927910176861093,1.1033787211306776,1.1114592995851722,1.124948288867903,1.1384909396612626,1.1475885272994437,1.157350973229041,1.1658360621484847,1.1759275318009648,1.1853987843892357,1.1965032287760522,1.2090312431247459,1.2195266603924342,1.2292804956969192,1.2398994327236295,1.2513461232192662,1.2620305903469173,1.2720371243419126,1.2824200633247607,1.293616795206403,1.3053969977630078,1.317132398085697,1.327017347429114,1.3372218966207623,1.34669329779409,1.3568236339143063,1.3668258983421206,1.3769976811825326,1.3903672481026903,1.4007245373009538,1.4180500225902746,1.4301600371709702,1.439637519981368,1.4734292845182293,1.4749342372959928,1.4884096971546432,1.5009679023606657,1.5109419286089805,1.5206103676489289,1.5310579238568025,1.5408076460180424,1.548857389974348,1.5651101930190148,1.5732658337445171,1.5836234299789194,1.593152312718186,1.6034807542625973,1.613797374669898,1.6241011108097028,1.6346039899928653,1.6450651315015048,1.6550495435101653,1.6651719018069129,1.677536716276027,1.6874913488328929,1.6960486844535088,1.7071269317685953,1.7179800399761915,1.7286160160973112,1.7378283924122102,1.7477554859090558,1.7579296024098932,1.767304156762009,1.7772274457006305,1.788270253637065,1.801486190023389,1.8111816019346856,1.8220400814914612,1.848170903425996,1.878630219229447,1.8880489216679774,1.8980748621107282,1.913373968541013,1.922752966247652,1.9328978980214364,1.9426977531007088,1.9588510741773433,1.9786179063444334,1.9900700960157098,2.0011991061771983,2.011023274980384,2.0208519794400286],\"type\":\"scatter\",\"xaxis\":\"x\",\"yaxis\":\"y\"}],                        {\"template\":{\"data\":{\"histogram2dcontour\":[{\"type\":\"histogram2dcontour\",\"colorbar\":{\"outlinewidth\":0,\"ticks\":\"\"},\"colorscale\":[[0.0,\"#0d0887\"],[0.1111111111111111,\"#46039f\"],[0.2222222222222222,\"#7201a8\"],[0.3333333333333333,\"#9c179e\"],[0.4444444444444444,\"#bd3786\"],[0.5555555555555556,\"#d8576b\"],[0.6666666666666666,\"#ed7953\"],[0.7777777777777778,\"#fb9f3a\"],[0.8888888888888888,\"#fdca26\"],[1.0,\"#f0f921\"]]}],\"choropleth\":[{\"type\":\"choropleth\",\"colorbar\":{\"outlinewidth\":0,\"ticks\":\"\"}}],\"histogram2d\":[{\"type\":\"histogram2d\",\"colorbar\":{\"outlinewidth\":0,\"ticks\":\"\"},\"colorscale\":[[0.0,\"#0d0887\"],[0.1111111111111111,\"#46039f\"],[0.2222222222222222,\"#7201a8\"],[0.3333333333333333,\"#9c179e\"],[0.4444444444444444,\"#bd3786\"],[0.5555555555555556,\"#d8576b\"],[0.6666666666666666,\"#ed7953\"],[0.7777777777777778,\"#fb9f3a\"],[0.8888888888888888,\"#fdca26\"],[1.0,\"#f0f921\"]]}],\"heatmap\":[{\"type\":\"heatmap\",\"colorbar\":{\"outlinewidth\":0,\"ticks\":\"\"},\"colorscale\":[[0.0,\"#0d0887\"],[0.1111111111111111,\"#46039f\"],[0.2222222222222222,\"#7201a8\"],[0.3333333333333333,\"#9c179e\"],[0.4444444444444444,\"#bd3786\"],[0.5555555555555556,\"#d8576b\"],[0.6666666666666666,\"#ed7953\"],[0.7777777777777778,\"#fb9f3a\"],[0.8888888888888888,\"#fdca26\"],[1.0,\"#f0f921\"]]}],\"heatmapgl\":[{\"type\":\"heatmapgl\",\"colorbar\":{\"outlinewidth\":0,\"ticks\":\"\"},\"colorscale\":[[0.0,\"#0d0887\"],[0.1111111111111111,\"#46039f\"],[0.2222222222222222,\"#7201a8\"],[0.3333333333333333,\"#9c179e\"],[0.4444444444444444,\"#bd3786\"],[0.5555555555555556,\"#d8576b\"],[0.6666666666666666,\"#ed7953\"],[0.7777777777777778,\"#fb9f3a\"],[0.8888888888888888,\"#fdca26\"],[1.0,\"#f0f921\"]]}],\"contourcarpet\":[{\"type\":\"contourcarpet\",\"colorbar\":{\"outlinewidth\":0,\"ticks\":\"\"}}],\"contour\":[{\"type\":\"contour\",\"colorbar\":{\"outlinewidth\":0,\"ticks\":\"\"},\"colorscale\":[[0.0,\"#0d0887\"],[0.1111111111111111,\"#46039f\"],[0.2222222222222222,\"#7201a8\"],[0.3333333333333333,\"#9c179e\"],[0.4444444444444444,\"#bd3786\"],[0.5555555555555556,\"#d8576b\"],[0.6666666666666666,\"#ed7953\"],[0.7777777777777778,\"#fb9f3a\"],[0.8888888888888888,\"#fdca26\"],[1.0,\"#f0f921\"]]}],\"surface\":[{\"type\":\"surface\",\"colorbar\":{\"outlinewidth\":0,\"ticks\":\"\"},\"colorscale\":[[0.0,\"#0d0887\"],[0.1111111111111111,\"#46039f\"],[0.2222222222222222,\"#7201a8\"],[0.3333333333333333,\"#9c179e\"],[0.4444444444444444,\"#bd3786\"],[0.5555555555555556,\"#d8576b\"],[0.6666666666666666,\"#ed7953\"],[0.7777777777777778,\"#fb9f3a\"],[0.8888888888888888,\"#fdca26\"],[1.0,\"#f0f921\"]]}],\"mesh3d\":[{\"type\":\"mesh3d\",\"colorbar\":{\"outlinewidth\":0,\"ticks\":\"\"}}],\"scatter\":[{\"fillpattern\":{\"fillmode\":\"overlay\",\"size\":10,\"solidity\":0.2},\"type\":\"scatter\"}],\"parcoords\":[{\"type\":\"parcoords\",\"line\":{\"colorbar\":{\"outlinewidth\":0,\"ticks\":\"\"}}}],\"scatterpolargl\":[{\"type\":\"scatterpolargl\",\"marker\":{\"colorbar\":{\"outlinewidth\":0,\"ticks\":\"\"}}}],\"bar\":[{\"error_x\":{\"color\":\"#2a3f5f\"},\"error_y\":{\"color\":\"#2a3f5f\"},\"marker\":{\"line\":{\"color\":\"#E5ECF6\",\"width\":0.5},\"pattern\":{\"fillmode\":\"overlay\",\"size\":10,\"solidity\":0.2}},\"type\":\"bar\"}],\"scattergeo\":[{\"type\":\"scattergeo\",\"marker\":{\"colorbar\":{\"outlinewidth\":0,\"ticks\":\"\"}}}],\"scatterpolar\":[{\"type\":\"scatterpolar\",\"marker\":{\"colorbar\":{\"outlinewidth\":0,\"ticks\":\"\"}}}],\"histogram\":[{\"marker\":{\"pattern\":{\"fillmode\":\"overlay\",\"size\":10,\"solidity\":0.2}},\"type\":\"histogram\"}],\"scattergl\":[{\"type\":\"scattergl\",\"marker\":{\"colorbar\":{\"outlinewidth\":0,\"ticks\":\"\"}}}],\"scatter3d\":[{\"type\":\"scatter3d\",\"line\":{\"colorbar\":{\"outlinewidth\":0,\"ticks\":\"\"}},\"marker\":{\"colorbar\":{\"outlinewidth\":0,\"ticks\":\"\"}}}],\"scattermapbox\":[{\"type\":\"scattermapbox\",\"marker\":{\"colorbar\":{\"outlinewidth\":0,\"ticks\":\"\"}}}],\"scatterternary\":[{\"type\":\"scatterternary\",\"marker\":{\"colorbar\":{\"outlinewidth\":0,\"ticks\":\"\"}}}],\"scattercarpet\":[{\"type\":\"scattercarpet\",\"marker\":{\"colorbar\":{\"outlinewidth\":0,\"ticks\":\"\"}}}],\"carpet\":[{\"aaxis\":{\"endlinecolor\":\"#2a3f5f\",\"gridcolor\":\"white\",\"linecolor\":\"white\",\"minorgridcolor\":\"white\",\"startlinecolor\":\"#2a3f5f\"},\"baxis\":{\"endlinecolor\":\"#2a3f5f\",\"gridcolor\":\"white\",\"linecolor\":\"white\",\"minorgridcolor\":\"white\",\"startlinecolor\":\"#2a3f5f\"},\"type\":\"carpet\"}],\"table\":[{\"cells\":{\"fill\":{\"color\":\"#EBF0F8\"},\"line\":{\"color\":\"white\"}},\"header\":{\"fill\":{\"color\":\"#C8D4E3\"},\"line\":{\"color\":\"white\"}},\"type\":\"table\"}],\"barpolar\":[{\"marker\":{\"line\":{\"color\":\"#E5ECF6\",\"width\":0.5},\"pattern\":{\"fillmode\":\"overlay\",\"size\":10,\"solidity\":0.2}},\"type\":\"barpolar\"}],\"pie\":[{\"automargin\":true,\"type\":\"pie\"}]},\"layout\":{\"autotypenumbers\":\"strict\",\"colorway\":[\"#636efa\",\"#EF553B\",\"#00cc96\",\"#ab63fa\",\"#FFA15A\",\"#19d3f3\",\"#FF6692\",\"#B6E880\",\"#FF97FF\",\"#FECB52\"],\"font\":{\"color\":\"#2a3f5f\"},\"hovermode\":\"closest\",\"hoverlabel\":{\"align\":\"left\"},\"paper_bgcolor\":\"white\",\"plot_bgcolor\":\"#E5ECF6\",\"polar\":{\"bgcolor\":\"#E5ECF6\",\"angularaxis\":{\"gridcolor\":\"white\",\"linecolor\":\"white\",\"ticks\":\"\"},\"radialaxis\":{\"gridcolor\":\"white\",\"linecolor\":\"white\",\"ticks\":\"\"}},\"ternary\":{\"bgcolor\":\"#E5ECF6\",\"aaxis\":{\"gridcolor\":\"white\",\"linecolor\":\"white\",\"ticks\":\"\"},\"baxis\":{\"gridcolor\":\"white\",\"linecolor\":\"white\",\"ticks\":\"\"},\"caxis\":{\"gridcolor\":\"white\",\"linecolor\":\"white\",\"ticks\":\"\"}},\"coloraxis\":{\"colorbar\":{\"outlinewidth\":0,\"ticks\":\"\"}},\"colorscale\":{\"sequential\":[[0.0,\"#0d0887\"],[0.1111111111111111,\"#46039f\"],[0.2222222222222222,\"#7201a8\"],[0.3333333333333333,\"#9c179e\"],[0.4444444444444444,\"#bd3786\"],[0.5555555555555556,\"#d8576b\"],[0.6666666666666666,\"#ed7953\"],[0.7777777777777778,\"#fb9f3a\"],[0.8888888888888888,\"#fdca26\"],[1.0,\"#f0f921\"]],\"sequentialminus\":[[0.0,\"#0d0887\"],[0.1111111111111111,\"#46039f\"],[0.2222222222222222,\"#7201a8\"],[0.3333333333333333,\"#9c179e\"],[0.4444444444444444,\"#bd3786\"],[0.5555555555555556,\"#d8576b\"],[0.6666666666666666,\"#ed7953\"],[0.7777777777777778,\"#fb9f3a\"],[0.8888888888888888,\"#fdca26\"],[1.0,\"#f0f921\"]],\"diverging\":[[0,\"#8e0152\"],[0.1,\"#c51b7d\"],[0.2,\"#de77ae\"],[0.3,\"#f1b6da\"],[0.4,\"#fde0ef\"],[0.5,\"#f7f7f7\"],[0.6,\"#e6f5d0\"],[0.7,\"#b8e186\"],[0.8,\"#7fbc41\"],[0.9,\"#4d9221\"],[1,\"#276419\"]]},\"xaxis\":{\"gridcolor\":\"white\",\"linecolor\":\"white\",\"ticks\":\"\",\"title\":{\"standoff\":15},\"zerolinecolor\":\"white\",\"automargin\":true,\"zerolinewidth\":2},\"yaxis\":{\"gridcolor\":\"white\",\"linecolor\":\"white\",\"ticks\":\"\",\"title\":{\"standoff\":15},\"zerolinecolor\":\"white\",\"automargin\":true,\"zerolinewidth\":2},\"scene\":{\"xaxis\":{\"backgroundcolor\":\"#E5ECF6\",\"gridcolor\":\"white\",\"linecolor\":\"white\",\"showbackground\":true,\"ticks\":\"\",\"zerolinecolor\":\"white\",\"gridwidth\":2},\"yaxis\":{\"backgroundcolor\":\"#E5ECF6\",\"gridcolor\":\"white\",\"linecolor\":\"white\",\"showbackground\":true,\"ticks\":\"\",\"zerolinecolor\":\"white\",\"gridwidth\":2},\"zaxis\":{\"backgroundcolor\":\"#E5ECF6\",\"gridcolor\":\"white\",\"linecolor\":\"white\",\"showbackground\":true,\"ticks\":\"\",\"zerolinecolor\":\"white\",\"gridwidth\":2}},\"shapedefaults\":{\"line\":{\"color\":\"#2a3f5f\"}},\"annotationdefaults\":{\"arrowcolor\":\"#2a3f5f\",\"arrowhead\":0,\"arrowwidth\":1},\"geo\":{\"bgcolor\":\"white\",\"landcolor\":\"#E5ECF6\",\"subunitcolor\":\"white\",\"showland\":true,\"showlakes\":true,\"lakecolor\":\"white\"},\"title\":{\"x\":0.05},\"mapbox\":{\"style\":\"light\"}}},\"xaxis\":{\"anchor\":\"y\",\"domain\":[0.0,0.94],\"rangeslider\":{\"visible\":false},\"gridcolor\":\"#1f292f\",\"nticks\":5},\"yaxis\":{\"anchor\":\"x\",\"domain\":[0.0,1.0],\"gridcolor\":\"#1f292f\"},\"yaxis2\":{\"anchor\":\"x\",\"overlaying\":\"y\",\"side\":\"right\",\"gridcolor\":\"#1f292f\"},\"margin\":{\"l\":10,\"r\":10,\"b\":10,\"t\":10},\"font\":{\"size\":8,\"color\":\"#e1e1e1\"},\"width\":900,\"height\":400,\"paper_bgcolor\":\"#2c303c\",\"plot_bgcolor\":\"#2c303c\"},                        {\"responsive\": true}                    ).then(function(){\n",
       "                            \n",
       "var gd = document.getElementById('3c1fc760-2398-40d7-a671-d0ad963a4cad');\n",
       "var x = new MutationObserver(function (mutations, observer) {{\n",
       "        var display = window.getComputedStyle(gd).display;\n",
       "        if (!display || display === 'none') {{\n",
       "            console.log([gd, 'removed!']);\n",
       "            Plotly.purge(gd);\n",
       "            observer.disconnect();\n",
       "        }}\n",
       "}});\n",
       "\n",
       "// Listen for the removal of the full notebook cells\n",
       "var notebookContainer = gd.closest('#notebook-container');\n",
       "if (notebookContainer) {{\n",
       "    x.observe(notebookContainer, {childList: true});\n",
       "}}\n",
       "\n",
       "// Listen for the clearing of the current output cell\n",
       "var outputEl = gd.closest('.output');\n",
       "if (outputEl) {{\n",
       "    x.observe(outputEl, {childList: true});\n",
       "}}\n",
       "\n",
       "                        })                };                });            </script>        </div>"
      ]
     },
     "metadata": {},
     "output_type": "display_data"
    },
    {
     "name": "stdout",
     "output_type": "stream",
     "text": [
      "LTCUSDT 95.4 66.82 -0.4277162526189766\n"
     ]
    },
    {
     "data": {
      "application/vnd.plotly.v1+json": {
       "config": {
        "plotlyServerURL": "https://plot.ly"
       },
       "data": [
        {
         "line": {
          "shape": "spline",
          "width": 2
         },
         "name": "GAIN_C",
         "type": "scatter",
         "x": [
          "s24-03-29 03:33",
          "s24-03-31 15:20",
          "s24-03-31 20:05",
          "s24-04-02 08:12",
          "s24-04-04 05:47",
          "s24-04-05 08:32",
          "s24-04-05 14:14",
          "s24-04-08 08:08",
          "s24-04-10 16:57",
          "s24-04-11 17:20",
          "s24-04-11 20:23",
          "s24-04-13 22:42",
          "s24-04-16 07:14",
          "s24-04-17 17:56",
          "s24-04-19 04:06",
          "s24-04-20 17:31",
          "s24-04-21 21:03",
          "s24-04-23 19:59",
          "s24-04-25 17:55",
          "s24-04-26 03:06",
          "s24-04-29 01:31",
          "s24-04-29 23:23",
          "s24-05-01 12:09",
          "s24-05-01 18:45",
          "s24-05-03 12:35",
          "s24-05-06 05:29",
          "s24-05-06 07:07",
          "s24-05-07 14:10",
          "s24-05-08 13:28",
          "s24-05-11 12:18",
          "s24-05-13 07:03",
          "s24-05-15 13:30",
          "s24-05-15 21:22",
          "s24-05-20 02:43",
          "s24-05-20 04:43",
          "s24-05-20 19:23",
          "s24-05-20 19:24",
          "s24-05-22 15:27",
          "s24-05-23 00:41",
          "s24-05-23 13:31",
          "s24-05-27 08:27",
          "s24-05-27 15:37",
          "s24-05-30 13:13",
          "s24-06-03 02:18",
          "s24-06-03 02:20",
          "s24-06-04 17:56",
          "s24-06-05 01:26",
          "s24-06-11 07:59",
          "s24-06-12 12:55",
          "s24-06-14 13:25",
          "s24-06-15 06:46",
          "s24-06-19 02:05",
          "s24-06-21 18:59",
          "s24-06-25 03:07",
          "s24-06-27 11:50",
          "s24-06-29 06:57",
          "s24-06-29 13:44",
          "s24-06-29 13:46",
          "s24-07-01 01:13",
          "s24-07-02 09:26",
          "s24-07-02 21:34",
          "s24-07-03 16:45",
          "s24-07-05 15:44",
          "s24-07-08 04:57",
          "s24-07-08 08:26",
          "s24-07-15 00:33",
          "s24-07-15 02:33",
          "s24-07-19 15:22",
          "s24-07-19 15:22",
          "s24-07-19 16:23",
          "s24-07-21 10:06",
          "s24-07-23 14:28",
          "s24-07-24 00:11",
          "s24-07-26 02:31",
          "s24-07-28 11:46",
          "s24-07-28 18:43",
          "s24-07-29 02:41",
          "s24-08-01 21:40",
          "s24-08-03 05:48",
          "s24-08-04 19:16",
          "s24-08-05 14:41",
          "s24-08-08 02:01",
          "s24-08-10 00:12",
          "s24-08-11 17:50",
          "s24-08-12 05:19",
          "s24-08-16 00:11",
          "s24-08-19 09:31",
          "s24-08-21 19:37",
          "s24-08-23 15:49",
          "s24-08-24 10:45",
          "s24-08-24 16:12",
          "s24-08-27 18:22",
          "s24-08-28 09:34",
          "s24-08-28 18:59",
          "s24-08-29 22:19",
          "s24-08-30 19:53",
          "s24-08-30 21:28",
          "s24-08-30 21:31",
          "s24-08-31 01:51",
          "s24-09-02 12:26",
          "s24-09-02 12:31",
          "s24-09-02 20:13",
          "s24-09-03 20:09",
          "s24-09-05 01:30",
          "s24-09-05 20:28",
          "s24-09-07 02:35",
          "s24-09-09 19:34",
          "s24-09-09 21:16",
          "s24-09-11 15:44",
          "s24-09-17 04:53",
          "s24-09-17 15:21",
          "s24-09-18 17:32",
          "s24-09-20 04:00",
          "s24-09-20 20:00",
          "s24-09-22 23:10",
          "s24-09-23 01:57",
          "s24-09-23 16:07",
          "s24-09-25 01:40",
          "s24-09-25 15:21",
          "s24-09-26 05:42",
          "s24-09-27 12:43",
          "s24-09-29 15:05"
         ],
         "xaxis": "x",
         "y": [
          0.010276380318942457,
          0.025175473026389297,
          0.04239441001874188,
          0.05428321938596428,
          0.0647560641039778,
          0.07574621394278228,
          0.08668737978987737,
          0.09721248579357507,
          0.10734519478010841,
          0.1162906456591895,
          0.12918704446151774,
          0.1378328430354314,
          0.14721071421322723,
          0.1585107563670483,
          0.16764800034750132,
          0.18267738864240607,
          0.1940926433331322,
          0.20875449423417866,
          0.2184830810118685,
          0.2333076287018466,
          0.2416215739070394,
          0.2514803214312609,
          0.26123246081874607,
          0.2693455183774338,
          0.2810460414682589,
          0.29088593535163443,
          0.30038830052785226,
          0.30974698154553315,
          0.3208854679522954,
          0.33126861792615564,
          0.3429751791412843,
          0.3522416646655996,
          0.36199776294649566,
          0.37199772825680333,
          0.3831095355434987,
          0.3966478983850732,
          0.40942838208299637,
          0.41916213190100576,
          0.4286958180139381,
          0.4389090752561733,
          0.4493704000799969,
          0.4595602369746942,
          0.46961656265972107,
          0.48036535905094124,
          0.49017995307121265,
          0.5000034822609306,
          0.5104678420976779,
          0.5209046613278219,
          0.5303969075724865,
          0.5410756870773957,
          0.5523460737004892,
          0.5635520082394483,
          0.5735231380862748,
          0.585541826261136,
          0.5959697573569704,
          0.6063182069389638,
          0.6182617366339637,
          0.6302821413726705,
          0.6394550201435167,
          0.6491163429770377,
          0.6610388827965483,
          0.6710033251312552,
          0.6785840882472802,
          0.6891197056258046,
          0.6988560522197068,
          0.7089039829469387,
          0.7201885413050256,
          0.7301323515928037,
          0.7400854043544729,
          0.7523486974602964,
          0.7630047174952833,
          0.772510857603376,
          0.7817042566505357,
          0.7898366775125366,
          0.8003548537285524,
          0.8097662841324268,
          0.8207063614504186,
          0.8287541611507534,
          0.8385941980105435,
          0.8496374748483579,
          0.8621797681075679,
          0.8729400972562162,
          0.8829307590773372,
          0.8952274780998717,
          0.9043649171823192,
          0.916546126155772,
          0.9269954252819538,
          0.9374056168581232,
          0.9472823667528446,
          0.9573967331402479,
          0.9682047308856389,
          0.9783400334637328,
          0.9880607894792706,
          0.9997417979549893,
          1.0105933999762864,
          1.0241859354759735,
          1.0359178567155616,
          1.0489441409310365,
          1.0596502172196691,
          1.0704899979190106,
          1.0803717386644758,
          1.0902756509422158,
          1.1025037563131381,
          1.113441143850004,
          1.1226243373151827,
          1.1325370451453771,
          1.1411502026218396,
          1.1538465793414323,
          1.1638127046158109,
          1.1735364510339978,
          1.1839461737804187,
          1.1945588889940941,
          1.2059919594515884,
          1.2143957508001342,
          1.226373869388899,
          1.2372848360522486,
          1.2478467407537899,
          1.2586797560911807,
          1.2694051891835334,
          1.2795972489095528,
          1.289508766912325,
          1.2999077149150569
         ],
         "yaxis": "y"
        }
       ],
       "layout": {
        "font": {
         "color": "#e1e1e1",
         "size": 8
        },
        "height": 400,
        "margin": {
         "b": 10,
         "l": 10,
         "r": 10,
         "t": 10
        },
        "paper_bgcolor": "#2c303c",
        "plot_bgcolor": "#2c303c",
        "template": {
         "data": {
          "bar": [
           {
            "error_x": {
             "color": "#2a3f5f"
            },
            "error_y": {
             "color": "#2a3f5f"
            },
            "marker": {
             "line": {
              "color": "#E5ECF6",
              "width": 0.5
             },
             "pattern": {
              "fillmode": "overlay",
              "size": 10,
              "solidity": 0.2
             }
            },
            "type": "bar"
           }
          ],
          "barpolar": [
           {
            "marker": {
             "line": {
              "color": "#E5ECF6",
              "width": 0.5
             },
             "pattern": {
              "fillmode": "overlay",
              "size": 10,
              "solidity": 0.2
             }
            },
            "type": "barpolar"
           }
          ],
          "carpet": [
           {
            "aaxis": {
             "endlinecolor": "#2a3f5f",
             "gridcolor": "white",
             "linecolor": "white",
             "minorgridcolor": "white",
             "startlinecolor": "#2a3f5f"
            },
            "baxis": {
             "endlinecolor": "#2a3f5f",
             "gridcolor": "white",
             "linecolor": "white",
             "minorgridcolor": "white",
             "startlinecolor": "#2a3f5f"
            },
            "type": "carpet"
           }
          ],
          "choropleth": [
           {
            "colorbar": {
             "outlinewidth": 0,
             "ticks": ""
            },
            "type": "choropleth"
           }
          ],
          "contour": [
           {
            "colorbar": {
             "outlinewidth": 0,
             "ticks": ""
            },
            "colorscale": [
             [
              0,
              "#0d0887"
             ],
             [
              0.1111111111111111,
              "#46039f"
             ],
             [
              0.2222222222222222,
              "#7201a8"
             ],
             [
              0.3333333333333333,
              "#9c179e"
             ],
             [
              0.4444444444444444,
              "#bd3786"
             ],
             [
              0.5555555555555556,
              "#d8576b"
             ],
             [
              0.6666666666666666,
              "#ed7953"
             ],
             [
              0.7777777777777778,
              "#fb9f3a"
             ],
             [
              0.8888888888888888,
              "#fdca26"
             ],
             [
              1,
              "#f0f921"
             ]
            ],
            "type": "contour"
           }
          ],
          "contourcarpet": [
           {
            "colorbar": {
             "outlinewidth": 0,
             "ticks": ""
            },
            "type": "contourcarpet"
           }
          ],
          "heatmap": [
           {
            "colorbar": {
             "outlinewidth": 0,
             "ticks": ""
            },
            "colorscale": [
             [
              0,
              "#0d0887"
             ],
             [
              0.1111111111111111,
              "#46039f"
             ],
             [
              0.2222222222222222,
              "#7201a8"
             ],
             [
              0.3333333333333333,
              "#9c179e"
             ],
             [
              0.4444444444444444,
              "#bd3786"
             ],
             [
              0.5555555555555556,
              "#d8576b"
             ],
             [
              0.6666666666666666,
              "#ed7953"
             ],
             [
              0.7777777777777778,
              "#fb9f3a"
             ],
             [
              0.8888888888888888,
              "#fdca26"
             ],
             [
              1,
              "#f0f921"
             ]
            ],
            "type": "heatmap"
           }
          ],
          "heatmapgl": [
           {
            "colorbar": {
             "outlinewidth": 0,
             "ticks": ""
            },
            "colorscale": [
             [
              0,
              "#0d0887"
             ],
             [
              0.1111111111111111,
              "#46039f"
             ],
             [
              0.2222222222222222,
              "#7201a8"
             ],
             [
              0.3333333333333333,
              "#9c179e"
             ],
             [
              0.4444444444444444,
              "#bd3786"
             ],
             [
              0.5555555555555556,
              "#d8576b"
             ],
             [
              0.6666666666666666,
              "#ed7953"
             ],
             [
              0.7777777777777778,
              "#fb9f3a"
             ],
             [
              0.8888888888888888,
              "#fdca26"
             ],
             [
              1,
              "#f0f921"
             ]
            ],
            "type": "heatmapgl"
           }
          ],
          "histogram": [
           {
            "marker": {
             "pattern": {
              "fillmode": "overlay",
              "size": 10,
              "solidity": 0.2
             }
            },
            "type": "histogram"
           }
          ],
          "histogram2d": [
           {
            "colorbar": {
             "outlinewidth": 0,
             "ticks": ""
            },
            "colorscale": [
             [
              0,
              "#0d0887"
             ],
             [
              0.1111111111111111,
              "#46039f"
             ],
             [
              0.2222222222222222,
              "#7201a8"
             ],
             [
              0.3333333333333333,
              "#9c179e"
             ],
             [
              0.4444444444444444,
              "#bd3786"
             ],
             [
              0.5555555555555556,
              "#d8576b"
             ],
             [
              0.6666666666666666,
              "#ed7953"
             ],
             [
              0.7777777777777778,
              "#fb9f3a"
             ],
             [
              0.8888888888888888,
              "#fdca26"
             ],
             [
              1,
              "#f0f921"
             ]
            ],
            "type": "histogram2d"
           }
          ],
          "histogram2dcontour": [
           {
            "colorbar": {
             "outlinewidth": 0,
             "ticks": ""
            },
            "colorscale": [
             [
              0,
              "#0d0887"
             ],
             [
              0.1111111111111111,
              "#46039f"
             ],
             [
              0.2222222222222222,
              "#7201a8"
             ],
             [
              0.3333333333333333,
              "#9c179e"
             ],
             [
              0.4444444444444444,
              "#bd3786"
             ],
             [
              0.5555555555555556,
              "#d8576b"
             ],
             [
              0.6666666666666666,
              "#ed7953"
             ],
             [
              0.7777777777777778,
              "#fb9f3a"
             ],
             [
              0.8888888888888888,
              "#fdca26"
             ],
             [
              1,
              "#f0f921"
             ]
            ],
            "type": "histogram2dcontour"
           }
          ],
          "mesh3d": [
           {
            "colorbar": {
             "outlinewidth": 0,
             "ticks": ""
            },
            "type": "mesh3d"
           }
          ],
          "parcoords": [
           {
            "line": {
             "colorbar": {
              "outlinewidth": 0,
              "ticks": ""
             }
            },
            "type": "parcoords"
           }
          ],
          "pie": [
           {
            "automargin": true,
            "type": "pie"
           }
          ],
          "scatter": [
           {
            "fillpattern": {
             "fillmode": "overlay",
             "size": 10,
             "solidity": 0.2
            },
            "type": "scatter"
           }
          ],
          "scatter3d": [
           {
            "line": {
             "colorbar": {
              "outlinewidth": 0,
              "ticks": ""
             }
            },
            "marker": {
             "colorbar": {
              "outlinewidth": 0,
              "ticks": ""
             }
            },
            "type": "scatter3d"
           }
          ],
          "scattercarpet": [
           {
            "marker": {
             "colorbar": {
              "outlinewidth": 0,
              "ticks": ""
             }
            },
            "type": "scattercarpet"
           }
          ],
          "scattergeo": [
           {
            "marker": {
             "colorbar": {
              "outlinewidth": 0,
              "ticks": ""
             }
            },
            "type": "scattergeo"
           }
          ],
          "scattergl": [
           {
            "marker": {
             "colorbar": {
              "outlinewidth": 0,
              "ticks": ""
             }
            },
            "type": "scattergl"
           }
          ],
          "scattermapbox": [
           {
            "marker": {
             "colorbar": {
              "outlinewidth": 0,
              "ticks": ""
             }
            },
            "type": "scattermapbox"
           }
          ],
          "scatterpolar": [
           {
            "marker": {
             "colorbar": {
              "outlinewidth": 0,
              "ticks": ""
             }
            },
            "type": "scatterpolar"
           }
          ],
          "scatterpolargl": [
           {
            "marker": {
             "colorbar": {
              "outlinewidth": 0,
              "ticks": ""
             }
            },
            "type": "scatterpolargl"
           }
          ],
          "scatterternary": [
           {
            "marker": {
             "colorbar": {
              "outlinewidth": 0,
              "ticks": ""
             }
            },
            "type": "scatterternary"
           }
          ],
          "surface": [
           {
            "colorbar": {
             "outlinewidth": 0,
             "ticks": ""
            },
            "colorscale": [
             [
              0,
              "#0d0887"
             ],
             [
              0.1111111111111111,
              "#46039f"
             ],
             [
              0.2222222222222222,
              "#7201a8"
             ],
             [
              0.3333333333333333,
              "#9c179e"
             ],
             [
              0.4444444444444444,
              "#bd3786"
             ],
             [
              0.5555555555555556,
              "#d8576b"
             ],
             [
              0.6666666666666666,
              "#ed7953"
             ],
             [
              0.7777777777777778,
              "#fb9f3a"
             ],
             [
              0.8888888888888888,
              "#fdca26"
             ],
             [
              1,
              "#f0f921"
             ]
            ],
            "type": "surface"
           }
          ],
          "table": [
           {
            "cells": {
             "fill": {
              "color": "#EBF0F8"
             },
             "line": {
              "color": "white"
             }
            },
            "header": {
             "fill": {
              "color": "#C8D4E3"
             },
             "line": {
              "color": "white"
             }
            },
            "type": "table"
           }
          ]
         },
         "layout": {
          "annotationdefaults": {
           "arrowcolor": "#2a3f5f",
           "arrowhead": 0,
           "arrowwidth": 1
          },
          "autotypenumbers": "strict",
          "coloraxis": {
           "colorbar": {
            "outlinewidth": 0,
            "ticks": ""
           }
          },
          "colorscale": {
           "diverging": [
            [
             0,
             "#8e0152"
            ],
            [
             0.1,
             "#c51b7d"
            ],
            [
             0.2,
             "#de77ae"
            ],
            [
             0.3,
             "#f1b6da"
            ],
            [
             0.4,
             "#fde0ef"
            ],
            [
             0.5,
             "#f7f7f7"
            ],
            [
             0.6,
             "#e6f5d0"
            ],
            [
             0.7,
             "#b8e186"
            ],
            [
             0.8,
             "#7fbc41"
            ],
            [
             0.9,
             "#4d9221"
            ],
            [
             1,
             "#276419"
            ]
           ],
           "sequential": [
            [
             0,
             "#0d0887"
            ],
            [
             0.1111111111111111,
             "#46039f"
            ],
            [
             0.2222222222222222,
             "#7201a8"
            ],
            [
             0.3333333333333333,
             "#9c179e"
            ],
            [
             0.4444444444444444,
             "#bd3786"
            ],
            [
             0.5555555555555556,
             "#d8576b"
            ],
            [
             0.6666666666666666,
             "#ed7953"
            ],
            [
             0.7777777777777778,
             "#fb9f3a"
            ],
            [
             0.8888888888888888,
             "#fdca26"
            ],
            [
             1,
             "#f0f921"
            ]
           ],
           "sequentialminus": [
            [
             0,
             "#0d0887"
            ],
            [
             0.1111111111111111,
             "#46039f"
            ],
            [
             0.2222222222222222,
             "#7201a8"
            ],
            [
             0.3333333333333333,
             "#9c179e"
            ],
            [
             0.4444444444444444,
             "#bd3786"
            ],
            [
             0.5555555555555556,
             "#d8576b"
            ],
            [
             0.6666666666666666,
             "#ed7953"
            ],
            [
             0.7777777777777778,
             "#fb9f3a"
            ],
            [
             0.8888888888888888,
             "#fdca26"
            ],
            [
             1,
             "#f0f921"
            ]
           ]
          },
          "colorway": [
           "#636efa",
           "#EF553B",
           "#00cc96",
           "#ab63fa",
           "#FFA15A",
           "#19d3f3",
           "#FF6692",
           "#B6E880",
           "#FF97FF",
           "#FECB52"
          ],
          "font": {
           "color": "#2a3f5f"
          },
          "geo": {
           "bgcolor": "white",
           "lakecolor": "white",
           "landcolor": "#E5ECF6",
           "showlakes": true,
           "showland": true,
           "subunitcolor": "white"
          },
          "hoverlabel": {
           "align": "left"
          },
          "hovermode": "closest",
          "mapbox": {
           "style": "light"
          },
          "paper_bgcolor": "white",
          "plot_bgcolor": "#E5ECF6",
          "polar": {
           "angularaxis": {
            "gridcolor": "white",
            "linecolor": "white",
            "ticks": ""
           },
           "bgcolor": "#E5ECF6",
           "radialaxis": {
            "gridcolor": "white",
            "linecolor": "white",
            "ticks": ""
           }
          },
          "scene": {
           "xaxis": {
            "backgroundcolor": "#E5ECF6",
            "gridcolor": "white",
            "gridwidth": 2,
            "linecolor": "white",
            "showbackground": true,
            "ticks": "",
            "zerolinecolor": "white"
           },
           "yaxis": {
            "backgroundcolor": "#E5ECF6",
            "gridcolor": "white",
            "gridwidth": 2,
            "linecolor": "white",
            "showbackground": true,
            "ticks": "",
            "zerolinecolor": "white"
           },
           "zaxis": {
            "backgroundcolor": "#E5ECF6",
            "gridcolor": "white",
            "gridwidth": 2,
            "linecolor": "white",
            "showbackground": true,
            "ticks": "",
            "zerolinecolor": "white"
           }
          },
          "shapedefaults": {
           "line": {
            "color": "#2a3f5f"
           }
          },
          "ternary": {
           "aaxis": {
            "gridcolor": "white",
            "linecolor": "white",
            "ticks": ""
           },
           "baxis": {
            "gridcolor": "white",
            "linecolor": "white",
            "ticks": ""
           },
           "bgcolor": "#E5ECF6",
           "caxis": {
            "gridcolor": "white",
            "linecolor": "white",
            "ticks": ""
           }
          },
          "title": {
           "x": 0.05
          },
          "xaxis": {
           "automargin": true,
           "gridcolor": "white",
           "linecolor": "white",
           "ticks": "",
           "title": {
            "standoff": 15
           },
           "zerolinecolor": "white",
           "zerolinewidth": 2
          },
          "yaxis": {
           "automargin": true,
           "gridcolor": "white",
           "linecolor": "white",
           "ticks": "",
           "title": {
            "standoff": 15
           },
           "zerolinecolor": "white",
           "zerolinewidth": 2
          }
         }
        },
        "width": 900,
        "xaxis": {
         "anchor": "y",
         "autorange": true,
         "domain": [
          0,
          0.94
         ],
         "gridcolor": "#1f292f",
         "nticks": 5,
         "range": [
          0,
          120
         ],
         "rangeslider": {
          "visible": false,
          "yaxis": {}
         },
         "type": "category"
        },
        "yaxis": {
         "anchor": "x",
         "autorange": true,
         "domain": [
          0,
          1
         ],
         "gridcolor": "#1f292f",
         "range": [
          -0.06136980493639725,
          1.3715539001703965
         ],
         "type": "linear"
        },
        "yaxis2": {
         "anchor": "x",
         "gridcolor": "#1f292f",
         "overlaying": "y",
         "side": "right"
        }
       }
      },
      "image/png": "[encoded data removed]",
      "text/html": [
       "<div>                            <div id=\"0bbf198e-20be-41fe-bda4-9b1dcf67998f\" class=\"plotly-graph-div\" style=\"height:400px; width:900px;\"></div>            <script type=\"text/javascript\">                require([\"plotly\"], function(Plotly) {                    window.PLOTLYENV=window.PLOTLYENV || {};                                    if (document.getElementById(\"0bbf198e-20be-41fe-bda4-9b1dcf67998f\")) {                    Plotly.newPlot(                        \"0bbf198e-20be-41fe-bda4-9b1dcf67998f\",                        [{\"line\":{\"shape\":\"spline\",\"width\":2},\"name\":\"GAIN_C\",\"x\":[\"s24-03-29 03:33\",\"s24-03-31 15:20\",\"s24-03-31 20:05\",\"s24-04-02 08:12\",\"s24-04-04 05:47\",\"s24-04-05 08:32\",\"s24-04-05 14:14\",\"s24-04-08 08:08\",\"s24-04-10 16:57\",\"s24-04-11 17:20\",\"s24-04-11 20:23\",\"s24-04-13 22:42\",\"s24-04-16 07:14\",\"s24-04-17 17:56\",\"s24-04-19 04:06\",\"s24-04-20 17:31\",\"s24-04-21 21:03\",\"s24-04-23 19:59\",\"s24-04-25 17:55\",\"s24-04-26 03:06\",\"s24-04-29 01:31\",\"s24-04-29 23:23\",\"s24-05-01 12:09\",\"s24-05-01 18:45\",\"s24-05-03 12:35\",\"s24-05-06 05:29\",\"s24-05-06 07:07\",\"s24-05-07 14:10\",\"s24-05-08 13:28\",\"s24-05-11 12:18\",\"s24-05-13 07:03\",\"s24-05-15 13:30\",\"s24-05-15 21:22\",\"s24-05-20 02:43\",\"s24-05-20 04:43\",\"s24-05-20 19:23\",\"s24-05-20 19:24\",\"s24-05-22 15:27\",\"s24-05-23 00:41\",\"s24-05-23 13:31\",\"s24-05-27 08:27\",\"s24-05-27 15:37\",\"s24-05-30 13:13\",\"s24-06-03 02:18\",\"s24-06-03 02:20\",\"s24-06-04 17:56\",\"s24-06-05 01:26\",\"s24-06-11 07:59\",\"s24-06-12 12:55\",\"s24-06-14 13:25\",\"s24-06-15 06:46\",\"s24-06-19 02:05\",\"s24-06-21 18:59\",\"s24-06-25 03:07\",\"s24-06-27 11:50\",\"s24-06-29 06:57\",\"s24-06-29 13:44\",\"s24-06-29 13:46\",\"s24-07-01 01:13\",\"s24-07-02 09:26\",\"s24-07-02 21:34\",\"s24-07-03 16:45\",\"s24-07-05 15:44\",\"s24-07-08 04:57\",\"s24-07-08 08:26\",\"s24-07-15 00:33\",\"s24-07-15 02:33\",\"s24-07-19 15:22\",\"s24-07-19 15:22\",\"s24-07-19 16:23\",\"s24-07-21 10:06\",\"s24-07-23 14:28\",\"s24-07-24 00:11\",\"s24-07-26 02:31\",\"s24-07-28 11:46\",\"s24-07-28 18:43\",\"s24-07-29 02:41\",\"s24-08-01 21:40\",\"s24-08-03 05:48\",\"s24-08-04 19:16\",\"s24-08-05 14:41\",\"s24-08-08 02:01\",\"s24-08-10 00:12\",\"s24-08-11 17:50\",\"s24-08-12 05:19\",\"s24-08-16 00:11\",\"s24-08-19 09:31\",\"s24-08-21 19:37\",\"s24-08-23 15:49\",\"s24-08-24 10:45\",\"s24-08-24 16:12\",\"s24-08-27 18:22\",\"s24-08-28 09:34\",\"s24-08-28 18:59\",\"s24-08-29 22:19\",\"s24-08-30 19:53\",\"s24-08-30 21:28\",\"s24-08-30 21:31\",\"s24-08-31 01:51\",\"s24-09-02 12:26\",\"s24-09-02 12:31\",\"s24-09-02 20:13\",\"s24-09-03 20:09\",\"s24-09-05 01:30\",\"s24-09-05 20:28\",\"s24-09-07 02:35\",\"s24-09-09 19:34\",\"s24-09-09 21:16\",\"s24-09-11 15:44\",\"s24-09-17 04:53\",\"s24-09-17 15:21\",\"s24-09-18 17:32\",\"s24-09-20 04:00\",\"s24-09-20 20:00\",\"s24-09-22 23:10\",\"s24-09-23 01:57\",\"s24-09-23 16:07\",\"s24-09-25 01:40\",\"s24-09-25 15:21\",\"s24-09-26 05:42\",\"s24-09-27 12:43\",\"s24-09-29 15:05\"],\"y\":[0.010276380318942457,0.025175473026389297,0.04239441001874188,0.05428321938596428,0.0647560641039778,0.07574621394278228,0.08668737978987737,0.09721248579357507,0.10734519478010841,0.1162906456591895,0.12918704446151774,0.1378328430354314,0.14721071421322723,0.1585107563670483,0.16764800034750132,0.18267738864240607,0.1940926433331322,0.20875449423417866,0.2184830810118685,0.2333076287018466,0.2416215739070394,0.2514803214312609,0.26123246081874607,0.2693455183774338,0.2810460414682589,0.29088593535163443,0.30038830052785226,0.30974698154553315,0.3208854679522954,0.33126861792615564,0.3429751791412843,0.3522416646655996,0.36199776294649566,0.37199772825680333,0.3831095355434987,0.3966478983850732,0.40942838208299637,0.41916213190100576,0.4286958180139381,0.4389090752561733,0.4493704000799969,0.4595602369746942,0.46961656265972107,0.48036535905094124,0.49017995307121265,0.5000034822609306,0.5104678420976779,0.5209046613278219,0.5303969075724865,0.5410756870773957,0.5523460737004892,0.5635520082394483,0.5735231380862748,0.585541826261136,0.5959697573569704,0.6063182069389638,0.6182617366339637,0.6302821413726705,0.6394550201435167,0.6491163429770377,0.6610388827965483,0.6710033251312552,0.6785840882472802,0.6891197056258046,0.6988560522197068,0.7089039829469387,0.7201885413050256,0.7301323515928037,0.7400854043544729,0.7523486974602964,0.7630047174952833,0.772510857603376,0.7817042566505357,0.7898366775125366,0.8003548537285524,0.8097662841324268,0.8207063614504186,0.8287541611507534,0.8385941980105435,0.8496374748483579,0.8621797681075679,0.8729400972562162,0.8829307590773372,0.8952274780998717,0.9043649171823192,0.916546126155772,0.9269954252819538,0.9374056168581232,0.9472823667528446,0.9573967331402479,0.9682047308856389,0.9783400334637328,0.9880607894792706,0.9997417979549893,1.0105933999762864,1.0241859354759735,1.0359178567155616,1.0489441409310365,1.0596502172196691,1.0704899979190106,1.0803717386644758,1.0902756509422158,1.1025037563131381,1.113441143850004,1.1226243373151827,1.1325370451453771,1.1411502026218396,1.1538465793414323,1.1638127046158109,1.1735364510339978,1.1839461737804187,1.1945588889940941,1.2059919594515884,1.2143957508001342,1.226373869388899,1.2372848360522486,1.2478467407537899,1.2586797560911807,1.2694051891835334,1.2795972489095528,1.289508766912325,1.2999077149150569],\"type\":\"scatter\",\"xaxis\":\"x\",\"yaxis\":\"y\"}],                        {\"template\":{\"data\":{\"histogram2dcontour\":[{\"type\":\"histogram2dcontour\",\"colorbar\":{\"outlinewidth\":0,\"ticks\":\"\"},\"colorscale\":[[0.0,\"#0d0887\"],[0.1111111111111111,\"#46039f\"],[0.2222222222222222,\"#7201a8\"],[0.3333333333333333,\"#9c179e\"],[0.4444444444444444,\"#bd3786\"],[0.5555555555555556,\"#d8576b\"],[0.6666666666666666,\"#ed7953\"],[0.7777777777777778,\"#fb9f3a\"],[0.8888888888888888,\"#fdca26\"],[1.0,\"#f0f921\"]]}],\"choropleth\":[{\"type\":\"choropleth\",\"colorbar\":{\"outlinewidth\":0,\"ticks\":\"\"}}],\"histogram2d\":[{\"type\":\"histogram2d\",\"colorbar\":{\"outlinewidth\":0,\"ticks\":\"\"},\"colorscale\":[[0.0,\"#0d0887\"],[0.1111111111111111,\"#46039f\"],[0.2222222222222222,\"#7201a8\"],[0.3333333333333333,\"#9c179e\"],[0.4444444444444444,\"#bd3786\"],[0.5555555555555556,\"#d8576b\"],[0.6666666666666666,\"#ed7953\"],[0.7777777777777778,\"#fb9f3a\"],[0.8888888888888888,\"#fdca26\"],[1.0,\"#f0f921\"]]}],\"heatmap\":[{\"type\":\"heatmap\",\"colorbar\":{\"outlinewidth\":0,\"ticks\":\"\"},\"colorscale\":[[0.0,\"#0d0887\"],[0.1111111111111111,\"#46039f\"],[0.2222222222222222,\"#7201a8\"],[0.3333333333333333,\"#9c179e\"],[0.4444444444444444,\"#bd3786\"],[0.5555555555555556,\"#d8576b\"],[0.6666666666666666,\"#ed7953\"],[0.7777777777777778,\"#fb9f3a\"],[0.8888888888888888,\"#fdca26\"],[1.0,\"#f0f921\"]]}],\"heatmapgl\":[{\"type\":\"heatmapgl\",\"colorbar\":{\"outlinewidth\":0,\"ticks\":\"\"},\"colorscale\":[[0.0,\"#0d0887\"],[0.1111111111111111,\"#46039f\"],[0.2222222222222222,\"#7201a8\"],[0.3333333333333333,\"#9c179e\"],[0.4444444444444444,\"#bd3786\"],[0.5555555555555556,\"#d8576b\"],[0.6666666666666666,\"#ed7953\"],[0.7777777777777778,\"#fb9f3a\"],[0.8888888888888888,\"#fdca26\"],[1.0,\"#f0f921\"]]}],\"contourcarpet\":[{\"type\":\"contourcarpet\",\"colorbar\":{\"outlinewidth\":0,\"ticks\":\"\"}}],\"contour\":[{\"type\":\"contour\",\"colorbar\":{\"outlinewidth\":0,\"ticks\":\"\"},\"colorscale\":[[0.0,\"#0d0887\"],[0.1111111111111111,\"#46039f\"],[0.2222222222222222,\"#7201a8\"],[0.3333333333333333,\"#9c179e\"],[0.4444444444444444,\"#bd3786\"],[0.5555555555555556,\"#d8576b\"],[0.6666666666666666,\"#ed7953\"],[0.7777777777777778,\"#fb9f3a\"],[0.8888888888888888,\"#fdca26\"],[1.0,\"#f0f921\"]]}],\"surface\":[{\"type\":\"surface\",\"colorbar\":{\"outlinewidth\":0,\"ticks\":\"\"},\"colorscale\":[[0.0,\"#0d0887\"],[0.1111111111111111,\"#46039f\"],[0.2222222222222222,\"#7201a8\"],[0.3333333333333333,\"#9c179e\"],[0.4444444444444444,\"#bd3786\"],[0.5555555555555556,\"#d8576b\"],[0.6666666666666666,\"#ed7953\"],[0.7777777777777778,\"#fb9f3a\"],[0.8888888888888888,\"#fdca26\"],[1.0,\"#f0f921\"]]}],\"mesh3d\":[{\"type\":\"mesh3d\",\"colorbar\":{\"outlinewidth\":0,\"ticks\":\"\"}}],\"scatter\":[{\"fillpattern\":{\"fillmode\":\"overlay\",\"size\":10,\"solidity\":0.2},\"type\":\"scatter\"}],\"parcoords\":[{\"type\":\"parcoords\",\"line\":{\"colorbar\":{\"outlinewidth\":0,\"ticks\":\"\"}}}],\"scatterpolargl\":[{\"type\":\"scatterpolargl\",\"marker\":{\"colorbar\":{\"outlinewidth\":0,\"ticks\":\"\"}}}],\"bar\":[{\"error_x\":{\"color\":\"#2a3f5f\"},\"error_y\":{\"color\":\"#2a3f5f\"},\"marker\":{\"line\":{\"color\":\"#E5ECF6\",\"width\":0.5},\"pattern\":{\"fillmode\":\"overlay\",\"size\":10,\"solidity\":0.2}},\"type\":\"bar\"}],\"scattergeo\":[{\"type\":\"scattergeo\",\"marker\":{\"colorbar\":{\"outlinewidth\":0,\"ticks\":\"\"}}}],\"scatterpolar\":[{\"type\":\"scatterpolar\",\"marker\":{\"colorbar\":{\"outlinewidth\":0,\"ticks\":\"\"}}}],\"histogram\":[{\"marker\":{\"pattern\":{\"fillmode\":\"overlay\",\"size\":10,\"solidity\":0.2}},\"type\":\"histogram\"}],\"scattergl\":[{\"type\":\"scattergl\",\"marker\":{\"colorbar\":{\"outlinewidth\":0,\"ticks\":\"\"}}}],\"scatter3d\":[{\"type\":\"scatter3d\",\"line\":{\"colorbar\":{\"outlinewidth\":0,\"ticks\":\"\"}},\"marker\":{\"colorbar\":{\"outlinewidth\":0,\"ticks\":\"\"}}}],\"scattermapbox\":[{\"type\":\"scattermapbox\",\"marker\":{\"colorbar\":{\"outlinewidth\":0,\"ticks\":\"\"}}}],\"scatterternary\":[{\"type\":\"scatterternary\",\"marker\":{\"colorbar\":{\"outlinewidth\":0,\"ticks\":\"\"}}}],\"scattercarpet\":[{\"type\":\"scattercarpet\",\"marker\":{\"colorbar\":{\"outlinewidth\":0,\"ticks\":\"\"}}}],\"carpet\":[{\"aaxis\":{\"endlinecolor\":\"#2a3f5f\",\"gridcolor\":\"white\",\"linecolor\":\"white\",\"minorgridcolor\":\"white\",\"startlinecolor\":\"#2a3f5f\"},\"baxis\":{\"endlinecolor\":\"#2a3f5f\",\"gridcolor\":\"white\",\"linecolor\":\"white\",\"minorgridcolor\":\"white\",\"startlinecolor\":\"#2a3f5f\"},\"type\":\"carpet\"}],\"table\":[{\"cells\":{\"fill\":{\"color\":\"#EBF0F8\"},\"line\":{\"color\":\"white\"}},\"header\":{\"fill\":{\"color\":\"#C8D4E3\"},\"line\":{\"color\":\"white\"}},\"type\":\"table\"}],\"barpolar\":[{\"marker\":{\"line\":{\"color\":\"#E5ECF6\",\"width\":0.5},\"pattern\":{\"fillmode\":\"overlay\",\"size\":10,\"solidity\":0.2}},\"type\":\"barpolar\"}],\"pie\":[{\"automargin\":true,\"type\":\"pie\"}]},\"layout\":{\"autotypenumbers\":\"strict\",\"colorway\":[\"#636efa\",\"#EF553B\",\"#00cc96\",\"#ab63fa\",\"#FFA15A\",\"#19d3f3\",\"#FF6692\",\"#B6E880\",\"#FF97FF\",\"#FECB52\"],\"font\":{\"color\":\"#2a3f5f\"},\"hovermode\":\"closest\",\"hoverlabel\":{\"align\":\"left\"},\"paper_bgcolor\":\"white\",\"plot_bgcolor\":\"#E5ECF6\",\"polar\":{\"bgcolor\":\"#E5ECF6\",\"angularaxis\":{\"gridcolor\":\"white\",\"linecolor\":\"white\",\"ticks\":\"\"},\"radialaxis\":{\"gridcolor\":\"white\",\"linecolor\":\"white\",\"ticks\":\"\"}},\"ternary\":{\"bgcolor\":\"#E5ECF6\",\"aaxis\":{\"gridcolor\":\"white\",\"linecolor\":\"white\",\"ticks\":\"\"},\"baxis\":{\"gridcolor\":\"white\",\"linecolor\":\"white\",\"ticks\":\"\"},\"caxis\":{\"gridcolor\":\"white\",\"linecolor\":\"white\",\"ticks\":\"\"}},\"coloraxis\":{\"colorbar\":{\"outlinewidth\":0,\"ticks\":\"\"}},\"colorscale\":{\"sequential\":[[0.0,\"#0d0887\"],[0.1111111111111111,\"#46039f\"],[0.2222222222222222,\"#7201a8\"],[0.3333333333333333,\"#9c179e\"],[0.4444444444444444,\"#bd3786\"],[0.5555555555555556,\"#d8576b\"],[0.6666666666666666,\"#ed7953\"],[0.7777777777777778,\"#fb9f3a\"],[0.8888888888888888,\"#fdca26\"],[1.0,\"#f0f921\"]],\"sequentialminus\":[[0.0,\"#0d0887\"],[0.1111111111111111,\"#46039f\"],[0.2222222222222222,\"#7201a8\"],[0.3333333333333333,\"#9c179e\"],[0.4444444444444444,\"#bd3786\"],[0.5555555555555556,\"#d8576b\"],[0.6666666666666666,\"#ed7953\"],[0.7777777777777778,\"#fb9f3a\"],[0.8888888888888888,\"#fdca26\"],[1.0,\"#f0f921\"]],\"diverging\":[[0,\"#8e0152\"],[0.1,\"#c51b7d\"],[0.2,\"#de77ae\"],[0.3,\"#f1b6da\"],[0.4,\"#fde0ef\"],[0.5,\"#f7f7f7\"],[0.6,\"#e6f5d0\"],[0.7,\"#b8e186\"],[0.8,\"#7fbc41\"],[0.9,\"#4d9221\"],[1,\"#276419\"]]},\"xaxis\":{\"gridcolor\":\"white\",\"linecolor\":\"white\",\"ticks\":\"\",\"title\":{\"standoff\":15},\"zerolinecolor\":\"white\",\"automargin\":true,\"zerolinewidth\":2},\"yaxis\":{\"gridcolor\":\"white\",\"linecolor\":\"white\",\"ticks\":\"\",\"title\":{\"standoff\":15},\"zerolinecolor\":\"white\",\"automargin\":true,\"zerolinewidth\":2},\"scene\":{\"xaxis\":{\"backgroundcolor\":\"#E5ECF6\",\"gridcolor\":\"white\",\"linecolor\":\"white\",\"showbackground\":true,\"ticks\":\"\",\"zerolinecolor\":\"white\",\"gridwidth\":2},\"yaxis\":{\"backgroundcolor\":\"#E5ECF6\",\"gridcolor\":\"white\",\"linecolor\":\"white\",\"showbackground\":true,\"ticks\":\"\",\"zerolinecolor\":\"white\",\"gridwidth\":2},\"zaxis\":{\"backgroundcolor\":\"#E5ECF6\",\"gridcolor\":\"white\",\"linecolor\":\"white\",\"showbackground\":true,\"ticks\":\"\",\"zerolinecolor\":\"white\",\"gridwidth\":2}},\"shapedefaults\":{\"line\":{\"color\":\"#2a3f5f\"}},\"annotationdefaults\":{\"arrowcolor\":\"#2a3f5f\",\"arrowhead\":0,\"arrowwidth\":1},\"geo\":{\"bgcolor\":\"white\",\"landcolor\":\"#E5ECF6\",\"subunitcolor\":\"white\",\"showland\":true,\"showlakes\":true,\"lakecolor\":\"white\"},\"title\":{\"x\":0.05},\"mapbox\":{\"style\":\"light\"}}},\"xaxis\":{\"anchor\":\"y\",\"domain\":[0.0,0.94],\"rangeslider\":{\"visible\":false},\"gridcolor\":\"#1f292f\",\"nticks\":5},\"yaxis\":{\"anchor\":\"x\",\"domain\":[0.0,1.0],\"gridcolor\":\"#1f292f\"},\"yaxis2\":{\"anchor\":\"x\",\"overlaying\":\"y\",\"side\":\"right\",\"gridcolor\":\"#1f292f\"},\"margin\":{\"l\":10,\"r\":10,\"b\":10,\"t\":10},\"font\":{\"size\":8,\"color\":\"#e1e1e1\"},\"width\":900,\"height\":400,\"paper_bgcolor\":\"#2c303c\",\"plot_bgcolor\":\"#2c303c\"},                        {\"responsive\": true}                    ).then(function(){\n",
       "                            \n",
       "var gd = document.getElementById('0bbf198e-20be-41fe-bda4-9b1dcf67998f');\n",
       "var x = new MutationObserver(function (mutations, observer) {{\n",
       "        var display = window.getComputedStyle(gd).display;\n",
       "        if (!display || display === 'none') {{\n",
       "            console.log([gd, 'removed!']);\n",
       "            Plotly.purge(gd);\n",
       "            observer.disconnect();\n",
       "        }}\n",
       "}});\n",
       "\n",
       "// Listen for the removal of the full notebook cells\n",
       "var notebookContainer = gd.closest('#notebook-container');\n",
       "if (notebookContainer) {{\n",
       "    x.observe(notebookContainer, {childList: true});\n",
       "}}\n",
       "\n",
       "// Listen for the clearing of the current output cell\n",
       "var outputEl = gd.closest('.output');\n",
       "if (outputEl) {{\n",
       "    x.observe(outputEl, {childList: true});\n",
       "}}\n",
       "\n",
       "                        })                };                });            </script>        </div>"
      ]
     },
     "metadata": {},
     "output_type": "display_data"
    }
   ],
   "source": [
    "ranks = [rank_ADAUSDT,rank_BTCUSDT, rank_ETHUSDT, rank_BNBUSDT, rank_XRPUSDT, rank_LTCUSDT]\n",
    "\n",
    "for rank in ranks:\n",
    "    first_p = rank.iloc[0].first_p\n",
    "    last_p = rank.iloc[0].last_p\n",
    "    rel_first_last = (last_p - first_p)/last_p\n",
    "    print(rank.iloc[0].pair, first_p, last_p, rel_first_last )\n",
    "    rank.iloc[0].r['time'] = rank.iloc[0].r['end_time']\n",
    "    rank.iloc[0].r['GAIN_C'] = rank.iloc[0].r.strategy.cumsum()\n",
    "\n",
    "    cp = CandlePlot(rank.iloc[0].r, candles=False)\n",
    "    cp.show_plot(line_traces = ['GAIN_C'])"
   ]
  },
  {
   "cell_type": "code",
   "execution_count": 78,
   "id": "9fdf17a7-cbfa-4e81-af85-623351d0a67a",
   "metadata": {
    "scrolled": true
   },
   "outputs": [
    {
     "data": {
      "text/html": [
       "<div>\n",
       "<style scoped>\n",
       "    .dataframe tbody tr th:only-of-type {\n",
       "        vertical-align: middle;\n",
       "    }\n",
       "\n",
       "    .dataframe tbody tr th {\n",
       "        vertical-align: top;\n",
       "    }\n",
       "\n",
       "    .dataframe thead th {\n",
       "        text-align: right;\n",
       "    }\n",
       "</style>\n",
       "<table border=\"1\" class=\"dataframe\">\n",
       "  <thead>\n",
       "    <tr style=\"text-align: right;\">\n",
       "      <th></th>\n",
       "      <th>start_index_m5</th>\n",
       "      <th>count</th>\n",
       "      <th>trigger_type</th>\n",
       "      <th>strategy</th>\n",
       "      <th>cstrategy</th>\n",
       "      <th>total_opened</th>\n",
       "      <th>start_price</th>\n",
       "      <th>trigger_price</th>\n",
       "      <th>SIGNAL_UP</th>\n",
       "      <th>SIGNAL_DOWN</th>\n",
       "      <th>result</th>\n",
       "      <th>end_time</th>\n",
       "      <th>start_time</th>\n",
       "      <th>time</th>\n",
       "      <th>GAIN_C</th>\n",
       "    </tr>\n",
       "  </thead>\n",
       "  <tbody>\n",
       "    <tr>\n",
       "      <th>count</th>\n",
       "      <td>4.055000e+03</td>\n",
       "      <td>4055.000000</td>\n",
       "      <td>4055.000000</td>\n",
       "      <td>4055.000000</td>\n",
       "      <td>4055.0</td>\n",
       "      <td>4055.000000</td>\n",
       "      <td>4055.000000</td>\n",
       "      <td>4055.000000</td>\n",
       "      <td>4055.000000</td>\n",
       "      <td>4055.000000</td>\n",
       "      <td>4055.000000</td>\n",
       "      <td>4055</td>\n",
       "      <td>4055</td>\n",
       "      <td>4055</td>\n",
       "      <td>4055.000000</td>\n",
       "    </tr>\n",
       "    <tr>\n",
       "      <th>mean</th>\n",
       "      <td>1.672127e+06</td>\n",
       "      <td>21410.138594</td>\n",
       "      <td>2.955117</td>\n",
       "      <td>0.042162</td>\n",
       "      <td>0.0</td>\n",
       "      <td>77.766461</td>\n",
       "      <td>31338.094698</td>\n",
       "      <td>32704.254081</td>\n",
       "      <td>2.955117</td>\n",
       "      <td>0.004439</td>\n",
       "      <td>1366.159383</td>\n",
       "      <td>2022-03-24 11:23:57.573366272</td>\n",
       "      <td>2022-03-09 14:25:45.425400576</td>\n",
       "      <td>2022-03-24 11:23:57.573366272</td>\n",
       "      <td>75.658198</td>\n",
       "    </tr>\n",
       "    <tr>\n",
       "      <th>min</th>\n",
       "      <td>8.139000e+03</td>\n",
       "      <td>3.000000</td>\n",
       "      <td>1.000000</td>\n",
       "      <td>-0.316121</td>\n",
       "      <td>0.0</td>\n",
       "      <td>1.000000</td>\n",
       "      <td>3390.610000</td>\n",
       "      <td>3409.470000</td>\n",
       "      <td>1.000000</td>\n",
       "      <td>0.000000</td>\n",
       "      <td>-8168.080000</td>\n",
       "      <td>2019-01-08 02:16:00</td>\n",
       "      <td>2019-01-06 17:18:00</td>\n",
       "      <td>2019-01-08 02:16:00</td>\n",
       "      <td>-0.439366</td>\n",
       "    </tr>\n",
       "    <tr>\n",
       "      <th>25%</th>\n",
       "      <td>9.667540e+05</td>\n",
       "      <td>5507.500000</td>\n",
       "      <td>3.000000</td>\n",
       "      <td>-0.015512</td>\n",
       "      <td>0.0</td>\n",
       "      <td>29.000000</td>\n",
       "      <td>13861.980000</td>\n",
       "      <td>15332.240000</td>\n",
       "      <td>3.000000</td>\n",
       "      <td>0.000000</td>\n",
       "      <td>-450.310000</td>\n",
       "      <td>2020-11-05 19:13:30</td>\n",
       "      <td>2020-11-04 06:39:00</td>\n",
       "      <td>2020-11-05 19:13:30</td>\n",
       "      <td>28.417537</td>\n",
       "    </tr>\n",
       "    <tr>\n",
       "      <th>50%</th>\n",
       "      <td>1.693360e+06</td>\n",
       "      <td>13854.000000</td>\n",
       "      <td>3.000000</td>\n",
       "      <td>0.098906</td>\n",
       "      <td>0.0</td>\n",
       "      <td>65.000000</td>\n",
       "      <td>28417.710000</td>\n",
       "      <td>29690.170000</td>\n",
       "      <td>3.000000</td>\n",
       "      <td>0.000000</td>\n",
       "      <td>1244.430000</td>\n",
       "      <td>2022-04-23 23:48:00</td>\n",
       "      <td>2022-03-24 19:30:00</td>\n",
       "      <td>2022-04-23 23:48:00</td>\n",
       "      <td>79.988091</td>\n",
       "    </tr>\n",
       "    <tr>\n",
       "      <th>75%</th>\n",
       "      <td>2.497301e+06</td>\n",
       "      <td>30192.000000</td>\n",
       "      <td>3.000000</td>\n",
       "      <td>0.101494</td>\n",
       "      <td>0.0</td>\n",
       "      <td>120.000000</td>\n",
       "      <td>43523.045000</td>\n",
       "      <td>44092.790000</td>\n",
       "      <td>3.000000</td>\n",
       "      <td>0.000000</td>\n",
       "      <td>3576.315000</td>\n",
       "      <td>2023-10-20 10:41:00</td>\n",
       "      <td>2023-10-04 03:51:00</td>\n",
       "      <td>2023-10-20 10:41:00</td>\n",
       "      <td>102.820642</td>\n",
       "    </tr>\n",
       "    <tr>\n",
       "      <th>max</th>\n",
       "      <td>3.002086e+06</td>\n",
       "      <td>137123.000000</td>\n",
       "      <td>3.000000</td>\n",
       "      <td>0.166736</td>\n",
       "      <td>0.0</td>\n",
       "      <td>246.000000</td>\n",
       "      <td>73527.280000</td>\n",
       "      <td>73582.650000</td>\n",
       "      <td>3.000000</td>\n",
       "      <td>9.000000</td>\n",
       "      <td>7115.180000</td>\n",
       "      <td>2024-09-27 14:36:00</td>\n",
       "      <td>2024-09-18 16:56:00</td>\n",
       "      <td>2024-09-27 14:36:00</td>\n",
       "      <td>170.967148</td>\n",
       "    </tr>\n",
       "    <tr>\n",
       "      <th>std</th>\n",
       "      <td>8.564011e+05</td>\n",
       "      <td>22889.388366</td>\n",
       "      <td>0.296265</td>\n",
       "      <td>0.087143</td>\n",
       "      <td>0.0</td>\n",
       "      <td>57.960936</td>\n",
       "      <td>18935.499828</td>\n",
       "      <td>20051.427751</td>\n",
       "      <td>0.296265</td>\n",
       "      <td>0.199852</td>\n",
       "      <td>2944.020864</td>\n",
       "      <td>NaN</td>\n",
       "      <td>NaN</td>\n",
       "      <td>NaN</td>\n",
       "      <td>46.509378</td>\n",
       "    </tr>\n",
       "  </tbody>\n",
       "</table>\n",
       "</div>"
      ],
      "text/plain": [
       "       start_index_m5          count  trigger_type     strategy  cstrategy  \\\n",
       "count    4.055000e+03    4055.000000   4055.000000  4055.000000     4055.0   \n",
       "mean     1.672127e+06   21410.138594      2.955117     0.042162        0.0   \n",
       "min      8.139000e+03       3.000000      1.000000    -0.316121        0.0   \n",
       "25%      9.667540e+05    5507.500000      3.000000    -0.015512        0.0   \n",
       "50%      1.693360e+06   13854.000000      3.000000     0.098906        0.0   \n",
       "75%      2.497301e+06   30192.000000      3.000000     0.101494        0.0   \n",
       "max      3.002086e+06  137123.000000      3.000000     0.166736        0.0   \n",
       "std      8.564011e+05   22889.388366      0.296265     0.087143        0.0   \n",
       "\n",
       "       total_opened   start_price  trigger_price    SIGNAL_UP  SIGNAL_DOWN  \\\n",
       "count   4055.000000   4055.000000    4055.000000  4055.000000  4055.000000   \n",
       "mean      77.766461  31338.094698   32704.254081     2.955117     0.004439   \n",
       "min        1.000000   3390.610000    3409.470000     1.000000     0.000000   \n",
       "25%       29.000000  13861.980000   15332.240000     3.000000     0.000000   \n",
       "50%       65.000000  28417.710000   29690.170000     3.000000     0.000000   \n",
       "75%      120.000000  43523.045000   44092.790000     3.000000     0.000000   \n",
       "max      246.000000  73527.280000   73582.650000     3.000000     9.000000   \n",
       "std       57.960936  18935.499828   20051.427751     0.296265     0.199852   \n",
       "\n",
       "            result                       end_time  \\\n",
       "count  4055.000000                           4055   \n",
       "mean   1366.159383  2022-03-24 11:23:57.573366272   \n",
       "min   -8168.080000            2019-01-08 02:16:00   \n",
       "25%    -450.310000            2020-11-05 19:13:30   \n",
       "50%    1244.430000            2022-04-23 23:48:00   \n",
       "75%    3576.315000            2023-10-20 10:41:00   \n",
       "max    7115.180000            2024-09-27 14:36:00   \n",
       "std    2944.020864                            NaN   \n",
       "\n",
       "                          start_time                           time  \\\n",
       "count                           4055                           4055   \n",
       "mean   2022-03-09 14:25:45.425400576  2022-03-24 11:23:57.573366272   \n",
       "min              2019-01-06 17:18:00            2019-01-08 02:16:00   \n",
       "25%              2020-11-04 06:39:00            2020-11-05 19:13:30   \n",
       "50%              2022-03-24 19:30:00            2022-04-23 23:48:00   \n",
       "75%              2023-10-04 03:51:00            2023-10-20 10:41:00   \n",
       "max              2024-09-18 16:56:00            2024-09-27 14:36:00   \n",
       "std                              NaN                            NaN   \n",
       "\n",
       "            GAIN_C  \n",
       "count  4055.000000  \n",
       "mean     75.658198  \n",
       "min      -0.439366  \n",
       "25%      28.417537  \n",
       "50%      79.988091  \n",
       "75%     102.820642  \n",
       "max     170.967148  \n",
       "std      46.509378  "
      ]
     },
     "execution_count": 78,
     "metadata": {},
     "output_type": "execute_result"
    }
   ],
   "source": [
    "\n",
    "df_up.describe()"
   ]
  },
  {
   "cell_type": "code",
   "execution_count": 81,
   "id": "5d977ab6-26bb-4e7a-9a32-b9964435e493",
   "metadata": {},
   "outputs": [],
   "source": [
    "\n",
    "dd = df_up[df_up['strategy']>0]\n",
    "# ee = dd[dd['strategy']<0]\n",
    "# ee"
   ]
  },
  {
   "cell_type": "code",
   "execution_count": 82,
   "id": "d2190584-6b31-4bbe-b1fc-f144d10eee03",
   "metadata": {},
   "outputs": [
    {
     "ename": "AttributeError",
     "evalue": "'DonchianTrend' object has no attribute 'df'",
     "output_type": "error",
     "traceback": [
      "\u001b[0;31m---------------------------------------------------------------------------\u001b[0m",
      "\u001b[0;31mAttributeError\u001b[0m                            Traceback (most recent call last)",
      "Cell \u001b[0;32mIn[82], line 1\u001b[0m\n\u001b[0;32m----> 1\u001b[0m ddf \u001b[38;5;241m=\u001b[39m \u001b[43mres\u001b[49m\u001b[43m[\u001b[49m\u001b[38;5;241;43m0\u001b[39;49m\u001b[43m]\u001b[49m\u001b[43m[\u001b[49m\u001b[38;5;124;43m'\u001b[39;49m\u001b[38;5;124;43mres\u001b[39;49m\u001b[38;5;124;43m'\u001b[39;49m\u001b[43m]\u001b[49m\u001b[38;5;241;43m.\u001b[39;49m\u001b[43mdf\u001b[49m\n\u001b[1;32m      2\u001b[0m test \u001b[38;5;241m=\u001b[39m ddf\u001b[38;5;241m.\u001b[39miloc[\u001b[38;5;241m66685\u001b[39m:\u001b[38;5;241m66685\u001b[39m\u001b[38;5;241m+\u001b[39m\u001b[38;5;241m906\u001b[39m\u001b[38;5;241m+\u001b[39m\u001b[38;5;241m1\u001b[39m]\n\u001b[1;32m      3\u001b[0m test\n",
      "\u001b[0;31mAttributeError\u001b[0m: 'DonchianTrend' object has no attribute 'df'"
     ]
    }
   ],
   "source": [
    "ddf = res[0]['res'].df\n",
    "test = ddf.iloc[66685:66685+906+1]\n",
    "test\n"
   ]
  },
  {
   "cell_type": "code",
   "execution_count": 28,
   "id": "df4a9e66-842b-41e5-b75f-59d0c33cf5d2",
   "metadata": {},
   "outputs": [
    {
     "name": "stdout",
     "output_type": "stream",
     "text": [
      "3620.8 3618.5\n",
      "-0.0007575267814862174\n"
     ]
    }
   ],
   "source": [
    "print(test.iloc[0].Close,test.iloc[-1].Close)\n",
    "print(test.returns.sum())"
   ]
  },
  {
   "cell_type": "code",
   "execution_count": null,
   "id": "84d39f9f-c286-41f8-9fe3-da905588fb9b",
   "metadata": {},
   "outputs": [],
   "source": []
  },
  {
   "cell_type": "code",
   "execution_count": null,
   "id": "5a363411-2546-4604-bcd4-0044caac3425",
   "metadata": {},
   "outputs": [],
   "source": []
  },
  {
   "cell_type": "code",
   "execution_count": null,
   "id": "d4c1cce2-a468-4162-9580-4b4b1ed46cda",
   "metadata": {},
   "outputs": [],
   "source": []
  },
  {
   "cell_type": "code",
   "execution_count": null,
   "id": "c34ba8d4-01f5-4e27-b822-23c5c06e148b",
   "metadata": {},
   "outputs": [],
   "source": []
  }
 ],
 "metadata": {
  "kernelspec": {
   "display_name": "Python 3 (ipykernel)",
   "language": "python",
   "name": "python3"
  },
  "language_info": {
   "codemirror_mode": {
    "name": "ipython",
    "version": 3
   },
   "file_extension": ".py",
   "mimetype": "text/x-python",
   "name": "python",
   "nbconvert_exporter": "python",
   "pygments_lexer": "ipython3",
   "version": "3.12.6"
  }
 },
 "nbformat": 4,
 "nbformat_minor": 5
}
