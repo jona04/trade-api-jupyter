{
 "cells": [
  {
   "cell_type": "code",
   "execution_count": 4,
   "id": "12a55d6e-2ec2-4d0c-9c32-54944d6566b6",
   "metadata": {},
   "outputs": [],
   "source": [
    "import sys\n",
    "sys.path.append(\"../\")\n"
   ]
  },
  {
   "cell_type": "code",
   "execution_count": 5,
   "id": "4fda4174-b72c-49cf-a035-402ccc664e76",
   "metadata": {},
   "outputs": [],
   "source": [
    "import pandas as pd\n",
    "import plotly.graph_objects as go\n",
    "from technicals.indicators import RSI\n",
    "from technicals.patterns import apply_patterns\n",
    "from plotting import CandlePlot\n",
    "import numpy as np\n",
    "\n",
    "from infrastructure.quotehistory_collection import quotehistoryCollection as qc\n",
    "from simulation.ema_cross_multi_temporal_2_tester import EmaCrossMultiTemporal2Tester\n",
    "from simulation.ema_cross_multi_temporal_3_tester import EmaCrossMultiTemporal3Tester\n",
    "from simulation.ema_cross_multi_temporal_3_tester_fast import EmaCrossMultiTemporal3TesterFast"
   ]
  },
  {
   "cell_type": "code",
   "execution_count": 6,
   "id": "08d5547b-88e4-4f88-989f-7f718d682ae5",
   "metadata": {},
   "outputs": [],
   "source": [
    "\n",
    "\n",
    "# Função para calcular a EMA\n",
    "def calculate_ema(data, period):\n",
    "    return data.ewm(span=period, adjust=False).mean()\n",
    "\n"
   ]
  },
  {
   "cell_type": "code",
   "execution_count": 26,
   "id": "7dcf8659-2bee-44e4-97e1-7a9d95178a38",
   "metadata": {},
   "outputs": [],
   "source": [
    "\n",
    "BUY = 1\n",
    "SELL = -1\n",
    "NONE = 0\n",
    "\n",
    "def apply_signal_short1(row):\n",
    "    if row.DELTA1 >= 0 and row.DELTA1_PREV < 0:\n",
    "        return BUY\n",
    "    elif row.DELTA1 < 0 and row.DELTA1_PREV >= 0:\n",
    "        return SELL\n",
    "    return NONE\n",
    "\n",
    "def apply_signal_short2(row):\n",
    "    if row.DELTA2 >= 0 and row.DELTA2_PREV < 0:\n",
    "        return BUY\n",
    "    elif row.DELTA2 < 0 and row.DELTA2_PREV >= 0:\n",
    "        return SELL\n",
    "    return NONE\n",
    "    \n",
    "def apply_signal1(row,spread=50):\n",
    "    if row.SPREAD < spread and row.DELTA1 >= 0 and row.DELTA1_PREV < 0:\n",
    "        return BUY\n",
    "    elif row.SPREAD < spread and row.DELTA1 < 0 and row.DELTA1_PREV >= 0:\n",
    "        return SELL\n",
    "    return NONE\n",
    "\n",
    "def apply_signal2(row,spread=50):\n",
    "    if row.SPREAD < spread and (row.DELTA2 >= 0 and row.EMA_MID <= 1) and row.DELTA2_PREV < 0:\n",
    "        return BUY\n",
    "    elif row.SPREAD < spread and (row.DELTA2 < 0 and row.EMA_MID >= -1) and row.DELTA2_PREV >= 0:\n",
    "        return SELL\n",
    "    return NONE\n",
    "\n",
    "def apply_signal4(row,spread=50):\n",
    "    if row.SPREAD < spread and row.DIRECTION > 0 and row.DELTA1 >= 0 and row.DELTA1_PREV < 0:\n",
    "        return BUY\n",
    "    elif row.SPREAD < spread and row.DIRECTION < 0 and row.DELTA1 < 0 and row.DELTA1_PREV >= 0:\n",
    "        return SELL\n",
    "    return NONE\n",
    "    "
   ]
  },
  {
   "cell_type": "code",
   "execution_count": 27,
   "id": "757883d4-fabe-43eb-8bba-69caed5989e6",
   "metadata": {},
   "outputs": [],
   "source": [
    "def run_pair(pair,pip_value,granularity='M5',use_spread=True,\n",
    "             stop_loss = 1000, take_profit = 200, \n",
    "             fixed_tp_sl=True,trans_cost=8,\n",
    "             neg_multiplier=1.5, rev=True,\n",
    "             spread_limit=50,ema_1=0, ema_3=10000):\n",
    "    df = pd.read_pickle(f\"../data/{granularity}/{pair}_{granularity}.pkl\")\n",
    "    df.reset_index(drop=True, inplace=True)\n",
    "\n",
    "    # ema_1 = 10\n",
    "    ema_2 = 480\n",
    "    # ema_3 = 10000\n",
    "    df[f'EMA_{ema_1}'] = df.mid_c.ewm(span=ema_1, min_periods=ema_1).mean()\n",
    "    df[f'EMA_{ema_2}'] = df.mid_c.ewm(span=ema_2, min_periods=ema_2).mean()\n",
    "    df[f'EMA_{ema_3}'] = df.mid_c.ewm(span=ema_3, min_periods=ema_3).mean()\n",
    "    df['DIRECTION'] = df[f'EMA_{ema_2}'] - df[f'EMA_{ema_3}']\n",
    "\n",
    "    df['EMA_MID'] = df['mid_c'] - df[f'EMA_{ema_1}']\n",
    "    \n",
    "    df['DELTA1'] = df[f'EMA_{ema_1}'] - df[f'EMA_{ema_2}']\n",
    "    df['DELTA1_PREV'] = df.DELTA1.shift(1)\n",
    "    \n",
    "    df['DELTA2'] = df[f'EMA_{ema_1}'] - df[f'EMA_{ema_3}']\n",
    "    df['DELTA2_PREV'] = df.DELTA2.shift(1)\n",
    "    \n",
    "    df['donchian_high'] = df['mid_c'].rolling(window=400).max()\n",
    "    df['donchian_low'] = df['mid_c'].rolling(window=400).min()\n",
    "    df['donchian_mid'] = (df['donchian_high'] + df['donchian_low']) / 2\n",
    "    df['DELTA3'] = df[f'EMA_{ema_1}'] - df[f'donchian_mid']\n",
    "    df['DELTA3_PREV'] = df.DELTA3.shift(1)\n",
    "    \n",
    "    dev1 = 0.5\n",
    "    dev2 = 1\n",
    "    dev3 = 1.5\n",
    "    df['SMA'] = df['mid_c'].rolling(window=50).mean()  # Média Móvel Simples (SMA)\n",
    "    df[f'env_high1'] = df['SMA'] * (1 + dev1 / 100)\n",
    "    df[f'env_low1'] = df['SMA'] * (1 - dev1 / 100)\n",
    "    df[f'env_high2'] = df['SMA'] * (1 + dev2 / 100)\n",
    "    df[f'env_low2'] = df['SMA'] * (1 - dev2 / 100)\n",
    "    df[f'env_high3'] = df['SMA'] * (1 + dev3 / 100)\n",
    "    df[f'env_low3'] = df['SMA'] * (1 - dev3 / 100)\n",
    "\n",
    "    df['SPREAD'] = (df[f'ask_c'] - df[f'bid_c']) / pip_value\n",
    "    df_slim = df.copy()\n",
    "    df_slim.dropna(inplace=True)\n",
    "    df_slim.reset_index(drop=True, inplace=True)\n",
    "\n",
    "    gt = EmaCrossMultiTemporal3TesterFast(\n",
    "        df_slim,\n",
    "        apply_signal2,\n",
    "        apply_signal_short2,\n",
    "        pip_value,\n",
    "        use_spread=use_spread,\n",
    "        LOSS_FACTOR = stop_loss,\n",
    "        PROFIT_FACTOR = take_profit,\n",
    "        fixed_tp_sl=fixed_tp_sl,\n",
    "        trans_cost=trans_cost,\n",
    "        neg_multiplier=neg_multiplier,\n",
    "        rev=rev,\n",
    "        spread_limit=spread_limit\n",
    "    )\n",
    "    \n",
    "    gt.run_test()\n",
    "    return gt"
   ]
  },
  {
   "cell_type": "code",
   "execution_count": 28,
   "id": "89d145fd-05bf-4114-bbc1-99893ba90d50",
   "metadata": {},
   "outputs": [],
   "source": [
    "pairs_pip_size = {\n",
    "    # \"EURGBP\": 0.0001,\n",
    "    # \"EURJPY\": 0.01,\n",
    "    # \"GBPJPY\": 0.01,\n",
    "    \"GBPUSD\": {\n",
    "        \"pip_value\": 0.0001,  \n",
    "        \"spread\": 15,       \n",
    "        \"trans_cost\": 1\n",
    "    },\n",
    "    \"USDJPY\": {\n",
    "        \"pip_value\": 0.01,  \n",
    "        \"spread\": 10,       \n",
    "        \"trans_cost\": 1\n",
    "    },\n",
    "    \"EURUSD\": {\n",
    "        \"pip_value\": 0.0001,  \n",
    "        \"spread\": 15,       \n",
    "        \"trans_cost\": 1\n",
    "    },\n",
    "    \"XAUUSD\": { \n",
    "        \"pip_value\": 0.01,  \n",
    "        \"spread\": 50,       \n",
    "        \"trans_cost\": 10\n",
    "    },\n",
    "    # \"ETHUSD\": { \n",
    "    #     \"pip_value\": 0.01,  \n",
    "    #     \"spread\": 50,       \n",
    "    #     \"trans_cost\": 600\n",
    "    # },\n",
    "    # \"ETHEUR\": { \n",
    "    #     \"pip_value\": 0.01, \n",
    "    #     \"spread\": 50,       \n",
    "    #     \"trans_cost\": 600\n",
    "    # },\n",
    "    # \"ETHJPY\":{ \n",
    "    #     \"pip_value\": 0.01,\n",
    "    #     \"spread\": 50000,     \n",
    "    #     \"trans_cost\": 84000\n",
    "    # },\n",
    "    # \"ETHBTC\":{ \n",
    "    #     \"pip_value\": 0.0001,\n",
    "    #     \"spread\": 10,   \n",
    "    #     \"trans_cost\": 2\n",
    "    # },\n",
    "    # \"BTCEUR\": { \n",
    "    #     \"pip_value\": 0.01,  \n",
    "    #     \"spread\": 500,       \n",
    "    #     \"trans_cost\": 28000\n",
    "    # },\n",
    "    # \"BTCGBP\": { \n",
    "    #     \"pip_value\": 0.01,\n",
    "    #     \"spread\": 500,     \n",
    "    #     \"trans_cost\": 20000\n",
    "    # },\n",
    "    # # \"BTCJPY\":{ \n",
    "    # #     \"pip_value\": 0.01,\n",
    "    # #     \"spread\": 50000,     \n",
    "    # #     \"trans_cost\": 4000000\n",
    "    # # },\n",
    "    # \"BTCUSD\":{ \n",
    "    #     \"pip_value\": 0.01,\n",
    "    #     \"spread\": 500,       \n",
    "    #     \"trans_cost\": 28000\n",
    "    # },\n",
    "    \n",
    "    \n",
    "\n",
    "}\n",
    "\n",
    "\n",
    "pairs_pip_size = {\n",
    "    \"XAUUSD\": { \n",
    "        \"pip_value\": 0.01,  \n",
    "        \"spread\": 50,       \n",
    "        \"trans_cost\": 10\n",
    "    },\n",
    "    # \"XAUUSD2\": { \n",
    "    #     \"pip_value\": 0.01,  \n",
    "    #     \"spread\": 50,       \n",
    "    #     \"trans_cost\": 10\n",
    "    # },\n",
    "    # \"XAUUSD3\": { \n",
    "    #     \"pip_value\": 0.01,  \n",
    "    #     \"spread\": 50,       \n",
    "    #     \"trans_cost\": 10\n",
    "    # }\n",
    "}"
   ]
  },
  {
   "cell_type": "code",
   "execution_count": 29,
   "id": "8f001d9f-8b13-423d-a9d6-b2505e2ace31",
   "metadata": {
    "scrolled": true
   },
   "outputs": [
    {
     "name": "stdout",
     "output_type": "stream",
     "text": [
      " Ema short: 500  Ema Long 10000  Pair ---------> XAUUSD\n",
      "SL => 500000 | TP => 500000\n",
      "prepare_data...\n",
      "run_test...\n",
      "Result: -237.99999999999727\n",
      "Len loss:  1\n",
      "Len Open: 0\n",
      "Len Close: 5\n"
     ]
    }
   ],
   "source": [
    "\n",
    "qc.LoadQuotehistory(\"../data\")\n",
    "\n",
    "SL = [500000]\n",
    "TP = [500000]\n",
    "neg_multiplier = 1\n",
    "rev=False\n",
    "\n",
    "res = []\n",
    "for pair in pairs_pip_size:\n",
    "    # if pair in qc.quotehistory_dict.keys():\n",
    "    for es in [500]:\n",
    "        for el in [10000]:\n",
    "            print(f\" Ema short: {es}  Ema Long {el}  Pair ---------> {pair}\")\n",
    "            pip_size = pairs_pip_size[pair]['pip_value']\n",
    "            for sl in SL:\n",
    "                for tp in TP:\n",
    "                    print(f\"SL => {sl} | TP => {tp}\")\n",
    "                    res.append(\n",
    "                        dict(\n",
    "                            pair=pair,\n",
    "                            stop_loss=sl,\n",
    "                            take_profit=tp,\n",
    "                            res=run_pair(\n",
    "                                pair,\n",
    "                                pip_size,\n",
    "                                granularity='M1',\n",
    "                                use_spread=True,\n",
    "                                stop_loss=sl,\n",
    "                                take_profit=tp,\n",
    "                                fixed_tp_sl=True,\n",
    "                                trans_cost=pairs_pip_size[pair]['trans_cost'],\n",
    "                                neg_multiplier=neg_multiplier,\n",
    "                                rev=rev,\n",
    "                                spread_limit=pairs_pip_size[pair]['spread'],\n",
    "                                ema_1=es,\n",
    "                                ema_3=el\n",
    "                            )\n",
    "                        )\n",
    "                    )\n",
    "                "
   ]
  },
  {
   "cell_type": "code",
   "execution_count": 13,
   "id": "af60633e-dc15-4d71-89c9-56ae55306633",
   "metadata": {},
   "outputs": [
    {
     "data": {
      "text/plain": [
       "Index(['time', 'bid_o', 'bid_h', 'bid_l', 'bid_c', 'ask_o', 'ask_h', 'ask_l',\n",
       "       'ask_c', 'mid_o', 'mid_h', 'mid_l', 'mid_c', 'EMA_500', 'EMA_480',\n",
       "       'EMA_10000', 'DIRECTION', 'EMA_MID', 'DELTA1', 'DELTA1_PREV', 'DELTA2',\n",
       "       'DELTA2_PREV', 'donchian_high', 'donchian_low', 'donchian_mid',\n",
       "       'DELTA3', 'DELTA3_PREV', 'SMA', 'env_high1', 'env_low1', 'env_high2',\n",
       "       'env_low2', 'env_high3', 'env_low3', 'SPREAD', 'SIGNAL', 'SIGNAL_SHORT',\n",
       "       'TP', 'SL', 'SL_VALUE'],\n",
       "      dtype='object')"
      ]
     },
     "execution_count": 13,
     "metadata": {},
     "output_type": "execute_result"
    }
   ],
   "source": [
    "\n",
    "df = res[0]['res'].df\n",
    "df.columns"
   ]
  },
  {
   "cell_type": "code",
   "execution_count": 14,
   "id": "50128798-931c-47ec-8e66-438a5c786006",
   "metadata": {},
   "outputs": [
    {
     "name": "stdout",
     "output_type": "stream",
     "text": [
      "XAUUSD 27369.999999999985\n"
     ]
    }
   ],
   "source": [
    "for r in res:\n",
    "    print(r['pair'], r['res'].df_results.result.sum())"
   ]
  },
  {
   "cell_type": "code",
   "execution_count": 25,
   "id": "505e5dff-80f3-4f7c-b2c4-7d4fbaaf940c",
   "metadata": {},
   "outputs": [
    {
     "data": {
      "text/html": [
       "<div>\n",
       "<style scoped>\n",
       "    .dataframe tbody tr th:only-of-type {\n",
       "        vertical-align: middle;\n",
       "    }\n",
       "\n",
       "    .dataframe tbody tr th {\n",
       "        vertical-align: top;\n",
       "    }\n",
       "\n",
       "    .dataframe thead th {\n",
       "        text-align: right;\n",
       "    }\n",
       "</style>\n",
       "<table border=\"1\" class=\"dataframe\">\n",
       "  <thead>\n",
       "    <tr style=\"text-align: right;\">\n",
       "      <th></th>\n",
       "      <th>donchian_high</th>\n",
       "      <th>donchian_low</th>\n",
       "      <th>donchian_mid</th>\n",
       "      <th>env_high1</th>\n",
       "      <th>SPREAD</th>\n",
       "      <th>SIGNAL</th>\n",
       "      <th>EMA_MID</th>\n",
       "    </tr>\n",
       "  </thead>\n",
       "  <tbody>\n",
       "    <tr>\n",
       "      <th>count</th>\n",
       "      <td>606400.000000</td>\n",
       "      <td>606400.000000</td>\n",
       "      <td>606400.000000</td>\n",
       "      <td>606400.000000</td>\n",
       "      <td>606400.000000</td>\n",
       "      <td>606400.000000</td>\n",
       "      <td>606400.000000</td>\n",
       "    </tr>\n",
       "    <tr>\n",
       "      <th>mean</th>\n",
       "      <td>2104.386979</td>\n",
       "      <td>2091.352977</td>\n",
       "      <td>2097.869978</td>\n",
       "      <td>2108.587627</td>\n",
       "      <td>21.161502</td>\n",
       "      <td>0.000000</td>\n",
       "      <td>0.318313</td>\n",
       "    </tr>\n",
       "    <tr>\n",
       "      <th>std</th>\n",
       "      <td>215.352192</td>\n",
       "      <td>212.687607</td>\n",
       "      <td>213.979678</td>\n",
       "      <td>215.319784</td>\n",
       "      <td>8.992615</td>\n",
       "      <td>0.014415</td>\n",
       "      <td>5.438117</td>\n",
       "    </tr>\n",
       "    <tr>\n",
       "      <th>min</th>\n",
       "      <td>1813.215000</td>\n",
       "      <td>1806.760000</td>\n",
       "      <td>1809.987500</td>\n",
       "      <td>1817.515465</td>\n",
       "      <td>-361.000000</td>\n",
       "      <td>-1.000000</td>\n",
       "      <td>-51.958705</td>\n",
       "    </tr>\n",
       "    <tr>\n",
       "      <th>25%</th>\n",
       "      <td>1941.935000</td>\n",
       "      <td>1932.660000</td>\n",
       "      <td>1937.410000</td>\n",
       "      <td>1946.726532</td>\n",
       "      <td>16.000000</td>\n",
       "      <td>0.000000</td>\n",
       "      <td>-2.112346</td>\n",
       "    </tr>\n",
       "    <tr>\n",
       "      <th>50%</th>\n",
       "      <td>2018.630000</td>\n",
       "      <td>2006.275000</td>\n",
       "      <td>2013.127500</td>\n",
       "      <td>2023.769002</td>\n",
       "      <td>21.000000</td>\n",
       "      <td>0.000000</td>\n",
       "      <td>0.272240</td>\n",
       "    </tr>\n",
       "    <tr>\n",
       "      <th>75%</th>\n",
       "      <td>2328.250000</td>\n",
       "      <td>2311.270000</td>\n",
       "      <td>2319.947500</td>\n",
       "      <td>2331.751855</td>\n",
       "      <td>25.000000</td>\n",
       "      <td>0.000000</td>\n",
       "      <td>2.691957</td>\n",
       "    </tr>\n",
       "    <tr>\n",
       "      <th>max</th>\n",
       "      <td>2685.640000</td>\n",
       "      <td>2669.355000</td>\n",
       "      <td>2673.510000</td>\n",
       "      <td>2694.846798</td>\n",
       "      <td>437.000000</td>\n",
       "      <td>1.000000</td>\n",
       "      <td>66.513985</td>\n",
       "    </tr>\n",
       "  </tbody>\n",
       "</table>\n",
       "</div>"
      ],
      "text/plain": [
       "       donchian_high   donchian_low   donchian_mid      env_high1  \\\n",
       "count  606400.000000  606400.000000  606400.000000  606400.000000   \n",
       "mean     2104.386979    2091.352977    2097.869978    2108.587627   \n",
       "std       215.352192     212.687607     213.979678     215.319784   \n",
       "min      1813.215000    1806.760000    1809.987500    1817.515465   \n",
       "25%      1941.935000    1932.660000    1937.410000    1946.726532   \n",
       "50%      2018.630000    2006.275000    2013.127500    2023.769002   \n",
       "75%      2328.250000    2311.270000    2319.947500    2331.751855   \n",
       "max      2685.640000    2669.355000    2673.510000    2694.846798   \n",
       "\n",
       "              SPREAD         SIGNAL        EMA_MID  \n",
       "count  606400.000000  606400.000000  606400.000000  \n",
       "mean       21.161502       0.000000       0.318313  \n",
       "std         8.992615       0.014415       5.438117  \n",
       "min      -361.000000      -1.000000     -51.958705  \n",
       "25%        16.000000       0.000000      -2.112346  \n",
       "50%        21.000000       0.000000       0.272240  \n",
       "75%        25.000000       0.000000       2.691957  \n",
       "max       437.000000       1.000000      66.513985  "
      ]
     },
     "execution_count": 25,
     "metadata": {},
     "output_type": "execute_result"
    }
   ],
   "source": [
    "df[['donchian_high', 'donchian_low', 'donchian_mid','env_high1', 'SPREAD', 'SIGNAL', 'EMA_MID']].describe()"
   ]
  },
  {
   "cell_type": "code",
   "execution_count": 16,
   "id": "b2bef8f3-13b2-4e29-b73a-accc47ce5aa8",
   "metadata": {},
   "outputs": [
    {
     "name": "stdout",
     "output_type": "stream",
     "text": [
      "XAUUSD\n",
      "Index(['running', 'start_index_m5', 'profit_factor', 'loss_factor',\n",
      "       'pip_value', 'SL_value', 'count', 'neg_multiplier', 'trans_cost',\n",
      "       'trigger_type', 'rev', 'start_price', 'trigger_price', 'SIGNAL', 'TP',\n",
      "       'SL', 'result', 'end_time', 'start_time'],\n",
      "      dtype='object')\n"
     ]
    },
    {
     "data": {
      "text/plain": [
       "((126, 19), (65, 19), (61, 19))"
      ]
     },
     "execution_count": 16,
     "metadata": {},
     "output_type": "execute_result"
    }
   ],
   "source": [
    "df_results = res[0]['res'].df_results\n",
    "pair = res[0]['pair']\n",
    "print(pair)\n",
    "print(df_results.columns)\n",
    "res_pos = df_results[df_results['result'] > 0]\n",
    "res_neg = df_results[df_results['result'] < 0]\n",
    "df_results.shape, res_pos.shape, res_neg.shape"
   ]
  },
  {
   "cell_type": "code",
   "execution_count": 17,
   "id": "146407ad-c2b9-4b5a-82f7-56e0f0ab8eeb",
   "metadata": {},
   "outputs": [
    {
     "data": {
      "text/html": [
       "<div>\n",
       "<style scoped>\n",
       "    .dataframe tbody tr th:only-of-type {\n",
       "        vertical-align: middle;\n",
       "    }\n",
       "\n",
       "    .dataframe tbody tr th {\n",
       "        vertical-align: top;\n",
       "    }\n",
       "\n",
       "    .dataframe thead th {\n",
       "        text-align: right;\n",
       "    }\n",
       "</style>\n",
       "<table border=\"1\" class=\"dataframe\">\n",
       "  <thead>\n",
       "    <tr style=\"text-align: right;\">\n",
       "      <th></th>\n",
       "      <th>start_index_m5</th>\n",
       "      <th>profit_factor</th>\n",
       "      <th>loss_factor</th>\n",
       "      <th>pip_value</th>\n",
       "      <th>SL_value</th>\n",
       "      <th>count</th>\n",
       "      <th>neg_multiplier</th>\n",
       "      <th>trans_cost</th>\n",
       "      <th>trigger_type</th>\n",
       "      <th>start_price</th>\n",
       "      <th>SIGNAL</th>\n",
       "      <th>TP</th>\n",
       "      <th>SL</th>\n",
       "      <th>result</th>\n",
       "      <th>end_time</th>\n",
       "      <th>start_time</th>\n",
       "    </tr>\n",
       "  </thead>\n",
       "  <tbody>\n",
       "    <tr>\n",
       "      <th>count</th>\n",
       "      <td>126.000000</td>\n",
       "      <td>126.0</td>\n",
       "      <td>126.0</td>\n",
       "      <td>126.00</td>\n",
       "      <td>126.0</td>\n",
       "      <td>126.000000</td>\n",
       "      <td>126.0</td>\n",
       "      <td>126.0</td>\n",
       "      <td>126.000000</td>\n",
       "      <td>126.000000</td>\n",
       "      <td>126.000000</td>\n",
       "      <td>126.000000</td>\n",
       "      <td>126.000000</td>\n",
       "      <td>126.000000</td>\n",
       "      <td>126</td>\n",
       "      <td>126</td>\n",
       "    </tr>\n",
       "    <tr>\n",
       "      <th>mean</th>\n",
       "      <td>290267.182540</td>\n",
       "      <td>500000.0</td>\n",
       "      <td>500000.0</td>\n",
       "      <td>0.01</td>\n",
       "      <td>500000.0</td>\n",
       "      <td>1525.373016</td>\n",
       "      <td>1.0</td>\n",
       "      <td>10.0</td>\n",
       "      <td>3.515873</td>\n",
       "      <td>2090.251508</td>\n",
       "      <td>0.000000</td>\n",
       "      <td>2090.254762</td>\n",
       "      <td>2090.254762</td>\n",
       "      <td>217.222222</td>\n",
       "      <td>2023-11-09 13:26:41.428571648</td>\n",
       "      <td>2023-11-07 23:42:43.333333248</td>\n",
       "    </tr>\n",
       "    <tr>\n",
       "      <th>min</th>\n",
       "      <td>15244.000000</td>\n",
       "      <td>500000.0</td>\n",
       "      <td>500000.0</td>\n",
       "      <td>0.01</td>\n",
       "      <td>500000.0</td>\n",
       "      <td>3.000000</td>\n",
       "      <td>1.0</td>\n",
       "      <td>10.0</td>\n",
       "      <td>3.000000</td>\n",
       "      <td>1822.090000</td>\n",
       "      <td>-1.000000</td>\n",
       "      <td>-3178.080000</td>\n",
       "      <td>-3169.350000</td>\n",
       "      <td>-3504.000000</td>\n",
       "      <td>2023-01-27 09:31:00</td>\n",
       "      <td>2023-01-27 08:23:00</td>\n",
       "    </tr>\n",
       "    <tr>\n",
       "      <th>25%</th>\n",
       "      <td>140992.250000</td>\n",
       "      <td>500000.0</td>\n",
       "      <td>500000.0</td>\n",
       "      <td>0.01</td>\n",
       "      <td>500000.0</td>\n",
       "      <td>232.500000</td>\n",
       "      <td>1.0</td>\n",
       "      <td>10.0</td>\n",
       "      <td>3.000000</td>\n",
       "      <td>1955.667500</td>\n",
       "      <td>-1.000000</td>\n",
       "      <td>-2987.167500</td>\n",
       "      <td>-2989.415000</td>\n",
       "      <td>-819.000000</td>\n",
       "      <td>2023-06-07 15:39:00</td>\n",
       "      <td>2023-06-06 17:49:15</td>\n",
       "    </tr>\n",
       "    <tr>\n",
       "      <th>50%</th>\n",
       "      <td>293641.500000</td>\n",
       "      <td>500000.0</td>\n",
       "      <td>500000.0</td>\n",
       "      <td>0.01</td>\n",
       "      <td>500000.0</td>\n",
       "      <td>522.000000</td>\n",
       "      <td>1.0</td>\n",
       "      <td>10.0</td>\n",
       "      <td>4.000000</td>\n",
       "      <td>2010.645000</td>\n",
       "      <td>0.000000</td>\n",
       "      <td>2167.040000</td>\n",
       "      <td>2166.815000</td>\n",
       "      <td>121.000000</td>\n",
       "      <td>2023-11-12 15:43:30</td>\n",
       "      <td>2023-11-10 18:52:30</td>\n",
       "    </tr>\n",
       "    <tr>\n",
       "      <th>75%</th>\n",
       "      <td>455252.750000</td>\n",
       "      <td>500000.0</td>\n",
       "      <td>500000.0</td>\n",
       "      <td>0.01</td>\n",
       "      <td>500000.0</td>\n",
       "      <td>1522.250000</td>\n",
       "      <td>1.0</td>\n",
       "      <td>10.0</td>\n",
       "      <td>4.000000</td>\n",
       "      <td>2319.322500</td>\n",
       "      <td>1.000000</td>\n",
       "      <td>7008.627500</td>\n",
       "      <td>7010.772500</td>\n",
       "      <td>911.750000</td>\n",
       "      <td>2024-04-28 11:21:45</td>\n",
       "      <td>2024-04-26 14:51:45</td>\n",
       "    </tr>\n",
       "    <tr>\n",
       "      <th>max</th>\n",
       "      <td>587150.000000</td>\n",
       "      <td>500000.0</td>\n",
       "      <td>500000.0</td>\n",
       "      <td>0.01</td>\n",
       "      <td>500000.0</td>\n",
       "      <td>25104.000000</td>\n",
       "      <td>1.0</td>\n",
       "      <td>10.0</td>\n",
       "      <td>4.000000</td>\n",
       "      <td>2511.530000</td>\n",
       "      <td>1.000000</td>\n",
       "      <td>7511.710000</td>\n",
       "      <td>7503.430000</td>\n",
       "      <td>12357.000000</td>\n",
       "      <td>2024-09-11 01:34:00</td>\n",
       "      <td>2024-09-09 22:53:00</td>\n",
       "    </tr>\n",
       "    <tr>\n",
       "      <th>std</th>\n",
       "      <td>174373.289948</td>\n",
       "      <td>0.0</td>\n",
       "      <td>0.0</td>\n",
       "      <td>0.00</td>\n",
       "      <td>0.0</td>\n",
       "      <td>3096.763308</td>\n",
       "      <td>0.0</td>\n",
       "      <td>0.0</td>\n",
       "      <td>0.501743</td>\n",
       "      <td>188.960557</td>\n",
       "      <td>1.003992</td>\n",
       "      <td>5024.219332</td>\n",
       "      <td>5022.811553</td>\n",
       "      <td>1863.170201</td>\n",
       "      <td>NaN</td>\n",
       "      <td>NaN</td>\n",
       "    </tr>\n",
       "  </tbody>\n",
       "</table>\n",
       "</div>"
      ],
      "text/plain": [
       "       start_index_m5  profit_factor  loss_factor  pip_value  SL_value  \\\n",
       "count      126.000000          126.0        126.0     126.00     126.0   \n",
       "mean    290267.182540       500000.0     500000.0       0.01  500000.0   \n",
       "min      15244.000000       500000.0     500000.0       0.01  500000.0   \n",
       "25%     140992.250000       500000.0     500000.0       0.01  500000.0   \n",
       "50%     293641.500000       500000.0     500000.0       0.01  500000.0   \n",
       "75%     455252.750000       500000.0     500000.0       0.01  500000.0   \n",
       "max     587150.000000       500000.0     500000.0       0.01  500000.0   \n",
       "std     174373.289948            0.0          0.0       0.00       0.0   \n",
       "\n",
       "              count  neg_multiplier  trans_cost  trigger_type  start_price  \\\n",
       "count    126.000000           126.0       126.0    126.000000   126.000000   \n",
       "mean    1525.373016             1.0        10.0      3.515873  2090.251508   \n",
       "min        3.000000             1.0        10.0      3.000000  1822.090000   \n",
       "25%      232.500000             1.0        10.0      3.000000  1955.667500   \n",
       "50%      522.000000             1.0        10.0      4.000000  2010.645000   \n",
       "75%     1522.250000             1.0        10.0      4.000000  2319.322500   \n",
       "max    25104.000000             1.0        10.0      4.000000  2511.530000   \n",
       "std     3096.763308             0.0         0.0      0.501743   188.960557   \n",
       "\n",
       "           SIGNAL           TP           SL        result  \\\n",
       "count  126.000000   126.000000   126.000000    126.000000   \n",
       "mean     0.000000  2090.254762  2090.254762    217.222222   \n",
       "min     -1.000000 -3178.080000 -3169.350000  -3504.000000   \n",
       "25%     -1.000000 -2987.167500 -2989.415000   -819.000000   \n",
       "50%      0.000000  2167.040000  2166.815000    121.000000   \n",
       "75%      1.000000  7008.627500  7010.772500    911.750000   \n",
       "max      1.000000  7511.710000  7503.430000  12357.000000   \n",
       "std      1.003992  5024.219332  5022.811553   1863.170201   \n",
       "\n",
       "                            end_time                     start_time  \n",
       "count                            126                            126  \n",
       "mean   2023-11-09 13:26:41.428571648  2023-11-07 23:42:43.333333248  \n",
       "min              2023-01-27 09:31:00            2023-01-27 08:23:00  \n",
       "25%              2023-06-07 15:39:00            2023-06-06 17:49:15  \n",
       "50%              2023-11-12 15:43:30            2023-11-10 18:52:30  \n",
       "75%              2024-04-28 11:21:45            2024-04-26 14:51:45  \n",
       "max              2024-09-11 01:34:00            2024-09-09 22:53:00  \n",
       "std                              NaN                            NaN  "
      ]
     },
     "execution_count": 17,
     "metadata": {},
     "output_type": "execute_result"
    }
   ],
   "source": [
    "df_results.describe()"
   ]
  },
  {
   "cell_type": "code",
   "execution_count": 18,
   "id": "96aa35ca-a40f-4a5b-b8a2-982ecfc67550",
   "metadata": {},
   "outputs": [
    {
     "data": {
      "text/plain": [
       "SIGNAL\n",
       "-1    63\n",
       " 1    63\n",
       "Name: count, dtype: int64"
      ]
     },
     "execution_count": 18,
     "metadata": {},
     "output_type": "execute_result"
    }
   ],
   "source": [
    "df_results['SIGNAL'].value_counts()"
   ]
  },
  {
   "cell_type": "code",
   "execution_count": 19,
   "id": "1e0d53f7-cec7-47fe-aada-7a2309a41f0d",
   "metadata": {},
   "outputs": [
    {
     "data": {
      "text/plain": [
       "np.float64(27369.999999999985)"
      ]
     },
     "execution_count": 19,
     "metadata": {},
     "output_type": "execute_result"
    }
   ],
   "source": [
    "df_results.result.sum()"
   ]
  },
  {
   "cell_type": "code",
   "execution_count": 20,
   "id": "c8cc408a-d084-4915-a468-bb1cfa6732c8",
   "metadata": {},
   "outputs": [
    {
     "data": {
      "text/plain": [
       "(np.float64(-60139.000000000065), np.float64(-985.8852459016405))"
      ]
     },
     "execution_count": 20,
     "metadata": {},
     "output_type": "execute_result"
    }
   ],
   "source": [
    "sum_neg = res_neg.result.sum()\n",
    "sum_neg, sum_neg/res_neg.shape[0]"
   ]
  },
  {
   "cell_type": "code",
   "execution_count": 21,
   "id": "89df39e6-82e9-43a5-a2ed-4312b6db9ab3",
   "metadata": {},
   "outputs": [
    {
     "data": {
      "text/plain": [
       "(np.float64(87509.00000000006), np.float64(1346.2923076923087))"
      ]
     },
     "execution_count": 21,
     "metadata": {},
     "output_type": "execute_result"
    }
   ],
   "source": [
    "sum_pos = res_pos.result.sum()\n",
    "sum_pos, sum_pos/res_pos.shape[0]"
   ]
  },
  {
   "cell_type": "code",
   "execution_count": 22,
   "id": "bf9ce9cc-60b0-46b9-a0af-6c7a4d6af2f8",
   "metadata": {},
   "outputs": [
    {
     "data": {
      "text/html": [
       "<div>\n",
       "<style scoped>\n",
       "    .dataframe tbody tr th:only-of-type {\n",
       "        vertical-align: middle;\n",
       "    }\n",
       "\n",
       "    .dataframe tbody tr th {\n",
       "        vertical-align: top;\n",
       "    }\n",
       "\n",
       "    .dataframe thead th {\n",
       "        text-align: right;\n",
       "    }\n",
       "</style>\n",
       "<table border=\"1\" class=\"dataframe\">\n",
       "  <thead>\n",
       "    <tr style=\"text-align: right;\">\n",
       "      <th></th>\n",
       "      <th>start_index_m5</th>\n",
       "      <th>profit_factor</th>\n",
       "      <th>loss_factor</th>\n",
       "      <th>pip_value</th>\n",
       "      <th>SL_value</th>\n",
       "      <th>count</th>\n",
       "      <th>neg_multiplier</th>\n",
       "      <th>trans_cost</th>\n",
       "      <th>trigger_type</th>\n",
       "      <th>start_price</th>\n",
       "      <th>SIGNAL</th>\n",
       "      <th>TP</th>\n",
       "      <th>SL</th>\n",
       "      <th>result</th>\n",
       "      <th>end_time</th>\n",
       "      <th>start_time</th>\n",
       "    </tr>\n",
       "  </thead>\n",
       "  <tbody>\n",
       "    <tr>\n",
       "      <th>count</th>\n",
       "      <td>61.000000</td>\n",
       "      <td>61.0</td>\n",
       "      <td>61.0</td>\n",
       "      <td>6.100000e+01</td>\n",
       "      <td>61.0</td>\n",
       "      <td>61.000000</td>\n",
       "      <td>61.0</td>\n",
       "      <td>61.0</td>\n",
       "      <td>61.0</td>\n",
       "      <td>61.000000</td>\n",
       "      <td>61.000000</td>\n",
       "      <td>61.000000</td>\n",
       "      <td>61.000000</td>\n",
       "      <td>61.000000</td>\n",
       "      <td>61</td>\n",
       "      <td>61</td>\n",
       "    </tr>\n",
       "    <tr>\n",
       "      <th>mean</th>\n",
       "      <td>284862.311475</td>\n",
       "      <td>500000.0</td>\n",
       "      <td>500000.0</td>\n",
       "      <td>1.000000e-02</td>\n",
       "      <td>500000.0</td>\n",
       "      <td>1460.950820</td>\n",
       "      <td>1.0</td>\n",
       "      <td>10.0</td>\n",
       "      <td>4.0</td>\n",
       "      <td>2085.630984</td>\n",
       "      <td>0.016393</td>\n",
       "      <td>2167.611639</td>\n",
       "      <td>2003.677213</td>\n",
       "      <td>-985.885246</td>\n",
       "      <td>2023-11-03 22:28:29.508196864</td>\n",
       "      <td>2023-11-02 09:07:20.655737856</td>\n",
       "    </tr>\n",
       "    <tr>\n",
       "      <th>min</th>\n",
       "      <td>15244.000000</td>\n",
       "      <td>500000.0</td>\n",
       "      <td>500000.0</td>\n",
       "      <td>1.000000e-02</td>\n",
       "      <td>500000.0</td>\n",
       "      <td>3.000000</td>\n",
       "      <td>1.0</td>\n",
       "      <td>10.0</td>\n",
       "      <td>4.0</td>\n",
       "      <td>1830.510000</td>\n",
       "      <td>-1.000000</td>\n",
       "      <td>-3084.030000</td>\n",
       "      <td>-3169.350000</td>\n",
       "      <td>-3504.000000</td>\n",
       "      <td>2023-01-27 09:31:00</td>\n",
       "      <td>2023-01-27 08:23:00</td>\n",
       "    </tr>\n",
       "    <tr>\n",
       "      <th>25%</th>\n",
       "      <td>140575.000000</td>\n",
       "      <td>500000.0</td>\n",
       "      <td>500000.0</td>\n",
       "      <td>1.000000e-02</td>\n",
       "      <td>500000.0</td>\n",
       "      <td>361.000000</td>\n",
       "      <td>1.0</td>\n",
       "      <td>10.0</td>\n",
       "      <td>4.0</td>\n",
       "      <td>1958.080000</td>\n",
       "      <td>-1.000000</td>\n",
       "      <td>-3012.060000</td>\n",
       "      <td>-2967.880000</td>\n",
       "      <td>-1310.000000</td>\n",
       "      <td>2023-06-07 15:26:00</td>\n",
       "      <td>2023-06-06 10:37:00</td>\n",
       "    </tr>\n",
       "    <tr>\n",
       "      <th>50%</th>\n",
       "      <td>247810.000000</td>\n",
       "      <td>500000.0</td>\n",
       "      <td>500000.0</td>\n",
       "      <td>1.000000e-02</td>\n",
       "      <td>500000.0</td>\n",
       "      <td>622.000000</td>\n",
       "      <td>1.0</td>\n",
       "      <td>10.0</td>\n",
       "      <td>4.0</td>\n",
       "      <td>2006.300000</td>\n",
       "      <td>1.000000</td>\n",
       "      <td>6830.650000</td>\n",
       "      <td>-2593.930000</td>\n",
       "      <td>-846.000000</td>\n",
       "      <td>2023-09-25 00:34:00</td>\n",
       "      <td>2023-09-22 13:11:00</td>\n",
       "    </tr>\n",
       "    <tr>\n",
       "      <th>75%</th>\n",
       "      <td>422442.000000</td>\n",
       "      <td>500000.0</td>\n",
       "      <td>500000.0</td>\n",
       "      <td>1.000000e-02</td>\n",
       "      <td>500000.0</td>\n",
       "      <td>1916.000000</td>\n",
       "      <td>1.0</td>\n",
       "      <td>10.0</td>\n",
       "      <td>4.0</td>\n",
       "      <td>2162.490000</td>\n",
       "      <td>1.000000</td>\n",
       "      <td>7032.120000</td>\n",
       "      <td>6985.900000</td>\n",
       "      <td>-502.000000</td>\n",
       "      <td>2024-03-25 01:50:00</td>\n",
       "      <td>2024-03-22 18:36:00</td>\n",
       "    </tr>\n",
       "    <tr>\n",
       "      <th>max</th>\n",
       "      <td>585573.000000</td>\n",
       "      <td>500000.0</td>\n",
       "      <td>500000.0</td>\n",
       "      <td>1.000000e-02</td>\n",
       "      <td>500000.0</td>\n",
       "      <td>6209.000000</td>\n",
       "      <td>1.0</td>\n",
       "      <td>10.0</td>\n",
       "      <td>4.0</td>\n",
       "      <td>2503.610000</td>\n",
       "      <td>1.000000</td>\n",
       "      <td>7406.070000</td>\n",
       "      <td>7503.430000</td>\n",
       "      <td>-106.000000</td>\n",
       "      <td>2024-09-09 22:53:00</td>\n",
       "      <td>2024-09-06 18:34:00</td>\n",
       "    </tr>\n",
       "    <tr>\n",
       "      <th>std</th>\n",
       "      <td>172217.569927</td>\n",
       "      <td>0.0</td>\n",
       "      <td>0.0</td>\n",
       "      <td>1.749120e-18</td>\n",
       "      <td>0.0</td>\n",
       "      <td>1677.673413</td>\n",
       "      <td>0.0</td>\n",
       "      <td>0.0</td>\n",
       "      <td>0.0</td>\n",
       "      <td>182.533408</td>\n",
       "      <td>1.008163</td>\n",
       "      <td>5042.799380</td>\n",
       "      <td>5045.441877</td>\n",
       "      <td>675.650652</td>\n",
       "      <td>NaN</td>\n",
       "      <td>NaN</td>\n",
       "    </tr>\n",
       "  </tbody>\n",
       "</table>\n",
       "</div>"
      ],
      "text/plain": [
       "       start_index_m5  profit_factor  loss_factor     pip_value  SL_value  \\\n",
       "count       61.000000           61.0         61.0  6.100000e+01      61.0   \n",
       "mean    284862.311475       500000.0     500000.0  1.000000e-02  500000.0   \n",
       "min      15244.000000       500000.0     500000.0  1.000000e-02  500000.0   \n",
       "25%     140575.000000       500000.0     500000.0  1.000000e-02  500000.0   \n",
       "50%     247810.000000       500000.0     500000.0  1.000000e-02  500000.0   \n",
       "75%     422442.000000       500000.0     500000.0  1.000000e-02  500000.0   \n",
       "max     585573.000000       500000.0     500000.0  1.000000e-02  500000.0   \n",
       "std     172217.569927            0.0          0.0  1.749120e-18       0.0   \n",
       "\n",
       "             count  neg_multiplier  trans_cost  trigger_type  start_price  \\\n",
       "count    61.000000            61.0        61.0          61.0    61.000000   \n",
       "mean   1460.950820             1.0        10.0           4.0  2085.630984   \n",
       "min       3.000000             1.0        10.0           4.0  1830.510000   \n",
       "25%     361.000000             1.0        10.0           4.0  1958.080000   \n",
       "50%     622.000000             1.0        10.0           4.0  2006.300000   \n",
       "75%    1916.000000             1.0        10.0           4.0  2162.490000   \n",
       "max    6209.000000             1.0        10.0           4.0  2503.610000   \n",
       "std    1677.673413             0.0         0.0           0.0   182.533408   \n",
       "\n",
       "          SIGNAL           TP           SL       result  \\\n",
       "count  61.000000    61.000000    61.000000    61.000000   \n",
       "mean    0.016393  2167.611639  2003.677213  -985.885246   \n",
       "min    -1.000000 -3084.030000 -3169.350000 -3504.000000   \n",
       "25%    -1.000000 -3012.060000 -2967.880000 -1310.000000   \n",
       "50%     1.000000  6830.650000 -2593.930000  -846.000000   \n",
       "75%     1.000000  7032.120000  6985.900000  -502.000000   \n",
       "max     1.000000  7406.070000  7503.430000  -106.000000   \n",
       "std     1.008163  5042.799380  5045.441877   675.650652   \n",
       "\n",
       "                            end_time                     start_time  \n",
       "count                             61                             61  \n",
       "mean   2023-11-03 22:28:29.508196864  2023-11-02 09:07:20.655737856  \n",
       "min              2023-01-27 09:31:00            2023-01-27 08:23:00  \n",
       "25%              2023-06-07 15:26:00            2023-06-06 10:37:00  \n",
       "50%              2023-09-25 00:34:00            2023-09-22 13:11:00  \n",
       "75%              2024-03-25 01:50:00            2024-03-22 18:36:00  \n",
       "max              2024-09-09 22:53:00            2024-09-06 18:34:00  \n",
       "std                              NaN                            NaN  "
      ]
     },
     "execution_count": 22,
     "metadata": {},
     "output_type": "execute_result"
    }
   ],
   "source": [
    "res_neg.describe()"
   ]
  },
  {
   "cell_type": "code",
   "execution_count": 23,
   "id": "5b7eb3f0-f062-4e91-9a79-c916a57439cb",
   "metadata": {
    "scrolled": true
   },
   "outputs": [
    {
     "data": {
      "text/html": [
       "<div>\n",
       "<style scoped>\n",
       "    .dataframe tbody tr th:only-of-type {\n",
       "        vertical-align: middle;\n",
       "    }\n",
       "\n",
       "    .dataframe tbody tr th {\n",
       "        vertical-align: top;\n",
       "    }\n",
       "\n",
       "    .dataframe thead th {\n",
       "        text-align: right;\n",
       "    }\n",
       "</style>\n",
       "<table border=\"1\" class=\"dataframe\">\n",
       "  <thead>\n",
       "    <tr style=\"text-align: right;\">\n",
       "      <th></th>\n",
       "      <th>start_index_m5</th>\n",
       "      <th>profit_factor</th>\n",
       "      <th>loss_factor</th>\n",
       "      <th>pip_value</th>\n",
       "      <th>SL_value</th>\n",
       "      <th>count</th>\n",
       "      <th>neg_multiplier</th>\n",
       "      <th>trans_cost</th>\n",
       "      <th>trigger_type</th>\n",
       "      <th>start_price</th>\n",
       "      <th>SIGNAL</th>\n",
       "      <th>TP</th>\n",
       "      <th>SL</th>\n",
       "      <th>result</th>\n",
       "      <th>end_time</th>\n",
       "      <th>start_time</th>\n",
       "    </tr>\n",
       "  </thead>\n",
       "  <tbody>\n",
       "    <tr>\n",
       "      <th>count</th>\n",
       "      <td>65.000000</td>\n",
       "      <td>65.0</td>\n",
       "      <td>65.0</td>\n",
       "      <td>65.00</td>\n",
       "      <td>65.0</td>\n",
       "      <td>65.000000</td>\n",
       "      <td>65.0</td>\n",
       "      <td>65.0</td>\n",
       "      <td>65.000000</td>\n",
       "      <td>65.000000</td>\n",
       "      <td>65.000000</td>\n",
       "      <td>65.000000</td>\n",
       "      <td>65.000000</td>\n",
       "      <td>65.000000</td>\n",
       "      <td>65</td>\n",
       "      <td>65</td>\n",
       "    </tr>\n",
       "    <tr>\n",
       "      <th>mean</th>\n",
       "      <td>295339.446154</td>\n",
       "      <td>500000.0</td>\n",
       "      <td>500000.0</td>\n",
       "      <td>0.01</td>\n",
       "      <td>500000.0</td>\n",
       "      <td>1585.830769</td>\n",
       "      <td>1.0</td>\n",
       "      <td>10.0</td>\n",
       "      <td>3.061538</td>\n",
       "      <td>2094.587692</td>\n",
       "      <td>-0.015385</td>\n",
       "      <td>2017.658308</td>\n",
       "      <td>2171.504462</td>\n",
       "      <td>1346.292308</td>\n",
       "      <td>2023-11-14 20:06:32.307692288</td>\n",
       "      <td>2023-11-13 06:01:09.230769152</td>\n",
       "    </tr>\n",
       "    <tr>\n",
       "      <th>min</th>\n",
       "      <td>15312.000000</td>\n",
       "      <td>500000.0</td>\n",
       "      <td>500000.0</td>\n",
       "      <td>0.01</td>\n",
       "      <td>500000.0</td>\n",
       "      <td>5.000000</td>\n",
       "      <td>1.0</td>\n",
       "      <td>10.0</td>\n",
       "      <td>3.000000</td>\n",
       "      <td>1822.090000</td>\n",
       "      <td>-1.000000</td>\n",
       "      <td>-3178.080000</td>\n",
       "      <td>-3168.190000</td>\n",
       "      <td>46.000000</td>\n",
       "      <td>2023-01-27 13:21:00</td>\n",
       "      <td>2023-01-27 09:31:00</td>\n",
       "    </tr>\n",
       "    <tr>\n",
       "      <th>25%</th>\n",
       "      <td>142244.000000</td>\n",
       "      <td>500000.0</td>\n",
       "      <td>500000.0</td>\n",
       "      <td>0.01</td>\n",
       "      <td>500000.0</td>\n",
       "      <td>148.000000</td>\n",
       "      <td>1.0</td>\n",
       "      <td>10.0</td>\n",
       "      <td>3.000000</td>\n",
       "      <td>1954.360000</td>\n",
       "      <td>-1.000000</td>\n",
       "      <td>-2975.920000</td>\n",
       "      <td>-2990.710000</td>\n",
       "      <td>502.000000</td>\n",
       "      <td>2023-06-07 16:18:00</td>\n",
       "      <td>2023-06-07 15:26:00</td>\n",
       "    </tr>\n",
       "    <tr>\n",
       "      <th>50%</th>\n",
       "      <td>297700.000000</td>\n",
       "      <td>500000.0</td>\n",
       "      <td>500000.0</td>\n",
       "      <td>0.01</td>\n",
       "      <td>500000.0</td>\n",
       "      <td>438.000000</td>\n",
       "      <td>1.0</td>\n",
       "      <td>10.0</td>\n",
       "      <td>3.000000</td>\n",
       "      <td>2014.310000</td>\n",
       "      <td>-1.000000</td>\n",
       "      <td>-2598.340000</td>\n",
       "      <td>6821.920000</td>\n",
       "      <td>869.000000</td>\n",
       "      <td>2023-11-16 16:04:00</td>\n",
       "      <td>2023-11-14 17:35:00</td>\n",
       "    </tr>\n",
       "    <tr>\n",
       "      <th>75%</th>\n",
       "      <td>456910.000000</td>\n",
       "      <td>500000.0</td>\n",
       "      <td>500000.0</td>\n",
       "      <td>0.01</td>\n",
       "      <td>500000.0</td>\n",
       "      <td>979.000000</td>\n",
       "      <td>1.0</td>\n",
       "      <td>10.0</td>\n",
       "      <td>3.000000</td>\n",
       "      <td>2322.340000</td>\n",
       "      <td>1.000000</td>\n",
       "      <td>6997.430000</td>\n",
       "      <td>7024.080000</td>\n",
       "      <td>1366.000000</td>\n",
       "      <td>2024-04-30 04:26:00</td>\n",
       "      <td>2024-04-29 19:30:00</td>\n",
       "    </tr>\n",
       "    <tr>\n",
       "      <th>max</th>\n",
       "      <td>587150.000000</td>\n",
       "      <td>500000.0</td>\n",
       "      <td>500000.0</td>\n",
       "      <td>0.01</td>\n",
       "      <td>500000.0</td>\n",
       "      <td>25104.000000</td>\n",
       "      <td>1.0</td>\n",
       "      <td>10.0</td>\n",
       "      <td>4.000000</td>\n",
       "      <td>2511.530000</td>\n",
       "      <td>1.000000</td>\n",
       "      <td>7511.710000</td>\n",
       "      <td>7401.660000</td>\n",
       "      <td>12357.000000</td>\n",
       "      <td>2024-09-11 01:34:00</td>\n",
       "      <td>2024-09-09 22:53:00</td>\n",
       "    </tr>\n",
       "    <tr>\n",
       "      <th>std</th>\n",
       "      <td>177560.190768</td>\n",
       "      <td>0.0</td>\n",
       "      <td>0.0</td>\n",
       "      <td>0.00</td>\n",
       "      <td>0.0</td>\n",
       "      <td>4010.487893</td>\n",
       "      <td>0.0</td>\n",
       "      <td>0.0</td>\n",
       "      <td>0.242186</td>\n",
       "      <td>196.119796</td>\n",
       "      <td>1.007663</td>\n",
       "      <td>5044.877284</td>\n",
       "      <td>5039.382602</td>\n",
       "      <td>1917.752988</td>\n",
       "      <td>NaN</td>\n",
       "      <td>NaN</td>\n",
       "    </tr>\n",
       "  </tbody>\n",
       "</table>\n",
       "</div>"
      ],
      "text/plain": [
       "       start_index_m5  profit_factor  loss_factor  pip_value  SL_value  \\\n",
       "count       65.000000           65.0         65.0      65.00      65.0   \n",
       "mean    295339.446154       500000.0     500000.0       0.01  500000.0   \n",
       "min      15312.000000       500000.0     500000.0       0.01  500000.0   \n",
       "25%     142244.000000       500000.0     500000.0       0.01  500000.0   \n",
       "50%     297700.000000       500000.0     500000.0       0.01  500000.0   \n",
       "75%     456910.000000       500000.0     500000.0       0.01  500000.0   \n",
       "max     587150.000000       500000.0     500000.0       0.01  500000.0   \n",
       "std     177560.190768            0.0          0.0       0.00       0.0   \n",
       "\n",
       "              count  neg_multiplier  trans_cost  trigger_type  start_price  \\\n",
       "count     65.000000            65.0        65.0     65.000000    65.000000   \n",
       "mean    1585.830769             1.0        10.0      3.061538  2094.587692   \n",
       "min        5.000000             1.0        10.0      3.000000  1822.090000   \n",
       "25%      148.000000             1.0        10.0      3.000000  1954.360000   \n",
       "50%      438.000000             1.0        10.0      3.000000  2014.310000   \n",
       "75%      979.000000             1.0        10.0      3.000000  2322.340000   \n",
       "max    25104.000000             1.0        10.0      4.000000  2511.530000   \n",
       "std     4010.487893             0.0         0.0      0.242186   196.119796   \n",
       "\n",
       "          SIGNAL           TP           SL        result  \\\n",
       "count  65.000000    65.000000    65.000000     65.000000   \n",
       "mean   -0.015385  2017.658308  2171.504462   1346.292308   \n",
       "min    -1.000000 -3178.080000 -3168.190000     46.000000   \n",
       "25%    -1.000000 -2975.920000 -2990.710000    502.000000   \n",
       "50%    -1.000000 -2598.340000  6821.920000    869.000000   \n",
       "75%     1.000000  6997.430000  7024.080000   1366.000000   \n",
       "max     1.000000  7511.710000  7401.660000  12357.000000   \n",
       "std     1.007663  5044.877284  5039.382602   1917.752988   \n",
       "\n",
       "                            end_time                     start_time  \n",
       "count                             65                             65  \n",
       "mean   2023-11-14 20:06:32.307692288  2023-11-13 06:01:09.230769152  \n",
       "min              2023-01-27 13:21:00            2023-01-27 09:31:00  \n",
       "25%              2023-06-07 16:18:00            2023-06-07 15:26:00  \n",
       "50%              2023-11-16 16:04:00            2023-11-14 17:35:00  \n",
       "75%              2024-04-30 04:26:00            2024-04-29 19:30:00  \n",
       "max              2024-09-11 01:34:00            2024-09-09 22:53:00  \n",
       "std                              NaN                            NaN  "
      ]
     },
     "execution_count": 23,
     "metadata": {},
     "output_type": "execute_result"
    }
   ],
   "source": [
    "res_pos.describe()\n"
   ]
  },
  {
   "cell_type": "code",
   "execution_count": null,
   "id": "671483de-364f-434d-9ec2-9d021aeea995",
   "metadata": {},
   "outputs": [],
   "source": []
  },
  {
   "cell_type": "code",
   "execution_count": null,
   "id": "0c666e2d-350e-4b0a-83bc-a114de2cc627",
   "metadata": {},
   "outputs": [],
   "source": []
  },
  {
   "cell_type": "code",
   "execution_count": null,
   "id": "55fd9a42-c626-4106-b77a-7e227a5331f6",
   "metadata": {},
   "outputs": [],
   "source": []
  },
  {
   "cell_type": "code",
   "execution_count": 24,
   "id": "8665d081-ed33-4ae4-a39e-18a1be0af694",
   "metadata": {},
   "outputs": [
    {
     "ename": "KeyError",
     "evalue": "'EMA_5000'",
     "output_type": "error",
     "traceback": [
      "\u001b[0;31m---------------------------------------------------------------------------\u001b[0m",
      "\u001b[0;31mKeyError\u001b[0m                                  Traceback (most recent call last)",
      "File \u001b[0;32m~/Documentos/fxopen/venv/lib64/python3.12/site-packages/pandas/core/indexes/base.py:3805\u001b[0m, in \u001b[0;36mIndex.get_loc\u001b[0;34m(self, key)\u001b[0m\n\u001b[1;32m   3804\u001b[0m \u001b[38;5;28;01mtry\u001b[39;00m:\n\u001b[0;32m-> 3805\u001b[0m     \u001b[38;5;28;01mreturn\u001b[39;00m \u001b[38;5;28;43mself\u001b[39;49m\u001b[38;5;241;43m.\u001b[39;49m\u001b[43m_engine\u001b[49m\u001b[38;5;241;43m.\u001b[39;49m\u001b[43mget_loc\u001b[49m\u001b[43m(\u001b[49m\u001b[43mcasted_key\u001b[49m\u001b[43m)\u001b[49m\n\u001b[1;32m   3806\u001b[0m \u001b[38;5;28;01mexcept\u001b[39;00m \u001b[38;5;167;01mKeyError\u001b[39;00m \u001b[38;5;28;01mas\u001b[39;00m err:\n",
      "File \u001b[0;32mindex.pyx:167\u001b[0m, in \u001b[0;36mpandas._libs.index.IndexEngine.get_loc\u001b[0;34m()\u001b[0m\n",
      "File \u001b[0;32mindex.pyx:196\u001b[0m, in \u001b[0;36mpandas._libs.index.IndexEngine.get_loc\u001b[0;34m()\u001b[0m\n",
      "File \u001b[0;32mpandas/_libs/hashtable_class_helper.pxi:7081\u001b[0m, in \u001b[0;36mpandas._libs.hashtable.PyObjectHashTable.get_item\u001b[0;34m()\u001b[0m\n",
      "File \u001b[0;32mpandas/_libs/hashtable_class_helper.pxi:7089\u001b[0m, in \u001b[0;36mpandas._libs.hashtable.PyObjectHashTable.get_item\u001b[0;34m()\u001b[0m\n",
      "\u001b[0;31mKeyError\u001b[0m: 'EMA_5000'",
      "\nThe above exception was the direct cause of the following exception:\n",
      "\u001b[0;31mKeyError\u001b[0m                                  Traceback (most recent call last)",
      "Cell \u001b[0;32mIn[24], line 18\u001b[0m\n\u001b[1;32m      9\u001b[0m marker_colors \u001b[38;5;241m=\u001b[39m [\u001b[38;5;124m'\u001b[39m\u001b[38;5;124m#0000FF\u001b[39m\u001b[38;5;124m'\u001b[39m, \u001b[38;5;124m'\u001b[39m\u001b[38;5;124m#00FF00\u001b[39m\u001b[38;5;124m'\u001b[39m, \u001b[38;5;124m'\u001b[39m\u001b[38;5;124m#FF0000\u001b[39m\u001b[38;5;124m'\u001b[39m]\n\u001b[1;32m     11\u001b[0m cp\u001b[38;5;241m.\u001b[39mfig\u001b[38;5;241m.\u001b[39madd_trace(go\u001b[38;5;241m.\u001b[39mScatter(\n\u001b[1;32m     12\u001b[0m     x \u001b[38;5;241m=\u001b[39m trades\u001b[38;5;241m.\u001b[39msTime,\n\u001b[1;32m     13\u001b[0m     y \u001b[38;5;241m=\u001b[39m trades[markers[\u001b[38;5;241m0\u001b[39m]],\n\u001b[1;32m     14\u001b[0m     mode \u001b[38;5;241m=\u001b[39m \u001b[38;5;124m'\u001b[39m\u001b[38;5;124mmarkers\u001b[39m\u001b[38;5;124m'\u001b[39m,\n\u001b[1;32m     15\u001b[0m     marker\u001b[38;5;241m=\u001b[39m\u001b[38;5;28mdict\u001b[39m(color\u001b[38;5;241m=\u001b[39mmarker_colors[\u001b[38;5;241m0\u001b[39m], size\u001b[38;5;241m=\u001b[39m\u001b[38;5;241m12\u001b[39m)\n\u001b[1;32m     16\u001b[0m ))\n\u001b[0;32m---> 18\u001b[0m \u001b[43mcp\u001b[49m\u001b[38;5;241;43m.\u001b[39;49m\u001b[43mshow_plot\u001b[49m\u001b[43m(\u001b[49m\u001b[43mline_traces\u001b[49m\u001b[38;5;241;43m=\u001b[39;49m\u001b[43m[\u001b[49m\u001b[38;5;124;43m\"\u001b[39;49m\u001b[38;5;124;43mEMA_500\u001b[39;49m\u001b[38;5;124;43m\"\u001b[39;49m\u001b[43m,\u001b[49m\u001b[38;5;124;43m\"\u001b[39;49m\u001b[38;5;124;43mEMA_5000\u001b[39;49m\u001b[38;5;124;43m\"\u001b[39;49m\u001b[43m]\u001b[49m\u001b[43m,\u001b[49m\u001b[43m \u001b[49m\u001b[43mheight\u001b[49m\u001b[38;5;241;43m=\u001b[39;49m\u001b[38;5;241;43m500\u001b[39;49m\u001b[43m)\u001b[49m\n",
      "File \u001b[0;32m~/Documentos/fxopen/exploration/plotting.py:63\u001b[0m, in \u001b[0;36mCandlePlot.show_plot\u001b[0;34m(self, width, height, nticks, line_traces, sec_traces)\u001b[0m\n\u001b[1;32m     62\u001b[0m \u001b[38;5;28;01mdef\u001b[39;00m \u001b[38;5;21mshow_plot\u001b[39m(\u001b[38;5;28mself\u001b[39m, width\u001b[38;5;241m=\u001b[39m\u001b[38;5;241m900\u001b[39m, height\u001b[38;5;241m=\u001b[39m\u001b[38;5;241m400\u001b[39m, nticks\u001b[38;5;241m=\u001b[39m\u001b[38;5;241m5\u001b[39m, line_traces\u001b[38;5;241m=\u001b[39m[], sec_traces\u001b[38;5;241m=\u001b[39m[]):\n\u001b[0;32m---> 63\u001b[0m     \u001b[38;5;28;43mself\u001b[39;49m\u001b[38;5;241;43m.\u001b[39;49m\u001b[43madd_traces\u001b[49m\u001b[43m(\u001b[49m\u001b[43mline_traces\u001b[49m\u001b[43m)\u001b[49m\n\u001b[1;32m     64\u001b[0m     \u001b[38;5;28mself\u001b[39m\u001b[38;5;241m.\u001b[39madd_traces(sec_traces, is_sec\u001b[38;5;241m=\u001b[39m\u001b[38;5;28;01mTrue\u001b[39;00m)\n\u001b[1;32m     65\u001b[0m     \u001b[38;5;28mself\u001b[39m\u001b[38;5;241m.\u001b[39mupdate_layout(width, height, nticks)\n",
      "File \u001b[0;32m~/Documentos/fxopen/exploration/plotting.py:56\u001b[0m, in \u001b[0;36mCandlePlot.add_traces\u001b[0;34m(self, line_traces, is_sec)\u001b[0m\n\u001b[1;32m     52\u001b[0m \u001b[38;5;28;01mdef\u001b[39;00m \u001b[38;5;21madd_traces\u001b[39m(\u001b[38;5;28mself\u001b[39m, line_traces, is_sec\u001b[38;5;241m=\u001b[39m\u001b[38;5;28;01mFalse\u001b[39;00m):\n\u001b[1;32m     53\u001b[0m     \u001b[38;5;28;01mfor\u001b[39;00m t \u001b[38;5;129;01min\u001b[39;00m line_traces:\n\u001b[1;32m     54\u001b[0m         \u001b[38;5;28mself\u001b[39m\u001b[38;5;241m.\u001b[39mfig\u001b[38;5;241m.\u001b[39madd_trace(go\u001b[38;5;241m.\u001b[39mScatter(\n\u001b[1;32m     55\u001b[0m             x\u001b[38;5;241m=\u001b[39m\u001b[38;5;28mself\u001b[39m\u001b[38;5;241m.\u001b[39mdf_plot\u001b[38;5;241m.\u001b[39msTime,\n\u001b[0;32m---> 56\u001b[0m             y\u001b[38;5;241m=\u001b[39m\u001b[38;5;28;43mself\u001b[39;49m\u001b[38;5;241;43m.\u001b[39;49m\u001b[43mdf_plot\u001b[49m\u001b[43m[\u001b[49m\u001b[43mt\u001b[49m\u001b[43m]\u001b[49m,\n\u001b[1;32m     57\u001b[0m             line\u001b[38;5;241m=\u001b[39m\u001b[38;5;28mdict\u001b[39m(width\u001b[38;5;241m=\u001b[39m\u001b[38;5;241m2\u001b[39m),\n\u001b[1;32m     58\u001b[0m             line_shape\u001b[38;5;241m=\u001b[39m\u001b[38;5;124m\"\u001b[39m\u001b[38;5;124mspline\u001b[39m\u001b[38;5;124m\"\u001b[39m,\n\u001b[1;32m     59\u001b[0m             name\u001b[38;5;241m=\u001b[39mt\n\u001b[1;32m     60\u001b[0m         ), secondary_y\u001b[38;5;241m=\u001b[39mis_sec)\n",
      "File \u001b[0;32m~/Documentos/fxopen/venv/lib64/python3.12/site-packages/pandas/core/frame.py:4102\u001b[0m, in \u001b[0;36mDataFrame.__getitem__\u001b[0;34m(self, key)\u001b[0m\n\u001b[1;32m   4100\u001b[0m \u001b[38;5;28;01mif\u001b[39;00m \u001b[38;5;28mself\u001b[39m\u001b[38;5;241m.\u001b[39mcolumns\u001b[38;5;241m.\u001b[39mnlevels \u001b[38;5;241m>\u001b[39m \u001b[38;5;241m1\u001b[39m:\n\u001b[1;32m   4101\u001b[0m     \u001b[38;5;28;01mreturn\u001b[39;00m \u001b[38;5;28mself\u001b[39m\u001b[38;5;241m.\u001b[39m_getitem_multilevel(key)\n\u001b[0;32m-> 4102\u001b[0m indexer \u001b[38;5;241m=\u001b[39m \u001b[38;5;28;43mself\u001b[39;49m\u001b[38;5;241;43m.\u001b[39;49m\u001b[43mcolumns\u001b[49m\u001b[38;5;241;43m.\u001b[39;49m\u001b[43mget_loc\u001b[49m\u001b[43m(\u001b[49m\u001b[43mkey\u001b[49m\u001b[43m)\u001b[49m\n\u001b[1;32m   4103\u001b[0m \u001b[38;5;28;01mif\u001b[39;00m is_integer(indexer):\n\u001b[1;32m   4104\u001b[0m     indexer \u001b[38;5;241m=\u001b[39m [indexer]\n",
      "File \u001b[0;32m~/Documentos/fxopen/venv/lib64/python3.12/site-packages/pandas/core/indexes/base.py:3812\u001b[0m, in \u001b[0;36mIndex.get_loc\u001b[0;34m(self, key)\u001b[0m\n\u001b[1;32m   3807\u001b[0m     \u001b[38;5;28;01mif\u001b[39;00m \u001b[38;5;28misinstance\u001b[39m(casted_key, \u001b[38;5;28mslice\u001b[39m) \u001b[38;5;129;01mor\u001b[39;00m (\n\u001b[1;32m   3808\u001b[0m         \u001b[38;5;28misinstance\u001b[39m(casted_key, abc\u001b[38;5;241m.\u001b[39mIterable)\n\u001b[1;32m   3809\u001b[0m         \u001b[38;5;129;01mand\u001b[39;00m \u001b[38;5;28many\u001b[39m(\u001b[38;5;28misinstance\u001b[39m(x, \u001b[38;5;28mslice\u001b[39m) \u001b[38;5;28;01mfor\u001b[39;00m x \u001b[38;5;129;01min\u001b[39;00m casted_key)\n\u001b[1;32m   3810\u001b[0m     ):\n\u001b[1;32m   3811\u001b[0m         \u001b[38;5;28;01mraise\u001b[39;00m InvalidIndexError(key)\n\u001b[0;32m-> 3812\u001b[0m     \u001b[38;5;28;01mraise\u001b[39;00m \u001b[38;5;167;01mKeyError\u001b[39;00m(key) \u001b[38;5;28;01mfrom\u001b[39;00m \u001b[38;5;21;01merr\u001b[39;00m\n\u001b[1;32m   3813\u001b[0m \u001b[38;5;28;01mexcept\u001b[39;00m \u001b[38;5;167;01mTypeError\u001b[39;00m:\n\u001b[1;32m   3814\u001b[0m     \u001b[38;5;66;03m# If we have a listlike key, _check_indexing_error will raise\u001b[39;00m\n\u001b[1;32m   3815\u001b[0m     \u001b[38;5;66;03m#  InvalidIndexError. Otherwise we fall through and re-raise\u001b[39;00m\n\u001b[1;32m   3816\u001b[0m     \u001b[38;5;66;03m#  the TypeError.\u001b[39;00m\n\u001b[1;32m   3817\u001b[0m     \u001b[38;5;28mself\u001b[39m\u001b[38;5;241m.\u001b[39m_check_indexing_error(key)\n",
      "\u001b[0;31mKeyError\u001b[0m: 'EMA_5000'"
     ]
    }
   ],
   "source": [
    "\n",
    "cp = CandlePlot(df.iloc[0:10000])\n",
    "\n",
    "trades = cp.df_plot[cp.df_plot.SIGNAL != NONE]\n",
    "\n",
    "\n",
    "# trades\n",
    "\n",
    "markers = ['bid_c', 'bid_c', 'bid_c']\n",
    "marker_colors = ['#0000FF', '#00FF00', '#FF0000']\n",
    "\n",
    "cp.fig.add_trace(go.Scatter(\n",
    "    x = trades.sTime,\n",
    "    y = trades[markers[0]],\n",
    "    mode = 'markers',\n",
    "    marker=dict(color=marker_colors[0], size=12)\n",
    "))\n",
    "\n",
    "cp.show_plot(line_traces=[\"EMA_500\",\"EMA_5000\"], height=500)"
   ]
  },
  {
   "cell_type": "code",
   "execution_count": 58,
   "id": "b115ea58-bee1-45af-b871-0a09fd6bca30",
   "metadata": {},
   "outputs": [],
   "source": [
    "# cp = CandlePlot(df.iloc[10000:20000])\n",
    "# cp.show_plot(line_traces=['EMA_3','EMA_480','env_high1','env_low1','env_high2','env_low2'])"
   ]
  },
  {
   "cell_type": "code",
   "execution_count": 59,
   "id": "86783d96-8de0-4eaa-8e8e-c8de7af642ab",
   "metadata": {},
   "outputs": [],
   "source": [
    "# ema_1 = 10\n",
    "# ema_2 = 30\n",
    "# df_4h = pd.read_pickle(f\"../data/H4/{pair}_H4.pkl\")\n",
    "# df_4h[f'EMA_{ema_1}'] = df_4h.mid_c.ewm(span=ema_1, min_periods=ema_1).mean()\n",
    "# df_4h[f'EMA_{ema_2}'] = df_4h.mid_c.ewm(span=ema_2, min_periods=ema_2).mean()"
   ]
  },
  {
   "cell_type": "code",
   "execution_count": 60,
   "id": "7c8d7123-ede9-4156-8755-b0fded36135c",
   "metadata": {},
   "outputs": [],
   "source": [
    "# cp = CandlePlot(df_4h.iloc[400:700])\n",
    "# cp.show_plot(line_traces=['EMA_10','EMA_30'])"
   ]
  },
  {
   "cell_type": "code",
   "execution_count": null,
   "id": "5b12811e-398f-4769-aab1-7aee17de9fc8",
   "metadata": {},
   "outputs": [],
   "source": []
  },
  {
   "cell_type": "code",
   "execution_count": 61,
   "id": "4d3d73b3-c92b-492a-961c-1cfea1d26239",
   "metadata": {},
   "outputs": [],
   "source": [
    "df_results['time'] = df_results['end_time']"
   ]
  },
  {
   "cell_type": "code",
   "execution_count": 62,
   "id": "163c063f-d69c-49e7-9bb9-c0b33fb5fd1b",
   "metadata": {},
   "outputs": [],
   "source": [
    "df_results['GAIN_C'] = df_results.result.cumsum()"
   ]
  },
  {
   "cell_type": "code",
   "execution_count": 63,
   "id": "7dad90ca-c6d1-4d09-84c1-733c5900d291",
   "metadata": {},
   "outputs": [
    {
     "data": {
      "application/vnd.plotly.v1+json": {
       "config": {
        "plotlyServerURL": "https://plot.ly"
       },
       "data": [
        {
         "line": {
          "shape": "spline",
          "width": 2
         },
         "name": "GAIN_C",
         "type": "scatter",
         "x": [
          "s23-01-27 09:31",
          "s23-01-27 13:21",
          "s23-01-30 13:22",
          "s23-01-30 13:37",
          "s23-01-31 20:44",
          "s23-02-01 13:15",
          "s23-03-01 03:49",
          "s23-03-07 15:27",
          "s23-03-07 18:54",
          "s23-03-27 14:30",
          "s23-03-28 01:08",
          "s23-03-28 08:03",
          "s23-03-28 09:01",
          "s23-03-28 17:17",
          "s23-04-03 12:07",
          "s23-04-04 14:00",
          "s23-04-11 03:19",
          "s23-04-11 08:25",
          "s23-04-20 17:03",
          "s23-04-21 04:56",
          "s23-04-21 05:50",
          "s23-04-26 17:23",
          "s23-04-27 04:56",
          "s23-04-27 13:38",
          "s23-05-02 15:04",
          "s23-05-03 15:09",
          "s23-05-12 09:47",
          "s23-05-31 07:12",
          "s23-05-31 13:08",
          "s23-05-31 13:42",
          "s23-06-05 02:23",
          "s23-06-07 15:26",
          "s23-06-07 16:18",
          "s23-06-12 02:26",
          "s23-06-12 08:15",
          "s23-06-12 14:55",
          "s23-06-13 06:29",
          "s23-06-13 12:30",
          "s23-06-13 15:40",
          "s23-06-16 12:15",
          "s23-06-20 13:22",
          "s23-07-05 19:54",
          "s23-07-06 12:13",
          "s23-07-06 12:18",
          "s23-07-06 12:31",
          "s23-07-12 12:30",
          "s23-07-24 10:11",
          "s23-07-24 16:11",
          "s23-07-24 18:18",
          "s23-07-26 06:50",
          "s23-07-31 14:28",
          "s23-08-01 06:28",
          "s23-08-01 12:44",
          "s23-08-23 13:48",
          "s23-09-11 13:34",
          "s23-09-11 14:31",
          "s23-09-12 01:35",
          "s23-09-15 14:07",
          "s23-09-22 13:11",
          "s23-09-25 00:34",
          "s23-09-25 06:00",
          "s23-10-09 18:55",
          "s23-11-08 15:23",
          "s23-11-16 16:04",
          "s23-12-07 10:22",
          "s23-12-07 17:11",
          "s23-12-08 02:48",
          "s23-12-08 09:10",
          "s23-12-08 13:30",
          "s23-12-14 00:51",
          "s24-01-03 12:06",
          "s24-01-12 14:32",
          "s24-01-19 13:49",
          "s24-01-19 15:24",
          "s24-01-22 06:13",
          "s24-01-24 16:10",
          "s24-01-29 05:53",
          "s24-01-29 13:58",
          "s24-02-05 13:27",
          "s24-02-08 08:26",
          "s24-02-08 12:31",
          "s24-02-09 04:09",
          "s24-02-09 12:33",
          "s24-02-22 08:07",
          "s24-03-18 12:04",
          "s24-03-19 14:05",
          "s24-03-19 19:14",
          "s24-03-20 12:23",
          "s24-03-20 12:44",
          "s24-03-20 18:05",
          "s24-03-25 01:50",
          "s24-03-26 09:30",
          "s24-04-22 11:08",
          "s24-04-26 16:42",
          "s24-04-29 01:35",
          "s24-04-29 19:30",
          "s24-04-30 04:26",
          "s24-05-07 17:08",
          "s24-05-08 08:00",
          "s24-05-09 19:39",
          "s24-05-23 14:17",
          "s24-06-04 04:02",
          "s24-06-04 04:08",
          "s24-06-04 04:48",
          "s24-06-04 08:14",
          "s24-06-07 12:32",
          "s24-06-12 17:38",
          "s24-06-12 19:20",
          "s24-06-13 01:26",
          "s24-06-17 07:33",
          "s24-06-18 10:25",
          "s24-06-20 06:51",
          "s24-06-27 19:17",
          "s24-06-28 08:26",
          "s24-07-24 12:41",
          "s24-07-24 12:45",
          "s24-07-25 07:11",
          "s24-08-05 12:07",
          "s24-08-05 12:21",
          "s24-08-22 19:57",
          "s24-08-23 01:02",
          "s24-08-23 08:41",
          "s24-09-05 08:25",
          "s24-09-05 12:21",
          "s24-09-09 22:53",
          "s24-09-11 01:34"
         ],
         "xaxis": "x",
         "y": [
          -465.99999999999454,
          0,
          -192.00000000001637,
          0,
          -404.00000000000546,
          0,
          8433.999999999982,
          7564.99999999999,
          8433.999999999982,
          20790.999999999964,
          20258.99999999996,
          19669.999999999964,
          20201.999999999967,
          20790.999999999964,
          18873.99999999997,
          20790.999999999964,
          19864.999999999956,
          20790.999999999964,
          20836.999999999956,
          20238.999999999967,
          20836.999999999956,
          19509.99999999997,
          18100.99999999997,
          15813.999999999973,
          12604.99999999997,
          13931.999999999956,
          15340.999999999956,
          14931.999999999956,
          14435.999999999944,
          14844.999999999945,
          15340.999999999958,
          14309.999999999955,
          15340.999999999958,
          14225.999999999964,
          13434.999999999969,
          12482.999999999962,
          11766.999999999967,
          12482.999999999962,
          13273.999999999956,
          14225.999999999964,
          15340.99999999996,
          13939.999999999953,
          12972.99999999996,
          12010.999999999962,
          12972.99999999996,
          13939.999999999953,
          13498.999999999958,
          12860.99999999996,
          13301.999999999955,
          13939.999999999953,
          11549.999999999956,
          10601.999999999945,
          11549.999999999956,
          12950.999999999964,
          12729.999999999975,
          12085.99999999996,
          12306.999999999949,
          12950.999999999964,
          12448.999999999956,
          12210.99999999996,
          12448.999999999956,
          12950.999999999964,
          15237.999999999962,
          17627.999999999956,
          16887.99999999996,
          15521.999999999965,
          14443.999999999982,
          13950.999999999967,
          14443.999999999982,
          15183.999999999978,
          16261.999999999962,
          17627.999999999956,
          17277.99999999997,
          16136.999999999953,
          16486.999999999938,
          14456.999999999935,
          13057.999999999924,
          14198.999999999942,
          15597.999999999953,
          15071.999999999945,
          15597.999999999953,
          15375.999999999964,
          15597.999999999953,
          17627.999999999956,
          16248.99999999995,
          15088.99999999995,
          14242.999999999938,
          13864.999999999955,
          14242.999999999938,
          15088.99999999995,
          13814.999999999918,
          14974.999999999918,
          16248.99999999995,
          14665.999999999949,
          16044.999999999955,
          15228.999999999915,
          16044.999999999955,
          15255.999999999958,
          16044.999999999955,
          17627.999999999956,
          20836.999999999956,
          20222.99999999996,
          20086.999999999985,
          20222.999999999964,
          20836.99999999996,
          17332.999999999956,
          15752.999999999975,
          14585.999999999958,
          15752.999999999975,
          14703.999999999942,
          15752.999999999975,
          17332.999999999956,
          16850.999999999978,
          17332.999999999956,
          17226.999999999953,
          17332.999999999956,
          20836.999999999964,
          19371.999999999945,
          20836.999999999964,
          27369.999999999993,
          26621.000000000007,
          27369.999999999993,
          26550,
          27369.999999999993,
          26059.999999999993,
          27369.999999999993
         ],
         "yaxis": "y"
        }
       ],
       "layout": {
        "font": {
         "color": "#e1e1e1",
         "size": 8
        },
        "height": 400,
        "margin": {
         "b": 10,
         "l": 10,
         "r": 10,
         "t": 10
        },
        "paper_bgcolor": "#2c303c",
        "plot_bgcolor": "#2c303c",
        "template": {
         "data": {
          "bar": [
           {
            "error_x": {
             "color": "#2a3f5f"
            },
            "error_y": {
             "color": "#2a3f5f"
            },
            "marker": {
             "line": {
              "color": "#E5ECF6",
              "width": 0.5
             },
             "pattern": {
              "fillmode": "overlay",
              "size": 10,
              "solidity": 0.2
             }
            },
            "type": "bar"
           }
          ],
          "barpolar": [
           {
            "marker": {
             "line": {
              "color": "#E5ECF6",
              "width": 0.5
             },
             "pattern": {
              "fillmode": "overlay",
              "size": 10,
              "solidity": 0.2
             }
            },
            "type": "barpolar"
           }
          ],
          "carpet": [
           {
            "aaxis": {
             "endlinecolor": "#2a3f5f",
             "gridcolor": "white",
             "linecolor": "white",
             "minorgridcolor": "white",
             "startlinecolor": "#2a3f5f"
            },
            "baxis": {
             "endlinecolor": "#2a3f5f",
             "gridcolor": "white",
             "linecolor": "white",
             "minorgridcolor": "white",
             "startlinecolor": "#2a3f5f"
            },
            "type": "carpet"
           }
          ],
          "choropleth": [
           {
            "colorbar": {
             "outlinewidth": 0,
             "ticks": ""
            },
            "type": "choropleth"
           }
          ],
          "contour": [
           {
            "colorbar": {
             "outlinewidth": 0,
             "ticks": ""
            },
            "colorscale": [
             [
              0,
              "#0d0887"
             ],
             [
              0.1111111111111111,
              "#46039f"
             ],
             [
              0.2222222222222222,
              "#7201a8"
             ],
             [
              0.3333333333333333,
              "#9c179e"
             ],
             [
              0.4444444444444444,
              "#bd3786"
             ],
             [
              0.5555555555555556,
              "#d8576b"
             ],
             [
              0.6666666666666666,
              "#ed7953"
             ],
             [
              0.7777777777777778,
              "#fb9f3a"
             ],
             [
              0.8888888888888888,
              "#fdca26"
             ],
             [
              1,
              "#f0f921"
             ]
            ],
            "type": "contour"
           }
          ],
          "contourcarpet": [
           {
            "colorbar": {
             "outlinewidth": 0,
             "ticks": ""
            },
            "type": "contourcarpet"
           }
          ],
          "heatmap": [
           {
            "colorbar": {
             "outlinewidth": 0,
             "ticks": ""
            },
            "colorscale": [
             [
              0,
              "#0d0887"
             ],
             [
              0.1111111111111111,
              "#46039f"
             ],
             [
              0.2222222222222222,
              "#7201a8"
             ],
             [
              0.3333333333333333,
              "#9c179e"
             ],
             [
              0.4444444444444444,
              "#bd3786"
             ],
             [
              0.5555555555555556,
              "#d8576b"
             ],
             [
              0.6666666666666666,
              "#ed7953"
             ],
             [
              0.7777777777777778,
              "#fb9f3a"
             ],
             [
              0.8888888888888888,
              "#fdca26"
             ],
             [
              1,
              "#f0f921"
             ]
            ],
            "type": "heatmap"
           }
          ],
          "heatmapgl": [
           {
            "colorbar": {
             "outlinewidth": 0,
             "ticks": ""
            },
            "colorscale": [
             [
              0,
              "#0d0887"
             ],
             [
              0.1111111111111111,
              "#46039f"
             ],
             [
              0.2222222222222222,
              "#7201a8"
             ],
             [
              0.3333333333333333,
              "#9c179e"
             ],
             [
              0.4444444444444444,
              "#bd3786"
             ],
             [
              0.5555555555555556,
              "#d8576b"
             ],
             [
              0.6666666666666666,
              "#ed7953"
             ],
             [
              0.7777777777777778,
              "#fb9f3a"
             ],
             [
              0.8888888888888888,
              "#fdca26"
             ],
             [
              1,
              "#f0f921"
             ]
            ],
            "type": "heatmapgl"
           }
          ],
          "histogram": [
           {
            "marker": {
             "pattern": {
              "fillmode": "overlay",
              "size": 10,
              "solidity": 0.2
             }
            },
            "type": "histogram"
           }
          ],
          "histogram2d": [
           {
            "colorbar": {
             "outlinewidth": 0,
             "ticks": ""
            },
            "colorscale": [
             [
              0,
              "#0d0887"
             ],
             [
              0.1111111111111111,
              "#46039f"
             ],
             [
              0.2222222222222222,
              "#7201a8"
             ],
             [
              0.3333333333333333,
              "#9c179e"
             ],
             [
              0.4444444444444444,
              "#bd3786"
             ],
             [
              0.5555555555555556,
              "#d8576b"
             ],
             [
              0.6666666666666666,
              "#ed7953"
             ],
             [
              0.7777777777777778,
              "#fb9f3a"
             ],
             [
              0.8888888888888888,
              "#fdca26"
             ],
             [
              1,
              "#f0f921"
             ]
            ],
            "type": "histogram2d"
           }
          ],
          "histogram2dcontour": [
           {
            "colorbar": {
             "outlinewidth": 0,
             "ticks": ""
            },
            "colorscale": [
             [
              0,
              "#0d0887"
             ],
             [
              0.1111111111111111,
              "#46039f"
             ],
             [
              0.2222222222222222,
              "#7201a8"
             ],
             [
              0.3333333333333333,
              "#9c179e"
             ],
             [
              0.4444444444444444,
              "#bd3786"
             ],
             [
              0.5555555555555556,
              "#d8576b"
             ],
             [
              0.6666666666666666,
              "#ed7953"
             ],
             [
              0.7777777777777778,
              "#fb9f3a"
             ],
             [
              0.8888888888888888,
              "#fdca26"
             ],
             [
              1,
              "#f0f921"
             ]
            ],
            "type": "histogram2dcontour"
           }
          ],
          "mesh3d": [
           {
            "colorbar": {
             "outlinewidth": 0,
             "ticks": ""
            },
            "type": "mesh3d"
           }
          ],
          "parcoords": [
           {
            "line": {
             "colorbar": {
              "outlinewidth": 0,
              "ticks": ""
             }
            },
            "type": "parcoords"
           }
          ],
          "pie": [
           {
            "automargin": true,
            "type": "pie"
           }
          ],
          "scatter": [
           {
            "fillpattern": {
             "fillmode": "overlay",
             "size": 10,
             "solidity": 0.2
            },
            "type": "scatter"
           }
          ],
          "scatter3d": [
           {
            "line": {
             "colorbar": {
              "outlinewidth": 0,
              "ticks": ""
             }
            },
            "marker": {
             "colorbar": {
              "outlinewidth": 0,
              "ticks": ""
             }
            },
            "type": "scatter3d"
           }
          ],
          "scattercarpet": [
           {
            "marker": {
             "colorbar": {
              "outlinewidth": 0,
              "ticks": ""
             }
            },
            "type": "scattercarpet"
           }
          ],
          "scattergeo": [
           {
            "marker": {
             "colorbar": {
              "outlinewidth": 0,
              "ticks": ""
             }
            },
            "type": "scattergeo"
           }
          ],
          "scattergl": [
           {
            "marker": {
             "colorbar": {
              "outlinewidth": 0,
              "ticks": ""
             }
            },
            "type": "scattergl"
           }
          ],
          "scattermapbox": [
           {
            "marker": {
             "colorbar": {
              "outlinewidth": 0,
              "ticks": ""
             }
            },
            "type": "scattermapbox"
           }
          ],
          "scatterpolar": [
           {
            "marker": {
             "colorbar": {
              "outlinewidth": 0,
              "ticks": ""
             }
            },
            "type": "scatterpolar"
           }
          ],
          "scatterpolargl": [
           {
            "marker": {
             "colorbar": {
              "outlinewidth": 0,
              "ticks": ""
             }
            },
            "type": "scatterpolargl"
           }
          ],
          "scatterternary": [
           {
            "marker": {
             "colorbar": {
              "outlinewidth": 0,
              "ticks": ""
             }
            },
            "type": "scatterternary"
           }
          ],
          "surface": [
           {
            "colorbar": {
             "outlinewidth": 0,
             "ticks": ""
            },
            "colorscale": [
             [
              0,
              "#0d0887"
             ],
             [
              0.1111111111111111,
              "#46039f"
             ],
             [
              0.2222222222222222,
              "#7201a8"
             ],
             [
              0.3333333333333333,
              "#9c179e"
             ],
             [
              0.4444444444444444,
              "#bd3786"
             ],
             [
              0.5555555555555556,
              "#d8576b"
             ],
             [
              0.6666666666666666,
              "#ed7953"
             ],
             [
              0.7777777777777778,
              "#fb9f3a"
             ],
             [
              0.8888888888888888,
              "#fdca26"
             ],
             [
              1,
              "#f0f921"
             ]
            ],
            "type": "surface"
           }
          ],
          "table": [
           {
            "cells": {
             "fill": {
              "color": "#EBF0F8"
             },
             "line": {
              "color": "white"
             }
            },
            "header": {
             "fill": {
              "color": "#C8D4E3"
             },
             "line": {
              "color": "white"
             }
            },
            "type": "table"
           }
          ]
         },
         "layout": {
          "annotationdefaults": {
           "arrowcolor": "#2a3f5f",
           "arrowhead": 0,
           "arrowwidth": 1
          },
          "autotypenumbers": "strict",
          "coloraxis": {
           "colorbar": {
            "outlinewidth": 0,
            "ticks": ""
           }
          },
          "colorscale": {
           "diverging": [
            [
             0,
             "#8e0152"
            ],
            [
             0.1,
             "#c51b7d"
            ],
            [
             0.2,
             "#de77ae"
            ],
            [
             0.3,
             "#f1b6da"
            ],
            [
             0.4,
             "#fde0ef"
            ],
            [
             0.5,
             "#f7f7f7"
            ],
            [
             0.6,
             "#e6f5d0"
            ],
            [
             0.7,
             "#b8e186"
            ],
            [
             0.8,
             "#7fbc41"
            ],
            [
             0.9,
             "#4d9221"
            ],
            [
             1,
             "#276419"
            ]
           ],
           "sequential": [
            [
             0,
             "#0d0887"
            ],
            [
             0.1111111111111111,
             "#46039f"
            ],
            [
             0.2222222222222222,
             "#7201a8"
            ],
            [
             0.3333333333333333,
             "#9c179e"
            ],
            [
             0.4444444444444444,
             "#bd3786"
            ],
            [
             0.5555555555555556,
             "#d8576b"
            ],
            [
             0.6666666666666666,
             "#ed7953"
            ],
            [
             0.7777777777777778,
             "#fb9f3a"
            ],
            [
             0.8888888888888888,
             "#fdca26"
            ],
            [
             1,
             "#f0f921"
            ]
           ],
           "sequentialminus": [
            [
             0,
             "#0d0887"
            ],
            [
             0.1111111111111111,
             "#46039f"
            ],
            [
             0.2222222222222222,
             "#7201a8"
            ],
            [
             0.3333333333333333,
             "#9c179e"
            ],
            [
             0.4444444444444444,
             "#bd3786"
            ],
            [
             0.5555555555555556,
             "#d8576b"
            ],
            [
             0.6666666666666666,
             "#ed7953"
            ],
            [
             0.7777777777777778,
             "#fb9f3a"
            ],
            [
             0.8888888888888888,
             "#fdca26"
            ],
            [
             1,
             "#f0f921"
            ]
           ]
          },
          "colorway": [
           "#636efa",
           "#EF553B",
           "#00cc96",
           "#ab63fa",
           "#FFA15A",
           "#19d3f3",
           "#FF6692",
           "#B6E880",
           "#FF97FF",
           "#FECB52"
          ],
          "font": {
           "color": "#2a3f5f"
          },
          "geo": {
           "bgcolor": "white",
           "lakecolor": "white",
           "landcolor": "#E5ECF6",
           "showlakes": true,
           "showland": true,
           "subunitcolor": "white"
          },
          "hoverlabel": {
           "align": "left"
          },
          "hovermode": "closest",
          "mapbox": {
           "style": "light"
          },
          "paper_bgcolor": "white",
          "plot_bgcolor": "#E5ECF6",
          "polar": {
           "angularaxis": {
            "gridcolor": "white",
            "linecolor": "white",
            "ticks": ""
           },
           "bgcolor": "#E5ECF6",
           "radialaxis": {
            "gridcolor": "white",
            "linecolor": "white",
            "ticks": ""
           }
          },
          "scene": {
           "xaxis": {
            "backgroundcolor": "#E5ECF6",
            "gridcolor": "white",
            "gridwidth": 2,
            "linecolor": "white",
            "showbackground": true,
            "ticks": "",
            "zerolinecolor": "white"
           },
           "yaxis": {
            "backgroundcolor": "#E5ECF6",
            "gridcolor": "white",
            "gridwidth": 2,
            "linecolor": "white",
            "showbackground": true,
            "ticks": "",
            "zerolinecolor": "white"
           },
           "zaxis": {
            "backgroundcolor": "#E5ECF6",
            "gridcolor": "white",
            "gridwidth": 2,
            "linecolor": "white",
            "showbackground": true,
            "ticks": "",
            "zerolinecolor": "white"
           }
          },
          "shapedefaults": {
           "line": {
            "color": "#2a3f5f"
           }
          },
          "ternary": {
           "aaxis": {
            "gridcolor": "white",
            "linecolor": "white",
            "ticks": ""
           },
           "baxis": {
            "gridcolor": "white",
            "linecolor": "white",
            "ticks": ""
           },
           "bgcolor": "#E5ECF6",
           "caxis": {
            "gridcolor": "white",
            "linecolor": "white",
            "ticks": ""
           }
          },
          "title": {
           "x": 0.05
          },
          "xaxis": {
           "automargin": true,
           "gridcolor": "white",
           "linecolor": "white",
           "ticks": "",
           "title": {
            "standoff": 15
           },
           "zerolinecolor": "white",
           "zerolinewidth": 2
          },
          "yaxis": {
           "automargin": true,
           "gridcolor": "white",
           "linecolor": "white",
           "ticks": "",
           "title": {
            "standoff": 15
           },
           "zerolinecolor": "white",
           "zerolinewidth": 2
          }
         }
        },
        "width": 900,
        "xaxis": {
         "anchor": "y",
         "autorange": true,
         "domain": [
          0,
          0.94
         ],
         "gridcolor": "#1f292f",
         "nticks": 5,
         "range": [
          0,
          125
         ],
         "rangeslider": {
          "visible": false,
          "yaxis": {}
         },
         "type": "category"
        },
        "yaxis": {
         "anchor": "x",
         "autorange": true,
         "domain": [
          0,
          1
         ],
         "gridcolor": "#1f292f",
         "range": [
          -2012.4444444444387,
          28916.444444444438
         ],
         "type": "linear"
        },
        "yaxis2": {
         "anchor": "x",
         "gridcolor": "#1f292f",
         "overlaying": "y",
         "side": "right"
        }
       }
      },
      "image/png": "[encoded data removed]",
      "text/html": [
       "<div>                            <div id=\"be5e7249-009a-4f32-b6e3-9bde9df7509b\" class=\"plotly-graph-div\" style=\"height:400px; width:900px;\"></div>            <script type=\"text/javascript\">                require([\"plotly\"], function(Plotly) {                    window.PLOTLYENV=window.PLOTLYENV || {};                                    if (document.getElementById(\"be5e7249-009a-4f32-b6e3-9bde9df7509b\")) {                    Plotly.newPlot(                        \"be5e7249-009a-4f32-b6e3-9bde9df7509b\",                        [{\"line\":{\"shape\":\"spline\",\"width\":2},\"name\":\"GAIN_C\",\"x\":[\"s23-01-27 09:31\",\"s23-01-27 13:21\",\"s23-01-30 13:22\",\"s23-01-30 13:37\",\"s23-01-31 20:44\",\"s23-02-01 13:15\",\"s23-03-01 03:49\",\"s23-03-07 15:27\",\"s23-03-07 18:54\",\"s23-03-27 14:30\",\"s23-03-28 01:08\",\"s23-03-28 08:03\",\"s23-03-28 09:01\",\"s23-03-28 17:17\",\"s23-04-03 12:07\",\"s23-04-04 14:00\",\"s23-04-11 03:19\",\"s23-04-11 08:25\",\"s23-04-20 17:03\",\"s23-04-21 04:56\",\"s23-04-21 05:50\",\"s23-04-26 17:23\",\"s23-04-27 04:56\",\"s23-04-27 13:38\",\"s23-05-02 15:04\",\"s23-05-03 15:09\",\"s23-05-12 09:47\",\"s23-05-31 07:12\",\"s23-05-31 13:08\",\"s23-05-31 13:42\",\"s23-06-05 02:23\",\"s23-06-07 15:26\",\"s23-06-07 16:18\",\"s23-06-12 02:26\",\"s23-06-12 08:15\",\"s23-06-12 14:55\",\"s23-06-13 06:29\",\"s23-06-13 12:30\",\"s23-06-13 15:40\",\"s23-06-16 12:15\",\"s23-06-20 13:22\",\"s23-07-05 19:54\",\"s23-07-06 12:13\",\"s23-07-06 12:18\",\"s23-07-06 12:31\",\"s23-07-12 12:30\",\"s23-07-24 10:11\",\"s23-07-24 16:11\",\"s23-07-24 18:18\",\"s23-07-26 06:50\",\"s23-07-31 14:28\",\"s23-08-01 06:28\",\"s23-08-01 12:44\",\"s23-08-23 13:48\",\"s23-09-11 13:34\",\"s23-09-11 14:31\",\"s23-09-12 01:35\",\"s23-09-15 14:07\",\"s23-09-22 13:11\",\"s23-09-25 00:34\",\"s23-09-25 06:00\",\"s23-10-09 18:55\",\"s23-11-08 15:23\",\"s23-11-16 16:04\",\"s23-12-07 10:22\",\"s23-12-07 17:11\",\"s23-12-08 02:48\",\"s23-12-08 09:10\",\"s23-12-08 13:30\",\"s23-12-14 00:51\",\"s24-01-03 12:06\",\"s24-01-12 14:32\",\"s24-01-19 13:49\",\"s24-01-19 15:24\",\"s24-01-22 06:13\",\"s24-01-24 16:10\",\"s24-01-29 05:53\",\"s24-01-29 13:58\",\"s24-02-05 13:27\",\"s24-02-08 08:26\",\"s24-02-08 12:31\",\"s24-02-09 04:09\",\"s24-02-09 12:33\",\"s24-02-22 08:07\",\"s24-03-18 12:04\",\"s24-03-19 14:05\",\"s24-03-19 19:14\",\"s24-03-20 12:23\",\"s24-03-20 12:44\",\"s24-03-20 18:05\",\"s24-03-25 01:50\",\"s24-03-26 09:30\",\"s24-04-22 11:08\",\"s24-04-26 16:42\",\"s24-04-29 01:35\",\"s24-04-29 19:30\",\"s24-04-30 04:26\",\"s24-05-07 17:08\",\"s24-05-08 08:00\",\"s24-05-09 19:39\",\"s24-05-23 14:17\",\"s24-06-04 04:02\",\"s24-06-04 04:08\",\"s24-06-04 04:48\",\"s24-06-04 08:14\",\"s24-06-07 12:32\",\"s24-06-12 17:38\",\"s24-06-12 19:20\",\"s24-06-13 01:26\",\"s24-06-17 07:33\",\"s24-06-18 10:25\",\"s24-06-20 06:51\",\"s24-06-27 19:17\",\"s24-06-28 08:26\",\"s24-07-24 12:41\",\"s24-07-24 12:45\",\"s24-07-25 07:11\",\"s24-08-05 12:07\",\"s24-08-05 12:21\",\"s24-08-22 19:57\",\"s24-08-23 01:02\",\"s24-08-23 08:41\",\"s24-09-05 08:25\",\"s24-09-05 12:21\",\"s24-09-09 22:53\",\"s24-09-11 01:34\"],\"y\":[-465.99999999999454,0.0,-192.00000000001637,0.0,-404.00000000000546,0.0,8433.999999999982,7564.99999999999,8433.999999999982,20790.999999999964,20258.99999999996,19669.999999999964,20201.999999999967,20790.999999999964,18873.99999999997,20790.999999999964,19864.999999999956,20790.999999999964,20836.999999999956,20238.999999999967,20836.999999999956,19509.99999999997,18100.99999999997,15813.999999999973,12604.99999999997,13931.999999999956,15340.999999999956,14931.999999999956,14435.999999999944,14844.999999999945,15340.999999999958,14309.999999999955,15340.999999999958,14225.999999999964,13434.999999999969,12482.999999999962,11766.999999999967,12482.999999999962,13273.999999999956,14225.999999999964,15340.99999999996,13939.999999999953,12972.99999999996,12010.999999999962,12972.99999999996,13939.999999999953,13498.999999999958,12860.99999999996,13301.999999999955,13939.999999999953,11549.999999999956,10601.999999999945,11549.999999999956,12950.999999999964,12729.999999999975,12085.99999999996,12306.999999999949,12950.999999999964,12448.999999999956,12210.99999999996,12448.999999999956,12950.999999999964,15237.999999999962,17627.999999999956,16887.99999999996,15521.999999999965,14443.999999999982,13950.999999999967,14443.999999999982,15183.999999999978,16261.999999999962,17627.999999999956,17277.99999999997,16136.999999999953,16486.999999999938,14456.999999999935,13057.999999999924,14198.999999999942,15597.999999999953,15071.999999999945,15597.999999999953,15375.999999999964,15597.999999999953,17627.999999999956,16248.99999999995,15088.99999999995,14242.999999999938,13864.999999999955,14242.999999999938,15088.99999999995,13814.999999999918,14974.999999999918,16248.99999999995,14665.999999999949,16044.999999999955,15228.999999999915,16044.999999999955,15255.999999999958,16044.999999999955,17627.999999999956,20836.999999999956,20222.99999999996,20086.999999999985,20222.999999999964,20836.99999999996,17332.999999999956,15752.999999999975,14585.999999999958,15752.999999999975,14703.999999999942,15752.999999999975,17332.999999999956,16850.999999999978,17332.999999999956,17226.999999999953,17332.999999999956,20836.999999999964,19371.999999999945,20836.999999999964,27369.999999999993,26621.000000000007,27369.999999999993,26550.0,27369.999999999993,26059.999999999993,27369.999999999993],\"type\":\"scatter\",\"xaxis\":\"x\",\"yaxis\":\"y\"}],                        {\"template\":{\"data\":{\"histogram2dcontour\":[{\"type\":\"histogram2dcontour\",\"colorbar\":{\"outlinewidth\":0,\"ticks\":\"\"},\"colorscale\":[[0.0,\"#0d0887\"],[0.1111111111111111,\"#46039f\"],[0.2222222222222222,\"#7201a8\"],[0.3333333333333333,\"#9c179e\"],[0.4444444444444444,\"#bd3786\"],[0.5555555555555556,\"#d8576b\"],[0.6666666666666666,\"#ed7953\"],[0.7777777777777778,\"#fb9f3a\"],[0.8888888888888888,\"#fdca26\"],[1.0,\"#f0f921\"]]}],\"choropleth\":[{\"type\":\"choropleth\",\"colorbar\":{\"outlinewidth\":0,\"ticks\":\"\"}}],\"histogram2d\":[{\"type\":\"histogram2d\",\"colorbar\":{\"outlinewidth\":0,\"ticks\":\"\"},\"colorscale\":[[0.0,\"#0d0887\"],[0.1111111111111111,\"#46039f\"],[0.2222222222222222,\"#7201a8\"],[0.3333333333333333,\"#9c179e\"],[0.4444444444444444,\"#bd3786\"],[0.5555555555555556,\"#d8576b\"],[0.6666666666666666,\"#ed7953\"],[0.7777777777777778,\"#fb9f3a\"],[0.8888888888888888,\"#fdca26\"],[1.0,\"#f0f921\"]]}],\"heatmap\":[{\"type\":\"heatmap\",\"colorbar\":{\"outlinewidth\":0,\"ticks\":\"\"},\"colorscale\":[[0.0,\"#0d0887\"],[0.1111111111111111,\"#46039f\"],[0.2222222222222222,\"#7201a8\"],[0.3333333333333333,\"#9c179e\"],[0.4444444444444444,\"#bd3786\"],[0.5555555555555556,\"#d8576b\"],[0.6666666666666666,\"#ed7953\"],[0.7777777777777778,\"#fb9f3a\"],[0.8888888888888888,\"#fdca26\"],[1.0,\"#f0f921\"]]}],\"heatmapgl\":[{\"type\":\"heatmapgl\",\"colorbar\":{\"outlinewidth\":0,\"ticks\":\"\"},\"colorscale\":[[0.0,\"#0d0887\"],[0.1111111111111111,\"#46039f\"],[0.2222222222222222,\"#7201a8\"],[0.3333333333333333,\"#9c179e\"],[0.4444444444444444,\"#bd3786\"],[0.5555555555555556,\"#d8576b\"],[0.6666666666666666,\"#ed7953\"],[0.7777777777777778,\"#fb9f3a\"],[0.8888888888888888,\"#fdca26\"],[1.0,\"#f0f921\"]]}],\"contourcarpet\":[{\"type\":\"contourcarpet\",\"colorbar\":{\"outlinewidth\":0,\"ticks\":\"\"}}],\"contour\":[{\"type\":\"contour\",\"colorbar\":{\"outlinewidth\":0,\"ticks\":\"\"},\"colorscale\":[[0.0,\"#0d0887\"],[0.1111111111111111,\"#46039f\"],[0.2222222222222222,\"#7201a8\"],[0.3333333333333333,\"#9c179e\"],[0.4444444444444444,\"#bd3786\"],[0.5555555555555556,\"#d8576b\"],[0.6666666666666666,\"#ed7953\"],[0.7777777777777778,\"#fb9f3a\"],[0.8888888888888888,\"#fdca26\"],[1.0,\"#f0f921\"]]}],\"surface\":[{\"type\":\"surface\",\"colorbar\":{\"outlinewidth\":0,\"ticks\":\"\"},\"colorscale\":[[0.0,\"#0d0887\"],[0.1111111111111111,\"#46039f\"],[0.2222222222222222,\"#7201a8\"],[0.3333333333333333,\"#9c179e\"],[0.4444444444444444,\"#bd3786\"],[0.5555555555555556,\"#d8576b\"],[0.6666666666666666,\"#ed7953\"],[0.7777777777777778,\"#fb9f3a\"],[0.8888888888888888,\"#fdca26\"],[1.0,\"#f0f921\"]]}],\"mesh3d\":[{\"type\":\"mesh3d\",\"colorbar\":{\"outlinewidth\":0,\"ticks\":\"\"}}],\"scatter\":[{\"fillpattern\":{\"fillmode\":\"overlay\",\"size\":10,\"solidity\":0.2},\"type\":\"scatter\"}],\"parcoords\":[{\"type\":\"parcoords\",\"line\":{\"colorbar\":{\"outlinewidth\":0,\"ticks\":\"\"}}}],\"scatterpolargl\":[{\"type\":\"scatterpolargl\",\"marker\":{\"colorbar\":{\"outlinewidth\":0,\"ticks\":\"\"}}}],\"bar\":[{\"error_x\":{\"color\":\"#2a3f5f\"},\"error_y\":{\"color\":\"#2a3f5f\"},\"marker\":{\"line\":{\"color\":\"#E5ECF6\",\"width\":0.5},\"pattern\":{\"fillmode\":\"overlay\",\"size\":10,\"solidity\":0.2}},\"type\":\"bar\"}],\"scattergeo\":[{\"type\":\"scattergeo\",\"marker\":{\"colorbar\":{\"outlinewidth\":0,\"ticks\":\"\"}}}],\"scatterpolar\":[{\"type\":\"scatterpolar\",\"marker\":{\"colorbar\":{\"outlinewidth\":0,\"ticks\":\"\"}}}],\"histogram\":[{\"marker\":{\"pattern\":{\"fillmode\":\"overlay\",\"size\":10,\"solidity\":0.2}},\"type\":\"histogram\"}],\"scattergl\":[{\"type\":\"scattergl\",\"marker\":{\"colorbar\":{\"outlinewidth\":0,\"ticks\":\"\"}}}],\"scatter3d\":[{\"type\":\"scatter3d\",\"line\":{\"colorbar\":{\"outlinewidth\":0,\"ticks\":\"\"}},\"marker\":{\"colorbar\":{\"outlinewidth\":0,\"ticks\":\"\"}}}],\"scattermapbox\":[{\"type\":\"scattermapbox\",\"marker\":{\"colorbar\":{\"outlinewidth\":0,\"ticks\":\"\"}}}],\"scatterternary\":[{\"type\":\"scatterternary\",\"marker\":{\"colorbar\":{\"outlinewidth\":0,\"ticks\":\"\"}}}],\"scattercarpet\":[{\"type\":\"scattercarpet\",\"marker\":{\"colorbar\":{\"outlinewidth\":0,\"ticks\":\"\"}}}],\"carpet\":[{\"aaxis\":{\"endlinecolor\":\"#2a3f5f\",\"gridcolor\":\"white\",\"linecolor\":\"white\",\"minorgridcolor\":\"white\",\"startlinecolor\":\"#2a3f5f\"},\"baxis\":{\"endlinecolor\":\"#2a3f5f\",\"gridcolor\":\"white\",\"linecolor\":\"white\",\"minorgridcolor\":\"white\",\"startlinecolor\":\"#2a3f5f\"},\"type\":\"carpet\"}],\"table\":[{\"cells\":{\"fill\":{\"color\":\"#EBF0F8\"},\"line\":{\"color\":\"white\"}},\"header\":{\"fill\":{\"color\":\"#C8D4E3\"},\"line\":{\"color\":\"white\"}},\"type\":\"table\"}],\"barpolar\":[{\"marker\":{\"line\":{\"color\":\"#E5ECF6\",\"width\":0.5},\"pattern\":{\"fillmode\":\"overlay\",\"size\":10,\"solidity\":0.2}},\"type\":\"barpolar\"}],\"pie\":[{\"automargin\":true,\"type\":\"pie\"}]},\"layout\":{\"autotypenumbers\":\"strict\",\"colorway\":[\"#636efa\",\"#EF553B\",\"#00cc96\",\"#ab63fa\",\"#FFA15A\",\"#19d3f3\",\"#FF6692\",\"#B6E880\",\"#FF97FF\",\"#FECB52\"],\"font\":{\"color\":\"#2a3f5f\"},\"hovermode\":\"closest\",\"hoverlabel\":{\"align\":\"left\"},\"paper_bgcolor\":\"white\",\"plot_bgcolor\":\"#E5ECF6\",\"polar\":{\"bgcolor\":\"#E5ECF6\",\"angularaxis\":{\"gridcolor\":\"white\",\"linecolor\":\"white\",\"ticks\":\"\"},\"radialaxis\":{\"gridcolor\":\"white\",\"linecolor\":\"white\",\"ticks\":\"\"}},\"ternary\":{\"bgcolor\":\"#E5ECF6\",\"aaxis\":{\"gridcolor\":\"white\",\"linecolor\":\"white\",\"ticks\":\"\"},\"baxis\":{\"gridcolor\":\"white\",\"linecolor\":\"white\",\"ticks\":\"\"},\"caxis\":{\"gridcolor\":\"white\",\"linecolor\":\"white\",\"ticks\":\"\"}},\"coloraxis\":{\"colorbar\":{\"outlinewidth\":0,\"ticks\":\"\"}},\"colorscale\":{\"sequential\":[[0.0,\"#0d0887\"],[0.1111111111111111,\"#46039f\"],[0.2222222222222222,\"#7201a8\"],[0.3333333333333333,\"#9c179e\"],[0.4444444444444444,\"#bd3786\"],[0.5555555555555556,\"#d8576b\"],[0.6666666666666666,\"#ed7953\"],[0.7777777777777778,\"#fb9f3a\"],[0.8888888888888888,\"#fdca26\"],[1.0,\"#f0f921\"]],\"sequentialminus\":[[0.0,\"#0d0887\"],[0.1111111111111111,\"#46039f\"],[0.2222222222222222,\"#7201a8\"],[0.3333333333333333,\"#9c179e\"],[0.4444444444444444,\"#bd3786\"],[0.5555555555555556,\"#d8576b\"],[0.6666666666666666,\"#ed7953\"],[0.7777777777777778,\"#fb9f3a\"],[0.8888888888888888,\"#fdca26\"],[1.0,\"#f0f921\"]],\"diverging\":[[0,\"#8e0152\"],[0.1,\"#c51b7d\"],[0.2,\"#de77ae\"],[0.3,\"#f1b6da\"],[0.4,\"#fde0ef\"],[0.5,\"#f7f7f7\"],[0.6,\"#e6f5d0\"],[0.7,\"#b8e186\"],[0.8,\"#7fbc41\"],[0.9,\"#4d9221\"],[1,\"#276419\"]]},\"xaxis\":{\"gridcolor\":\"white\",\"linecolor\":\"white\",\"ticks\":\"\",\"title\":{\"standoff\":15},\"zerolinecolor\":\"white\",\"automargin\":true,\"zerolinewidth\":2},\"yaxis\":{\"gridcolor\":\"white\",\"linecolor\":\"white\",\"ticks\":\"\",\"title\":{\"standoff\":15},\"zerolinecolor\":\"white\",\"automargin\":true,\"zerolinewidth\":2},\"scene\":{\"xaxis\":{\"backgroundcolor\":\"#E5ECF6\",\"gridcolor\":\"white\",\"linecolor\":\"white\",\"showbackground\":true,\"ticks\":\"\",\"zerolinecolor\":\"white\",\"gridwidth\":2},\"yaxis\":{\"backgroundcolor\":\"#E5ECF6\",\"gridcolor\":\"white\",\"linecolor\":\"white\",\"showbackground\":true,\"ticks\":\"\",\"zerolinecolor\":\"white\",\"gridwidth\":2},\"zaxis\":{\"backgroundcolor\":\"#E5ECF6\",\"gridcolor\":\"white\",\"linecolor\":\"white\",\"showbackground\":true,\"ticks\":\"\",\"zerolinecolor\":\"white\",\"gridwidth\":2}},\"shapedefaults\":{\"line\":{\"color\":\"#2a3f5f\"}},\"annotationdefaults\":{\"arrowcolor\":\"#2a3f5f\",\"arrowhead\":0,\"arrowwidth\":1},\"geo\":{\"bgcolor\":\"white\",\"landcolor\":\"#E5ECF6\",\"subunitcolor\":\"white\",\"showland\":true,\"showlakes\":true,\"lakecolor\":\"white\"},\"title\":{\"x\":0.05},\"mapbox\":{\"style\":\"light\"}}},\"xaxis\":{\"anchor\":\"y\",\"domain\":[0.0,0.94],\"rangeslider\":{\"visible\":false},\"gridcolor\":\"#1f292f\",\"nticks\":5},\"yaxis\":{\"anchor\":\"x\",\"domain\":[0.0,1.0],\"gridcolor\":\"#1f292f\"},\"yaxis2\":{\"anchor\":\"x\",\"overlaying\":\"y\",\"side\":\"right\",\"gridcolor\":\"#1f292f\"},\"margin\":{\"l\":10,\"r\":10,\"b\":10,\"t\":10},\"font\":{\"size\":8,\"color\":\"#e1e1e1\"},\"width\":900,\"height\":400,\"paper_bgcolor\":\"#2c303c\",\"plot_bgcolor\":\"#2c303c\"},                        {\"responsive\": true}                    ).then(function(){\n",
       "                            \n",
       "var gd = document.getElementById('be5e7249-009a-4f32-b6e3-9bde9df7509b');\n",
       "var x = new MutationObserver(function (mutations, observer) {{\n",
       "        var display = window.getComputedStyle(gd).display;\n",
       "        if (!display || display === 'none') {{\n",
       "            console.log([gd, 'removed!']);\n",
       "            Plotly.purge(gd);\n",
       "            observer.disconnect();\n",
       "        }}\n",
       "}});\n",
       "\n",
       "// Listen for the removal of the full notebook cells\n",
       "var notebookContainer = gd.closest('#notebook-container');\n",
       "if (notebookContainer) {{\n",
       "    x.observe(notebookContainer, {childList: true});\n",
       "}}\n",
       "\n",
       "// Listen for the clearing of the current output cell\n",
       "var outputEl = gd.closest('.output');\n",
       "if (outputEl) {{\n",
       "    x.observe(outputEl, {childList: true});\n",
       "}}\n",
       "\n",
       "                        })                };                });            </script>        </div>"
      ]
     },
     "metadata": {},
     "output_type": "display_data"
    }
   ],
   "source": [
    "cp = CandlePlot(df_results, candles=False)\n",
    "cp.show_plot(line_traces = ['GAIN_C'])"
   ]
  },
  {
   "cell_type": "code",
   "execution_count": null,
   "id": "c409951d-932f-445f-b1ea-13c635640db1",
   "metadata": {},
   "outputs": [],
   "source": []
  },
  {
   "cell_type": "code",
   "execution_count": null,
   "id": "fc732ac5-ccb9-452b-bedf-13e0d1e4866a",
   "metadata": {},
   "outputs": [],
   "source": []
  },
  {
   "cell_type": "code",
   "execution_count": 31,
   "id": "af4ddd1d-052b-4824-a58b-1f067d8e7803",
   "metadata": {},
   "outputs": [],
   "source": [
    "import pandas as pd\n",
    "import matplotlib.pyplot as plt\n",
    "import seaborn as sns\n",
    "\n",
    "def gerar_relatorios(df):\n",
    "    # Configurações gerais para gráficos\n",
    "    sns.set(style=\"whitegrid\")\n",
    "    plt.figure(figsize=(10, 6))\n",
    "\n",
    "    # 1. Análise de Desempenho por Tipo de Fechamento (Trigger Type)\n",
    "    print(\"Relatório de Desempenho por Tipo de Fechamento\")\n",
    "    trigger_counts = df['trigger_type'].value_counts()\n",
    "    print(trigger_counts)\n",
    "    \n",
    "    plt.figure(figsize=(10, 6))\n",
    "    sns.countplot(data=df, x='trigger_type')\n",
    "    plt.title(\"Frequência de Operações por Trigger Type\")\n",
    "    plt.show()\n",
    "\n",
    "    # 2. Análise de Rentabilidade por Compra e Venda (Signal)\n",
    "    print(\"\\nRelatório de Rentabilidade por Compra e Venda (Signal)\")\n",
    "    signal_profit = df.groupby('SIGNAL')['result'].mean()\n",
    "    print(signal_profit)\n",
    "    \n",
    "    plt.figure(figsize=(10, 6))\n",
    "    sns.barplot(x=signal_profit.index, y=signal_profit.values)\n",
    "    plt.title(\"Rentabilidade Média por Compra e Venda\")\n",
    "    plt.show()\n",
    "\n",
    "    # 3. Análise de Resultados por Período (start_time, end_time)\n",
    "    print(\"\\nAnálise de Resultados por Período\")\n",
    "    df['start_time'] = pd.to_datetime(df['start_time'])\n",
    "    df['end_time'] = pd.to_datetime(df['end_time'])\n",
    "    df['duration'] = (df['end_time'] - df['start_time']).dt.total_seconds() / 60\n",
    "    result_over_time = df.groupby(df['start_time'].dt.date)['result'].sum()\n",
    "    print(result_over_time)\n",
    "    \n",
    "    plt.figure(figsize=(10, 6))\n",
    "    result_over_time.plot()\n",
    "    plt.title(\"Resultados ao Longo do Tempo\")\n",
    "    plt.show()\n",
    "\n",
    "    # 4. Eficiência Operacional: Diferença entre Preço de Entrada e Saída\n",
    "    print(\"\\nDiferença entre Preço de Entrada e Saída (Eficiência Operacional)\")\n",
    "    df['price_difference'] = df['trigger_price'] - df['start_price']\n",
    "    price_diff_mean = df['price_difference'].mean()\n",
    "    print(f\"Média da diferença de preço: {price_diff_mean} pips\")\n",
    "    \n",
    "    plt.figure(figsize=(10, 6))\n",
    "    sns.histplot(df['price_difference'], bins=30, kde=True)\n",
    "    plt.title(\"Distribuição da Diferença de Preço (Start vs Trigger)\")\n",
    "    plt.show()\n",
    "\n",
    "    # 5. Volatilidade e Duração das Operações (Contagem de Candles)\n",
    "    print(\"\\nAnálise de Volatilidade e Duração das Operações (Contagem de Candles)\")\n",
    "    count_result_corr = df[['count', 'result']].corr()\n",
    "    print(f\"Correlação entre duração (candles) e resultado: {count_result_corr.iloc[0, 1]}\")\n",
    "    \n",
    "    plt.figure(figsize=(10, 6))\n",
    "    sns.scatterplot(data=df, x='count', y='result', hue='trigger_type', palette='viridis')\n",
    "    plt.title(\"Relação entre Duração da Operação e Resultado\")\n",
    "    plt.show()\n",
    "\n",
    "    # 6. Análise de Perdas Acumuladas (Trigger Type 3)\n",
    "    print(\"\\nAnálise de Perdas Acumuladas (Trigger Type 3)\")\n",
    "    acum_loss_df = df[df['trigger_type'] == 3]\n",
    "    if not acum_loss_df.empty:\n",
    "        acum_loss_mean = acum_loss_df['result'].mean()\n",
    "        print(f\"Média de pips recuperados em perdas acumuladas: {acum_loss_mean}\")\n",
    "        plt.figure(figsize=(10, 6))\n",
    "        sns.histplot(acum_loss_df['result'], bins=30, kde=True)\n",
    "        plt.title(\"Distribuição de Recuperação de Perdas Acumuladas (2x Perda)\")\n",
    "        plt.show()\n",
    "    else:\n",
    "        print(\"Nenhuma operação encerrada por Perda Acumulada\")\n",
    "\n",
    "    # 7. Eficiência do Cruzamento Reverso (Trigger Type 4)\n",
    "    print(\"\\nEficiência do Cruzamento Reverso (Trigger Type 4)\")\n",
    "    reversed_cross_df = df[df['trigger_type'] == 4]\n",
    "    if not reversed_cross_df.empty:\n",
    "        rev_cross_mean = reversed_cross_df['result'].mean()\n",
    "        print(f\"Resultado médio de cruzamento reverso: {rev_cross_mean}\")\n",
    "        plt.figure(figsize=(10, 6))\n",
    "        sns.histplot(reversed_cross_df['result'], bins=30, kde=True)\n",
    "        plt.title(\"Distribuição de Resultados - Cruzamento Reverso\")\n",
    "        plt.show()\n",
    "    else:\n",
    "        print(\"Nenhuma operação encerrada por Cruzamento Reverso\")\n",
    "\n",
    "    # 8. Análise de Take Profit (Trigger Type 1) e Stop Loss (Trigger Type 2)\n",
    "    print(\"\\nAnálise de Take Profit (Trigger Type 1) e Stop Loss (Trigger Type 2)\")\n",
    "    tp_df = df[df['trigger_type'] == 1]\n",
    "    sl_df = df[df['trigger_type'] == 2]\n",
    "    \n",
    "    print(f\"Take Profit médio: {tp_df['result'].mean()}\")\n",
    "    print(f\"Stop Loss médio: {sl_df['result'].mean()}\")\n",
    "    \n",
    "    plt.figure(figsize=(10, 6))\n",
    "    sns.histplot(tp_df['result'], bins=30, kde=True, color='green', label='Take Profit')\n",
    "    sns.histplot(sl_df['result'], bins=30, kde=True, color='red', label='Stop Loss')\n",
    "    plt.legend()\n",
    "    plt.title(\"Distribuição de Resultados - Take Profit vs Stop Loss\")\n",
    "    plt.show()\n",
    "\n",
    "    # 9. Análise de Drawdown e Recuperação\n",
    "    print(\"\\nAnálise de Drawdown e Recuperação\")\n",
    "    df['accumulated_pips'] = df['result'].cumsum()\n",
    "    plt.figure(figsize=(10, 6))\n",
    "    plt.plot(df['start_time'], df['accumulated_pips'])\n",
    "    plt.title(\"Acumulação de Pips ao Longo do Tempo (Drawdown e Recuperação)\")\n",
    "    plt.show()\n",
    "\n",
    "    # 10. Eficiência Temporal e Tendências\n",
    "    print(\"\\nAnálise de Eficiência Temporal e Tendências\")\n",
    "    df['hour'] = df['start_time'].dt.hour\n",
    "    hourly_result = df.groupby('hour')['result'].mean()\n",
    "    plt.figure(figsize=(10, 6))\n",
    "    sns.lineplot(x=hourly_result.index, y=hourly_result.values)\n",
    "    plt.title(\"Rentabilidade Média por Horário\")\n",
    "    plt.show()\n",
    "\n",
    "# Exemplo de uso:\n",
    "# df = pd.read_csv('seu_arquivo.csv')  # Supondo que você já tem o dataframe pronto\n",
    "# gerar_relatorios(df)\n"
   ]
  },
  {
   "cell_type": "code",
   "execution_count": 32,
   "id": "75acd3c0-a151-4d04-bca4-372981f011a9",
   "metadata": {
    "scrolled": true
   },
   "outputs": [
    {
     "name": "stdout",
     "output_type": "stream",
     "text": [
      "Relatório de Desempenho por Tipo de Fechamento\n",
      "trigger_type\n",
      "4    546\n",
      "3    469\n",
      "Name: count, dtype: int64\n"
     ]
    },
    {
     "data": {
      "text/plain": [
       "<Figure size 1000x600 with 0 Axes>"
      ]
     },
     "metadata": {},
     "output_type": "display_data"
    },
    {
     "data": {
      "image/png": "[encoded data removed]",
      "text/plain": [
       "<Figure size 1000x600 with 1 Axes>"
      ]
     },
     "metadata": {},
     "output_type": "display_data"
    },
    {
     "name": "stdout",
     "output_type": "stream",
     "text": [
      "\n",
      "Relatório de Rentabilidade por Compra e Venda (Signal)\n",
      "SIGNAL\n",
      "-1    11.494094\n",
      " 1    43.327416\n",
      "Name: result, dtype: float64\n"
     ]
    },
    {
     "data": {
      "image/png": "[encoded data removed]",
      "text/plain": [
       "<Figure size 1000x600 with 1 Axes>"
      ]
     },
     "metadata": {},
     "output_type": "display_data"
    },
    {
     "name": "stdout",
     "output_type": "stream",
     "text": [
      "\n",
      "Análise de Resultados por Período\n",
      "start_time\n",
      "2023-01-26      0.0\n",
      "2023-01-27      0.0\n",
      "2023-01-30   -184.0\n",
      "2023-01-31    184.0\n",
      "2023-02-01   -207.0\n",
      "              ...  \n",
      "2024-09-09    -52.0\n",
      "2024-09-10    -40.0\n",
      "2024-09-11   -212.0\n",
      "2024-09-18    -23.0\n",
      "2024-09-19     63.0\n",
      "Name: result, Length: 170, dtype: float64\n"
     ]
    },
    {
     "data": {
      "image/png": "[encoded data removed]",
      "text/plain": [
       "<Figure size 1000x600 with 1 Axes>"
      ]
     },
     "metadata": {},
     "output_type": "display_data"
    },
    {
     "name": "stdout",
     "output_type": "stream",
     "text": [
      "\n",
      "Diferença entre Preço de Entrada e Saída (Eficiência Operacional)\n"
     ]
    },
    {
     "ename": "TypeError",
     "evalue": "unsupported operand type(s) for -: 'tuple' and 'float'",
     "output_type": "error",
     "traceback": [
      "\u001b[0;31m---------------------------------------------------------------------------\u001b[0m",
      "\u001b[0;31mTypeError\u001b[0m                                 Traceback (most recent call last)",
      "File \u001b[0;32m~/miniconda3/lib/python3.12/site-packages/pandas/core/ops/array_ops.py:218\u001b[0m, in \u001b[0;36m_na_arithmetic_op\u001b[0;34m(left, right, op, is_cmp)\u001b[0m\n\u001b[1;32m    217\u001b[0m \u001b[38;5;28;01mtry\u001b[39;00m:\n\u001b[0;32m--> 218\u001b[0m     result \u001b[38;5;241m=\u001b[39m \u001b[43mfunc\u001b[49m\u001b[43m(\u001b[49m\u001b[43mleft\u001b[49m\u001b[43m,\u001b[49m\u001b[43m \u001b[49m\u001b[43mright\u001b[49m\u001b[43m)\u001b[49m\n\u001b[1;32m    219\u001b[0m \u001b[38;5;28;01mexcept\u001b[39;00m \u001b[38;5;167;01mTypeError\u001b[39;00m:\n",
      "File \u001b[0;32m~/miniconda3/lib/python3.12/site-packages/pandas/core/computation/expressions.py:242\u001b[0m, in \u001b[0;36mevaluate\u001b[0;34m(op, a, b, use_numexpr)\u001b[0m\n\u001b[1;32m    240\u001b[0m     \u001b[38;5;28;01mif\u001b[39;00m use_numexpr:\n\u001b[1;32m    241\u001b[0m         \u001b[38;5;66;03m# error: \"None\" not callable\u001b[39;00m\n\u001b[0;32m--> 242\u001b[0m         \u001b[38;5;28;01mreturn\u001b[39;00m \u001b[43m_evaluate\u001b[49m\u001b[43m(\u001b[49m\u001b[43mop\u001b[49m\u001b[43m,\u001b[49m\u001b[43m \u001b[49m\u001b[43mop_str\u001b[49m\u001b[43m,\u001b[49m\u001b[43m \u001b[49m\u001b[43ma\u001b[49m\u001b[43m,\u001b[49m\u001b[43m \u001b[49m\u001b[43mb\u001b[49m\u001b[43m)\u001b[49m  \u001b[38;5;66;03m# type: ignore[misc]\u001b[39;00m\n\u001b[1;32m    243\u001b[0m \u001b[38;5;28;01mreturn\u001b[39;00m _evaluate_standard(op, op_str, a, b)\n",
      "File \u001b[0;32m~/miniconda3/lib/python3.12/site-packages/pandas/core/computation/expressions.py:73\u001b[0m, in \u001b[0;36m_evaluate_standard\u001b[0;34m(op, op_str, a, b)\u001b[0m\n\u001b[1;32m     72\u001b[0m     _store_test_result(\u001b[38;5;28;01mFalse\u001b[39;00m)\n\u001b[0;32m---> 73\u001b[0m \u001b[38;5;28;01mreturn\u001b[39;00m \u001b[43mop\u001b[49m\u001b[43m(\u001b[49m\u001b[43ma\u001b[49m\u001b[43m,\u001b[49m\u001b[43m \u001b[49m\u001b[43mb\u001b[49m\u001b[43m)\u001b[49m\n",
      "\u001b[0;31mTypeError\u001b[0m: unsupported operand type(s) for -: 'tuple' and 'float'",
      "\nDuring handling of the above exception, another exception occurred:\n",
      "\u001b[0;31mTypeError\u001b[0m                                 Traceback (most recent call last)",
      "Cell \u001b[0;32mIn[32], line 1\u001b[0m\n\u001b[0;32m----> 1\u001b[0m \u001b[43mgerar_relatorios\u001b[49m\u001b[43m(\u001b[49m\u001b[43mdf_results\u001b[49m\u001b[43m)\u001b[49m\n",
      "Cell \u001b[0;32mIn[31], line 45\u001b[0m, in \u001b[0;36mgerar_relatorios\u001b[0;34m(df)\u001b[0m\n\u001b[1;32m     43\u001b[0m \u001b[38;5;66;03m# 4. Eficiência Operacional: Diferença entre Preço de Entrada e Saída\u001b[39;00m\n\u001b[1;32m     44\u001b[0m \u001b[38;5;28mprint\u001b[39m(\u001b[38;5;124m\"\u001b[39m\u001b[38;5;130;01m\\n\u001b[39;00m\u001b[38;5;124mDiferença entre Preço de Entrada e Saída (Eficiência Operacional)\u001b[39m\u001b[38;5;124m\"\u001b[39m)\n\u001b[0;32m---> 45\u001b[0m df[\u001b[38;5;124m'\u001b[39m\u001b[38;5;124mprice_difference\u001b[39m\u001b[38;5;124m'\u001b[39m] \u001b[38;5;241m=\u001b[39m \u001b[43mdf\u001b[49m\u001b[43m[\u001b[49m\u001b[38;5;124;43m'\u001b[39;49m\u001b[38;5;124;43mtrigger_price\u001b[39;49m\u001b[38;5;124;43m'\u001b[39;49m\u001b[43m]\u001b[49m\u001b[43m \u001b[49m\u001b[38;5;241;43m-\u001b[39;49m\u001b[43m \u001b[49m\u001b[43mdf\u001b[49m\u001b[43m[\u001b[49m\u001b[38;5;124;43m'\u001b[39;49m\u001b[38;5;124;43mstart_price\u001b[39;49m\u001b[38;5;124;43m'\u001b[39;49m\u001b[43m]\u001b[49m\n\u001b[1;32m     46\u001b[0m price_diff_mean \u001b[38;5;241m=\u001b[39m df[\u001b[38;5;124m'\u001b[39m\u001b[38;5;124mprice_difference\u001b[39m\u001b[38;5;124m'\u001b[39m]\u001b[38;5;241m.\u001b[39mmean()\n\u001b[1;32m     47\u001b[0m \u001b[38;5;28mprint\u001b[39m(\u001b[38;5;124mf\u001b[39m\u001b[38;5;124m\"\u001b[39m\u001b[38;5;124mMédia da diferença de preço: \u001b[39m\u001b[38;5;132;01m{\u001b[39;00mprice_diff_mean\u001b[38;5;132;01m}\u001b[39;00m\u001b[38;5;124m pips\u001b[39m\u001b[38;5;124m\"\u001b[39m)\n",
      "File \u001b[0;32m~/miniconda3/lib/python3.12/site-packages/pandas/core/ops/common.py:76\u001b[0m, in \u001b[0;36m_unpack_zerodim_and_defer.<locals>.new_method\u001b[0;34m(self, other)\u001b[0m\n\u001b[1;32m     72\u001b[0m             \u001b[38;5;28;01mreturn\u001b[39;00m \u001b[38;5;28mNotImplemented\u001b[39m\n\u001b[1;32m     74\u001b[0m other \u001b[38;5;241m=\u001b[39m item_from_zerodim(other)\n\u001b[0;32m---> 76\u001b[0m \u001b[38;5;28;01mreturn\u001b[39;00m \u001b[43mmethod\u001b[49m\u001b[43m(\u001b[49m\u001b[38;5;28;43mself\u001b[39;49m\u001b[43m,\u001b[49m\u001b[43m \u001b[49m\u001b[43mother\u001b[49m\u001b[43m)\u001b[49m\n",
      "File \u001b[0;32m~/miniconda3/lib/python3.12/site-packages/pandas/core/arraylike.py:194\u001b[0m, in \u001b[0;36mOpsMixin.__sub__\u001b[0;34m(self, other)\u001b[0m\n\u001b[1;32m    192\u001b[0m \u001b[38;5;129m@unpack_zerodim_and_defer\u001b[39m(\u001b[38;5;124m\"\u001b[39m\u001b[38;5;124m__sub__\u001b[39m\u001b[38;5;124m\"\u001b[39m)\n\u001b[1;32m    193\u001b[0m \u001b[38;5;28;01mdef\u001b[39;00m \u001b[38;5;21m__sub__\u001b[39m(\u001b[38;5;28mself\u001b[39m, other):\n\u001b[0;32m--> 194\u001b[0m     \u001b[38;5;28;01mreturn\u001b[39;00m \u001b[38;5;28;43mself\u001b[39;49m\u001b[38;5;241;43m.\u001b[39;49m\u001b[43m_arith_method\u001b[49m\u001b[43m(\u001b[49m\u001b[43mother\u001b[49m\u001b[43m,\u001b[49m\u001b[43m \u001b[49m\u001b[43moperator\u001b[49m\u001b[38;5;241;43m.\u001b[39;49m\u001b[43msub\u001b[49m\u001b[43m)\u001b[49m\n",
      "File \u001b[0;32m~/miniconda3/lib/python3.12/site-packages/pandas/core/series.py:6135\u001b[0m, in \u001b[0;36mSeries._arith_method\u001b[0;34m(self, other, op)\u001b[0m\n\u001b[1;32m   6133\u001b[0m \u001b[38;5;28;01mdef\u001b[39;00m \u001b[38;5;21m_arith_method\u001b[39m(\u001b[38;5;28mself\u001b[39m, other, op):\n\u001b[1;32m   6134\u001b[0m     \u001b[38;5;28mself\u001b[39m, other \u001b[38;5;241m=\u001b[39m \u001b[38;5;28mself\u001b[39m\u001b[38;5;241m.\u001b[39m_align_for_op(other)\n\u001b[0;32m-> 6135\u001b[0m     \u001b[38;5;28;01mreturn\u001b[39;00m \u001b[43mbase\u001b[49m\u001b[38;5;241;43m.\u001b[39;49m\u001b[43mIndexOpsMixin\u001b[49m\u001b[38;5;241;43m.\u001b[39;49m\u001b[43m_arith_method\u001b[49m\u001b[43m(\u001b[49m\u001b[38;5;28;43mself\u001b[39;49m\u001b[43m,\u001b[49m\u001b[43m \u001b[49m\u001b[43mother\u001b[49m\u001b[43m,\u001b[49m\u001b[43m \u001b[49m\u001b[43mop\u001b[49m\u001b[43m)\u001b[49m\n",
      "File \u001b[0;32m~/miniconda3/lib/python3.12/site-packages/pandas/core/base.py:1382\u001b[0m, in \u001b[0;36mIndexOpsMixin._arith_method\u001b[0;34m(self, other, op)\u001b[0m\n\u001b[1;32m   1379\u001b[0m     rvalues \u001b[38;5;241m=\u001b[39m np\u001b[38;5;241m.\u001b[39marange(rvalues\u001b[38;5;241m.\u001b[39mstart, rvalues\u001b[38;5;241m.\u001b[39mstop, rvalues\u001b[38;5;241m.\u001b[39mstep)\n\u001b[1;32m   1381\u001b[0m \u001b[38;5;28;01mwith\u001b[39;00m np\u001b[38;5;241m.\u001b[39merrstate(\u001b[38;5;28mall\u001b[39m\u001b[38;5;241m=\u001b[39m\u001b[38;5;124m\"\u001b[39m\u001b[38;5;124mignore\u001b[39m\u001b[38;5;124m\"\u001b[39m):\n\u001b[0;32m-> 1382\u001b[0m     result \u001b[38;5;241m=\u001b[39m \u001b[43mops\u001b[49m\u001b[38;5;241;43m.\u001b[39;49m\u001b[43marithmetic_op\u001b[49m\u001b[43m(\u001b[49m\u001b[43mlvalues\u001b[49m\u001b[43m,\u001b[49m\u001b[43m \u001b[49m\u001b[43mrvalues\u001b[49m\u001b[43m,\u001b[49m\u001b[43m \u001b[49m\u001b[43mop\u001b[49m\u001b[43m)\u001b[49m\n\u001b[1;32m   1384\u001b[0m \u001b[38;5;28;01mreturn\u001b[39;00m \u001b[38;5;28mself\u001b[39m\u001b[38;5;241m.\u001b[39m_construct_result(result, name\u001b[38;5;241m=\u001b[39mres_name)\n",
      "File \u001b[0;32m~/miniconda3/lib/python3.12/site-packages/pandas/core/ops/array_ops.py:283\u001b[0m, in \u001b[0;36marithmetic_op\u001b[0;34m(left, right, op)\u001b[0m\n\u001b[1;32m    279\u001b[0m     _bool_arith_check(op, left, right)  \u001b[38;5;66;03m# type: ignore[arg-type]\u001b[39;00m\n\u001b[1;32m    281\u001b[0m     \u001b[38;5;66;03m# error: Argument 1 to \"_na_arithmetic_op\" has incompatible type\u001b[39;00m\n\u001b[1;32m    282\u001b[0m     \u001b[38;5;66;03m# \"Union[ExtensionArray, ndarray[Any, Any]]\"; expected \"ndarray[Any, Any]\"\u001b[39;00m\n\u001b[0;32m--> 283\u001b[0m     res_values \u001b[38;5;241m=\u001b[39m \u001b[43m_na_arithmetic_op\u001b[49m\u001b[43m(\u001b[49m\u001b[43mleft\u001b[49m\u001b[43m,\u001b[49m\u001b[43m \u001b[49m\u001b[43mright\u001b[49m\u001b[43m,\u001b[49m\u001b[43m \u001b[49m\u001b[43mop\u001b[49m\u001b[43m)\u001b[49m  \u001b[38;5;66;03m# type: ignore[arg-type]\u001b[39;00m\n\u001b[1;32m    285\u001b[0m \u001b[38;5;28;01mreturn\u001b[39;00m res_values\n",
      "File \u001b[0;32m~/miniconda3/lib/python3.12/site-packages/pandas/core/ops/array_ops.py:227\u001b[0m, in \u001b[0;36m_na_arithmetic_op\u001b[0;34m(left, right, op, is_cmp)\u001b[0m\n\u001b[1;32m    219\u001b[0m \u001b[38;5;28;01mexcept\u001b[39;00m \u001b[38;5;167;01mTypeError\u001b[39;00m:\n\u001b[1;32m    220\u001b[0m     \u001b[38;5;28;01mif\u001b[39;00m \u001b[38;5;129;01mnot\u001b[39;00m is_cmp \u001b[38;5;129;01mand\u001b[39;00m (\n\u001b[1;32m    221\u001b[0m         left\u001b[38;5;241m.\u001b[39mdtype \u001b[38;5;241m==\u001b[39m \u001b[38;5;28mobject\u001b[39m \u001b[38;5;129;01mor\u001b[39;00m \u001b[38;5;28mgetattr\u001b[39m(right, \u001b[38;5;124m\"\u001b[39m\u001b[38;5;124mdtype\u001b[39m\u001b[38;5;124m\"\u001b[39m, \u001b[38;5;28;01mNone\u001b[39;00m) \u001b[38;5;241m==\u001b[39m \u001b[38;5;28mobject\u001b[39m\n\u001b[1;32m    222\u001b[0m     ):\n\u001b[0;32m   (...)\u001b[0m\n\u001b[1;32m    225\u001b[0m         \u001b[38;5;66;03m# Don't do this for comparisons, as that will handle complex numbers\u001b[39;00m\n\u001b[1;32m    226\u001b[0m         \u001b[38;5;66;03m#  incorrectly, see GH#32047\u001b[39;00m\n\u001b[0;32m--> 227\u001b[0m         result \u001b[38;5;241m=\u001b[39m \u001b[43m_masked_arith_op\u001b[49m\u001b[43m(\u001b[49m\u001b[43mleft\u001b[49m\u001b[43m,\u001b[49m\u001b[43m \u001b[49m\u001b[43mright\u001b[49m\u001b[43m,\u001b[49m\u001b[43m \u001b[49m\u001b[43mop\u001b[49m\u001b[43m)\u001b[49m\n\u001b[1;32m    228\u001b[0m     \u001b[38;5;28;01melse\u001b[39;00m:\n\u001b[1;32m    229\u001b[0m         \u001b[38;5;28;01mraise\u001b[39;00m\n",
      "File \u001b[0;32m~/miniconda3/lib/python3.12/site-packages/pandas/core/ops/array_ops.py:163\u001b[0m, in \u001b[0;36m_masked_arith_op\u001b[0;34m(x, y, op)\u001b[0m\n\u001b[1;32m    161\u001b[0m     \u001b[38;5;66;03m# See GH#5284, GH#5035, GH#19448 for historical reference\u001b[39;00m\n\u001b[1;32m    162\u001b[0m     \u001b[38;5;28;01mif\u001b[39;00m mask\u001b[38;5;241m.\u001b[39many():\n\u001b[0;32m--> 163\u001b[0m         result[mask] \u001b[38;5;241m=\u001b[39m \u001b[43mop\u001b[49m\u001b[43m(\u001b[49m\u001b[43mxrav\u001b[49m\u001b[43m[\u001b[49m\u001b[43mmask\u001b[49m\u001b[43m]\u001b[49m\u001b[43m,\u001b[49m\u001b[43m \u001b[49m\u001b[43myrav\u001b[49m\u001b[43m[\u001b[49m\u001b[43mmask\u001b[49m\u001b[43m]\u001b[49m\u001b[43m)\u001b[49m\n\u001b[1;32m    165\u001b[0m \u001b[38;5;28;01melse\u001b[39;00m:\n\u001b[1;32m    166\u001b[0m     \u001b[38;5;28;01mif\u001b[39;00m \u001b[38;5;129;01mnot\u001b[39;00m is_scalar(y):\n",
      "\u001b[0;31mTypeError\u001b[0m: unsupported operand type(s) for -: 'tuple' and 'float'"
     ]
    }
   ],
   "source": [
    "gerar_relatorios(df_results)"
   ]
  },
  {
   "cell_type": "code",
   "execution_count": 33,
   "id": "e6c34345-231e-498c-a00c-0ae683498641",
   "metadata": {},
   "outputs": [],
   "source": [
    "import pandas as pd\n",
    "import matplotlib.pyplot as plt\n",
    "import seaborn as sns\n",
    "\n",
    "# Função para calcular drawdown\n",
    "def calcular_drawdown(df):\n",
    "    \"\"\"Calcula o maior drawdown, considerando o menor valor subsequente ao pico.\"\"\"\n",
    "    max_pico = df['accumulated_pips'].cummax()\n",
    "    drawdown = max_pico - df['accumulated_pips']\n",
    "    return drawdown.max()\n",
    "\n",
    "# Função para calcular sequências de ganhos e perdas consecutivas\n",
    "def calcular_sequencia_ganhos_perdas(df):\n",
    "    \"\"\"Calcula a quantidade de ganhos e perdas consecutivas.\"\"\"\n",
    "    df['result_positive'] = df['result'] > 0\n",
    "    df['sequencia'] = (df['result_positive'] != df['result_positive'].shift(1)).cumsum()\n",
    "    sequencias = df.groupby(['sequencia', 'result_positive']).size().reset_index(name='count')\n",
    "    \n",
    "    ganhos_consecutivos = sequencias[sequencias['result_positive'] == True]['count'].max()\n",
    "    perdas_consecutivas = sequencias[sequencias['result_positive'] == False]['count'].max()\n",
    "    \n",
    "    return ganhos_consecutivos, perdas_consecutivas\n",
    "\n",
    "# Função principal para gerar o relatório completo\n",
    "def gerar_relatorio_completo(df):\n",
    "    sns.set(style=\"whitegrid\")\n",
    "    \n",
    "    # Formatação textual para o notebook\n",
    "    def format_section(title):\n",
    "        print(\"#\" * 60)\n",
    "        print(f\"# {title}\")\n",
    "        print(\"#\" * 60, \"\\n\")\n",
    "    \n",
    "    format_section(\"1. Análise de Desempenho por Tipo de Fechamento (Trigger Type)\")\n",
    "    \n",
    "    trigger_counts = df['trigger_type'].value_counts(normalize=True) * 100\n",
    "    trigger_means = df.groupby('trigger_type')['result'].mean()\n",
    "    trigger_durations = df.groupby('trigger_type')['count'].mean()\n",
    "    \n",
    "    print(f\"Distribuição de operações por tipo de fechamento (em %):\\n{trigger_counts}\\n\")\n",
    "    print(f\"Média de pips ganhos/perdidos por tipo de fechamento:\\n{trigger_means}\\n\")\n",
    "    print(f\"Tempo médio (em candles) das operações por tipo de fechamento:\\n{trigger_durations}\\n\")\n",
    "    \n",
    "    plt.figure(figsize=(10, 6))\n",
    "    sns.countplot(data=df, x='trigger_type', palette='viridis')\n",
    "    plt.title(\"Frequência de Operações por Tipo de Fechamento\")\n",
    "    plt.xlabel(\"Tipo de Fechamento\")\n",
    "    plt.ylabel(\"Número de Operações\")\n",
    "    plt.show()\n",
    "\n",
    "    format_section(\"2. Análise de Rentabilidade por Compra e Venda (Signal)\")\n",
    "    \n",
    "    signal_counts = df['SIGNAL'].value_counts(normalize=True) * 100\n",
    "    signal_means = df.groupby('SIGNAL')['result'].mean()\n",
    "    signal_durations = df.groupby('SIGNAL')['count'].mean()\n",
    "\n",
    "    print(f\"Distribuição de operações de compra e venda (em %):\\n{signal_counts}\\n\")\n",
    "    print(f\"Média de pips ganhos/perdidos em operações de compra (1) e venda (-1):\\n{signal_means}\\n\")\n",
    "    print(f\"Tempo médio (em candles) das operações de compra e venda:\\n{signal_durations}\\n\")\n",
    "\n",
    "    plt.figure(figsize=(10, 6))\n",
    "    sns.barplot(x=['Compra (1)', 'Venda (-1)'], y=signal_means.values, palette='viridis')\n",
    "    plt.title(\"Rentabilidade Média por Compra e Venda\")\n",
    "    plt.xlabel(\"Operações\")\n",
    "    plt.ylabel(\"Média de Pips\")\n",
    "    plt.show()\n",
    "\n",
    "    format_section(\"3. Rentabilidade por Compra e Venda com relação ao Tipo de Fechamento\")\n",
    "    \n",
    "    for trigger in df['trigger_type'].unique():\n",
    "        print(f\"Trigger Type {trigger}:\")\n",
    "        group = df[df['trigger_type'] == trigger].groupby('SIGNAL')['result'].mean()\n",
    "        print(f\"  Compra (1): {group.get(1, 'N/A')}\")\n",
    "        print(f\"  Venda (-1): {group.get(-1, 'N/A')}\")\n",
    "        print()\n",
    "\n",
    "    format_section(\"4. Tempo médio de operação e impacto nos resultados\")\n",
    "    \n",
    "    signal_trigger_durations = df.groupby(['SIGNAL', 'trigger_type'])['count'].mean()\n",
    "    print(f\"Tempo médio de operação por tipo de fechamento e compra/venda:\\n{signal_trigger_durations}\\n\")\n",
    "\n",
    "    format_section(\"5. Análise de Volatilidade e Duração das Operações (Count)\")\n",
    "    \n",
    "    count_result_corr = df[['count', 'result']].corr().iloc[0, 1]\n",
    "    print(f\"Correlação entre a duração das operações (candles) e o resultado: {count_result_corr}\\n\")\n",
    "\n",
    "    plt.figure(figsize=(10, 6))\n",
    "    sns.scatterplot(data=df, x='count', y='result', hue='trigger_type', palette='coolwarm')\n",
    "    plt.title(\"Duração das Operações (Candles) vs. Resultado (Pips)\")\n",
    "    plt.xlabel(\"Duração (Candles)\")\n",
    "    plt.ylabel(\"Resultado (Pips)\")\n",
    "    plt.show()\n",
    "\n",
    "    format_section(\"6. Análise de Fechamento por Perdas Acumuladas (Trigger Type 3)\")\n",
    "    \n",
    "    acum_loss_df = df[df['trigger_type'] == 3]\n",
    "    if not acum_loss_df.empty:\n",
    "        print(f\"Frequência de operações com perdas acumuladas: {len(acum_loss_df)}\")\n",
    "        print(f\"Lucro médio recuperado (2x perda): {acum_loss_df['result'].mean()}\")\n",
    "        print(f\"Tempo médio de recuperação (em candles): {acum_loss_df['count'].mean()}\\n\")\n",
    "    else:\n",
    "        print(\"Nenhuma operação de perdas acumuladas encontrada.\\n\")\n",
    "    \n",
    "    format_section(\"7. Análise de Eficiência do Cruzamento Reverso (Trigger Type 4)\")\n",
    "    \n",
    "    rev_cross_df = df[df['trigger_type'] == 4]\n",
    "    if not rev_cross_df.empty:\n",
    "        print(f\"Frequência de operações com cruzamento reverso: {len(rev_cross_df)}\")\n",
    "        print(f\"Lucro médio em cruzamentos reversos: {rev_cross_df['result'].mean()}\")\n",
    "        print(f\"Tempo médio até cruzamento reverso (em candles): {rev_cross_df['count'].mean()}\\n\")\n",
    "    else:\n",
    "        print(\"Nenhuma operação de cruzamento reverso encontrada.\\n\")\n",
    "\n",
    "    format_section(\"8. Análise de Drawdown e Recuperação\")\n",
    "    \n",
    "    df['accumulated_pips'] = df['result'].cumsum()\n",
    "    max_drawdown = calcular_drawdown(df)\n",
    "    print(f\"Maior drawdown subsequente: {max_drawdown} pips\\n\")\n",
    "    \n",
    "    format_section(\"9. Análise de Drawdown por Tipo de Fechamento\")\n",
    "    \n",
    "    for trigger in df['trigger_type'].unique():\n",
    "        print(f\"Trigger Type {trigger}:\")\n",
    "        trigger_df = df[df['trigger_type'] == trigger]\n",
    "        if not trigger_df.empty:\n",
    "            drawdown = calcular_drawdown(trigger_df)\n",
    "            print(f\"  Maior drawdown subsequente: {drawdown} pips\")\n",
    "        else:\n",
    "            print(f\"  Nenhuma operação para Trigger Type {trigger}\")\n",
    "        print()\n",
    "\n",
    "    format_section(\"10. KPIs Principais\")\n",
    "    \n",
    "    total_operations = len(df)\n",
    "    winning_operations = len(df[df['result'] > 0])\n",
    "    losing_operations = len(df[df['result'] < 0])\n",
    "    success_rate = (winning_operations / total_operations) * 100\n",
    "    profit_factor = df[df['result'] > 0]['result'].sum() / abs(df[df['result'] < 0]['result'].sum())\n",
    "    \n",
    "    ganhos_consecutivos, perdas_consecutivas = calcular_sequencia_ganhos_perdas(df)\n",
    "\n",
    "    print(f\"Taxa de sucesso: {success_rate:.2f}%\")\n",
    "    print(f\"Profit Factor: {profit_factor:.2f}\")\n",
    "    print(f\"Maior sequência de ganhos consecutivos: {ganhos_consecutivos}\")\n",
    "    print(f\"Maior sequência de perdas consecutivas: {perdas_consecutivas}\\n\")\n",
    "    \n",
    "    format_section(\"11. Quantidade de Operações com Lucro e Perda\")\n",
    "    \n",
    "    # Operações com lucro e perda no geral\n",
    "    total_lucro = len(df[df['result'] > 0])\n",
    "    total_perda = len(df[df['result'] < 0])\n",
    "    \n",
    "    print(f\"Total de Operações com Lucro: {total_lucro}\")\n",
    "    print(f\"Total de Operações com Perda: {total_perda}\\n\")\n",
    "    \n",
    "    # Por tipo de operação (Compra e Venda)\n",
    "    print(\"Por Compra e Venda:\")\n",
    "    for signal in df['SIGNAL'].unique():\n",
    "        lucro = len(df[(df['SIGNAL'] == signal) & (df['result'] > 0)])\n",
    "        perda = len(df[(df['SIGNAL'] == signal) & (df['result'] < 0)])\n",
    "        operacao = \"Compra (1)\" if signal == 1 else \"Venda (-1)\"\n",
    "        print(f\"{operacao}:\")\n",
    "        print(f\"  Operações com Lucro: {lucro}\")\n",
    "        print(f\"  Operações com Perda: {perda}\\n\")\n",
    "    \n",
    "    # Por tipo de fechamento (Trigger Type)\n",
    "    print(\"Por Tipo de Fechamento:\")\n",
    "    for trigger in df['trigger_type'].unique():\n",
    "        lucro = len(df[(df['trigger_type'] == trigger) & (df['result'] > 0)])\n",
    "        perda = len(df[(df['trigger_type'] == trigger) & (df['result'] < 0)])\n",
    "        print(f\"Trigger Type {trigger}:\")\n",
    "        print(f\"  Operações com Lucro: {lucro}\")\n",
    "        print(f\"  Operações com Perda: {perda}\\n\")\n",
    "\n",
    "    format_section(\"12. Valor Total de Retorno (Result) por Tipo de Retorno\")\n",
    "\n",
    "    # Valor total de retorno geral\n",
    "    total_retorno = df['result'].sum()\n",
    "    print(f\"Valor total de retorno geral: {total_retorno} pips\\n\")\n",
    "\n",
    "    # Valor total de retorno por tipo de operação (Compra e Venda)\n",
    "    print(\"Valor total de retorno por Compra e Venda:\")\n",
    "    for signal in df['SIGNAL'].unique():\n",
    "        total_retorno_signal = df[df['SIGNAL'] == signal]['result'].sum()\n",
    "        operacao = \"Compra (1)\" if signal == 1 else \"Venda (-1)\"\n",
    "        print(f\"{operacao}: {total_retorno_signal} pips\\n\")\n",
    "\n",
    "    # Valor total de retorno por tipo de fechamento (Trigger Type)\n",
    "    print(\"Valor total de retorno por Tipo de Fechamento:\")\n",
    "    for trigger in df['trigger_type'].unique():\n",
    "        total_retorno_trigger = df[df['trigger_type'] == trigger]['result'].sum()\n",
    "        print(f\"Trigger Type {trigger}: {total_retorno_trigger} pips\\n\")\n",
    "\n",
    "    format_section(\"13. Retorno Positivo e Negativo por Tipo de Retorno\")\n",
    "\n",
    "    # Retorno positivo e negativo por tipo de operação (Compra e Venda)\n",
    "    print(\"Retorno Positivo e Negativo por Compra e Venda:\")\n",
    "    for signal in df['SIGNAL'].unique():\n",
    "        positivo = df[(df['SIGNAL'] == signal) & (df['result'] > 0)]['result'].sum()\n",
    "        negativo = df[(df['SIGNAL'] == signal) & (df['result'] < 0)]['result'].sum()\n",
    "        operacao = \"Compra (1)\" if signal == 1 else \"Venda (-1)\"\n",
    "        print(f\"{operacao}:\")\n",
    "        print(f\"  Retorno Positivo: {positivo} pips\")\n",
    "        print(f\"  Retorno Negativo: {negativo} pips\\n\")\n",
    "\n",
    "    # Retorno positivo e negativo por tipo de fechamento (Trigger Type)\n",
    "    print(\"Retorno Positivo e Negativo por Tipo de Fechamento:\")\n",
    "    for trigger in df['trigger_type'].unique():\n",
    "        positivo = df[(df['trigger_type'] == trigger) & (df['result'] > 0)]['result'].sum()\n",
    "        negativo = df[(df['trigger_type'] == trigger) & (df['result'] < 0)]['result'].sum()\n",
    "        print(f\"Trigger Type {trigger}:\")\n",
    "        print(f\"  Retorno Positivo: {positivo} pips\")\n",
    "        print(f\"  Retorno Negativo: {negativo} pips\\n\")\n",
    "\n",
    "    format_section(\"14. Gráficos e Visualizações\")\n",
    "    \n",
    "    # Distribuição de triggers\n",
    "    plt.figure(figsize=(10, 6))\n",
    "    sns.countplot(data=df, x='trigger_type', palette='coolwarm')\n",
    "    plt.title(\"Distribuição de Fechamentos por Tipo de Trigger\")\n",
    "    plt.show()\n",
    "    \n",
    "    # Saldo acumulado de pips ao longo do tempo\n",
    "    plt.figure(figsize=(10, 6))\n",
    "    df.plot(x='start_time', y='accumulated_pips', kind='line', title=\"Saldo Acumulado de Pips ao Longo do Tempo\")\n",
    "    plt.show()\n",
    "\n",
    "# Exemplo de uso:\n",
    "# df = pd.read_csv('seu_arquivo.csv')  # Ajustar o caminho do arquivo conforme necessário\n",
    "# gerar_relatorio_completo(df)\n"
   ]
  },
  {
   "cell_type": "code",
   "execution_count": 34,
   "id": "952d1eb9-0a5b-47ff-8553-917287a2066e",
   "metadata": {
    "scrolled": true
   },
   "outputs": [
    {
     "name": "stdout",
     "output_type": "stream",
     "text": [
      "############################################################\n",
      "# 1. Análise de Desempenho por Tipo de Fechamento (Trigger Type)\n",
      "############################################################ \n",
      "\n",
      "Distribuição de operações por tipo de fechamento (em %):\n",
      "trigger_type\n",
      "4    53.793103\n",
      "3    46.206897\n",
      "Name: proportion, dtype: float64\n",
      "\n",
      "Média de pips ganhos/perdidos por tipo de fechamento:\n",
      "trigger_type\n",
      "3    117.296375\n",
      "4    -49.827839\n",
      "Name: result, dtype: float64\n",
      "\n",
      "Tempo médio (em candles) das operações por tipo de fechamento:\n",
      "trigger_type\n",
      "3     15.656716\n",
      "4    158.001832\n",
      "Name: count, dtype: float64\n",
      "\n"
     ]
    },
    {
     "name": "stderr",
     "output_type": "stream",
     "text": [
      "/tmp/ipykernel_20554/4162239757.py:45: FutureWarning:\n",
      "\n",
      "\n",
      "\n",
      "Passing `palette` without assigning `hue` is deprecated and will be removed in v0.14.0. Assign the `x` variable to `hue` and set `legend=False` for the same effect.\n",
      "\n",
      "\n"
     ]
    },
    {
     "data": {
      "image/png": "[encoded data removed]",
      "text/plain": [
       "<Figure size 1000x600 with 1 Axes>"
      ]
     },
     "metadata": {},
     "output_type": "display_data"
    },
    {
     "name": "stdout",
     "output_type": "stream",
     "text": [
      "############################################################\n",
      "# 2. Análise de Rentabilidade por Compra e Venda (Signal)\n",
      "############################################################ \n",
      "\n",
      "Distribuição de operações de compra e venda (em %):\n",
      "SIGNAL\n",
      "-1    50.049261\n",
      " 1    49.950739\n",
      "Name: proportion, dtype: float64\n",
      "\n",
      "Média de pips ganhos/perdidos em operações de compra (1) e venda (-1):\n",
      "SIGNAL\n",
      "-1    11.494094\n",
      " 1    43.327416\n",
      "Name: result, dtype: float64\n",
      "\n",
      "Tempo médio (em candles) das operações de compra e venda:\n",
      "SIGNAL\n",
      "-1     59.265748\n",
      " 1    125.256410\n",
      "Name: count, dtype: float64\n",
      "\n"
     ]
    },
    {
     "name": "stderr",
     "output_type": "stream",
     "text": [
      "/tmp/ipykernel_20554/4162239757.py:62: FutureWarning:\n",
      "\n",
      "\n",
      "\n",
      "Passing `palette` without assigning `hue` is deprecated and will be removed in v0.14.0. Assign the `x` variable to `hue` and set `legend=False` for the same effect.\n",
      "\n",
      "\n"
     ]
    },
    {
     "data": {
      "image/png": "[encoded data removed]",
      "text/plain": [
       "<Figure size 1000x600 with 1 Axes>"
      ]
     },
     "metadata": {},
     "output_type": "display_data"
    },
    {
     "name": "stdout",
     "output_type": "stream",
     "text": [
      "############################################################\n",
      "# 3. Rentabilidade por Compra e Venda com relação ao Tipo de Fechamento\n",
      "############################################################ \n",
      "\n",
      "Trigger Type 4:\n",
      "  Compra (1): -19.919413919413564\n",
      "  Venda (-1): -79.73626373626445\n",
      "\n",
      "Trigger Type 3:\n",
      "  Compra (1): 117.1153846153862\n",
      "  Venda (-1): 117.47659574467977\n",
      "\n",
      "############################################################\n",
      "# 4. Tempo médio de operação e impacto nos resultados\n",
      "############################################################ \n",
      "\n",
      "Tempo médio de operação por tipo de fechamento e compra/venda:\n",
      "SIGNAL  trigger_type\n",
      "-1      3                14.017021\n",
      "        4                98.216117\n",
      " 1      3                17.303419\n",
      "        4               217.787546\n",
      "Name: count, dtype: float64\n",
      "\n",
      "############################################################\n",
      "# 5. Análise de Volatilidade e Duração das Operações (Count)\n",
      "############################################################ \n",
      "\n",
      "Correlação entre a duração das operações (candles) e o resultado: 0.8697078327586832\n",
      "\n"
     ]
    },
    {
     "data": {
      "image/png": "[encoded data removed]",
      "text/plain": [
       "<Figure size 1000x600 with 1 Axes>"
      ]
     },
     "metadata": {},
     "output_type": "display_data"
    },
    {
     "name": "stdout",
     "output_type": "stream",
     "text": [
      "############################################################\n",
      "# 6. Análise de Fechamento por Perdas Acumuladas (Trigger Type 3)\n",
      "############################################################ \n",
      "\n",
      "Frequência de operações com perdas acumuladas: 469\n",
      "Lucro médio recuperado (2x perda): 117.29637526652479\n",
      "Tempo médio de recuperação (em candles): 15.656716417910447\n",
      "\n",
      "############################################################\n",
      "# 7. Análise de Eficiência do Cruzamento Reverso (Trigger Type 4)\n",
      "############################################################ \n",
      "\n",
      "Frequência de operações com cruzamento reverso: 546\n",
      "Lucro médio em cruzamentos reversos: -49.827838827839\n",
      "Tempo médio até cruzamento reverso (em candles): 158.0018315018315\n",
      "\n",
      "############################################################\n",
      "# 8. Análise de Drawdown e Recuperação\n",
      "############################################################ \n",
      "\n",
      "Maior drawdown subsequente: 2242.9999999999673 pips\n",
      "\n",
      "############################################################\n",
      "# 9. Análise de Drawdown por Tipo de Fechamento\n",
      "############################################################ \n",
      "\n",
      "Trigger Type 4:\n",
      "  Maior drawdown subsequente: 2230.999999999938 pips\n",
      "\n",
      "Trigger Type 3:\n",
      "  Maior drawdown subsequente: 1919.9999999999563 pips\n",
      "\n",
      "############################################################\n",
      "# 10. KPIs Principais\n",
      "############################################################ \n",
      "\n",
      "Taxa de sucesso: 49.75%\n",
      "Profit Factor: 1.50\n",
      "Maior sequência de ganhos consecutivos: 14\n",
      "Maior sequência de perdas consecutivas: 21\n",
      "\n",
      "############################################################\n",
      "# 11. Quantidade de Operações com Lucro e Perda\n",
      "############################################################ \n",
      "\n",
      "Total de Operações com Lucro: 505\n",
      "Total de Operações com Perda: 510\n",
      "\n",
      "Por Compra e Venda:\n",
      "Venda (-1):\n",
      "  Operações com Lucro: 254\n",
      "  Operações com Perda: 254\n",
      "\n",
      "Compra (1):\n",
      "  Operações com Lucro: 251\n",
      "  Operações com Perda: 256\n",
      "\n",
      "Por Tipo de Fechamento:\n",
      "Trigger Type 4:\n",
      "  Operações com Lucro: 36\n",
      "  Operações com Perda: 510\n",
      "\n",
      "Trigger Type 3:\n",
      "  Operações com Lucro: 469\n",
      "  Operações com Perda: 0\n",
      "\n",
      "############################################################\n",
      "# 12. Valor Total de Retorno (Result) por Tipo de Retorno\n",
      "############################################################ \n",
      "\n",
      "Valor total de retorno geral: 27806.000000000025 pips\n",
      "\n",
      "Valor total de retorno por Compra e Venda:\n",
      "Venda (-1): 5838.999999999551 pips\n",
      "\n",
      "Compra (1): 21967.00000000047 pips\n",
      "\n",
      "Valor total de retorno por Tipo de Fechamento:\n",
      "Trigger Type 4: -27206.000000000095 pips\n",
      "\n",
      "Trigger Type 3: 55012.000000000124 pips\n",
      "\n",
      "############################################################\n",
      "# 13. Retorno Positivo e Negativo por Tipo de Retorno\n",
      "############################################################ \n",
      "\n",
      "Retorno Positivo e Negativo por Compra e Venda:\n",
      "Venda (-1):\n",
      "  Retorno Positivo: 33227.99999999975 pips\n",
      "  Retorno Negativo: -27389.000000000204 pips\n",
      "\n",
      "Compra (1):\n",
      "  Retorno Positivo: 50253.0000000004 pips\n",
      "  Retorno Negativo: -28285.99999999993 pips\n",
      "\n",
      "Retorno Positivo e Negativo por Tipo de Fechamento:\n",
      "Trigger Type 4:\n",
      "  Retorno Positivo: 28469.000000000044 pips\n",
      "  Retorno Negativo: -55675.00000000013 pips\n",
      "\n",
      "Trigger Type 3:\n",
      "  Retorno Positivo: 55012.000000000124 pips\n",
      "  Retorno Negativo: 0.0 pips\n",
      "\n",
      "############################################################\n",
      "# 14. Gráficos e Visualizações\n",
      "############################################################ \n",
      "\n"
     ]
    },
    {
     "name": "stderr",
     "output_type": "stream",
     "text": [
      "/tmp/ipykernel_20554/4162239757.py:219: FutureWarning:\n",
      "\n",
      "\n",
      "\n",
      "Passing `palette` without assigning `hue` is deprecated and will be removed in v0.14.0. Assign the `x` variable to `hue` and set `legend=False` for the same effect.\n",
      "\n",
      "\n"
     ]
    },
    {
     "data": {
      "image/png": "[encoded data removed]",
      "text/plain": [
       "<Figure size 1000x600 with 1 Axes>"
      ]
     },
     "metadata": {},
     "output_type": "display_data"
    },
    {
     "data": {
      "text/plain": [
       "<Figure size 1000x600 with 0 Axes>"
      ]
     },
     "metadata": {},
     "output_type": "display_data"
    },
    {
     "data": {
      "image/png": "[encoded data removed]",
      "text/plain": [
       "<Figure size 640x480 with 1 Axes>"
      ]
     },
     "metadata": {},
     "output_type": "display_data"
    }
   ],
   "source": [
    "gerar_relatorio_completo(df_results)"
   ]
  },
  {
   "cell_type": "code",
   "execution_count": null,
   "id": "8d755c39-877b-47dd-8ea1-0c660150484c",
   "metadata": {},
   "outputs": [],
   "source": []
  },
  {
   "cell_type": "code",
   "execution_count": null,
   "id": "589445a8-064f-4bbb-a3c0-65ac4f03ea86",
   "metadata": {},
   "outputs": [],
   "source": []
  },
  {
   "cell_type": "code",
   "execution_count": null,
   "id": "73d8ca39-122c-42a0-bc80-7e8b2d50a2b2",
   "metadata": {},
   "outputs": [],
   "source": []
  },
  {
   "cell_type": "code",
   "execution_count": null,
   "id": "d2190584-6b31-4bbe-b1fc-f144d10eee03",
   "metadata": {},
   "outputs": [],
   "source": []
  },
  {
   "cell_type": "code",
   "execution_count": null,
   "id": "84d39f9f-c286-41f8-9fe3-da905588fb9b",
   "metadata": {},
   "outputs": [],
   "source": []
  },
  {
   "cell_type": "code",
   "execution_count": null,
   "id": "5a363411-2546-4604-bcd4-0044caac3425",
   "metadata": {},
   "outputs": [],
   "source": []
  },
  {
   "cell_type": "code",
   "execution_count": null,
   "id": "d4c1cce2-a468-4162-9580-4b4b1ed46cda",
   "metadata": {},
   "outputs": [],
   "source": []
  },
  {
   "cell_type": "code",
   "execution_count": null,
   "id": "c34ba8d4-01f5-4e27-b822-23c5c06e148b",
   "metadata": {},
   "outputs": [],
   "source": []
  }
 ],
 "metadata": {
  "kernelspec": {
   "display_name": "Python 3 (ipykernel)",
   "language": "python",
   "name": "python3"
  },
  "language_info": {
   "codemirror_mode": {
    "name": "ipython",
    "version": 3
   },
   "file_extension": ".py",
   "mimetype": "text/x-python",
   "name": "python",
   "nbconvert_exporter": "python",
   "pygments_lexer": "ipython3",
   "version": "3.12.6"
  }
 },
 "nbformat": 4,
 "nbformat_minor": 5
}
