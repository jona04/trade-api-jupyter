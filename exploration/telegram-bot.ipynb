{
 "cells": [
  {
   "cell_type": "code",
   "execution_count": 1,
   "id": "40bbbd57-fb30-45d3-9fa7-619c9f715399",
   "metadata": {},
   "outputs": [],
   "source": [
    "import telegram"
   ]
  },
  {
   "cell_type": "code",
   "execution_count": 13,
   "id": "1b135727-cc68-49c6-b131-678e20138427",
   "metadata": {},
   "outputs": [],
   "source": [
    "bot = telegram.Bot(token='7890593693:AAHTOAtCWnuLMT-fAF1qRw2ZW2yOTvrxF-Q')"
   ]
  },
  {
   "cell_type": "code",
   "execution_count": 17,
   "id": "b3476960-2459-46da-ada9-b5aeddfd3847",
   "metadata": {},
   "outputs": [
    {
     "data": {
      "text/plain": [
       "<coroutine object Bot.send_message at 0x7ff5393e1840>"
      ]
     },
     "execution_count": 17,
     "metadata": {},
     "output_type": "execute_result"
    }
   ],
   "source": [
    "bot.send_message(chat_id=1042078757, text='Hello, World!')"
   ]
  },
  {
   "cell_type": "code",
   "execution_count": null,
   "id": "425559ea-c86a-435d-88b3-aec8e4bf1d44",
   "metadata": {},
   "outputs": [],
   "source": []
  },
  {
   "cell_type": "code",
   "execution_count": 4,
   "id": "8e9e6537-d0ae-4d97-8078-dd2c5f8828f9",
   "metadata": {},
   "outputs": [
    {
     "name": "stdout",
     "output_type": "stream",
     "text": [
      "Chat ID: -4779341472  | Chat Title: GoEasyPairTrade | Message: /hello @GoEasyTradePairBot\n"
     ]
    }
   ],
   "source": [
    "import asyncio\n",
    "from telegram import Bot\n",
    "\n",
    "TELEGRAM_BOT_TOKEN = '7804293866:AAF_pzDYoSmfoji-LU7YgHWDsXgwmc2N4Zo'\n",
    "\n",
    "async def main():\n",
    "\n",
    "    #Create bot object\n",
    "    bot = Bot(token=TELEGRAM_BOT_TOKEN)\n",
    "\n",
    "    #Get updates\n",
    "    updates = await bot.get_updates()\n",
    "\n",
    "    if not updates:\n",
    "        print(\"No updates found\")\n",
    "    else:\n",
    "        for update in updates:\n",
    "            if update.message:\n",
    "\n",
    "                #Show all message data if needed\n",
    "                #print(update.message)\n",
    "\n",
    "                #Show only chat id, title and message\n",
    "                chat_id = update.message.chat.id\n",
    "                chat_title = update.message.chat.title\n",
    "                message_text = update.message.text\n",
    "                print(f\"Chat ID: {chat_id}  | Chat Title: {chat_title} | Message: {message_text}\")\n",
    "\n",
    "await main()"
   ]
  },
  {
   "cell_type": "code",
   "execution_count": null,
   "id": "0ef09644-eb7c-4fb9-bf96-9a84b047e11b",
   "metadata": {},
   "outputs": [],
   "source": []
  },
  {
   "cell_type": "code",
   "execution_count": 1,
   "id": "6d97ed0c-344c-41a9-bd83-e65976f8a7e1",
   "metadata": {},
   "outputs": [],
   "source": [
    "from telegram import Bot\n",
    "import asyncio\n",
    "\n",
    "TELEGRAM_BOT_TOKEN = '7890593693:AAHTOAtCWnuLMT-fAF1qRw2ZW2yOTvrxF-Q'\n",
    "CHAT_ID = '-4585946319'\n",
    "\n",
    "#Define bot\n",
    "bot = Bot(token=TELEGRAM_BOT_TOKEN)\n",
    "\n",
    "async def send_message(text, chat_id):\n",
    "    async with bot:\n",
    "        await bot.send_message(text=text, chat_id=chat_id)\n",
    "\n",
    "async def run_bot(messages, chat_id):\n",
    "    text = '\\n'.join(messages)\n",
    "    await send_message(text, chat_id)\n",
    "\n"
   ]
  },
  {
   "cell_type": "code",
   "execution_count": 2,
   "id": "55d3165c-cf16-4241-a771-b170700690cc",
   "metadata": {},
   "outputs": [],
   "source": [
    "#Test messages\n",
    "messages = ['Oi Test aqui. Compre agora', \"Novo teste legal\", \"New Message\"]\n",
    "\n"
   ]
  },
  {
   "cell_type": "code",
   "execution_count": 3,
   "id": "821834b4-6096-461f-9a5b-5f6d379e4557",
   "metadata": {},
   "outputs": [],
   "source": [
    "if messages:\n",
    "    await run_bot(messages, CHAT_ID)"
   ]
  },
  {
   "cell_type": "code",
   "execution_count": null,
   "id": "1ddfdb0e-7baf-4365-bd3d-571ea770be83",
   "metadata": {},
   "outputs": [],
   "source": []
  }
 ],
 "metadata": {
  "kernelspec": {
   "display_name": "Python 3 (ipykernel)",
   "language": "python",
   "name": "python3"
  },
  "language_info": {
   "codemirror_mode": {
    "name": "ipython",
    "version": 3
   },
   "file_extension": ".py",
   "mimetype": "text/x-python",
   "name": "python",
   "nbconvert_exporter": "python",
   "pygments_lexer": "ipython3",
   "version": "3.12.8"
  }
 },
 "nbformat": 4,
 "nbformat_minor": 5
}
