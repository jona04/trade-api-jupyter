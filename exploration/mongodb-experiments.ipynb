{
 "cells": [
  {
   "cell_type": "code",
   "execution_count": 2,
   "id": "31a249cc-59ac-4b8e-837d-609864e65ea1",
   "metadata": {},
   "outputs": [],
   "source": [
    "from pymongo import MongoClient\n",
    "\n",
    "# Conectar ao MongoDB local\n",
    "cliente = MongoClient('mongodb://localhost:27017/')\n",
    "\n",
    "# Selecionar o banco de dados\n",
    "banco_de_dados = cliente['test0']\n",
    "\n",
    "# Selecionar a coleção\n",
    "colecao_clientes = banco_de_dados['clientes']\n",
    "\n"
   ]
  },
  {
   "cell_type": "code",
   "execution_count": 3,
   "id": "6b027660-847d-4491-9f0a-5cc1fbb5e1f3",
   "metadata": {},
   "outputs": [],
   "source": [
    "# Função para criar um novo cliente\n",
    "def criar_cliente(nome, idade, email):\n",
    "    cliente = {\n",
    "        'nome': nome,\n",
    "        'idade': idade,\n",
    "        'email': email\n",
    "    }\n",
    "    resultado = colecao_clientes.insert_one(cliente)\n",
    "    print(f'Cliente criado com ID: {resultado.inserted_id}')\n",
    "\n",
    "# Função para ler clientes\n",
    "def ler_clientes():\n",
    "    clientes = colecao_clientes.find()\n",
    "    for cliente in clientes:\n",
    "        print(cliente)\n",
    "\n",
    "# Função para atualizar um cliente\n",
    "def atualizar_cliente(id_cliente, novos_dados):\n",
    "    resultado = colecao_clientes.update_one({'_id': id_cliente}, {'$set': novos_dados})\n",
    "    if resultado.matched_count > 0:\n",
    "        print(f'Cliente com ID {id_cliente} atualizado com sucesso.')\n",
    "    else:\n",
    "        print(f'Cliente com ID {id_cliente} não encontrado.')\n",
    "\n",
    "# Função para deletar um cliente\n",
    "def deletar_cliente(id_cliente):\n",
    "    resultado = colecao_clientes.delete_one({'_id': id_cliente})\n",
    "    if resultado.deleted_count > 0:\n",
    "        print(f'Cliente com ID {id_cliente} deletado com sucesso.')\n",
    "    else:\n",
    "        print(f'Cliente com ID {id_cliente} não encontrado.')\n",
    "\n"
   ]
  },
  {
   "cell_type": "code",
   "execution_count": 4,
   "id": "226ddeeb-3a22-4a3d-875d-ce67b2707593",
   "metadata": {},
   "outputs": [
    {
     "name": "stdout",
     "output_type": "stream",
     "text": [
      "Cliente criado com ID: 6707cc882c61010d0702dc9e\n",
      "Cliente criado com ID: 6707cc882c61010d0702dc9f\n",
      "\n",
      "Clientes na base de dados:\n",
      "{'_id': ObjectId('6707cc882c61010d0702dc9e'), 'nome': 'João', 'idade': 28, 'email': 'joao@example.com'}\n",
      "{'_id': ObjectId('6707cc882c61010d0702dc9f'), 'nome': 'Maria', 'idade': 34, 'email': 'maria@example.com'}\n"
     ]
    }
   ],
   "source": [
    "# Exemplos de uso\n",
    "def main():\n",
    "    # Criar clientes\n",
    "    criar_cliente('João', 28, 'joao@example.com')\n",
    "    criar_cliente('Maria', 34, 'maria@example.com')\n",
    "\n",
    "    # Ler clientes\n",
    "    print('\\nClientes na base de dados:')\n",
    "    ler_clientes()\n",
    "\n",
    "    \n",
    "\n",
    "if __name__ == '__main__':\n",
    "    main()"
   ]
  },
  {
   "cell_type": "code",
   "execution_count": 5,
   "id": "1b4da912-daa5-48c9-acb6-eeb9214427c0",
   "metadata": {},
   "outputs": [
    {
     "name": "stdout",
     "output_type": "stream",
     "text": [
      "Cliente com ID 6707cc882c61010d0702dc9e atualizado com sucesso.\n"
     ]
    }
   ],
   "source": [
    "# Atualizar cliente (substitua pelo ID apropriado após ver o resultado de \"ler_clientes()\")\n",
    "from bson.objectid import ObjectId  # Necessário para criar um ObjectId\n",
    "id_cliente = ObjectId('6707cc882c61010d0702dc9e')\n",
    "atualizar_cliente(id_cliente, {'idade': 29})\n",
    "\n"
   ]
  },
  {
   "cell_type": "code",
   "execution_count": 6,
   "id": "4f644737-6d1c-4d35-a7d5-2b9432daf4f1",
   "metadata": {},
   "outputs": [
    {
     "name": "stdout",
     "output_type": "stream",
     "text": [
      "Cliente com ID 6707cc882c61010d0702dc9e deletado com sucesso.\n"
     ]
    }
   ],
   "source": [
    "# Deletar cliente (substitua pelo ID apropriado após ver o resultado de \"ler_clientes()\")\n",
    "deletar_cliente(id_cliente)"
   ]
  },
  {
   "cell_type": "code",
   "execution_count": null,
   "id": "315831a2-1521-4495-86e4-3edf403075c6",
   "metadata": {},
   "outputs": [],
   "source": []
  }
 ],
 "metadata": {
  "kernelspec": {
   "display_name": "Python 3 (ipykernel)",
   "language": "python",
   "name": "python3"
  },
  "language_info": {
   "codemirror_mode": {
    "name": "ipython",
    "version": 3
   },
   "file_extension": ".py",
   "mimetype": "text/x-python",
   "name": "python",
   "nbconvert_exporter": "python",
   "pygments_lexer": "ipython3",
   "version": "3.12.6"
  }
 },
 "nbformat": 4,
 "nbformat_minor": 5
}
