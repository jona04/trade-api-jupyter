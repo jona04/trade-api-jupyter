{
 "cells": [
  {
   "cell_type": "code",
   "execution_count": 1,
   "id": "b814c827-70b4-43bc-ad41-2337c4d110d3",
   "metadata": {},
   "outputs": [
    {
     "data": {
      "text/plain": [
       "True"
      ]
     },
     "execution_count": 1,
     "metadata": {},
     "output_type": "execute_result"
    }
   ],
   "source": [
    "import os\n",
    "from dotenv import load_dotenv \n",
    "load_dotenv(\"../../constants/.env\")"
   ]
  },
  {
   "cell_type": "code",
   "execution_count": 2,
   "id": "23a9148c-cd84-420b-a178-5d5eee3c04be",
   "metadata": {},
   "outputs": [],
   "source": [
    "api_key = os.environ.get('BINANCE_KEY')\n",
    "secret_key = os.environ.get('BINANCE_SECRET')"
   ]
  },
  {
   "cell_type": "code",
   "execution_count": 3,
   "id": "1d48bf3c-9521-4c37-aa8e-3e232a5eb8e3",
   "metadata": {},
   "outputs": [],
   "source": [
    "import matplotlib.pyplot as plt\n",
    "import pandas as pd\n",
    "from datetime import datetime\n",
    "from pymongo import MongoClient\n",
    "\n",
    "# Configuração do MongoDB\n",
    "client = MongoClient(\"mongodb://localhost:27017/\")  # Substitua pela URI do seu banco de dados\n",
    "db = client['trader_data']  # Nome do banco de dados\n",
    "collection = db['opened_orders']  # Nome da coleção\n"
   ]
  },
  {
   "cell_type": "code",
   "execution_count": 4,
   "id": "2e60178c-af20-4662-b002-c0270ba87756",
   "metadata": {},
   "outputs": [],
   "source": [
    "import time\n",
    "from binance.client import Client\n",
    "from binance.enums import *\n",
    "\n",
    "# Configurações da API\n",
    "API_KEY = api_key\n",
    "API_SECRET = secret_key\n",
    "client = Client(API_KEY, API_SECRET)\n"
   ]
  },
  {
   "cell_type": "code",
   "execution_count": 5,
   "id": "2a378181-e4ab-416d-b9fa-ec7b88c5ccda",
   "metadata": {},
   "outputs": [
    {
     "data": {
      "text/plain": [
       "{'symbol': 'VIDTUSDT', 'leverage': 10, 'maxNotionalValue': '800000'}"
      ]
     },
     "execution_count": 5,
     "metadata": {},
     "output_type": "execute_result"
    }
   ],
   "source": [
    "\n",
    "# Parâmetros da estratégia\n",
    "symbol = \"VIDTUSDT\"  # Ativo no mercado futuro\n",
    "grid = 0.01  # Grid de 1% para abrir novas ordens\n",
    "tp = 0.025  # Take Profit de 1%\n",
    "sl = 0.004  # Stop Loss de 0.15%\n",
    "leverage = 10  # Alavancagem no mercado futuro\n",
    "amount_in_usd = 100  # Valor em USDT para cada ordem\n",
    "\n",
    "# Configurar margem isolada, alavancagem e habilitar Hedge Mode na Binance\n",
    "# client.futures_change_margin_type(symbol=symbol, marginType=\"ISOLATED\")\n",
    "client.futures_change_leverage(symbol=symbol, leverage=leverage)\n",
    "# client.futures_change_position_mode(dualSidePosition=True)  # Habilita Hedge Mode\n"
   ]
  },
  {
   "cell_type": "code",
   "execution_count": null,
   "id": "6f15e433-5bc0-43a1-92e2-cf849b8a2a09",
   "metadata": {},
   "outputs": [],
   "source": []
  },
  {
   "cell_type": "code",
   "execution_count": 6,
   "id": "4c544c29-4b85-4ee2-903d-f35cc19ad91a",
   "metadata": {},
   "outputs": [],
   "source": [
    "\n",
    "# Funções auxiliares\n",
    "def adjust_to_tick_size(price, tick_size):\n",
    "    \"\"\"Ajusta o preço para ser múltiplo do tick size.\"\"\"\n",
    "    return round(price // tick_size * tick_size, len(str(tick_size).split('.')[-1]))\n",
    "\n",
    "def get_symbol_info(symbol):\n",
    "    \"\"\"Obtém informações do símbolo, incluindo tick size.\"\"\"\n",
    "    info = client.futures_exchange_info()\n",
    "    for s in info['symbols']:\n",
    "        if s['symbol'] == symbol:\n",
    "            for f in s['filters']:\n",
    "                if f['filterType'] == 'PRICE_FILTER':\n",
    "                    return float(f['tickSize'])\n",
    "    raise ValueError(f\"Informações do símbolo {symbol} não encontradas.\")\n",
    "\n",
    "def get_price():\n",
    "    \"\"\"Obtém o preço atual do ativo no mercado futuro.\"\"\"\n",
    "    ticker = client.futures_symbol_ticker(symbol=symbol)\n",
    "    return float(ticker[\"price\"])\n",
    "\n",
    "def get_quantity(price, amount_in_usd):\n",
    "    \"\"\"Calcula a quantidade de contratos com base no valor em USD.\"\"\"\n",
    "    return round(amount_in_usd / price, 0)  # Binance aceita até 6 casas decimais para quantidade\n",
    "\n",
    "def get_level(price, grid_base):\n",
    "    \"\"\"Calcula o nível discreto baseado no grid.\"\"\"\n",
    "    return int(price // grid_base)\n",
    "\n",
    "def open_position(side, price, level, last_level):\n",
    "    \"\"\"\n",
    "    Abre uma posição no mercado futuro com SL e TP configurados.\n",
    "    \n",
    "    Parâmetros:\n",
    "        side (str): 'BUY' para long ou 'SELL' para short.\n",
    "        price (float): Preço no momento da abertura.\n",
    "    \"\"\"\n",
    "    tick_size = get_symbol_info(symbol)  # Obter o tick size do ativo\n",
    "    quantity = get_quantity(price, amount_in_usd)\n",
    "    \n",
    "    if side == \"BUY\":\n",
    "        tp_price = adjust_to_tick_size(price * (1 + tp), tick_size)\n",
    "        sl_price = adjust_to_tick_size(price * (1 - sl), tick_size)\n",
    "        position_side = \"LONG\"\n",
    "    elif side == \"SELL\":\n",
    "        tp_price = adjust_to_tick_size(price * (1 - tp), tick_size)\n",
    "        sl_price = adjust_to_tick_size(price * (1 + sl), tick_size)\n",
    "        position_side = \"SHORT\"\n",
    "    \n",
    "    # Abrir posição de mercado\n",
    "    order = client.futures_create_order(\n",
    "        symbol=symbol,\n",
    "        side=side,\n",
    "        type=ORDER_TYPE_MARKET,\n",
    "        quantity=quantity,\n",
    "        positionSide=position_side  # Especificar posição para o modo Hedge\n",
    "    )\n",
    "    \n",
    "    # Configurar SL como uma ordem STOP_MARKET\n",
    "    if (side == \"BUY\" and sl_price < price) or (side == \"SELL\" and sl_price > price):\n",
    "        client.futures_create_order(\n",
    "            symbol=symbol,\n",
    "            side=\"SELL\" if side == \"BUY\" else \"BUY\",\n",
    "            type=\"STOP_MARKET\",\n",
    "            quantity=quantity,\n",
    "            stopPrice=sl_price,\n",
    "            positionSide=position_side  # Garantir que o SL seja compatível com a posição\n",
    "        )\n",
    "    else:\n",
    "        print(f\"SL inválido: SL {sl_price} já atingido ou muito próximo do preço atual {price}\")\n",
    "    \n",
    "    # Configurar TP como uma ordem LIMIT\n",
    "    if (side == \"BUY\" and tp_price > price) or (side == \"SELL\" and tp_price < price):\n",
    "        client.futures_create_order(\n",
    "            symbol=symbol,\n",
    "            side=\"SELL\" if side == \"BUY\" else \"BUY\",\n",
    "            type=ORDER_TYPE_LIMIT,\n",
    "            quantity=quantity,\n",
    "            price=tp_price,\n",
    "            timeInForce=TIME_IN_FORCE_GTC,\n",
    "            positionSide=position_side  # Garantir que o TP seja compatível com a posição\n",
    "        )\n",
    "    else:\n",
    "        print(f\"TP inválido: TP {tp_price} já atingido ou muito próximo do preço atual {price}\")\n",
    "    \n",
    "    print(f\"Posição {side} aberta em {price} com TP: {tp_price} e SL: {sl_price}\")\n",
    "\n",
    "    df_wallet = pd.DataFrame(client.futures_account()[\"assets\"])\n",
    "    walletBalance = df_wallet[df_wallet['asset'] == 'USDT']['walletBalance'].values[0]\n",
    "\n",
    "    data = {\n",
    "        \"side\":side,\n",
    "        \"price\":price,\n",
    "        \"tp_price\":tp_price,\n",
    "        \"sl_price\":sl_price,\n",
    "        \"level\": level,\n",
    "        \"last_level\": last_level,\n",
    "        \"walletBalance\":walletBalance,\n",
    "        \"tp\":tp,\n",
    "        \"sl\": sl,\n",
    "        \"grid\":grid,\n",
    "        \"symbol\":symbol,\n",
    "        \"leverage\":leverage,\n",
    "        \"amount_in_usd\": amount_in_usd\n",
    "    }\n",
    "        \n",
    "    collection.insert_one(data)\n"
   ]
  },
  {
   "cell_type": "code",
   "execution_count": 7,
   "id": "a886bc76-a7d8-4e87-8dfa-3fcdfb0eed5c",
   "metadata": {},
   "outputs": [],
   "source": [
    "# price = get_price()\n",
    "# print(price)\n",
    "# get_quantity(price, amount_in_usd)"
   ]
  },
  {
   "cell_type": "code",
   "execution_count": 8,
   "id": "b7f2ebef-e26c-4e12-b259-3500c0637a2c",
   "metadata": {},
   "outputs": [
    {
     "name": "stdout",
     "output_type": "stream",
     "text": [
      "Posição BUY aberta em 0.03044 com TP: 0.0312 e SL: 0.03031\n",
      "Posição SELL aberta em 0.03044 com TP: 0.02967 e SL: 0.03056\n",
      "Posição BUY aberta em 0.03043 com TP: 0.03119 e SL: 0.0303\n",
      "Posição SELL aberta em 0.03043 com TP: 0.02966 e SL: 0.03055\n",
      "Posição BUY aberta em 0.0308 com TP: 0.03156 e SL: 0.03067\n",
      "Posição SELL aberta em 0.0308 com TP: 0.03002 e SL: 0.03092\n",
      "Posição BUY aberta em 0.03174 com TP: 0.03253 e SL: 0.03161\n",
      "Posição SELL aberta em 0.03174 com TP: 0.03094 e SL: 0.03186\n",
      "Posição BUY aberta em 0.03227 com TP: 0.03307 e SL: 0.03214\n",
      "Posição SELL aberta em 0.03227 com TP: 0.03146 e SL: 0.03239\n"
     ]
    },
    {
     "ename": "KeyboardInterrupt",
     "evalue": "",
     "output_type": "error",
     "traceback": [
      "\u001b[0;31m---------------------------------------------------------------------------\u001b[0m",
      "\u001b[0;31mKeyboardInterrupt\u001b[0m                         Traceback (most recent call last)",
      "Cell \u001b[0;32mIn[8], line 22\u001b[0m\n\u001b[1;32m     19\u001b[0m             last_level \u001b[38;5;241m=\u001b[39m level \n\u001b[1;32m     21\u001b[0m     \u001b[38;5;66;03m# Aguarda antes de verificar novamente\u001b[39;00m\n\u001b[0;32m---> 22\u001b[0m     \u001b[43mtime\u001b[49m\u001b[38;5;241;43m.\u001b[39;49m\u001b[43msleep\u001b[49m\u001b[43m(\u001b[49m\u001b[38;5;241;43m2\u001b[39;49m\u001b[43m)\u001b[49m  \u001b[38;5;66;03m# 2 segundos entre verificações\u001b[39;00m\n\u001b[1;32m     23\u001b[0m \u001b[38;5;28;01mexcept\u001b[39;00m \u001b[38;5;167;01mException\u001b[39;00m \u001b[38;5;28;01mas\u001b[39;00m e:\n\u001b[1;32m     24\u001b[0m     \u001b[38;5;28mprint\u001b[39m(\u001b[38;5;124mf\u001b[39m\u001b[38;5;124m\"\u001b[39m\u001b[38;5;124mErro: \u001b[39m\u001b[38;5;132;01m{\u001b[39;00me\u001b[38;5;132;01m}\u001b[39;00m\u001b[38;5;124m\"\u001b[39m)\n",
      "\u001b[0;31mKeyboardInterrupt\u001b[0m: "
     ]
    }
   ],
   "source": [
    "# Fluxo principal\n",
    "initial_price = get_price()  # Obter preço inicial\n",
    "grid_base = initial_price * grid  # Base do grid em termos absolutos\n",
    "last_level = 0\n",
    "\"\"\"Executa o algoritmo de grid trading.\"\"\"\n",
    "while True:\n",
    "    try:\n",
    "        \n",
    "        price = get_price()\n",
    "        level = get_level(price, grid_base)\n",
    "        \n",
    "        # Verifica se é necessário abrir uma posição long\n",
    "        if level != last_level:\n",
    "            df_opened_orders = pd.DataFrame(client.futures_get_open_orders())\n",
    "            if len(df_opened_orders) == 0:  \n",
    "                open_position(\"BUY\", price, level, last_level)\n",
    "                open_position(\"SELL\", price, level, last_level)\n",
    "\n",
    "                last_level = level \n",
    "            \n",
    "        # Aguarda antes de verificar novamente\n",
    "        time.sleep(2)  # 2 segundos entre verificações\n",
    "    except Exception as e:\n",
    "        print(f\"Erro: {e}\")\n",
    "        time.sleep(2)  # Em caso de erro, aguardar antes de tentar novamente\n",
    "\n",
    "\n"
   ]
  },
  {
   "cell_type": "code",
   "execution_count": null,
   "id": "8a8149fb-1939-48a8-89bd-095acedc7961",
   "metadata": {},
   "outputs": [],
   "source": [
    "# Posição BUY aberta em 0.03018 com TP: 0.03048 e SL: 0.03002\n",
    "# Posição SELL aberta em 0.03018 com TP: 0.02987 e SL: 0.03033\n",
    "# Posição BUY aberta em 0.02986 com TP: 0.03015 e SL: 0.02971\n",
    "# Posição SELL aberta em 0.02986 com TP: 0.02956 e SL: 0.03\n",
    "# Posição BUY aberta em 0.03034 com TP: 0.03064 e SL: 0.03018\n",
    "# Posição SELL aberta em 0.03034 com TP: 0.03003 e SL: 0.03049\n",
    "# Posição BUY aberta em 0.03079 com TP: 0.03109 e SL: 0.03063\n",
    "# Posição SELL aberta em 0.03079 com TP: 0.03048 e SL: 0.03094\n",
    "# Posição BUY aberta em 0.03124 com TP: 0.03155 e SL: 0.03108\n",
    "# Posição SELL aberta em 0.03124 com TP: 0.03092 e SL: 0.03139\n",
    "# Posição BUY aberta em 0.0317 com TP: 0.03201 e SL: 0.03154\n",
    "# Posição SELL aberta em 0.0317 com TP: 0.03138 e SL: 0.03185\n",
    "# Posição BUY aberta em 0.03215 com TP: 0.03247 e SL: 0.03198\n",
    "# Posição SELL aberta em 0.03215 com TP: 0.03182 e SL: 0.03231"
   ]
  },
  {
   "cell_type": "code",
   "execution_count": 21,
   "id": "060297b4-6708-4ae4-a74f-ce3094d841d7",
   "metadata": {},
   "outputs": [],
   "source": [
    "def get_level(price, grid_base):\n",
    "    \"\"\"Calcula o nível discreto baseado no grid.\"\"\"\n",
    "    return int(price // grid_base)"
   ]
  },
  {
   "cell_type": "code",
   "execution_count": 49,
   "id": "d07b73be-814a-4f6c-8b1c-2f761fd5bed8",
   "metadata": {},
   "outputs": [
    {
     "data": {
      "text/plain": [
       "66"
      ]
     },
     "execution_count": 49,
     "metadata": {},
     "output_type": "execute_result"
    }
   ],
   "source": [
    "price = 0.02977\n",
    "grid_base = price * grid  # Base do grid em termos absolutos\n",
    "get_level(price, grid_base)"
   ]
  },
  {
   "cell_type": "code",
   "execution_count": 54,
   "id": "c62db250-d630-427a-bb15-9135d801c78b",
   "metadata": {},
   "outputs": [
    {
     "data": {
      "text/plain": [
       "65"
      ]
     },
     "execution_count": 54,
     "metadata": {},
     "output_type": "execute_result"
    }
   ],
   "source": [
    "price = 0.0294\n",
    "get_level(price, grid_base)"
   ]
  },
  {
   "cell_type": "code",
   "execution_count": 55,
   "id": "9d32eca7-d07b-4cbf-8a43-a91f7f345bc4",
   "metadata": {},
   "outputs": [
    {
     "data": {
      "text/plain": [
       "67"
      ]
     },
     "execution_count": 55,
     "metadata": {},
     "output_type": "execute_result"
    }
   ],
   "source": [
    "long_level"
   ]
  },
  {
   "cell_type": "code",
   "execution_count": 56,
   "id": "034dfaed-1cfd-4496-a93e-33db36293dcf",
   "metadata": {},
   "outputs": [
    {
     "data": {
      "text/plain": [
       "67"
      ]
     },
     "execution_count": 56,
     "metadata": {},
     "output_type": "execute_result"
    }
   ],
   "source": [
    "short_level"
   ]
  },
  {
   "cell_type": "code",
   "execution_count": 57,
   "id": "6eadcacf-cb93-424a-8eb4-a77ead365ec7",
   "metadata": {},
   "outputs": [
    {
     "data": {
      "text/plain": [
       "0.012428619415519055"
      ]
     },
     "execution_count": 57,
     "metadata": {},
     "output_type": "execute_result"
    }
   ],
   "source": [
    "(0.02977-0.0294)/0.02977"
   ]
  },
  {
   "cell_type": "code",
   "execution_count": null,
   "id": "53a83106-3ea9-4bf4-8b70-a6892d5d4418",
   "metadata": {},
   "outputs": [],
   "source": []
  }
 ],
 "metadata": {
  "kernelspec": {
   "display_name": "Python 3 (ipykernel)",
   "language": "python",
   "name": "python3"
  },
  "language_info": {
   "codemirror_mode": {
    "name": "ipython",
    "version": 3
   },
   "file_extension": ".py",
   "mimetype": "text/x-python",
   "name": "python",
   "nbconvert_exporter": "python",
   "pygments_lexer": "ipython3",
   "version": "3.12.7"
  }
 },
 "nbformat": 4,
 "nbformat_minor": 5
}
