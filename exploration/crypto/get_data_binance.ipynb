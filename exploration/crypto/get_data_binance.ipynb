{
 "cells": [
  {
   "cell_type": "code",
   "execution_count": 1,
   "id": "5d8a261d-e952-4db0-b2a1-65920f101eb2",
   "metadata": {},
   "outputs": [
    {
     "data": {
      "text/plain": [
       "True"
      ]
     },
     "execution_count": 1,
     "metadata": {},
     "output_type": "execute_result"
    }
   ],
   "source": [
    "import pandas as pd\n",
    "from dateutil import parser\n",
    "from datetime import datetime as dt\n",
    "import datetime\n",
    "import time \n",
    "\n",
    "from binance.client import Client\n",
    "import os\n",
    "from dotenv import load_dotenv\n",
    "load_dotenv(\"../../constants/.env\")"
   ]
  },
  {
   "cell_type": "code",
   "execution_count": null,
   "id": "1f38ed59-0df6-4948-adfb-47ac637a9f86",
   "metadata": {},
   "outputs": [],
   "source": []
  },
  {
   "cell_type": "code",
   "execution_count": 2,
   "id": "2f2cba6f-c8e5-4439-9e54-c881bdf1c4ab",
   "metadata": {},
   "outputs": [],
   "source": [
    "api_key = os.environ.get('BINANCE_KEY')\n",
    "secret_key = os.environ.get('BINANCE_SECRET')"
   ]
  },
  {
   "cell_type": "code",
   "execution_count": 3,
   "id": "76ee8d7d-3ee1-497b-a86f-4b64d43657e8",
   "metadata": {},
   "outputs": [],
   "source": [
    "client = Client(api_key = api_key, api_secret = secret_key, tld = \"com\")"
   ]
  },
  {
   "cell_type": "markdown",
   "id": "86e1047c-da0b-4ec4-8750-76f43026d82f",
   "metadata": {},
   "source": [
    "valid intervals - 1m, 3m, 5m, 15m, 30m, 1h, 2h, 4h, 6h, 8h, 12h, 1d, 3d, 1w, 1M"
   ]
  },
  {
   "cell_type": "code",
   "execution_count": 10,
   "id": "aa5edbdd-3eb1-4638-a751-737e70e8c06e",
   "metadata": {},
   "outputs": [],
   "source": [
    "CANDLE_COUNT = 5000\n",
    "THROTTLE_TIME = 0.1\n",
    "SLEEP = 0.1\n",
    "INCREMENTS = {\n",
    "    'M1': 1 * CANDLE_COUNT,\n",
    "    '1m': 1 * CANDLE_COUNT,\n",
    "    '15m': 15 * CANDLE_COUNT,\n",
    "    '1h': 60 * CANDLE_COUNT,\n",
    "    '5m' : 5 * CANDLE_COUNT,\n",
    "    'H1' : 60 * CANDLE_COUNT,\n",
    "    'H4' : 240 * CANDLE_COUNT,\n",
    "    'D1' : 1440 * CANDLE_COUNT\n",
    "}"
   ]
  },
  {
   "cell_type": "code",
   "execution_count": 11,
   "id": "3f41569c-9dde-43d0-8af1-f1c347e09092",
   "metadata": {},
   "outputs": [],
   "source": [
    "last_req_time = dt.now()\n",
    "def throttle():\n",
    "    global last_req_time\n",
    "    el_s = (dt.now() - last_req_time).total_seconds()\n",
    "    if el_s < THROTTLE_TIME:\n",
    "        time.sleep(THROTTLE_TIME - el_s)\n",
    "    last_req_time = dt.now()"
   ]
  },
  {
   "cell_type": "code",
   "execution_count": 12,
   "id": "8a800601-6ddf-4fe4-bc57-98cfeab53f8f",
   "metadata": {},
   "outputs": [],
   "source": [
    "def get_history(symbol, interval, start, end, api):\n",
    "\n",
    "    throttle()\n",
    "    \n",
    "    bars = api.get_historical_klines(symbol = symbol, interval = interval,\n",
    "                                        start_str = start, end_str = end, limit = 1000)\n",
    "    df = pd.DataFrame(bars)\n",
    "    df[\"Date\"] = pd.to_datetime(df.iloc[:,0], unit = \"ms\")\n",
    "    df.columns = [\"Open Time\", \"Open\", \"High\", \"Low\", \"Close\", \"Volume\",\n",
    "                  \"Clos Time\", \"Quote Asset Volume\", \"Number of Trades\",\n",
    "                  \"Taker Buy Base Asset Volume\", \"Taker Buy Quote Asset Volume\", \"Ignore\", \"Time\"]\n",
    "    df = df[[\"Time\", \"Open\", \"High\", \"Low\", \"Close\", \"Volume\"]].copy()\n",
    "    # df.set_index(\"Time\", inplace = True)\n",
    "    # print(df[\"Time\"])\n",
    "    for column in [\"Open\", \"High\", \"Low\", \"Close\", \"Volume\"]:\n",
    "        df[column] = pd.to_numeric(df[column], errors = \"coerce\")\n",
    "    \n",
    "    return df"
   ]
  },
  {
   "cell_type": "code",
   "execution_count": 13,
   "id": "6d96c663-a6d6-42e2-b1e5-4a497b798a43",
   "metadata": {},
   "outputs": [],
   "source": [
    "def save_file(final_df: pd.DataFrame, file_prefix, granularity, pair):\n",
    "    filename = f\"{file_prefix}{pair}_{granularity}.pkl\"\n",
    "\n",
    "    final_df.drop_duplicates(subset=['Time'], inplace=True)\n",
    "    final_df.sort_values(by='Time', inplace=True)\n",
    "    final_df.reset_index(inplace=True, drop=True)\n",
    "    final_df.to_pickle(filename)\n",
    "\n",
    "    print(f\"**** {pair} {granularity}, {final_df.Time.min()} {final_df.Time.max()} --> {final_df.shape}\")\n",
    "\n",
    "\n",
    "def fetch_candles(pair, granularity, date_f: str, date_t: str, api: Client):\n",
    "    \n",
    "    attempts = 0\n",
    "\n",
    "    while attempts < 3:\n",
    "        \n",
    "        candles_df = get_history(\n",
    "            symbol=pair,\n",
    "            interval=granularity,\n",
    "            start=date_f,\n",
    "            end=date_t,\n",
    "            api=api\n",
    "        )\n",
    "\n",
    "        if candles_df is not None:\n",
    "            break\n",
    "\n",
    "        attempts += 1\n",
    "\n",
    "    if candles_df is not None and candles_df.empty == False:\n",
    "        return candles_df\n",
    "    else:\n",
    "        return None"
   ]
  },
  {
   "cell_type": "code",
   "execution_count": 14,
   "id": "846fbfb8-a342-4c51-814b-ea12ef05ab5f",
   "metadata": {},
   "outputs": [],
   "source": [
    "def collect_data(pair, granularity, date_f, date_t, file_prefix, api: Client):\n",
    "    \n",
    "    time_step = INCREMENTS[granularity]\n",
    "\n",
    "    from_date = parser.parse(date_f)\n",
    "    end_date = parser.parse(date_t)\n",
    "    \n",
    "    candle_dfs = []\n",
    "\n",
    "    to_date = from_date\n",
    "    while to_date < end_date:\n",
    "\n",
    "        to_date = from_date + datetime.timedelta(minutes=time_step)\n",
    "        if to_date > end_date:\n",
    "            to_date = end_date\n",
    "\n",
    "        to_date_str = to_date.strftime(\"%Y-%m-%d %H:%M:%S\")\n",
    "        from_date_str = from_date.strftime(\"%Y-%m-%d %H:%M:%S\")\n",
    "        candles = fetch_candles(\n",
    "            pair,\n",
    "            granularity,\n",
    "            from_date_str,\n",
    "            to_date_str,\n",
    "            api\n",
    "        )\n",
    "        if candles is not None and candles.empty == False:\n",
    "            print(f\"{pair} {granularity}, {from_date} {to_date_str}  | {candles.Time.min()} {candles.Time.max()} --> {candles.shape[0]} candles\")\n",
    "            candle_dfs.append(candles)\n",
    "            if candles.Time.max() > to_date:\n",
    "                from_date = candles.Time.max()\n",
    "            else:\n",
    "                from_date = to_date\n",
    "\n",
    "        else:\n",
    "            print(f\"{pair} {granularity}, {from_date} {to_date} --> NO CANDLES\")\n",
    "            from_date = to_date\n",
    "\n",
    "    time.sleep(SLEEP)\n",
    "\n",
    "    if len(candle_dfs) > 0:\n",
    "        final_df = pd.concat(candle_dfs)\n",
    "        save_file(final_df, file_prefix, granularity, pair)\n",
    "    else:\n",
    "        print(f\"{pair} {granularity}, {from_date} {to_date} --> NO DATA SAVED\")\n",
    "\n"
   ]
  },
  {
   "cell_type": "code",
   "execution_count": 17,
   "id": "6b0867de-8acd-42e7-8741-45b8419685ea",
   "metadata": {
    "scrolled": true
   },
   "outputs": [
    {
     "name": "stdout",
     "output_type": "stream",
     "text": [
      "ETHUSDT\n",
      "ETHUSDT 1h, 2020-01-01 00:00:00 2020-07-27 08:00:00  | 2020-01-01 00:00:00 2020-07-27 08:00:00 --> 4989 candles\n",
      "ETHUSDT 1h, 2020-07-27 08:00:00 2021-02-20 16:00:00  | 2020-07-27 08:00:00 2021-02-20 16:00:00 --> 4994 candles\n",
      "ETHUSDT 1h, 2021-02-20 16:00:00 2021-09-17 00:00:00  | 2021-02-20 16:00:00 2021-09-17 00:00:00 --> 4991 candles\n",
      "ETHUSDT 1h, 2021-09-17 00:00:00 2022-04-13 08:00:00  | 2021-09-17 00:00:00 2022-04-13 08:00:00 --> 4999 candles\n",
      "ETHUSDT 1h, 2022-04-13 08:00:00 2022-11-07 16:00:00  | 2022-04-13 08:00:00 2022-11-07 15:00:00 --> 5000 candles\n",
      "ETHUSDT 1h, 2022-11-07 16:00:00 2023-06-04 00:00:00  | 2022-11-07 16:00:00 2023-06-04 00:00:00 --> 5000 candles\n",
      "ETHUSDT 1h, 2023-06-04 00:00:00 2023-12-29 08:00:00  | 2023-06-04 00:00:00 2023-12-29 07:00:00 --> 5000 candles\n",
      "ETHUSDT 1h, 2023-12-29 08:00:00 2024-07-24 16:00:00  | 2023-12-29 08:00:00 2024-07-24 15:00:00 --> 5000 candles\n",
      "ETHUSDT 1h, 2024-07-24 16:00:00 2024-11-01 00:00:00  | 2024-07-24 16:00:00 2024-11-01 00:00:00 --> 2385 candles\n",
      "**** ETHUSDT 1h, 2020-01-01 00:00:00 2024-11-01 00:00:00 --> (42353, 6)\n",
      "BNBUSDT\n",
      "BNBUSDT 1h, 2020-01-01 00:00:00 2020-07-27 08:00:00  | 2020-01-01 00:00:00 2020-07-27 08:00:00 --> 4989 candles\n",
      "BNBUSDT 1h, 2020-07-27 08:00:00 2021-02-20 16:00:00  | 2020-07-27 08:00:00 2021-02-20 16:00:00 --> 4994 candles\n",
      "BNBUSDT 1h, 2021-02-20 16:00:00 2021-09-17 00:00:00  | 2021-02-20 16:00:00 2021-09-17 00:00:00 --> 4991 candles\n",
      "BNBUSDT 1h, 2021-09-17 00:00:00 2022-04-13 08:00:00  | 2021-09-17 00:00:00 2022-04-13 08:00:00 --> 4999 candles\n",
      "BNBUSDT 1h, 2022-04-13 08:00:00 2022-11-07 16:00:00  | 2022-04-13 08:00:00 2022-11-07 15:00:00 --> 5000 candles\n",
      "BNBUSDT 1h, 2022-11-07 16:00:00 2023-06-04 00:00:00  | 2022-11-07 16:00:00 2023-06-04 00:00:00 --> 5000 candles\n",
      "BNBUSDT 1h, 2023-06-04 00:00:00 2023-12-29 08:00:00  | 2023-06-04 00:00:00 2023-12-29 07:00:00 --> 5000 candles\n",
      "BNBUSDT 1h, 2023-12-29 08:00:00 2024-07-24 16:00:00  | 2023-12-29 08:00:00 2024-07-24 15:00:00 --> 5000 candles\n",
      "BNBUSDT 1h, 2024-07-24 16:00:00 2024-11-01 00:00:00  | 2024-07-24 16:00:00 2024-11-01 00:00:00 --> 2385 candles\n",
      "**** BNBUSDT 1h, 2020-01-01 00:00:00 2024-11-01 00:00:00 --> (42353, 6)\n"
     ]
    }
   ],
   "source": [
    "# pairs = ['DOTUSDT','DOGEUSDT','ADAUSDT','XRPUSDT','TRXUSDT','XLMUSDT','APTUSDT','VIDTUSDT','BTCUSDT',\n",
    "#          'ETHUSDT','AVAXUSDT','BNBUSDT','LTCUSDT','LINKUSDT',\n",
    "#          'BCHUSDT','EOSUSDT','ETCUSDT','DASHUSDT','ALGOUSDT','SANDUSDT',\n",
    "#          'ARUSDT', 'INJUSDT', 'MASKUSDT', 'CELOUSDT', 'BANDUSDT', 'ALPHAUSDT', 'PERPUSDT',\n",
    "#          'ACHUSDT', 'CHRUSDT', 'BELUSDT']\n",
    "\n",
    "pairs = ['DOGEUSDT','XRPUSDT','ETHUSDT','BNBUSDT']\n",
    "\n",
    "for p in pairs:\n",
    "    print(str(p))\n",
    "    collect_data(\n",
    "        p,\n",
    "        '1h',\n",
    "        \"2020-01-01 00:00:00\",\n",
    "        \"2024-11-01 00:00:00\",\n",
    "        \"./\",\n",
    "        client\n",
    "    )"
   ]
  },
  {
   "cell_type": "code",
   "execution_count": null,
   "id": "13bf2652-ac8f-493e-9683-5c15de3c9536",
   "metadata": {},
   "outputs": [],
   "source": []
  },
  {
   "cell_type": "code",
   "execution_count": null,
   "id": "65bd0388-8acb-4f54-96bd-404444fe12df",
   "metadata": {},
   "outputs": [],
   "source": []
  }
 ],
 "metadata": {
  "kernelspec": {
   "display_name": "Python 3 (ipykernel)",
   "language": "python",
   "name": "python3"
  },
  "language_info": {
   "codemirror_mode": {
    "name": "ipython",
    "version": 3
   },
   "file_extension": ".py",
   "mimetype": "text/x-python",
   "name": "python",
   "nbconvert_exporter": "python",
   "pygments_lexer": "ipython3",
   "version": "3.12.8"
  }
 },
 "nbformat": 4,
 "nbformat_minor": 5
}
