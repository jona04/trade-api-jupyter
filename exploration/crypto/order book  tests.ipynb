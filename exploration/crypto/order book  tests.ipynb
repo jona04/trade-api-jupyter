{
 "cells": [
  {
   "cell_type": "code",
   "execution_count": null,
   "id": "370ac17f-2362-42c5-82c5-cc7848bff168",
   "metadata": {},
   "outputs": [],
   "source": []
  },
  {
   "cell_type": "code",
   "execution_count": null,
   "id": "f8cbb657-fb10-4ac0-a402-f8fd1fc74ef5",
   "metadata": {},
   "outputs": [],
   "source": []
  },
  {
   "cell_type": "code",
   "execution_count": null,
   "id": "20fccb19-ab24-40ed-a8de-0b47c16dc112",
   "metadata": {},
   "outputs": [],
   "source": []
  },
  {
   "cell_type": "code",
   "execution_count": 21,
   "id": "886d450c-d427-48cf-abd4-40cd3241e896",
   "metadata": {},
   "outputs": [
    {
     "name": "stdout",
     "output_type": "stream",
     "text": [
      "Bids (Compras):\n",
      "Preço: 0.03186000, Quantidade: 20209.00000000\n",
      "Preço: 0.03185000, Quantidade: 18113.00000000\n",
      "Preço: 0.03184000, Quantidade: 57829.00000000\n",
      "Preço: 0.03183000, Quantidade: 101364.00000000\n",
      "Preço: 0.03182000, Quantidade: 67872.00000000\n",
      "Preço: 0.03181000, Quantidade: 52462.00000000\n",
      "Preço: 0.03180000, Quantidade: 157825.00000000\n",
      "Preço: 0.03179000, Quantidade: 159922.00000000\n",
      "Preço: 0.03178000, Quantidade: 57115.00000000\n",
      "Preço: 0.03177000, Quantidade: 33072.00000000\n",
      "\n",
      "Asks (Vendas):\n",
      "Preço: 0.03187000, Quantidade: 1657.00000000\n",
      "Preço: 0.03188000, Quantidade: 50293.00000000\n",
      "Preço: 0.03189000, Quantidade: 23385.00000000\n",
      "Preço: 0.03190000, Quantidade: 10051.00000000\n",
      "Preço: 0.03191000, Quantidade: 22595.00000000\n",
      "Preço: 0.03192000, Quantidade: 32194.00000000\n",
      "Preço: 0.03193000, Quantidade: 50303.00000000\n",
      "Preço: 0.03194000, Quantidade: 15157.00000000\n",
      "Preço: 0.03195000, Quantidade: 14921.00000000\n",
      "Preço: 0.03196000, Quantidade: 22106.00000000\n"
     ]
    }
   ],
   "source": [
    "import requests\n",
    "\n",
    "def get_spot_orderbook(symbol=\"BTCUSDT\", limit=10):\n",
    "    \"\"\"\n",
    "    Pega os dados do livro de ordens no mercado Spot da Binance.\n",
    "    \n",
    "    :param symbol: Par de negociação (ex.: BTCUSDT)\n",
    "    :param limit: Quantidade de níveis de preço (5, 10, 20, 50, 100 ou 500)\n",
    "    :return: Dados do order book\n",
    "    \"\"\"\n",
    "    base_url = \"https://api.binance.com/api/v3/depth\"\n",
    "    params = {\"symbol\": symbol, \"limit\": limit}\n",
    "\n",
    "    response = requests.get(base_url, params=params)\n",
    "\n",
    "    if response.status_code == 200:\n",
    "        data = response.json()\n",
    "        print(\"Bids (Compras):\")\n",
    "        for bid in data['bids']:\n",
    "            print(f\"Preço: {bid[0]}, Quantidade: {bid[1]}\")\n",
    "        print(\"\\nAsks (Vendas):\")\n",
    "        for ask in data['asks']:\n",
    "            print(f\"Preço: {ask[0]}, Quantidade: {ask[1]}\")\n",
    "        return data\n",
    "    else:\n",
    "        print(f\"Erro: {response.status_code} - {response.text}\")\n",
    "        return None\n",
    "\n",
    "# Exemplo de uso\n",
    "spot_orderbook = get_spot_orderbook(\"VIDTUSDT\", limit=10)\n"
   ]
  },
  {
   "cell_type": "code",
   "execution_count": null,
   "id": "9da7eeee-895b-420f-9177-bd0b292716d7",
   "metadata": {},
   "outputs": [],
   "source": []
  },
  {
   "cell_type": "code",
   "execution_count": 58,
   "id": "d2775fbe-6969-468f-8fd7-913599e120da",
   "metadata": {},
   "outputs": [
    {
     "name": "stdout",
     "output_type": "stream",
     "text": [
      "Bids (Compras):\n",
      "Preço: 0.0322500, Quantidade: 11374\n",
      "Preço: 0.0322400, Quantidade: 9753\n",
      "Preço: 0.0322300, Quantidade: 35417\n",
      "Preço: 0.0322200, Quantidade: 61695\n",
      "Preço: 0.0322100, Quantidade: 39734\n",
      "Preço: 0.0322000, Quantidade: 19783\n",
      "Preço: 0.0321900, Quantidade: 119929\n",
      "Preço: 0.0321800, Quantidade: 233049\n",
      "Preço: 0.0321700, Quantidade: 181334\n",
      "Preço: 0.0321600, Quantidade: 248653\n",
      "\n",
      "Asks (Vendas):\n",
      "Preço: 0.0322600, Quantidade: 1095\n",
      "Preço: 0.0322700, Quantidade: 37799\n",
      "Preço: 0.0322800, Quantidade: 61980\n",
      "Preço: 0.0322900, Quantidade: 103904\n",
      "Preço: 0.0323000, Quantidade: 146624\n",
      "Preço: 0.0323100, Quantidade: 268400\n",
      "Preço: 0.0323200, Quantidade: 184370\n",
      "Preço: 0.0323300, Quantidade: 179111\n",
      "Preço: 0.0323400, Quantidade: 163009\n",
      "Preço: 0.0323500, Quantidade: 312412\n"
     ]
    }
   ],
   "source": [
    "import requests\n",
    "\n",
    "def get_futures_orderbook(symbol=\"BTCUSDT\", limit=10):\n",
    "    \"\"\"\n",
    "    Pega os dados do livro de ordens no mercado de Futuros da Binance.\n",
    "    \n",
    "    :param symbol: Par de negociação (ex.: BTCUSDT)\n",
    "    :param limit: Quantidade de níveis de preço (5, 10, 20, 50, 100 ou 500)\n",
    "    :return: Dados do order book\n",
    "    \"\"\"\n",
    "    base_url = \"https://fapi.binance.com/fapi/v1/depth\"\n",
    "    params = {\"symbol\": symbol, \"limit\": limit}\n",
    "\n",
    "    response = requests.get(base_url, params=params)\n",
    "\n",
    "    if response.status_code == 200:\n",
    "        data = response.json()\n",
    "        print(\"Bids (Compras):\")\n",
    "        for bid in data['bids']:\n",
    "            print(f\"Preço: {bid[0]}, Quantidade: {bid[1]}\")\n",
    "        print(\"\\nAsks (Vendas):\")\n",
    "        for ask in data['asks']:\n",
    "            print(f\"Preço: {ask[0]}, Quantidade: {ask[1]}\")\n",
    "        return data\n",
    "    else:\n",
    "        print(f\"Erro: {response.status_code} - {response.text}\")\n",
    "        return None\n",
    "\n",
    "# Exemplo de uso\n",
    "futures_orderbook = get_futures_orderbook(\"VIDTUSDT\", limit=10)\n"
   ]
  },
  {
   "cell_type": "code",
   "execution_count": null,
   "id": "66777f8c-da2b-471e-b5dd-75d286ec6d17",
   "metadata": {},
   "outputs": [],
   "source": []
  },
  {
   "cell_type": "code",
   "execution_count": null,
   "id": "5fdf98c0-a1f1-4cf7-b98b-6a50244d7f85",
   "metadata": {},
   "outputs": [],
   "source": []
  },
  {
   "cell_type": "code",
   "execution_count": null,
   "id": "d7f262a9-5ab3-442c-b288-7f1ecd75824d",
   "metadata": {},
   "outputs": [],
   "source": []
  },
  {
   "cell_type": "code",
   "execution_count": null,
   "id": "05c013f9-a348-4718-ad83-1511f12c7426",
   "metadata": {},
   "outputs": [],
   "source": []
  },
  {
   "cell_type": "code",
   "execution_count": null,
   "id": "e287ce62-6ad9-462d-802e-da53aa5fae2d",
   "metadata": {},
   "outputs": [],
   "source": []
  },
  {
   "cell_type": "code",
   "execution_count": null,
   "id": "e39deeb6-2e5c-46ec-925b-0181b7c0716f",
   "metadata": {},
   "outputs": [],
   "source": []
  },
  {
   "cell_type": "code",
   "execution_count": null,
   "id": "3f43f864-1a86-4af1-8272-6509237a1dcf",
   "metadata": {},
   "outputs": [],
   "source": []
  },
  {
   "cell_type": "code",
   "execution_count": null,
   "id": "5dedfb6d-5db1-452d-a57d-34ff3cee45b1",
   "metadata": {},
   "outputs": [],
   "source": []
  },
  {
   "cell_type": "code",
   "execution_count": null,
   "id": "9830ff24-d4e8-46f0-a682-15ff3cd4a224",
   "metadata": {},
   "outputs": [],
   "source": []
  }
 ],
 "metadata": {
  "kernelspec": {
   "display_name": "Python 3 (ipykernel)",
   "language": "python",
   "name": "python3"
  },
  "language_info": {
   "codemirror_mode": {
    "name": "ipython",
    "version": 3
   },
   "file_extension": ".py",
   "mimetype": "text/x-python",
   "name": "python",
   "nbconvert_exporter": "python",
   "pygments_lexer": "ipython3",
   "version": "3.12.7"
  }
 },
 "nbformat": 4,
 "nbformat_minor": 5
}
